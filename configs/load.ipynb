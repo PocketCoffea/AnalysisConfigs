{
 "cells": [
  {
   "cell_type": "code",
   "execution_count": 43,
   "metadata": {},
   "outputs": [],
   "source": [
    "# load a coffea file\n",
    "from coffea.util import load\n",
    "\n",
    "input=\"HH4b/out_parton_matching/output_all.coffea\""
   ]
  },
  {
   "cell_type": "code",
   "execution_count": 44,
   "metadata": {},
   "outputs": [],
   "source": [
    "o = load(f\"{input}\")\n"
   ]
  },
  {
   "cell_type": "code",
   "execution_count": 45,
   "metadata": {},
   "outputs": [
    {
     "name": "stdout",
     "output_type": "stream",
     "text": [
      "{'GluGlutoHHto4B': {'GluGlutoHHto4B_kl-1p00_kt-1p00_c2-0p00_kl-1p00_kt-1p00_c2-0p00_2022': {'hh4b_parton_matching': {'PartonMatched_N': column_accumulator(array([4, 4, 4, ..., 4, 4, 4])), 'PartonMatched_provenance': column_accumulator(array([2., 1., 2., ..., 1., 2., 1.])), 'PartonMatched_pdgId': column_accumulator(array([-5., -5.,  5., ...,  5.,  5., -5.])), 'PartonMatched_dRMatchedJet': column_accumulator(array([0.00926851, 0.03207359, 0.07502043, ..., 0.00345267, 0.00196832,\n",
      "       0.03057612])), 'PartonMatched_genPartIdxMother': column_accumulator(array([14., 13., 14., ..., 19., 20., 19.])), 'PartonMatched_pt': column_accumulator(array([122.25 ,  54.375,  47.75 , ..., 177.   , 117.   ,  86.25 ])), 'PartonMatched_eta': column_accumulator(array([ 0.84765625, -0.04260254,  0.96484375, ..., -1.19140625,\n",
      "       -1.6640625 , -0.73828125])), 'PartonMatched_phi': column_accumulator(array([ 0.453125  , -2.109375  , -1.4453125 , ..., -0.98632812,\n",
      "        2.3671875 , -1.9140625 ])), 'JetGoodBtagOrderedMatched_N': column_accumulator(array([4, 4, 4, ..., 4, 4, 4])), 'JetGoodBtagOrderedMatched_provenance': column_accumulator(array([2., 1., 2., ..., 1., 2., 1.])), 'JetGoodBtagOrderedMatched_pdgId': column_accumulator(array([-5., -5.,  5., ...,  5.,  5., -5.])), 'JetGoodBtagOrderedMatched_dRMatchedJet': column_accumulator(array([0.00926851, 0.03207359, 0.07502043, ..., 0.00345267, 0.00196832,\n",
      "       0.03057612])), 'JetGoodBtagOrderedMatched_pt': column_accumulator(array([101.3125 ,  61.65625,  40.84375, ..., 183.     , 110.375  ,\n",
      "        93.8125 ])), 'JetGoodBtagOrderedMatched_eta': column_accumulator(array([ 0.8536377 , -0.06684875,  0.89318848, ..., -1.18896484,\n",
      "       -1.66381836, -0.71069336])), 'JetGoodBtagOrderedMatched_phi': column_accumulator(array([ 0.44604492, -2.13037109, -1.4675293 , ..., -0.98876953,\n",
      "        2.36523438, -1.90087891])), 'JetGoodBtagOrderedMatched_btagPNetB': column_accumulator(array([0.99755859, 0.9921875 , 0.91699219, ..., 0.97216797, 0.84472656,\n",
      "       0.48510742]))}}}}\n"
     ]
    }
   ],
   "source": [
    "print(o[\"columns\"])\n"
   ]
  },
  {
   "cell_type": "code",
   "execution_count": 46,
   "metadata": {},
   "outputs": [],
   "source": [
    "col=o[\"columns\"]['GluGlutoHHto4B']['GluGlutoHHto4B_kl-1p00_kt-1p00_c2-0p00_kl-1p00_kt-1p00_c2-0p00_2022']['hh4b_parton_matching']"
   ]
  },
  {
   "cell_type": "code",
   "execution_count": 54,
   "metadata": {},
   "outputs": [
    {
     "name": "stdout",
     "output_type": "stream",
     "text": [
      "[2. 1. 2. 1. 1. 2. 1. 2. 2. 1. 2. 1. 1. 1. 2. 2. 1. 1. 2. 2.]\n",
      "[14. 13. 14. 13. 22. 23. 22. 23. 16. 15. 16. 15. 15. 15. 16. 16. 19. 19.\n",
      " 20. 20.]\n",
      "[-5. -5.  5.  5.  5. -5. -5.  5.  5.  5. -5. -5. -5.  5. -5.  5. -5.  5.\n",
      " -5.  5.]\n"
     ]
    }
   ],
   "source": [
    "print(col['PartonMatched_provenance'].value[:20])\n",
    "print(col['PartonMatched_genPartIdxMother'].value[:20])\n",
    "print(col['PartonMatched_pdgId'].value[:20])\n"
   ]
  },
  {
   "cell_type": "code",
   "execution_count": 48,
   "metadata": {},
   "outputs": [
    {
     "name": "stdout",
     "output_type": "stream",
     "text": [
      "3274\n",
      "3274\n"
     ]
    }
   ],
   "source": [
    "print(len(col['PartonMatched_provenance'].value[col['PartonMatched_provenance'].value==1]))\n",
    "print(len(col['PartonMatched_provenance'].value[col['PartonMatched_provenance'].value==2]))\n"
   ]
  },
  {
   "cell_type": "code",
   "execution_count": 49,
   "metadata": {},
   "outputs": [
    {
     "name": "stdout",
     "output_type": "stream",
     "text": [
      "[0.38421693 0.38795206 0.39901423 0.3845118  0.39556155 0.39601389\n",
      " 0.38656268 0.38627967 0.39043057 0.38141891 0.39214793 0.39544368\n",
      " 0.39579782]\n",
      "[0.38421693 0.38795206 0.39901423 0.3845118  0.39556155 0.39601389\n",
      " 0.38656268 0.38627967 0.39043057 0.38141891 0.39214793 0.39544368\n",
      " 0.39579782]\n",
      "[0.99951172 0.99316406 0.96240234 0.76708984 0.99902344 0.99560547\n",
      " 0.99560547 0.29931641 0.99609375 0.98779297 0.97998047 0.94091797\n",
      " 0.99902344 0.99902344 0.99804688 0.79589844]\n"
     ]
    }
   ],
   "source": [
    "dr1=col['JetGoodBtagOrderedMatched_dRMatchedJet'].value\n",
    "dr2=col['PartonMatched_dRMatchedJet'].value\n",
    "print(dr1[dr1>0.38])\n",
    "print(dr2[dr2>0.38])\n",
    "len(dr1)\n",
    "i=16\n",
    "pnet=col['JetGoodBtagOrderedMatched_btagPNetB'].value\n",
    "print(pnet[i:i+16])\n"
   ]
  },
  {
   "cell_type": "code",
   "execution_count": 53,
   "metadata": {},
   "outputs": [
    {
     "name": "stdout",
     "output_type": "stream",
     "text": [
      "[0.99755859 0.9921875  0.91699219 0.4296875  0.9296875  0.87597656\n",
      " 0.87060547 0.43652344 0.99951172 0.99902344 0.99316406 0.39257812\n",
      " 0.99560547 0.98291016 0.69189453 0.35351562 0.99951172 0.99316406\n",
      " 0.96240234 0.76708984]\n",
      "[101.3125   61.65625  40.84375  68.3125   96.      124.8125  142.875\n",
      "  52.40625 197.75    183.375   122.0625   56.71875  40.3125  140.125\n",
      " 234.      132.125   227.125   214.      363.5     116.0625 ]\n",
      "[ 0.8536377  -0.06684875  0.89318848  0.81604004  1.43310547  0.11114502\n",
      "  1.89135742  1.71533203 -1.60571289 -0.03614044 -1.39794922  0.70153809\n",
      " -0.45733643  0.25946045  0.24423218  0.05757141 -0.14871216 -0.60693359\n",
      " -1.29492188 -1.55126953]\n",
      "[ 0.44604492 -2.13037109 -1.4675293   2.60644531  1.16455078 -2.88476562\n",
      "  0.28289795 -2.59912109  2.90380859  0.32592773 -2.73535156  0.65698242\n",
      " -2.33789062 -1.84863281  1.23217773  0.49981689 -0.5345459  -0.57714844\n",
      "  2.68164062  3.04589844]\n"
     ]
    }
   ],
   "source": [
    "print(col['JetGoodBtagOrderedMatched_btagPNetB'].value[:20])\n",
    "print(col['JetGoodBtagOrderedMatched_pt'].value[:20])\n",
    "print(col['JetGoodBtagOrderedMatched_eta'].value[:20])\n",
    "print(col['JetGoodBtagOrderedMatched_phi'].value[:20])\n"
   ]
  },
  {
   "cell_type": "code",
   "execution_count": null,
   "metadata": {},
   "outputs": [],
   "source": []
  }
 ],
 "metadata": {
  "kernelspec": {
   "display_name": "Python 3",
   "language": "python",
   "name": "python3"
  },
  "language_info": {
   "codemirror_mode": {
    "name": "ipython",
    "version": 3
   },
   "file_extension": ".py",
   "mimetype": "text/x-python",
   "name": "python",
   "nbconvert_exporter": "python",
   "pygments_lexer": "ipython3",
   "version": "3.9.18"
  }
 },
 "nbformat": 4,
 "nbformat_minor": 2
}
