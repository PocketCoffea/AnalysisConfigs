{
 "cells": [
  {
   "cell_type": "code",
   "execution_count": 1,
   "metadata": {},
   "outputs": [
    {
     "name": "stderr",
     "output_type": "stream",
     "text": [
      "/t3home/mmalucch/micromamba/envs/pocket-coffea/lib/python3.9/site-packages/coffea/util.py:154: FutureWarning: In coffea version v2023.3.0 (target date: 31 Mar 2023), this will be an error.\n",
      "(Set coffea.deprecations_as_errors = True to get a stack trace now.)\n",
      "ImportError: coffea.hist is deprecated\n",
      "  warnings.warn(message, FutureWarning)\n"
     ]
    }
   ],
   "source": [
    "from coffea.nanoevents import NanoEventsFactory, NanoAODSchema\n",
    "from coffea import hist, processor\n",
    "from pocket_coffea.parameters import defaults\n",
    "import numpy as np\n",
    "import awkward as ak\n",
    "import matplotlib.pyplot as plt\n",
    "from hist import Hist\n",
    "\n",
    "import sys\n",
    "import os\n",
    "\n",
    "from custom_cut_functions import *\n",
    "from custom_cuts import *"
   ]
  },
  {
   "cell_type": "code",
   "execution_count": 2,
   "metadata": {},
   "outputs": [
    {
     "name": "stdout",
     "output_type": "stream",
     "text": [
      "Events read: 3\n"
     ]
    }
   ],
   "source": [
    "filename =\"root://storage01.lcg.cscs.ch:1096//pnfs/lcg.cscs.ch/cms/trivcat//store/mc/Run3Summer22EENanoAODv12/GluGlutoHHto4B_kl-1p00_kt-1p00_c2-0p00_TuneCP5_13p6TeV_powheg-pythia8/NANOAODSIM/Poisson60KeepRAW_130X_mcRun3_2022_realistic_postEE_v6-v2/50000/fc603037-ef65-4bbf-9cef-934ecec40bbe.root\"\n",
    "events = NanoEventsFactory.from_root(filename, schemaclass=NanoAODSchema, entry_stop=3).events()\n",
    "print(\"Events read:\", len(events))"
   ]
  },
  {
   "cell_type": "code",
   "execution_count": 19,
   "metadata": {},
   "outputs": [
    {
     "name": "stdout",
     "output_type": "stream",
     "text": [
      "[[GenParticle, GenParticle, GenParticle, ... GenParticle, GenParticle, GenParticle]]\n",
      "[535, 585, 338]\n",
      "[51.2, 29, 84.4]\n",
      "[257, 78.2, 159]\n",
      "[217, 98, 75.5]\n"
     ]
    }
   ],
   "source": [
    "# print(events.fields)\n",
    "# print(events.Electron.fields)\n",
    "print(events.GenPart)\n",
    "sum_p4=events.GenPart[:,2]+events.GenPart[:,3]\n",
    "print(sum_p4.mass)\n",
    "print(sum_p4.pt)\n",
    "print(events.GenPart[:,2].pt)\n",
    "print(events.GenPart[:,3].pt)"
   ]
  },
  {
   "cell_type": "code",
   "execution_count": 4,
   "metadata": {},
   "outputs": [],
   "source": [
    "default_parameters = defaults.get_default_parameters()\n",
    "defaults.register_configuration_dir(\"config_dir\", \"/params\")\n",
    "\n",
    "parameters = defaults.merge_parameters_from_files(    default_parameters,\n",
    "    f\"params/object_preselection.yaml\",\n",
    "    f\"params/triggers.yaml\",\n",
    "    # f\"{localdir}/params/lepton_scale_factors.yaml\",\n",
    "    # f\"{localdir}/params/plotting_style.yaml\",\n",
    "    update=True,\n",
    ")\n",
    "# print(parameters[\"object_preselection\"][\"Muon\"][\"pt\"])"
   ]
  },
  {
   "cell_type": "code",
   "execution_count": 5,
   "metadata": {},
   "outputs": [
    {
     "name": "stdout",
     "output_type": "stream",
     "text": [
      "[[21, 21, 25, 25, 21], [21, 21, 25, 25, ... 21, 25, 25, 21], [21, 21, 25, 25, 21]]\n",
      "[[False, False, True, True, True], [False, ... [False, False, True, True, True]]\n",
      "20\n",
      "[5, 21, 25, 25, 5]\n"
     ]
    }
   ],
   "source": [
    "print(events.LHEPart.pdgId)\n",
    "\n",
    "# Select b-quarks at LHE level\n",
    "isOutgoing = events.LHEPart.status == 1\n",
    "print(isOutgoing)\n",
    "\n",
    "isB = abs(events.LHEPart.pdgId) == 5\n",
    "# print only events with at least one b-quark\n",
    "for     i in range(len(isB)):\n",
    "    if len(isB[isB][i]) > 0:\n",
    "        print(i)\n",
    "        print(events.LHEPart.pdgId[i])\n",
    "        break\n",
    "bquarks = events.LHEPart[isB & isOutgoing]"
   ]
  },
  {
   "cell_type": "code",
   "execution_count": 6,
   "metadata": {},
   "outputs": [
    {
     "name": "stdout",
     "output_type": "stream",
     "text": [
      "[5, 21, 25, 25, 5]\n",
      "[True, False, False, False, True, False, ... False, False, False, False, False]\n",
      "[5, 25, 25, 5, 25, 25, 25, 25, 25, 25, 25, ... 5, -5, 5, -5, 5, 5, -5, -5, 5, -5, 5]\n"
     ]
    }
   ],
   "source": [
    "e=events[20]\n",
    "print(e.LHEPart.pdgId)\n",
    "pdg_gen = e.GenPart.pdgId\n",
    "print(pdg_gen==5)\n",
    "# select b-quarks at Gen level\n",
    "isB = abs(pdg_gen) == 5\n",
    "# select higgs at Gen level\n",
    "isH = pdg_gen == 25\n",
    "print(pdg_gen[isB | isH])\n",
    "\n",
    "b_higgs = e.GenPart[isB | isH]\n"
   ]
  },
  {
   "cell_type": "code",
   "execution_count": 7,
   "metadata": {},
   "outputs": [
    {
     "name": "stdout",
     "output_type": "stream",
     "text": [
      "102 [5, 21, 25, 25, 5, 25, 25, 25, 25, 25, ... -11, 221, 111, 111, 111, 22, 22, 22, 22]\n",
      "102 [[1282, 1283, 1284], [], [1285], [1286], [1298, ... [1380], [1381], [], [], [], []]\n",
      "102 [[25, 25, 5], [], [25], [25], [5], [25], ... 22], [22], [22], [22], [], [], [], []]\n",
      "31 [5, 25, 25, 5, 25, 25, 25, 25, 25, 25, 25, ... 5, -5, 5, -5, 5, 5, -5, -5, 5, -5, 5]\n",
      "31 [[1282, 1283, 1284], [1285], [1286], [1298], ... [1323], [], [], [], [], [], []]\n",
      "31 [[25, 25, 5], [25], [25], [5], [25], [25, ... 111, 111], [5], [], [], [], [], [], []]\n"
     ]
    }
   ],
   "source": [
    "isHiggs = b_higgs.pdgId == 25\n",
    "isHard = b_higgs.hasFlags([\"fromHardProcess\"])\n",
    "hasTwoChildren = ak.num(b_higgs.childrenIdxG, axis=1) == 2\n",
    "# print(events.GenPart.childrenIdxG)\n",
    "# print(ak.num(events.GenPart.childrenIdxG, axis=2))\n",
    "\n",
    "print(len(e.GenPart.pdgId), e.GenPart.pdgId)\n",
    "print(len(e.GenPart.childrenIdxG), e.GenPart.childrenIdxG)\n",
    "print(len(e.GenPart.children.pdgId), e.GenPart.children.pdgId\n",
    "      )\n",
    "\n",
    "print(len(b_higgs), b_higgs.pdgId\n",
    "      )\n",
    "print(len(b_higgs.childrenIdxG), b_higgs.childrenIdxG\n",
    "      )\n",
    "print(len(b_higgs.children.pdgId), b_higgs.children.pdgId\n",
    "      )\n",
    "\n",
    "# print(isHiggs)\n",
    "# print(isHard)\n",
    "# print(hasTwoChildren)"
   ]
  },
  {
   "cell_type": "code",
   "execution_count": 28,
   "metadata": {},
   "outputs": [
    {
     "name": "stdout",
     "output_type": "stream",
     "text": [
      "[[False, False, False, False, False, False, ... False, False, False, False, False]]\n",
      "[[[2, 3, 4], [], [5], [6], [11, 12, 22, 23, ... [], [], [], [200], [201], [], []]]\n",
      "[[3, 0, 1, 1, 11, 1, 1, 1, 1, 1, 1, 1, 1, ... 0, 0, 1, 2, 2, 0, 0, 0, 0, 1, 1, 0, 0]]\n",
      "[[[17, 18], [19, 20]], [[87, 88], [89, 90]], [[154, 155], [156, 157]]] [[[5, -5], [5, -5]], [[5, -5], [5, -5]], [[5, -5], [5, -5]]]\n",
      "[[[5, -5], [5, -5]], [[5, -5], [5, -5]], [[5, -5], [5, -5]]]\n",
      "[[[15, 15], [16, 16]], [[14, 14], [15, 15]], [[15, 15], [16, 16]]]\n",
      "[[5, -5, 5, -5], [5, -5, 5, -5], [5, -5, 5, -5]]\n",
      "[[15, 15, 16, 16], [14, 14, 15, 15], [15, 15, 16, 16]]\n",
      "pt [[265, 209], [87.2, 108], [162, 72.8]] 3\n",
      "[[5, 5, 5, -5, -5, 5], [5, 5, 5, -5, -5, 5], [5, 5, 5, -5, -5, 5]]\n",
      "[[-5, 5, -5, 5, -5, -5], [-5, 5, -5, 5, -5, -5], [-5, 5, -5, 5, -5, -5]]\n",
      "[[15, 15, 15, 15, 15, 16], [14, 14, 14, 14, 14, 15], [15, 15, 15, 15, 15, 16]]\n",
      "[[15, 16, 16, 16, 16, 16], [14, 15, 15, 15, 15, 15], [15, 16, 16, 16, 16, 16]]\n",
      "[[True, False, False, False, False, True, ... False, False, False, False, True]]\n",
      "[[(GenParticle, GenParticle), (GenParticle, ... ), (GenParticle, GenParticle)]]\n",
      "[[(0, 1), (0, 2), (0, 3), (1, 2), (1, 3), (2, ... ), (0, 3), (1, 2), (1, 3), (2, 3)]]\n",
      "(<Array [[0, 0, 0, 1, 1, 2, ... 0, 0, 1, 1, 2]] type='3 * var * int64'>, <Array [[1, 2, 3, 2, 3, 3, ... 2, 3, 2, 3, 3]] type='3 * var * int64'>)\n",
      "[[(0, 1), (2, 3)], [(0, 1), (2, 3)], [(0, 1), (2, 3)]]\n",
      "(<Array [[0, 2], [0, 2], [0, 2]] type='3 * var * ?int64'>, <Array [[1, 3], [1, 3], [1, 3]] type='3 * var * ?int64'>)\n",
      "[(0, 1), (0, 1), (0, 1)]\n",
      "[(2, 3), (2, 3), (2, 3)]\n",
      "[0, 0, 0]\n",
      "[[5, 5, 5], [5, 5, 5], [5, 5, 5]] [[15, 15, 15], [14, 14, 14], [15, 15, 15]] [[GenParticle, GenParticle, GenParticle], ... GenParticle, GenParticle, GenParticle]]\n",
      "[[-5, -5, -5], [-5, -5, -5], [-5, -5, -5]] [[15, 15, 15], [14, 14, 14], [15, 15, 15]] [[GenParticle, GenParticle, GenParticle], ... GenParticle, GenParticle, GenParticle]]\n",
      "[[5, 5, 5], [5, 5, 5], [5, 5, 5]] [[16, 16, 16], [15, 15, 15], [16, 16, 16]] [[GenParticle, GenParticle, GenParticle], ... GenParticle, GenParticle, GenParticle]]\n",
      "[[-5, -5, -5], [-5, -5, -5], [-5, -5, -5]] [[16, 16, 16], [15, 15, 15], [16, 16, 16]] [[GenParticle, GenParticle, GenParticle], ... GenParticle, GenParticle, GenParticle]]\n",
      "0\n",
      "[0, 0, 0] [1, 1, 1]\n",
      "1\n",
      "[2, 2, 2] [3, 3, 3]\n",
      "[[1 1 2 2]\n",
      " [1 1 2 2]\n",
      " [1 1 2 2]]\n",
      "[[1, 1, 2, 2], [1, 1, 2, 2], [1, 1, 2, 2]]\n",
      "[[5, -5, 5, -5], [5, -5, 5, -5], [5, -5, 5, -5]]\n",
      "[[15, 15, 16, 16], [14, 14, 15, 15], [15, 15, 16, 16]]\n"
     ]
    }
   ],
   "source": [
    "i = 1\n",
    "\n",
    "j = i + 1\n",
    "gen = events.GenPart#[i:j]\n",
    "# print(\"gen\", gen.pdgId)\n",
    "isHiggs = gen.pdgId == 25\n",
    "isHard = gen.hasFlags([\"fromHardProcess\"])\n",
    "isLastCopy = gen.hasFlags([\"isLastCopy\"])\n",
    "isFirstCopy = gen.hasFlags([\"isFirstCopy\"])\n",
    "isB = abs(gen.pdgId) == 5\n",
    "hasTwoChildren = ak.num(gen.childrenIdxG, axis=2)==2\n",
    "print(hasTwoChildren)\n",
    "print(gen.childrenIdxG)\n",
    "print(ak.num(gen.childrenIdxG, axis=2))\n",
    "\n",
    "\n",
    "\n",
    "# print(hasTwoChildren[isHiggs & isLastCopy])\n",
    "# print(gen[isHiggs & isHard].childrenIdxG)\n",
    "\n",
    "# print(gen[isHiggs].hasFlags([\"isLastCopy\"]))\n",
    "# print(gen[isHiggs].children.pdgId)\n",
    "# print(gen[isHiggs & hasTwoChildren].children.pdgId)\n",
    "# print(gen[isHiggs].childrenIdxG)\n",
    "\n",
    "higgs = gen[isHiggs & isHard & isLastCopy & hasTwoChildren]\n",
    "# higgs_loose = gen[isHiggs & isHard & isLastCopy]\n",
    "# num_higgs = ak.num(higgs_loose, axis=1)\n",
    "# print(num_higgs, len(num_higgs))\n",
    "# print(gen[num_higgs!=2].pdgId, len(gen[num_higgs==2].pdgId))\n",
    "print(higgs.childrenIdxG, higgs.children.pdgId)\n",
    "bquarks = ak.flatten(higgs.children, axis=2)  # [isB & isHard & isFirstCopy]\n",
    "tot_b = gen[isB & isHard]\n",
    "b_unflattened = higgs.children\n",
    "print(b_unflattened.pdgId)\n",
    "print(b_unflattened.genPartIdxMother)\n",
    "print(bquarks.pdgId)\n",
    "print(bquarks.genPartIdxMother)\n",
    "\n",
    "all_higgs = gen[isHiggs & isHard]\n",
    "print(\"pt\", higgs.pt, len(higgs.pt))\n",
    "\n",
    "\n",
    "b_pairs = ak.combinations(bquarks, 2)\n",
    "print(b_pairs[\"0\"].pdgId)\n",
    "print(b_pairs[\"1\"].pdgId)\n",
    "print(b_pairs[\"0\"].genPartIdxMother)\n",
    "print(b_pairs[\"1\"].genPartIdxMother)\n",
    "\n",
    "\n",
    "# given each bquark pair, i want to check if the two bquarks come from the same higgs or not\n",
    "same_higgs = (b_pairs[\"0\"].genPartIdxMother == b_pairs[\"1\"].genPartIdxMother)\n",
    "\n",
    "print(same_higgs)\n",
    "b_pairs = b_pairs[same_higgs]\n",
    "print(b_pairs)\n",
    "\n",
    "b_pairs_idx = ak.argcombinations(bquarks, 2)\n",
    "print(b_pairs_idx )\n",
    "\n",
    "unz= ak.unzip(b_pairs_idx)\n",
    "print(unz)\n",
    "\n",
    "b_pairs_idx=b_pairs_idx[same_higgs]\n",
    "print(b_pairs_idx)\n",
    "print(ak.unzip(b_pairs_idx))\n",
    "b_pair_first =b_pairs_idx[:,0]\n",
    "b_pair_second =b_pairs_idx[:,1]\n",
    "\n",
    "print(b_pair_first)\n",
    "print(b_pair_second)\n",
    "\n",
    "\n",
    "print(b_pair_first[:][\"0\"])\n",
    "\n",
    "b11=bquarks[:,b_pair_first[:][\"0\"]]\n",
    "print(b11.pdgId, b11.genPartIdxMother, b11)\n",
    "b12=bquarks[:,b_pair_first[:][\"1\"]]\n",
    "print(b12.pdgId, b12.genPartIdxMother, b12)\n",
    "b21=bquarks[:,b_pair_second[:][\"0\"]]\n",
    "print(b21.pdgId, b21.genPartIdxMother, b21)\n",
    "b22=bquarks[:,b_pair_second[:][\"1\"]]\n",
    "print(b22.pdgId, b22.genPartIdxMother, b22)\n",
    "\n",
    "\n",
    "\n",
    "provenance = ak.zeros_like(bquarks.pdgId)\n",
    "provenance = ak.to_numpy(provenance)\n",
    "\n",
    "\n",
    "for k in [0,1]:\n",
    "    print(k)\n",
    "    print(b_pairs_idx[:,k][\"0\"], b_pairs_idx[:,k][\"1\"])\n",
    "    provenance[:,b_pairs_idx[:,k][\"0\"]] = k+1\n",
    "    provenance[:,b_pairs_idx[:,k][\"1\"]] = k+1\n",
    "\n",
    "print(provenance)\n",
    "\n",
    "\n",
    "\n",
    "\n",
    "# add a field to bquarks which says if the bquark comes from the first or second higgs\n",
    "bquarks=ak.with_field(bquarks, provenance, \"provenance\")\n",
    "print(bquarks.provenance)\n",
    "print(bquarks.pdgId)\n",
    "print(bquarks.genPartIdxMother)"
   ]
  },
  {
   "cell_type": "code",
   "execution_count": 27,
   "metadata": {},
   "outputs": [
    {
     "name": "stdout",
     "output_type": "stream",
     "text": [
      "[[0, 0, 0], [0, 0, 0], [0, 0, 0]]\n",
      "[[0, 0, 0], [0, 0, 0], [0, 0, 0]]\n",
      "[[73.1, 73.1, 73.1], [-41.6, -41.6, -41.6], [-46.4, -46.4, -46.4]]\n",
      "[[-43.7, -43.7, -43.7], [59.8, 59.8, 59.8], [-107, -107, -107]]\n",
      "[[-105, -105, -105], [-14.2, -14.2, -14.2], [-18.3, -18.3, -18.3]]\n",
      "[[-159, -159, -159], [-71.3, -71.3, -71.3], [73.4, 73.4, 73.4]]\n",
      "[[111, 111, 111], [-29.4, -29.4, -29.4], [201, 201, 201]]\n",
      "[[171, 171, 171], [-223, -223, -223], [139, 139, 139]]\n",
      "[[170, 170, 170], [52.9, 52.9, 52.9], [207, 207, 207]]\n",
      "[[237, 237, 237], [242, 242, 242], [190, 190, 190]]\n",
      "[[{x: 29.4, y: -264, z: 282, t: 407}, {x: 29.4, ... y: 55.1, z: 340, t: 397}]]\n",
      "[[125, 125, 125], [124, 124, 124], [125, 125, 125]]\n"
     ]
    }
   ],
   "source": [
    "# compute invariant mass of each bquark pair with the same provenance\n",
    "higgs1=b11+b12\n",
    "print(b11.mass)\n",
    "print(b12.mass)\n",
    "print(b11.px)\n",
    "print(b12.px)\n",
    "print(b11.py)\n",
    "print(b12.py)\n",
    "print(b11.pz)\n",
    "print(b12.pz)\n",
    "print(b11.energy)\n",
    "print(b12.energy)\n",
    "print(higgs1)\n",
    "print(higgs1.mass)\n"
   ]
  },
  {
   "cell_type": "code",
   "execution_count": 107,
   "metadata": {},
   "outputs": [],
   "source": [
    "\n",
    "minDR=0.4\n",
    "# Compute deltaR(b, jet) and save the nearest jet (deltaR matching)\n",
    "deltaR = ak.flatten(bquarks.metric_table(events.Jet), axis=2)\n",
    "# keeping only the pairs with a deltaR min\n",
    "maskDR = deltaR<  minDR\n",
    "deltaRcut = deltaR[maskDR]\n",
    "idx_pairs_sorted = ak.argsort(deltaRcut, axis=1)\n",
    "pairs = ak.argcartesian([bquarks, events.Jet])[maskDR]\n",
    "pairs_sorted = pairs[idx_pairs_sorted]\n",
    "idx_bquarks, idx_JetGood = ak.unzip(pairs_sorted)"
   ]
  },
  {
   "cell_type": "code",
   "execution_count": null,
   "metadata": {},
   "outputs": [],
   "source": []
  }
 ],
 "metadata": {
  "kernelspec": {
   "display_name": "Python 3",
   "language": "python",
   "name": "python3"
  },
  "language_info": {
   "codemirror_mode": {
    "name": "ipython",
    "version": 3
   },
   "file_extension": ".py",
   "mimetype": "text/x-python",
   "name": "python",
   "nbconvert_exporter": "python",
   "pygments_lexer": "ipython3",
   "version": "3.9.18"
  }
 },
 "nbformat": 4,
 "nbformat_minor": 2
}
