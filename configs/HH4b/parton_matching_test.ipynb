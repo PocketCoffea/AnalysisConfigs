{
 "cells": [
  {
   "cell_type": "code",
   "execution_count": 1,
   "metadata": {},
   "outputs": [
    {
     "name": "stderr",
     "output_type": "stream",
     "text": [
      "/t3home/mmalucch/micromamba/envs/pocket-coffea/lib/python3.9/site-packages/coffea/util.py:154: FutureWarning: In coffea version v2023.3.0 (target date: 31 Mar 2023), this will be an error.\n",
      "(Set coffea.deprecations_as_errors = True to get a stack trace now.)\n",
      "ImportError: coffea.hist is deprecated\n",
      "  warnings.warn(message, FutureWarning)\n"
     ]
    }
   ],
   "source": [
    "from coffea.nanoevents import NanoEventsFactory, NanoAODSchema\n",
    "from coffea import hist, processor\n",
    "from pocket_coffea.parameters import defaults\n",
    "import numpy as np\n",
    "import awkward as ak\n",
    "import matplotlib.pyplot as plt\n",
    "from hist import Hist\n",
    "\n",
    "import sys\n",
    "import os\n",
    "\n",
    "from custom_cut_functions import *\n",
    "from custom_cuts import *"
   ]
  },
  {
   "cell_type": "code",
   "execution_count": 2,
   "metadata": {},
   "outputs": [
    {
     "name": "stdout",
     "output_type": "stream",
     "text": [
      "Events read: 57232\n"
     ]
    }
   ],
   "source": [
    "\n",
    "\n",
    "filename =\"root://storage01.lcg.cscs.ch:1096//pnfs/lcg.cscs.ch/cms/trivcat//store/mc/Run3Summer22EENanoAODv12/GluGlutoHHto4B_kl-1p00_kt-1p00_c2-0p00_TuneCP5_13p6TeV_powheg-pythia8/NANOAODSIM/Poisson60KeepRAW_130X_mcRun3_2022_realistic_postEE_v6-v2/50000/fc603037-ef65-4bbf-9cef-934ecec40bbe.root\"\n",
    "events = NanoEventsFactory.from_root(filename, schemaclass=NanoAODSchema, entry_stop=100000).events()\n",
    "print(\"Events read:\", len(events))"
   ]
  },
  {
   "cell_type": "code",
   "execution_count": 3,
   "metadata": {},
   "outputs": [
    {
     "name": "stdout",
     "output_type": "stream",
     "text": [
      "['DeepMETResolutionTune', 'TkMET', 'SV', 'LHEReweightingWeight', 'MET', 'TrigObj', 'LHE', 'boostedTau', 'LowPtElectron', 'BeamSpot', 'GenJet', 'Generator', 'Flag', 'CorrT1METJet', 'genWeight', 'GenVisTau', 'FsrPhoton', 'HLTriggerFinalPath', 'Tau', 'IsoTrack', 'SoftActivityJetHT5', 'SoftActivityJetNjets5', 'SoftActivityJetHT10', 'event', 'L1', 'PuppiMET', 'SoftActivityJetHT', 'FatJet', 'GenDressedLepton', 'LHEPdfWeight', 'L1Reco', 'Photon', 'SoftActivityJetNjets10', 'DeepMETResponseTune', 'genTtbarId', 'L1simulation', 'Rho', 'HLTriggerFirstPath', 'SoftActivityJet', 'Muon', 'run', 'LHEWeight', 'Electron', 'PV', 'GenMET', 'GenProton', 'bunchCrossing', 'Jet', 'HLT', 'SubGenJetAK8', 'ChsMET', 'GenIsolatedPhoton', 'PSWeight', 'GenVtx', 'OtherPV', 'luminosityBlock', 'RawMET', 'SoftActivityJetHT2', 'SubJet', 'LHEScaleWeight', 'LHEPart', 'HTXS', 'SoftActivityJetNjets2', 'Pileup', 'CaloMET', 'GenJetAK8', 'RawPuppiMET', 'GenPart']\n",
      "['seediEtaOriX', 'convVeto', 'cutBased', 'cutBased_HEEP', 'isPFcand', 'jetNDauCharged', 'lostHits', 'mvaIso_WP80', 'mvaIso_WP90', 'mvaNoIso_WP80', 'mvaNoIso_WP90', 'seedGain', 'tightCharge', 'jetIdx', 'photonIdx', 'svIdx', 'fsrPhotonIdx', 'charge', 'pdgId', 'seediPhiOriY', 'vidNestedWPBitmap', 'vidNestedWPBitmapHEEP', 'deltaEtaSC', 'dr03EcalRecHitSumEt', 'dr03HcalDepth1TowerSumEt', 'dr03TkSumPt', 'dr03TkSumPtHEEP', 'dxy', 'dxyErr', 'dz', 'dzErr', 'eInvMinusPInv', 'energyErr', 'eta', 'hoe', 'ip3d', 'jetPtRelv2', 'jetRelIso', 'mass', 'miniPFRelIso_all', 'miniPFRelIso_chg', 'mvaHZZIso', 'mvaIso', 'mvaNoIso', 'pfRelIso03_all', 'pfRelIso03_chg', 'phi', 'pt', 'r9', 'scEtOverPt', 'sieie', 'sip3d', 'mvaTTH', 'genPartFlav', 'genPartIdx', 'genPartIdxG', 'jetIdxG', 'photonIdxG']\n",
      "[[], [], [25.4, 15.1, 11.2, 10.4], [18, 11.6, ... [7.36], [22.8], [], [6.35, 5.33]]\n"
     ]
    }
   ],
   "source": [
    "print(events.fields)\n",
    "print(events.Electron.fields)\n",
    "print(events.Electron.pt)"
   ]
  },
  {
   "cell_type": "code",
   "execution_count": 4,
   "metadata": {},
   "outputs": [],
   "source": [
    "default_parameters = defaults.get_default_parameters()\n",
    "defaults.register_configuration_dir(\"config_dir\", \"/params\")\n",
    "\n",
    "parameters = defaults.merge_parameters_from_files(    default_parameters,\n",
    "    f\"params/object_preselection.yaml\",\n",
    "    f\"params/triggers.yaml\",\n",
    "    # f\"{localdir}/params/lepton_scale_factors.yaml\",\n",
    "    # f\"{localdir}/params/plotting_style.yaml\",\n",
    "    update=True,\n",
    ")\n",
    "# print(parameters[\"object_preselection\"][\"Muon\"][\"pt\"])"
   ]
  },
  {
   "cell_type": "code",
   "execution_count": 5,
   "metadata": {},
   "outputs": [
    {
     "name": "stdout",
     "output_type": "stream",
     "text": [
      "[[21, 21, 25, 25, 21], [21, 21, 25, 25, ... 21, 25, 25, 21], [21, 21, 25, 25, 21]]\n",
      "[[False, False, True, True, True], [False, ... [False, False, True, True, True]]\n",
      "20\n",
      "[5, 21, 25, 25, 5]\n"
     ]
    }
   ],
   "source": [
    "print(events.LHEPart.pdgId)\n",
    "\n",
    "# Select b-quarks at LHE level\n",
    "isOutgoing = events.LHEPart.status == 1\n",
    "print(isOutgoing)\n",
    "\n",
    "isB = abs(events.LHEPart.pdgId) == 5\n",
    "# print only events with at least one b-quark\n",
    "for     i in range(len(isB)):\n",
    "    if len(isB[isB][i]) > 0:\n",
    "        print(i)\n",
    "        print(events.LHEPart.pdgId[i])\n",
    "        break\n",
    "bquarks = events.LHEPart[isB & isOutgoing]"
   ]
  },
  {
   "cell_type": "code",
   "execution_count": 6,
   "metadata": {},
   "outputs": [
    {
     "name": "stdout",
     "output_type": "stream",
     "text": [
      "[5, 21, 25, 25, 5]\n",
      "[True, False, False, False, True, False, ... False, False, False, False, False]\n",
      "[5, 25, 25, 5, 25, 25, 25, 25, 25, 25, 25, ... 5, -5, 5, -5, 5, 5, -5, -5, 5, -5, 5]\n"
     ]
    }
   ],
   "source": [
    "e=events[20]\n",
    "print(e.LHEPart.pdgId)\n",
    "pdg_gen = e.GenPart.pdgId\n",
    "print(pdg_gen==5)\n",
    "# select b-quarks at Gen level\n",
    "isB = abs(pdg_gen) == 5\n",
    "# select higgs at Gen level\n",
    "isH = pdg_gen == 25\n",
    "print(pdg_gen[isB | isH])\n",
    "\n",
    "b_higgs = e.GenPart[isB | isH]\n"
   ]
  },
  {
   "cell_type": "code",
   "execution_count": 16,
   "metadata": {},
   "outputs": [
    {
     "name": "stdout",
     "output_type": "stream",
     "text": [
      "102 [5, 21, 25, 25, 5, 25, 25, 25, 25, 25, ... -11, 221, 111, 111, 111, 22, 22, 22, 22]\n",
      "102 [[1282, 1283, 1284], [], [1285], [1286], [1298, ... [1380], [1381], [], [], [], []]\n",
      "102 [[25, 25, 5], [], [25], [25], [5], [25], ... 22], [22], [22], [22], [], [], [], []]\n",
      "31 [5, 25, 25, 5, 25, 25, 25, 25, 25, 25, 25, ... 5, -5, 5, -5, 5, 5, -5, -5, 5, -5, 5]\n",
      "31 [[1282, 1283, 1284], [1285], [1286], [1298], ... [1323], [], [], [], [], [], []]\n",
      "31 [[25, 25, 5], [25], [25], [5], [25], [25, ... 111, 111], [5], [], [], [], [], [], []]\n"
     ]
    }
   ],
   "source": [
    "isHiggs = b_higgs.pdgId == 25\n",
    "isHard = b_higgs.hasFlags([\"fromHardProcess\"])\n",
    "hasTwoChildren = ak.num(b_higgs.childrenIdxG, axis=1) == 2\n",
    "# print(events.GenPart.childrenIdxG)\n",
    "# print(ak.num(events.GenPart.childrenIdxG, axis=2))\n",
    "\n",
    "print(len(e.GenPart.pdgId), e.GenPart.pdgId)\n",
    "print(len(e.GenPart.childrenIdxG), e.GenPart.childrenIdxG)\n",
    "print(len(e.GenPart.children.pdgId), e.GenPart.children.pdgId\n",
    "      )\n",
    "\n",
    "print(len(b_higgs), b_higgs.pdgId\n",
    "      )\n",
    "print(len(b_higgs.childrenIdxG), b_higgs.childrenIdxG\n",
    "      )\n",
    "print(len(b_higgs.children.pdgId), b_higgs.children.pdgId\n",
    "      )\n",
    "\n",
    "# print(isHiggs)\n",
    "# print(isHard)\n",
    "# print(hasTwoChildren)"
   ]
  },
  {
   "cell_type": "code",
   "execution_count": null,
   "metadata": {},
   "outputs": [],
   "source": []
  }
 ],
 "metadata": {
  "kernelspec": {
   "display_name": "Python 3",
   "language": "python",
   "name": "python3"
  },
  "language_info": {
   "codemirror_mode": {
    "name": "ipython",
    "version": 3
   },
   "file_extension": ".py",
   "mimetype": "text/x-python",
   "name": "python",
   "nbconvert_exporter": "python",
   "pygments_lexer": "ipython3",
   "version": "3.9.18"
  }
 },
 "nbformat": 4,
 "nbformat_minor": 2
}
