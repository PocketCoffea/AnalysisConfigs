{
 "cells": [
  {
   "cell_type": "code",
   "execution_count": 3,
   "metadata": {},
   "outputs": [],
   "source": [
    "from coffea.util import load\n",
    "import os\n",
    "import awkward as ak\n",
    "import numpy as np\n",
    "import matplotlib.pyplot as plt\n",
    "\n",
    "local=\"/run/user/1000/gvfs/sftp:host=t3ui02.psi.ch,user=mmalucch/\"\n",
    "prefix = local+str(\n",
    "    os.environ.get(\"HH\", \"/pnfs/psi.ch/cms/trivcat/store/user/mmalucch/out_HH4b/\")\n",
    ")\n",
    "\n",
    "input = prefix + \"out_parton_matching_pnetreg_btaglead_nokinjet/output_all.coffea\"\n",
    "# input = prefix + \"out_parton_matching_pnetreg_btaglead/output_all.coffea\"\n",
    "o = load(f\"{input}\")\n",
    "col=o[\"columns\"]['GluGlutoHHto4B']['GluGlutoHHto4B_kl-1p00_kt-1p00_c2-0p00_kl-1p00_kt-1p00_c2-0p00_2022']['baseline']\n",
    "for k in col.keys():\n",
    "    col[k]=col[k].value[col[k].value!=-999]"
   ]
  },
  {
   "cell_type": "code",
   "execution_count": 18,
   "metadata": {},
   "outputs": [
    {
     "name": "stdout",
     "output_type": "stream",
     "text": [
      "[[121, 65.1, 47.4, 40.2], [163, 163, 31.8, ... 129, 39], [148, 69.9, 38.5, 88.1]]\n",
      "[[121, 65.1, 47.4, 40.2], [163, 163, 57.1, ... 59.7, 39], [148, 88.1, 69.9, 38.5]]\n",
      "[(<Array [0] type='1 * int64'>,) (<Array [0] type='1 * int64'>,)\n",
      " (<Array [0] type='1 * int64'>,) ... (<Array [2] type='1 * int64'>,)\n",
      " (<Array [1] type='1 * int64'>,) (<Array [0] type='1 * int64'>,)]\n",
      "[(<Array [1] type='1 * int64'>,) (<Array [1] type='1 * int64'>,)\n",
      " (<Array [1] type='1 * int64'>,) ... (<Array [0] type='1 * int64'>,)\n",
      " (<Array [2] type='1 * int64'>,) (<Array [2] type='1 * int64'>,)]\n",
      "[(<Array [2] type='1 * int64'>,) (<Array [3] type='1 * int64'>,)\n",
      " (<Array [2] type='1 * int64'>,) ... (<Array [3] type='1 * int64'>,)\n",
      " (<Array [0] type='1 * int64'>,) (<Array [3] type='1 * int64'>,)]\n"
     ]
    }
   ],
   "source": [
    "unflat_pt = ak.unflatten(col[\"JetGoodBTagOrder_pt\"], col[\"JetGoodBTagOrder_N\"])\n",
    "unflat_btag = ak.unflatten(col[\"JetGoodBTagOrder_btagPNetB\"], col[\"JetGoodBTagOrder_N\"])\n",
    "unflat_pt_order = ak.unflatten(col[\"JetGoodPtOrder_pt\"], col[\"JetGoodPtOrder_N\"])\n",
    "\n",
    "print(unflat_pt)\n",
    "# print(unflat_btag)\n",
    "print(unflat_pt_order)\n",
    "\n",
    "pt_cuts=[80, 60, 45, 40]\n",
    "\n",
    "def eff(i):\n",
    "    jet_pt = unflat_pt[:, i]\n",
    "    jet_btag = unflat_btag[:, i]\n",
    "\n",
    "    jet_pt_order = unflat_pt_order\n",
    "\n",
    "    # for each elemtnt in the first dimension of jet_pt_order, check if the jet_pt is in the jet_pt_order\n",
    "    # if yes, return the index of the jet_pt in the jet_pt_order\n",
    "    # if not, return -1\n",
    "    # index = np.array([np.where(jet_pt_order[:,i] == jet_pt) for i in range(3)])\n",
    "    index=np.empty((len(jet_pt_order)), dtype=object)\n",
    "    for j in range(len(jet_pt_order)):\n",
    "        index[j]=(np.where(jet_pt_order[j] == jet_pt[j]))\n",
    "\n",
    "\n",
    "    print(index)\n",
    "\n",
    "\n",
    "\n",
    "for k in range(4):\n",
    "    eff(k)\n",
    "\n",
    "\n",
    "# pt_lead=col['JetGoodPtOrder_pt'][index]\n",
    "# index_sub=np.array(range(1,len(col['JetGoodBTagOrder_pt']), 4))\n",
    "# pt_sublead=col['JetGoodPtOrder_pt'][index_sub]\n",
    "# print(len(pt_lead))\n",
    "\n",
    "# mask = (pt_lead<80) & (pt_sublead<60)\n",
    "# print(mask)\n",
    "# print((pt_lead[mask]))\n",
    "\n",
    "# print(len(pt_sublead))\n",
    "# print((pt_sublead[mask]))\n",
    "# print(len(pt_sublead[mask]))\n",
    "# print(len(pt_lead[(pt_lead<80)]))\n",
    "# print(len(pt_sublead[(pt_sublead<60)]))\n",
    "\n",
    "# mask_or = (pt_lead<80) | (pt_sublead<60)\n",
    "# print(mask_or)\n",
    "# print(len(pt_lead[mask_or]))\n",
    "# print(len(pt_sublead[mask_or]))"
   ]
  },
  {
   "cell_type": "code",
   "execution_count": null,
   "metadata": {},
   "outputs": [],
   "source": []
  }
 ],
 "metadata": {
  "kernelspec": {
   "display_name": "Python 3",
   "language": "python",
   "name": "python3"
  },
  "language_info": {
   "codemirror_mode": {
    "name": "ipython",
    "version": 3
   },
   "file_extension": ".py",
   "mimetype": "text/x-python",
   "name": "python",
   "nbconvert_exporter": "python",
   "pygments_lexer": "ipython3",
   "version": "3.9.18"
  }
 },
 "nbformat": 4,
 "nbformat_minor": 2
}
