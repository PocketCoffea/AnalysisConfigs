{
 "cells": [
  {
   "cell_type": "code",
   "execution_count": 4,
   "metadata": {},
   "outputs": [],
   "source": [
    "from coffea.util import load\n",
    "import os\n",
    "import awkward as ak\n",
    "import numpy as np\n",
    "import matplotlib.pyplot as plt\n",
    "\n",
    "local=\"\"#\"/run/user/1000/gvfs/sftp:host=t3ui02.psi.ch,user=mmalucch/\"\n",
    "prefix = local+str(\n",
    "    os.environ.get(\"HH\", \"/pnfs/psi.ch/cms/trivcat/store/user/mmalucch/out_HH4b/\")\n",
    ")\n",
    "\n",
    "input = prefix + \"/out_parton_matching_pnetreg_btaglead_nokinjet/output_all.coffea\"\n",
    "# input = prefix + \"out_parton_matching_pnetreg_btaglead/output_all.coffea\"\n",
    "o = load(f\"{input}\")\n",
    "col=o[\"columns\"]['GluGlutoHHto4B']['GluGlutoHHto4B_kl-1p00_kt-1p00_c2-0p00_kl-1p00_kt-1p00_c2-0p00_2022']['baseline']\n",
    "for k in col.keys():\n",
    "    col[k]=col[k].value[col[k].value!=-999]"
   ]
  },
  {
   "cell_type": "code",
   "execution_count": 15,
   "metadata": {},
   "outputs": [
    {
     "name": "stdout",
     "output_type": "stream",
     "text": [
      "[[111, 59.4, 47.7, 45.5], [164, 146, 44.9, ... 125, 46.1], [166, 67.1, 44.1, 77.8]]\n",
      "[[111, 59.4, 47.7, 45.5], [164, 146, 54.1, ... 60.6, 46.1], [166, 77.8, 67.1, 44.1]]\n",
      "[0 0 0 ... 2 1 0]\n",
      "[1 1 1 ... 0 2 2]\n",
      "[2 3 2 ... 3 0 3]\n",
      "[3 2 3 ... 1 3 1]\n",
      "[[0 0 0 ... 2 1 0]\n",
      " [1 1 1 ... 0 2 2]\n",
      " [2 3 2 ... 3 0 3]\n",
      " [3 2 3 ... 1 3 1]]\n"
     ]
    }
   ],
   "source": [
    "unflat_pt = ak.unflatten(col[\"JetGoodBTagOrder_ptPnetRegNeutrino\"], col[\"JetGoodBTagOrder_N\"])\n",
    "unflat_btag = ak.unflatten(col[\"JetGoodBTagOrder_btagPNetB\"], col[\"JetGoodBTagOrder_N\"])\n",
    "unflat_pt_order = ak.unflatten(col[\"JetGoodPtOrder_ptPnetRegNeutrino\"], col[\"JetGoodPtOrder_N\"])\n",
    "\n",
    "print(unflat_pt)\n",
    "# print(unflat_btag)\n",
    "print(unflat_pt_order)\n",
    "\n",
    "\n",
    "def find_idx(i):\n",
    "    jet_pt = unflat_pt[:, i]\n",
    "\n",
    "    jet_pt_order = unflat_pt_order\n",
    "\n",
    "    # for each elemtnt in the first dimension of jet_pt_order, check if the jet_pt is in the jet_pt_order\n",
    "    # if yes, return the index of the jet_pt in the jet_pt_order\n",
    "    # if not, return -1\n",
    "    # index = np.array([np.where(jet_pt_order[:,i] == jet_pt) for i in range(3)])\n",
    "    index=np.empty((len(jet_pt_order)), dtype=int)\n",
    "    for j in range(len(jet_pt_order)):\n",
    "        index[j]=(np.where(jet_pt_order[j] == jet_pt[j]))[0][0]\n",
    "\n",
    "\n",
    "    print(index)\n",
    "    return index\n",
    "\n",
    "\n",
    "indexes=np.ndarray((4, len(unflat_pt)), dtype=int)\n",
    "for k in range(4):\n",
    "    indexes[k]=find_idx(k)\n",
    "\n",
    "print(indexes)\n"
   ]
  },
  {
   "cell_type": "code",
   "execution_count": 17,
   "metadata": {},
   "outputs": [
    {
     "name": "stdout",
     "output_type": "stream",
     "text": [
      "[0.994, 0.996, 0.97, 0.998, 0.999, 0.999, ... 0.665, 0.994, 0.99, 0.976, 0.954]\n",
      "27721\n",
      "[ True  True  True ...  True  True  True]\n",
      "[0 0 0 ... 2 1 0]\n",
      "[80 80 80 ... 45 60 80]\n",
      "[True, True, True, True, True, True, True, ... True, True, True, True, True, True]\n",
      "0.9897751919303198\n",
      "[1 1 1 ... 0 2 2]\n",
      "[60 60 60 ... 80 45 45]\n",
      "[False, True, True, True, True, True, True, ... True, True, True, True, True, True]\n",
      "0.9883636864392192\n",
      "[2 3 2 ... 3 0 3]\n",
      "[45 40 45 ... 40 80 40]\n",
      "[True, True, True, True, True, True, True, ... True, True, True, True, True, True]\n",
      "0.9885358212552071\n",
      "[3 2 3 ... 1 3 1]\n",
      "[40 45 40 ... 60 40 60]\n",
      "[True, True, True, True, True, True, True, ... True, True, True, True, True, True]\n",
      "0.9861603607945744\n",
      "[False True True ... True True True]\n",
      "29047\n",
      "29047\n",
      "27874\n",
      "0.9596171721692429\n"
     ]
    }
   ],
   "source": [
    "pt_cuts=[80, 60, 45, 40]\n",
    "# pt_cuts=[40,40,40, 40]\n",
    "mean=(unflat_btag[:, 0]+unflat_btag[:, 1])/2\n",
    "mask_mean = np.array(mean>0.65)\n",
    "print(mean[mean>0.65])\n",
    "print(np.sum(mean>0.65))\n",
    "print(mask_mean)\n",
    "\n",
    "def eff(i):\n",
    "    jet_pt = unflat_pt[:, i]\n",
    "    # print(jet_pt)\n",
    "    jet_btag = unflat_btag[:, i]\n",
    "    # print(jet_btag)\n",
    "    total = len(jet_pt)\n",
    "    # print(total)\n",
    "    index = indexes[i]\n",
    "    print(index)\n",
    "    # check if the jet_pt is above the pt cut\n",
    "    # create array of pt_cuts for each event in the first dimension of jet_pt defined by the index\n",
    "    pt_cuts_array = np.array([pt_cuts[j] for j in index])\n",
    "    print(pt_cuts_array)\n",
    "\n",
    "    mask = jet_pt > pt_cuts_array\n",
    "    print(mask)\n",
    "    jet_masked = jet_btag[mask]\n",
    "    # print(jet_masked)\n",
    "    # print(jet_pt[mask])\n",
    "    # compute the number of jets above the pt cut\n",
    "    above = len(jet_masked)\n",
    "    # print(above)\n",
    "    eff = above/total\n",
    "    print(eff)\n",
    "\n",
    "    return mask\n",
    "\n",
    "\n",
    "masks=np.ndarray((4, len(unflat_pt)), dtype=object)\n",
    "for k in range(4):\n",
    "    masks[k]=eff(k)\n",
    "\n",
    "mask_total = np.logical_and.reduce(masks)\n",
    "print(mask_total)\n",
    "print(len(mask_total))\n",
    "# mask_total = mask_total[mask_mean] #??\n",
    "print(len(mask_total))\n",
    "print(mask_total.sum())\n",
    "print(mask_total.sum()/len(mask_total))\n"
   ]
  },
  {
   "cell_type": "code",
   "execution_count": 7,
   "metadata": {},
   "outputs": [
    {
     "data": {
      "text/plain": [
       "(array([], dtype=int64), array([], dtype=int64))"
      ]
     },
     "execution_count": 7,
     "metadata": {},
     "output_type": "execute_result"
    }
   ],
   "source": [
    "a=np.array([[1,2,3,4,5,6,7,8,9,10]])\n",
    "b=np.array([2,3,8,9,10, 11, 12, 13, 14, 1])\n",
    "np.where(a[:]==b[:])"
   ]
  },
  {
   "cell_type": "code",
   "execution_count": null,
   "metadata": {},
   "outputs": [],
   "source": []
  },
  {
   "cell_type": "code",
   "execution_count": null,
   "metadata": {},
   "outputs": [],
   "source": []
  }
 ],
 "metadata": {
  "kernelspec": {
   "display_name": "Python 3",
   "language": "python",
   "name": "python3"
  },
  "language_info": {
   "codemirror_mode": {
    "name": "ipython",
    "version": 3
   },
   "file_extension": ".py",
   "mimetype": "text/x-python",
   "name": "python",
   "nbconvert_exporter": "python",
   "pygments_lexer": "ipython3",
   "version": "3.9.18"
  }
 },
 "nbformat": 4,
 "nbformat_minor": 2
}
