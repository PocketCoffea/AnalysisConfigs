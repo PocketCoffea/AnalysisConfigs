{
 "cells": [
  {
   "cell_type": "markdown",
   "id": "9c2c56bd-752f-4146-9313-53a014986082",
   "metadata": {},
   "source": [
    "# Open EFT file\n",
    "We open the file using `NanoEventsFactory` from the `coffea` package."
   ]
  },
  {
   "cell_type": "code",
   "execution_count": 1,
   "id": "c8bd21aa-9e9d-45a4-8742-81677e2e8000",
   "metadata": {},
   "outputs": [],
   "source": [
    "import os\n",
    "import numpy as np\n",
    "import awkward as ak\n",
    "\n",
    "#import matplotlib\n",
    "#import matplotlib.pyplot as plt\n",
    "#import mplhep as hep\n",
    "\n",
    "from coffea.nanoevents import NanoEventsFactory, NanoAODSchema\n",
    "\n",
    "#fontsize=12\n",
    "#plt.style.use([hep.style.ROOT, {'font.size': fontsize}])\n",
    "#plt.rcParams.update({'font.size': fontsize})"
   ]
  },
  {
   "cell_type": "code",
   "execution_count": 2,
   "id": "f1ec3e14-d928-4bdd-a61e-bfe54021d76e",
   "metadata": {},
   "outputs": [
    {
     "name": "stderr",
     "output_type": "stream",
     "text": [
      "/work/mmarcheg/micromamba/envs/pocket-coffea/lib/python3.9/site-packages/coffea/nanoevents/schemas/nanoaod.py:201: RuntimeWarning: Missing cross-reference index for Electron_genPartIdx => GenPart\n",
      "  warnings.warn(\n",
      "/work/mmarcheg/micromamba/envs/pocket-coffea/lib/python3.9/site-packages/coffea/nanoevents/schemas/nanoaod.py:201: RuntimeWarning: Missing cross-reference index for Electron_jetIdx => Jet\n",
      "  warnings.warn(\n",
      "/work/mmarcheg/micromamba/envs/pocket-coffea/lib/python3.9/site-packages/coffea/nanoevents/schemas/nanoaod.py:201: RuntimeWarning: Missing cross-reference index for Electron_photonIdx => Photon\n",
      "  warnings.warn(\n",
      "/work/mmarcheg/micromamba/envs/pocket-coffea/lib/python3.9/site-packages/coffea/nanoevents/schemas/nanoaod.py:201: RuntimeWarning: Missing cross-reference index for FatJet_subJetIdx1 => SubJet\n",
      "  warnings.warn(\n",
      "/work/mmarcheg/micromamba/envs/pocket-coffea/lib/python3.9/site-packages/coffea/nanoevents/schemas/nanoaod.py:201: RuntimeWarning: Missing cross-reference index for FatJet_subJetIdx2 => SubJet\n",
      "  warnings.warn(\n",
      "/work/mmarcheg/micromamba/envs/pocket-coffea/lib/python3.9/site-packages/coffea/nanoevents/schemas/nanoaod.py:201: RuntimeWarning: Missing cross-reference index for FsrPhoton_muonIdx => Muon\n",
      "  warnings.warn(\n",
      "/work/mmarcheg/micromamba/envs/pocket-coffea/lib/python3.9/site-packages/coffea/nanoevents/schemas/nanoaod.py:201: RuntimeWarning: Missing cross-reference index for Jet_electronIdx1 => Electron\n",
      "  warnings.warn(\n",
      "/work/mmarcheg/micromamba/envs/pocket-coffea/lib/python3.9/site-packages/coffea/nanoevents/schemas/nanoaod.py:201: RuntimeWarning: Missing cross-reference index for Jet_electronIdx2 => Electron\n",
      "  warnings.warn(\n",
      "/work/mmarcheg/micromamba/envs/pocket-coffea/lib/python3.9/site-packages/coffea/nanoevents/schemas/nanoaod.py:201: RuntimeWarning: Missing cross-reference index for Jet_genJetIdx => GenJet\n",
      "  warnings.warn(\n",
      "/work/mmarcheg/micromamba/envs/pocket-coffea/lib/python3.9/site-packages/coffea/nanoevents/schemas/nanoaod.py:201: RuntimeWarning: Missing cross-reference index for Jet_muonIdx1 => Muon\n",
      "  warnings.warn(\n",
      "/work/mmarcheg/micromamba/envs/pocket-coffea/lib/python3.9/site-packages/coffea/nanoevents/schemas/nanoaod.py:201: RuntimeWarning: Missing cross-reference index for Jet_muonIdx2 => Muon\n",
      "  warnings.warn(\n",
      "/work/mmarcheg/micromamba/envs/pocket-coffea/lib/python3.9/site-packages/coffea/nanoevents/schemas/nanoaod.py:201: RuntimeWarning: Missing cross-reference index for Muon_fsrPhotonIdx => FsrPhoton\n",
      "  warnings.warn(\n",
      "/work/mmarcheg/micromamba/envs/pocket-coffea/lib/python3.9/site-packages/coffea/nanoevents/schemas/nanoaod.py:201: RuntimeWarning: Missing cross-reference index for Muon_genPartIdx => GenPart\n",
      "  warnings.warn(\n",
      "/work/mmarcheg/micromamba/envs/pocket-coffea/lib/python3.9/site-packages/coffea/nanoevents/schemas/nanoaod.py:201: RuntimeWarning: Missing cross-reference index for Muon_jetIdx => Jet\n",
      "  warnings.warn(\n",
      "/work/mmarcheg/micromamba/envs/pocket-coffea/lib/python3.9/site-packages/coffea/nanoevents/schemas/nanoaod.py:201: RuntimeWarning: Missing cross-reference index for Photon_electronIdx => Electron\n",
      "  warnings.warn(\n",
      "/work/mmarcheg/micromamba/envs/pocket-coffea/lib/python3.9/site-packages/coffea/nanoevents/schemas/nanoaod.py:201: RuntimeWarning: Missing cross-reference index for Photon_genPartIdx => GenPart\n",
      "  warnings.warn(\n",
      "/work/mmarcheg/micromamba/envs/pocket-coffea/lib/python3.9/site-packages/coffea/nanoevents/schemas/nanoaod.py:201: RuntimeWarning: Missing cross-reference index for Photon_jetIdx => Jet\n",
      "  warnings.warn(\n",
      "/work/mmarcheg/micromamba/envs/pocket-coffea/lib/python3.9/site-packages/coffea/nanoevents/schemas/nanoaod.py:201: RuntimeWarning: Missing cross-reference index for Tau_genPartIdx => GenPart\n",
      "  warnings.warn(\n",
      "/work/mmarcheg/micromamba/envs/pocket-coffea/lib/python3.9/site-packages/coffea/nanoevents/schemas/nanoaod.py:201: RuntimeWarning: Missing cross-reference index for Tau_jetIdx => Jet\n",
      "  warnings.warn(\n"
     ]
    }
   ],
   "source": [
    "fname = \"/work/mmarcheg/AnalysisConfigs/configs/ttHbb/semileptonic/eft/test_eft_1.root\"\n",
    "events = NanoEventsFactory.from_root(\n",
    "    fname,\n",
    "    schemaclass=NanoAODSchema.v6,\n",
    "    #metadata=metadata,\n",
    ").events()"
   ]
  },
  {
   "cell_type": "markdown",
   "id": "4fccd761-d6e2-4831-9738-d9347fc8164c",
   "metadata": {},
   "source": [
    "## Print file branches"
   ]
  },
  {
   "cell_type": "code",
   "execution_count": 3,
   "id": "a7bc0f8d-3009-4bac-ad53-84c5e205501c",
   "metadata": {},
   "outputs": [
    {
     "data": {
      "text/plain": [
       "['GenMET',\n",
       " 'Generator',\n",
       " 'GenIsolatedPhoton',\n",
       " 'LHEWeight',\n",
       " 'PSWeight',\n",
       " 'run',\n",
       " 'GenJet',\n",
       " 'luminosityBlock',\n",
       " 'GenVisTau',\n",
       " 'GenPart',\n",
       " 'genWeight',\n",
       " 'LHEReweightingWeight',\n",
       " 'MET',\n",
       " 'event',\n",
       " 'LHE',\n",
       " 'GenDressedLepton',\n",
       " 'LHEPart',\n",
       " 'GenVtx',\n",
       " 'GenJetAK8',\n",
       " 'LHEPdfWeight',\n",
       " 'HTXS',\n",
       " 'LHEScaleWeight']"
      ]
     },
     "execution_count": 3,
     "metadata": {},
     "output_type": "execute_result"
    }
   ],
   "source": [
    "events.fields"
   ]
  },
  {
   "cell_type": "markdown",
   "id": "7473da2b-7d4e-407b-9c91-2a82ff6c8c6c",
   "metadata": {},
   "source": [
    "## Print EFT reweighting weights\n",
    "The EFT per-event weights are stored in the branch `LHEReweightingWeight`."
   ]
  },
  {
   "cell_type": "code",
   "execution_count": 4,
   "id": "481da043-c0c0-4549-a65a-5466006069e3",
   "metadata": {},
   "outputs": [
    {
     "data": {
      "text/plain": [
       "<Array [[1.07, 1.13, 1, ... 1, 0.997, 0.997]] type='5000 * [var * float32[parame...'>"
      ]
     },
     "execution_count": 4,
     "metadata": {},
     "output_type": "execute_result"
    }
   ],
   "source": [
    "events.LHEReweightingWeight"
   ]
  },
  {
   "cell_type": "code",
   "execution_count": 5,
   "id": "81a9428f-68b6-406b-99d1-8336ee948323",
   "metadata": {},
   "outputs": [
    {
     "data": {
      "text/plain": [
       "<Array [1.07, 1.07, 1.07, ... 1.07, 1.07, 1.07] type='5000 * float32[parameters=...'>"
      ]
     },
     "execution_count": 5,
     "metadata": {},
     "output_type": "execute_result"
    }
   ],
   "source": [
    "# Print the first weight, for all events\n",
    "events.LHEReweightingWeight[:,0]"
   ]
  },
  {
   "cell_type": "code",
   "execution_count": 6,
   "id": "b50f5b55-df8b-49bf-b3f3-bfe313af673c",
   "metadata": {},
   "outputs": [
    {
     "data": {
      "text/plain": [
       "1.06610107421875"
      ]
     },
     "execution_count": 6,
     "metadata": {},
     "output_type": "execute_result"
    }
   ],
   "source": [
    "# Print the first weight, for the first event\n",
    "events.LHEReweightingWeight[0,0]"
   ]
  },
  {
   "cell_type": "markdown",
   "id": "dfeaf3e9-a72f-4283-a91e-5a9777d178bc",
   "metadata": {},
   "source": [
    "## Important variables for EFT studies\n",
    "\n",
    "The important branches are the generator level variables such as `GenJet`, `GenMET`, `GenPart`."
   ]
  },
  {
   "cell_type": "code",
   "execution_count": 7,
   "id": "1dba4500-89d9-4ff8-92ba-fce14499c752",
   "metadata": {},
   "outputs": [
    {
     "data": {
      "text/plain": [
       "<Array [[132, 99.2, 81.9, ... 17.3, 14.5]] type='5000 * var * float32[parameters...'>"
      ]
     },
     "execution_count": 7,
     "metadata": {},
     "output_type": "execute_result"
    }
   ],
   "source": [
    "events.GenJet.pt"
   ]
  },
  {
   "cell_type": "code",
   "execution_count": 8,
   "id": "7b3ce662-3383-4c75-aabb-6392297eb4fc",
   "metadata": {},
   "outputs": [
    {
     "data": {
      "text/plain": [
       "<GenParticleArray [[GenParticle, ... GenParticle]] type='5000 * var * genParticle'>"
      ]
     },
     "execution_count": 8,
     "metadata": {},
     "output_type": "execute_result"
    }
   ],
   "source": [
    "events.GenPart"
   ]
  },
  {
   "cell_type": "code",
   "execution_count": 9,
   "id": "1eb949cc-7d2c-41a0-864a-52791aefdeb7",
   "metadata": {},
   "outputs": [
    {
     "data": {
      "text/plain": [
       "<MissingETArray [MissingET, MissingET, ... MissingET] type='5000 * missingET'>"
      ]
     },
     "execution_count": 9,
     "metadata": {},
     "output_type": "execute_result"
    }
   ],
   "source": [
    "events.GenMET"
   ]
  },
  {
   "cell_type": "code",
   "execution_count": null,
   "id": "75a100e6-5abe-4498-a468-3ec189a23736",
   "metadata": {},
   "outputs": [],
   "source": []
  }
 ],
 "metadata": {
  "kernelspec": {
   "display_name": "Python 3 (ipykernel)",
   "language": "python",
   "name": "python3"
  },
  "language_info": {
   "codemirror_mode": {
    "name": "ipython",
    "version": 3
   },
   "file_extension": ".py",
   "mimetype": "text/x-python",
   "name": "python",
   "nbconvert_exporter": "python",
   "pygments_lexer": "ipython3",
   "version": "3.9.18"
  }
 },
 "nbformat": 4,
 "nbformat_minor": 5
}
