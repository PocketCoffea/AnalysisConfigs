{
 "cells": [
  {
   "cell_type": "markdown",
   "id": "9c2c56bd-752f-4146-9313-53a014986082",
   "metadata": {},
   "source": [
    "# Open EFT file\n",
    "We open the file using `NanoEventsFactory` from the `coffea` package."
   ]
  },
  {
   "cell_type": "code",
   "execution_count": 1,
   "id": "c8bd21aa-9e9d-45a4-8742-81677e2e8000",
   "metadata": {},
   "outputs": [],
   "source": [
    "import os\n",
    "import numpy as np\n",
    "import awkward as ak\n",
    "\n",
    "import matplotlib\n",
    "import matplotlib.pyplot as plt\n",
    "import mplhep as hep\n",
    "\n",
    "from coffea.nanoevents import NanoEventsFactory, NanoAODSchema\n",
    "\n",
    "fontsize=12\n",
    "plt.style.use([hep.style.ROOT, {'font.size': fontsize}])\n",
    "plt.rcParams.update({'font.size': fontsize})\n",
    "plt.rcParams.update({'figure.figsize' : (6, 6)})"
   ]
  },
  {
   "cell_type": "code",
   "execution_count": 2,
   "id": "f1ec3e14-d928-4bdd-a61e-bfe54021d76e",
   "metadata": {},
   "outputs": [
    {
     "name": "stderr",
     "output_type": "stream",
     "text": [
      "/work/mmarcheg/micromamba/envs/pocket-coffea/lib/python3.9/site-packages/coffea/nanoevents/schemas/nanoaod.py:201: RuntimeWarning: Missing cross-reference index for Electron_genPartIdx => GenPart\n",
      "  warnings.warn(\n",
      "/work/mmarcheg/micromamba/envs/pocket-coffea/lib/python3.9/site-packages/coffea/nanoevents/schemas/nanoaod.py:201: RuntimeWarning: Missing cross-reference index for Electron_jetIdx => Jet\n",
      "  warnings.warn(\n",
      "/work/mmarcheg/micromamba/envs/pocket-coffea/lib/python3.9/site-packages/coffea/nanoevents/schemas/nanoaod.py:201: RuntimeWarning: Missing cross-reference index for Electron_photonIdx => Photon\n",
      "  warnings.warn(\n",
      "/work/mmarcheg/micromamba/envs/pocket-coffea/lib/python3.9/site-packages/coffea/nanoevents/schemas/nanoaod.py:201: RuntimeWarning: Missing cross-reference index for FatJet_subJetIdx1 => SubJet\n",
      "  warnings.warn(\n",
      "/work/mmarcheg/micromamba/envs/pocket-coffea/lib/python3.9/site-packages/coffea/nanoevents/schemas/nanoaod.py:201: RuntimeWarning: Missing cross-reference index for FatJet_subJetIdx2 => SubJet\n",
      "  warnings.warn(\n",
      "/work/mmarcheg/micromamba/envs/pocket-coffea/lib/python3.9/site-packages/coffea/nanoevents/schemas/nanoaod.py:201: RuntimeWarning: Missing cross-reference index for FsrPhoton_muonIdx => Muon\n",
      "  warnings.warn(\n",
      "/work/mmarcheg/micromamba/envs/pocket-coffea/lib/python3.9/site-packages/coffea/nanoevents/schemas/nanoaod.py:201: RuntimeWarning: Missing cross-reference index for Jet_electronIdx1 => Electron\n",
      "  warnings.warn(\n",
      "/work/mmarcheg/micromamba/envs/pocket-coffea/lib/python3.9/site-packages/coffea/nanoevents/schemas/nanoaod.py:201: RuntimeWarning: Missing cross-reference index for Jet_electronIdx2 => Electron\n",
      "  warnings.warn(\n",
      "/work/mmarcheg/micromamba/envs/pocket-coffea/lib/python3.9/site-packages/coffea/nanoevents/schemas/nanoaod.py:201: RuntimeWarning: Missing cross-reference index for Jet_genJetIdx => GenJet\n",
      "  warnings.warn(\n",
      "/work/mmarcheg/micromamba/envs/pocket-coffea/lib/python3.9/site-packages/coffea/nanoevents/schemas/nanoaod.py:201: RuntimeWarning: Missing cross-reference index for Jet_muonIdx1 => Muon\n",
      "  warnings.warn(\n",
      "/work/mmarcheg/micromamba/envs/pocket-coffea/lib/python3.9/site-packages/coffea/nanoevents/schemas/nanoaod.py:201: RuntimeWarning: Missing cross-reference index for Jet_muonIdx2 => Muon\n",
      "  warnings.warn(\n",
      "/work/mmarcheg/micromamba/envs/pocket-coffea/lib/python3.9/site-packages/coffea/nanoevents/schemas/nanoaod.py:201: RuntimeWarning: Missing cross-reference index for Muon_fsrPhotonIdx => FsrPhoton\n",
      "  warnings.warn(\n",
      "/work/mmarcheg/micromamba/envs/pocket-coffea/lib/python3.9/site-packages/coffea/nanoevents/schemas/nanoaod.py:201: RuntimeWarning: Missing cross-reference index for Muon_genPartIdx => GenPart\n",
      "  warnings.warn(\n",
      "/work/mmarcheg/micromamba/envs/pocket-coffea/lib/python3.9/site-packages/coffea/nanoevents/schemas/nanoaod.py:201: RuntimeWarning: Missing cross-reference index for Muon_jetIdx => Jet\n",
      "  warnings.warn(\n",
      "/work/mmarcheg/micromamba/envs/pocket-coffea/lib/python3.9/site-packages/coffea/nanoevents/schemas/nanoaod.py:201: RuntimeWarning: Missing cross-reference index for Photon_electronIdx => Electron\n",
      "  warnings.warn(\n",
      "/work/mmarcheg/micromamba/envs/pocket-coffea/lib/python3.9/site-packages/coffea/nanoevents/schemas/nanoaod.py:201: RuntimeWarning: Missing cross-reference index for Photon_genPartIdx => GenPart\n",
      "  warnings.warn(\n",
      "/work/mmarcheg/micromamba/envs/pocket-coffea/lib/python3.9/site-packages/coffea/nanoevents/schemas/nanoaod.py:201: RuntimeWarning: Missing cross-reference index for Photon_jetIdx => Jet\n",
      "  warnings.warn(\n",
      "/work/mmarcheg/micromamba/envs/pocket-coffea/lib/python3.9/site-packages/coffea/nanoevents/schemas/nanoaod.py:201: RuntimeWarning: Missing cross-reference index for Tau_genPartIdx => GenPart\n",
      "  warnings.warn(\n",
      "/work/mmarcheg/micromamba/envs/pocket-coffea/lib/python3.9/site-packages/coffea/nanoevents/schemas/nanoaod.py:201: RuntimeWarning: Missing cross-reference index for Tau_jetIdx => Jet\n",
      "  warnings.warn(\n"
     ]
    }
   ],
   "source": [
    "fname = \"/work/mmarcheg/AnalysisConfigs/configs/ttHbb/semileptonic/eft/test_eft_1.root\"\n",
    "events = NanoEventsFactory.from_root(\n",
    "    fname,\n",
    "    schemaclass=NanoAODSchema.v6,\n",
    "    #metadata=metadata,\n",
    ").events()"
   ]
  },
  {
   "cell_type": "markdown",
   "id": "4fccd761-d6e2-4831-9738-d9347fc8164c",
   "metadata": {},
   "source": [
    "## Print file branches"
   ]
  },
  {
   "cell_type": "code",
   "execution_count": 3,
   "id": "a7bc0f8d-3009-4bac-ad53-84c5e205501c",
   "metadata": {},
   "outputs": [
    {
     "data": {
      "text/plain": [
       "['Generator',\n",
       " 'genWeight',\n",
       " 'LHEScaleWeight',\n",
       " 'LHEPart',\n",
       " 'HTXS',\n",
       " 'GenJet',\n",
       " 'GenVtx',\n",
       " 'LHEPdfWeight',\n",
       " 'GenMET',\n",
       " 'MET',\n",
       " 'GenPart',\n",
       " 'GenJetAK8',\n",
       " 'LHEReweightingWeight',\n",
       " 'run',\n",
       " 'event',\n",
       " 'luminosityBlock',\n",
       " 'LHEWeight',\n",
       " 'GenVisTau',\n",
       " 'GenIsolatedPhoton',\n",
       " 'GenDressedLepton',\n",
       " 'PSWeight',\n",
       " 'LHE']"
      ]
     },
     "execution_count": 3,
     "metadata": {},
     "output_type": "execute_result"
    }
   ],
   "source": [
    "events.fields"
   ]
  },
  {
   "cell_type": "markdown",
   "id": "7473da2b-7d4e-407b-9c91-2a82ff6c8c6c",
   "metadata": {},
   "source": [
    "## Print EFT reweighting weights\n",
    "The EFT per-event weights are stored in the branch `LHEReweightingWeight`."
   ]
  },
  {
   "cell_type": "code",
   "execution_count": 4,
   "id": "481da043-c0c0-4549-a65a-5466006069e3",
   "metadata": {},
   "outputs": [
    {
     "data": {
      "text/plain": [
       "<Array [[1.07, 1.13, 1, ... 1, 0.997, 0.997]] type='5000 * [var * float32[parame...'>"
      ]
     },
     "execution_count": 4,
     "metadata": {},
     "output_type": "execute_result"
    }
   ],
   "source": [
    "events.LHEReweightingWeight"
   ]
  },
  {
   "cell_type": "code",
   "execution_count": 5,
   "id": "81a9428f-68b6-406b-99d1-8336ee948323",
   "metadata": {},
   "outputs": [
    {
     "data": {
      "text/plain": [
       "<Array [1.07, 1.07, 1.07, ... 1.07, 1.07, 1.07] type='5000 * float32[parameters=...'>"
      ]
     },
     "execution_count": 5,
     "metadata": {},
     "output_type": "execute_result"
    }
   ],
   "source": [
    "# Print the first weight, for all events\n",
    "events.LHEReweightingWeight[:,0]"
   ]
  },
  {
   "cell_type": "code",
   "execution_count": 6,
   "id": "b50f5b55-df8b-49bf-b3f3-bfe313af673c",
   "metadata": {},
   "outputs": [
    {
     "data": {
      "text/plain": [
       "1.06610107421875"
      ]
     },
     "execution_count": 6,
     "metadata": {},
     "output_type": "execute_result"
    }
   ],
   "source": [
    "# Print the first weight, for the first event\n",
    "events.LHEReweightingWeight[0,0]"
   ]
  },
  {
   "cell_type": "markdown",
   "id": "dfeaf3e9-a72f-4283-a91e-5a9777d178bc",
   "metadata": {},
   "source": [
    "## Important variables for EFT studies\n",
    "\n",
    "The important branches are the generator level variables such as `GenJet`, `GenMET`, `GenPart`."
   ]
  },
  {
   "cell_type": "code",
   "execution_count": 7,
   "id": "1dba4500-89d9-4ff8-92ba-fce14499c752",
   "metadata": {},
   "outputs": [
    {
     "data": {
      "text/plain": [
       "<Array [[132, 99.2, 81.9, ... 17.3, 14.5]] type='5000 * var * float32[parameters...'>"
      ]
     },
     "execution_count": 7,
     "metadata": {},
     "output_type": "execute_result"
    }
   ],
   "source": [
    "events.GenJet.pt"
   ]
  },
  {
   "cell_type": "code",
   "execution_count": 8,
   "id": "7b3ce662-3383-4c75-aabb-6392297eb4fc",
   "metadata": {},
   "outputs": [
    {
     "data": {
      "text/plain": [
       "<GenParticleArray [[GenParticle, ... GenParticle]] type='5000 * var * genParticle'>"
      ]
     },
     "execution_count": 8,
     "metadata": {},
     "output_type": "execute_result"
    }
   ],
   "source": [
    "events.GenPart"
   ]
  },
  {
   "cell_type": "code",
   "execution_count": 9,
   "id": "1eb949cc-7d2c-41a0-864a-52791aefdeb7",
   "metadata": {},
   "outputs": [
    {
     "data": {
      "text/plain": [
       "<MissingETArray [MissingET, MissingET, ... MissingET] type='5000 * missingET'>"
      ]
     },
     "execution_count": 9,
     "metadata": {},
     "output_type": "execute_result"
    }
   ],
   "source": [
    "events.GenMET"
   ]
  },
  {
   "cell_type": "markdown",
   "id": "c9f785ab-665c-4ac6-b59d-69d4b3a2cb4a",
   "metadata": {},
   "source": [
    "## Select Higgs from gen particles"
   ]
  },
  {
   "cell_type": "code",
   "execution_count": 10,
   "id": "75a100e6-5abe-4498-a468-3ec189a23736",
   "metadata": {},
   "outputs": [
    {
     "data": {
      "text/plain": [
       "<Array [[False, False, ... False, False]] type='5000 * var * bool'>"
      ]
     },
     "execution_count": 10,
     "metadata": {},
     "output_type": "execute_result"
    }
   ],
   "source": [
    "is_higgs = events.GenPart.pdgId == 25 # Select Higgs bosons from GenPart\n",
    "is_higgs"
   ]
  },
  {
   "cell_type": "code",
   "execution_count": 11,
   "id": "f0124709-e5de-4b7e-922e-5d5a277224bf",
   "metadata": {},
   "outputs": [
    {
     "data": {
      "text/plain": [
       "['eta',\n",
       " 'mass',\n",
       " 'phi',\n",
       " 'pt',\n",
       " 'genPartIdxMother',\n",
       " 'pdgId',\n",
       " 'status',\n",
       " 'statusFlags',\n",
       " 'genPartIdxMotherG',\n",
       " 'distinctParentIdxG',\n",
       " 'childrenIdxG',\n",
       " 'distinctChildrenIdxG',\n",
       " 'distinctChildrenDeepIdxG']"
      ]
     },
     "execution_count": 11,
     "metadata": {},
     "output_type": "execute_result"
    }
   ],
   "source": [
    "events.GenPart[is_higgs].fields"
   ]
  },
  {
   "cell_type": "code",
   "execution_count": 12,
   "id": "b18ec170-cbcd-4fff-8ca9-f1f90f25cd28",
   "metadata": {},
   "outputs": [
    {
     "data": {
      "text/plain": [
       "<Array [[True, True, True, ... [True, True]] type='5000 * var * bool'>"
      ]
     },
     "execution_count": 12,
     "metadata": {},
     "output_type": "execute_result"
    }
   ],
   "source": [
    "events.GenPart[is_higgs].hasFlags(['fromHardProcess'])"
   ]
  },
  {
   "cell_type": "code",
   "execution_count": 13,
   "id": "6b4e6771-8a2a-4dbf-a423-86a58c091103",
   "metadata": {},
   "outputs": [
    {
     "data": {
      "text/plain": [
       "[[10], [32], [251], [406], [619, 620]]"
      ]
     },
     "execution_count": 13,
     "metadata": {},
     "output_type": "execute_result"
    }
   ],
   "source": [
    "events.GenPart[is_higgs].childrenIdxG[0].tolist()"
   ]
  },
  {
   "cell_type": "code",
   "execution_count": 14,
   "id": "58c6b0a4-4474-431f-b60b-3abcd3a133cd",
   "metadata": {},
   "outputs": [
    {
     "data": {
      "text/plain": [
       "<Array [[False, False, False, ... False, True]] type='5000 * var * bool'>"
      ]
     },
     "execution_count": 14,
     "metadata": {},
     "output_type": "execute_result"
    }
   ],
   "source": [
    "has_children = ak.num(events.GenPart[is_higgs].childrenIdxG, axis=2) == 2 # mask to consider only the GenPart with two children (the b-quarks in the decay H->bb)\n",
    "has_children"
   ]
  },
  {
   "cell_type": "code",
   "execution_count": 15,
   "id": "d713869f-26fc-490f-93e2-8ffe166c71b5",
   "metadata": {},
   "outputs": [
    {
     "data": {
      "text/plain": [
       "<GenParticleArray [[GenParticle], ... [GenParticle]] type='5000 * var * genParticle'>"
      ]
     },
     "execution_count": 15,
     "metadata": {},
     "output_type": "execute_result"
    }
   ],
   "source": [
    "higgs = events.GenPart[is_higgs][has_children]\n",
    "higgs"
   ]
  },
  {
   "cell_type": "code",
   "execution_count": 16,
   "id": "8b28fd1e-a40a-4921-8def-afa5a9cf73ba",
   "metadata": {},
   "outputs": [
    {
     "data": {
      "text/plain": [
       "<Array [1, 1, 1, 1, 1, 1, ... 1, 1, 1, 1, 1, 1] type='5000 * int64'>"
      ]
     },
     "execution_count": 16,
     "metadata": {},
     "output_type": "execute_result"
    }
   ],
   "source": [
    "n_higgs = ak.num(higgs)\n",
    "n_higgs"
   ]
  },
  {
   "cell_type": "code",
   "execution_count": 17,
   "id": "066daf57-bf97-4853-9ac6-83e4c762c5ef",
   "metadata": {},
   "outputs": [
    {
     "data": {
      "text/plain": [
       "True"
      ]
     },
     "execution_count": 17,
     "metadata": {},
     "output_type": "execute_result"
    }
   ],
   "source": [
    "# Check that there is one and only one Higgs boson per-event\n",
    "ak.all(n_higgs == 1)"
   ]
  },
  {
   "cell_type": "markdown",
   "id": "3a5b3a55-f9ac-4857-91b6-dea6cbee5351",
   "metadata": {},
   "source": [
    "## Inspect the Higgs variables\n",
    "\n",
    "We can already plot some kinematical distributions of the Higgs boson at generator level."
   ]
  },
  {
   "cell_type": "code",
   "execution_count": 18,
   "id": "be8b836a-24b3-4429-a5c4-5324a0440992",
   "metadata": {},
   "outputs": [
    {
     "data": {
      "text/plain": [
       "<Array [[64.2], [40.8], ... [238], [82.1]] type='5000 * var * float32[parameters...'>"
      ]
     },
     "execution_count": 18,
     "metadata": {},
     "output_type": "execute_result"
    }
   ],
   "source": [
    "higgs.pt"
   ]
  },
  {
   "cell_type": "code",
   "execution_count": 19,
   "id": "67eb9634-fd8f-4efd-9ef2-759be347e127",
   "metadata": {},
   "outputs": [
    {
     "data": {
      "image/png": "[encoded data removed]",
      "text/plain": [
       "<Figure size 600x600 with 1 Axes>"
      ]
     },
     "metadata": {},
     "output_type": "display_data"
    }
   ],
   "source": [
    "pt = ak.flatten(higgs.pt) # flatten the array before plotting with plt.hist()\n",
    "plt.hist(pt, bins=100, range=(0, 1000));"
   ]
  },
  {
   "cell_type": "code",
   "execution_count": 20,
   "id": "9fd17945-e32e-42d5-b737-eb96858e9bf5",
   "metadata": {},
   "outputs": [
    {
     "data": {
      "image/png": "[encoded data removed]",
      "text/plain": [
       "<Figure size 600x600 with 1 Axes>"
      ]
     },
     "metadata": {},
     "output_type": "display_data"
    }
   ],
   "source": [
    "mass = ak.flatten(higgs.mass)\n",
    "plt.hist(mass, bins=100, range=(0, 200));"
   ]
  },
  {
   "cell_type": "markdown",
   "id": "85a4fcfd-5bb4-43d4-96b2-76944b6d5b34",
   "metadata": {},
   "source": [
    "## Reweigh histogram with EFT weights\n",
    "\n",
    "We can pass the weight `events.LHEReweightingWeight` to `plt.hist()` in order to weigh the histograms with the EFT weights."
   ]
  },
  {
   "cell_type": "code",
   "execution_count": 21,
   "id": "9198b50a-4259-4b3b-8c89-322e32099405",
   "metadata": {},
   "outputs": [
    {
     "data": {
      "text/plain": [
       "<Array [1.07, 1.07, 1.07, ... 1.07, 1.07, 1.07] type='5000 * float32[parameters=...'>"
      ]
     },
     "execution_count": 21,
     "metadata": {},
     "output_type": "execute_result"
    }
   ],
   "source": [
    "w0 = events.LHEReweightingWeight[:,0]\n",
    "w0"
   ]
  },
  {
   "cell_type": "markdown",
   "id": "3f8395f1-1c72-416c-84c0-36e63af2852c",
   "metadata": {},
   "source": [
    "## Plot of SM distribution and EFT-reweighed distribution\n",
    "\n",
    "In order to look for EFT effects on the Higgs kinematical variables, we can plot the SM distribution and the distribution reweighed with a specific weight, to explore its on the distribution."
   ]
  },
  {
   "cell_type": "code",
   "execution_count": 22,
   "id": "3a39bdc2-d0a2-4640-a7bc-49cecaa47281",
   "metadata": {},
   "outputs": [
    {
     "data": {
      "image/png": "[encoded data removed]",
      "text/plain": [
       "<Figure size 600x600 with 1 Axes>"
      ]
     },
     "metadata": {},
     "output_type": "display_data"
    }
   ],
   "source": [
    "plt.hist(pt, bins=100, range=(0, 1000), histtype='step', label=\"SM\")\n",
    "plt.hist(pt, bins=100, range=(0, 1000), histtype='step', label=\"w0\", weights=w0)\n",
    "plt.legend();"
   ]
  },
  {
   "cell_type": "markdown",
   "id": "633e2823-dbf9-46c2-98f4-b1d307333fae",
   "metadata": {},
   "source": [
    "## Inspect top variables"
   ]
  },
  {
   "cell_type": "code",
   "execution_count": 23,
   "id": "bba7d702-c8c3-4d4e-9ee5-fea90ac5c202",
   "metadata": {},
   "outputs": [
    {
     "data": {
      "text/plain": [
       "<Array [[False, False, ... False, False]] type='5000 * var * bool'>"
      ]
     },
     "execution_count": 23,
     "metadata": {},
     "output_type": "execute_result"
    }
   ],
   "source": [
    "is_top = events.GenPart.pdgId == 6 # Select top quarks from GenPart\n",
    "is_top"
   ]
  },
  {
   "cell_type": "code",
   "execution_count": 24,
   "id": "a40e425f-cf75-410b-b537-c86741855d30",
   "metadata": {},
   "outputs": [
    {
     "data": {
      "text/plain": [
       "<Array [[False, False, ... False, False]] type='5000 * var * bool'>"
      ]
     },
     "execution_count": 24,
     "metadata": {},
     "output_type": "execute_result"
    }
   ],
   "source": [
    "has_children = ak.num(events.GenPart[is_top].childrenIdxG, axis=2) == 3 # mask to consider only the GenPart with two children\n",
    "has_children"
   ]
  },
  {
   "cell_type": "code",
   "execution_count": 25,
   "id": "b9688003-b19f-479a-af36-27011b74e6eb",
   "metadata": {},
   "outputs": [
    {
     "data": {
      "image/png": "[encoded data removed]",
      "text/plain": [
       "<Figure size 600x600 with 1 Axes>"
      ]
     },
     "metadata": {},
     "output_type": "display_data"
    }
   ],
   "source": [
    "plt.hist(ak.flatten(ak.num(events.GenPart[is_top].childrenIdxG, axis=2)[has_children]), bins=5, range=(0,5));"
   ]
  },
  {
   "cell_type": "code",
   "execution_count": 26,
   "id": "5f9ab541-a316-418f-a72d-5e33bde61b92",
   "metadata": {},
   "outputs": [
    {
     "data": {
      "text/plain": [
       "<Array [125867, 125868, 125869] type='3 * int64'>"
      ]
     },
     "execution_count": 26,
     "metadata": {},
     "output_type": "execute_result"
    }
   ],
   "source": [
    "ak.flatten(events.GenPart[is_top][has_children]).childrenIdxG[0]"
   ]
  },
  {
   "cell_type": "code",
   "execution_count": 27,
   "id": "599837a8-4bff-43b6-ac6a-324c1cd0e977",
   "metadata": {},
   "outputs": [
    {
     "data": {
      "text/plain": [
       "[21, 21, 4, -3, 5, 11, -12, -5, 5, -5]"
      ]
     },
     "execution_count": 27,
     "metadata": {},
     "output_type": "execute_result"
    }
   ],
   "source": [
    "events.LHEPart.pdgId[0].tolist()"
   ]
  },
  {
   "cell_type": "code",
   "execution_count": 28,
   "id": "dd0fd552-3fbb-45db-9390-c35223189518",
   "metadata": {},
   "outputs": [
    {
     "data": {
      "text/plain": [
       "[178.9066162109375,\n",
       " 175.6811981201172,\n",
       " 175.27464294433594,\n",
       " 175.47698974609375,\n",
       " 175.67153930664062]"
      ]
     },
     "execution_count": 28,
     "metadata": {},
     "output_type": "execute_result"
    }
   ],
   "source": [
    "events.GenPart[is_top].pt[0].tolist()"
   ]
  },
  {
   "cell_type": "code",
   "execution_count": null,
   "id": "314724c3-8e1c-4a73-8b66-5184fb1059df",
   "metadata": {},
   "outputs": [],
   "source": []
  }
 ],
 "metadata": {
  "kernelspec": {
   "display_name": "Python 3 (ipykernel)",
   "language": "python",
   "name": "python3"
  },
  "language_info": {
   "codemirror_mode": {
    "name": "ipython",
    "version": 3
   },
   "file_extension": ".py",
   "mimetype": "text/x-python",
   "name": "python",
   "nbconvert_exporter": "python",
   "pygments_lexer": "ipython3",
   "version": "3.9.18"
  }
 },
 "nbformat": 4,
 "nbformat_minor": 5
}
