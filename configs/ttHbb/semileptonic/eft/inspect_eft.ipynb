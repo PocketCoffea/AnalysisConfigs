{
 "cells": [
  {
   "cell_type": "markdown",
   "id": "9c2c56bd-752f-4146-9313-53a014986082",
   "metadata": {},
   "source": [
    "# Open EFT file\n",
    "We open the file using `NanoEventsFactory` from the `coffea` package."
   ]
  },
  {
   "cell_type": "code",
   "execution_count": 94,
   "id": "c8bd21aa-9e9d-45a4-8742-81677e2e8000",
   "metadata": {},
   "outputs": [],
   "source": [
    "import os\n",
    "import numpy as np\n",
    "import awkward as ak\n",
    "\n",
    "import vector\n",
    "vector.register_awkward()\n",
    "\n",
    "import matplotlib\n",
    "import matplotlib.pyplot as plt\n",
    "import mplhep as hep\n",
    "\n",
    "from coffea.nanoevents import NanoEventsFactory, NanoAODSchema\n",
    "\n",
    "fontsize=12\n",
    "plt.style.use([hep.style.ROOT, {'font.size': fontsize}])\n",
    "plt.rcParams.update({'font.size': fontsize})\n",
    "plt.rcParams.update({'figure.figsize' : (6, 6)})"
   ]
  },
  {
   "cell_type": "code",
   "execution_count": 7,
   "id": "f1ec3e14-d928-4bdd-a61e-bfe54021d76e",
   "metadata": {},
   "outputs": [
    {
     "name": "stderr",
     "output_type": "stream",
     "text": [
      "/usr/local/lib/python3.8/site-packages/coffea/nanoevents/schemas/nanoaod.py:201: RuntimeWarning: Missing cross-reference index for Electron_genPartIdx => GenPart\n",
      "  warnings.warn(\n",
      "/usr/local/lib/python3.8/site-packages/coffea/nanoevents/schemas/nanoaod.py:201: RuntimeWarning: Missing cross-reference index for Electron_jetIdx => Jet\n",
      "  warnings.warn(\n",
      "/usr/local/lib/python3.8/site-packages/coffea/nanoevents/schemas/nanoaod.py:201: RuntimeWarning: Missing cross-reference index for Electron_photonIdx => Photon\n",
      "  warnings.warn(\n",
      "/usr/local/lib/python3.8/site-packages/coffea/nanoevents/schemas/nanoaod.py:201: RuntimeWarning: Missing cross-reference index for FatJet_subJetIdx1 => SubJet\n",
      "  warnings.warn(\n",
      "/usr/local/lib/python3.8/site-packages/coffea/nanoevents/schemas/nanoaod.py:201: RuntimeWarning: Missing cross-reference index for FatJet_subJetIdx2 => SubJet\n",
      "  warnings.warn(\n",
      "/usr/local/lib/python3.8/site-packages/coffea/nanoevents/schemas/nanoaod.py:201: RuntimeWarning: Missing cross-reference index for FsrPhoton_muonIdx => Muon\n",
      "  warnings.warn(\n",
      "/usr/local/lib/python3.8/site-packages/coffea/nanoevents/schemas/nanoaod.py:201: RuntimeWarning: Missing cross-reference index for Jet_electronIdx1 => Electron\n",
      "  warnings.warn(\n",
      "/usr/local/lib/python3.8/site-packages/coffea/nanoevents/schemas/nanoaod.py:201: RuntimeWarning: Missing cross-reference index for Jet_electronIdx2 => Electron\n",
      "  warnings.warn(\n",
      "/usr/local/lib/python3.8/site-packages/coffea/nanoevents/schemas/nanoaod.py:201: RuntimeWarning: Missing cross-reference index for Jet_genJetIdx => GenJet\n",
      "  warnings.warn(\n",
      "/usr/local/lib/python3.8/site-packages/coffea/nanoevents/schemas/nanoaod.py:201: RuntimeWarning: Missing cross-reference index for Jet_muonIdx1 => Muon\n",
      "  warnings.warn(\n",
      "/usr/local/lib/python3.8/site-packages/coffea/nanoevents/schemas/nanoaod.py:201: RuntimeWarning: Missing cross-reference index for Jet_muonIdx2 => Muon\n",
      "  warnings.warn(\n",
      "/usr/local/lib/python3.8/site-packages/coffea/nanoevents/schemas/nanoaod.py:201: RuntimeWarning: Missing cross-reference index for Muon_fsrPhotonIdx => FsrPhoton\n",
      "  warnings.warn(\n",
      "/usr/local/lib/python3.8/site-packages/coffea/nanoevents/schemas/nanoaod.py:201: RuntimeWarning: Missing cross-reference index for Muon_genPartIdx => GenPart\n",
      "  warnings.warn(\n",
      "/usr/local/lib/python3.8/site-packages/coffea/nanoevents/schemas/nanoaod.py:201: RuntimeWarning: Missing cross-reference index for Muon_jetIdx => Jet\n",
      "  warnings.warn(\n",
      "/usr/local/lib/python3.8/site-packages/coffea/nanoevents/schemas/nanoaod.py:201: RuntimeWarning: Missing cross-reference index for Photon_electronIdx => Electron\n",
      "  warnings.warn(\n",
      "/usr/local/lib/python3.8/site-packages/coffea/nanoevents/schemas/nanoaod.py:201: RuntimeWarning: Missing cross-reference index for Photon_genPartIdx => GenPart\n",
      "  warnings.warn(\n",
      "/usr/local/lib/python3.8/site-packages/coffea/nanoevents/schemas/nanoaod.py:201: RuntimeWarning: Missing cross-reference index for Photon_jetIdx => Jet\n",
      "  warnings.warn(\n",
      "/usr/local/lib/python3.8/site-packages/coffea/nanoevents/schemas/nanoaod.py:201: RuntimeWarning: Missing cross-reference index for Tau_genPartIdx => GenPart\n",
      "  warnings.warn(\n",
      "/usr/local/lib/python3.8/site-packages/coffea/nanoevents/schemas/nanoaod.py:201: RuntimeWarning: Missing cross-reference index for Tau_jetIdx => Jet\n",
      "  warnings.warn(\n"
     ]
    }
   ],
   "source": [
    "fname = \"root://eosuser.cern.ch//eos/user/n/nfeci/Research_project_EFT/Data_EFT/ttHbb_p1j_EFT_signal_EFTcenter_madspin_tbarlnutqq_5F_fixedscale_v1/test_eft_7.root\"\n",
    "events = NanoEventsFactory.from_root(\n",
    "    fname,\n",
    "    schemaclass=NanoAODSchema.v6,\n",
    "    #metadata=metadata,\n",
    ").events()"
   ]
  },
  {
   "cell_type": "markdown",
   "id": "4fccd761-d6e2-4831-9738-d9347fc8164c",
   "metadata": {},
   "source": [
    "## Print file branches"
   ]
  },
  {
   "cell_type": "code",
   "execution_count": 8,
   "id": "a7bc0f8d-3009-4bac-ad53-84c5e205501c",
   "metadata": {},
   "outputs": [
    {
     "data": {
      "text/plain": [
       "['GenPart',\n",
       " 'LHEPart',\n",
       " 'GenVisTau',\n",
       " 'LHEReweightingWeight',\n",
       " 'Generator',\n",
       " 'LHE',\n",
       " 'run',\n",
       " 'genWeight',\n",
       " 'LHEPdfWeight',\n",
       " 'PSWeight',\n",
       " 'GenMET',\n",
       " 'GenIsolatedPhoton',\n",
       " 'GenJet',\n",
       " 'luminosityBlock',\n",
       " 'HTXS',\n",
       " 'GenJetAK8',\n",
       " 'LHEWeight',\n",
       " 'MET',\n",
       " 'event',\n",
       " 'GenVtx',\n",
       " 'LHEScaleWeight',\n",
       " 'GenDressedLepton']"
      ]
     },
     "execution_count": 8,
     "metadata": {},
     "output_type": "execute_result"
    }
   ],
   "source": [
    "events.fields"
   ]
  },
  {
   "cell_type": "markdown",
   "id": "7473da2b-7d4e-407b-9c91-2a82ff6c8c6c",
   "metadata": {},
   "source": [
    "## Print EFT reweighting weights\n",
    "The EFT per-event weights are stored in the branch `LHEReweightingWeight`."
   ]
  },
  {
   "cell_type": "code",
   "execution_count": 9,
   "id": "481da043-c0c0-4549-a65a-5466006069e3",
   "metadata": {},
   "outputs": [
    {
     "data": {
      "text/plain": [
       "<Array [[1.13, 2.94, 1.93, ... 1.13, 1.13]] type='3569 * [var * float32[paramete...'>"
      ]
     },
     "execution_count": 9,
     "metadata": {},
     "output_type": "execute_result"
    }
   ],
   "source": [
    "events.LHEReweightingWeight"
   ]
  },
  {
   "cell_type": "code",
   "execution_count": 10,
   "id": "81a9428f-68b6-406b-99d1-8336ee948323",
   "metadata": {},
   "outputs": [
    {
     "data": {
      "text/plain": [
       "<Array [1.13, 1.14, 1.13, ... 1.13, 1.13, 1.13] type='3569 * float32[parameters=...'>"
      ]
     },
     "execution_count": 10,
     "metadata": {},
     "output_type": "execute_result"
    }
   ],
   "source": [
    "# Print the first weight, for all events\n",
    "events.LHEReweightingWeight[:,0]"
   ]
  },
  {
   "cell_type": "code",
   "execution_count": 11,
   "id": "b50f5b55-df8b-49bf-b3f3-bfe313af673c",
   "metadata": {},
   "outputs": [
    {
     "data": {
      "text/plain": [
       "1.1343994140625"
      ]
     },
     "execution_count": 11,
     "metadata": {},
     "output_type": "execute_result"
    }
   ],
   "source": [
    "# Print the first weight, for the first event\n",
    "events.LHEReweightingWeight[0,0]"
   ]
  },
  {
   "cell_type": "markdown",
   "id": "dfeaf3e9-a72f-4283-a91e-5a9777d178bc",
   "metadata": {},
   "source": [
    "## Important variables for EFT studies\n",
    "\n",
    "The important branches are the generator level variables such as `GenJet`, `GenMET`, `GenPart`."
   ]
  },
  {
   "cell_type": "code",
   "execution_count": 12,
   "id": "1dba4500-89d9-4ff8-92ba-fce14499c752",
   "metadata": {},
   "outputs": [
    {
     "data": {
      "text/plain": [
       "<Array [[201, 153, 73.6, ... 12.7, 12.3, 10.3]] type='3569 * var * float32[param...'>"
      ]
     },
     "execution_count": 12,
     "metadata": {},
     "output_type": "execute_result"
    }
   ],
   "source": [
    "events.GenJet.pt"
   ]
  },
  {
   "cell_type": "code",
   "execution_count": 13,
   "id": "7b3ce662-3383-4c75-aabb-6392297eb4fc",
   "metadata": {},
   "outputs": [
    {
     "data": {
      "text/plain": [
       "<GenParticleArray [[GenParticle, ... GenParticle]] type='3569 * var * genParticle'>"
      ]
     },
     "execution_count": 13,
     "metadata": {},
     "output_type": "execute_result"
    }
   ],
   "source": [
    "events.GenPart"
   ]
  },
  {
   "cell_type": "code",
   "execution_count": 14,
   "id": "1eb949cc-7d2c-41a0-864a-52791aefdeb7",
   "metadata": {},
   "outputs": [
    {
     "data": {
      "text/plain": [
       "<MissingETArray [MissingET, MissingET, ... MissingET] type='3569 * missingET'>"
      ]
     },
     "execution_count": 14,
     "metadata": {},
     "output_type": "execute_result"
    }
   ],
   "source": [
    "events.GenMET"
   ]
  },
  {
   "cell_type": "markdown",
   "id": "c9f785ab-665c-4ac6-b59d-69d4b3a2cb4a",
   "metadata": {},
   "source": [
    "## Select Higgs from gen particles"
   ]
  },
  {
   "cell_type": "code",
   "execution_count": 15,
   "id": "75a100e6-5abe-4498-a468-3ec189a23736",
   "metadata": {},
   "outputs": [
    {
     "data": {
      "text/plain": [
       "<Array [[False, False, ... False, False]] type='3569 * var * bool'>"
      ]
     },
     "execution_count": 15,
     "metadata": {},
     "output_type": "execute_result"
    }
   ],
   "source": [
    "is_higgs = events.GenPart.pdgId == 25 # Select Higgs bosons from GenPart\n",
    "is_higgs"
   ]
  },
  {
   "cell_type": "code",
   "execution_count": 16,
   "id": "f0124709-e5de-4b7e-922e-5d5a277224bf",
   "metadata": {},
   "outputs": [
    {
     "data": {
      "text/plain": [
       "['eta',\n",
       " 'mass',\n",
       " 'phi',\n",
       " 'pt',\n",
       " 'genPartIdxMother',\n",
       " 'pdgId',\n",
       " 'status',\n",
       " 'statusFlags',\n",
       " 'genPartIdxMotherG',\n",
       " 'distinctParentIdxG',\n",
       " 'childrenIdxG',\n",
       " 'distinctChildrenIdxG',\n",
       " 'distinctChildrenDeepIdxG']"
      ]
     },
     "execution_count": 16,
     "metadata": {},
     "output_type": "execute_result"
    }
   ],
   "source": [
    "events.GenPart[is_higgs].fields"
   ]
  },
  {
   "cell_type": "code",
   "execution_count": 17,
   "id": "b18ec170-cbcd-4fff-8ca9-f1f90f25cd28",
   "metadata": {},
   "outputs": [
    {
     "data": {
      "text/plain": [
       "<Array [[True, True, True, ... True, True]] type='3569 * var * bool'>"
      ]
     },
     "execution_count": 17,
     "metadata": {},
     "output_type": "execute_result"
    }
   ],
   "source": [
    "events.GenPart[is_higgs].hasFlags(['fromHardProcess'])"
   ]
  },
  {
   "cell_type": "code",
   "execution_count": 18,
   "id": "6b4e6771-8a2a-4dbf-a423-86a58c091103",
   "metadata": {},
   "outputs": [
    {
     "data": {
      "text/plain": [
       "[[11], [49], [78], [149, 150]]"
      ]
     },
     "execution_count": 18,
     "metadata": {},
     "output_type": "execute_result"
    }
   ],
   "source": [
    "events.GenPart[is_higgs].childrenIdxG[0].tolist()"
   ]
  },
  {
   "cell_type": "code",
   "execution_count": 19,
   "id": "58c6b0a4-4474-431f-b60b-3abcd3a133cd",
   "metadata": {},
   "outputs": [
    {
     "data": {
      "text/plain": [
       "<Array [[False, False, False, ... False, True]] type='3569 * var * bool'>"
      ]
     },
     "execution_count": 19,
     "metadata": {},
     "output_type": "execute_result"
    }
   ],
   "source": [
    "has_children = ak.num(events.GenPart[is_higgs].childrenIdxG, axis=2) == 2 # mask to consider only the GenPart with two children (the b-quarks in the decay H->bb)\n",
    "has_children"
   ]
  },
  {
   "cell_type": "code",
   "execution_count": 20,
   "id": "d713869f-26fc-490f-93e2-8ffe166c71b5",
   "metadata": {},
   "outputs": [
    {
     "data": {
      "text/plain": [
       "<GenParticleArray [[GenParticle], ... [GenParticle]] type='3569 * var * genParticle'>"
      ]
     },
     "execution_count": 20,
     "metadata": {},
     "output_type": "execute_result"
    }
   ],
   "source": [
    "higgs = events.GenPart[is_higgs][has_children]\n",
    "higgs"
   ]
  },
  {
   "cell_type": "code",
   "execution_count": 21,
   "id": "8b28fd1e-a40a-4921-8def-afa5a9cf73ba",
   "metadata": {},
   "outputs": [
    {
     "data": {
      "text/plain": [
       "<Array [1, 1, 1, 1, 1, 1, ... 1, 1, 1, 1, 1, 1] type='3569 * int64'>"
      ]
     },
     "execution_count": 21,
     "metadata": {},
     "output_type": "execute_result"
    }
   ],
   "source": [
    "n_higgs = ak.num(higgs)\n",
    "n_higgs"
   ]
  },
  {
   "cell_type": "code",
   "execution_count": 22,
   "id": "066daf57-bf97-4853-9ac6-83e4c762c5ef",
   "metadata": {},
   "outputs": [
    {
     "data": {
      "text/plain": [
       "True"
      ]
     },
     "execution_count": 22,
     "metadata": {},
     "output_type": "execute_result"
    }
   ],
   "source": [
    "# Check that there is one and only one Higgs boson per-event\n",
    "ak.all(n_higgs == 1)"
   ]
  },
  {
   "cell_type": "markdown",
   "id": "3a5b3a55-f9ac-4857-91b6-dea6cbee5351",
   "metadata": {},
   "source": [
    "## Inspect Higgs variables\n",
    "\n",
    "We can already plot some kinematical distributions of the Higgs boson at generator level."
   ]
  },
  {
   "cell_type": "code",
   "execution_count": 23,
   "id": "be8b836a-24b3-4429-a5c4-5324a0440992",
   "metadata": {},
   "outputs": [
    {
     "data": {
      "text/plain": [
       "<Array [[47.7], [42.3], ... [61], [73.8]] type='3569 * var * float32[parameters=...'>"
      ]
     },
     "execution_count": 23,
     "metadata": {},
     "output_type": "execute_result"
    }
   ],
   "source": [
    "higgs.pt"
   ]
  },
  {
   "cell_type": "code",
   "execution_count": 24,
   "id": "67eb9634-fd8f-4efd-9ef2-759be347e127",
   "metadata": {},
   "outputs": [
    {
     "data": {
      "image/png": "[encoded data removed]",
      "text/plain": [
       "<Figure size 432x288 with 1 Axes>"
      ]
     },
     "metadata": {
      "needs_background": "light"
     },
     "output_type": "display_data"
    }
   ],
   "source": [
    "pt = ak.flatten(higgs.pt) # flatten the array before plotting with plt.hist()\n",
    "plt.hist(pt, bins=100, range=(0, 1000));"
   ]
  },
  {
   "cell_type": "code",
   "execution_count": 25,
   "id": "9fd17945-e32e-42d5-b737-eb96858e9bf5",
   "metadata": {},
   "outputs": [
    {
     "data": {
      "image/png": "[encoded data removed]",
      "text/plain": [
       "<Figure size 432x288 with 1 Axes>"
      ]
     },
     "metadata": {
      "needs_background": "light"
     },
     "output_type": "display_data"
    }
   ],
   "source": [
    "mass = ak.flatten(higgs.mass)\n",
    "plt.hist(mass, bins=100, range=(0, 200));"
   ]
  },
  {
   "cell_type": "markdown",
   "id": "85a4fcfd-5bb4-43d4-96b2-76944b6d5b34",
   "metadata": {},
   "source": [
    "## Reweigh histogram with EFT weights\n",
    "\n",
    "We can pass the weight `events.LHEReweightingWeight` to `plt.hist()` in order to weigh the histograms with the EFT weights."
   ]
  },
  {
   "cell_type": "code",
   "execution_count": 21,
   "id": "9198b50a-4259-4b3b-8c89-322e32099405",
   "metadata": {},
   "outputs": [
    {
     "data": {
      "text/plain": [
       "<Array [1.07, 1.07, 1.07, ... 1.07, 1.07, 1.07] type='5000 * float32[parameters=...'>"
      ]
     },
     "execution_count": 21,
     "metadata": {},
     "output_type": "execute_result"
    }
   ],
   "source": [
    "w0 = events.LHEReweightingWeight[:,0]\n",
    "w0"
   ]
  },
  {
   "cell_type": "markdown",
   "id": "3f8395f1-1c72-416c-84c0-36e63af2852c",
   "metadata": {},
   "source": [
    "## Plot of SM distribution and EFT-reweighed distribution\n",
    "\n",
    "In order to look for EFT effects on the Higgs kinematical variables, we can plot the SM distribution and the distribution reweighed with a specific weight, to explore its on the distribution."
   ]
  },
  {
   "cell_type": "code",
   "execution_count": 22,
   "id": "3a39bdc2-d0a2-4640-a7bc-49cecaa47281",
   "metadata": {},
   "outputs": [
    {
     "data": {
      "image/png": "[encoded data removed]",
      "text/plain": [
       "<Figure size 600x600 with 1 Axes>"
      ]
     },
     "metadata": {},
     "output_type": "display_data"
    }
   ],
   "source": [
    "plt.hist(pt, bins=100, range=(0, 1000), histtype='step', label=\"SM\")\n",
    "plt.hist(pt, bins=100, range=(0, 1000), histtype='step', label=\"w0\", weights=w0)\n",
    "plt.legend();"
   ]
  },
  {
   "cell_type": "markdown",
   "id": "633e2823-dbf9-46c2-98f4-b1d307333fae",
   "metadata": {},
   "source": [
    "## Inspect top variables"
   ]
  },
  {
   "cell_type": "code",
   "execution_count": 23,
   "id": "bba7d702-c8c3-4d4e-9ee5-fea90ac5c202",
   "metadata": {},
   "outputs": [
    {
     "data": {
      "text/plain": [
       "<Array [[False, False, ... False, False]] type='5000 * var * bool'>"
      ]
     },
     "execution_count": 23,
     "metadata": {},
     "output_type": "execute_result"
    }
   ],
   "source": [
    "is_top = events.GenPart.pdgId == 6 # Select top quarks from GenPart\n",
    "is_top"
   ]
  },
  {
   "cell_type": "code",
   "execution_count": 24,
   "id": "a40e425f-cf75-410b-b537-c86741855d30",
   "metadata": {},
   "outputs": [
    {
     "data": {
      "text/plain": [
       "<Array [[False, False, False, ... False, True]] type='5000 * var * bool'>"
      ]
     },
     "execution_count": 24,
     "metadata": {},
     "output_type": "execute_result"
    }
   ],
   "source": [
    "has_children = ak.num(events.GenPart[is_top].childrenIdxG, axis=2) == 2 # mask to consider only the GenPart with two children\n",
    "has_children"
   ]
  },
  {
   "cell_type": "code",
   "execution_count": 25,
   "id": "b9688003-b19f-479a-af36-27011b74e6eb",
   "metadata": {},
   "outputs": [
    {
     "data": {
      "image/png": "[encoded data removed]",
      "text/plain": [
       "<Figure size 600x600 with 1 Axes>"
      ]
     },
     "metadata": {},
     "output_type": "display_data"
    }
   ],
   "source": [
    "plt.hist(ak.flatten(ak.num(events.GenPart[is_top].childrenIdxG, axis=2)[has_children]), bins=5, range=(0,5));"
   ]
  },
  {
   "cell_type": "code",
   "execution_count": 26,
   "id": "5f9ab541-a316-418f-a72d-5e33bde61b92",
   "metadata": {},
   "outputs": [
    {
     "data": {
      "text/plain": [
       "<Array [593, 594] type='2 * int64'>"
      ]
     },
     "execution_count": 26,
     "metadata": {},
     "output_type": "execute_result"
    }
   ],
   "source": [
    "ak.flatten(events.GenPart[is_top][has_children]).childrenIdxG[0]"
   ]
  },
  {
   "cell_type": "code",
   "execution_count": 27,
   "id": "599837a8-4bff-43b6-ac6a-324c1cd0e977",
   "metadata": {},
   "outputs": [
    {
     "data": {
      "text/plain": [
       "[21, 21, 4, -3, 5, 11, -12, -5, 5, -5]"
      ]
     },
     "execution_count": 27,
     "metadata": {},
     "output_type": "execute_result"
    }
   ],
   "source": [
    "events.LHEPart.pdgId[0].tolist()"
   ]
  },
  {
   "cell_type": "code",
   "execution_count": 28,
   "id": "dd0fd552-3fbb-45db-9390-c35223189518",
   "metadata": {},
   "outputs": [
    {
     "data": {
      "text/plain": [
       "[178.9066162109375,\n",
       " 175.6811981201172,\n",
       " 175.27464294433594,\n",
       " 175.47698974609375,\n",
       " 175.67153930664062]"
      ]
     },
     "execution_count": 28,
     "metadata": {},
     "output_type": "execute_result"
    }
   ],
   "source": [
    "events.GenPart[is_top].pt[0].tolist()"
   ]
  },
  {
   "cell_type": "markdown",
   "id": "1cd3171e-3566-4120-9e15-9688847f6100",
   "metadata": {},
   "source": [
    "# Study decay"
   ]
  },
  {
   "cell_type": "code",
   "execution_count": 29,
   "id": "1610a97d-b40b-4bcf-9db8-296b11264a45",
   "metadata": {},
   "outputs": [],
   "source": [
    "genparts = events.GenPart\n",
    "hard_process = genparts.hasFlags(['fromHardProcess','isPrompt','isHardProcess', 'isFirstCopy']) "
   ]
  },
  {
   "cell_type": "code",
   "execution_count": 31,
   "id": "536c44e4-e8d2-45ac-af46-d6f30cbc3d1a",
   "metadata": {},
   "outputs": [
    {
     "data": {
      "text/plain": [
       "[[6, -6, 25, 5, 24, -5, -24, 5, -5, 2, -1, 11, -12],\n",
       " [-2, 6, -6, 25, 21, 5, 24, -5, -24, 5, -5, 4, -3, 11, -12],\n",
       " [6, -6, 25, 5, 24, -5, -24, 5, -5, 4, -3, 11, -12],\n",
       " [6, -6, 25, 5, 24, -5, -24, 5, -5, 2, -1, 15, -16],\n",
       " [6, -6, 25, 5, 24, -5, -24, 5, -5, 4, -3, 11, -12],\n",
       " [6, -6, 25, 21, 5, 24, -5, -24, 5, -5, 4, -3, 11, -12],\n",
       " [6, -6, 25, 5, 24, -5, -24, 5, -5, 2, -1, 13, -14],\n",
       " [6, -6, 25, 5, 24, -5, -24, 5, -5, 4, -3, 13, -14],\n",
       " [6, -6, 25, 21, 5, 24, -5, -24, 5, -5, 4, -3, 11, -12],\n",
       " [6, -6, 25, 5, 24, -5, -24, 5, -5, 2, -1, 13, -14]]"
      ]
     },
     "execution_count": 31,
     "metadata": {},
     "output_type": "execute_result"
    }
   ],
   "source": [
    "genparts[hard_process].pdgId[0:10].tolist()"
   ]
  },
  {
   "cell_type": "code",
   "execution_count": 88,
   "id": "fe862992-d990-4377-a37b-813328ee3098",
   "metadata": {},
   "outputs": [],
   "source": [
    "top = genparts[hard_process][:,0]\n",
    "antitop = genparts[hard_process][:,1]  # leptonically"
   ]
  },
  {
   "cell_type": "code",
   "execution_count": 60,
   "id": "829d832b-8af5-409e-96d8-a543c37fed70",
   "metadata": {},
   "outputs": [],
   "source": [
    "lepton = genparts[hard_process][:,-2]\n",
    "quarks_fromW =  genparts[hard_process][:,-4:-2]"
   ]
  },
  {
   "cell_type": "code",
   "execution_count": 64,
   "id": "6f0d2b1f-fee5-427c-99e6-3a53c1e4260f",
   "metadata": {},
   "outputs": [
    {
     "data": {
      "text/plain": [
       "<Array [[0, 1], [0, 1], ... [0, 1], [1, 0]] type='3569 * var * int64'>"
      ]
     },
     "execution_count": 64,
     "metadata": {},
     "output_type": "execute_result"
    }
   ],
   "source": [
    "ak.argsort(quarks_fromW.pt, axis=1)"
   ]
  },
  {
   "cell_type": "code",
   "execution_count": 68,
   "id": "478a8571-71e5-4ee9-a7d5-f438840e74e8",
   "metadata": {},
   "outputs": [],
   "source": [
    "quark_fromW = quarks_fromW[ak.argsort(quarks_fromW.pt, axis=1, ascending=False)][:,-0]"
   ]
  },
  {
   "cell_type": "code",
   "execution_count": 73,
   "id": "be4865af-c524-47ec-ae10-201beb0b4cbe",
   "metadata": {},
   "outputs": [
    {
     "data": {
      "image/png": "[encoded data removed]",
      "text/plain": [
       "<Figure size 432x432 with 1 Axes>"
      ]
     },
     "metadata": {
      "needs_background": "light"
     },
     "output_type": "display_data"
    }
   ],
   "source": [
    "plt.hist(quark_fromW.pt, bins=100);"
   ]
  },
  {
   "cell_type": "code",
   "execution_count": 86,
   "id": "97dea666-6a85-4074-a44e-5b98c50be95b",
   "metadata": {},
   "outputs": [
    {
     "data": {
      "image/png": "[encoded data removed]",
      "text/plain": [
       "<Figure size 432x432 with 1 Axes>"
      ]
     },
     "metadata": {
      "needs_background": "light"
     },
     "output_type": "display_data"
    }
   ],
   "source": [
    "plt.hist(abs(lepton.delta_phi(quark_fromW)), bins=30);"
   ]
  },
  {
   "cell_type": "code",
   "execution_count": 83,
   "id": "e52d84a2-89fb-49ff-9cac-ff3b693feb49",
   "metadata": {},
   "outputs": [
    {
     "data": {
      "image/png": "[encoded data removed]",
      "text/plain": [
       "<Figure size 432x432 with 1 Axes>"
      ]
     },
     "metadata": {
      "needs_background": "light"
     },
     "output_type": "display_data"
    }
   ],
   "source": [
    "plt.hist(np.cos(lepton.delta_phi(quark_fromW)), bins=30);"
   ]
  },
  {
   "cell_type": "code",
   "execution_count": null,
   "id": "e085bc63-ef03-40de-bc30-5ecd959e5e09",
   "metadata": {},
   "outputs": [],
   "source": [
    "improt "
   ]
  },
  {
   "cell_type": "code",
   "execution_count": 92,
   "id": "6a9ffb70-0a7f-4595-8a28-c3a7264a8df3",
   "metadata": {},
   "outputs": [
    {
     "name": "stderr",
     "output_type": "stream",
     "text": [
      "/usr/local/lib/python3.8/site-packages/awkward/_connect/_numpy.py:197: RuntimeWarning: overflow encountered in sinh\n",
      "  result = getattr(ufunc, method)(\n",
      "/usr/local/lib/python3.8/site-packages/awkward/_connect/_numpy.py:197: RuntimeWarning: invalid value encountered in multiply\n",
      "  result = getattr(ufunc, method)(\n"
     ]
    },
    {
     "data": {
      "text/plain": [
       "<ThreeVectorArray [{x: -199, y: 142, ... z: -444}] type='3569 * ThreeVector[\"x\":...'>"
      ]
     },
     "execution_count": 92,
     "metadata": {},
     "output_type": "execute_result"
    }
   ],
   "source": [
    "top.pvec"
   ]
  },
  {
   "cell_type": "code",
   "execution_count": 93,
   "id": "b753f124-abb0-48d4-94cc-68c4b7663140",
   "metadata": {},
   "outputs": [
    {
     "name": "stderr",
     "output_type": "stream",
     "text": [
      "/usr/local/lib/python3.8/site-packages/awkward/_connect/_numpy.py:197: RuntimeWarning: invalid value encountered in power\n",
      "  result = getattr(ufunc, method)(\n"
     ]
    },
    {
     "data": {
      "text/plain": [
       "<LorentzVectorArray [{x: nan, y: nan, z: nan, ... t: nan}] type='3569 * LorentzV...'>"
      ]
     },
     "execution_count": 93,
     "metadata": {},
     "output_type": "execute_result"
    }
   ],
   "source": [
    "lepton.boost(-top.pvec)"
   ]
  },
  {
   "cell_type": "code",
   "execution_count": null,
   "id": "d440a48b-1a3b-4f1c-951f-f1361af6681d",
   "metadata": {},
   "outputs": [],
   "source": []
  },
  {
   "cell_type": "code",
   "execution_count": null,
   "id": "f3324bf9-04e0-4d77-9b8c-9b5ee5dbce8a",
   "metadata": {},
   "outputs": [],
   "source": []
  },
  {
   "cell_type": "code",
   "execution_count": 43,
   "id": "9100b368-f1c8-49e9-b1e2-b6eae08d789d",
   "metadata": {},
   "outputs": [
    {
     "data": {
      "text/plain": [
       "<Array [[74, 81, 88, 93, ... 327, 328, 329]] type='3569 * var * int64'>"
      ]
     },
     "execution_count": 43,
     "metadata": {},
     "output_type": "execute_result"
    }
   ],
   "source": [
    "ak.local_index(genparts, axis=1)[initial]"
   ]
  },
  {
   "cell_type": "code",
   "execution_count": 48,
   "id": "6f80615d-fdd8-42c3-b382-bf26430e5f73",
   "metadata": {},
   "outputs": [
    {
     "data": {
      "text/plain": [
       "<Array [-1, -1, 8, 9, ... 2307, 2314, 2316] type='2322 * int32[parameters={\"__do...'>"
      ]
     },
     "execution_count": 48,
     "metadata": {},
     "output_type": "execute_result"
    }
   ],
   "source": [
    "genparts[81].genPartIdxMother"
   ]
  },
  {
   "cell_type": "code",
   "execution_count": 37,
   "id": "6a7294eb-c803-4bfb-bcac-c79647db47e8",
   "metadata": {},
   "outputs": [
    {
     "data": {
      "text/plain": [
       "<Array [4, 685, 1752, ... 6170068, 6171228] type='3569 * ?int64[parameters={\"__d...'>"
      ]
     },
     "execution_count": 37,
     "metadata": {},
     "output_type": "execute_result"
    }
   ],
   "source": [
    "ak.firsts(genparts[hard_process][:,0].children).genPartIdxMotherG"
   ]
  },
  {
   "cell_type": "code",
   "execution_count": 32,
   "id": "6b0c2fae-a857-458e-b11a-efdbf5aa1c12",
   "metadata": {},
   "outputs": [],
   "source": [
    "N_genpart_event = ak.num(genparts, axis=1)\n",
    "genpart_index_offset = np.concatenate([[0],np.cumsum(N_genpart_event)])\n",
    "genparts_flat = ak.flatten(genparts)\n",
    "\n",
    "def reverse_index(idxG):\n",
    "    event_idx = ak.local_index(genpart_index_offset)[(genpart_index_offset-idxG) > 0][0] - 1\n",
    "    genpart_idx =  idxG - genpart_index_offset[event_idx]\n",
    "    return event_idx, genpart_idx\n",
    "\n",
    "def print_tree(idxG, offset=0):\n",
    "    part = genparts_flat[idxG]\n",
    "    idx = reverse_index(idxG)\n",
    "    \n",
    "    \n",
    "    if part.hasFlags(['fromHardProcess','isHardProcess', 'isPrompt', 'isFirstCopy']) and part.status!=21:\n",
    "        print('+ '*offset + f\"pdgId:{part.pdgId}, status:{part.status}, GenPart {idx}, mother {part.genPartIdxMother}, fromHardProcess:{int(part.hasFlags(['fromHardProcess']))}, \\\n",
    "isHardProcess:{int(part.hasFlags(['isHardProcess']))}, isPrompt:{int(part.hasFlags(['isPrompt']))}, isFirstCopy:{int(part.hasFlags(['isFirstCopy']))}, \\\n",
    "isLastCopy:{int(part.hasFlags(['isLastCopy']))}         pt:{part.pt:.3f}, eta:{part.eta:.3f}, phi:{part.phi:.3f}\", end=\"\")\n",
    "        print(\"         --> initial copy, hard process \", end=\"\")\n",
    "    else:\n",
    "        print('| '*offset + f\"pdgId:{part.pdgId}, status:{part.status}, GenPart {idx}, mother {part.genPartIdxMother}, fromHardProcess:{int(part.hasFlags(['fromHardProcess']))}, \\\n",
    "isHardProcess:{int(part.hasFlags(['isHardProcess']))}, isPrompt:{int(part.hasFlags(['isPrompt']))}, isFirstCopy:{int(part.hasFlags(['isFirstCopy']))}, \\\n",
    "isLastCopy:{int(part.hasFlags(['isLastCopy']))}         pt:{part.pt:.3f}, eta:{part.eta:.3f}, phi:{part.phi:.3f}\", end=\"\")\n",
    "    print()\n",
    "    \n",
    "    \n",
    "    child = part.childrenIdxG\n",
    "    #has_children = len(child)>0\n",
    "    for partIdx in child:\n",
    "        print_tree(partIdx, offset+1)\n",
    "        \n",
    "def print_tree_event(iev, idx):\n",
    "    idxG = genpart_index_offset[iev] + idx\n",
    "    print_tree(idxG)"
   ]
  },
  {
   "cell_type": "code",
   "execution_count": 51,
   "id": "0a05657b-3cbb-4391-8a57-954de28ac611",
   "metadata": {},
   "outputs": [
    {
     "name": "stdout",
     "output_type": "stream",
     "text": [
      "pdgId:21, status:21, GenPart (0, 2), mother 7, fromHardProcess:1, isHardProcess:1, isPrompt:1, isFirstCopy:0, isLastCopy:1         pt:0.000, eta:25712.000, phi:0.000\n",
      "+ pdgId:6, status:22, GenPart (0, 4), mother 2, fromHardProcess:1, isHardProcess:1, isPrompt:1, isFirstCopy:1, isLastCopy:0         pt:244.496, eta:1.366, phi:2.520         --> initial copy, hard process \n",
      "| | pdgId:6, status:44, GenPart (0, 9), mother 4, fromHardProcess:1, isHardProcess:0, isPrompt:1, isFirstCopy:0, isLastCopy:0         pt:245.427, eta:1.366, phi:2.511\n",
      "| | | pdgId:6, status:44, GenPart (0, 47), mother 9, fromHardProcess:1, isHardProcess:0, isPrompt:1, isFirstCopy:0, isLastCopy:0         pt:245.487, eta:1.366, phi:2.510\n",
      "| | | | pdgId:6, status:62, GenPart (0, 76), mother 47, fromHardProcess:1, isHardProcess:0, isPrompt:1, isFirstCopy:0, isLastCopy:1         pt:245.124, eta:1.365, phi:2.511\n",
      "+ + + + + pdgId:5, status:23, GenPart (0, 127), mother 76, fromHardProcess:1, isHardProcess:1, isPrompt:1, isFirstCopy:1, isLastCopy:0         pt:202.325, eta:1.203, phi:2.673         --> initial copy, hard process \n",
      "| | | | | | pdgId:5, status:51, GenPart (0, 129), mother 127, fromHardProcess:1, isHardProcess:0, isPrompt:1, isFirstCopy:0, isLastCopy:0         pt:171.137, eta:1.174, phi:2.671\n",
      "| | | | | | | pdgId:5, status:52, GenPart (0, 134), mother 129, fromHardProcess:1, isHardProcess:0, isPrompt:1, isFirstCopy:0, isLastCopy:0         pt:165.375, eta:1.175, phi:2.671\n",
      "| | | | | | | | pdgId:5, status:71, GenPart (0, 307), mother 134, fromHardProcess:1, isHardProcess:0, isPrompt:1, isFirstCopy:0, isLastCopy:1         pt:165.375, eta:1.175, phi:2.671\n",
      "| | | | | | | | | pdgId:-521, status:2, GenPart (0, 315), mother 307, fromHardProcess:0, isHardProcess:0, isPrompt:1, isFirstCopy:1, isLastCopy:1         pt:147.607, eta:1.182, phi:2.672\n",
      "| | | | | | | | | | pdgId:-14, status:1, GenPart (0, 505), mother 315, fromHardProcess:0, isHardProcess:0, isPrompt:0, isFirstCopy:1, isLastCopy:1         pt:10.762, eta:1.235, phi:2.716\n",
      "| | | | | | | | | | pdgId:13, status:1, GenPart (0, 506), mother 315, fromHardProcess:0, isHardProcess:0, isPrompt:0, isFirstCopy:1, isLastCopy:1         pt:85.018, eta:1.170, phi:2.683\n",
      "| | | | | | | | | | pdgId:423, status:2, GenPart (0, 507), mother 315, fromHardProcess:0, isHardProcess:0, isPrompt:0, isFirstCopy:1, isLastCopy:1         pt:51.862, eta:1.188, phi:2.646\n",
      "| | | | | | | | | | | pdgId:421, status:2, GenPart (0, 611), mother 507, fromHardProcess:0, isHardProcess:0, isPrompt:0, isFirstCopy:1, isLastCopy:1         pt:47.924, eta:1.188, phi:2.646\n",
      "| | | | | | | | | | | | pdgId:333, status:2, GenPart (0, 647), mother 611, fromHardProcess:0, isHardProcess:0, isPrompt:0, isFirstCopy:1, isLastCopy:1         pt:38.742, eta:1.198, phi:2.646\n",
      "| | | | | | | | | | | | | pdgId:321, status:1, GenPart (0, 659), mother 647, fromHardProcess:0, isHardProcess:0, isPrompt:0, isFirstCopy:1, isLastCopy:1         pt:23.167, eta:1.200, phi:2.646\n",
      "| | | | | | | | | | | | | pdgId:-321, status:1, GenPart (0, 660), mother 647, fromHardProcess:0, isHardProcess:0, isPrompt:0, isFirstCopy:1, isLastCopy:1         pt:15.575, eta:1.193, phi:2.646\n",
      "| | | | | | | | | | | | pdgId:311, status:2, GenPart (0, 648), mother 611, fromHardProcess:0, isHardProcess:0, isPrompt:0, isFirstCopy:1, isLastCopy:1         pt:9.182, eta:1.148, phi:2.646\n",
      "| | | | | | | | | | | | | pdgId:130, status:1, GenPart (0, 661), mother 648, fromHardProcess:0, isHardProcess:0, isPrompt:0, isFirstCopy:1, isLastCopy:1         pt:9.182, eta:1.148, phi:2.646\n",
      "| | | | | | | | | | | pdgId:111, status:2, GenPart (0, 612), mother 507, fromHardProcess:0, isHardProcess:0, isPrompt:0, isFirstCopy:1, isLastCopy:1         pt:3.938, eta:1.183, phi:2.636\n",
      "| | | | | | | | | | | | pdgId:22, status:1, GenPart (0, 649), mother 612, fromHardProcess:0, isHardProcess:0, isPrompt:0, isFirstCopy:1, isLastCopy:1         pt:1.659, eta:1.220, phi:2.648\n",
      "| | | | | | | | | | | | pdgId:22, status:1, GenPart (0, 650), mother 612, fromHardProcess:0, isHardProcess:0, isPrompt:0, isFirstCopy:1, isLastCopy:1         pt:2.279, eta:1.155, phi:2.627\n",
      "| | | | | | | | | pdgId:111, status:2, GenPart (0, 316), mother 307, fromHardProcess:0, isHardProcess:0, isPrompt:1, isFirstCopy:1, isLastCopy:1         pt:4.106, eta:1.098, phi:2.650\n",
      "| | | | | | | | | | pdgId:22, status:1, GenPart (0, 508), mother 316, fromHardProcess:0, isHardProcess:0, isPrompt:0, isFirstCopy:1, isLastCopy:1         pt:1.422, eta:1.111, phi:2.693\n",
      "| | | | | | | | | | pdgId:22, status:1, GenPart (0, 509), mother 316, fromHardProcess:0, isHardProcess:0, isPrompt:0, isFirstCopy:1, isLastCopy:1         pt:2.686, eta:1.091, phi:2.627\n",
      "| | | | | | | | | pdgId:211, status:1, GenPart (0, 317), mother 307, fromHardProcess:0, isHardProcess:0, isPrompt:1, isFirstCopy:1, isLastCopy:1         pt:11.183, eta:1.205, phi:2.687\n",
      "| | | | | | | | | pdgId:223, status:2, GenPart (0, 318), mother 307, fromHardProcess:0, isHardProcess:0, isPrompt:1, isFirstCopy:1, isLastCopy:1         pt:9.257, eta:1.180, phi:2.698\n",
      "| | | | | | | | | | pdgId:211, status:1, GenPart (0, 510), mother 318, fromHardProcess:0, isHardProcess:0, isPrompt:0, isFirstCopy:1, isLastCopy:1         pt:5.007, eta:1.216, phi:2.700\n",
      "| | | | | | | | | | pdgId:-211, status:1, GenPart (0, 511), mother 318, fromHardProcess:0, isHardProcess:0, isPrompt:0, isFirstCopy:1, isLastCopy:1         pt:0.929, eta:1.119, phi:2.821\n",
      "| | | | | | | | | | pdgId:111, status:2, GenPart (0, 512), mother 318, fromHardProcess:0, isHardProcess:0, isPrompt:0, isFirstCopy:1, isLastCopy:1         pt:3.331, eta:1.138, phi:2.661\n",
      "| | | | | | | | | | | pdgId:22, status:1, GenPart (0, 613), mother 512, fromHardProcess:0, isHardProcess:0, isPrompt:0, isFirstCopy:1, isLastCopy:1         pt:1.650, eta:1.097, phi:2.669\n",
      "| | | | | | | | | | | pdgId:22, status:1, GenPart (0, 614), mother 512, fromHardProcess:0, isHardProcess:0, isPrompt:0, isFirstCopy:1, isLastCopy:1         pt:1.681, eta:1.177, phi:2.653\n",
      "| | | | | | | | | pdgId:-213, status:2, GenPart (0, 319), mother 307, fromHardProcess:0, isHardProcess:0, isPrompt:1, isFirstCopy:1, isLastCopy:1         pt:9.078, eta:1.337, phi:2.602\n",
      "| | | | | | | | | | pdgId:-211, status:1, GenPart (0, 419), mother 319, fromHardProcess:0, isHardProcess:0, isPrompt:0, isFirstCopy:1, isLastCopy:1         pt:3.322, eta:1.403, phi:2.675\n",
      "| | | | | | | | | | pdgId:111, status:2, GenPart (0, 420), mother 319, fromHardProcess:0, isHardProcess:0, isPrompt:0, isFirstCopy:1, isLastCopy:1         pt:5.770, eta:1.295, phi:2.560\n",
      "| | | | | | | | | | | pdgId:22, status:1, GenPart (0, 578), mother 420, fromHardProcess:0, isHardProcess:0, isPrompt:0, isFirstCopy:1, isLastCopy:1         pt:3.213, eta:1.312, phi:2.548\n",
      "| | | | | | | | | | | pdgId:22, status:1, GenPart (0, 579), mother 420, fromHardProcess:0, isHardProcess:0, isPrompt:0, isFirstCopy:1, isLastCopy:1         pt:2.557, eta:1.272, phi:2.573\n",
      "| | | | | | | | | pdgId:221, status:2, GenPart (0, 320), mother 307, fromHardProcess:0, isHardProcess:0, isPrompt:1, isFirstCopy:1, isLastCopy:1         pt:7.587, eta:1.270, phi:2.731\n",
      "| | | | | | | | | | pdgId:22, status:1, GenPart (0, 513), mother 320, fromHardProcess:0, isHardProcess:0, isPrompt:0, isFirstCopy:1, isLastCopy:1         pt:0.253, eta:1.333, phi:3.117\n",
      "| | | | | | | | | | pdgId:22, status:1, GenPart (0, 514), mother 320, fromHardProcess:0, isHardProcess:0, isPrompt:0, isFirstCopy:1, isLastCopy:1         pt:7.353, eta:1.265, phi:2.718\n",
      "| | | | | | | | | pdgId:323, status:2, GenPart (0, 321), mother 307, fromHardProcess:0, isHardProcess:0, isPrompt:1, isFirstCopy:1, isLastCopy:1         pt:7.973, eta:1.340, phi:2.644\n",
      "| | | | | | | | | | pdgId:311, status:2, GenPart (0, 421), mother 321, fromHardProcess:0, isHardProcess:0, isPrompt:0, isFirstCopy:1, isLastCopy:1         pt:4.898, eta:1.327, phi:2.592\n",
      "| | | | | | | | | | | pdgId:310, status:1, GenPart (0, 453), mother 421, fromHardProcess:0, isHardProcess:0, isPrompt:0, isFirstCopy:1, isLastCopy:1         pt:4.898, eta:1.327, phi:2.592\n",
      "| | | | | | | | | | pdgId:211, status:1, GenPart (0, 422), mother 321, fromHardProcess:0, isHardProcess:0, isPrompt:0, isFirstCopy:1, isLastCopy:1         pt:3.092, eta:1.354, phi:2.728\n",
      "| | | | | | | | | pdgId:-313, status:2, GenPart (0, 322), mother 307, fromHardProcess:0, isHardProcess:0, isPrompt:1, isFirstCopy:1, isLastCopy:1         pt:3.677, eta:1.396, phi:2.662\n",
      "| | | | | | | | | | pdgId:-321, status:1, GenPart (0, 423), mother 322, fromHardProcess:0, isHardProcess:0, isPrompt:0, isFirstCopy:1, isLastCopy:1         pt:2.357, eta:1.515, phi:2.659\n",
      "| | | | | | | | | | pdgId:211, status:1, GenPart (0, 424), mother 322, fromHardProcess:0, isHardProcess:0, isPrompt:0, isFirstCopy:1, isLastCopy:1         pt:1.321, eta:1.146, phi:2.667\n",
      "| | | | | | | | | pdgId:221, status:2, GenPart (0, 323), mother 307, fromHardProcess:0, isHardProcess:0, isPrompt:1, isFirstCopy:1, isLastCopy:1         pt:1.214, eta:1.189, phi:2.297\n",
      "| | | | | | | | | | pdgId:211, status:1, GenPart (0, 515), mother 323, fromHardProcess:0, isHardProcess:0, isPrompt:0, isFirstCopy:1, isLastCopy:1         pt:0.383, eta:1.245, phi:1.965\n",
      "| | | | | | | | | | pdgId:-211, status:1, GenPart (0, 516), mother 323, fromHardProcess:0, isHardProcess:0, isPrompt:0, isFirstCopy:1, isLastCopy:1         pt:0.324, eta:1.308, phi:2.630\n",
      "| | | | | | | | | | pdgId:111, status:2, GenPart (0, 517), mother 323, fromHardProcess:0, isHardProcess:0, isPrompt:0, isFirstCopy:1, isLastCopy:1         pt:0.547, eta:1.002, phi:2.332\n",
      "| | | | | | | | | | | pdgId:22, status:1, GenPart (0, 615), mother 517, fromHardProcess:0, isHardProcess:0, isPrompt:0, isFirstCopy:1, isLastCopy:1         pt:0.039, eta:0.870, phi:1.410\n",
      "| | | | | | | | | | | pdgId:22, status:1, GenPart (0, 616), mother 517, fromHardProcess:0, isHardProcess:0, isPrompt:0, isFirstCopy:1, isLastCopy:1         pt:0.525, eta:0.988, phi:2.390\n",
      "| | | | | | | | | pdgId:221, status:2, GenPart (0, 324), mother 307, fromHardProcess:0, isHardProcess:0, isPrompt:1, isFirstCopy:1, isLastCopy:1         pt:0.327, eta:1.319, phi:-1.792\n",
      "| | | | | | | | | | pdgId:211, status:1, GenPart (0, 518), mother 324, fromHardProcess:0, isHardProcess:0, isPrompt:0, isFirstCopy:1, isLastCopy:1         pt:0.111, eta:1.216, phi:-2.284\n",
      "| | | | | | | | | | pdgId:-211, status:1, GenPart (0, 519), mother 324, fromHardProcess:0, isHardProcess:0, isPrompt:0, isFirstCopy:1, isLastCopy:1         pt:0.188, eta:1.458, phi:-1.886\n",
      "| | | | | | | | | | pdgId:111, status:2, GenPart (0, 520), mother 324, fromHardProcess:0, isHardProcess:0, isPrompt:0, isFirstCopy:1, isLastCopy:1         pt:0.081, eta:0.171, phi:-0.757\n",
      "| | | | | | | | | | | pdgId:22, status:1, GenPart (0, 617), mother 520, fromHardProcess:0, isHardProcess:0, isPrompt:0, isFirstCopy:1, isLastCopy:1         pt:0.084, eta:0.167, phi:-1.674\n",
      "| | | | | | | | | | | pdgId:22, status:1, GenPart (0, 618), mother 520, fromHardProcess:0, isHardProcess:0, isPrompt:0, isFirstCopy:1, isLastCopy:1         pt:0.073, eta:-0.001, phi:0.387\n",
      "| | | | | | | | | pdgId:2112, status:1, GenPart (0, 325), mother 307, fromHardProcess:0, isHardProcess:0, isPrompt:1, isFirstCopy:1, isLastCopy:1         pt:0.058, eta:-4.191, phi:1.749\n",
      "| | | | | | | | | pdgId:-2112, status:1, GenPart (0, 326), mother 307, fromHardProcess:0, isHardProcess:0, isPrompt:1, isFirstCopy:1, isLastCopy:1         pt:0.526, eta:-2.597, phi:1.982\n",
      "| | | | | | | | | pdgId:111, status:2, GenPart (0, 327), mother 307, fromHardProcess:0, isHardProcess:0, isPrompt:1, isFirstCopy:1, isLastCopy:1         pt:0.055, eta:-2.437, phi:-1.328\n",
      "| | | | | | | | | | pdgId:22, status:1, GenPart (0, 521), mother 327, fromHardProcess:0, isHardProcess:0, isPrompt:0, isFirstCopy:1, isLastCopy:1         pt:0.046, eta:-1.647, phi:2.214\n",
      "| | | | | | | | | | pdgId:22, status:1, GenPart (0, 522), mother 327, fromHardProcess:0, isHardProcess:0, isPrompt:0, isFirstCopy:1, isLastCopy:1         pt:0.099, eta:-1.443, phi:-1.146\n",
      "| | | | | | | | | pdgId:-211, status:1, GenPart (0, 328), mother 307, fromHardProcess:0, isHardProcess:0, isPrompt:1, isFirstCopy:1, isLastCopy:1         pt:0.659, eta:-1.509, phi:-0.516\n",
      "| | | | | | | | | pdgId:321, status:1, GenPart (0, 329), mother 307, fromHardProcess:0, isHardProcess:0, isPrompt:1, isFirstCopy:1, isLastCopy:1         pt:0.772, eta:-2.241, phi:1.465\n",
      "| | | | | | | | | pdgId:-313, status:2, GenPart (0, 330), mother 307, fromHardProcess:0, isHardProcess:0, isPrompt:1, isFirstCopy:1, isLastCopy:1         pt:0.497, eta:-5.051, phi:1.399\n",
      "| | | | | | | | | | pdgId:-321, status:1, GenPart (0, 425), mother 330, fromHardProcess:0, isHardProcess:0, isPrompt:0, isFirstCopy:1, isLastCopy:1         pt:0.760, eta:-4.476, phi:1.379\n",
      "| | | | | | | | | | pdgId:211, status:1, GenPart (0, 426), mother 330, fromHardProcess:0, isHardProcess:0, isPrompt:0, isFirstCopy:1, isLastCopy:1         pt:0.263, eta:-3.728, phi:-1.802\n",
      "| | | | | | | | | pdgId:223, status:2, GenPart (0, 331), mother 307, fromHardProcess:0, isHardProcess:0, isPrompt:1, isFirstCopy:1, isLastCopy:1         pt:0.408, eta:-4.884, phi:1.862\n",
      "| | | | | | | | | | pdgId:211, status:1, GenPart (0, 523), mother 331, fromHardProcess:0, isHardProcess:0, isPrompt:0, isFirstCopy:1, isLastCopy:1         pt:0.155, eta:-4.557, phi:2.713\n",
      "| | | | | | | | | | pdgId:-211, status:1, GenPart (0, 524), mother 331, fromHardProcess:0, isHardProcess:0, isPrompt:0, isFirstCopy:1, isLastCopy:1         pt:0.436, eta:-3.900, phi:1.455\n",
      "| | | | | | | | | | pdgId:111, status:2, GenPart (0, 525), mother 331, fromHardProcess:0, isHardProcess:0, isPrompt:0, isFirstCopy:1, isLastCopy:1         pt:0.110, eta:-5.075, phi:-1.810\n",
      "| | | | | | | | | | | pdgId:22, status:1, GenPart (0, 619), mother 525, fromHardProcess:0, isHardProcess:0, isPrompt:0, isFirstCopy:1, isLastCopy:1         pt:0.063, eta:-3.993, phi:-0.852\n",
      "| | | | | | | | | | | pdgId:22, status:1, GenPart (0, 620), mother 525, fromHardProcess:0, isHardProcess:0, isPrompt:0, isFirstCopy:1, isLastCopy:1         pt:0.090, eta:-5.062, phi:-2.417\n",
      "| | | | | | | | | pdgId:111, status:2, GenPart (0, 332), mother 307, fromHardProcess:0, isHardProcess:0, isPrompt:1, isFirstCopy:1, isLastCopy:1         pt:0.327, eta:-4.459, phi:1.057\n",
      "| | | | | | | | | | pdgId:22, status:1, GenPart (0, 526), mother 332, fromHardProcess:0, isHardProcess:0, isPrompt:0, isFirstCopy:1, isLastCopy:1         pt:0.048, eta:-3.530, phi:0.638\n",
      "| | | | | | | | | | pdgId:22, status:1, GenPart (0, 527), mother 332, fromHardProcess:0, isHardProcess:0, isPrompt:0, isFirstCopy:1, isLastCopy:1         pt:0.284, eta:-4.541, phi:1.125\n",
      "| | | | | | | | | pdgId:-211, status:1, GenPart (0, 333), mother 307, fromHardProcess:0, isHardProcess:0, isPrompt:1, isFirstCopy:1, isLastCopy:1         pt:0.506, eta:-3.822, phi:0.702\n",
      "| | | | | | | | | pdgId:111, status:2, GenPart (0, 334), mother 307, fromHardProcess:0, isHardProcess:0, isPrompt:1, isFirstCopy:1, isLastCopy:1         pt:0.631, eta:-4.318, phi:3.119\n",
      "| | | | | | | | | | pdgId:22, status:1, GenPart (0, 528), mother 334, fromHardProcess:0, isHardProcess:0, isPrompt:0, isFirstCopy:1, isLastCopy:1         pt:0.220, eta:-4.316, phi:2.826\n",
      "| | | | | | | | | | pdgId:22, status:1, GenPart (0, 529), mother 334, fromHardProcess:0, isHardProcess:0, isPrompt:0, isFirstCopy:1, isLastCopy:1         pt:0.425, eta:-4.284, phi:-3.014\n",
      "| | | | | | pdgId:21, status:51, GenPart (0, 130), mother 127, fromHardProcess:0, isHardProcess:0, isPrompt:1, isFirstCopy:1, isLastCopy:0         pt:30.608, eta:1.363, phi:2.675\n",
      "| | | | | | | pdgId:21, status:51, GenPart (0, 132), mother 130, fromHardProcess:0, isHardProcess:0, isPrompt:1, isFirstCopy:0, isLastCopy:0         pt:24.407, eta:1.381, phi:2.667\n",
      "| | | | | | | | pdgId:21, status:71, GenPart (0, 309), mother 132, fromHardProcess:0, isHardProcess:0, isPrompt:1, isFirstCopy:0, isLastCopy:1         pt:24.407, eta:1.381, phi:2.667\n",
      "| | | | | | | pdgId:21, status:51, GenPart (0, 133), mother 130, fromHardProcess:0, isHardProcess:0, isPrompt:1, isFirstCopy:0, isLastCopy:0         pt:11.964, eta:1.231, phi:2.690\n",
      "| | | | | | | | pdgId:21, status:71, GenPart (0, 308), mother 133, fromHardProcess:0, isHardProcess:0, isPrompt:1, isFirstCopy:0, isLastCopy:1         pt:11.964, eta:1.231, phi:2.690\n",
      "+ + + + + pdgId:24, status:22, GenPart (0, 128), mother 76, fromHardProcess:1, isHardProcess:1, isPrompt:1, isFirstCopy:1, isLastCopy:0         pt:56.028, eta:1.662, phi:1.886         --> initial copy, hard process \n",
      "| | | | | | pdgId:24, status:52, GenPart (0, 131), mother 128, fromHardProcess:1, isHardProcess:0, isPrompt:1, isFirstCopy:0, isLastCopy:1         pt:56.218, eta:1.660, phi:1.898\n",
      "+ + + + + + + pdgId:2, status:23, GenPart (0, 169), mother 131, fromHardProcess:1, isHardProcess:1, isPrompt:1, isFirstCopy:1, isLastCopy:0         pt:22.560, eta:1.415, phi:-1.867         --> initial copy, hard process \n",
      "| | | | | | | | pdgId:2, status:51, GenPart (0, 171), mother 169, fromHardProcess:1, isHardProcess:0, isPrompt:1, isFirstCopy:0, isLastCopy:0         pt:22.662, eta:1.363, phi:-1.956\n",
      "| | | | | | | | | pdgId:2, status:52, GenPart (0, 179), mother 171, fromHardProcess:1, isHardProcess:0, isPrompt:1, isFirstCopy:0, isLastCopy:0         pt:21.286, eta:1.363, phi:-1.956\n",
      "| | | | | | | | | | pdgId:2, status:71, GenPart (0, 256), mother 179, fromHardProcess:1, isHardProcess:0, isPrompt:1, isFirstCopy:0, isLastCopy:1         pt:21.286, eta:1.363, phi:-1.956\n",
      "| | | | | | | | | | | pdgId:111, status:2, GenPart (0, 264), mother 256, fromHardProcess:0, isHardProcess:0, isPrompt:1, isFirstCopy:1, isLastCopy:1         pt:1.399, eta:1.220, phi:-2.071\n",
      "| | | | | | | | | | | | pdgId:22, status:1, GenPart (0, 477), mother 264, fromHardProcess:0, isHardProcess:0, isPrompt:0, isFirstCopy:1, isLastCopy:1         pt:0.812, eta:1.225, phi:-1.989\n",
      "| | | | | | | | | | | | pdgId:22, status:1, GenPart (0, 478), mother 264, fromHardProcess:0, isHardProcess:0, isPrompt:0, isFirstCopy:1, isLastCopy:1         pt:0.593, eta:1.204, phi:-2.183\n",
      "| | | | | | | | | | | pdgId:111, status:2, GenPart (0, 265), mother 256, fromHardProcess:0, isHardProcess:0, isPrompt:1, isFirstCopy:1, isLastCopy:1         pt:4.967, eta:1.356, phi:-1.951\n",
      "| | | | | | | | | | | | pdgId:22, status:1, GenPart (0, 479), mother 265, fromHardProcess:0, isHardProcess:0, isPrompt:0, isFirstCopy:1, isLastCopy:1         pt:1.164, eta:1.384, phi:-1.991\n",
      "| | | | | | | | | | | | pdgId:22, status:1, GenPart (0, 480), mother 265, fromHardProcess:0, isHardProcess:0, isPrompt:0, isFirstCopy:1, isLastCopy:1         pt:3.805, eta:1.347, phi:-1.939\n",
      "| | | | | | | | | | | pdgId:111, status:2, GenPart (0, 266), mother 256, fromHardProcess:0, isHardProcess:0, isPrompt:1, isFirstCopy:1, isLastCopy:1         pt:3.661, eta:1.334, phi:-1.899\n",
      "| | | | | | | | | | | | pdgId:22, status:1, GenPart (0, 481), mother 266, fromHardProcess:0, isHardProcess:0, isPrompt:0, isFirstCopy:1, isLastCopy:1         pt:0.815, eta:1.395, phi:-1.867\n",
      "| | | | | | | | | | | | pdgId:22, status:1, GenPart (0, 482), mother 266, fromHardProcess:0, isHardProcess:0, isPrompt:0, isFirstCopy:1, isLastCopy:1         pt:2.846, eta:1.316, phi:-1.909\n",
      "| | | | | | | | | | | pdgId:113, status:2, GenPart (0, 267), mother 256, fromHardProcess:0, isHardProcess:0, isPrompt:1, isFirstCopy:1, isLastCopy:1         pt:1.233, eta:1.709, phi:-1.895\n",
      "| | | | | | | | | | | | pdgId:211, status:1, GenPart (0, 400), mother 267, fromHardProcess:0, isHardProcess:0, isPrompt:0, isFirstCopy:1, isLastCopy:1         pt:0.605, eta:2.048, phi:-2.028\n",
      "| | | | | | | | | | | | pdgId:-211, status:1, GenPart (0, 401), mother 267, fromHardProcess:0, isHardProcess:0, isPrompt:0, isFirstCopy:1, isLastCopy:1         pt:0.639, eta:1.223, phi:-1.770\n",
      "| | | | | | | | | | | pdgId:111, status:2, GenPart (0, 268), mother 256, fromHardProcess:0, isHardProcess:0, isPrompt:1, isFirstCopy:1, isLastCopy:1         pt:1.563, eta:1.218, phi:-2.155\n",
      "| | | | | | | | | | | | pdgId:22, status:1, GenPart (0, 483), mother 268, fromHardProcess:0, isHardProcess:0, isPrompt:0, isFirstCopy:1, isLastCopy:1         pt:0.714, eta:1.307, phi:-2.175\n",
      "| | | | | | | | | | | | pdgId:22, status:1, GenPart (0, 484), mother 268, fromHardProcess:0, isHardProcess:0, isPrompt:0, isFirstCopy:1, isLastCopy:1         pt:0.850, eta:1.138, phi:-2.138\n",
      "| | | | | | | | | | | pdgId:111, status:2, GenPart (0, 269), mother 256, fromHardProcess:0, isHardProcess:0, isPrompt:1, isFirstCopy:1, isLastCopy:1         pt:4.649, eta:1.246, phi:-2.001\n",
      "| | | | | | | | | | | | pdgId:22, status:1, GenPart (0, 485), mother 269, fromHardProcess:0, isHardProcess:0, isPrompt:0, isFirstCopy:1, isLastCopy:1         pt:2.928, eta:1.268, phi:-2.003\n",
      "| | | | | | | | | | | | pdgId:22, status:1, GenPart (0, 486), mother 269, fromHardProcess:0, isHardProcess:0, isPrompt:0, isFirstCopy:1, isLastCopy:1         pt:1.721, eta:1.208, phi:-1.998\n",
      "| | | | | | | | | | | pdgId:113, status:2, GenPart (0, 270), mother 256, fromHardProcess:0, isHardProcess:0, isPrompt:1, isFirstCopy:1, isLastCopy:1         pt:2.792, eta:1.603, phi:-1.993\n",
      "| | | | | | | | | | | | pdgId:211, status:1, GenPart (0, 402), mother 270, fromHardProcess:0, isHardProcess:0, isPrompt:0, isFirstCopy:1, isLastCopy:1         pt:2.510, eta:1.637, phi:-1.936\n",
      "| | | | | | | | | | | | pdgId:-211, status:1, GenPart (0, 403), mother 270, fromHardProcess:0, isHardProcess:0, isPrompt:0, isFirstCopy:1, isLastCopy:1         pt:0.321, eta:1.137, phi:-2.456\n",
      "| | | | | | | | | | | pdgId:113, status:2, GenPart (0, 271), mother 256, fromHardProcess:0, isHardProcess:0, isPrompt:1, isFirstCopy:1, isLastCopy:1         pt:0.962, eta:1.889, phi:-1.386\n",
      "| | | | | | | | | | | | pdgId:211, status:1, GenPart (0, 404), mother 271, fromHardProcess:0, isHardProcess:0, isPrompt:0, isFirstCopy:1, isLastCopy:1         pt:0.729, eta:2.018, phi:-1.681\n",
      "| | | | | | | | | | | | pdgId:-211, status:1, GenPart (0, 405), mother 271, fromHardProcess:0, isHardProcess:0, isPrompt:0, isFirstCopy:1, isLastCopy:1         pt:0.338, eta:1.030, phi:-0.710\n",
      "| | | | | | | | | | | pdgId:323, status:2, GenPart (0, 272), mother 256, fromHardProcess:0, isHardProcess:0, isPrompt:1, isFirstCopy:1, isLastCopy:1         pt:0.203, eta:1.924, phi:2.128\n",
      "| | | | | | | | | | | | pdgId:311, status:2, GenPart (0, 406), mother 272, fromHardProcess:0, isHardProcess:0, isPrompt:0, isFirstCopy:1, isLastCopy:1         pt:0.180, eta:0.669, phi:-2.645\n",
      "| | | | | | | | | | | | | pdgId:130, status:1, GenPart (0, 451), mother 406, fromHardProcess:0, isHardProcess:0, isPrompt:0, isFirstCopy:1, isLastCopy:1         pt:0.180, eta:0.669, phi:-2.645\n",
      "| | | | | | | | | | | | pdgId:211, status:1, GenPart (0, 407), mother 272, fromHardProcess:0, isHardProcess:0, isPrompt:0, isFirstCopy:1, isLastCopy:1         pt:0.263, eta:1.485, phi:1.377\n",
      "| | | | | | | | | | | pdgId:-311, status:2, GenPart (0, 273), mother 256, fromHardProcess:0, isHardProcess:0, isPrompt:1, isFirstCopy:1, isLastCopy:1         pt:0.297, eta:1.885, phi:-0.481\n",
      "| | | | | | | | | | | | pdgId:310, status:1, GenPart (0, 408), mother 273, fromHardProcess:0, isHardProcess:0, isPrompt:0, isFirstCopy:1, isLastCopy:1         pt:0.297, eta:1.885, phi:-0.481\n",
      "| | | | | | | | | | | pdgId:2112, status:1, GenPart (0, 274), mother 256, fromHardProcess:0, isHardProcess:0, isPrompt:1, isFirstCopy:1, isLastCopy:1         pt:2.265, eta:1.482, phi:1.289\n",
      "| | | | | | | | | | | pdgId:-2212, status:1, GenPart (0, 275), mother 256, fromHardProcess:0, isHardProcess:0, isPrompt:1, isFirstCopy:1, isLastCopy:1         pt:0.849, eta:1.884, phi:1.566\n",
      "| | | | | | | | | | | pdgId:211, status:1, GenPart (0, 276), mother 256, fromHardProcess:0, isHardProcess:0, isPrompt:1, isFirstCopy:1, isLastCopy:1         pt:0.498, eta:1.164, phi:1.875\n",
      "| | | | | | | | | | | pdgId:-211, status:1, GenPart (0, 277), mother 256, fromHardProcess:0, isHardProcess:0, isPrompt:1, isFirstCopy:1, isLastCopy:1         pt:2.295, eta:0.926, phi:1.966\n",
      "| | | | | | | | | | | pdgId:111, status:2, GenPart (0, 278), mother 256, fromHardProcess:0, isHardProcess:0, isPrompt:1, isFirstCopy:1, isLastCopy:1         pt:1.214, eta:1.140, phi:1.722\n",
      "| | | | | | | | | | | | pdgId:22, status:1, GenPart (0, 487), mother 278, fromHardProcess:0, isHardProcess:0, isPrompt:0, isFirstCopy:1, isLastCopy:1         pt:0.904, eta:1.188, phi:1.761\n",
      "| | | | | | | | | | | | pdgId:22, status:1, GenPart (0, 488), mother 278, fromHardProcess:0, isHardProcess:0, isPrompt:0, isFirstCopy:1, isLastCopy:1         pt:0.313, eta:0.984, phi:1.610\n",
      "| | | | | | | | | | | pdgId:113, status:2, GenPart (0, 279), mother 256, fromHardProcess:0, isHardProcess:0, isPrompt:1, isFirstCopy:1, isLastCopy:1         pt:3.820, eta:1.034, phi:1.490\n",
      "| | | | | | | | | | | | pdgId:211, status:1, GenPart (0, 409), mother 279, fromHardProcess:0, isHardProcess:0, isPrompt:0, isFirstCopy:1, isLastCopy:1         pt:3.590, eta:1.060, phi:1.516\n",
      "| | | | | | | | | | | | pdgId:-211, status:1, GenPart (0, 410), mother 279, fromHardProcess:0, isHardProcess:0, isPrompt:0, isFirstCopy:1, isLastCopy:1         pt:0.249, eta:0.509, phi:1.111\n",
      "| | | | | | | | | | | pdgId:211, status:1, GenPart (0, 280), mother 256, fromHardProcess:0, isHardProcess:0, isPrompt:1, isFirstCopy:1, isLastCopy:1         pt:6.686, eta:1.151, phi:1.766\n",
      "| | | | | | | | | | | pdgId:-211, status:1, GenPart (0, 281), mother 256, fromHardProcess:0, isHardProcess:0, isPrompt:1, isFirstCopy:1, isLastCopy:1         pt:3.048, eta:1.205, phi:1.750\n",
      "| | | | | | | | | | | pdgId:211, status:1, GenPart (0, 282), mother 256, fromHardProcess:0, isHardProcess:0, isPrompt:1, isFirstCopy:1, isLastCopy:1         pt:5.216, eta:1.000, phi:1.742\n",
      "| | | | | | | | | | | pdgId:-213, status:2, GenPart (0, 283), mother 256, fromHardProcess:0, isHardProcess:0, isPrompt:1, isFirstCopy:1, isLastCopy:1         pt:14.536, eta:1.111, phi:1.725\n",
      "| | | | | | | | | | | | pdgId:-211, status:1, GenPart (0, 411), mother 283, fromHardProcess:0, isHardProcess:0, isPrompt:0, isFirstCopy:1, isLastCopy:1         pt:3.187, eta:1.191, phi:1.705\n",
      "| | | | | | | | | | | | pdgId:111, status:2, GenPart (0, 412), mother 283, fromHardProcess:0, isHardProcess:0, isPrompt:0, isFirstCopy:1, isLastCopy:1         pt:11.350, eta:1.087, phi:1.730\n",
      "| | | | | | | | | | | | | pdgId:22, status:1, GenPart (0, 576), mother 412, fromHardProcess:0, isHardProcess:0, isPrompt:0, isFirstCopy:1, isLastCopy:1         pt:0.194, eta:1.018, phi:1.673\n",
      "| | | | | | | | | | | | | pdgId:22, status:1, GenPart (0, 577), mother 412, fromHardProcess:0, isHardProcess:0, isPrompt:0, isFirstCopy:1, isLastCopy:1         pt:11.156, eta:1.088, phi:1.731\n",
      "| | | | | | | | | | | pdgId:211, status:1, GenPart (0, 284), mother 256, fromHardProcess:0, isHardProcess:0, isPrompt:1, isFirstCopy:1, isLastCopy:1         pt:33.404, eta:1.079, phi:1.725\n",
      "| | | | | | | | pdgId:21, status:51, GenPart (0, 172), mother 169, fromHardProcess:0, isHardProcess:0, isPrompt:1, isFirstCopy:1, isLastCopy:0         pt:2.394, eta:1.562, phi:0.858\n",
      "| | | | | | | | | pdgId:21, status:51, GenPart (0, 174), mother 172, fromHardProcess:0, isHardProcess:0, isPrompt:1, isFirstCopy:0, isLastCopy:0         pt:5.716, eta:1.236, phi:1.167\n",
      "| | | | | | | | | | pdgId:21, status:51, GenPart (0, 177), mother 174, fromHardProcess:0, isHardProcess:0, isPrompt:1, isFirstCopy:0, isLastCopy:0         pt:5.709, eta:1.224, phi:1.140\n",
      "| | | | | | | | | | | pdgId:21, status:52, GenPart (0, 182), mother 177, fromHardProcess:0, isHardProcess:0, isPrompt:1, isFirstCopy:0, isLastCopy:0         pt:4.784, eta:1.224, phi:1.140\n",
      "| | | | | | | | | | | | pdgId:21, status:51, GenPart (0, 183), mother 182, fromHardProcess:0, isHardProcess:0, isPrompt:1, isFirstCopy:0, isLastCopy:0         pt:4.219, eta:1.131, phi:1.217\n",
      "| | | | | | | | | | | | | pdgId:21, status:51, GenPart (0, 186), mother 183, fromHardProcess:0, isHardProcess:0, isPrompt:1, isFirstCopy:0, isLastCopy:0         pt:2.475, eta:1.040, phi:1.488\n",
      "| | | | | | | | | | | | | | pdgId:21, status:71, GenPart (0, 260), mother 186, fromHardProcess:0, isHardProcess:0, isPrompt:1, isFirstCopy:0, isLastCopy:1         pt:2.475, eta:1.040, phi:1.488\n",
      "| | | | | | | | | | | | | pdgId:21, status:51, GenPart (0, 187), mother 183, fromHardProcess:0, isHardProcess:0, isPrompt:1, isFirstCopy:0, isLastCopy:0         pt:2.171, eta:1.240, phi:1.062\n",
      "| | | | | | | | | | | | | | pdgId:21, status:71, GenPart (0, 261), mother 187, fromHardProcess:0, isHardProcess:0, isPrompt:1, isFirstCopy:0, isLastCopy:1         pt:2.171, eta:1.240, phi:1.062\n",
      "| | | | | | | | | | | | pdgId:21, status:51, GenPart (0, 184), mother 182, fromHardProcess:0, isHardProcess:0, isPrompt:1, isFirstCopy:0, isLastCopy:0         pt:0.526, eta:2.122, phi:0.527\n",
      "| | | | | | | | | | | | | pdgId:21, status:71, GenPart (0, 259), mother 184, fromHardProcess:0, isHardProcess:0, isPrompt:1, isFirstCopy:0, isLastCopy:1         pt:0.526, eta:2.122, phi:0.527\n",
      "| | | | | | | | | | pdgId:21, status:51, GenPart (0, 178), mother 174, fromHardProcess:0, isHardProcess:0, isPrompt:1, isFirstCopy:0, isLastCopy:0         pt:1.372, eta:1.411, phi:-2.068\n",
      "| | | | | | | | | | | pdgId:21, status:51, GenPart (0, 180), mother 178, fromHardProcess:0, isHardProcess:0, isPrompt:1, isFirstCopy:0, isLastCopy:0         pt:0.571, eta:0.179, phi:1.052\n",
      "| | | | | | | | | | | | pdgId:21, status:71, GenPart (0, 257), mother 180, fromHardProcess:0, isHardProcess:0, isPrompt:1, isFirstCopy:0, isLastCopy:1         pt:0.571, eta:0.179, phi:1.052\n",
      "| | | | | | | | | | | pdgId:21, status:51, GenPart (0, 181), mother 178, fromHardProcess:0, isHardProcess:0, isPrompt:1, isFirstCopy:0, isLastCopy:0         pt:1.022, eta:2.069, phi:-2.141\n",
      "| | | | | | | | | | | | pdgId:21, status:52, GenPart (0, 185), mother 181, fromHardProcess:0, isHardProcess:0, isPrompt:1, isFirstCopy:0, isLastCopy:0         pt:0.873, eta:2.069, phi:-2.141\n",
      "| | | | | | | | | | | | | pdgId:21, status:71, GenPart (0, 258), mother 185, fromHardProcess:0, isHardProcess:0, isPrompt:1, isFirstCopy:0, isLastCopy:1         pt:0.873, eta:2.069, phi:-2.141\n",
      "| | | | | | | | | pdgId:21, status:51, GenPart (0, 175), mother 172, fromHardProcess:0, isHardProcess:0, isPrompt:1, isFirstCopy:0, isLastCopy:0         pt:3.998, eta:1.160, phi:2.026\n",
      "| | | | | | | | | | pdgId:21, status:52, GenPart (0, 188), mother 175, fromHardProcess:0, isHardProcess:0, isPrompt:1, isFirstCopy:0, isLastCopy:0         pt:3.548, eta:1.160, phi:2.026\n",
      "| | | | | | | | | | | pdgId:21, status:71, GenPart (0, 262), mother 188, fromHardProcess:0, isHardProcess:0, isPrompt:1, isFirstCopy:0, isLastCopy:1         pt:3.548, eta:1.160, phi:2.026\n",
      "+ + + + + + + pdgId:-1, status:23, GenPart (0, 170), mother 131, fromHardProcess:1, isHardProcess:1, isPrompt:1, isFirstCopy:1, isLastCopy:0         pt:75.688, eta:1.082, phi:1.723         --> initial copy, hard process \n",
      "| | | | | | | | pdgId:-1, status:52, GenPart (0, 173), mother 170, fromHardProcess:1, isHardProcess:0, isPrompt:1, isFirstCopy:0, isLastCopy:0         pt:73.271, eta:1.082, phi:1.723\n",
      "| | | | | | | | | pdgId:-1, status:52, GenPart (0, 176), mother 173, fromHardProcess:1, isHardProcess:0, isPrompt:1, isFirstCopy:0, isLastCopy:0         pt:66.152, eta:1.082, phi:1.723\n",
      "| | | | | | | | | | pdgId:-1, status:71, GenPart (0, 263), mother 176, fromHardProcess:1, isHardProcess:0, isPrompt:1, isFirstCopy:0, isLastCopy:1         pt:66.152, eta:1.082, phi:1.723\n",
      "+ pdgId:-6, status:22, GenPart (0, 5), mother 2, fromHardProcess:1, isHardProcess:1, isPrompt:1, isFirstCopy:1, isLastCopy:0         pt:239.165, eta:2.753, phi:-0.425         --> initial copy, hard process \n",
      "| | pdgId:-6, status:44, GenPart (0, 10), mother 5, fromHardProcess:1, isHardProcess:0, isPrompt:1, isFirstCopy:0, isLastCopy:0         pt:239.044, eta:2.751, phi:-0.422\n",
      "| | | pdgId:-6, status:44, GenPart (0, 48), mother 10, fromHardProcess:1, isHardProcess:0, isPrompt:1, isFirstCopy:0, isLastCopy:0         pt:238.859, eta:2.752, phi:-0.422\n",
      "| | | | pdgId:-6, status:62, GenPart (0, 77), mother 48, fromHardProcess:1, isHardProcess:0, isPrompt:1, isFirstCopy:0, isLastCopy:1         pt:238.914, eta:2.752, phi:-0.425\n",
      "+ + + + + pdgId:-5, status:23, GenPart (0, 135), mother 77, fromHardProcess:1, isHardProcess:1, isPrompt:1, isFirstCopy:1, isLastCopy:0         pt:21.690, eta:4.119, phi:-0.166         --> initial copy, hard process \n",
      "| | | | | | pdgId:-5, status:51, GenPart (0, 137), mother 135, fromHardProcess:1, isHardProcess:0, isPrompt:1, isFirstCopy:0, isLastCopy:0         pt:22.683, eta:4.004, phi:-0.344\n",
      "| | | | | | | pdgId:-5, status:52, GenPart (0, 142), mother 137, fromHardProcess:1, isHardProcess:0, isPrompt:1, isFirstCopy:0, isLastCopy:0         pt:13.706, eta:4.018, phi:-0.310\n",
      "| | | | | | | | pdgId:-5, status:52, GenPart (0, 148), mother 142, fromHardProcess:1, isHardProcess:0, isPrompt:1, isFirstCopy:0, isLastCopy:0         pt:13.880, eta:4.012, phi:-0.292\n",
      "| | | | | | | | | pdgId:-5, status:71, GenPart (0, 229), mother 148, fromHardProcess:1, isHardProcess:0, isPrompt:1, isFirstCopy:0, isLastCopy:1         pt:13.880, eta:4.012, phi:-0.292\n",
      "| | | | | | pdgId:21, status:51, GenPart (0, 138), mother 135, fromHardProcess:0, isHardProcess:0, isPrompt:1, isFirstCopy:1, isLastCopy:0         pt:3.653, eta:3.342, phi:1.120\n",
      "| | | | | | | pdgId:21, status:51, GenPart (0, 140), mother 138, fromHardProcess:0, isHardProcess:0, isPrompt:1, isFirstCopy:0, isLastCopy:0         pt:11.251, eta:3.890, phi:-0.041\n",
      "| | | | | | | | pdgId:21, status:52, GenPart (0, 145), mother 140, fromHardProcess:0, isHardProcess:0, isPrompt:1, isFirstCopy:0, isLastCopy:0         pt:10.231, eta:3.890, phi:-0.041\n",
      "| | | | | | | | | pdgId:21, status:51, GenPart (0, 146), mother 145, fromHardProcess:0, isHardProcess:0, isPrompt:1, isFirstCopy:0, isLastCopy:0         pt:6.366, eta:3.984, phi:-0.057\n",
      "| | | | | | | | | | pdgId:21, status:71, GenPart (0, 225), mother 146, fromHardProcess:0, isHardProcess:0, isPrompt:1, isFirstCopy:0, isLastCopy:1         pt:6.366, eta:3.984, phi:-0.057\n",
      "| | | | | | | | | pdgId:21, status:51, GenPart (0, 147), mother 145, fromHardProcess:0, isHardProcess:0, isPrompt:1, isFirstCopy:0, isLastCopy:0         pt:3.635, eta:3.741, phi:-0.065\n",
      "| | | | | | | | | | pdgId:21, status:71, GenPart (0, 226), mother 147, fromHardProcess:0, isHardProcess:0, isPrompt:1, isFirstCopy:0, isLastCopy:1         pt:3.635, eta:3.741, phi:-0.065\n",
      "| | | | | | | pdgId:21, status:51, GenPart (0, 141), mother 138, fromHardProcess:0, isHardProcess:0, isPrompt:1, isFirstCopy:0, isLastCopy:0         pt:1.380, eta:3.231, phi:2.943\n",
      "| | | | | | | | pdgId:21, status:51, GenPart (0, 143), mother 141, fromHardProcess:0, isHardProcess:0, isPrompt:1, isFirstCopy:0, isLastCopy:0         pt:1.421, eta:3.651, phi:2.070\n",
      "| | | | | | | | | pdgId:21, status:71, GenPart (0, 227), mother 143, fromHardProcess:0, isHardProcess:0, isPrompt:1, isFirstCopy:0, isLastCopy:1         pt:1.421, eta:3.651, phi:2.070\n",
      "| | | | | | | | pdgId:21, status:51, GenPart (0, 144), mother 141, fromHardProcess:0, isHardProcess:0, isPrompt:1, isFirstCopy:0, isLastCopy:0         pt:1.076, eta:3.330, phi:-1.242\n",
      "| | | | | | | | | pdgId:21, status:71, GenPart (0, 228), mother 144, fromHardProcess:0, isHardProcess:0, isPrompt:1, isFirstCopy:0, isLastCopy:1         pt:1.076, eta:3.330, phi:-1.242\n",
      "+ + + + + pdgId:-24, status:22, GenPart (0, 136), mother 77, fromHardProcess:1, isHardProcess:1, isPrompt:1, isFirstCopy:1, isLastCopy:0         pt:218.016, eta:2.405, phi:-0.450         --> initial copy, hard process \n",
      "| | | | | | pdgId:-24, status:52, GenPart (0, 139), mother 136, fromHardProcess:1, isHardProcess:0, isPrompt:1, isFirstCopy:0, isLastCopy:1         pt:216.278, eta:2.408, phi:-0.450\n",
      "+ + + + + + + pdgId:11, status:1, GenPart (0, 189), mother 139, fromHardProcess:1, isHardProcess:1, isPrompt:1, isFirstCopy:1, isLastCopy:1         pt:70.810, eta:1.804, phi:-0.595         --> initial copy, hard process \n",
      "+ + + + + + + pdgId:-12, status:1, GenPart (0, 190), mother 139, fromHardProcess:1, isHardProcess:1, isPrompt:1, isFirstCopy:1, isLastCopy:1         pt:146.571, eta:2.601, phi:-0.380         --> initial copy, hard process \n",
      "+ pdgId:25, status:22, GenPart (0, 6), mother 2, fromHardProcess:1, isHardProcess:1, isPrompt:1, isFirstCopy:1, isLastCopy:0         pt:47.955, eta:3.181, phi:-1.983         --> initial copy, hard process \n",
      "| | pdgId:25, status:44, GenPart (0, 11), mother 6, fromHardProcess:1, isHardProcess:0, isPrompt:1, isFirstCopy:0, isLastCopy:0         pt:47.571, eta:3.185, phi:-1.985\n",
      "| | | pdgId:25, status:44, GenPart (0, 49), mother 11, fromHardProcess:1, isHardProcess:0, isPrompt:1, isFirstCopy:0, isLastCopy:0         pt:47.500, eta:3.187, phi:-1.986\n",
      "| | | | pdgId:25, status:62, GenPart (0, 78), mother 49, fromHardProcess:1, isHardProcess:0, isPrompt:1, isFirstCopy:0, isLastCopy:1         pt:47.736, eta:3.182, phi:-1.985\n",
      "+ + + + + pdgId:5, status:23, GenPart (0, 149), mother 78, fromHardProcess:1, isHardProcess:1, isPrompt:1, isFirstCopy:1, isLastCopy:0         pt:76.725, eta:1.802, phi:-2.520         --> initial copy, hard process \n",
      "| | | | | | pdgId:5, status:52, GenPart (0, 153), mother 149, fromHardProcess:1, isHardProcess:0, isPrompt:1, isFirstCopy:0, isLastCopy:0         pt:76.006, eta:1.802, phi:-2.520\n",
      "| | | | | | | pdgId:5, status:51, GenPart (0, 154), mother 153, fromHardProcess:1, isHardProcess:0, isPrompt:1, isFirstCopy:0, isLastCopy:0         pt:66.746, eta:1.808, phi:-2.540\n",
      "| | | | | | | | pdgId:5, status:71, GenPart (0, 285), mother 154, fromHardProcess:1, isHardProcess:0, isPrompt:1, isFirstCopy:0, isLastCopy:1         pt:66.746, eta:1.808, phi:-2.540\n",
      "| | | | | | | | | pdgId:-513, status:2, GenPart (0, 293), mother 285, fromHardProcess:0, isHardProcess:0, isPrompt:1, isFirstCopy:1, isLastCopy:1         pt:57.518, eta:1.805, phi:-2.536\n",
      "| | | | | | | | | | pdgId:-511, status:2, GenPart (0, 489), mother 293, fromHardProcess:0, isHardProcess:0, isPrompt:0, isFirstCopy:1, isLastCopy:1         pt:57.112, eta:1.805, phi:-2.537\n",
      "| | | | | | | | | | | pdgId:-12, status:1, GenPart (0, 596), mother 489, fromHardProcess:0, isHardProcess:0, isPrompt:0, isFirstCopy:1, isLastCopy:1         pt:6.307, eta:1.864, phi:-2.507\n",
      "| | | | | | | | | | | pdgId:11, status:1, GenPart (0, 597), mother 489, fromHardProcess:0, isHardProcess:0, isPrompt:0, isFirstCopy:1, isLastCopy:1         pt:36.238, eta:1.803, phi:-2.560\n",
      "| | | | | | | | | | | pdgId:20413, status:2, GenPart (0, 598), mother 489, fromHardProcess:0, isHardProcess:0, isPrompt:0, isFirstCopy:1, isLastCopy:1         pt:14.594, eta:1.781, phi:-2.492\n",
      "| | | | | | | | | | | | pdgId:423, status:2, GenPart (0, 641), mother 598, fromHardProcess:0, isHardProcess:0, isPrompt:0, isFirstCopy:1, isLastCopy:1         pt:14.279, eta:1.787, phi:-2.489\n",
      "| | | | | | | | | | | | | pdgId:421, status:2, GenPart (0, 655), mother 641, fromHardProcess:0, isHardProcess:0, isPrompt:0, isFirstCopy:1, isLastCopy:1         pt:13.516, eta:1.788, phi:-2.489\n",
      "| | | | | | | | | | | | | | pdgId:311, status:2, GenPart (0, 665), mother 655, fromHardProcess:0, isHardProcess:0, isPrompt:0, isFirstCopy:1, isLastCopy:1         pt:2.512, eta:1.790, phi:-2.432\n",
      "| | | | | | | | | | | | | | | pdgId:310, status:1, GenPart (0, 676), mother 665, fromHardProcess:0, isHardProcess:0, isPrompt:0, isFirstCopy:1, isLastCopy:1         pt:2.512, eta:1.790, phi:-2.432\n",
      "| | | | | | | | | | | | | | pdgId:211, status:1, GenPart (0, 666), mother 655, fromHardProcess:0, isHardProcess:0, isPrompt:0, isFirstCopy:1, isLastCopy:1         pt:4.280, eta:1.772, phi:-2.521\n",
      "| | | | | | | | | | | | | | pdgId:-211, status:1, GenPart (0, 667), mother 655, fromHardProcess:0, isHardProcess:0, isPrompt:0, isFirstCopy:1, isLastCopy:1         pt:1.157, eta:1.873, phi:-2.229\n",
      "| | | | | | | | | | | | | | pdgId:111, status:2, GenPart (0, 668), mother 655, fromHardProcess:0, isHardProcess:0, isPrompt:0, isFirstCopy:1, isLastCopy:1         pt:2.680, eta:1.754, phi:-2.509\n",
      "| | | | | | | | | | | | | | | pdgId:22, status:1, GenPart (0, 677), mother 668, fromHardProcess:0, isHardProcess:0, isPrompt:0, isFirstCopy:1, isLastCopy:1         pt:0.637, eta:1.742, phi:-2.599\n",
      "| | | | | | | | | | | | | | | pdgId:22, status:1, GenPart (0, 678), mother 668, fromHardProcess:0, isHardProcess:0, isPrompt:0, isFirstCopy:1, isLastCopy:1         pt:2.046, eta:1.757, phi:-2.481\n",
      "| | | | | | | | | | | | | | pdgId:111, status:2, GenPart (0, 669), mother 655, fromHardProcess:0, isHardProcess:0, isPrompt:0, isFirstCopy:1, isLastCopy:1         pt:2.944, eta:1.787, phi:-2.575\n",
      "| | | | | | | | | | | | | | | pdgId:22, status:1, GenPart (0, 679), mother 669, fromHardProcess:0, isHardProcess:0, isPrompt:0, isFirstCopy:1, isLastCopy:1         pt:2.262, eta:1.761, phi:-2.573\n",
      "| | | | | | | | | | | | | | | pdgId:22, status:1, GenPart (0, 680), mother 669, fromHardProcess:0, isHardProcess:0, isPrompt:0, isFirstCopy:1, isLastCopy:1         pt:0.682, eta:1.869, phi:-2.581\n",
      "| | | | | | | | | | | | | pdgId:111, status:2, GenPart (0, 656), mother 641, fromHardProcess:0, isHardProcess:0, isPrompt:0, isFirstCopy:1, isLastCopy:1         pt:0.763, eta:1.760, phi:-2.477\n",
      "| | | | | | | | | | | | | | pdgId:22, status:1, GenPart (0, 670), mother 656, fromHardProcess:0, isHardProcess:0, isPrompt:0, isFirstCopy:1, isLastCopy:1         pt:0.118, eta:1.770, phi:-2.060\n",
      "| | | | | | | | | | | | | | pdgId:22, status:1, GenPart (0, 671), mother 656, fromHardProcess:0, isHardProcess:0, isPrompt:0, isFirstCopy:1, isLastCopy:1         pt:0.657, eta:1.741, phi:-2.549\n",
      "| | | | | | | | | | | | pdgId:211, status:1, GenPart (0, 642), mother 598, fromHardProcess:0, isHardProcess:0, isPrompt:0, isFirstCopy:1, isLastCopy:1         pt:0.319, eta:1.492, phi:-2.646\n",
      "| | | | | | | | | | pdgId:22, status:1, GenPart (0, 490), mother 293, fromHardProcess:0, isHardProcess:0, isPrompt:0, isFirstCopy:1, isLastCopy:1         pt:0.408, eta:1.826, phi:-2.429\n",
      "| | | | | | | | | pdgId:223, status:2, GenPart (0, 294), mother 285, fromHardProcess:0, isHardProcess:0, isPrompt:1, isFirstCopy:1, isLastCopy:1         pt:9.018, eta:1.819, phi:-2.507\n",
      "| | | | | | | | | | pdgId:211, status:1, GenPart (0, 491), mother 294, fromHardProcess:0, isHardProcess:0, isPrompt:0, isFirstCopy:1, isLastCopy:1         pt:0.689, eta:1.793, phi:-2.370\n",
      "| | | | | | | | | | pdgId:-211, status:1, GenPart (0, 492), mother 294, fromHardProcess:0, isHardProcess:0, isPrompt:0, isFirstCopy:1, isLastCopy:1         pt:7.053, eta:1.829, phi:-2.510\n",
      "| | | | | | | | | | pdgId:111, status:2, GenPart (0, 493), mother 294, fromHardProcess:0, isHardProcess:0, isPrompt:0, isFirstCopy:1, isLastCopy:1         pt:1.284, eta:1.768, phi:-2.559\n",
      "| | | | | | | | | | | pdgId:22, status:1, GenPart (0, 599), mother 493, fromHardProcess:0, isHardProcess:0, isPrompt:0, isFirstCopy:1, isLastCopy:1         pt:0.079, eta:1.530, phi:-2.221\n",
      "| | | | | | | | | | | pdgId:22, status:1, GenPart (0, 600), mother 493, fromHardProcess:0, isHardProcess:0, isPrompt:0, isFirstCopy:1, isLastCopy:1         pt:1.210, eta:1.778, phi:-2.581\n",
      "| | | | | | | | | pdgId:111, status:2, GenPart (0, 295), mother 285, fromHardProcess:0, isHardProcess:0, isPrompt:1, isFirstCopy:1, isLastCopy:1         pt:0.682, eta:1.493, phi:-2.041\n",
      "| | | | | | | | | | pdgId:22, status:1, GenPart (0, 494), mother 295, fromHardProcess:0, isHardProcess:0, isPrompt:0, isFirstCopy:1, isLastCopy:1         pt:0.309, eta:1.264, phi:-2.002\n",
      "| | | | | | | | | | pdgId:22, status:1, GenPart (0, 495), mother 295, fromHardProcess:0, isHardProcess:0, isPrompt:0, isFirstCopy:1, isLastCopy:1         pt:0.373, eta:1.652, phi:-2.074\n",
      "| | | | | | | | | pdgId:113, status:2, GenPart (0, 296), mother 285, fromHardProcess:0, isHardProcess:0, isPrompt:1, isFirstCopy:1, isLastCopy:1         pt:3.874, eta:1.844, phi:-2.369\n",
      "| | | | | | | | | | pdgId:211, status:1, GenPart (0, 413), mother 296, fromHardProcess:0, isHardProcess:0, isPrompt:0, isFirstCopy:1, isLastCopy:1         pt:3.735, eta:1.819, phi:-2.347\n",
      "| | | | | | | | | | pdgId:-211, status:1, GenPart (0, 414), mother 296, fromHardProcess:0, isHardProcess:0, isPrompt:0, isFirstCopy:1, isLastCopy:1         pt:0.161, eta:2.215, phi:-2.885\n",
      "| | | | | | | | | pdgId:311, status:2, GenPart (0, 297), mother 285, fromHardProcess:0, isHardProcess:0, isPrompt:1, isFirstCopy:1, isLastCopy:1         pt:0.797, eta:2.272, phi:-2.431\n",
      "| | | | | | | | | | pdgId:310, status:1, GenPart (0, 415), mother 297, fromHardProcess:0, isHardProcess:0, isPrompt:0, isFirstCopy:1, isLastCopy:1         pt:0.797, eta:2.272, phi:-2.431\n",
      "| | | | | | | | | pdgId:-311, status:2, GenPart (0, 298), mother 285, fromHardProcess:0, isHardProcess:0, isPrompt:1, isFirstCopy:1, isLastCopy:1         pt:2.963, eta:1.812, phi:-2.418\n",
      "| | | | | | | | | | pdgId:130, status:1, GenPart (0, 416), mother 298, fromHardProcess:0, isHardProcess:0, isPrompt:0, isFirstCopy:1, isLastCopy:1         pt:2.963, eta:1.812, phi:-2.418\n",
      "| | | | | | | | | pdgId:111, status:2, GenPart (0, 299), mother 285, fromHardProcess:0, isHardProcess:0, isPrompt:1, isFirstCopy:1, isLastCopy:1         pt:0.468, eta:3.079, phi:-0.189\n",
      "| | | | | | | | | | pdgId:22, status:1, GenPart (0, 496), mother 299, fromHardProcess:0, isHardProcess:0, isPrompt:0, isFirstCopy:1, isLastCopy:1         pt:0.054, eta:2.668, phi:-0.909\n",
      "| | | | | | | | | | pdgId:22, status:1, GenPart (0, 497), mother 299, fromHardProcess:0, isHardProcess:0, isPrompt:0, isFirstCopy:1, isLastCopy:1         pt:0.429, eta:3.086, phi:-0.106\n",
      "| | | | | | | | | pdgId:-211, status:1, GenPart (0, 300), mother 285, fromHardProcess:0, isHardProcess:0, isPrompt:1, isFirstCopy:1, isLastCopy:1         pt:0.522, eta:2.664, phi:-1.527\n",
      "| | | | | | | | | pdgId:221, status:2, GenPart (0, 301), mother 285, fromHardProcess:0, isHardProcess:0, isPrompt:1, isFirstCopy:1, isLastCopy:1         pt:0.176, eta:2.747, phi:-2.790\n",
      "| | | | | | | | | | pdgId:211, status:1, GenPart (0, 498), mother 301, fromHardProcess:0, isHardProcess:0, isPrompt:0, isFirstCopy:1, isLastCopy:1         pt:0.174, eta:1.758, phi:-1.915\n",
      "ERROR! Session/line number was not unique in database. History logging moved to new session 549\n",
      "| | | | | | | | | | pdgId:-211, status:1, GenPart (0, 499), mother 301, fromHardProcess:0, isHardProcess:0, isPrompt:0, isFirstCopy:1, isLastCopy:1         pt:0.159, eta:1.871, phi:2.569\n",
      "| | | | | | | | | | pdgId:111, status:2, GenPart (0, 500), mother 301, fromHardProcess:0, isHardProcess:0, isPrompt:0, isFirstCopy:1, isLastCopy:1         pt:0.032, eta:3.139, phi:0.551\n",
      "| | | | | | | | | | | pdgId:22, status:1, GenPart (0, 601), mother 500, fromHardProcess:0, isHardProcess:0, isPrompt:0, isFirstCopy:1, isLastCopy:1         pt:0.060, eta:2.462, phi:1.133\n",
      "| | | | | | | | | | | pdgId:22, status:1, GenPart (0, 602), mother 500, fromHardProcess:0, isHardProcess:0, isPrompt:0, isFirstCopy:1, isLastCopy:1         pt:0.037, eta:0.624, phi:-1.511\n",
      "| | | | | | | | | pdgId:323, status:2, GenPart (0, 302), mother 285, fromHardProcess:0, isHardProcess:0, isPrompt:1, isFirstCopy:1, isLastCopy:1         pt:0.894, eta:2.193, phi:-1.659\n",
      "| | | | | | | | | | pdgId:311, status:2, GenPart (0, 417), mother 302, fromHardProcess:0, isHardProcess:0, isPrompt:0, isFirstCopy:1, isLastCopy:1         pt:0.662, eta:2.368, phi:-1.465\n",
      "| | | | | | | | | | | pdgId:310, status:1, GenPart (0, 452), mother 417, fromHardProcess:0, isHardProcess:0, isPrompt:0, isFirstCopy:1, isLastCopy:1         pt:0.662, eta:2.368, phi:-1.465\n",
      "| | | | | | | | | | pdgId:211, status:1, GenPart (0, 418), mother 302, fromHardProcess:0, isHardProcess:0, isPrompt:0, isFirstCopy:1, isLastCopy:1         pt:0.275, eta:1.271, phi:-2.141\n",
      "| | | | | | | | | pdgId:-321, status:1, GenPart (0, 303), mother 285, fromHardProcess:0, isHardProcess:0, isPrompt:1, isFirstCopy:1, isLastCopy:1         pt:1.974, eta:2.993, phi:-0.040\n",
      "| | | | | | | | | pdgId:211, status:1, GenPart (0, 304), mother 285, fromHardProcess:0, isHardProcess:0, isPrompt:1, isFirstCopy:1, isLastCopy:1         pt:0.322, eta:2.157, phi:-1.763\n",
      "| | | | | | | | | pdgId:-211, status:1, GenPart (0, 305), mother 285, fromHardProcess:0, isHardProcess:0, isPrompt:1, isFirstCopy:1, isLastCopy:1         pt:2.793, eta:2.863, phi:-0.090\n",
      "| | | | | | | | | pdgId:521, status:2, GenPart (0, 306), mother 285, fromHardProcess:0, isHardProcess:0, isPrompt:1, isFirstCopy:1, isLastCopy:1         pt:36.380, eta:2.777, phi:0.066\n",
      "| | | | | | | | | | pdgId:-423, status:2, GenPart (0, 501), mother 306, fromHardProcess:0, isHardProcess:0, isPrompt:0, isFirstCopy:1, isLastCopy:1         pt:11.262, eta:2.754, phi:0.082\n",
      "| | | | | | | | | | | pdgId:-421, status:2, GenPart (0, 603), mother 501, fromHardProcess:0, isHardProcess:0, isPrompt:0, isFirstCopy:1, isLastCopy:1         pt:10.609, eta:2.745, phi:0.072\n",
      "| | | | | | | | | | | | pdgId:-20213, status:2, GenPart (0, 643), mother 603, fromHardProcess:0, isHardProcess:0, isPrompt:0, isFirstCopy:1, isLastCopy:1         pt:7.973, eta:2.717, phi:0.038\n",
      "| | | | | | | | | | | | | pdgId:-213, status:2, GenPart (0, 657), mother 643, fromHardProcess:0, isHardProcess:0, isPrompt:0, isFirstCopy:1, isLastCopy:1         pt:6.586, eta:2.718, phi:0.035\n",
      "| | | | | | | | | | | | | | pdgId:-211, status:1, GenPart (0, 672), mother 657, fromHardProcess:0, isHardProcess:0, isPrompt:0, isFirstCopy:1, isLastCopy:1         pt:3.670, eta:2.687, phi:0.171\n",
      "| | | | | | | | | | | | | | pdgId:111, status:2, GenPart (0, 673), mother 657, fromHardProcess:0, isHardProcess:0, isPrompt:0, isFirstCopy:1, isLastCopy:1         pt:2.991, eta:2.730, phi:-0.131\n",
      "| | | | | | | | | | | | | | | pdgId:22, status:1, GenPart (0, 681), mother 673, fromHardProcess:0, isHardProcess:0, isPrompt:0, isFirstCopy:1, isLastCopy:1         pt:2.233, eta:2.743, phi:-0.153\n",
      "| | | | | | | | | | | | | | | pdgId:22, status:1, GenPart (0, 682), mother 673, fromHardProcess:0, isHardProcess:0, isPrompt:0, isFirstCopy:1, isLastCopy:1         pt:0.760, eta:2.686, phi:-0.067\n",
      "| | | | | | | | | | | | | pdgId:111, status:2, GenPart (0, 658), mother 643, fromHardProcess:0, isHardProcess:0, isPrompt:0, isFirstCopy:1, isLastCopy:1         pt:1.387, eta:2.715, phi:0.052\n",
      "| | | | | | | | | | | | | | pdgId:22, status:1, GenPart (0, 674), mother 658, fromHardProcess:0, isHardProcess:0, isPrompt:0, isFirstCopy:1, isLastCopy:1         pt:0.639, eta:2.610, phi:0.020\n",
      "| | | | | | | | | | | | | | pdgId:22, status:1, GenPart (0, 675), mother 658, fromHardProcess:0, isHardProcess:0, isPrompt:0, isFirstCopy:1, isLastCopy:1         pt:0.749, eta:2.795, phi:0.080\n",
      "| | | | | | | | | | | | pdgId:321, status:1, GenPart (0, 644), mother 603, fromHardProcess:0, isHardProcess:0, isPrompt:0, isFirstCopy:1, isLastCopy:1         pt:2.655, eta:2.819, phi:0.176\n",
      "| | | | | | | | | | | pdgId:22, status:1, GenPart (0, 604), mother 501, fromHardProcess:0, isHardProcess:0, isPrompt:0, isFirstCopy:1, isLastCopy:1         pt:0.661, eta:2.876, phi:0.234\n",
      "| | | | | | | | | | pdgId:2224, status:2, GenPart (0, 502), mother 306, fromHardProcess:0, isHardProcess:0, isPrompt:0, isFirstCopy:1, isLastCopy:1         pt:9.918, eta:2.734, phi:0.047\n",
      "| | | | | | | | | | | pdgId:2212, status:1, GenPart (0, 605), mother 502, fromHardProcess:0, isHardProcess:0, isPrompt:0, isFirstCopy:1, isLastCopy:1         pt:5.727, eta:2.748, phi:0.054\n",
      "| | | | | | | | | | | pdgId:211, status:1, GenPart (0, 606), mother 502, fromHardProcess:0, isHardProcess:0, isPrompt:0, isFirstCopy:1, isLastCopy:1         pt:4.191, eta:2.714, phi:0.038\n",
      "| | | | | | | | | | pdgId:111, status:2, GenPart (0, 503), mother 306, fromHardProcess:0, isHardProcess:0, isPrompt:0, isFirstCopy:1, isLastCopy:1         pt:3.692, eta:2.790, phi:0.137\n",
      "| | | | | | | | | | | pdgId:22, status:1, GenPart (0, 607), mother 503, fromHardProcess:0, isHardProcess:0, isPrompt:0, isFirstCopy:1, isLastCopy:1         pt:1.630, eta:2.808, phi:0.100\n",
      "| | | | | | | | | | | pdgId:22, status:1, GenPart (0, 608), mother 503, fromHardProcess:0, isHardProcess:0, isPrompt:0, isFirstCopy:1, isLastCopy:1         pt:2.064, eta:2.774, phi:0.166\n",
      "| | | | | | | | | | pdgId:-2214, status:2, GenPart (0, 504), mother 306, fromHardProcess:0, isHardProcess:0, isPrompt:0, isFirstCopy:1, isLastCopy:1         pt:11.522, eta:2.829, phi:0.043\n",
      "| | | | | | | | | | | pdgId:-2212, status:1, GenPart (0, 609), mother 504, fromHardProcess:0, isHardProcess:0, isPrompt:0, isFirstCopy:1, isLastCopy:1         pt:6.534, eta:2.857, phi:0.055\n",
      "| | | | | | | | | | | pdgId:111, status:2, GenPart (0, 610), mother 504, fromHardProcess:0, isHardProcess:0, isPrompt:0, isFirstCopy:1, isLastCopy:1         pt:4.990, eta:2.790, phi:0.028\n",
      "| | | | | | | | | | | | pdgId:22, status:1, GenPart (0, 645), mother 610, fromHardProcess:0, isHardProcess:0, isPrompt:0, isFirstCopy:1, isLastCopy:1         pt:4.287, eta:2.799, phi:0.023\n",
      "| | | | | | | | | | | | pdgId:22, status:1, GenPart (0, 646), mother 610, fromHardProcess:0, isHardProcess:0, isPrompt:0, isFirstCopy:1, isLastCopy:1         pt:0.703, eta:2.730, phi:0.058\n",
      "| | | | | | | pdgId:21, status:51, GenPart (0, 155), mother 153, fromHardProcess:0, isHardProcess:0, isPrompt:1, isFirstCopy:1, isLastCopy:0         pt:9.416, eta:1.778, phi:-2.370\n",
      "| | | | | | | | pdgId:21, status:52, GenPart (0, 162), mother 155, fromHardProcess:0, isHardProcess:0, isPrompt:1, isFirstCopy:0, isLastCopy:0         pt:8.968, eta:1.778, phi:-2.370\n",
      "| | | | | | | | | pdgId:21, status:51, GenPart (0, 166), mother 162, fromHardProcess:0, isHardProcess:0, isPrompt:1, isFirstCopy:0, isLastCopy:0         pt:2.304, eta:1.575, phi:-2.318\n",
      "| | | | | | | | | | pdgId:21, status:71, GenPart (0, 286), mother 166, fromHardProcess:0, isHardProcess:0, isPrompt:1, isFirstCopy:0, isLastCopy:1         pt:2.304, eta:1.575, phi:-2.318\n",
      "| | | | | | | | | pdgId:21, status:51, GenPart (0, 167), mother 162, fromHardProcess:0, isHardProcess:0, isPrompt:1, isFirstCopy:0, isLastCopy:0         pt:6.735, eta:1.848, phi:-2.371\n",
      "| | | | | | | | | | pdgId:21, status:71, GenPart (0, 287), mother 167, fromHardProcess:0, isHardProcess:0, isPrompt:1, isFirstCopy:0, isLastCopy:1         pt:6.735, eta:1.848, phi:-2.371\n",
      "+ + + + + pdgId:-5, status:23, GenPart (0, 150), mother 78, fromHardProcess:1, isHardProcess:1, isPrompt:1, isFirstCopy:1, isLastCopy:0         pt:43.168, eta:2.783, phi:0.023         --> initial copy, hard process \n",
      "| | | | | | pdgId:-5, status:51, GenPart (0, 151), mother 150, fromHardProcess:1, isHardProcess:0, isPrompt:1, isFirstCopy:0, isLastCopy:0         pt:42.049, eta:2.761, phi:0.063\n",
      "| | | | | | | pdgId:-5, status:51, GenPart (0, 157), mother 151, fromHardProcess:1, isHardProcess:0, isPrompt:1, isFirstCopy:0, isLastCopy:0         pt:38.499, eta:2.787, phi:0.071\n",
      "| | | | | | | | pdgId:-5, status:71, GenPart (0, 292), mother 157, fromHardProcess:1, isHardProcess:0, isPrompt:1, isFirstCopy:0, isLastCopy:1         pt:38.499, eta:2.787, phi:0.071\n",
      "| | | | | | | pdgId:21, status:51, GenPart (0, 158), mother 151, fromHardProcess:0, isHardProcess:0, isPrompt:1, isFirstCopy:1, isLastCopy:0         pt:3.644, eta:2.499, phi:-0.083\n",
      "| | | | | | | | pdgId:21, status:51, GenPart (0, 163), mother 158, fromHardProcess:0, isHardProcess:0, isPrompt:1, isFirstCopy:0, isLastCopy:0         pt:3.751, eta:2.550, phi:-0.174\n",
      "| | | | | | | | | pdgId:21, status:71, GenPart (0, 291), mother 163, fromHardProcess:0, isHardProcess:0, isPrompt:1, isFirstCopy:0, isLastCopy:1         pt:3.751, eta:2.550, phi:-0.174\n",
      "| | | | | | | | pdgId:21, status:51, GenPart (0, 164), mother 158, fromHardProcess:0, isHardProcess:0, isPrompt:1, isFirstCopy:0, isLastCopy:0         pt:0.138, eta:2.091, phi:2.005\n",
      "| | | | | | | | | pdgId:21, status:71, GenPart (0, 290), mother 164, fromHardProcess:0, isHardProcess:0, isPrompt:1, isFirstCopy:0, isLastCopy:1         pt:0.138, eta:2.091, phi:2.005\n",
      "| | | | | | pdgId:21, status:51, GenPart (0, 152), mother 150, fromHardProcess:0, isHardProcess:0, isPrompt:1, isFirstCopy:1, isLastCopy:0         pt:2.185, eta:2.849, phi:-1.289\n",
      "| | | | | | | pdgId:21, status:52, GenPart (0, 156), mother 152, fromHardProcess:0, isHardProcess:0, isPrompt:1, isFirstCopy:0, isLastCopy:0         pt:2.073, eta:2.849, phi:-1.289\n",
      "| | | | | | | | pdgId:21, status:52, GenPart (0, 159), mother 156, fromHardProcess:0, isHardProcess:0, isPrompt:1, isFirstCopy:0, isLastCopy:0         pt:1.824, eta:2.849, phi:-1.289\n",
      "| | | | | | | | | pdgId:21, status:51, GenPart (0, 160), mother 159, fromHardProcess:0, isHardProcess:0, isPrompt:1, isFirstCopy:0, isLastCopy:0         pt:1.430, eta:3.057, phi:-1.550\n",
      "| | | | | | | | | | pdgId:21, status:52, GenPart (0, 165), mother 160, fromHardProcess:0, isHardProcess:0, isPrompt:1, isFirstCopy:0, isLastCopy:0         pt:1.204, eta:3.057, phi:-1.550\n",
      "| | | | | | | | | | | pdgId:21, status:71, GenPart (0, 289), mother 165, fromHardProcess:0, isHardProcess:0, isPrompt:1, isFirstCopy:0, isLastCopy:1         pt:1.204, eta:3.057, phi:-1.550\n",
      "| | | | | | | | | pdgId:21, status:51, GenPart (0, 161), mother 159, fromHardProcess:0, isHardProcess:0, isPrompt:1, isFirstCopy:0, isLastCopy:0         pt:0.654, eta:1.746, phi:-1.331\n",
      "| | | | | | | | | | pdgId:21, status:52, GenPart (0, 168), mother 161, fromHardProcess:0, isHardProcess:0, isPrompt:1, isFirstCopy:0, isLastCopy:0         pt:0.519, eta:1.746, phi:-1.331\n",
      "| | | | | | | | | | | pdgId:21, status:71, GenPart (0, 288), mother 168, fromHardProcess:0, isHardProcess:0, isPrompt:1, isFirstCopy:0, isLastCopy:1         pt:0.519, eta:1.746, phi:-1.331\n"
     ]
    }
   ],
   "source": [
    "print_tree_event(0,2)"
   ]
  },
  {
   "cell_type": "code",
   "execution_count": null,
   "id": "7f4abd8d-e9d8-444d-a07d-86977f41c4c2",
   "metadata": {},
   "outputs": [],
   "source": []
  }
 ],
 "metadata": {
  "kernelspec": {
   "display_name": "Python 3 (ipykernel)",
   "language": "python",
   "name": "python3"
  },
  "language_info": {
   "codemirror_mode": {
    "name": "ipython",
    "version": 3
   },
   "file_extension": ".py",
   "mimetype": "text/x-python",
   "name": "python",
   "nbconvert_exporter": "python",
   "pygments_lexer": "ipython3",
   "version": "3.8.10"
  }
 },
 "nbformat": 4,
 "nbformat_minor": 5
}
