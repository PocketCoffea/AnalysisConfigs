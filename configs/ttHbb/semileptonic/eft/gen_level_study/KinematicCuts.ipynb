{
 "cells": [
  {
   "cell_type": "code",
   "execution_count": 1,
   "id": "23d0564d-f831-43f6-9c18-938fcf7d1af8",
   "metadata": {},
   "outputs": [],
   "source": [
    "import os\n",
    "import numpy as np\n",
    "import awkward as ak\n",
    "\n",
    "import matplotlib\n",
    "import matplotlib.pyplot as plt\n",
    "import mplhep as hep\n",
    "\n",
    "from coffea.nanoevents import NanoEventsFactory, NanoAODSchema\n",
    "\n",
    "fontsize=12\n",
    "plt.style.use([hep.style.ROOT, {'font.size': fontsize}])\n",
    "plt.rcParams.update({'font.size': fontsize})\n",
    "plt.rcParams.update({'figure.figsize' : (6, 6)})"
   ]
  },
  {
   "cell_type": "code",
   "execution_count": 5,
   "id": "ae825d9e-4e83-4031-ad6a-f94f64be3e06",
   "metadata": {},
   "outputs": [
    {
     "name": "stderr",
     "output_type": "stream",
     "text": [
      "/usr/local/lib/python3.8/site-packages/coffea/nanoevents/schemas/nanoaod.py:201: RuntimeWarning: Missing cross-reference index for Electron_genPartIdx => GenPart\n",
      "  warnings.warn(\n",
      "/usr/local/lib/python3.8/site-packages/coffea/nanoevents/schemas/nanoaod.py:201: RuntimeWarning: Missing cross-reference index for Electron_jetIdx => Jet\n",
      "  warnings.warn(\n",
      "/usr/local/lib/python3.8/site-packages/coffea/nanoevents/schemas/nanoaod.py:201: RuntimeWarning: Missing cross-reference index for Electron_photonIdx => Photon\n",
      "  warnings.warn(\n",
      "/usr/local/lib/python3.8/site-packages/coffea/nanoevents/schemas/nanoaod.py:201: RuntimeWarning: Missing cross-reference index for FatJet_subJetIdx1 => SubJet\n",
      "  warnings.warn(\n",
      "/usr/local/lib/python3.8/site-packages/coffea/nanoevents/schemas/nanoaod.py:201: RuntimeWarning: Missing cross-reference index for FatJet_subJetIdx2 => SubJet\n",
      "  warnings.warn(\n",
      "/usr/local/lib/python3.8/site-packages/coffea/nanoevents/schemas/nanoaod.py:201: RuntimeWarning: Missing cross-reference index for FsrPhoton_muonIdx => Muon\n",
      "  warnings.warn(\n",
      "/usr/local/lib/python3.8/site-packages/coffea/nanoevents/schemas/nanoaod.py:201: RuntimeWarning: Missing cross-reference index for Jet_electronIdx1 => Electron\n",
      "  warnings.warn(\n",
      "/usr/local/lib/python3.8/site-packages/coffea/nanoevents/schemas/nanoaod.py:201: RuntimeWarning: Missing cross-reference index for Jet_electronIdx2 => Electron\n",
      "  warnings.warn(\n",
      "/usr/local/lib/python3.8/site-packages/coffea/nanoevents/schemas/nanoaod.py:201: RuntimeWarning: Missing cross-reference index for Jet_genJetIdx => GenJet\n",
      "  warnings.warn(\n",
      "/usr/local/lib/python3.8/site-packages/coffea/nanoevents/schemas/nanoaod.py:201: RuntimeWarning: Missing cross-reference index for Jet_muonIdx1 => Muon\n",
      "  warnings.warn(\n",
      "/usr/local/lib/python3.8/site-packages/coffea/nanoevents/schemas/nanoaod.py:201: RuntimeWarning: Missing cross-reference index for Jet_muonIdx2 => Muon\n",
      "  warnings.warn(\n",
      "/usr/local/lib/python3.8/site-packages/coffea/nanoevents/schemas/nanoaod.py:201: RuntimeWarning: Missing cross-reference index for Muon_fsrPhotonIdx => FsrPhoton\n",
      "  warnings.warn(\n",
      "/usr/local/lib/python3.8/site-packages/coffea/nanoevents/schemas/nanoaod.py:201: RuntimeWarning: Missing cross-reference index for Muon_genPartIdx => GenPart\n",
      "  warnings.warn(\n",
      "/usr/local/lib/python3.8/site-packages/coffea/nanoevents/schemas/nanoaod.py:201: RuntimeWarning: Missing cross-reference index for Muon_jetIdx => Jet\n",
      "  warnings.warn(\n",
      "/usr/local/lib/python3.8/site-packages/coffea/nanoevents/schemas/nanoaod.py:201: RuntimeWarning: Missing cross-reference index for Photon_electronIdx => Electron\n",
      "  warnings.warn(\n",
      "/usr/local/lib/python3.8/site-packages/coffea/nanoevents/schemas/nanoaod.py:201: RuntimeWarning: Missing cross-reference index for Photon_genPartIdx => GenPart\n",
      "  warnings.warn(\n",
      "/usr/local/lib/python3.8/site-packages/coffea/nanoevents/schemas/nanoaod.py:201: RuntimeWarning: Missing cross-reference index for Photon_jetIdx => Jet\n",
      "  warnings.warn(\n",
      "/usr/local/lib/python3.8/site-packages/coffea/nanoevents/schemas/nanoaod.py:201: RuntimeWarning: Missing cross-reference index for Tau_genPartIdx => GenPart\n",
      "  warnings.warn(\n",
      "/usr/local/lib/python3.8/site-packages/coffea/nanoevents/schemas/nanoaod.py:201: RuntimeWarning: Missing cross-reference index for Tau_jetIdx => Jet\n",
      "  warnings.warn(\n"
     ]
    }
   ],
   "source": [
    "fname = \"root://storage01.lcg.cscs.ch:1096//pnfs/lcg.cscs.ch/cms/trivcat//store/user/dvalsecc/ttHbb_p1j_EFT_signal_EFTcenter/SMEFTsim_topU3l_EFT_5F_tbarqqtlnu_madspin_reweightall_v1/240503_152451/0002/test_eft_2792.root\"\n",
    "events = NanoEventsFactory.from_root(\n",
    "    fname,\n",
    "    schemaclass=NanoAODSchema.v6,\n",
    "    #metadata=metadata,\n",
    ").events()"
   ]
  },
  {
   "cell_type": "code",
   "execution_count": 6,
   "id": "77a6e0f9-7ffc-4508-b6b9-5c41cc0ddd0d",
   "metadata": {},
   "outputs": [],
   "source": [
    "parts = events.LHEPart"
   ]
  },
  {
   "cell_type": "code",
   "execution_count": 10,
   "id": "e9d0fb54-61b2-4d2d-a824-9cb89f28e1e2",
   "metadata": {},
   "outputs": [
    {
     "data": {
      "text/plain": [
       "<Array [1, 1, 1, 1, 1, 0, ... 1, 1, 1, 1, 1, 1] type='1954 * int64'>"
      ]
     },
     "execution_count": 10,
     "metadata": {},
     "output_type": "execute_result"
    }
   ],
   "source": [
    "ak.sum(parts.status == 1, axis=1) - 8 "
   ]
  },
  {
   "cell_type": "code",
   "execution_count": 9,
   "id": "c00e4060-41ea-4f8d-ac5e-3cc5e22c441a",
   "metadata": {},
   "outputs": [
    {
     "data": {
      "text/plain": [
       "(array([ 407.,    0.,    0.,    0.,    0.,    0.,    0.,    0.,    0.,\n",
       "        1547.]),\n",
       " array([8. , 8.1, 8.2, 8.3, 8.4, 8.5, 8.6, 8.7, 8.8, 8.9, 9. ]),\n",
       " <BarContainer object of 10 artists>)"
      ]
     },
     "execution_count": 9,
     "metadata": {},
     "output_type": "execute_result"
    },
    {
     "data": {
      "image/png": "[encoded data removed]",
      "text/plain": [
       "<Figure size 432x432 with 1 Axes>"
      ]
     },
     "metadata": {
      "needs_background": "light"
     },
     "output_type": "display_data"
    }
   ],
   "source": [
    "plt.hist(ak.sum(parts.status == 1, axis=1))"
   ]
  },
  {
   "cell_type": "code",
   "execution_count": 7,
   "id": "85a434b3-3246-4718-83ab-0db77a3f1a22",
   "metadata": {},
   "outputs": [
    {
     "data": {
      "text/plain": [
       "[[21, 21, 5, -13, 14, -5, 1, -2, 5, -5],\n",
       " [21, 21, 5, -15, 16, -5, 1, -2, 5, -5],\n",
       " [21, -3, 5, -11, 12, -5, 3, -4, 5, -5, -3],\n",
       " [1, 21, 5, -13, 14, -5, 3, -4, 5, -5, 1],\n",
       " [-2, 2, 5, -15, 16, -5, 3, -4, 5, -5, 21],\n",
       " [-2, 2, 5, -13, 14, -5, 3, -4, 5, -5, 21],\n",
       " [21, 21, 5, -11, 12, -5, 1, -2, 5, -5, 21],\n",
       " [21, 2, 5, -15, 16, -5, 1, -2, 5, -5, 2],\n",
       " [21, 21, 5, -11, 12, -5, 3, -4, 5, -5, 21],\n",
       " [2, 21, 5, -11, 12, -5, 3, -4, 5, -5, 2]]"
      ]
     },
     "execution_count": 7,
     "metadata": {},
     "output_type": "execute_result"
    }
   ],
   "source": [
    "parts.pdgId[0:10].tolist()"
   ]
  },
  {
   "cell_type": "code",
   "execution_count": 8,
   "id": "01aacd24-6bde-456e-bad2-63f2a7a9e716",
   "metadata": {},
   "outputs": [],
   "source": [
    "parts_final_status = parts[parts.status==1]"
   ]
  },
  {
   "cell_type": "code",
   "execution_count": 11,
   "id": "d70a7c54-961f-4e15-9a9d-1a791ed10105",
   "metadata": {},
   "outputs": [
    {
     "data": {
      "text/plain": [
       "[[5, -13, 14, -5, 1, -2, 5, -5],\n",
       " [5, -15, 16, -5, 1, -2, 5, -5],\n",
       " [5, -11, 12, -5, 3, -4, 5, -5, -3],\n",
       " [5, -13, 14, -5, 3, -4, 5, -5, 1],\n",
       " [5, -15, 16, -5, 3, -4, 5, -5, 21],\n",
       " [5, -13, 14, -5, 3, -4, 5, -5, 21],\n",
       " [5, -11, 12, -5, 1, -2, 5, -5, 21],\n",
       " [5, -15, 16, -5, 1, -2, 5, -5, 2],\n",
       " [5, -11, 12, -5, 3, -4, 5, -5, 21],\n",
       " [5, -11, 12, -5, 3, -4, 5, -5, 2]]"
      ]
     },
     "execution_count": 11,
     "metadata": {},
     "output_type": "execute_result"
    }
   ],
   "source": [
    "parts_final_status[0:10].pdgId.tolist()"
   ]
  },
  {
   "cell_type": "code",
   "execution_count": 26,
   "id": "3bed881e-61b7-44ca-94e2-09327ca66492",
   "metadata": {},
   "outputs": [],
   "source": [
    "parts_jets = parts_final_status[ (abs(parts_final_status.pdgId)<11)|(parts_final_status.pdgId==21)]\n",
    "parts_lepton = parts_final_status[ (abs(parts_final_status.pdgId)==11) | (abs(parts_final_status.pdgId)==13) | (abs(parts_final_status.pdgId)==15) ]"
   ]
  },
  {
   "cell_type": "code",
   "execution_count": 19,
   "id": "e58db65e-7e10-4d71-97ac-5a36428167db",
   "metadata": {},
   "outputs": [
    {
     "data": {
      "image/png": "[encoded data removed]",
      "text/plain": [
       "<Figure size 432x432 with 1 Axes>"
      ]
     },
     "metadata": {
      "needs_background": "light"
     },
     "output_type": "display_data"
    }
   ],
   "source": [
    "plt.hist(ak.flatten(parts_jets.eta))\n",
    "plt.yscale(\"log\")"
   ]
  },
  {
   "cell_type": "code",
   "execution_count": 21,
   "id": "4cdebfb6-abc6-469d-aeb6-633139fc907e",
   "metadata": {},
   "outputs": [
    {
     "data": {
      "image/png": "[encoded data removed]",
      "text/plain": [
       "<Figure size 432x432 with 1 Axes>"
      ]
     },
     "metadata": {
      "needs_background": "light"
     },
     "output_type": "display_data"
    }
   ],
   "source": [
    "plt.hist(ak.flatten(parts_jets.pt), bins=50, range=(0,100))\n",
    "plt.yscale(\"log\")"
   ]
  },
  {
   "cell_type": "code",
   "execution_count": 37,
   "id": "7030d55e-1374-43a5-9d32-96e121a5bf01",
   "metadata": {},
   "outputs": [
    {
     "data": {
      "text/plain": [
       "0.09523809523809523"
      ]
     },
     "execution_count": 37,
     "metadata": {},
     "output_type": "execute_result"
    }
   ],
   "source": [
    "sum(ak.sum(parts_jets.pt < 10, axis=1)!=0) / len(parts_jets)"
   ]
  },
  {
   "cell_type": "code",
   "execution_count": 27,
   "id": "feb34081-2e92-4a27-9508-ed5cd950bdde",
   "metadata": {},
   "outputs": [
    {
     "data": {
      "image/png": "[encoded data removed]",
      "text/plain": [
       "<Figure size 432x432 with 1 Axes>"
      ]
     },
     "metadata": {
      "needs_background": "light"
     },
     "output_type": "display_data"
    }
   ],
   "source": [
    "plt.hist(ak.flatten(parts_lepton.pt), bins=50, range=(0,100))\n",
    "plt.yscale(\"log\")"
   ]
  },
  {
   "cell_type": "code",
   "execution_count": 34,
   "id": "20ededf6-e9aa-47ca-9695-53f890949cb2",
   "metadata": {},
   "outputs": [
    {
     "data": {
      "text/plain": [
       "0.0380952380952381"
      ]
     },
     "execution_count": 34,
     "metadata": {},
     "output_type": "execute_result"
    }
   ],
   "source": [
    "sum(ak.sum(parts_lepton.pt < 10, axis=1)) / len(parts_lepton)"
   ]
  },
  {
   "cell_type": "code",
   "execution_count": 28,
   "id": "ea648bea-5aeb-49bb-b1cf-633531fea094",
   "metadata": {},
   "outputs": [
    {
     "data": {
      "image/png": "[encoded data removed]",
      "text/plain": [
       "<Figure size 432x432 with 1 Axes>"
      ]
     },
     "metadata": {
      "needs_background": "light"
     },
     "output_type": "display_data"
    }
   ],
   "source": [
    "plt.hist(ak.flatten(parts_lepton.eta), bins=50, range=(-5,5))\n",
    "plt.yscale(\"log\")"
   ]
  },
  {
   "cell_type": "code",
   "execution_count": 17,
   "id": "9b310081-4e1b-4310-8ac8-39f38c624c54",
   "metadata": {},
   "outputs": [
    {
     "data": {
      "text/plain": [
       "[[-2.021484375,\n",
       "  -0.921173095703125,\n",
       "  -0.8509521484375,\n",
       "  -0.874237060546875,\n",
       "  -0.37835693359375,\n",
       "  -1.82574462890625],\n",
       " [0.597015380859375,\n",
       "  1.3824462890625,\n",
       "  -0.7427978515625,\n",
       "  0.4645843505859375,\n",
       "  2.16162109375,\n",
       "  -0.3974456787109375],\n",
       " [-0.47418212890625,\n",
       "  -1.9495849609375,\n",
       "  -1.44342041015625,\n",
       "  -1.5494384765625,\n",
       "  -2.094970703125,\n",
       "  -1.26434326171875,\n",
       "  -2.6884765625],\n",
       " [-1.25970458984375,\n",
       "  -1.03485107421875,\n",
       "  0.21950531005859375,\n",
       "  -0.87872314453125,\n",
       "  -1.22052001953125,\n",
       "  -0.512420654296875,\n",
       "  -1.408935546875],\n",
       " [-0.21465301513671875,\n",
       "  -0.96142578125,\n",
       "  -0.7882080078125,\n",
       "  0.07238388061523438,\n",
       "  0.661834716796875,\n",
       "  0.3523712158203125,\n",
       "  -1.89007568359375],\n",
       " [-1.37860107421875,\n",
       "  -0.9229736328125,\n",
       "  -0.726654052734375,\n",
       "  -1.083984375,\n",
       "  0.484527587890625,\n",
       "  -1.08001708984375,\n",
       "  -2.34765625],\n",
       " [1.24432373046875,\n",
       "  -0.23235321044921875,\n",
       "  0.02884387969970703,\n",
       "  -1.1708984375,\n",
       "  -0.21273040771484375,\n",
       "  -0.4576568603515625,\n",
       "  -3.750732421875],\n",
       " [-1.17987060546875,\n",
       "  -0.42303466796875,\n",
       "  -0.16362762451171875,\n",
       "  0.07528305053710938,\n",
       "  -0.02707195281982422,\n",
       "  -0.4856719970703125,\n",
       "  -2.7237548828125],\n",
       " [-0.72808837890625,\n",
       "  0.4221954345703125,\n",
       "  -0.13022613525390625,\n",
       "  0.5750732421875,\n",
       "  0.0848846435546875,\n",
       "  2.0595703125,\n",
       "  -2.3314208984375],\n",
       " [1.87261962890625,\n",
       "  1.9908447265625,\n",
       "  -0.1760711669921875,\n",
       "  1.196533203125,\n",
       "  1.64898681640625,\n",
       "  2.6099853515625,\n",
       "  -2.74560546875]]"
      ]
     },
     "execution_count": 17,
     "metadata": {},
     "output_type": "execute_result"
    }
   ],
   "source": [
    "parts_jets.eta[0:10].tolist()"
   ]
  },
  {
   "cell_type": "code",
   "execution_count": null,
   "id": "02561c25-e7e0-46dd-bdb4-78d1e6ffe73c",
   "metadata": {},
   "outputs": [],
   "source": []
  }
 ],
 "metadata": {
  "kernelspec": {
   "display_name": "Python 3 (ipykernel)",
   "language": "python",
   "name": "python3"
  },
  "language_info": {
   "codemirror_mode": {
    "name": "ipython",
    "version": 3
   },
   "file_extension": ".py",
   "mimetype": "text/x-python",
   "name": "python",
   "nbconvert_exporter": "python",
   "pygments_lexer": "ipython3",
   "version": "3.8.10"
  }
 },
 "nbformat": 4,
 "nbformat_minor": 5
}
