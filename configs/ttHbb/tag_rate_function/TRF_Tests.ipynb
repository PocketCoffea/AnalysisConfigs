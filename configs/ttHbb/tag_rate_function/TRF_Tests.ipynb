{
 "cells": [
  {
   "cell_type": "code",
   "execution_count": 6,
   "id": "5c45956b-d52c-4c7c-890d-2b5ec99f29c4",
   "metadata": {
    "tags": []
   },
   "outputs": [],
   "source": [
    "from coffea.nanoevents import NanoEventsFactory, NanoAODSchema\n",
    "from coffea import hist, processor\n",
    "import numpy as np\n",
    "import awkward as ak\n",
    "import matplotlib.pyplot as plt\n",
    "from matplotlib.colors import LogNorm\n",
    "from pprint import pprint\n",
    "import numba\n",
    "from numba import njit\n",
    "from numba.typed import List\n",
    "import correctionlib, rich\n",
    "import correctionlib.convert"
   ]
  },
  {
   "cell_type": "code",
   "execution_count": 2,
   "id": "b39bb6aa-7c78-42b5-aefb-da8c0377d81a",
   "metadata": {
    "tags": []
   },
   "outputs": [],
   "source": [
    "filename = \"root://ingrid-se03.cism.ucl.ac.be:1094//store/mc/RunIISummer20UL18NanoAODv9/ttHTobb_M125_TuneCP5_13TeV-powheg-pythia8/NANOAODSIM/106X_upgrade2018_realistic_v16_L1v1-v2/100000/19922B78-283B-CD48-8A3D-0308D48A824A.root\"\n",
    "#events = NanoEventsFactory.from_root(filename, schemaclass=NanoAODSchema).events()\n",
    "events = NanoEventsFactory.from_root(filename, schemaclass=NanoAODSchema, entry_stop=20000).events()\n",
    "\n",
    "dataset = \"ttHTobb\""
   ]
  },
  {
   "cell_type": "code",
   "execution_count": 3,
   "id": "3b398832-db5b-4c86-9bf8-5b6f31f5d588",
   "metadata": {
    "tags": []
   },
   "outputs": [],
   "source": [
    "from hist import Hist"
   ]
  },
  {
   "cell_type": "code",
   "execution_count": null,
   "id": "9bb8d512-517e-4241-8cc7-dcfc922cf24e",
   "metadata": {
    "tags": []
   },
   "outputs": [],
   "source": [
    "btagged = (Hist.new.Reg(20, 0, 400,overflow=True, underflow=False, name=\"pt\" )\n",
    "                .Reg(10, -5, 5, overflow=False, underflow=False, name=\"eta\")\n",
    "                .Int(0,3, name=\"flavour\")\n",
    "                .Weight())\n",
    "non_btagged = (Hist.new.Reg(20, 0, 400,overflow=True, underflow=False, name=\"pt\" )\n",
    "                .Reg(10, -5, 5, overflow=False, underflow=False, name=\"eta\")\n",
    "                .Int(0,3, name=\"flavour\")\n",
    "                .Weight())"
   ]
  },
  {
   "cell_type": "code",
   "execution_count": 14,
   "id": "41a97c72-8239-499d-a5e9-2ad60571a4bc",
   "metadata": {
    "tags": []
   },
   "outputs": [],
   "source": [
    "bJets = events.Jet[events.Jet.btagDeepFlavB > 0.277]\n",
    "bJets_L = bJets[bJets.hadronFlavour==0]\n",
    "bJets_C = bJets[bJets.hadronFlavour==4]\n",
    "bJets_B = bJets[bJets.hadronFlavour==5]\n",
    "\n",
    "bJets_flavour = ak.where(bJets.hadronFlavour!=0, bJets.hadronFlavour-3, 0.)\n",
    "\n",
    "jets_L = events.Jet[events.Jet.hadronFlavour==0]\n",
    "jets_C = events.Jet[events.Jet.hadronFlavour==4]\n",
    "jets_B = events.Jet[events.Jet.hadronFlavour==5]\n",
    "\n",
    "jets_flavour = ak.where(events.Jet.hadronFlavour!=0, events.Jet.hadronFlavour-3, 0.)\n"
   ]
  },
  {
   "cell_type": "code",
   "execution_count": 8,
   "id": "9a59e80a-d2f1-4249-86a8-91828bdd3b79",
   "metadata": {
    "tags": []
   },
   "outputs": [
    {
     "name": "stdout",
     "output_type": "stream",
     "text": [
      "[0, 0, 0, 0, 0, 0, 0, 0, 0, 0, 0, 0, 0, 1, ... 0, 0, 1, 0, 0, 0, 0, 0, 0, 0, 0, 0, 0]\n",
      "[0, 0, 0, 0, 1, 0, 0, 0, 0, 2, 0, 1, 0, 0, ... 0, 0, 0, 0, 0, 0, 0, 0, 0, 0, 0, 0, 0]\n",
      "[4, 3, 3, 2, 1, 3, 2, 4, 2, 4, 3, 1, 3, 4, ... 2, 4, 3, 2, 3, 2, 1, 2, 3, 3, 2, 4, 3]\n"
     ]
    }
   ],
   "source": [
    "print(ak.num(bJets_L))\n",
    "print(ak.num(bJets_C))\n",
    "print(ak.num(bJets_B))"
   ]
  },
  {
   "cell_type": "code",
   "execution_count": 9,
   "id": "b98853ad-6980-400d-8e02-7adc7e80802e",
   "metadata": {
    "tags": []
   },
   "outputs": [
    {
     "name": "stdout",
     "output_type": "stream",
     "text": [
      "[4, 4, 6, 2, 5, 4, 8, 2, 7, 3, 4, 8, 5, ... 2, 7, 7, 5, 6, 5, 5, 6, 7, 7, 10, 2, 7]\n",
      "[2, 1, 1, 0, 2, 0, 0, 0, 0, 2, 0, 2, 0, 0, ... 2, 0, 0, 1, 1, 1, 1, 0, 0, 0, 2, 0, 0]\n",
      "[4, 4, 3, 4, 4, 4, 4, 4, 4, 4, 4, 2, 4, 4, ... 3, 4, 4, 4, 4, 4, 3, 4, 3, 3, 3, 4, 3]\n"
     ]
    }
   ],
   "source": [
    "print(ak.num(jets_L))\n",
    "print(ak.num(jets_C))\n",
    "print(ak.num(jets_B))"
   ]
  },
  {
   "cell_type": "code",
   "execution_count": 17,
   "id": "2225bf18-b790-4d5a-9c0a-8084aabb4e04",
   "metadata": {
    "tags": []
   },
   "outputs": [
    {
     "data": {
      "text/plain": [
       "Hist(\n",
       "  Regular(20, 0, 400, underflow=False, name='pt'),\n",
       "  Regular(10, -5, 5, underflow=False, overflow=False, name='eta'),\n",
       "  Integer(0, 3, name='flavour'),\n",
       "  storage=Weight()) # Sum: WeightedSum(value=121984, variance=121984) (WeightedSum(value=122962, variance=122962) with flow)"
      ]
     },
     "execution_count": 17,
     "metadata": {},
     "output_type": "execute_result"
    }
   ],
   "source": [
    "btagged.fill(ak.flatten(bJets.pt),\n",
    "             ak.flatten(bJets.eta),\n",
    "             ak.flatten(bJets_flavour))"
   ]
  },
  {
   "cell_type": "code",
   "execution_count": 23,
   "id": "1de6926a-53df-49cb-ba2c-2327d2aa5b23",
   "metadata": {
    "tags": []
   },
   "outputs": [
    {
     "data": {
      "text/plain": [
       "Hist(\n",
       "  Regular(20, 0, 400, underflow=False, name='pt'),\n",
       "  Regular(10, -5, 5, underflow=False, overflow=False, name='eta'),\n",
       "  Integer(0, 3, name='flavour'),\n",
       "  storage=Weight()) # Sum: WeightedSum(value=202993, variance=202993) (WeightedSum(value=204136, variance=204136) with flow)"
      ]
     },
     "execution_count": 23,
     "metadata": {},
     "output_type": "execute_result"
    }
   ],
   "source": [
    "non_btagged.fill(ak.flatten(events.Jet.pt),\n",
    "             ak.flatten(events.Jet.eta),\n",
    "             ak.flatten(jets_flavour))"
   ]
  },
  {
   "cell_type": "code",
   "execution_count": 24,
   "id": "37aae6da-26d2-48ab-9588-8f61f3504401",
   "metadata": {
    "tags": []
   },
   "outputs": [
    {
     "data": {
      "text/html": [
       "<html>\n",
       "<div style=\"display:flex; align-items:center;\">\n",
       "<div style=\"width:290px;\">\n",
       "<svg xmlns=\"http://www.w3.org/2000/svg\" viewBox=\"-20 -270 290 290\">\n",
       "<text text-anchor=\"middle\" x=\"0\" y=\"13\" style=\"fill:currentColor;\">\n",
       "0\n",
       "</text>\n",
       "<text text-anchor=\"middle\" x=\"250\" y=\"13\" style=\"fill:currentColor;\">\n",
       "400\n",
       "</text>\n",
       "<text text-anchor=\"middle\" x=\"-10\" y=\"0\" style=\"fill:currentColor;\">\n",
       "-5\n",
       "</text>\n",
       "<text text-anchor=\"middle\" x=\"-10\" y=\"-250\" style=\"fill:currentColor;\">\n",
       "5\n",
       "</text>\n",
       "<text text-anchor=\"middle\" x=\"125.0\" y=\"13\" style=\"fill:currentColor;\">\n",
       "pt\n",
       "</text>\n",
       "<text text-anchor=\"middle\" x=\"-10\" y=\"-125.0\" transform=\"rotate(-90,-10,-125.0)\" style=\"fill:currentColor;\">\n",
       "eta\n",
       "</text>\n",
       "<rect x=\"0.0\" y=\"-25.0\" width=\"12.5\" height=\"25.0\" opacity=\"0.0\" fill=\"currentColor\" stroke-width=\"0.1\"/>\n",
       "<rect x=\"12.5\" y=\"-25.0\" width=\"12.5\" height=\"25.0\" opacity=\"0.0\" fill=\"currentColor\" stroke-width=\"0.1\"/>\n",
       "<rect x=\"25.0\" y=\"-25.0\" width=\"12.5\" height=\"25.0\" opacity=\"0.0\" fill=\"currentColor\" stroke-width=\"0.1\"/>\n",
       "<rect x=\"37.5\" y=\"-25.0\" width=\"12.5\" height=\"25.0\" opacity=\"0.0\" fill=\"currentColor\" stroke-width=\"0.1\"/>\n",
       "<rect x=\"50.0\" y=\"-25.0\" width=\"12.5\" height=\"25.0\" opacity=\"0.0\" fill=\"currentColor\" stroke-width=\"0.1\"/>\n",
       "<rect x=\"62.5\" y=\"-25.0\" width=\"12.5\" height=\"25.0\" opacity=\"0.0\" fill=\"currentColor\" stroke-width=\"0.1\"/>\n",
       "<rect x=\"75.0\" y=\"-25.0\" width=\"12.5\" height=\"25.0\" opacity=\"0.0\" fill=\"currentColor\" stroke-width=\"0.1\"/>\n",
       "<rect x=\"87.5\" y=\"-25.0\" width=\"12.5\" height=\"25.0\" opacity=\"0.0\" fill=\"currentColor\" stroke-width=\"0.1\"/>\n",
       "<rect x=\"100.0\" y=\"-25.0\" width=\"12.5\" height=\"25.0\" opacity=\"0.0\" fill=\"currentColor\" stroke-width=\"0.1\"/>\n",
       "<rect x=\"112.5\" y=\"-25.0\" width=\"12.5\" height=\"25.0\" opacity=\"0.0\" fill=\"currentColor\" stroke-width=\"0.1\"/>\n",
       "<rect x=\"125.0\" y=\"-25.0\" width=\"12.5\" height=\"25.0\" opacity=\"0.0\" fill=\"currentColor\" stroke-width=\"0.1\"/>\n",
       "<rect x=\"137.5\" y=\"-25.0\" width=\"12.5\" height=\"25.0\" opacity=\"0.0\" fill=\"currentColor\" stroke-width=\"0.1\"/>\n",
       "<rect x=\"150.0\" y=\"-25.0\" width=\"12.5\" height=\"25.0\" opacity=\"0.0\" fill=\"currentColor\" stroke-width=\"0.1\"/>\n",
       "<rect x=\"162.5\" y=\"-25.0\" width=\"12.5\" height=\"25.0\" opacity=\"0.0\" fill=\"currentColor\" stroke-width=\"0.1\"/>\n",
       "<rect x=\"175.0\" y=\"-25.0\" width=\"12.5\" height=\"25.0\" opacity=\"0.0\" fill=\"currentColor\" stroke-width=\"0.1\"/>\n",
       "<rect x=\"187.5\" y=\"-25.0\" width=\"12.5\" height=\"25.0\" opacity=\"0.0\" fill=\"currentColor\" stroke-width=\"0.1\"/>\n",
       "<rect x=\"200.0\" y=\"-25.0\" width=\"12.5\" height=\"25.0\" opacity=\"0.0\" fill=\"currentColor\" stroke-width=\"0.1\"/>\n",
       "<rect x=\"212.5\" y=\"-25.0\" width=\"12.5\" height=\"25.0\" opacity=\"0.0\" fill=\"currentColor\" stroke-width=\"0.1\"/>\n",
       "<rect x=\"225.0\" y=\"-25.0\" width=\"12.5\" height=\"25.0\" opacity=\"0.0\" fill=\"currentColor\" stroke-width=\"0.1\"/>\n",
       "<rect x=\"237.5\" y=\"-25.0\" width=\"12.5\" height=\"25.0\" opacity=\"0.0\" fill=\"currentColor\" stroke-width=\"0.1\"/>\n",
       "<rect x=\"0.0\" y=\"-50.0\" width=\"12.5\" height=\"25.0\" opacity=\"0.0\" fill=\"currentColor\" stroke-width=\"0.1\"/>\n",
       "<rect x=\"12.5\" y=\"-50.0\" width=\"12.5\" height=\"25.0\" opacity=\"0.000310077519379845\" fill=\"currentColor\" stroke-width=\"0.1\"/>\n",
       "<rect x=\"25.0\" y=\"-50.0\" width=\"12.5\" height=\"25.0\" opacity=\"0.0\" fill=\"currentColor\" stroke-width=\"0.1\"/>\n",
       "<rect x=\"37.5\" y=\"-50.0\" width=\"12.5\" height=\"25.0\" opacity=\"0.0\" fill=\"currentColor\" stroke-width=\"0.1\"/>\n",
       "<rect x=\"50.0\" y=\"-50.0\" width=\"12.5\" height=\"25.0\" opacity=\"0.0\" fill=\"currentColor\" stroke-width=\"0.1\"/>\n",
       "<rect x=\"62.5\" y=\"-50.0\" width=\"12.5\" height=\"25.0\" opacity=\"0.0\" fill=\"currentColor\" stroke-width=\"0.1\"/>\n",
       "<rect x=\"75.0\" y=\"-50.0\" width=\"12.5\" height=\"25.0\" opacity=\"0.0\" fill=\"currentColor\" stroke-width=\"0.1\"/>\n",
       "<rect x=\"87.5\" y=\"-50.0\" width=\"12.5\" height=\"25.0\" opacity=\"0.0\" fill=\"currentColor\" stroke-width=\"0.1\"/>\n",
       "<rect x=\"100.0\" y=\"-50.0\" width=\"12.5\" height=\"25.0\" opacity=\"0.0\" fill=\"currentColor\" stroke-width=\"0.1\"/>\n",
       "<rect x=\"112.5\" y=\"-50.0\" width=\"12.5\" height=\"25.0\" opacity=\"0.0\" fill=\"currentColor\" stroke-width=\"0.1\"/>\n",
       "<rect x=\"125.0\" y=\"-50.0\" width=\"12.5\" height=\"25.0\" opacity=\"0.0\" fill=\"currentColor\" stroke-width=\"0.1\"/>\n",
       "<rect x=\"137.5\" y=\"-50.0\" width=\"12.5\" height=\"25.0\" opacity=\"0.0\" fill=\"currentColor\" stroke-width=\"0.1\"/>\n",
       "<rect x=\"150.0\" y=\"-50.0\" width=\"12.5\" height=\"25.0\" opacity=\"0.0\" fill=\"currentColor\" stroke-width=\"0.1\"/>\n",
       "<rect x=\"162.5\" y=\"-50.0\" width=\"12.5\" height=\"25.0\" opacity=\"0.0\" fill=\"currentColor\" stroke-width=\"0.1\"/>\n",
       "<rect x=\"175.0\" y=\"-50.0\" width=\"12.5\" height=\"25.0\" opacity=\"0.0\" fill=\"currentColor\" stroke-width=\"0.1\"/>\n",
       "<rect x=\"187.5\" y=\"-50.0\" width=\"12.5\" height=\"25.0\" opacity=\"0.0\" fill=\"currentColor\" stroke-width=\"0.1\"/>\n",
       "<rect x=\"200.0\" y=\"-50.0\" width=\"12.5\" height=\"25.0\" opacity=\"0.0\" fill=\"currentColor\" stroke-width=\"0.1\"/>\n",
       "<rect x=\"212.5\" y=\"-50.0\" width=\"12.5\" height=\"25.0\" opacity=\"0.0\" fill=\"currentColor\" stroke-width=\"0.1\"/>\n",
       "<rect x=\"225.0\" y=\"-50.0\" width=\"12.5\" height=\"25.0\" opacity=\"0.0\" fill=\"currentColor\" stroke-width=\"0.1\"/>\n",
       "<rect x=\"237.5\" y=\"-50.0\" width=\"12.5\" height=\"25.0\" opacity=\"0.0\" fill=\"currentColor\" stroke-width=\"0.1\"/>\n",
       "<rect x=\"0.0\" y=\"-75.0\" width=\"12.5\" height=\"25.0\" opacity=\"0.03503875968992248\" fill=\"currentColor\" stroke-width=\"0.1\"/>\n",
       "<rect x=\"12.5\" y=\"-75.0\" width=\"12.5\" height=\"25.0\" opacity=\"0.1758139534883721\" fill=\"currentColor\" stroke-width=\"0.1\"/>\n",
       "<rect x=\"25.0\" y=\"-75.0\" width=\"12.5\" height=\"25.0\" opacity=\"0.14108527131782947\" fill=\"currentColor\" stroke-width=\"0.1\"/>\n",
       "<rect x=\"37.5\" y=\"-75.0\" width=\"12.5\" height=\"25.0\" opacity=\"0.09240310077519381\" fill=\"currentColor\" stroke-width=\"0.1\"/>\n",
       "<rect x=\"50.0\" y=\"-75.0\" width=\"12.5\" height=\"25.0\" opacity=\"0.0648062015503876\" fill=\"currentColor\" stroke-width=\"0.1\"/>\n",
       "<rect x=\"62.5\" y=\"-75.0\" width=\"12.5\" height=\"25.0\" opacity=\"0.04093023255813954\" fill=\"currentColor\" stroke-width=\"0.1\"/>\n",
       "<rect x=\"75.0\" y=\"-75.0\" width=\"12.5\" height=\"25.0\" opacity=\"0.022325581395348838\" fill=\"currentColor\" stroke-width=\"0.1\"/>\n",
       "<rect x=\"87.5\" y=\"-75.0\" width=\"12.5\" height=\"25.0\" opacity=\"0.01612403100775194\" fill=\"currentColor\" stroke-width=\"0.1\"/>\n",
       "<rect x=\"100.0\" y=\"-75.0\" width=\"12.5\" height=\"25.0\" opacity=\"0.01364341085271318\" fill=\"currentColor\" stroke-width=\"0.1\"/>\n",
       "<rect x=\"112.5\" y=\"-75.0\" width=\"12.5\" height=\"25.0\" opacity=\"0.00930232558139535\" fill=\"currentColor\" stroke-width=\"0.1\"/>\n",
       "<rect x=\"125.0\" y=\"-75.0\" width=\"12.5\" height=\"25.0\" opacity=\"0.0040310077519379785\" fill=\"currentColor\" stroke-width=\"0.1\"/>\n",
       "<rect x=\"137.5\" y=\"-75.0\" width=\"12.5\" height=\"25.0\" opacity=\"0.0031007751937984543\" fill=\"currentColor\" stroke-width=\"0.1\"/>\n",
       "<rect x=\"150.0\" y=\"-75.0\" width=\"12.5\" height=\"25.0\" opacity=\"0.00248062015503876\" fill=\"currentColor\" stroke-width=\"0.1\"/>\n",
       "<rect x=\"162.5\" y=\"-75.0\" width=\"12.5\" height=\"25.0\" opacity=\"0.0015503875968992248\" fill=\"currentColor\" stroke-width=\"0.1\"/>\n",
       "<rect x=\"175.0\" y=\"-75.0\" width=\"12.5\" height=\"25.0\" opacity=\"0.0015503875968992248\" fill=\"currentColor\" stroke-width=\"0.1\"/>\n",
       "<rect x=\"187.5\" y=\"-75.0\" width=\"12.5\" height=\"25.0\" opacity=\"0.00062015503875969\" fill=\"currentColor\" stroke-width=\"0.1\"/>\n",
       "<rect x=\"200.0\" y=\"-75.0\" width=\"12.5\" height=\"25.0\" opacity=\"0.00062015503875969\" fill=\"currentColor\" stroke-width=\"0.1\"/>\n",
       "<rect x=\"212.5\" y=\"-75.0\" width=\"12.5\" height=\"25.0\" opacity=\"0.0\" fill=\"currentColor\" stroke-width=\"0.1\"/>\n",
       "<rect x=\"225.0\" y=\"-75.0\" width=\"12.5\" height=\"25.0\" opacity=\"0.000310077519379845\" fill=\"currentColor\" stroke-width=\"0.1\"/>\n",
       "<rect x=\"237.5\" y=\"-75.0\" width=\"12.5\" height=\"25.0\" opacity=\"0.000310077519379845\" fill=\"currentColor\" stroke-width=\"0.1\"/>\n",
       "<rect x=\"0.0\" y=\"-100.0\" width=\"12.5\" height=\"25.0\" opacity=\"0.10728682170542636\" fill=\"currentColor\" stroke-width=\"0.1\"/>\n",
       "<rect x=\"12.5\" y=\"-100.0\" width=\"12.5\" height=\"25.0\" opacity=\"0.5565891472868217\" fill=\"currentColor\" stroke-width=\"0.1\"/>\n",
       "<rect x=\"25.0\" y=\"-100.0\" width=\"12.5\" height=\"25.0\" opacity=\"0.5510077519379845\" fill=\"currentColor\" stroke-width=\"0.1\"/>\n",
       "<rect x=\"37.5\" y=\"-100.0\" width=\"12.5\" height=\"25.0\" opacity=\"0.45085271317829456\" fill=\"currentColor\" stroke-width=\"0.1\"/>\n",
       "<rect x=\"50.0\" y=\"-100.0\" width=\"12.5\" height=\"25.0\" opacity=\"0.33674418604651163\" fill=\"currentColor\" stroke-width=\"0.1\"/>\n",
       "<rect x=\"62.5\" y=\"-100.0\" width=\"12.5\" height=\"25.0\" opacity=\"0.23379844961240312\" fill=\"currentColor\" stroke-width=\"0.1\"/>\n",
       "<rect x=\"75.0\" y=\"-100.0\" width=\"12.5\" height=\"25.0\" opacity=\"0.17953488372093024\" fill=\"currentColor\" stroke-width=\"0.1\"/>\n",
       "<rect x=\"87.5\" y=\"-100.0\" width=\"12.5\" height=\"25.0\" opacity=\"0.12217054263565892\" fill=\"currentColor\" stroke-width=\"0.1\"/>\n",
       "<rect x=\"100.0\" y=\"-100.0\" width=\"12.5\" height=\"25.0\" opacity=\"0.07813953488372093\" fill=\"currentColor\" stroke-width=\"0.1\"/>\n",
       "<rect x=\"112.5\" y=\"-100.0\" width=\"12.5\" height=\"25.0\" opacity=\"0.05891472868217054\" fill=\"currentColor\" stroke-width=\"0.1\"/>\n",
       "<rect x=\"125.0\" y=\"-100.0\" width=\"12.5\" height=\"25.0\" opacity=\"0.03937984496124025\" fill=\"currentColor\" stroke-width=\"0.1\"/>\n",
       "<rect x=\"137.5\" y=\"-100.0\" width=\"12.5\" height=\"25.0\" opacity=\"0.03286821705426361\" fill=\"currentColor\" stroke-width=\"0.1\"/>\n",
       "<rect x=\"150.0\" y=\"-100.0\" width=\"12.5\" height=\"25.0\" opacity=\"0.017674418604651163\" fill=\"currentColor\" stroke-width=\"0.1\"/>\n",
       "<rect x=\"162.5\" y=\"-100.0\" width=\"12.5\" height=\"25.0\" opacity=\"0.01426356589147287\" fill=\"currentColor\" stroke-width=\"0.1\"/>\n",
       "<rect x=\"175.0\" y=\"-100.0\" width=\"12.5\" height=\"25.0\" opacity=\"0.01426356589147287\" fill=\"currentColor\" stroke-width=\"0.1\"/>\n",
       "<rect x=\"187.5\" y=\"-100.0\" width=\"12.5\" height=\"25.0\" opacity=\"0.008372093023255815\" fill=\"currentColor\" stroke-width=\"0.1\"/>\n",
       "<rect x=\"200.0\" y=\"-100.0\" width=\"12.5\" height=\"25.0\" opacity=\"0.004651162790697675\" fill=\"currentColor\" stroke-width=\"0.1\"/>\n",
       "<rect x=\"212.5\" y=\"-100.0\" width=\"12.5\" height=\"25.0\" opacity=\"0.0037209302325581393\" fill=\"currentColor\" stroke-width=\"0.1\"/>\n",
       "<rect x=\"225.0\" y=\"-100.0\" width=\"12.5\" height=\"25.0\" opacity=\"0.0031007751937984496\" fill=\"currentColor\" stroke-width=\"0.1\"/>\n",
       "<rect x=\"237.5\" y=\"-100.0\" width=\"12.5\" height=\"25.0\" opacity=\"0.0027906976744186047\" fill=\"currentColor\" stroke-width=\"0.1\"/>\n",
       "<rect x=\"0.0\" y=\"-125.0\" width=\"12.5\" height=\"25.0\" opacity=\"0.14635658914728683\" fill=\"currentColor\" stroke-width=\"0.1\"/>\n",
       "<rect x=\"12.5\" y=\"-125.0\" width=\"12.5\" height=\"25.0\" opacity=\"0.8688372093023257\" fill=\"currentColor\" stroke-width=\"0.1\"/>\n",
       "<rect x=\"25.0\" y=\"-125.0\" width=\"12.5\" height=\"25.0\" opacity=\"1.0\" fill=\"currentColor\" stroke-width=\"0.1\"/>\n",
       "<rect x=\"37.5\" y=\"-125.0\" width=\"12.5\" height=\"25.0\" opacity=\"0.8229457364341085\" fill=\"currentColor\" stroke-width=\"0.1\"/>\n",
       "<rect x=\"50.0\" y=\"-125.0\" width=\"12.5\" height=\"25.0\" opacity=\"0.6725581395348837\" fill=\"currentColor\" stroke-width=\"0.1\"/>\n",
       "<rect x=\"62.5\" y=\"-125.0\" width=\"12.5\" height=\"25.0\" opacity=\"0.4654263565891473\" fill=\"currentColor\" stroke-width=\"0.1\"/>\n",
       "<rect x=\"75.0\" y=\"-125.0\" width=\"12.5\" height=\"25.0\" opacity=\"0.3618604651162791\" fill=\"currentColor\" stroke-width=\"0.1\"/>\n",
       "<rect x=\"87.5\" y=\"-125.0\" width=\"12.5\" height=\"25.0\" opacity=\"0.2406201550387597\" fill=\"currentColor\" stroke-width=\"0.1\"/>\n",
       "<rect x=\"100.0\" y=\"-125.0\" width=\"12.5\" height=\"25.0\" opacity=\"0.18728682170542638\" fill=\"currentColor\" stroke-width=\"0.1\"/>\n",
       "<rect x=\"112.5\" y=\"-125.0\" width=\"12.5\" height=\"25.0\" opacity=\"0.11782945736434108\" fill=\"currentColor\" stroke-width=\"0.1\"/>\n",
       "<rect x=\"125.0\" y=\"-125.0\" width=\"12.5\" height=\"25.0\" opacity=\"0.0933333333333332\" fill=\"currentColor\" stroke-width=\"0.1\"/>\n",
       "<rect x=\"137.5\" y=\"-125.0\" width=\"12.5\" height=\"25.0\" opacity=\"0.06511627906976754\" fill=\"currentColor\" stroke-width=\"0.1\"/>\n",
       "<rect x=\"150.0\" y=\"-125.0\" width=\"12.5\" height=\"25.0\" opacity=\"0.045891472868217056\" fill=\"currentColor\" stroke-width=\"0.1\"/>\n",
       "<rect x=\"162.5\" y=\"-125.0\" width=\"12.5\" height=\"25.0\" opacity=\"0.03813953488372093\" fill=\"currentColor\" stroke-width=\"0.1\"/>\n",
       "<rect x=\"175.0\" y=\"-125.0\" width=\"12.5\" height=\"25.0\" opacity=\"0.032868217054263564\" fill=\"currentColor\" stroke-width=\"0.1\"/>\n",
       "<rect x=\"187.5\" y=\"-125.0\" width=\"12.5\" height=\"25.0\" opacity=\"0.02201550387596899\" fill=\"currentColor\" stroke-width=\"0.1\"/>\n",
       "<rect x=\"200.0\" y=\"-125.0\" width=\"12.5\" height=\"25.0\" opacity=\"0.01891472868217054\" fill=\"currentColor\" stroke-width=\"0.1\"/>\n",
       "<rect x=\"212.5\" y=\"-125.0\" width=\"12.5\" height=\"25.0\" opacity=\"0.015503875968992248\" fill=\"currentColor\" stroke-width=\"0.1\"/>\n",
       "<rect x=\"225.0\" y=\"-125.0\" width=\"12.5\" height=\"25.0\" opacity=\"0.013023255813953489\" fill=\"currentColor\" stroke-width=\"0.1\"/>\n",
       "<rect x=\"237.5\" y=\"-125.0\" width=\"12.5\" height=\"25.0\" opacity=\"0.00992248062015504\" fill=\"currentColor\" stroke-width=\"0.1\"/>\n",
       "<rect x=\"0.0\" y=\"-150.0\" width=\"12.5\" height=\"25.0\" opacity=\"0.1537984496124031\" fill=\"currentColor\" stroke-width=\"0.1\"/>\n",
       "<rect x=\"12.5\" y=\"-150.0\" width=\"12.5\" height=\"25.0\" opacity=\"0.854263565891473\" fill=\"currentColor\" stroke-width=\"0.1\"/>\n",
       "<rect x=\"25.0\" y=\"-150.0\" width=\"12.5\" height=\"25.0\" opacity=\"0.9838759689922482\" fill=\"currentColor\" stroke-width=\"0.1\"/>\n",
       "<rect x=\"37.5\" y=\"-150.0\" width=\"12.5\" height=\"25.0\" opacity=\"0.8316279069767442\" fill=\"currentColor\" stroke-width=\"0.1\"/>\n",
       "<rect x=\"50.0\" y=\"-150.0\" width=\"12.5\" height=\"25.0\" opacity=\"0.6524031007751938\" fill=\"currentColor\" stroke-width=\"0.1\"/>\n",
       "<rect x=\"62.5\" y=\"-150.0\" width=\"12.5\" height=\"25.0\" opacity=\"0.4831007751937985\" fill=\"currentColor\" stroke-width=\"0.1\"/>\n",
       "<rect x=\"75.0\" y=\"-150.0\" width=\"12.5\" height=\"25.0\" opacity=\"0.3330232558139535\" fill=\"currentColor\" stroke-width=\"0.1\"/>\n",
       "<rect x=\"87.5\" y=\"-150.0\" width=\"12.5\" height=\"25.0\" opacity=\"0.2527131782945736\" fill=\"currentColor\" stroke-width=\"0.1\"/>\n",
       "<rect x=\"100.0\" y=\"-150.0\" width=\"12.5\" height=\"25.0\" opacity=\"0.1677519379844961\" fill=\"currentColor\" stroke-width=\"0.1\"/>\n",
       "<rect x=\"112.5\" y=\"-150.0\" width=\"12.5\" height=\"25.0\" opacity=\"0.1330232558139535\" fill=\"currentColor\" stroke-width=\"0.1\"/>\n",
       "<rect x=\"125.0\" y=\"-150.0\" width=\"12.5\" height=\"25.0\" opacity=\"0.09271317829457351\" fill=\"currentColor\" stroke-width=\"0.1\"/>\n",
       "<rect x=\"137.5\" y=\"-150.0\" width=\"12.5\" height=\"25.0\" opacity=\"0.06511627906976754\" fill=\"currentColor\" stroke-width=\"0.1\"/>\n",
       "<rect x=\"150.0\" y=\"-150.0\" width=\"12.5\" height=\"25.0\" opacity=\"0.056124031007751936\" fill=\"currentColor\" stroke-width=\"0.1\"/>\n",
       "<rect x=\"162.5\" y=\"-150.0\" width=\"12.5\" height=\"25.0\" opacity=\"0.03968992248062016\" fill=\"currentColor\" stroke-width=\"0.1\"/>\n",
       "<rect x=\"175.0\" y=\"-150.0\" width=\"12.5\" height=\"25.0\" opacity=\"0.03348837209302326\" fill=\"currentColor\" stroke-width=\"0.1\"/>\n",
       "<rect x=\"187.5\" y=\"-150.0\" width=\"12.5\" height=\"25.0\" opacity=\"0.020775193798449613\" fill=\"currentColor\" stroke-width=\"0.1\"/>\n",
       "<rect x=\"200.0\" y=\"-150.0\" width=\"12.5\" height=\"25.0\" opacity=\"0.01984496124031008\" fill=\"currentColor\" stroke-width=\"0.1\"/>\n",
       "<rect x=\"212.5\" y=\"-150.0\" width=\"12.5\" height=\"25.0\" opacity=\"0.014883720930232557\" fill=\"currentColor\" stroke-width=\"0.1\"/>\n",
       "<rect x=\"225.0\" y=\"-150.0\" width=\"12.5\" height=\"25.0\" opacity=\"0.012403100775193798\" fill=\"currentColor\" stroke-width=\"0.1\"/>\n",
       "<rect x=\"237.5\" y=\"-150.0\" width=\"12.5\" height=\"25.0\" opacity=\"0.0065116279069767444\" fill=\"currentColor\" stroke-width=\"0.1\"/>\n",
       "<rect x=\"0.0\" y=\"-175.0\" width=\"12.5\" height=\"25.0\" opacity=\"0.10201550387596901\" fill=\"currentColor\" stroke-width=\"0.1\"/>\n",
       "<rect x=\"12.5\" y=\"-175.0\" width=\"12.5\" height=\"25.0\" opacity=\"0.5596899224806203\" fill=\"currentColor\" stroke-width=\"0.1\"/>\n",
       "<rect x=\"25.0\" y=\"-175.0\" width=\"12.5\" height=\"25.0\" opacity=\"0.5401550387596901\" fill=\"currentColor\" stroke-width=\"0.1\"/>\n",
       "<rect x=\"37.5\" y=\"-175.0\" width=\"12.5\" height=\"25.0\" opacity=\"0.4378294573643412\" fill=\"currentColor\" stroke-width=\"0.1\"/>\n",
       "<rect x=\"50.0\" y=\"-175.0\" width=\"12.5\" height=\"25.0\" opacity=\"0.3289922480620156\" fill=\"currentColor\" stroke-width=\"0.1\"/>\n",
       "<rect x=\"62.5\" y=\"-175.0\" width=\"12.5\" height=\"25.0\" opacity=\"0.24000000000000005\" fill=\"currentColor\" stroke-width=\"0.1\"/>\n",
       "<rect x=\"75.0\" y=\"-175.0\" width=\"12.5\" height=\"25.0\" opacity=\"0.14790697674418607\" fill=\"currentColor\" stroke-width=\"0.1\"/>\n",
       "<rect x=\"87.5\" y=\"-175.0\" width=\"12.5\" height=\"25.0\" opacity=\"0.1122480620155039\" fill=\"currentColor\" stroke-width=\"0.1\"/>\n",
       "<rect x=\"100.0\" y=\"-175.0\" width=\"12.5\" height=\"25.0\" opacity=\"0.0868217054263566\" fill=\"currentColor\" stroke-width=\"0.1\"/>\n",
       "<rect x=\"112.5\" y=\"-175.0\" width=\"12.5\" height=\"25.0\" opacity=\"0.06108527131782947\" fill=\"currentColor\" stroke-width=\"0.1\"/>\n",
       "<rect x=\"125.0\" y=\"-175.0\" width=\"12.5\" height=\"25.0\" opacity=\"0.039379844961240265\" fill=\"currentColor\" stroke-width=\"0.1\"/>\n",
       "<rect x=\"137.5\" y=\"-175.0\" width=\"12.5\" height=\"25.0\" opacity=\"0.025116279069767485\" fill=\"currentColor\" stroke-width=\"0.1\"/>\n",
       "<rect x=\"150.0\" y=\"-175.0\" width=\"12.5\" height=\"25.0\" opacity=\"0.01953488372093024\" fill=\"currentColor\" stroke-width=\"0.1\"/>\n",
       "<rect x=\"162.5\" y=\"-175.0\" width=\"12.5\" height=\"25.0\" opacity=\"0.015503875968992253\" fill=\"currentColor\" stroke-width=\"0.1\"/>\n",
       "<rect x=\"175.0\" y=\"-175.0\" width=\"12.5\" height=\"25.0\" opacity=\"0.01054263565891473\" fill=\"currentColor\" stroke-width=\"0.1\"/>\n",
       "<rect x=\"187.5\" y=\"-175.0\" width=\"12.5\" height=\"25.0\" opacity=\"0.00434108527131783\" fill=\"currentColor\" stroke-width=\"0.1\"/>\n",
       "<rect x=\"200.0\" y=\"-175.0\" width=\"12.5\" height=\"25.0\" opacity=\"0.007441860465116281\" fill=\"currentColor\" stroke-width=\"0.1\"/>\n",
       "<rect x=\"212.5\" y=\"-175.0\" width=\"12.5\" height=\"25.0\" opacity=\"0.00558139534883721\" fill=\"currentColor\" stroke-width=\"0.1\"/>\n",
       "<rect x=\"225.0\" y=\"-175.0\" width=\"12.5\" height=\"25.0\" opacity=\"0.0034108527131782953\" fill=\"currentColor\" stroke-width=\"0.1\"/>\n",
       "<rect x=\"237.5\" y=\"-175.0\" width=\"12.5\" height=\"25.0\" opacity=\"0.002790697674418605\" fill=\"currentColor\" stroke-width=\"0.1\"/>\n",
       "<rect x=\"0.0\" y=\"-200.0\" width=\"12.5\" height=\"25.0\" opacity=\"0.035038759689922476\" fill=\"currentColor\" stroke-width=\"0.1\"/>\n",
       "<rect x=\"12.5\" y=\"-200.0\" width=\"12.5\" height=\"25.0\" opacity=\"0.16620155038759687\" fill=\"currentColor\" stroke-width=\"0.1\"/>\n",
       "<rect x=\"25.0\" y=\"-200.0\" width=\"12.5\" height=\"25.0\" opacity=\"0.14821705426356585\" fill=\"currentColor\" stroke-width=\"0.1\"/>\n",
       "<rect x=\"37.5\" y=\"-200.0\" width=\"12.5\" height=\"25.0\" opacity=\"0.10263565891472867\" fill=\"currentColor\" stroke-width=\"0.1\"/>\n",
       "<rect x=\"50.0\" y=\"-200.0\" width=\"12.5\" height=\"25.0\" opacity=\"0.06511627906976744\" fill=\"currentColor\" stroke-width=\"0.1\"/>\n",
       "<rect x=\"62.5\" y=\"-200.0\" width=\"12.5\" height=\"25.0\" opacity=\"0.03255813953488372\" fill=\"currentColor\" stroke-width=\"0.1\"/>\n",
       "<rect x=\"75.0\" y=\"-200.0\" width=\"12.5\" height=\"25.0\" opacity=\"0.025736434108527127\" fill=\"currentColor\" stroke-width=\"0.1\"/>\n",
       "<rect x=\"87.5\" y=\"-200.0\" width=\"12.5\" height=\"25.0\" opacity=\"0.018604651162790694\" fill=\"currentColor\" stroke-width=\"0.1\"/>\n",
       "<rect x=\"100.0\" y=\"-200.0\" width=\"12.5\" height=\"25.0\" opacity=\"0.010542635658914728\" fill=\"currentColor\" stroke-width=\"0.1\"/>\n",
       "<rect x=\"112.5\" y=\"-200.0\" width=\"12.5\" height=\"25.0\" opacity=\"0.008992248062015502\" fill=\"currentColor\" stroke-width=\"0.1\"/>\n",
       "<rect x=\"125.0\" y=\"-200.0\" width=\"12.5\" height=\"25.0\" opacity=\"0.0055813953488372\" fill=\"currentColor\" stroke-width=\"0.1\"/>\n",
       "<rect x=\"137.5\" y=\"-200.0\" width=\"12.5\" height=\"25.0\" opacity=\"0.000930232558139536\" fill=\"currentColor\" stroke-width=\"0.1\"/>\n",
       "<rect x=\"150.0\" y=\"-200.0\" width=\"12.5\" height=\"25.0\" opacity=\"0.0006201550387596897\" fill=\"currentColor\" stroke-width=\"0.1\"/>\n",
       "<rect x=\"162.5\" y=\"-200.0\" width=\"12.5\" height=\"25.0\" opacity=\"0.00031007751937984487\" fill=\"currentColor\" stroke-width=\"0.1\"/>\n",
       "<rect x=\"175.0\" y=\"-200.0\" width=\"12.5\" height=\"25.0\" opacity=\"0.0006201550387596897\" fill=\"currentColor\" stroke-width=\"0.1\"/>\n",
       "<rect x=\"187.5\" y=\"-200.0\" width=\"12.5\" height=\"25.0\" opacity=\"0.0012403100775193795\" fill=\"currentColor\" stroke-width=\"0.1\"/>\n",
       "<rect x=\"200.0\" y=\"-200.0\" width=\"12.5\" height=\"25.0\" opacity=\"0.0006201550387596897\" fill=\"currentColor\" stroke-width=\"0.1\"/>\n",
       "<rect x=\"212.5\" y=\"-200.0\" width=\"12.5\" height=\"25.0\" opacity=\"0.0\" fill=\"currentColor\" stroke-width=\"0.1\"/>\n",
       "<rect x=\"225.0\" y=\"-200.0\" width=\"12.5\" height=\"25.0\" opacity=\"0.0\" fill=\"currentColor\" stroke-width=\"0.1\"/>\n",
       "<rect x=\"237.5\" y=\"-200.0\" width=\"12.5\" height=\"25.0\" opacity=\"0.0\" fill=\"currentColor\" stroke-width=\"0.1\"/>\n",
       "<rect x=\"0.0\" y=\"-225.0\" width=\"12.5\" height=\"25.0\" opacity=\"0.0\" fill=\"currentColor\" stroke-width=\"0.1\"/>\n",
       "<rect x=\"12.5\" y=\"-225.0\" width=\"12.5\" height=\"25.0\" opacity=\"0.000310077519379845\" fill=\"currentColor\" stroke-width=\"0.1\"/>\n",
       "<rect x=\"25.0\" y=\"-225.0\" width=\"12.5\" height=\"25.0\" opacity=\"0.0\" fill=\"currentColor\" stroke-width=\"0.1\"/>\n",
       "<rect x=\"37.5\" y=\"-225.0\" width=\"12.5\" height=\"25.0\" opacity=\"0.0\" fill=\"currentColor\" stroke-width=\"0.1\"/>\n",
       "<rect x=\"50.0\" y=\"-225.0\" width=\"12.5\" height=\"25.0\" opacity=\"0.0\" fill=\"currentColor\" stroke-width=\"0.1\"/>\n",
       "<rect x=\"62.5\" y=\"-225.0\" width=\"12.5\" height=\"25.0\" opacity=\"0.0\" fill=\"currentColor\" stroke-width=\"0.1\"/>\n",
       "<rect x=\"75.0\" y=\"-225.0\" width=\"12.5\" height=\"25.0\" opacity=\"0.0\" fill=\"currentColor\" stroke-width=\"0.1\"/>\n",
       "<rect x=\"87.5\" y=\"-225.0\" width=\"12.5\" height=\"25.0\" opacity=\"0.0\" fill=\"currentColor\" stroke-width=\"0.1\"/>\n",
       "<rect x=\"100.0\" y=\"-225.0\" width=\"12.5\" height=\"25.0\" opacity=\"0.0\" fill=\"currentColor\" stroke-width=\"0.1\"/>\n",
       "<rect x=\"112.5\" y=\"-225.0\" width=\"12.5\" height=\"25.0\" opacity=\"0.0\" fill=\"currentColor\" stroke-width=\"0.1\"/>\n",
       "<rect x=\"125.0\" y=\"-225.0\" width=\"12.5\" height=\"25.0\" opacity=\"0.0\" fill=\"currentColor\" stroke-width=\"0.1\"/>\n",
       "<rect x=\"137.5\" y=\"-225.0\" width=\"12.5\" height=\"25.0\" opacity=\"0.0\" fill=\"currentColor\" stroke-width=\"0.1\"/>\n",
       "<rect x=\"150.0\" y=\"-225.0\" width=\"12.5\" height=\"25.0\" opacity=\"0.0\" fill=\"currentColor\" stroke-width=\"0.1\"/>\n",
       "<rect x=\"162.5\" y=\"-225.0\" width=\"12.5\" height=\"25.0\" opacity=\"0.0\" fill=\"currentColor\" stroke-width=\"0.1\"/>\n",
       "<rect x=\"175.0\" y=\"-225.0\" width=\"12.5\" height=\"25.0\" opacity=\"0.0\" fill=\"currentColor\" stroke-width=\"0.1\"/>\n",
       "<rect x=\"187.5\" y=\"-225.0\" width=\"12.5\" height=\"25.0\" opacity=\"0.0\" fill=\"currentColor\" stroke-width=\"0.1\"/>\n",
       "<rect x=\"200.0\" y=\"-225.0\" width=\"12.5\" height=\"25.0\" opacity=\"0.0\" fill=\"currentColor\" stroke-width=\"0.1\"/>\n",
       "<rect x=\"212.5\" y=\"-225.0\" width=\"12.5\" height=\"25.0\" opacity=\"0.0\" fill=\"currentColor\" stroke-width=\"0.1\"/>\n",
       "<rect x=\"225.0\" y=\"-225.0\" width=\"12.5\" height=\"25.0\" opacity=\"0.0\" fill=\"currentColor\" stroke-width=\"0.1\"/>\n",
       "<rect x=\"237.5\" y=\"-225.0\" width=\"12.5\" height=\"25.0\" opacity=\"0.0\" fill=\"currentColor\" stroke-width=\"0.1\"/>\n",
       "<rect x=\"0.0\" y=\"-250.0\" width=\"12.5\" height=\"25.0\" opacity=\"0.0\" fill=\"currentColor\" stroke-width=\"0.1\"/>\n",
       "<rect x=\"12.5\" y=\"-250.0\" width=\"12.5\" height=\"25.0\" opacity=\"0.0\" fill=\"currentColor\" stroke-width=\"0.1\"/>\n",
       "<rect x=\"25.0\" y=\"-250.0\" width=\"12.5\" height=\"25.0\" opacity=\"0.0\" fill=\"currentColor\" stroke-width=\"0.1\"/>\n",
       "<rect x=\"37.5\" y=\"-250.0\" width=\"12.5\" height=\"25.0\" opacity=\"0.0\" fill=\"currentColor\" stroke-width=\"0.1\"/>\n",
       "<rect x=\"50.0\" y=\"-250.0\" width=\"12.5\" height=\"25.0\" opacity=\"0.0\" fill=\"currentColor\" stroke-width=\"0.1\"/>\n",
       "<rect x=\"62.5\" y=\"-250.0\" width=\"12.5\" height=\"25.0\" opacity=\"0.0\" fill=\"currentColor\" stroke-width=\"0.1\"/>\n",
       "<rect x=\"75.0\" y=\"-250.0\" width=\"12.5\" height=\"25.0\" opacity=\"0.0\" fill=\"currentColor\" stroke-width=\"0.1\"/>\n",
       "<rect x=\"87.5\" y=\"-250.0\" width=\"12.5\" height=\"25.0\" opacity=\"0.0\" fill=\"currentColor\" stroke-width=\"0.1\"/>\n",
       "<rect x=\"100.0\" y=\"-250.0\" width=\"12.5\" height=\"25.0\" opacity=\"0.0\" fill=\"currentColor\" stroke-width=\"0.1\"/>\n",
       "<rect x=\"112.5\" y=\"-250.0\" width=\"12.5\" height=\"25.0\" opacity=\"0.0\" fill=\"currentColor\" stroke-width=\"0.1\"/>\n",
       "<rect x=\"125.0\" y=\"-250.0\" width=\"12.5\" height=\"25.0\" opacity=\"0.0\" fill=\"currentColor\" stroke-width=\"0.1\"/>\n",
       "<rect x=\"137.5\" y=\"-250.0\" width=\"12.5\" height=\"25.0\" opacity=\"0.0\" fill=\"currentColor\" stroke-width=\"0.1\"/>\n",
       "<rect x=\"150.0\" y=\"-250.0\" width=\"12.5\" height=\"25.0\" opacity=\"0.0\" fill=\"currentColor\" stroke-width=\"0.1\"/>\n",
       "<rect x=\"162.5\" y=\"-250.0\" width=\"12.5\" height=\"25.0\" opacity=\"0.0\" fill=\"currentColor\" stroke-width=\"0.1\"/>\n",
       "<rect x=\"175.0\" y=\"-250.0\" width=\"12.5\" height=\"25.0\" opacity=\"0.0\" fill=\"currentColor\" stroke-width=\"0.1\"/>\n",
       "<rect x=\"187.5\" y=\"-250.0\" width=\"12.5\" height=\"25.0\" opacity=\"0.0\" fill=\"currentColor\" stroke-width=\"0.1\"/>\n",
       "<rect x=\"200.0\" y=\"-250.0\" width=\"12.5\" height=\"25.0\" opacity=\"0.0\" fill=\"currentColor\" stroke-width=\"0.1\"/>\n",
       "<rect x=\"212.5\" y=\"-250.0\" width=\"12.5\" height=\"25.0\" opacity=\"0.0\" fill=\"currentColor\" stroke-width=\"0.1\"/>\n",
       "<rect x=\"225.0\" y=\"-250.0\" width=\"12.5\" height=\"25.0\" opacity=\"0.0\" fill=\"currentColor\" stroke-width=\"0.1\"/>\n",
       "<rect x=\"237.5\" y=\"-250.0\" width=\"12.5\" height=\"25.0\" opacity=\"0.0\" fill=\"currentColor\" stroke-width=\"0.1\"/>\n",
       "</svg>\n",
       "</div>\n",
       "<div style=\"flex=grow:1;\">\n",
       "Regular(20, 0, 400, underflow=False, name='pt')<br/>\n",
       "Regular(10, -5, 5, underflow=False, overflow=False, name='eta')<br/>\n",
       "<hr style=\"margin-top:.2em; margin-bottom:.2em;\"/>\n",
       "Weight() Σ=WeightedSum(value=111342, variance=111342) <em>(WeightedSum(value=112212, variance=112212) with flow)</em>\n",
       "\n",
       "</div>\n",
       "</div>\n",
       "</html>"
      ],
      "text/plain": [
       "Hist(\n",
       "  Regular(20, 0, 400, underflow=False, name='pt'),\n",
       "  Regular(10, -5, 5, underflow=False, overflow=False, name='eta'),\n",
       "  storage=Weight()) # Sum: WeightedSum(value=111342, variance=111342) (WeightedSum(value=112212, variance=112212) with flow)"
      ]
     },
     "execution_count": 24,
     "metadata": {},
     "output_type": "execute_result"
    }
   ],
   "source": [
    "btagged[{\"flavour\":2}]"
   ]
  },
  {
   "cell_type": "code",
   "execution_count": 25,
   "id": "d9ccf680-e81e-48e9-9f22-a7cc3f003b94",
   "metadata": {
    "tags": []
   },
   "outputs": [
    {
     "data": {
      "text/html": [
       "<html>\n",
       "<div style=\"display:flex; align-items:center;\">\n",
       "<div style=\"width:290px;\">\n",
       "<svg xmlns=\"http://www.w3.org/2000/svg\" viewBox=\"-20 -270 290 290\">\n",
       "<text text-anchor=\"middle\" x=\"0\" y=\"13\" style=\"fill:currentColor;\">\n",
       "0\n",
       "</text>\n",
       "<text text-anchor=\"middle\" x=\"250\" y=\"13\" style=\"fill:currentColor;\">\n",
       "400\n",
       "</text>\n",
       "<text text-anchor=\"middle\" x=\"-10\" y=\"0\" style=\"fill:currentColor;\">\n",
       "-5\n",
       "</text>\n",
       "<text text-anchor=\"middle\" x=\"-10\" y=\"-250\" style=\"fill:currentColor;\">\n",
       "5\n",
       "</text>\n",
       "<text text-anchor=\"middle\" x=\"125.0\" y=\"13\" style=\"fill:currentColor;\">\n",
       "pt\n",
       "</text>\n",
       "<text text-anchor=\"middle\" x=\"-10\" y=\"-125.0\" transform=\"rotate(-90,-10,-125.0)\" style=\"fill:currentColor;\">\n",
       "eta\n",
       "</text>\n",
       "<rect x=\"0.0\" y=\"-25.0\" width=\"12.5\" height=\"25.0\" opacity=\"0.003619441571871768\" fill=\"currentColor\" stroke-width=\"0.1\"/>\n",
       "<rect x=\"12.5\" y=\"-25.0\" width=\"12.5\" height=\"25.0\" opacity=\"0.0028438469493278183\" fill=\"currentColor\" stroke-width=\"0.1\"/>\n",
       "<rect x=\"25.0\" y=\"-25.0\" width=\"12.5\" height=\"25.0\" opacity=\"0.0002585315408479835\" fill=\"currentColor\" stroke-width=\"0.1\"/>\n",
       "<rect x=\"37.5\" y=\"-25.0\" width=\"12.5\" height=\"25.0\" opacity=\"0.0\" fill=\"currentColor\" stroke-width=\"0.1\"/>\n",
       "<rect x=\"50.0\" y=\"-25.0\" width=\"12.5\" height=\"25.0\" opacity=\"0.0\" fill=\"currentColor\" stroke-width=\"0.1\"/>\n",
       "<rect x=\"62.5\" y=\"-25.0\" width=\"12.5\" height=\"25.0\" opacity=\"0.0\" fill=\"currentColor\" stroke-width=\"0.1\"/>\n",
       "<rect x=\"75.0\" y=\"-25.0\" width=\"12.5\" height=\"25.0\" opacity=\"0.0\" fill=\"currentColor\" stroke-width=\"0.1\"/>\n",
       "<rect x=\"87.5\" y=\"-25.0\" width=\"12.5\" height=\"25.0\" opacity=\"0.0\" fill=\"currentColor\" stroke-width=\"0.1\"/>\n",
       "<rect x=\"100.0\" y=\"-25.0\" width=\"12.5\" height=\"25.0\" opacity=\"0.0\" fill=\"currentColor\" stroke-width=\"0.1\"/>\n",
       "<rect x=\"112.5\" y=\"-25.0\" width=\"12.5\" height=\"25.0\" opacity=\"0.0\" fill=\"currentColor\" stroke-width=\"0.1\"/>\n",
       "<rect x=\"125.0\" y=\"-25.0\" width=\"12.5\" height=\"25.0\" opacity=\"0.0\" fill=\"currentColor\" stroke-width=\"0.1\"/>\n",
       "<rect x=\"137.5\" y=\"-25.0\" width=\"12.5\" height=\"25.0\" opacity=\"0.0\" fill=\"currentColor\" stroke-width=\"0.1\"/>\n",
       "<rect x=\"150.0\" y=\"-25.0\" width=\"12.5\" height=\"25.0\" opacity=\"0.0\" fill=\"currentColor\" stroke-width=\"0.1\"/>\n",
       "<rect x=\"162.5\" y=\"-25.0\" width=\"12.5\" height=\"25.0\" opacity=\"0.0\" fill=\"currentColor\" stroke-width=\"0.1\"/>\n",
       "<rect x=\"175.0\" y=\"-25.0\" width=\"12.5\" height=\"25.0\" opacity=\"0.0\" fill=\"currentColor\" stroke-width=\"0.1\"/>\n",
       "<rect x=\"187.5\" y=\"-25.0\" width=\"12.5\" height=\"25.0\" opacity=\"0.0\" fill=\"currentColor\" stroke-width=\"0.1\"/>\n",
       "<rect x=\"200.0\" y=\"-25.0\" width=\"12.5\" height=\"25.0\" opacity=\"0.0\" fill=\"currentColor\" stroke-width=\"0.1\"/>\n",
       "<rect x=\"212.5\" y=\"-25.0\" width=\"12.5\" height=\"25.0\" opacity=\"0.0\" fill=\"currentColor\" stroke-width=\"0.1\"/>\n",
       "<rect x=\"225.0\" y=\"-25.0\" width=\"12.5\" height=\"25.0\" opacity=\"0.0\" fill=\"currentColor\" stroke-width=\"0.1\"/>\n",
       "<rect x=\"237.5\" y=\"-25.0\" width=\"12.5\" height=\"25.0\" opacity=\"0.0\" fill=\"currentColor\" stroke-width=\"0.1\"/>\n",
       "<rect x=\"0.0\" y=\"-50.0\" width=\"12.5\" height=\"25.0\" opacity=\"0.022492244053774563\" fill=\"currentColor\" stroke-width=\"0.1\"/>\n",
       "<rect x=\"12.5\" y=\"-50.0\" width=\"12.5\" height=\"25.0\" opacity=\"0.04963805584281283\" fill=\"currentColor\" stroke-width=\"0.1\"/>\n",
       "<rect x=\"25.0\" y=\"-50.0\" width=\"12.5\" height=\"25.0\" opacity=\"0.018355739400206825\" fill=\"currentColor\" stroke-width=\"0.1\"/>\n",
       "<rect x=\"37.5\" y=\"-50.0\" width=\"12.5\" height=\"25.0\" opacity=\"0.011892450879007239\" fill=\"currentColor\" stroke-width=\"0.1\"/>\n",
       "<rect x=\"50.0\" y=\"-50.0\" width=\"12.5\" height=\"25.0\" opacity=\"0.005170630816959669\" fill=\"currentColor\" stroke-width=\"0.1\"/>\n",
       "<rect x=\"62.5\" y=\"-50.0\" width=\"12.5\" height=\"25.0\" opacity=\"0.002068252326783868\" fill=\"currentColor\" stroke-width=\"0.1\"/>\n",
       "<rect x=\"75.0\" y=\"-50.0\" width=\"12.5\" height=\"25.0\" opacity=\"0.001809720785935884\" fill=\"currentColor\" stroke-width=\"0.1\"/>\n",
       "<rect x=\"87.5\" y=\"-50.0\" width=\"12.5\" height=\"25.0\" opacity=\"0.0007755946225439504\" fill=\"currentColor\" stroke-width=\"0.1\"/>\n",
       "<rect x=\"100.0\" y=\"-50.0\" width=\"12.5\" height=\"25.0\" opacity=\"0.000517063081695967\" fill=\"currentColor\" stroke-width=\"0.1\"/>\n",
       "<rect x=\"112.5\" y=\"-50.0\" width=\"12.5\" height=\"25.0\" opacity=\"0.0\" fill=\"currentColor\" stroke-width=\"0.1\"/>\n",
       "<rect x=\"125.0\" y=\"-50.0\" width=\"12.5\" height=\"25.0\" opacity=\"0.0\" fill=\"currentColor\" stroke-width=\"0.1\"/>\n",
       "<rect x=\"137.5\" y=\"-50.0\" width=\"12.5\" height=\"25.0\" opacity=\"0.0\" fill=\"currentColor\" stroke-width=\"0.1\"/>\n",
       "<rect x=\"150.0\" y=\"-50.0\" width=\"12.5\" height=\"25.0\" opacity=\"0.0002585315408479835\" fill=\"currentColor\" stroke-width=\"0.1\"/>\n",
       "<rect x=\"162.5\" y=\"-50.0\" width=\"12.5\" height=\"25.0\" opacity=\"0.0\" fill=\"currentColor\" stroke-width=\"0.1\"/>\n",
       "<rect x=\"175.0\" y=\"-50.0\" width=\"12.5\" height=\"25.0\" opacity=\"0.0\" fill=\"currentColor\" stroke-width=\"0.1\"/>\n",
       "<rect x=\"187.5\" y=\"-50.0\" width=\"12.5\" height=\"25.0\" opacity=\"0.0\" fill=\"currentColor\" stroke-width=\"0.1\"/>\n",
       "<rect x=\"200.0\" y=\"-50.0\" width=\"12.5\" height=\"25.0\" opacity=\"0.0002585315408479835\" fill=\"currentColor\" stroke-width=\"0.1\"/>\n",
       "<rect x=\"212.5\" y=\"-50.0\" width=\"12.5\" height=\"25.0\" opacity=\"0.0\" fill=\"currentColor\" stroke-width=\"0.1\"/>\n",
       "<rect x=\"225.0\" y=\"-50.0\" width=\"12.5\" height=\"25.0\" opacity=\"0.0\" fill=\"currentColor\" stroke-width=\"0.1\"/>\n",
       "<rect x=\"237.5\" y=\"-50.0\" width=\"12.5\" height=\"25.0\" opacity=\"0.0\" fill=\"currentColor\" stroke-width=\"0.1\"/>\n",
       "<rect x=\"0.0\" y=\"-75.0\" width=\"12.5\" height=\"25.0\" opacity=\"0.07419855222337125\" fill=\"currentColor\" stroke-width=\"0.1\"/>\n",
       "<rect x=\"12.5\" y=\"-75.0\" width=\"12.5\" height=\"25.0\" opacity=\"0.26758014477766284\" fill=\"currentColor\" stroke-width=\"0.1\"/>\n",
       "<rect x=\"25.0\" y=\"-75.0\" width=\"12.5\" height=\"25.0\" opacity=\"0.1985522233712513\" fill=\"currentColor\" stroke-width=\"0.1\"/>\n",
       "<rect x=\"37.5\" y=\"-75.0\" width=\"12.5\" height=\"25.0\" opacity=\"0.12202688728024817\" fill=\"currentColor\" stroke-width=\"0.1\"/>\n",
       "<rect x=\"50.0\" y=\"-75.0\" width=\"12.5\" height=\"25.0\" opacity=\"0.08298862461220269\" fill=\"currentColor\" stroke-width=\"0.1\"/>\n",
       "<rect x=\"62.5\" y=\"-75.0\" width=\"12.5\" height=\"25.0\" opacity=\"0.05118924508790072\" fill=\"currentColor\" stroke-width=\"0.1\"/>\n",
       "<rect x=\"75.0\" y=\"-75.0\" width=\"12.5\" height=\"25.0\" opacity=\"0.02998965873836608\" fill=\"currentColor\" stroke-width=\"0.1\"/>\n",
       "<rect x=\"87.5\" y=\"-75.0\" width=\"12.5\" height=\"25.0\" opacity=\"0.019389865563598757\" fill=\"currentColor\" stroke-width=\"0.1\"/>\n",
       "<rect x=\"100.0\" y=\"-75.0\" width=\"12.5\" height=\"25.0\" opacity=\"0.01499482936918304\" fill=\"currentColor\" stroke-width=\"0.1\"/>\n",
       "<rect x=\"112.5\" y=\"-75.0\" width=\"12.5\" height=\"25.0\" opacity=\"0.011633919338159255\" fill=\"currentColor\" stroke-width=\"0.1\"/>\n",
       "<rect x=\"125.0\" y=\"-75.0\" width=\"12.5\" height=\"25.0\" opacity=\"0.005429162357807644\" fill=\"currentColor\" stroke-width=\"0.1\"/>\n",
       "<rect x=\"137.5\" y=\"-75.0\" width=\"12.5\" height=\"25.0\" opacity=\"0.0038779731127197574\" fill=\"currentColor\" stroke-width=\"0.1\"/>\n",
       "<rect x=\"150.0\" y=\"-75.0\" width=\"12.5\" height=\"25.0\" opacity=\"0.002326783867631851\" fill=\"currentColor\" stroke-width=\"0.1\"/>\n",
       "<rect x=\"162.5\" y=\"-75.0\" width=\"12.5\" height=\"25.0\" opacity=\"0.001809720785935884\" fill=\"currentColor\" stroke-width=\"0.1\"/>\n",
       "<rect x=\"175.0\" y=\"-75.0\" width=\"12.5\" height=\"25.0\" opacity=\"0.0015511892450879008\" fill=\"currentColor\" stroke-width=\"0.1\"/>\n",
       "<rect x=\"187.5\" y=\"-75.0\" width=\"12.5\" height=\"25.0\" opacity=\"0.000517063081695967\" fill=\"currentColor\" stroke-width=\"0.1\"/>\n",
       "<rect x=\"200.0\" y=\"-75.0\" width=\"12.5\" height=\"25.0\" opacity=\"0.001034126163391934\" fill=\"currentColor\" stroke-width=\"0.1\"/>\n",
       "<rect x=\"212.5\" y=\"-75.0\" width=\"12.5\" height=\"25.0\" opacity=\"0.000517063081695967\" fill=\"currentColor\" stroke-width=\"0.1\"/>\n",
       "<rect x=\"225.0\" y=\"-75.0\" width=\"12.5\" height=\"25.0\" opacity=\"0.0002585315408479835\" fill=\"currentColor\" stroke-width=\"0.1\"/>\n",
       "<rect x=\"237.5\" y=\"-75.0\" width=\"12.5\" height=\"25.0\" opacity=\"0.0002585315408479835\" fill=\"currentColor\" stroke-width=\"0.1\"/>\n",
       "<rect x=\"0.0\" y=\"-100.0\" width=\"12.5\" height=\"25.0\" opacity=\"0.13598759048603928\" fill=\"currentColor\" stroke-width=\"0.1\"/>\n",
       "<rect x=\"12.5\" y=\"-100.0\" width=\"12.5\" height=\"25.0\" opacity=\"0.6176318510858325\" fill=\"currentColor\" stroke-width=\"0.1\"/>\n",
       "<rect x=\"25.0\" y=\"-100.0\" width=\"12.5\" height=\"25.0\" opacity=\"0.5912616339193382\" fill=\"currentColor\" stroke-width=\"0.1\"/>\n",
       "<rect x=\"37.5\" y=\"-100.0\" width=\"12.5\" height=\"25.0\" opacity=\"0.47362978283350565\" fill=\"currentColor\" stroke-width=\"0.1\"/>\n",
       "<rect x=\"50.0\" y=\"-100.0\" width=\"12.5\" height=\"25.0\" opacity=\"0.3474663908996898\" fill=\"currentColor\" stroke-width=\"0.1\"/>\n",
       "<rect x=\"62.5\" y=\"-100.0\" width=\"12.5\" height=\"25.0\" opacity=\"0.23914167528438468\" fill=\"currentColor\" stroke-width=\"0.1\"/>\n",
       "<rect x=\"75.0\" y=\"-100.0\" width=\"12.5\" height=\"25.0\" opacity=\"0.1796794208893485\" fill=\"currentColor\" stroke-width=\"0.1\"/>\n",
       "<rect x=\"87.5\" y=\"-100.0\" width=\"12.5\" height=\"25.0\" opacity=\"0.12280248190279214\" fill=\"currentColor\" stroke-width=\"0.1\"/>\n",
       "<rect x=\"100.0\" y=\"-100.0\" width=\"12.5\" height=\"25.0\" opacity=\"0.08143743536711479\" fill=\"currentColor\" stroke-width=\"0.1\"/>\n",
       "<rect x=\"112.5\" y=\"-100.0\" width=\"12.5\" height=\"25.0\" opacity=\"0.057652533609100304\" fill=\"currentColor\" stroke-width=\"0.1\"/>\n",
       "<rect x=\"125.0\" y=\"-100.0\" width=\"12.5\" height=\"25.0\" opacity=\"0.03903826266804544\" fill=\"currentColor\" stroke-width=\"0.1\"/>\n",
       "<rect x=\"137.5\" y=\"-100.0\" width=\"12.5\" height=\"25.0\" opacity=\"0.03309203722854193\" fill=\"currentColor\" stroke-width=\"0.1\"/>\n",
       "<rect x=\"150.0\" y=\"-100.0\" width=\"12.5\" height=\"25.0\" opacity=\"0.01861427094105481\" fill=\"currentColor\" stroke-width=\"0.1\"/>\n",
       "<rect x=\"162.5\" y=\"-100.0\" width=\"12.5\" height=\"25.0\" opacity=\"0.01628748707342296\" fill=\"currentColor\" stroke-width=\"0.1\"/>\n",
       "<rect x=\"175.0\" y=\"-100.0\" width=\"12.5\" height=\"25.0\" opacity=\"0.014219234746639088\" fill=\"currentColor\" stroke-width=\"0.1\"/>\n",
       "<rect x=\"187.5\" y=\"-100.0\" width=\"12.5\" height=\"25.0\" opacity=\"0.009307135470527405\" fill=\"currentColor\" stroke-width=\"0.1\"/>\n",
       "<rect x=\"200.0\" y=\"-100.0\" width=\"12.5\" height=\"25.0\" opacity=\"0.005429162357807653\" fill=\"currentColor\" stroke-width=\"0.1\"/>\n",
       "<rect x=\"212.5\" y=\"-100.0\" width=\"12.5\" height=\"25.0\" opacity=\"0.0038779731127197518\" fill=\"currentColor\" stroke-width=\"0.1\"/>\n",
       "<rect x=\"225.0\" y=\"-100.0\" width=\"12.5\" height=\"25.0\" opacity=\"0.0031023784901758017\" fill=\"currentColor\" stroke-width=\"0.1\"/>\n",
       "<rect x=\"237.5\" y=\"-100.0\" width=\"12.5\" height=\"25.0\" opacity=\"0.0031023784901758017\" fill=\"currentColor\" stroke-width=\"0.1\"/>\n",
       "<rect x=\"0.0\" y=\"-125.0\" width=\"12.5\" height=\"25.0\" opacity=\"0.17166494312306102\" fill=\"currentColor\" stroke-width=\"0.1\"/>\n",
       "<rect x=\"12.5\" y=\"-125.0\" width=\"12.5\" height=\"25.0\" opacity=\"0.9092554291623577\" fill=\"currentColor\" stroke-width=\"0.1\"/>\n",
       "<rect x=\"25.0\" y=\"-125.0\" width=\"12.5\" height=\"25.0\" opacity=\"1.0\" fill=\"currentColor\" stroke-width=\"0.1\"/>\n",
       "<rect x=\"37.5\" y=\"-125.0\" width=\"12.5\" height=\"25.0\" opacity=\"0.8117890382626681\" fill=\"currentColor\" stroke-width=\"0.1\"/>\n",
       "<rect x=\"50.0\" y=\"-125.0\" width=\"12.5\" height=\"25.0\" opacity=\"0.6595139607032058\" fill=\"currentColor\" stroke-width=\"0.1\"/>\n",
       "<rect x=\"62.5\" y=\"-125.0\" width=\"12.5\" height=\"25.0\" opacity=\"0.45217166494312305\" fill=\"currentColor\" stroke-width=\"0.1\"/>\n",
       "<rect x=\"75.0\" y=\"-125.0\" width=\"12.5\" height=\"25.0\" opacity=\"0.34358841778697\" fill=\"currentColor\" stroke-width=\"0.1\"/>\n",
       "<rect x=\"87.5\" y=\"-125.0\" width=\"12.5\" height=\"25.0\" opacity=\"0.23422957600827302\" fill=\"currentColor\" stroke-width=\"0.1\"/>\n",
       "<rect x=\"100.0\" y=\"-125.0\" width=\"12.5\" height=\"25.0\" opacity=\"0.18097207859358844\" fill=\"currentColor\" stroke-width=\"0.1\"/>\n",
       "<rect x=\"112.5\" y=\"-125.0\" width=\"12.5\" height=\"25.0\" opacity=\"0.11323681489141675\" fill=\"currentColor\" stroke-width=\"0.1\"/>\n",
       "<rect x=\"125.0\" y=\"-125.0\" width=\"12.5\" height=\"25.0\" opacity=\"0.09126163391933802\" fill=\"currentColor\" stroke-width=\"0.1\"/>\n",
       "<rect x=\"137.5\" y=\"-125.0\" width=\"12.5\" height=\"25.0\" opacity=\"0.06101344364012419\" fill=\"currentColor\" stroke-width=\"0.1\"/>\n",
       "<rect x=\"150.0\" y=\"-125.0\" width=\"12.5\" height=\"25.0\" opacity=\"0.04705274043433299\" fill=\"currentColor\" stroke-width=\"0.1\"/>\n",
       "<rect x=\"162.5\" y=\"-125.0\" width=\"12.5\" height=\"25.0\" opacity=\"0.03645294725956567\" fill=\"currentColor\" stroke-width=\"0.1\"/>\n",
       "<rect x=\"175.0\" y=\"-125.0\" width=\"12.5\" height=\"25.0\" opacity=\"0.030765253360910027\" fill=\"currentColor\" stroke-width=\"0.1\"/>\n",
       "<rect x=\"187.5\" y=\"-125.0\" width=\"12.5\" height=\"25.0\" opacity=\"0.02171664943123061\" fill=\"currentColor\" stroke-width=\"0.1\"/>\n",
       "<rect x=\"200.0\" y=\"-125.0\" width=\"12.5\" height=\"25.0\" opacity=\"0.017580144777662874\" fill=\"currentColor\" stroke-width=\"0.1\"/>\n",
       "<rect x=\"212.5\" y=\"-125.0\" width=\"12.5\" height=\"25.0\" opacity=\"0.014219234746639088\" fill=\"currentColor\" stroke-width=\"0.1\"/>\n",
       "<rect x=\"225.0\" y=\"-125.0\" width=\"12.5\" height=\"25.0\" opacity=\"0.012409513960703207\" fill=\"currentColor\" stroke-width=\"0.1\"/>\n",
       "<rect x=\"237.5\" y=\"-125.0\" width=\"12.5\" height=\"25.0\" opacity=\"0.00982419855222337\" fill=\"currentColor\" stroke-width=\"0.1\"/>\n",
       "<rect x=\"0.0\" y=\"-150.0\" width=\"12.5\" height=\"25.0\" opacity=\"0.18459152016546018\" fill=\"currentColor\" stroke-width=\"0.1\"/>\n",
       "<rect x=\"12.5\" y=\"-150.0\" width=\"12.5\" height=\"25.0\" opacity=\"0.8994312306101344\" fill=\"currentColor\" stroke-width=\"0.1\"/>\n",
       "<rect x=\"25.0\" y=\"-150.0\" width=\"12.5\" height=\"25.0\" opacity=\"0.9857807652533609\" fill=\"currentColor\" stroke-width=\"0.1\"/>\n",
       "<rect x=\"37.5\" y=\"-150.0\" width=\"12.5\" height=\"25.0\" opacity=\"0.825491209927611\" fill=\"currentColor\" stroke-width=\"0.1\"/>\n",
       "<rect x=\"50.0\" y=\"-150.0\" width=\"12.5\" height=\"25.0\" opacity=\"0.640124095139607\" fill=\"currentColor\" stroke-width=\"0.1\"/>\n",
       "<rect x=\"62.5\" y=\"-150.0\" width=\"12.5\" height=\"25.0\" opacity=\"0.4725956566701138\" fill=\"currentColor\" stroke-width=\"0.1\"/>\n",
       "<rect x=\"75.0\" y=\"-150.0\" width=\"12.5\" height=\"25.0\" opacity=\"0.3340227507755946\" fill=\"currentColor\" stroke-width=\"0.1\"/>\n",
       "<rect x=\"87.5\" y=\"-150.0\" width=\"12.5\" height=\"25.0\" opacity=\"0.24586349534643226\" fill=\"currentColor\" stroke-width=\"0.1\"/>\n",
       "<rect x=\"100.0\" y=\"-150.0\" width=\"12.5\" height=\"25.0\" opacity=\"0.16468459152016546\" fill=\"currentColor\" stroke-width=\"0.1\"/>\n",
       "<rect x=\"112.5\" y=\"-150.0\" width=\"12.5\" height=\"25.0\" opacity=\"0.12952430196483972\" fill=\"currentColor\" stroke-width=\"0.1\"/>\n",
       "<rect x=\"125.0\" y=\"-150.0\" width=\"12.5\" height=\"25.0\" opacity=\"0.08790072388831424\" fill=\"currentColor\" stroke-width=\"0.1\"/>\n",
       "<rect x=\"137.5\" y=\"-150.0\" width=\"12.5\" height=\"25.0\" opacity=\"0.06282316442606008\" fill=\"currentColor\" stroke-width=\"0.1\"/>\n",
       "<rect x=\"150.0\" y=\"-150.0\" width=\"12.5\" height=\"25.0\" opacity=\"0.05170630816959669\" fill=\"currentColor\" stroke-width=\"0.1\"/>\n",
       "<rect x=\"162.5\" y=\"-150.0\" width=\"12.5\" height=\"25.0\" opacity=\"0.038779731127197514\" fill=\"currentColor\" stroke-width=\"0.1\"/>\n",
       "<rect x=\"175.0\" y=\"-150.0\" width=\"12.5\" height=\"25.0\" opacity=\"0.03024819027921406\" fill=\"currentColor\" stroke-width=\"0.1\"/>\n",
       "<rect x=\"187.5\" y=\"-150.0\" width=\"12.5\" height=\"25.0\" opacity=\"0.019131334022750773\" fill=\"currentColor\" stroke-width=\"0.1\"/>\n",
       "<rect x=\"200.0\" y=\"-150.0\" width=\"12.5\" height=\"25.0\" opacity=\"0.01861427094105481\" fill=\"currentColor\" stroke-width=\"0.1\"/>\n",
       "<rect x=\"212.5\" y=\"-150.0\" width=\"12.5\" height=\"25.0\" opacity=\"0.013443640124095138\" fill=\"currentColor\" stroke-width=\"0.1\"/>\n",
       "<rect x=\"225.0\" y=\"-150.0\" width=\"12.5\" height=\"25.0\" opacity=\"0.012409513960703207\" fill=\"currentColor\" stroke-width=\"0.1\"/>\n",
       "<rect x=\"237.5\" y=\"-150.0\" width=\"12.5\" height=\"25.0\" opacity=\"0.006721820062047569\" fill=\"currentColor\" stroke-width=\"0.1\"/>\n",
       "<rect x=\"0.0\" y=\"-175.0\" width=\"12.5\" height=\"25.0\" opacity=\"0.13547052740434334\" fill=\"currentColor\" stroke-width=\"0.1\"/>\n",
       "<rect x=\"12.5\" y=\"-175.0\" width=\"12.5\" height=\"25.0\" opacity=\"0.6354705274043434\" fill=\"currentColor\" stroke-width=\"0.1\"/>\n",
       "<rect x=\"25.0\" y=\"-175.0\" width=\"12.5\" height=\"25.0\" opacity=\"0.5845398138572907\" fill=\"currentColor\" stroke-width=\"0.1\"/>\n",
       "<rect x=\"37.5\" y=\"-175.0\" width=\"12.5\" height=\"25.0\" opacity=\"0.4563081695966909\" fill=\"currentColor\" stroke-width=\"0.1\"/>\n",
       "<rect x=\"50.0\" y=\"-175.0\" width=\"12.5\" height=\"25.0\" opacity=\"0.3420372285418822\" fill=\"currentColor\" stroke-width=\"0.1\"/>\n",
       "<rect x=\"62.5\" y=\"-175.0\" width=\"12.5\" height=\"25.0\" opacity=\"0.24431230610134438\" fill=\"currentColor\" stroke-width=\"0.1\"/>\n",
       "<rect x=\"75.0\" y=\"-175.0\" width=\"12.5\" height=\"25.0\" opacity=\"0.1499482936918304\" fill=\"currentColor\" stroke-width=\"0.1\"/>\n",
       "<rect x=\"87.5\" y=\"-175.0\" width=\"12.5\" height=\"25.0\" opacity=\"0.11530506721820064\" fill=\"currentColor\" stroke-width=\"0.1\"/>\n",
       "<rect x=\"100.0\" y=\"-175.0\" width=\"12.5\" height=\"25.0\" opacity=\"0.08531540847983454\" fill=\"currentColor\" stroke-width=\"0.1\"/>\n",
       "<rect x=\"112.5\" y=\"-175.0\" width=\"12.5\" height=\"25.0\" opacity=\"0.06308169596690798\" fill=\"currentColor\" stroke-width=\"0.1\"/>\n",
       "<rect x=\"125.0\" y=\"-175.0\" width=\"12.5\" height=\"25.0\" opacity=\"0.03852119958634948\" fill=\"currentColor\" stroke-width=\"0.1\"/>\n",
       "<rect x=\"137.5\" y=\"-175.0\" width=\"12.5\" height=\"25.0\" opacity=\"0.024560496380558468\" fill=\"currentColor\" stroke-width=\"0.1\"/>\n",
       "<rect x=\"150.0\" y=\"-175.0\" width=\"12.5\" height=\"25.0\" opacity=\"0.020165460186142712\" fill=\"currentColor\" stroke-width=\"0.1\"/>\n",
       "<rect x=\"162.5\" y=\"-175.0\" width=\"12.5\" height=\"25.0\" opacity=\"0.015253360910031025\" fill=\"currentColor\" stroke-width=\"0.1\"/>\n",
       "<rect x=\"175.0\" y=\"-175.0\" width=\"12.5\" height=\"25.0\" opacity=\"0.011116856256463291\" fill=\"currentColor\" stroke-width=\"0.1\"/>\n",
       "<rect x=\"187.5\" y=\"-175.0\" width=\"12.5\" height=\"25.0\" opacity=\"0.00517063081695967\" fill=\"currentColor\" stroke-width=\"0.1\"/>\n",
       "<rect x=\"200.0\" y=\"-175.0\" width=\"12.5\" height=\"25.0\" opacity=\"0.007238883143743538\" fill=\"currentColor\" stroke-width=\"0.1\"/>\n",
       "<rect x=\"212.5\" y=\"-175.0\" width=\"12.5\" height=\"25.0\" opacity=\"0.0059462254395036196\" fill=\"currentColor\" stroke-width=\"0.1\"/>\n",
       "<rect x=\"225.0\" y=\"-175.0\" width=\"12.5\" height=\"25.0\" opacity=\"0.0028438469493278183\" fill=\"currentColor\" stroke-width=\"0.1\"/>\n",
       "<rect x=\"237.5\" y=\"-175.0\" width=\"12.5\" height=\"25.0\" opacity=\"0.0028438469493278183\" fill=\"currentColor\" stroke-width=\"0.1\"/>\n",
       "<rect x=\"0.0\" y=\"-200.0\" width=\"12.5\" height=\"25.0\" opacity=\"0.06489141675284384\" fill=\"currentColor\" stroke-width=\"0.1\"/>\n",
       "<rect x=\"12.5\" y=\"-200.0\" width=\"12.5\" height=\"25.0\" opacity=\"0.24663908996897616\" fill=\"currentColor\" stroke-width=\"0.1\"/>\n",
       "<rect x=\"25.0\" y=\"-200.0\" width=\"12.5\" height=\"25.0\" opacity=\"0.19984488107549117\" fill=\"currentColor\" stroke-width=\"0.1\"/>\n",
       "<rect x=\"37.5\" y=\"-200.0\" width=\"12.5\" height=\"25.0\" opacity=\"0.13314374353671146\" fill=\"currentColor\" stroke-width=\"0.1\"/>\n",
       "<rect x=\"50.0\" y=\"-200.0\" width=\"12.5\" height=\"25.0\" opacity=\"0.08014477766287485\" fill=\"currentColor\" stroke-width=\"0.1\"/>\n",
       "<rect x=\"62.5\" y=\"-200.0\" width=\"12.5\" height=\"25.0\" opacity=\"0.04188210961737331\" fill=\"currentColor\" stroke-width=\"0.1\"/>\n",
       "<rect x=\"75.0\" y=\"-200.0\" width=\"12.5\" height=\"25.0\" opacity=\"0.03309203722854188\" fill=\"currentColor\" stroke-width=\"0.1\"/>\n",
       "<rect x=\"87.5\" y=\"-200.0\" width=\"12.5\" height=\"25.0\" opacity=\"0.022492244053774556\" fill=\"currentColor\" stroke-width=\"0.1\"/>\n",
       "<rect x=\"100.0\" y=\"-200.0\" width=\"12.5\" height=\"25.0\" opacity=\"0.014994829369183036\" fill=\"currentColor\" stroke-width=\"0.1\"/>\n",
       "<rect x=\"112.5\" y=\"-200.0\" width=\"12.5\" height=\"25.0\" opacity=\"0.008531540847983453\" fill=\"currentColor\" stroke-width=\"0.1\"/>\n",
       "<rect x=\"125.0\" y=\"-200.0\" width=\"12.5\" height=\"25.0\" opacity=\"0.006721820062047558\" fill=\"currentColor\" stroke-width=\"0.1\"/>\n",
       "<rect x=\"137.5\" y=\"-200.0\" width=\"12.5\" height=\"25.0\" opacity=\"0.001034126163391935\" fill=\"currentColor\" stroke-width=\"0.1\"/>\n",
       "<rect x=\"150.0\" y=\"-200.0\" width=\"12.5\" height=\"25.0\" opacity=\"0.0007755946225439502\" fill=\"currentColor\" stroke-width=\"0.1\"/>\n",
       "<rect x=\"162.5\" y=\"-200.0\" width=\"12.5\" height=\"25.0\" opacity=\"0.0005170630816959668\" fill=\"currentColor\" stroke-width=\"0.1\"/>\n",
       "<rect x=\"175.0\" y=\"-200.0\" width=\"12.5\" height=\"25.0\" opacity=\"0.0007755946225439502\" fill=\"currentColor\" stroke-width=\"0.1\"/>\n",
       "<rect x=\"187.5\" y=\"-200.0\" width=\"12.5\" height=\"25.0\" opacity=\"0.0010341261633919337\" fill=\"currentColor\" stroke-width=\"0.1\"/>\n",
       "<rect x=\"200.0\" y=\"-200.0\" width=\"12.5\" height=\"25.0\" opacity=\"0.0007755946225439502\" fill=\"currentColor\" stroke-width=\"0.1\"/>\n",
       "<rect x=\"212.5\" y=\"-200.0\" width=\"12.5\" height=\"25.0\" opacity=\"0.0\" fill=\"currentColor\" stroke-width=\"0.1\"/>\n",
       "<rect x=\"225.0\" y=\"-200.0\" width=\"12.5\" height=\"25.0\" opacity=\"0.0\" fill=\"currentColor\" stroke-width=\"0.1\"/>\n",
       "<rect x=\"237.5\" y=\"-200.0\" width=\"12.5\" height=\"25.0\" opacity=\"0.0\" fill=\"currentColor\" stroke-width=\"0.1\"/>\n",
       "<rect x=\"0.0\" y=\"-225.0\" width=\"12.5\" height=\"25.0\" opacity=\"0.016804550155118926\" fill=\"currentColor\" stroke-width=\"0.1\"/>\n",
       "<rect x=\"12.5\" y=\"-225.0\" width=\"12.5\" height=\"25.0\" opacity=\"0.05041365046535677\" fill=\"currentColor\" stroke-width=\"0.1\"/>\n",
       "<rect x=\"25.0\" y=\"-225.0\" width=\"12.5\" height=\"25.0\" opacity=\"0.020682523267838676\" fill=\"currentColor\" stroke-width=\"0.1\"/>\n",
       "<rect x=\"37.5\" y=\"-225.0\" width=\"12.5\" height=\"25.0\" opacity=\"0.010082730093071354\" fill=\"currentColor\" stroke-width=\"0.1\"/>\n",
       "<rect x=\"50.0\" y=\"-225.0\" width=\"12.5\" height=\"25.0\" opacity=\"0.006204756980351603\" fill=\"currentColor\" stroke-width=\"0.1\"/>\n",
       "<rect x=\"62.5\" y=\"-225.0\" width=\"12.5\" height=\"25.0\" opacity=\"0.0012926577042399173\" fill=\"currentColor\" stroke-width=\"0.1\"/>\n",
       "<rect x=\"75.0\" y=\"-225.0\" width=\"12.5\" height=\"25.0\" opacity=\"0.001809720785935884\" fill=\"currentColor\" stroke-width=\"0.1\"/>\n",
       "<rect x=\"87.5\" y=\"-225.0\" width=\"12.5\" height=\"25.0\" opacity=\"0.000517063081695967\" fill=\"currentColor\" stroke-width=\"0.1\"/>\n",
       "<rect x=\"100.0\" y=\"-225.0\" width=\"12.5\" height=\"25.0\" opacity=\"0.000517063081695967\" fill=\"currentColor\" stroke-width=\"0.1\"/>\n",
       "<rect x=\"112.5\" y=\"-225.0\" width=\"12.5\" height=\"25.0\" opacity=\"0.0\" fill=\"currentColor\" stroke-width=\"0.1\"/>\n",
       "<rect x=\"125.0\" y=\"-225.0\" width=\"12.5\" height=\"25.0\" opacity=\"0.0\" fill=\"currentColor\" stroke-width=\"0.1\"/>\n",
       "<rect x=\"137.5\" y=\"-225.0\" width=\"12.5\" height=\"25.0\" opacity=\"0.00025853154084798385\" fill=\"currentColor\" stroke-width=\"0.1\"/>\n",
       "<rect x=\"150.0\" y=\"-225.0\" width=\"12.5\" height=\"25.0\" opacity=\"0.0\" fill=\"currentColor\" stroke-width=\"0.1\"/>\n",
       "<rect x=\"162.5\" y=\"-225.0\" width=\"12.5\" height=\"25.0\" opacity=\"0.0\" fill=\"currentColor\" stroke-width=\"0.1\"/>\n",
       "<rect x=\"175.0\" y=\"-225.0\" width=\"12.5\" height=\"25.0\" opacity=\"0.0\" fill=\"currentColor\" stroke-width=\"0.1\"/>\n",
       "<rect x=\"187.5\" y=\"-225.0\" width=\"12.5\" height=\"25.0\" opacity=\"0.0\" fill=\"currentColor\" stroke-width=\"0.1\"/>\n",
       "<rect x=\"200.0\" y=\"-225.0\" width=\"12.5\" height=\"25.0\" opacity=\"0.0\" fill=\"currentColor\" stroke-width=\"0.1\"/>\n",
       "<rect x=\"212.5\" y=\"-225.0\" width=\"12.5\" height=\"25.0\" opacity=\"0.0\" fill=\"currentColor\" stroke-width=\"0.1\"/>\n",
       "<rect x=\"225.0\" y=\"-225.0\" width=\"12.5\" height=\"25.0\" opacity=\"0.0\" fill=\"currentColor\" stroke-width=\"0.1\"/>\n",
       "<rect x=\"237.5\" y=\"-225.0\" width=\"12.5\" height=\"25.0\" opacity=\"0.0\" fill=\"currentColor\" stroke-width=\"0.1\"/>\n",
       "<rect x=\"0.0\" y=\"-250.0\" width=\"12.5\" height=\"25.0\" opacity=\"0.0028438469493278183\" fill=\"currentColor\" stroke-width=\"0.1\"/>\n",
       "<rect x=\"12.5\" y=\"-250.0\" width=\"12.5\" height=\"25.0\" opacity=\"0.0038779731127197518\" fill=\"currentColor\" stroke-width=\"0.1\"/>\n",
       "<rect x=\"25.0\" y=\"-250.0\" width=\"12.5\" height=\"25.0\" opacity=\"0.000517063081695967\" fill=\"currentColor\" stroke-width=\"0.1\"/>\n",
       "<rect x=\"37.5\" y=\"-250.0\" width=\"12.5\" height=\"25.0\" opacity=\"0.0\" fill=\"currentColor\" stroke-width=\"0.1\"/>\n",
       "<rect x=\"50.0\" y=\"-250.0\" width=\"12.5\" height=\"25.0\" opacity=\"0.0\" fill=\"currentColor\" stroke-width=\"0.1\"/>\n",
       "<rect x=\"62.5\" y=\"-250.0\" width=\"12.5\" height=\"25.0\" opacity=\"0.0\" fill=\"currentColor\" stroke-width=\"0.1\"/>\n",
       "<rect x=\"75.0\" y=\"-250.0\" width=\"12.5\" height=\"25.0\" opacity=\"0.0\" fill=\"currentColor\" stroke-width=\"0.1\"/>\n",
       "<rect x=\"87.5\" y=\"-250.0\" width=\"12.5\" height=\"25.0\" opacity=\"0.0\" fill=\"currentColor\" stroke-width=\"0.1\"/>\n",
       "<rect x=\"100.0\" y=\"-250.0\" width=\"12.5\" height=\"25.0\" opacity=\"0.0\" fill=\"currentColor\" stroke-width=\"0.1\"/>\n",
       "<rect x=\"112.5\" y=\"-250.0\" width=\"12.5\" height=\"25.0\" opacity=\"0.0\" fill=\"currentColor\" stroke-width=\"0.1\"/>\n",
       "<rect x=\"125.0\" y=\"-250.0\" width=\"12.5\" height=\"25.0\" opacity=\"0.0\" fill=\"currentColor\" stroke-width=\"0.1\"/>\n",
       "<rect x=\"137.5\" y=\"-250.0\" width=\"12.5\" height=\"25.0\" opacity=\"0.0\" fill=\"currentColor\" stroke-width=\"0.1\"/>\n",
       "<rect x=\"150.0\" y=\"-250.0\" width=\"12.5\" height=\"25.0\" opacity=\"0.0\" fill=\"currentColor\" stroke-width=\"0.1\"/>\n",
       "<rect x=\"162.5\" y=\"-250.0\" width=\"12.5\" height=\"25.0\" opacity=\"0.0\" fill=\"currentColor\" stroke-width=\"0.1\"/>\n",
       "<rect x=\"175.0\" y=\"-250.0\" width=\"12.5\" height=\"25.0\" opacity=\"0.0\" fill=\"currentColor\" stroke-width=\"0.1\"/>\n",
       "<rect x=\"187.5\" y=\"-250.0\" width=\"12.5\" height=\"25.0\" opacity=\"0.0\" fill=\"currentColor\" stroke-width=\"0.1\"/>\n",
       "<rect x=\"200.0\" y=\"-250.0\" width=\"12.5\" height=\"25.0\" opacity=\"0.0\" fill=\"currentColor\" stroke-width=\"0.1\"/>\n",
       "<rect x=\"212.5\" y=\"-250.0\" width=\"12.5\" height=\"25.0\" opacity=\"0.0\" fill=\"currentColor\" stroke-width=\"0.1\"/>\n",
       "<rect x=\"225.0\" y=\"-250.0\" width=\"12.5\" height=\"25.0\" opacity=\"0.0\" fill=\"currentColor\" stroke-width=\"0.1\"/>\n",
       "<rect x=\"237.5\" y=\"-250.0\" width=\"12.5\" height=\"25.0\" opacity=\"0.0\" fill=\"currentColor\" stroke-width=\"0.1\"/>\n",
       "</svg>\n",
       "</div>\n",
       "<div style=\"flex=grow:1;\">\n",
       "Regular(20, 0, 400, underflow=False, name='pt')<br/>\n",
       "Regular(10, -5, 5, underflow=False, overflow=False, name='eta')<br/>\n",
       "<hr style=\"margin-top:.2em; margin-bottom:.2em;\"/>\n",
       "Weight() Σ=WeightedSum(value=71032, variance=71032) <em>(WeightedSum(value=71552, variance=71552) with flow)</em>\n",
       "\n",
       "</div>\n",
       "</div>\n",
       "</html>"
      ],
      "text/plain": [
       "Hist(\n",
       "  Regular(20, 0, 400, underflow=False, name='pt'),\n",
       "  Regular(10, -5, 5, underflow=False, overflow=False, name='eta'),\n",
       "  storage=Weight()) # Sum: WeightedSum(value=71032, variance=71032) (WeightedSum(value=71552, variance=71552) with flow)"
      ]
     },
     "execution_count": 25,
     "metadata": {},
     "output_type": "execute_result"
    }
   ],
   "source": [
    "non_btagged[{\"flavour\":2}]"
   ]
  },
  {
   "cell_type": "markdown",
   "id": "39f9d02d-7bec-4163-9443-234c28a0997c",
   "metadata": {
    "tags": []
   },
   "source": [
    "### Let's save the efficiency in correctionlib format"
   ]
  },
  {
   "cell_type": "code",
   "execution_count": 28,
   "id": "eef91ef0-89bc-4ad3-bcfd-b77203686d37",
   "metadata": {
    "tags": []
   },
   "outputs": [
    {
     "name": "stderr",
     "output_type": "stream",
     "text": [
      "/tmp/ipykernel_36369/875839267.py:6: RuntimeWarning: invalid value encountered in divide\n",
      "  ratio= np.where( (w_denom>0)&(w_num>0), w_num/w_denom, 1.)\n",
      "/tmp/ipykernel_36369/875839267.py:8: RuntimeWarning: divide by zero encountered in divide\n",
      "  np.sqrt((1/w_denom)**2 * num_var + (w_num/w_denom**2)**2 * denom_var),\n",
      "/tmp/ipykernel_36369/875839267.py:8: RuntimeWarning: invalid value encountered in multiply\n",
      "  np.sqrt((1/w_denom)**2 * num_var + (w_num/w_denom**2)**2 * denom_var),\n",
      "/tmp/ipykernel_36369/875839267.py:8: RuntimeWarning: invalid value encountered in divide\n",
      "  np.sqrt((1/w_denom)**2 * num_var + (w_num/w_denom**2)**2 * denom_var),\n"
     ]
    }
   ],
   "source": [
    "w_num,  x, y, z = btagged.to_numpy()\n",
    "num_var = btagged.variances()\n",
    "w_denom,  x, y, z  = non_btagged.to_numpy()\n",
    "denom_var = non_btagged.variances()\n",
    "\n",
    "ratio= np.where( (w_denom>0)&(w_num>0), w_num/w_denom, 1.) \n",
    "ratio_err =  np.where( (w_denom>0)&(w_num>0),\n",
    "                      np.sqrt((1/w_denom)**2 * num_var + (w_num/w_denom**2)**2 * denom_var),\n",
    "                      0.)\n",
    "\n",
    "#recreate the histo\n",
    "sfhist = ( Hist.new.Reg(20, 0, 400,overflow=True, underflow=False, name=\"pt\" )\n",
    "                .Reg(10, -5, 5, overflow=False, underflow=False, name=\"eta\")\n",
    "                .Int(0,3, name=\"flavour\")\n",
    "           .Double(data=ratio))\n",
    "\n"
   ]
  },
  {
   "cell_type": "code",
   "execution_count": 7,
   "id": "7a5b969f-dd36-4caa-97a9-97c517d716cc",
   "metadata": {
    "tags": []
   },
   "outputs": [
    {
     "ename": "NameError",
     "evalue": "name 'sfhist' is not defined",
     "output_type": "error",
     "traceback": [
      "\u001b[0;31m---------------------------------------------------------------------------\u001b[0m",
      "\u001b[0;31mNameError\u001b[0m                                 Traceback (most recent call last)",
      "Cell \u001b[0;32mIn[7], line 2\u001b[0m\n\u001b[1;32m      1\u001b[0m \u001b[38;5;66;03m# without a name, the resulting object will fail validation\u001b[39;00m\n\u001b[0;32m----> 2\u001b[0m \u001b[43msfhist\u001b[49m\u001b[38;5;241m.\u001b[39mname \u001b[38;5;241m=\u001b[39m \u001b[38;5;124m\"\u001b[39m\u001b[38;5;124mTRF_efficiencies\u001b[39m\u001b[38;5;124m\"\u001b[39m\n\u001b[1;32m      3\u001b[0m sfhist\u001b[38;5;241m.\u001b[39mlabel \u001b[38;5;241m=\u001b[39m \u001b[38;5;124m\"\u001b[39m\u001b[38;5;124mout\u001b[39m\u001b[38;5;124m\"\u001b[39m\n\u001b[1;32m      4\u001b[0m clibcorr \u001b[38;5;241m=\u001b[39m correctionlib\u001b[38;5;241m.\u001b[39mconvert\u001b[38;5;241m.\u001b[39mfrom_histogram(sfhist)\n",
      "\u001b[0;31mNameError\u001b[0m: name 'sfhist' is not defined"
     ]
    }
   ],
   "source": [
    "# without a name, the resulting object will fail validation\n",
    "sfhist.name = \"TRF_efficiencies\"\n",
    "sfhist.label = \"out\"\n",
    "clibcorr = correctionlib.convert.from_histogram(sfhist)\n",
    "clibcorr.description = \"Btagging efficiency by pt, eta, flavour\"\n",
    "\n",
    "# set overflow bins behavior (default is to raise an error when out of bounds)\n",
    "clibcorr.data.flow = \"clamp\"\n",
    "\n",
    "cset = correctionlib.schemav2.CorrectionSet(\n",
    "    schema_version=2,\n",
    "    description=\"trf efficiency\",\n",
    "    corrections=[clibcorr],\n",
    ")\n",
    "rich.print(cset)\n",
    "\n",
    "with open(\"test_trf.json\", \"w\") as fout:\n",
    "    fout.write(cset.json(exclude_unset=True))"
   ]
  },
  {
   "cell_type": "code",
   "execution_count": 8,
   "id": "f9c52110-4050-429b-8310-36748cc12727",
   "metadata": {
    "tags": []
   },
   "outputs": [],
   "source": [
    "cset = correctionlib.CorrectionSet.from_file(\"test_trf.json\")\n",
    "corr = cset[\"TRF_efficiencies\"]"
   ]
  },
  {
   "cell_type": "code",
   "execution_count": 9,
   "id": "282e1f9d-d63e-4913-9b55-5f0e5a2854d2",
   "metadata": {
    "tags": []
   },
   "outputs": [
    {
     "ename": "NameError",
     "evalue": "name 'bJets' is not defined",
     "output_type": "error",
     "traceback": [
      "\u001b[0;31m---------------------------------------------------------------------------\u001b[0m",
      "\u001b[0;31mNameError\u001b[0m                                 Traceback (most recent call last)",
      "Cell \u001b[0;32mIn[9], line 1\u001b[0m\n\u001b[0;32m----> 1\u001b[0m corr\u001b[38;5;241m.\u001b[39mevaluate(ak\u001b[38;5;241m.\u001b[39mflatten(\u001b[43mbJets\u001b[49m\u001b[38;5;241m.\u001b[39mpt), ak\u001b[38;5;241m.\u001b[39mflatten(bJets\u001b[38;5;241m.\u001b[39meta), ak\u001b[38;5;241m.\u001b[39mflatten(bJets_flavour ))\n",
      "\u001b[0;31mNameError\u001b[0m: name 'bJets' is not defined"
     ]
    }
   ],
   "source": [
    "corr.evaluate(ak.flatten(bJets.pt), ak.flatten(bJets.eta), ak.flatten(bJets_flavour ))"
   ]
  },
  {
   "cell_type": "markdown",
   "id": "2ac08306-5c02-4dcf-a30c-d33f3355b9ca",
   "metadata": {},
   "source": [
    "# Compute the TRF method"
   ]
  },
  {
   "cell_type": "code",
   "execution_count": 10,
   "id": "677f1e2e-9a47-4328-9667-b68fb21afdce",
   "metadata": {
    "tags": []
   },
   "outputs": [],
   "source": [
    "jet_pt = ak.flatten(events.Jet.pt)\n",
    "jet_eta = ak.flatten(events.Jet.eta)\n",
    "jet_flavour = ak.where(events.Jet.hadronFlavour!=0, events.Jet.hadronFlavour-3, 0.)\n",
    "jet_fl = ak.flatten(jet_flavour)\n",
    "\n",
    "num_jets = ak.num(events.Jet)"
   ]
  },
  {
   "cell_type": "code",
   "execution_count": 11,
   "id": "4d4e40f2-ade4-439f-8e62-33a8449f2f81",
   "metadata": {
    "tags": []
   },
   "outputs": [],
   "source": [
    "eff = corr.evaluate(jet_pt, jet_eta, jet_fl)"
   ]
  },
  {
   "cell_type": "code",
   "execution_count": 12,
   "id": "5fdd403b-9ddc-4fa9-b14e-89c71101165d",
   "metadata": {
    "tags": []
   },
   "outputs": [],
   "source": [
    "eff_j = ak.unflatten(eff, num_jets)"
   ]
  },
  {
   "cell_type": "code",
   "execution_count": 13,
   "id": "1b9925b9-0b6b-4011-9f32-08260de6d97d",
   "metadata": {
    "tags": []
   },
   "outputs": [
    {
     "data": {
      "text/plain": [
       "<Array [[1.7, 1.71, ... 0.0808, 0.0793]] type='20000 * var * float64'>"
      ]
     },
     "execution_count": 13,
     "metadata": {},
     "output_type": "execute_result"
    }
   ],
   "source": [
    "eff_j"
   ]
  },
  {
   "cell_type": "markdown",
   "id": "b2834ea5-66b7-4789-9d28-748b3f460b49",
   "metadata": {},
   "source": [
    "## Computing combinations without repetitions"
   ]
  },
  {
   "cell_type": "code",
   "execution_count": 35,
   "id": "1a8e9363-240f-4226-b0eb-8f05356c1caa",
   "metadata": {
    "tags": []
   },
   "outputs": [],
   "source": [
    "from itertools import combinations, chain\n",
    "from scipy.special import comb"
   ]
  },
  {
   "cell_type": "code",
   "execution_count": 26,
   "id": "abbe9fb2-fbdc-4e4d-9ed0-a1ce6a21bb3d",
   "metadata": {
    "tags": []
   },
   "outputs": [
    {
     "data": {
      "text/plain": [
       "455"
      ]
     },
     "execution_count": 26,
     "metadata": {},
     "output_type": "execute_result"
    }
   ],
   "source": [
    "comb(15, 3, exact=True)"
   ]
  },
  {
   "cell_type": "code",
   "execution_count": 20,
   "id": "7d09ca04-19cf-4346-82d5-6c2ff50ad1f6",
   "metadata": {
    "tags": []
   },
   "outputs": [
    {
     "data": {
      "text/plain": [
       "[(0, 1, 2),\n",
       " (0, 1, 3),\n",
       " (0, 1, 4),\n",
       " (0, 1, 5),\n",
       " (0, 2, 3),\n",
       " (0, 2, 4),\n",
       " (0, 2, 5),\n",
       " (0, 3, 4),\n",
       " (0, 3, 5),\n",
       " (0, 4, 5),\n",
       " (1, 2, 3),\n",
       " (1, 2, 4),\n",
       " (1, 2, 5),\n",
       " (1, 3, 4),\n",
       " (1, 3, 5),\n",
       " (1, 4, 5),\n",
       " (2, 3, 4),\n",
       " (2, 3, 5),\n",
       " (2, 4, 5),\n",
       " (3, 4, 5)]"
      ]
     },
     "execution_count": 20,
     "metadata": {},
     "output_type": "execute_result"
    }
   ],
   "source": [
    "list(combinations([0,1,2,3,4,5], 3))"
   ]
  },
  {
   "cell_type": "code",
   "execution_count": 44,
   "id": "84889807-90a5-4f86-8095-7717044589c0",
   "metadata": {
    "tags": []
   },
   "outputs": [
    {
     "name": "stderr",
     "output_type": "stream",
     "text": [
      "/tmp/ipykernel_24892/1135010718.py:1: NumbaDeprecationWarning: The keyword argument 'nopython=False' was supplied. From Numba 0.59.0 the default is being changed to True and use of 'nopython=False' will raise a warning as the argument will have no effect. See https://numba.readthedocs.io/en/stable/reference/deprecation.html#deprecation-of-object-mode-fall-back-behaviour-when-using-jit for details.\n",
      "  @numba.jit(nopython=False)\n"
     ]
    }
   ],
   "source": [
    "@numba.jit(nopython=False)\n",
    "def comb_index(n, k):\n",
    "    count = comb(n,k, exact=True)\n",
    "    index = np.fromiter(chain.from_iterable(combinations(range(n), k)), \n",
    "                        int, count=count*k)\n",
    "    return index.reshape(-1, k)"
   ]
  },
  {
   "cell_type": "code",
   "execution_count": 54,
   "id": "79129963-4b04-406e-b097-f650657a6118",
   "metadata": {
    "tags": []
   },
   "outputs": [
    {
     "name": "stdout",
     "output_type": "stream",
     "text": [
      "219 µs ± 27.1 µs per loop (mean ± std. dev. of 7 runs, 1,000 loops each)\n"
     ]
    }
   ],
   "source": [
    "%%timeit\n",
    "comb_index(15, 4)"
   ]
  },
  {
   "cell_type": "code",
   "execution_count": 52,
   "id": "b7c2a390-fa0b-41f5-a3d6-fce11bd19d7e",
   "metadata": {
    "tags": []
   },
   "outputs": [],
   "source": [
    "out = comb_index(10, 3)"
   ]
  },
  {
   "cell_type": "code",
   "execution_count": null,
   "id": "659dafc8-aee0-472e-bad6-92218f69986f",
   "metadata": {},
   "outputs": [],
   "source": []
  }
 ],
 "metadata": {
  "kernelspec": {
   "display_name": "Python 3 (ipykernel)",
   "language": "python",
   "name": "python3"
  },
  "language_info": {
   "codemirror_mode": {
    "name": "ipython",
    "version": 3
   },
   "file_extension": ".py",
   "mimetype": "text/x-python",
   "name": "python",
   "nbconvert_exporter": "python",
   "pygments_lexer": "ipython3",
   "version": "3.9.16"
  }
 },
 "nbformat": 4,
 "nbformat_minor": 5
}
