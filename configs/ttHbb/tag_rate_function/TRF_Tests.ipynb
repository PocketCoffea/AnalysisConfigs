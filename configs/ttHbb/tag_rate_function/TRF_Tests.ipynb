{
 "cells": [
  {
   "cell_type": "code",
   "execution_count": 1,
   "id": "5c45956b-d52c-4c7c-890d-2b5ec99f29c4",
   "metadata": {
    "tags": []
   },
   "outputs": [
    {
     "name": "stderr",
     "output_type": "stream",
     "text": [
      "/t3home/dvalsecc/micromamba/envs/pocket-coffea/lib/python3.9/site-packages/coffea/util.py:154: FutureWarning: In coffea version v2023.3.0 (target date: 31 Mar 2023), this will be an error.\n",
      "(Set coffea.deprecations_as_errors = True to get a stack trace now.)\n",
      "ImportError: coffea.hist is deprecated\n",
      "  warnings.warn(message, FutureWarning)\n"
     ]
    }
   ],
   "source": [
    "from coffea.nanoevents import NanoEventsFactory, NanoAODSchema\n",
    "import numpy as np\n",
    "import awkward as ak\n",
    "import matplotlib.pyplot as plt\n",
    "from matplotlib.colors import LogNorm\n",
    "from pprint import pprint\n",
    "import numba\n",
    "from numba import njit\n",
    "from numba.typed import List, Dict\n",
    "import correctionlib, rich\n",
    "import correctionlib.convert\n",
    "from hist import Hist"
   ]
  },
  {
   "cell_type": "code",
   "execution_count": 2,
   "id": "b39bb6aa-7c78-42b5-aefb-da8c0377d81a",
   "metadata": {
    "tags": []
   },
   "outputs": [],
   "source": [
    "filename = \"root://xrootd-cms.infn.it///store/mc/RunIISummer20UL18NanoAODv9/ttHTobb_M125_TuneCP5_13TeV-powheg-pythia8/NANOAODSIM/106X_upgrade2018_realistic_v16_L1v1-v2/250000/32D0D1A3-74EB-8146-9F3F-B392AB168FDD.root\"\n",
    "#events = NanoEventsFactory.from_root(filename, schemaclass=NanoAODSchema).events()\n",
    "events = NanoEventsFactory.from_root(filename, schemaclass=NanoAODSchema, entry_stop=20000).events()\n",
    "\n",
    "dataset = \"ttHTobb\""
   ]
  },
  {
   "cell_type": "code",
   "execution_count": 16,
   "id": "9bb8d512-517e-4241-8cc7-dcfc922cf24e",
   "metadata": {
    "tags": []
   },
   "outputs": [],
   "source": [
    "btagged = (Hist.new.Reg(20, 0, 400,overflow=True, underflow=False, name=\"pt\" )\n",
    "                .Reg(10, -5, 5, overflow=False, underflow=False, name=\"eta\")\n",
    "                .Int(0,3, name=\"flavour\")\n",
    "                .Weight())\n",
    "non_btagged = (Hist.new.Reg(20, 0, 400,overflow=True, underflow=False, name=\"pt\" )\n",
    "                .Reg(10, -5, 5, overflow=False, underflow=False, name=\"eta\")\n",
    "                .Int(0,3, name=\"flavour\")\n",
    "                .Weight())"
   ]
  },
  {
   "cell_type": "code",
   "execution_count": 17,
   "id": "41a97c72-8239-499d-a5e9-2ad60571a4bc",
   "metadata": {
    "tags": []
   },
   "outputs": [],
   "source": [
    "bJets = events.Jet[events.Jet.btagDeepFlavB > 0.277]\n",
    "bJets_L = bJets[bJets.hadronFlavour==0]\n",
    "bJets_C = bJets[bJets.hadronFlavour==4]\n",
    "bJets_B = bJets[bJets.hadronFlavour==5]\n",
    "\n",
    "bJets_flavour = ak.where(bJets.hadronFlavour!=0, bJets.hadronFlavour-3, 0.)\n",
    "\n",
    "jets_L = events.Jet[events.Jet.hadronFlavour==0]\n",
    "jets_C = events.Jet[events.Jet.hadronFlavour==4]\n",
    "jets_B = events.Jet[events.Jet.hadronFlavour==5]\n",
    "\n",
    "jets_flavour = ak.where(events.Jet.hadronFlavour!=0, events.Jet.hadronFlavour-3, 0.)\n"
   ]
  },
  {
   "cell_type": "code",
   "execution_count": 18,
   "id": "9a59e80a-d2f1-4249-86a8-91828bdd3b79",
   "metadata": {
    "tags": []
   },
   "outputs": [
    {
     "name": "stdout",
     "output_type": "stream",
     "text": [
      "[0, 0, 0, 0, 0, 1, 0, 0, 0, 0, 0, 0, 1, 0, ... 0, 0, 0, 0, 0, 0, 0, 0, 0, 0, 1, 0, 0]\n",
      "[0, 0, 0, 0, 0, 0, 0, 0, 0, 0, 0, 1, 0, 0, ... 0, 0, 0, 0, 0, 0, 0, 0, 0, 1, 0, 0, 0]\n",
      "[2, 3, 4, 3, 2, 4, 3, 2, 1, 4, 3, 3, 2, 2, ... 2, 3, 3, 2, 2, 4, 4, 5, 3, 3, 3, 3, 2]\n"
     ]
    }
   ],
   "source": [
    "print(ak.num(bJets_L))\n",
    "print(ak.num(bJets_C))\n",
    "print(ak.num(bJets_B))"
   ]
  },
  {
   "cell_type": "code",
   "execution_count": 19,
   "id": "b98853ad-6980-400d-8e02-7adc7e80802e",
   "metadata": {
    "tags": []
   },
   "outputs": [
    {
     "name": "stdout",
     "output_type": "stream",
     "text": [
      "[4, 5, 4, 4, 4, 5, 7, 4, 4, 5, 1, 8, 4, 9, ... 7, 7, 5, 2, 7, 5, 4, 7, 1, 8, 5, 8, 8]\n",
      "[1, 0, 1, 1, 1, 1, 0, 1, 2, 2, 1, 1, 1, 0, ... 0, 2, 0, 2, 1, 1, 0, 1, 2, 2, 0, 1, 1]\n",
      "[4, 3, 4, 4, 3, 4, 3, 3, 1, 4, 4, 4, 4, 3, ... 4, 4, 4, 4, 3, 4, 4, 6, 4, 3, 4, 4, 3]\n"
     ]
    }
   ],
   "source": [
    "print(ak.num(jets_L))\n",
    "print(ak.num(jets_C))\n",
    "print(ak.num(jets_B))"
   ]
  },
  {
   "cell_type": "code",
   "execution_count": 20,
   "id": "2225bf18-b790-4d5a-9c0a-8084aabb4e04",
   "metadata": {
    "tags": []
   },
   "outputs": [
    {
     "data": {
      "text/plain": [
       "Hist(\n",
       "  Regular(20, 0, 400, underflow=False, name='pt'),\n",
       "  Regular(10, -5, 5, underflow=False, overflow=False, name='eta'),\n",
       "  Integer(0, 3, name='flavour'),\n",
       "  storage=Weight()) # Sum: WeightedSum(value=60613, variance=60613) (WeightedSum(value=61129, variance=61129) with flow)"
      ]
     },
     "execution_count": 20,
     "metadata": {},
     "output_type": "execute_result"
    }
   ],
   "source": [
    "btagged.fill(ak.flatten(bJets.pt),\n",
    "             ak.flatten(bJets.eta),\n",
    "             ak.flatten(bJets_flavour))"
   ]
  },
  {
   "cell_type": "code",
   "execution_count": 21,
   "id": "1de6926a-53df-49cb-ba2c-2327d2aa5b23",
   "metadata": {
    "tags": []
   },
   "outputs": [
    {
     "data": {
      "text/plain": [
       "Hist(\n",
       "  Regular(20, 0, 400, underflow=False, name='pt'),\n",
       "  Regular(10, -5, 5, underflow=False, overflow=False, name='eta'),\n",
       "  Integer(0, 3, name='flavour'),\n",
       "  storage=Weight()) # Sum: WeightedSum(value=203753, variance=203753) (WeightedSum(value=205004, variance=205004) with flow)"
      ]
     },
     "execution_count": 21,
     "metadata": {},
     "output_type": "execute_result"
    }
   ],
   "source": [
    "non_btagged.fill(ak.flatten(events.Jet.pt),\n",
    "             ak.flatten(events.Jet.eta),\n",
    "             ak.flatten(jets_flavour))"
   ]
  },
  {
   "cell_type": "code",
   "execution_count": 22,
   "id": "37aae6da-26d2-48ab-9588-8f61f3504401",
   "metadata": {
    "tags": []
   },
   "outputs": [
    {
     "data": {
      "text/html": [
       "<html>\n",
       "<div style=\"display:flex; align-items:center;\">\n",
       "<div style=\"width:290px;\">\n",
       "<svg xmlns=\"http://www.w3.org/2000/svg\" viewBox=\"-20 -270 290 290\">\n",
       "<text text-anchor=\"middle\" x=\"0\" y=\"13\" style=\"fill:currentColor;\">\n",
       "0\n",
       "</text>\n",
       "<text text-anchor=\"middle\" x=\"250\" y=\"13\" style=\"fill:currentColor;\">\n",
       "400\n",
       "</text>\n",
       "<text text-anchor=\"middle\" x=\"-10\" y=\"0\" style=\"fill:currentColor;\">\n",
       "-5\n",
       "</text>\n",
       "<text text-anchor=\"middle\" x=\"-10\" y=\"-250\" style=\"fill:currentColor;\">\n",
       "5\n",
       "</text>\n",
       "<text text-anchor=\"middle\" x=\"125.0\" y=\"13\" style=\"fill:currentColor;\">\n",
       "pt\n",
       "</text>\n",
       "<text text-anchor=\"middle\" x=\"-10\" y=\"-125.0\" transform=\"rotate(-90,-10,-125.0)\" style=\"fill:currentColor;\">\n",
       "eta\n",
       "</text>\n",
       "<rect x=\"0.0\" y=\"-25.0\" width=\"12.5\" height=\"25.0\" opacity=\"0.0\" fill=\"currentColor\" stroke-width=\"0.1\"/>\n",
       "<rect x=\"12.5\" y=\"-25.0\" width=\"12.5\" height=\"25.0\" opacity=\"0.0\" fill=\"currentColor\" stroke-width=\"0.1\"/>\n",
       "<rect x=\"25.0\" y=\"-25.0\" width=\"12.5\" height=\"25.0\" opacity=\"0.0\" fill=\"currentColor\" stroke-width=\"0.1\"/>\n",
       "<rect x=\"37.5\" y=\"-25.0\" width=\"12.5\" height=\"25.0\" opacity=\"0.0\" fill=\"currentColor\" stroke-width=\"0.1\"/>\n",
       "<rect x=\"50.0\" y=\"-25.0\" width=\"12.5\" height=\"25.0\" opacity=\"0.0\" fill=\"currentColor\" stroke-width=\"0.1\"/>\n",
       "<rect x=\"62.5\" y=\"-25.0\" width=\"12.5\" height=\"25.0\" opacity=\"0.0\" fill=\"currentColor\" stroke-width=\"0.1\"/>\n",
       "<rect x=\"75.0\" y=\"-25.0\" width=\"12.5\" height=\"25.0\" opacity=\"0.0\" fill=\"currentColor\" stroke-width=\"0.1\"/>\n",
       "<rect x=\"87.5\" y=\"-25.0\" width=\"12.5\" height=\"25.0\" opacity=\"0.0\" fill=\"currentColor\" stroke-width=\"0.1\"/>\n",
       "<rect x=\"100.0\" y=\"-25.0\" width=\"12.5\" height=\"25.0\" opacity=\"0.0\" fill=\"currentColor\" stroke-width=\"0.1\"/>\n",
       "<rect x=\"112.5\" y=\"-25.0\" width=\"12.5\" height=\"25.0\" opacity=\"0.0\" fill=\"currentColor\" stroke-width=\"0.1\"/>\n",
       "<rect x=\"125.0\" y=\"-25.0\" width=\"12.5\" height=\"25.0\" opacity=\"0.0\" fill=\"currentColor\" stroke-width=\"0.1\"/>\n",
       "<rect x=\"137.5\" y=\"-25.0\" width=\"12.5\" height=\"25.0\" opacity=\"0.0\" fill=\"currentColor\" stroke-width=\"0.1\"/>\n",
       "<rect x=\"150.0\" y=\"-25.0\" width=\"12.5\" height=\"25.0\" opacity=\"0.0\" fill=\"currentColor\" stroke-width=\"0.1\"/>\n",
       "<rect x=\"162.5\" y=\"-25.0\" width=\"12.5\" height=\"25.0\" opacity=\"0.0\" fill=\"currentColor\" stroke-width=\"0.1\"/>\n",
       "<rect x=\"175.0\" y=\"-25.0\" width=\"12.5\" height=\"25.0\" opacity=\"0.0\" fill=\"currentColor\" stroke-width=\"0.1\"/>\n",
       "<rect x=\"187.5\" y=\"-25.0\" width=\"12.5\" height=\"25.0\" opacity=\"0.0\" fill=\"currentColor\" stroke-width=\"0.1\"/>\n",
       "<rect x=\"200.0\" y=\"-25.0\" width=\"12.5\" height=\"25.0\" opacity=\"0.0\" fill=\"currentColor\" stroke-width=\"0.1\"/>\n",
       "<rect x=\"212.5\" y=\"-25.0\" width=\"12.5\" height=\"25.0\" opacity=\"0.0\" fill=\"currentColor\" stroke-width=\"0.1\"/>\n",
       "<rect x=\"225.0\" y=\"-25.0\" width=\"12.5\" height=\"25.0\" opacity=\"0.0\" fill=\"currentColor\" stroke-width=\"0.1\"/>\n",
       "<rect x=\"237.5\" y=\"-25.0\" width=\"12.5\" height=\"25.0\" opacity=\"0.0\" fill=\"currentColor\" stroke-width=\"0.1\"/>\n",
       "<rect x=\"0.0\" y=\"-50.0\" width=\"12.5\" height=\"25.0\" opacity=\"0.0\" fill=\"currentColor\" stroke-width=\"0.1\"/>\n",
       "<rect x=\"12.5\" y=\"-50.0\" width=\"12.5\" height=\"25.0\" opacity=\"0.0\" fill=\"currentColor\" stroke-width=\"0.1\"/>\n",
       "<rect x=\"25.0\" y=\"-50.0\" width=\"12.5\" height=\"25.0\" opacity=\"0.000310077519379845\" fill=\"currentColor\" stroke-width=\"0.1\"/>\n",
       "<rect x=\"37.5\" y=\"-50.0\" width=\"12.5\" height=\"25.0\" opacity=\"0.0\" fill=\"currentColor\" stroke-width=\"0.1\"/>\n",
       "<rect x=\"50.0\" y=\"-50.0\" width=\"12.5\" height=\"25.0\" opacity=\"0.0\" fill=\"currentColor\" stroke-width=\"0.1\"/>\n",
       "<rect x=\"62.5\" y=\"-50.0\" width=\"12.5\" height=\"25.0\" opacity=\"0.0\" fill=\"currentColor\" stroke-width=\"0.1\"/>\n",
       "<rect x=\"75.0\" y=\"-50.0\" width=\"12.5\" height=\"25.0\" opacity=\"0.0\" fill=\"currentColor\" stroke-width=\"0.1\"/>\n",
       "<rect x=\"87.5\" y=\"-50.0\" width=\"12.5\" height=\"25.0\" opacity=\"0.0\" fill=\"currentColor\" stroke-width=\"0.1\"/>\n",
       "<rect x=\"100.0\" y=\"-50.0\" width=\"12.5\" height=\"25.0\" opacity=\"0.0\" fill=\"currentColor\" stroke-width=\"0.1\"/>\n",
       "<rect x=\"112.5\" y=\"-50.0\" width=\"12.5\" height=\"25.0\" opacity=\"0.0\" fill=\"currentColor\" stroke-width=\"0.1\"/>\n",
       "<rect x=\"125.0\" y=\"-50.0\" width=\"12.5\" height=\"25.0\" opacity=\"0.0\" fill=\"currentColor\" stroke-width=\"0.1\"/>\n",
       "<rect x=\"137.5\" y=\"-50.0\" width=\"12.5\" height=\"25.0\" opacity=\"0.0\" fill=\"currentColor\" stroke-width=\"0.1\"/>\n",
       "<rect x=\"150.0\" y=\"-50.0\" width=\"12.5\" height=\"25.0\" opacity=\"0.0\" fill=\"currentColor\" stroke-width=\"0.1\"/>\n",
       "<rect x=\"162.5\" y=\"-50.0\" width=\"12.5\" height=\"25.0\" opacity=\"0.0\" fill=\"currentColor\" stroke-width=\"0.1\"/>\n",
       "<rect x=\"175.0\" y=\"-50.0\" width=\"12.5\" height=\"25.0\" opacity=\"0.0\" fill=\"currentColor\" stroke-width=\"0.1\"/>\n",
       "<rect x=\"187.5\" y=\"-50.0\" width=\"12.5\" height=\"25.0\" opacity=\"0.0\" fill=\"currentColor\" stroke-width=\"0.1\"/>\n",
       "<rect x=\"200.0\" y=\"-50.0\" width=\"12.5\" height=\"25.0\" opacity=\"0.0\" fill=\"currentColor\" stroke-width=\"0.1\"/>\n",
       "<rect x=\"212.5\" y=\"-50.0\" width=\"12.5\" height=\"25.0\" opacity=\"0.0\" fill=\"currentColor\" stroke-width=\"0.1\"/>\n",
       "<rect x=\"225.0\" y=\"-50.0\" width=\"12.5\" height=\"25.0\" opacity=\"0.0\" fill=\"currentColor\" stroke-width=\"0.1\"/>\n",
       "<rect x=\"237.5\" y=\"-50.0\" width=\"12.5\" height=\"25.0\" opacity=\"0.0\" fill=\"currentColor\" stroke-width=\"0.1\"/>\n",
       "<rect x=\"0.0\" y=\"-75.0\" width=\"12.5\" height=\"25.0\" opacity=\"0.03689922480620155\" fill=\"currentColor\" stroke-width=\"0.1\"/>\n",
       "<rect x=\"12.5\" y=\"-75.0\" width=\"12.5\" height=\"25.0\" opacity=\"0.17023255813953486\" fill=\"currentColor\" stroke-width=\"0.1\"/>\n",
       "<rect x=\"25.0\" y=\"-75.0\" width=\"12.5\" height=\"25.0\" opacity=\"0.14728682170542637\" fill=\"currentColor\" stroke-width=\"0.1\"/>\n",
       "<rect x=\"37.5\" y=\"-75.0\" width=\"12.5\" height=\"25.0\" opacity=\"0.09581395348837209\" fill=\"currentColor\" stroke-width=\"0.1\"/>\n",
       "<rect x=\"50.0\" y=\"-75.0\" width=\"12.5\" height=\"25.0\" opacity=\"0.06294573643410853\" fill=\"currentColor\" stroke-width=\"0.1\"/>\n",
       "<rect x=\"62.5\" y=\"-75.0\" width=\"12.5\" height=\"25.0\" opacity=\"0.03906976744186046\" fill=\"currentColor\" stroke-width=\"0.1\"/>\n",
       "<rect x=\"75.0\" y=\"-75.0\" width=\"12.5\" height=\"25.0\" opacity=\"0.03007751937984496\" fill=\"currentColor\" stroke-width=\"0.1\"/>\n",
       "<rect x=\"87.5\" y=\"-75.0\" width=\"12.5\" height=\"25.0\" opacity=\"0.014263565891472868\" fill=\"currentColor\" stroke-width=\"0.1\"/>\n",
       "<rect x=\"100.0\" y=\"-75.0\" width=\"12.5\" height=\"25.0\" opacity=\"0.00992248062015504\" fill=\"currentColor\" stroke-width=\"0.1\"/>\n",
       "<rect x=\"112.5\" y=\"-75.0\" width=\"12.5\" height=\"25.0\" opacity=\"0.00496124031007752\" fill=\"currentColor\" stroke-width=\"0.1\"/>\n",
       "<rect x=\"125.0\" y=\"-75.0\" width=\"12.5\" height=\"25.0\" opacity=\"0.005271317829457356\" fill=\"currentColor\" stroke-width=\"0.1\"/>\n",
       "<rect x=\"137.5\" y=\"-75.0\" width=\"12.5\" height=\"25.0\" opacity=\"0.0018604651162790725\" fill=\"currentColor\" stroke-width=\"0.1\"/>\n",
       "<rect x=\"150.0\" y=\"-75.0\" width=\"12.5\" height=\"25.0\" opacity=\"0.0031007751937984496\" fill=\"currentColor\" stroke-width=\"0.1\"/>\n",
       "<rect x=\"162.5\" y=\"-75.0\" width=\"12.5\" height=\"25.0\" opacity=\"0.0009302325581395349\" fill=\"currentColor\" stroke-width=\"0.1\"/>\n",
       "<rect x=\"175.0\" y=\"-75.0\" width=\"12.5\" height=\"25.0\" opacity=\"0.000310077519379845\" fill=\"currentColor\" stroke-width=\"0.1\"/>\n",
       "<rect x=\"187.5\" y=\"-75.0\" width=\"12.5\" height=\"25.0\" opacity=\"0.000310077519379845\" fill=\"currentColor\" stroke-width=\"0.1\"/>\n",
       "<rect x=\"200.0\" y=\"-75.0\" width=\"12.5\" height=\"25.0\" opacity=\"0.00062015503875969\" fill=\"currentColor\" stroke-width=\"0.1\"/>\n",
       "<rect x=\"212.5\" y=\"-75.0\" width=\"12.5\" height=\"25.0\" opacity=\"0.000310077519379845\" fill=\"currentColor\" stroke-width=\"0.1\"/>\n",
       "<rect x=\"225.0\" y=\"-75.0\" width=\"12.5\" height=\"25.0\" opacity=\"0.00062015503875969\" fill=\"currentColor\" stroke-width=\"0.1\"/>\n",
       "<rect x=\"237.5\" y=\"-75.0\" width=\"12.5\" height=\"25.0\" opacity=\"0.0\" fill=\"currentColor\" stroke-width=\"0.1\"/>\n",
       "<rect x=\"0.0\" y=\"-100.0\" width=\"12.5\" height=\"25.0\" opacity=\"0.10542635658914729\" fill=\"currentColor\" stroke-width=\"0.1\"/>\n",
       "<rect x=\"12.5\" y=\"-100.0\" width=\"12.5\" height=\"25.0\" opacity=\"0.5475968992248063\" fill=\"currentColor\" stroke-width=\"0.1\"/>\n",
       "<rect x=\"25.0\" y=\"-100.0\" width=\"12.5\" height=\"25.0\" opacity=\"0.568062015503876\" fill=\"currentColor\" stroke-width=\"0.1\"/>\n",
       "<rect x=\"37.5\" y=\"-100.0\" width=\"12.5\" height=\"25.0\" opacity=\"0.4561240310077519\" fill=\"currentColor\" stroke-width=\"0.1\"/>\n",
       "<rect x=\"50.0\" y=\"-100.0\" width=\"12.5\" height=\"25.0\" opacity=\"0.33860465116279065\" fill=\"currentColor\" stroke-width=\"0.1\"/>\n",
       "<rect x=\"62.5\" y=\"-100.0\" width=\"12.5\" height=\"25.0\" opacity=\"0.2288372093023256\" fill=\"currentColor\" stroke-width=\"0.1\"/>\n",
       "<rect x=\"75.0\" y=\"-100.0\" width=\"12.5\" height=\"25.0\" opacity=\"0.17023255813953486\" fill=\"currentColor\" stroke-width=\"0.1\"/>\n",
       "<rect x=\"87.5\" y=\"-100.0\" width=\"12.5\" height=\"25.0\" opacity=\"0.11472868217054263\" fill=\"currentColor\" stroke-width=\"0.1\"/>\n",
       "<rect x=\"100.0\" y=\"-100.0\" width=\"12.5\" height=\"25.0\" opacity=\"0.07875968992248063\" fill=\"currentColor\" stroke-width=\"0.1\"/>\n",
       "<rect x=\"112.5\" y=\"-100.0\" width=\"12.5\" height=\"25.0\" opacity=\"0.06263565891472868\" fill=\"currentColor\" stroke-width=\"0.1\"/>\n",
       "<rect x=\"125.0\" y=\"-100.0\" width=\"12.5\" height=\"25.0\" opacity=\"0.03720930232558134\" fill=\"currentColor\" stroke-width=\"0.1\"/>\n",
       "<rect x=\"137.5\" y=\"-100.0\" width=\"12.5\" height=\"25.0\" opacity=\"0.027286821705426397\" fill=\"currentColor\" stroke-width=\"0.1\"/>\n",
       "<rect x=\"150.0\" y=\"-100.0\" width=\"12.5\" height=\"25.0\" opacity=\"0.020155038759689922\" fill=\"currentColor\" stroke-width=\"0.1\"/>\n",
       "<rect x=\"162.5\" y=\"-100.0\" width=\"12.5\" height=\"25.0\" opacity=\"0.012713178294573644\" fill=\"currentColor\" stroke-width=\"0.1\"/>\n",
       "<rect x=\"175.0\" y=\"-100.0\" width=\"12.5\" height=\"25.0\" opacity=\"0.011472868217054262\" fill=\"currentColor\" stroke-width=\"0.1\"/>\n",
       "<rect x=\"187.5\" y=\"-100.0\" width=\"12.5\" height=\"25.0\" opacity=\"0.006821705426356589\" fill=\"currentColor\" stroke-width=\"0.1\"/>\n",
       "<rect x=\"200.0\" y=\"-100.0\" width=\"12.5\" height=\"25.0\" opacity=\"0.004651162790697674\" fill=\"currentColor\" stroke-width=\"0.1\"/>\n",
       "<rect x=\"212.5\" y=\"-100.0\" width=\"12.5\" height=\"25.0\" opacity=\"0.005271317829457365\" fill=\"currentColor\" stroke-width=\"0.1\"/>\n",
       "<rect x=\"225.0\" y=\"-100.0\" width=\"12.5\" height=\"25.0\" opacity=\"0.00248062015503876\" fill=\"currentColor\" stroke-width=\"0.1\"/>\n",
       "<rect x=\"237.5\" y=\"-100.0\" width=\"12.5\" height=\"25.0\" opacity=\"0.0015503875968992248\" fill=\"currentColor\" stroke-width=\"0.1\"/>\n",
       "<rect x=\"0.0\" y=\"-125.0\" width=\"12.5\" height=\"25.0\" opacity=\"0.16806201550387595\" fill=\"currentColor\" stroke-width=\"0.1\"/>\n",
       "<rect x=\"12.5\" y=\"-125.0\" width=\"12.5\" height=\"25.0\" opacity=\"0.8582945736434109\" fill=\"currentColor\" stroke-width=\"0.1\"/>\n",
       "<rect x=\"25.0\" y=\"-125.0\" width=\"12.5\" height=\"25.0\" opacity=\"0.9807751937984497\" fill=\"currentColor\" stroke-width=\"0.1\"/>\n",
       "<rect x=\"37.5\" y=\"-125.0\" width=\"12.5\" height=\"25.0\" opacity=\"0.8582945736434109\" fill=\"currentColor\" stroke-width=\"0.1\"/>\n",
       "<rect x=\"50.0\" y=\"-125.0\" width=\"12.5\" height=\"25.0\" opacity=\"0.6384496124031007\" fill=\"currentColor\" stroke-width=\"0.1\"/>\n",
       "<rect x=\"62.5\" y=\"-125.0\" width=\"12.5\" height=\"25.0\" opacity=\"0.45209302325581396\" fill=\"currentColor\" stroke-width=\"0.1\"/>\n",
       "<rect x=\"75.0\" y=\"-125.0\" width=\"12.5\" height=\"25.0\" opacity=\"0.33984496124031005\" fill=\"currentColor\" stroke-width=\"0.1\"/>\n",
       "<rect x=\"87.5\" y=\"-125.0\" width=\"12.5\" height=\"25.0\" opacity=\"0.2524031007751938\" fill=\"currentColor\" stroke-width=\"0.1\"/>\n",
       "<rect x=\"100.0\" y=\"-125.0\" width=\"12.5\" height=\"25.0\" opacity=\"0.18728682170542635\" fill=\"currentColor\" stroke-width=\"0.1\"/>\n",
       "<rect x=\"112.5\" y=\"-125.0\" width=\"12.5\" height=\"25.0\" opacity=\"0.13333333333333333\" fill=\"currentColor\" stroke-width=\"0.1\"/>\n",
       "<rect x=\"125.0\" y=\"-125.0\" width=\"12.5\" height=\"25.0\" opacity=\"0.09860465116279056\" fill=\"currentColor\" stroke-width=\"0.1\"/>\n",
       "<rect x=\"137.5\" y=\"-125.0\" width=\"12.5\" height=\"25.0\" opacity=\"0.06914728682170553\" fill=\"currentColor\" stroke-width=\"0.1\"/>\n",
       "<rect x=\"150.0\" y=\"-125.0\" width=\"12.5\" height=\"25.0\" opacity=\"0.05333333333333333\" fill=\"currentColor\" stroke-width=\"0.1\"/>\n",
       "<rect x=\"162.5\" y=\"-125.0\" width=\"12.5\" height=\"25.0\" opacity=\"0.03317829457364341\" fill=\"currentColor\" stroke-width=\"0.1\"/>\n",
       "<rect x=\"175.0\" y=\"-125.0\" width=\"12.5\" height=\"25.0\" opacity=\"0.026666666666666665\" fill=\"currentColor\" stroke-width=\"0.1\"/>\n",
       "<rect x=\"187.5\" y=\"-125.0\" width=\"12.5\" height=\"25.0\" opacity=\"0.02201550387596899\" fill=\"currentColor\" stroke-width=\"0.1\"/>\n",
       "<rect x=\"200.0\" y=\"-125.0\" width=\"12.5\" height=\"25.0\" opacity=\"0.019224806201550388\" fill=\"currentColor\" stroke-width=\"0.1\"/>\n",
       "<rect x=\"212.5\" y=\"-125.0\" width=\"12.5\" height=\"25.0\" opacity=\"0.011472868217054262\" fill=\"currentColor\" stroke-width=\"0.1\"/>\n",
       "<rect x=\"225.0\" y=\"-125.0\" width=\"12.5\" height=\"25.0\" opacity=\"0.012713178294573644\" fill=\"currentColor\" stroke-width=\"0.1\"/>\n",
       "<rect x=\"237.5\" y=\"-125.0\" width=\"12.5\" height=\"25.0\" opacity=\"0.008372093023255815\" fill=\"currentColor\" stroke-width=\"0.1\"/>\n",
       "<rect x=\"0.0\" y=\"-150.0\" width=\"12.5\" height=\"25.0\" opacity=\"0.14015503875968993\" fill=\"currentColor\" stroke-width=\"0.1\"/>\n",
       "<rect x=\"12.5\" y=\"-150.0\" width=\"12.5\" height=\"25.0\" opacity=\"0.8877519379844961\" fill=\"currentColor\" stroke-width=\"0.1\"/>\n",
       "<rect x=\"25.0\" y=\"-150.0\" width=\"12.5\" height=\"25.0\" opacity=\"1.0\" fill=\"currentColor\" stroke-width=\"0.1\"/>\n",
       "<rect x=\"37.5\" y=\"-150.0\" width=\"12.5\" height=\"25.0\" opacity=\"0.8468217054263566\" fill=\"currentColor\" stroke-width=\"0.1\"/>\n",
       "<rect x=\"50.0\" y=\"-150.0\" width=\"12.5\" height=\"25.0\" opacity=\"0.6282170542635659\" fill=\"currentColor\" stroke-width=\"0.1\"/>\n",
       "<rect x=\"62.5\" y=\"-150.0\" width=\"12.5\" height=\"25.0\" opacity=\"0.47689922480620156\" fill=\"currentColor\" stroke-width=\"0.1\"/>\n",
       "<rect x=\"75.0\" y=\"-150.0\" width=\"12.5\" height=\"25.0\" opacity=\"0.3314728682170543\" fill=\"currentColor\" stroke-width=\"0.1\"/>\n",
       "<rect x=\"87.5\" y=\"-150.0\" width=\"12.5\" height=\"25.0\" opacity=\"0.24186046511627907\" fill=\"currentColor\" stroke-width=\"0.1\"/>\n",
       "<rect x=\"100.0\" y=\"-150.0\" width=\"12.5\" height=\"25.0\" opacity=\"0.18108527131782945\" fill=\"currentColor\" stroke-width=\"0.1\"/>\n",
       "<rect x=\"112.5\" y=\"-150.0\" width=\"12.5\" height=\"25.0\" opacity=\"0.13023255813953488\" fill=\"currentColor\" stroke-width=\"0.1\"/>\n",
       "<rect x=\"125.0\" y=\"-150.0\" width=\"12.5\" height=\"25.0\" opacity=\"0.08806201550387584\" fill=\"currentColor\" stroke-width=\"0.1\"/>\n",
       "<rect x=\"137.5\" y=\"-150.0\" width=\"12.5\" height=\"25.0\" opacity=\"0.06604651162790708\" fill=\"currentColor\" stroke-width=\"0.1\"/>\n",
       "<rect x=\"150.0\" y=\"-150.0\" width=\"12.5\" height=\"25.0\" opacity=\"0.04806201550387597\" fill=\"currentColor\" stroke-width=\"0.1\"/>\n",
       "<rect x=\"162.5\" y=\"-150.0\" width=\"12.5\" height=\"25.0\" opacity=\"0.038449612403100776\" fill=\"currentColor\" stroke-width=\"0.1\"/>\n",
       "<rect x=\"175.0\" y=\"-150.0\" width=\"12.5\" height=\"25.0\" opacity=\"0.02449612403100775\" fill=\"currentColor\" stroke-width=\"0.1\"/>\n",
       "<rect x=\"187.5\" y=\"-150.0\" width=\"12.5\" height=\"25.0\" opacity=\"0.020155038759689922\" fill=\"currentColor\" stroke-width=\"0.1\"/>\n",
       "<rect x=\"200.0\" y=\"-150.0\" width=\"12.5\" height=\"25.0\" opacity=\"0.020155038759689922\" fill=\"currentColor\" stroke-width=\"0.1\"/>\n",
       "<rect x=\"212.5\" y=\"-150.0\" width=\"12.5\" height=\"25.0\" opacity=\"0.01674418604651163\" fill=\"currentColor\" stroke-width=\"0.1\"/>\n",
       "<rect x=\"225.0\" y=\"-150.0\" width=\"12.5\" height=\"25.0\" opacity=\"0.008992248062015503\" fill=\"currentColor\" stroke-width=\"0.1\"/>\n",
       "<rect x=\"237.5\" y=\"-150.0\" width=\"12.5\" height=\"25.0\" opacity=\"0.009302325581395349\" fill=\"currentColor\" stroke-width=\"0.1\"/>\n",
       "<rect x=\"0.0\" y=\"-175.0\" width=\"12.5\" height=\"25.0\" opacity=\"0.09953488372093026\" fill=\"currentColor\" stroke-width=\"0.1\"/>\n",
       "<rect x=\"12.5\" y=\"-175.0\" width=\"12.5\" height=\"25.0\" opacity=\"0.5336434108527133\" fill=\"currentColor\" stroke-width=\"0.1\"/>\n",
       "<rect x=\"25.0\" y=\"-175.0\" width=\"12.5\" height=\"25.0\" opacity=\"0.5373643410852714\" fill=\"currentColor\" stroke-width=\"0.1\"/>\n",
       "<rect x=\"37.5\" y=\"-175.0\" width=\"12.5\" height=\"25.0\" opacity=\"0.46170542635658923\" fill=\"currentColor\" stroke-width=\"0.1\"/>\n",
       "<rect x=\"50.0\" y=\"-175.0\" width=\"12.5\" height=\"25.0\" opacity=\"0.32279069767441865\" fill=\"currentColor\" stroke-width=\"0.1\"/>\n",
       "<rect x=\"62.5\" y=\"-175.0\" width=\"12.5\" height=\"25.0\" opacity=\"0.22883720930232562\" fill=\"currentColor\" stroke-width=\"0.1\"/>\n",
       "<rect x=\"75.0\" y=\"-175.0\" width=\"12.5\" height=\"25.0\" opacity=\"0.16031007751937987\" fill=\"currentColor\" stroke-width=\"0.1\"/>\n",
       "<rect x=\"87.5\" y=\"-175.0\" width=\"12.5\" height=\"25.0\" opacity=\"0.11968992248062017\" fill=\"currentColor\" stroke-width=\"0.1\"/>\n",
       "<rect x=\"100.0\" y=\"-175.0\" width=\"12.5\" height=\"25.0\" opacity=\"0.07720930232558142\" fill=\"currentColor\" stroke-width=\"0.1\"/>\n",
       "<rect x=\"112.5\" y=\"-175.0\" width=\"12.5\" height=\"25.0\" opacity=\"0.0558139534883721\" fill=\"currentColor\" stroke-width=\"0.1\"/>\n",
       "<rect x=\"125.0\" y=\"-175.0\" width=\"12.5\" height=\"25.0\" opacity=\"0.0368992248062015\" fill=\"currentColor\" stroke-width=\"0.1\"/>\n",
       "<rect x=\"137.5\" y=\"-175.0\" width=\"12.5\" height=\"25.0\" opacity=\"0.02666666666666671\" fill=\"currentColor\" stroke-width=\"0.1\"/>\n",
       "<rect x=\"150.0\" y=\"-175.0\" width=\"12.5\" height=\"25.0\" opacity=\"0.019844961240310082\" fill=\"currentColor\" stroke-width=\"0.1\"/>\n",
       "<rect x=\"162.5\" y=\"-175.0\" width=\"12.5\" height=\"25.0\" opacity=\"0.018294573643410857\" fill=\"currentColor\" stroke-width=\"0.1\"/>\n",
       "<rect x=\"175.0\" y=\"-175.0\" width=\"12.5\" height=\"25.0\" opacity=\"0.013023255813953492\" fill=\"currentColor\" stroke-width=\"0.1\"/>\n",
       "<rect x=\"187.5\" y=\"-175.0\" width=\"12.5\" height=\"25.0\" opacity=\"0.007131782945736435\" fill=\"currentColor\" stroke-width=\"0.1\"/>\n",
       "<rect x=\"200.0\" y=\"-175.0\" width=\"12.5\" height=\"25.0\" opacity=\"0.005271317829457366\" fill=\"currentColor\" stroke-width=\"0.1\"/>\n",
       "<rect x=\"212.5\" y=\"-175.0\" width=\"12.5\" height=\"25.0\" opacity=\"0.00372093023255814\" fill=\"currentColor\" stroke-width=\"0.1\"/>\n",
       "<rect x=\"225.0\" y=\"-175.0\" width=\"12.5\" height=\"25.0\" opacity=\"0.0031007751937984504\" fill=\"currentColor\" stroke-width=\"0.1\"/>\n",
       "<rect x=\"237.5\" y=\"-175.0\" width=\"12.5\" height=\"25.0\" opacity=\"0.0031007751937984504\" fill=\"currentColor\" stroke-width=\"0.1\"/>\n",
       "<rect x=\"0.0\" y=\"-200.0\" width=\"12.5\" height=\"25.0\" opacity=\"0.03317829457364341\" fill=\"currentColor\" stroke-width=\"0.1\"/>\n",
       "<rect x=\"12.5\" y=\"-200.0\" width=\"12.5\" height=\"25.0\" opacity=\"0.17178294573643407\" fill=\"currentColor\" stroke-width=\"0.1\"/>\n",
       "<rect x=\"25.0\" y=\"-200.0\" width=\"12.5\" height=\"25.0\" opacity=\"0.14170542635658911\" fill=\"currentColor\" stroke-width=\"0.1\"/>\n",
       "<rect x=\"37.5\" y=\"-200.0\" width=\"12.5\" height=\"25.0\" opacity=\"0.09984496124031006\" fill=\"currentColor\" stroke-width=\"0.1\"/>\n",
       "<rect x=\"50.0\" y=\"-200.0\" width=\"12.5\" height=\"25.0\" opacity=\"0.06666666666666665\" fill=\"currentColor\" stroke-width=\"0.1\"/>\n",
       "<rect x=\"62.5\" y=\"-200.0\" width=\"12.5\" height=\"25.0\" opacity=\"0.03844961240310077\" fill=\"currentColor\" stroke-width=\"0.1\"/>\n",
       "<rect x=\"75.0\" y=\"-200.0\" width=\"12.5\" height=\"25.0\" opacity=\"0.025426356589147284\" fill=\"currentColor\" stroke-width=\"0.1\"/>\n",
       "<rect x=\"87.5\" y=\"-200.0\" width=\"12.5\" height=\"25.0\" opacity=\"0.015503875968992244\" fill=\"currentColor\" stroke-width=\"0.1\"/>\n",
       "<rect x=\"100.0\" y=\"-200.0\" width=\"12.5\" height=\"25.0\" opacity=\"0.010542635658914726\" fill=\"currentColor\" stroke-width=\"0.1\"/>\n",
       "<rect x=\"112.5\" y=\"-200.0\" width=\"12.5\" height=\"25.0\" opacity=\"0.008062015503875967\" fill=\"currentColor\" stroke-width=\"0.1\"/>\n",
       "<rect x=\"125.0\" y=\"-200.0\" width=\"12.5\" height=\"25.0\" opacity=\"0.005271317829457355\" fill=\"currentColor\" stroke-width=\"0.1\"/>\n",
       "<rect x=\"137.5\" y=\"-200.0\" width=\"12.5\" height=\"25.0\" opacity=\"0.003410852713178299\" fill=\"currentColor\" stroke-width=\"0.1\"/>\n",
       "<rect x=\"150.0\" y=\"-200.0\" width=\"12.5\" height=\"25.0\" opacity=\"0.003100775193798449\" fill=\"currentColor\" stroke-width=\"0.1\"/>\n",
       "<rect x=\"162.5\" y=\"-200.0\" width=\"12.5\" height=\"25.0\" opacity=\"0.0006201550387596897\" fill=\"currentColor\" stroke-width=\"0.1\"/>\n",
       "<rect x=\"175.0\" y=\"-200.0\" width=\"12.5\" height=\"25.0\" opacity=\"0.0006201550387596897\" fill=\"currentColor\" stroke-width=\"0.1\"/>\n",
       "<rect x=\"187.5\" y=\"-200.0\" width=\"12.5\" height=\"25.0\" opacity=\"0.0006201550387596897\" fill=\"currentColor\" stroke-width=\"0.1\"/>\n",
       "<rect x=\"200.0\" y=\"-200.0\" width=\"12.5\" height=\"25.0\" opacity=\"0.0\" fill=\"currentColor\" stroke-width=\"0.1\"/>\n",
       "<rect x=\"212.5\" y=\"-200.0\" width=\"12.5\" height=\"25.0\" opacity=\"0.0\" fill=\"currentColor\" stroke-width=\"0.1\"/>\n",
       "<rect x=\"225.0\" y=\"-200.0\" width=\"12.5\" height=\"25.0\" opacity=\"0.00031007751937984487\" fill=\"currentColor\" stroke-width=\"0.1\"/>\n",
       "<rect x=\"237.5\" y=\"-200.0\" width=\"12.5\" height=\"25.0\" opacity=\"0.0\" fill=\"currentColor\" stroke-width=\"0.1\"/>\n",
       "<rect x=\"0.0\" y=\"-225.0\" width=\"12.5\" height=\"25.0\" opacity=\"0.0\" fill=\"currentColor\" stroke-width=\"0.1\"/>\n",
       "<rect x=\"12.5\" y=\"-225.0\" width=\"12.5\" height=\"25.0\" opacity=\"0.0\" fill=\"currentColor\" stroke-width=\"0.1\"/>\n",
       "<rect x=\"25.0\" y=\"-225.0\" width=\"12.5\" height=\"25.0\" opacity=\"0.0\" fill=\"currentColor\" stroke-width=\"0.1\"/>\n",
       "<rect x=\"37.5\" y=\"-225.0\" width=\"12.5\" height=\"25.0\" opacity=\"0.0\" fill=\"currentColor\" stroke-width=\"0.1\"/>\n",
       "<rect x=\"50.0\" y=\"-225.0\" width=\"12.5\" height=\"25.0\" opacity=\"0.0\" fill=\"currentColor\" stroke-width=\"0.1\"/>\n",
       "<rect x=\"62.5\" y=\"-225.0\" width=\"12.5\" height=\"25.0\" opacity=\"0.0\" fill=\"currentColor\" stroke-width=\"0.1\"/>\n",
       "<rect x=\"75.0\" y=\"-225.0\" width=\"12.5\" height=\"25.0\" opacity=\"0.0\" fill=\"currentColor\" stroke-width=\"0.1\"/>\n",
       "<rect x=\"87.5\" y=\"-225.0\" width=\"12.5\" height=\"25.0\" opacity=\"0.0\" fill=\"currentColor\" stroke-width=\"0.1\"/>\n",
       "<rect x=\"100.0\" y=\"-225.0\" width=\"12.5\" height=\"25.0\" opacity=\"0.0\" fill=\"currentColor\" stroke-width=\"0.1\"/>\n",
       "<rect x=\"112.5\" y=\"-225.0\" width=\"12.5\" height=\"25.0\" opacity=\"0.0\" fill=\"currentColor\" stroke-width=\"0.1\"/>\n",
       "<rect x=\"125.0\" y=\"-225.0\" width=\"12.5\" height=\"25.0\" opacity=\"0.0\" fill=\"currentColor\" stroke-width=\"0.1\"/>\n",
       "<rect x=\"137.5\" y=\"-225.0\" width=\"12.5\" height=\"25.0\" opacity=\"0.0\" fill=\"currentColor\" stroke-width=\"0.1\"/>\n",
       "<rect x=\"150.0\" y=\"-225.0\" width=\"12.5\" height=\"25.0\" opacity=\"0.0\" fill=\"currentColor\" stroke-width=\"0.1\"/>\n",
       "<rect x=\"162.5\" y=\"-225.0\" width=\"12.5\" height=\"25.0\" opacity=\"0.0\" fill=\"currentColor\" stroke-width=\"0.1\"/>\n",
       "<rect x=\"175.0\" y=\"-225.0\" width=\"12.5\" height=\"25.0\" opacity=\"0.0\" fill=\"currentColor\" stroke-width=\"0.1\"/>\n",
       "<rect x=\"187.5\" y=\"-225.0\" width=\"12.5\" height=\"25.0\" opacity=\"0.0\" fill=\"currentColor\" stroke-width=\"0.1\"/>\n",
       "<rect x=\"200.0\" y=\"-225.0\" width=\"12.5\" height=\"25.0\" opacity=\"0.0\" fill=\"currentColor\" stroke-width=\"0.1\"/>\n",
       "<rect x=\"212.5\" y=\"-225.0\" width=\"12.5\" height=\"25.0\" opacity=\"0.0\" fill=\"currentColor\" stroke-width=\"0.1\"/>\n",
       "<rect x=\"225.0\" y=\"-225.0\" width=\"12.5\" height=\"25.0\" opacity=\"0.0\" fill=\"currentColor\" stroke-width=\"0.1\"/>\n",
       "<rect x=\"237.5\" y=\"-225.0\" width=\"12.5\" height=\"25.0\" opacity=\"0.0\" fill=\"currentColor\" stroke-width=\"0.1\"/>\n",
       "<rect x=\"0.0\" y=\"-250.0\" width=\"12.5\" height=\"25.0\" opacity=\"0.0\" fill=\"currentColor\" stroke-width=\"0.1\"/>\n",
       "<rect x=\"12.5\" y=\"-250.0\" width=\"12.5\" height=\"25.0\" opacity=\"0.0\" fill=\"currentColor\" stroke-width=\"0.1\"/>\n",
       "<rect x=\"25.0\" y=\"-250.0\" width=\"12.5\" height=\"25.0\" opacity=\"0.0\" fill=\"currentColor\" stroke-width=\"0.1\"/>\n",
       "<rect x=\"37.5\" y=\"-250.0\" width=\"12.5\" height=\"25.0\" opacity=\"0.0\" fill=\"currentColor\" stroke-width=\"0.1\"/>\n",
       "<rect x=\"50.0\" y=\"-250.0\" width=\"12.5\" height=\"25.0\" opacity=\"0.0\" fill=\"currentColor\" stroke-width=\"0.1\"/>\n",
       "<rect x=\"62.5\" y=\"-250.0\" width=\"12.5\" height=\"25.0\" opacity=\"0.0\" fill=\"currentColor\" stroke-width=\"0.1\"/>\n",
       "<rect x=\"75.0\" y=\"-250.0\" width=\"12.5\" height=\"25.0\" opacity=\"0.0\" fill=\"currentColor\" stroke-width=\"0.1\"/>\n",
       "<rect x=\"87.5\" y=\"-250.0\" width=\"12.5\" height=\"25.0\" opacity=\"0.0\" fill=\"currentColor\" stroke-width=\"0.1\"/>\n",
       "<rect x=\"100.0\" y=\"-250.0\" width=\"12.5\" height=\"25.0\" opacity=\"0.0\" fill=\"currentColor\" stroke-width=\"0.1\"/>\n",
       "<rect x=\"112.5\" y=\"-250.0\" width=\"12.5\" height=\"25.0\" opacity=\"0.0\" fill=\"currentColor\" stroke-width=\"0.1\"/>\n",
       "<rect x=\"125.0\" y=\"-250.0\" width=\"12.5\" height=\"25.0\" opacity=\"0.0\" fill=\"currentColor\" stroke-width=\"0.1\"/>\n",
       "<rect x=\"137.5\" y=\"-250.0\" width=\"12.5\" height=\"25.0\" opacity=\"0.0\" fill=\"currentColor\" stroke-width=\"0.1\"/>\n",
       "<rect x=\"150.0\" y=\"-250.0\" width=\"12.5\" height=\"25.0\" opacity=\"0.0\" fill=\"currentColor\" stroke-width=\"0.1\"/>\n",
       "<rect x=\"162.5\" y=\"-250.0\" width=\"12.5\" height=\"25.0\" opacity=\"0.0\" fill=\"currentColor\" stroke-width=\"0.1\"/>\n",
       "<rect x=\"175.0\" y=\"-250.0\" width=\"12.5\" height=\"25.0\" opacity=\"0.0\" fill=\"currentColor\" stroke-width=\"0.1\"/>\n",
       "<rect x=\"187.5\" y=\"-250.0\" width=\"12.5\" height=\"25.0\" opacity=\"0.0\" fill=\"currentColor\" stroke-width=\"0.1\"/>\n",
       "<rect x=\"200.0\" y=\"-250.0\" width=\"12.5\" height=\"25.0\" opacity=\"0.0\" fill=\"currentColor\" stroke-width=\"0.1\"/>\n",
       "<rect x=\"212.5\" y=\"-250.0\" width=\"12.5\" height=\"25.0\" opacity=\"0.0\" fill=\"currentColor\" stroke-width=\"0.1\"/>\n",
       "<rect x=\"225.0\" y=\"-250.0\" width=\"12.5\" height=\"25.0\" opacity=\"0.0\" fill=\"currentColor\" stroke-width=\"0.1\"/>\n",
       "<rect x=\"237.5\" y=\"-250.0\" width=\"12.5\" height=\"25.0\" opacity=\"0.0\" fill=\"currentColor\" stroke-width=\"0.1\"/>\n",
       "</svg>\n",
       "</div>\n",
       "<div style=\"flex=grow:1;\">\n",
       "Regular(20, 0, 400, underflow=False, name='pt')<br/>\n",
       "Regular(10, -5, 5, underflow=False, overflow=False, name='eta')<br/>\n",
       "<hr style=\"margin-top:.2em; margin-bottom:.2em;\"/>\n",
       "Weight() Σ=WeightedSum(value=55513, variance=55513) <em>(WeightedSum(value=55973, variance=55973) with flow)</em>\n",
       "\n",
       "</div>\n",
       "</div>\n",
       "</html>"
      ],
      "text/plain": [
       "Hist(\n",
       "  Regular(20, 0, 400, underflow=False, name='pt'),\n",
       "  Regular(10, -5, 5, underflow=False, overflow=False, name='eta'),\n",
       "  storage=Weight()) # Sum: WeightedSum(value=55513, variance=55513) (WeightedSum(value=55973, variance=55973) with flow)"
      ]
     },
     "execution_count": 22,
     "metadata": {},
     "output_type": "execute_result"
    }
   ],
   "source": [
    "btagged[{\"flavour\":2}]"
   ]
  },
  {
   "cell_type": "code",
   "execution_count": 23,
   "id": "d9ccf680-e81e-48e9-9f22-a7cc3f003b94",
   "metadata": {
    "tags": []
   },
   "outputs": [
    {
     "data": {
      "text/html": [
       "<html>\n",
       "<div style=\"display:flex; align-items:center;\">\n",
       "<div style=\"width:290px;\">\n",
       "<svg xmlns=\"http://www.w3.org/2000/svg\" viewBox=\"-20 -270 290 290\">\n",
       "<text text-anchor=\"middle\" x=\"0\" y=\"13\" style=\"fill:currentColor;\">\n",
       "0\n",
       "</text>\n",
       "<text text-anchor=\"middle\" x=\"250\" y=\"13\" style=\"fill:currentColor;\">\n",
       "400\n",
       "</text>\n",
       "<text text-anchor=\"middle\" x=\"-10\" y=\"0\" style=\"fill:currentColor;\">\n",
       "-5\n",
       "</text>\n",
       "<text text-anchor=\"middle\" x=\"-10\" y=\"-250\" style=\"fill:currentColor;\">\n",
       "5\n",
       "</text>\n",
       "<text text-anchor=\"middle\" x=\"125.0\" y=\"13\" style=\"fill:currentColor;\">\n",
       "pt\n",
       "</text>\n",
       "<text text-anchor=\"middle\" x=\"-10\" y=\"-125.0\" transform=\"rotate(-90,-10,-125.0)\" style=\"fill:currentColor;\">\n",
       "eta\n",
       "</text>\n",
       "<rect x=\"0.0\" y=\"-25.0\" width=\"12.5\" height=\"25.0\" opacity=\"0.003394255874673629\" fill=\"currentColor\" stroke-width=\"0.1\"/>\n",
       "<rect x=\"12.5\" y=\"-25.0\" width=\"12.5\" height=\"25.0\" opacity=\"0.0036553524804177544\" fill=\"currentColor\" stroke-width=\"0.1\"/>\n",
       "<rect x=\"25.0\" y=\"-25.0\" width=\"12.5\" height=\"25.0\" opacity=\"0.0005221932114882506\" fill=\"currentColor\" stroke-width=\"0.1\"/>\n",
       "<rect x=\"37.5\" y=\"-25.0\" width=\"12.5\" height=\"25.0\" opacity=\"0.0002610966057441253\" fill=\"currentColor\" stroke-width=\"0.1\"/>\n",
       "<rect x=\"50.0\" y=\"-25.0\" width=\"12.5\" height=\"25.0\" opacity=\"0.0\" fill=\"currentColor\" stroke-width=\"0.1\"/>\n",
       "<rect x=\"62.5\" y=\"-25.0\" width=\"12.5\" height=\"25.0\" opacity=\"0.0\" fill=\"currentColor\" stroke-width=\"0.1\"/>\n",
       "<rect x=\"75.0\" y=\"-25.0\" width=\"12.5\" height=\"25.0\" opacity=\"0.0\" fill=\"currentColor\" stroke-width=\"0.1\"/>\n",
       "<rect x=\"87.5\" y=\"-25.0\" width=\"12.5\" height=\"25.0\" opacity=\"0.0\" fill=\"currentColor\" stroke-width=\"0.1\"/>\n",
       "<rect x=\"100.0\" y=\"-25.0\" width=\"12.5\" height=\"25.0\" opacity=\"0.0\" fill=\"currentColor\" stroke-width=\"0.1\"/>\n",
       "<rect x=\"112.5\" y=\"-25.0\" width=\"12.5\" height=\"25.0\" opacity=\"0.0\" fill=\"currentColor\" stroke-width=\"0.1\"/>\n",
       "<rect x=\"125.0\" y=\"-25.0\" width=\"12.5\" height=\"25.0\" opacity=\"0.0\" fill=\"currentColor\" stroke-width=\"0.1\"/>\n",
       "<rect x=\"137.5\" y=\"-25.0\" width=\"12.5\" height=\"25.0\" opacity=\"0.0\" fill=\"currentColor\" stroke-width=\"0.1\"/>\n",
       "<rect x=\"150.0\" y=\"-25.0\" width=\"12.5\" height=\"25.0\" opacity=\"0.0\" fill=\"currentColor\" stroke-width=\"0.1\"/>\n",
       "<rect x=\"162.5\" y=\"-25.0\" width=\"12.5\" height=\"25.0\" opacity=\"0.0\" fill=\"currentColor\" stroke-width=\"0.1\"/>\n",
       "<rect x=\"175.0\" y=\"-25.0\" width=\"12.5\" height=\"25.0\" opacity=\"0.0\" fill=\"currentColor\" stroke-width=\"0.1\"/>\n",
       "<rect x=\"187.5\" y=\"-25.0\" width=\"12.5\" height=\"25.0\" opacity=\"0.0\" fill=\"currentColor\" stroke-width=\"0.1\"/>\n",
       "<rect x=\"200.0\" y=\"-25.0\" width=\"12.5\" height=\"25.0\" opacity=\"0.0\" fill=\"currentColor\" stroke-width=\"0.1\"/>\n",
       "<rect x=\"212.5\" y=\"-25.0\" width=\"12.5\" height=\"25.0\" opacity=\"0.0\" fill=\"currentColor\" stroke-width=\"0.1\"/>\n",
       "<rect x=\"225.0\" y=\"-25.0\" width=\"12.5\" height=\"25.0\" opacity=\"0.0\" fill=\"currentColor\" stroke-width=\"0.1\"/>\n",
       "<rect x=\"237.5\" y=\"-25.0\" width=\"12.5\" height=\"25.0\" opacity=\"0.0\" fill=\"currentColor\" stroke-width=\"0.1\"/>\n",
       "<rect x=\"0.0\" y=\"-50.0\" width=\"12.5\" height=\"25.0\" opacity=\"0.016971279373368144\" fill=\"currentColor\" stroke-width=\"0.1\"/>\n",
       "<rect x=\"12.5\" y=\"-50.0\" width=\"12.5\" height=\"25.0\" opacity=\"0.05456919060052219\" fill=\"currentColor\" stroke-width=\"0.1\"/>\n",
       "<rect x=\"25.0\" y=\"-50.0\" width=\"12.5\" height=\"25.0\" opacity=\"0.025065274151436032\" fill=\"currentColor\" stroke-width=\"0.1\"/>\n",
       "<rect x=\"37.5\" y=\"-50.0\" width=\"12.5\" height=\"25.0\" opacity=\"0.011488250652741516\" fill=\"currentColor\" stroke-width=\"0.1\"/>\n",
       "<rect x=\"50.0\" y=\"-50.0\" width=\"12.5\" height=\"25.0\" opacity=\"0.003394255874673629\" fill=\"currentColor\" stroke-width=\"0.1\"/>\n",
       "<rect x=\"62.5\" y=\"-50.0\" width=\"12.5\" height=\"25.0\" opacity=\"0.0023498694516971277\" fill=\"currentColor\" stroke-width=\"0.1\"/>\n",
       "<rect x=\"75.0\" y=\"-50.0\" width=\"12.5\" height=\"25.0\" opacity=\"0.0018276762402088772\" fill=\"currentColor\" stroke-width=\"0.1\"/>\n",
       "<rect x=\"87.5\" y=\"-50.0\" width=\"12.5\" height=\"25.0\" opacity=\"0.0005221932114882506\" fill=\"currentColor\" stroke-width=\"0.1\"/>\n",
       "<rect x=\"100.0\" y=\"-50.0\" width=\"12.5\" height=\"25.0\" opacity=\"0.0002610966057441253\" fill=\"currentColor\" stroke-width=\"0.1\"/>\n",
       "<rect x=\"112.5\" y=\"-50.0\" width=\"12.5\" height=\"25.0\" opacity=\"0.000783289817232376\" fill=\"currentColor\" stroke-width=\"0.1\"/>\n",
       "<rect x=\"125.0\" y=\"-50.0\" width=\"12.5\" height=\"25.0\" opacity=\"0.0\" fill=\"currentColor\" stroke-width=\"0.1\"/>\n",
       "<rect x=\"137.5\" y=\"-50.0\" width=\"12.5\" height=\"25.0\" opacity=\"0.0\" fill=\"currentColor\" stroke-width=\"0.1\"/>\n",
       "<rect x=\"150.0\" y=\"-50.0\" width=\"12.5\" height=\"25.0\" opacity=\"0.0\" fill=\"currentColor\" stroke-width=\"0.1\"/>\n",
       "<rect x=\"162.5\" y=\"-50.0\" width=\"12.5\" height=\"25.0\" opacity=\"0.0\" fill=\"currentColor\" stroke-width=\"0.1\"/>\n",
       "<rect x=\"175.0\" y=\"-50.0\" width=\"12.5\" height=\"25.0\" opacity=\"0.0\" fill=\"currentColor\" stroke-width=\"0.1\"/>\n",
       "<rect x=\"187.5\" y=\"-50.0\" width=\"12.5\" height=\"25.0\" opacity=\"0.0\" fill=\"currentColor\" stroke-width=\"0.1\"/>\n",
       "<rect x=\"200.0\" y=\"-50.0\" width=\"12.5\" height=\"25.0\" opacity=\"0.0\" fill=\"currentColor\" stroke-width=\"0.1\"/>\n",
       "<rect x=\"212.5\" y=\"-50.0\" width=\"12.5\" height=\"25.0\" opacity=\"0.0\" fill=\"currentColor\" stroke-width=\"0.1\"/>\n",
       "<rect x=\"225.0\" y=\"-50.0\" width=\"12.5\" height=\"25.0\" opacity=\"0.0\" fill=\"currentColor\" stroke-width=\"0.1\"/>\n",
       "<rect x=\"237.5\" y=\"-50.0\" width=\"12.5\" height=\"25.0\" opacity=\"0.0\" fill=\"currentColor\" stroke-width=\"0.1\"/>\n",
       "<rect x=\"0.0\" y=\"-75.0\" width=\"12.5\" height=\"25.0\" opacity=\"0.06684073107049608\" fill=\"currentColor\" stroke-width=\"0.1\"/>\n",
       "<rect x=\"12.5\" y=\"-75.0\" width=\"12.5\" height=\"25.0\" opacity=\"0.26214099216710185\" fill=\"currentColor\" stroke-width=\"0.1\"/>\n",
       "<rect x=\"25.0\" y=\"-75.0\" width=\"12.5\" height=\"25.0\" opacity=\"0.20548302872062663\" fill=\"currentColor\" stroke-width=\"0.1\"/>\n",
       "<rect x=\"37.5\" y=\"-75.0\" width=\"12.5\" height=\"25.0\" opacity=\"0.13107049608355092\" fill=\"currentColor\" stroke-width=\"0.1\"/>\n",
       "<rect x=\"50.0\" y=\"-75.0\" width=\"12.5\" height=\"25.0\" opacity=\"0.08120104438642296\" fill=\"currentColor\" stroke-width=\"0.1\"/>\n",
       "<rect x=\"62.5\" y=\"-75.0\" width=\"12.5\" height=\"25.0\" opacity=\"0.05456919060052219\" fill=\"currentColor\" stroke-width=\"0.1\"/>\n",
       "<rect x=\"75.0\" y=\"-75.0\" width=\"12.5\" height=\"25.0\" opacity=\"0.037075718015665796\" fill=\"currentColor\" stroke-width=\"0.1\"/>\n",
       "<rect x=\"87.5\" y=\"-75.0\" width=\"12.5\" height=\"25.0\" opacity=\"0.019843342036553524\" fill=\"currentColor\" stroke-width=\"0.1\"/>\n",
       "<rect x=\"100.0\" y=\"-75.0\" width=\"12.5\" height=\"25.0\" opacity=\"0.013577023498694517\" fill=\"currentColor\" stroke-width=\"0.1\"/>\n",
       "<rect x=\"112.5\" y=\"-75.0\" width=\"12.5\" height=\"25.0\" opacity=\"0.007049608355091384\" fill=\"currentColor\" stroke-width=\"0.1\"/>\n",
       "<rect x=\"125.0\" y=\"-75.0\" width=\"12.5\" height=\"25.0\" opacity=\"0.0073107049608354974\" fill=\"currentColor\" stroke-width=\"0.1\"/>\n",
       "<rect x=\"137.5\" y=\"-75.0\" width=\"12.5\" height=\"25.0\" opacity=\"0.0026109660574412568\" fill=\"currentColor\" stroke-width=\"0.1\"/>\n",
       "<rect x=\"150.0\" y=\"-75.0\" width=\"12.5\" height=\"25.0\" opacity=\"0.0036553524804177544\" fill=\"currentColor\" stroke-width=\"0.1\"/>\n",
       "<rect x=\"162.5\" y=\"-75.0\" width=\"12.5\" height=\"25.0\" opacity=\"0.000783289817232376\" fill=\"currentColor\" stroke-width=\"0.1\"/>\n",
       "<rect x=\"175.0\" y=\"-75.0\" width=\"12.5\" height=\"25.0\" opacity=\"0.0005221932114882506\" fill=\"currentColor\" stroke-width=\"0.1\"/>\n",
       "<rect x=\"187.5\" y=\"-75.0\" width=\"12.5\" height=\"25.0\" opacity=\"0.0002610966057441253\" fill=\"currentColor\" stroke-width=\"0.1\"/>\n",
       "<rect x=\"200.0\" y=\"-75.0\" width=\"12.5\" height=\"25.0\" opacity=\"0.0005221932114882506\" fill=\"currentColor\" stroke-width=\"0.1\"/>\n",
       "<rect x=\"212.5\" y=\"-75.0\" width=\"12.5\" height=\"25.0\" opacity=\"0.0005221932114882506\" fill=\"currentColor\" stroke-width=\"0.1\"/>\n",
       "<rect x=\"225.0\" y=\"-75.0\" width=\"12.5\" height=\"25.0\" opacity=\"0.0005221932114882506\" fill=\"currentColor\" stroke-width=\"0.1\"/>\n",
       "<rect x=\"237.5\" y=\"-75.0\" width=\"12.5\" height=\"25.0\" opacity=\"0.0\" fill=\"currentColor\" stroke-width=\"0.1\"/>\n",
       "<rect x=\"0.0\" y=\"-100.0\" width=\"12.5\" height=\"25.0\" opacity=\"0.13655352480417754\" fill=\"currentColor\" stroke-width=\"0.1\"/>\n",
       "<rect x=\"12.5\" y=\"-100.0\" width=\"12.5\" height=\"25.0\" opacity=\"0.6180156657963446\" fill=\"currentColor\" stroke-width=\"0.1\"/>\n",
       "<rect x=\"25.0\" y=\"-100.0\" width=\"12.5\" height=\"25.0\" opacity=\"0.6007832898172323\" fill=\"currentColor\" stroke-width=\"0.1\"/>\n",
       "<rect x=\"37.5\" y=\"-100.0\" width=\"12.5\" height=\"25.0\" opacity=\"0.47676240208877285\" fill=\"currentColor\" stroke-width=\"0.1\"/>\n",
       "<rect x=\"50.0\" y=\"-100.0\" width=\"12.5\" height=\"25.0\" opacity=\"0.3514360313315927\" fill=\"currentColor\" stroke-width=\"0.1\"/>\n",
       "<rect x=\"62.5\" y=\"-100.0\" width=\"12.5\" height=\"25.0\" opacity=\"0.23655352480417755\" fill=\"currentColor\" stroke-width=\"0.1\"/>\n",
       "<rect x=\"75.0\" y=\"-100.0\" width=\"12.5\" height=\"25.0\" opacity=\"0.1741514360313316\" fill=\"currentColor\" stroke-width=\"0.1\"/>\n",
       "<rect x=\"87.5\" y=\"-100.0\" width=\"12.5\" height=\"25.0\" opacity=\"0.11644908616187989\" fill=\"currentColor\" stroke-width=\"0.1\"/>\n",
       "<rect x=\"100.0\" y=\"-100.0\" width=\"12.5\" height=\"25.0\" opacity=\"0.08120104438642296\" fill=\"currentColor\" stroke-width=\"0.1\"/>\n",
       "<rect x=\"112.5\" y=\"-100.0\" width=\"12.5\" height=\"25.0\" opacity=\"0.06344647519582246\" fill=\"currentColor\" stroke-width=\"0.1\"/>\n",
       "<rect x=\"125.0\" y=\"-100.0\" width=\"12.5\" height=\"25.0\" opacity=\"0.03603133159268924\" fill=\"currentColor\" stroke-width=\"0.1\"/>\n",
       "<rect x=\"137.5\" y=\"-100.0\" width=\"12.5\" height=\"25.0\" opacity=\"0.027154046997389075\" fill=\"currentColor\" stroke-width=\"0.1\"/>\n",
       "<rect x=\"150.0\" y=\"-100.0\" width=\"12.5\" height=\"25.0\" opacity=\"0.020887728459530026\" fill=\"currentColor\" stroke-width=\"0.1\"/>\n",
       "<rect x=\"162.5\" y=\"-100.0\" width=\"12.5\" height=\"25.0\" opacity=\"0.013577023498694517\" fill=\"currentColor\" stroke-width=\"0.1\"/>\n",
       "<rect x=\"175.0\" y=\"-100.0\" width=\"12.5\" height=\"25.0\" opacity=\"0.012271540469973889\" fill=\"currentColor\" stroke-width=\"0.1\"/>\n",
       "<rect x=\"187.5\" y=\"-100.0\" width=\"12.5\" height=\"25.0\" opacity=\"0.006788511749347258\" fill=\"currentColor\" stroke-width=\"0.1\"/>\n",
       "<rect x=\"200.0\" y=\"-100.0\" width=\"12.5\" height=\"25.0\" opacity=\"0.004699738903394255\" fill=\"currentColor\" stroke-width=\"0.1\"/>\n",
       "<rect x=\"212.5\" y=\"-100.0\" width=\"12.5\" height=\"25.0\" opacity=\"0.005744125326370758\" fill=\"currentColor\" stroke-width=\"0.1\"/>\n",
       "<rect x=\"225.0\" y=\"-100.0\" width=\"12.5\" height=\"25.0\" opacity=\"0.0036553524804177544\" fill=\"currentColor\" stroke-width=\"0.1\"/>\n",
       "<rect x=\"237.5\" y=\"-100.0\" width=\"12.5\" height=\"25.0\" opacity=\"0.001566579634464752\" fill=\"currentColor\" stroke-width=\"0.1\"/>\n",
       "<rect x=\"0.0\" y=\"-125.0\" width=\"12.5\" height=\"25.0\" opacity=\"0.19033942558746733\" fill=\"currentColor\" stroke-width=\"0.1\"/>\n",
       "<rect x=\"12.5\" y=\"-125.0\" width=\"12.5\" height=\"25.0\" opacity=\"0.9174934725848564\" fill=\"currentColor\" stroke-width=\"0.1\"/>\n",
       "<rect x=\"25.0\" y=\"-125.0\" width=\"12.5\" height=\"25.0\" opacity=\"1.0\" fill=\"currentColor\" stroke-width=\"0.1\"/>\n",
       "<rect x=\"37.5\" y=\"-125.0\" width=\"12.5\" height=\"25.0\" opacity=\"0.8451697127937337\" fill=\"currentColor\" stroke-width=\"0.1\"/>\n",
       "<rect x=\"50.0\" y=\"-125.0\" width=\"12.5\" height=\"25.0\" opacity=\"0.6349869451697128\" fill=\"currentColor\" stroke-width=\"0.1\"/>\n",
       "<rect x=\"62.5\" y=\"-125.0\" width=\"12.5\" height=\"25.0\" opacity=\"0.44830287206266317\" fill=\"currentColor\" stroke-width=\"0.1\"/>\n",
       "<rect x=\"75.0\" y=\"-125.0\" width=\"12.5\" height=\"25.0\" opacity=\"0.33681462140992163\" fill=\"currentColor\" stroke-width=\"0.1\"/>\n",
       "<rect x=\"87.5\" y=\"-125.0\" width=\"12.5\" height=\"25.0\" opacity=\"0.24647519582245428\" fill=\"currentColor\" stroke-width=\"0.1\"/>\n",
       "<rect x=\"100.0\" y=\"-125.0\" width=\"12.5\" height=\"25.0\" opacity=\"0.18485639686684074\" fill=\"currentColor\" stroke-width=\"0.1\"/>\n",
       "<rect x=\"112.5\" y=\"-125.0\" width=\"12.5\" height=\"25.0\" opacity=\"0.12872062663185377\" fill=\"currentColor\" stroke-width=\"0.1\"/>\n",
       "<rect x=\"125.0\" y=\"-125.0\" width=\"12.5\" height=\"25.0\" opacity=\"0.09399477806788496\" fill=\"currentColor\" stroke-width=\"0.1\"/>\n",
       "<rect x=\"137.5\" y=\"-125.0\" width=\"12.5\" height=\"25.0\" opacity=\"0.06762402088772856\" fill=\"currentColor\" stroke-width=\"0.1\"/>\n",
       "<rect x=\"150.0\" y=\"-125.0\" width=\"12.5\" height=\"25.0\" opacity=\"0.051436031331592684\" fill=\"currentColor\" stroke-width=\"0.1\"/>\n",
       "<rect x=\"162.5\" y=\"-125.0\" width=\"12.5\" height=\"25.0\" opacity=\"0.03237597911227154\" fill=\"currentColor\" stroke-width=\"0.1\"/>\n",
       "<rect x=\"175.0\" y=\"-125.0\" width=\"12.5\" height=\"25.0\" opacity=\"0.02845953002610966\" fill=\"currentColor\" stroke-width=\"0.1\"/>\n",
       "<rect x=\"187.5\" y=\"-125.0\" width=\"12.5\" height=\"25.0\" opacity=\"0.020887728459530026\" fill=\"currentColor\" stroke-width=\"0.1\"/>\n",
       "<rect x=\"200.0\" y=\"-125.0\" width=\"12.5\" height=\"25.0\" opacity=\"0.01879895561357702\" fill=\"currentColor\" stroke-width=\"0.1\"/>\n",
       "<rect x=\"212.5\" y=\"-125.0\" width=\"12.5\" height=\"25.0\" opacity=\"0.01174934725848564\" fill=\"currentColor\" stroke-width=\"0.1\"/>\n",
       "<rect x=\"225.0\" y=\"-125.0\" width=\"12.5\" height=\"25.0\" opacity=\"0.012010443864229765\" fill=\"currentColor\" stroke-width=\"0.1\"/>\n",
       "<rect x=\"237.5\" y=\"-125.0\" width=\"12.5\" height=\"25.0\" opacity=\"0.008616187989556136\" fill=\"currentColor\" stroke-width=\"0.1\"/>\n",
       "<rect x=\"0.0\" y=\"-150.0\" width=\"12.5\" height=\"25.0\" opacity=\"0.17780678851174936\" fill=\"currentColor\" stroke-width=\"0.1\"/>\n",
       "<rect x=\"12.5\" y=\"-150.0\" width=\"12.5\" height=\"25.0\" opacity=\"0.9475195822454308\" fill=\"currentColor\" stroke-width=\"0.1\"/>\n",
       "<rect x=\"25.0\" y=\"-150.0\" width=\"12.5\" height=\"25.0\" opacity=\"0.9984334203655352\" fill=\"currentColor\" stroke-width=\"0.1\"/>\n",
       "<rect x=\"37.5\" y=\"-150.0\" width=\"12.5\" height=\"25.0\" opacity=\"0.8378590078328981\" fill=\"currentColor\" stroke-width=\"0.1\"/>\n",
       "<rect x=\"50.0\" y=\"-150.0\" width=\"12.5\" height=\"25.0\" opacity=\"0.6193211488250653\" fill=\"currentColor\" stroke-width=\"0.1\"/>\n",
       "<rect x=\"62.5\" y=\"-150.0\" width=\"12.5\" height=\"25.0\" opacity=\"0.4704960835509138\" fill=\"currentColor\" stroke-width=\"0.1\"/>\n",
       "<rect x=\"75.0\" y=\"-150.0\" width=\"12.5\" height=\"25.0\" opacity=\"0.3263707571801566\" fill=\"currentColor\" stroke-width=\"0.1\"/>\n",
       "<rect x=\"87.5\" y=\"-150.0\" width=\"12.5\" height=\"25.0\" opacity=\"0.2360313315926893\" fill=\"currentColor\" stroke-width=\"0.1\"/>\n",
       "<rect x=\"100.0\" y=\"-150.0\" width=\"12.5\" height=\"25.0\" opacity=\"0.17754569190600522\" fill=\"currentColor\" stroke-width=\"0.1\"/>\n",
       "<rect x=\"112.5\" y=\"-150.0\" width=\"12.5\" height=\"25.0\" opacity=\"0.12663185378590078\" fill=\"currentColor\" stroke-width=\"0.1\"/>\n",
       "<rect x=\"125.0\" y=\"-150.0\" width=\"12.5\" height=\"25.0\" opacity=\"0.08903394255874661\" fill=\"currentColor\" stroke-width=\"0.1\"/>\n",
       "<rect x=\"137.5\" y=\"-150.0\" width=\"12.5\" height=\"25.0\" opacity=\"0.06449086161879905\" fill=\"currentColor\" stroke-width=\"0.1\"/>\n",
       "<rect x=\"150.0\" y=\"-150.0\" width=\"12.5\" height=\"25.0\" opacity=\"0.04595300261096606\" fill=\"currentColor\" stroke-width=\"0.1\"/>\n",
       "<rect x=\"162.5\" y=\"-150.0\" width=\"12.5\" height=\"25.0\" opacity=\"0.038642297650130546\" fill=\"currentColor\" stroke-width=\"0.1\"/>\n",
       "<rect x=\"175.0\" y=\"-150.0\" width=\"12.5\" height=\"25.0\" opacity=\"0.02428198433420365\" fill=\"currentColor\" stroke-width=\"0.1\"/>\n",
       "<rect x=\"187.5\" y=\"-150.0\" width=\"12.5\" height=\"25.0\" opacity=\"0.021932114882506525\" fill=\"currentColor\" stroke-width=\"0.1\"/>\n",
       "<rect x=\"200.0\" y=\"-150.0\" width=\"12.5\" height=\"25.0\" opacity=\"0.018537859007832898\" fill=\"currentColor\" stroke-width=\"0.1\"/>\n",
       "<rect x=\"212.5\" y=\"-150.0\" width=\"12.5\" height=\"25.0\" opacity=\"0.015926892950391642\" fill=\"currentColor\" stroke-width=\"0.1\"/>\n",
       "<rect x=\"225.0\" y=\"-150.0\" width=\"12.5\" height=\"25.0\" opacity=\"0.00939947780678851\" fill=\"currentColor\" stroke-width=\"0.1\"/>\n",
       "<rect x=\"237.5\" y=\"-150.0\" width=\"12.5\" height=\"25.0\" opacity=\"0.009138381201044385\" fill=\"currentColor\" stroke-width=\"0.1\"/>\n",
       "<rect x=\"0.0\" y=\"-175.0\" width=\"12.5\" height=\"25.0\" opacity=\"0.1315926892950392\" fill=\"currentColor\" stroke-width=\"0.1\"/>\n",
       "<rect x=\"12.5\" y=\"-175.0\" width=\"12.5\" height=\"25.0\" opacity=\"0.620626631853786\" fill=\"currentColor\" stroke-width=\"0.1\"/>\n",
       "<rect x=\"25.0\" y=\"-175.0\" width=\"12.5\" height=\"25.0\" opacity=\"0.5890339425587469\" fill=\"currentColor\" stroke-width=\"0.1\"/>\n",
       "<rect x=\"37.5\" y=\"-175.0\" width=\"12.5\" height=\"25.0\" opacity=\"0.4765013054830288\" fill=\"currentColor\" stroke-width=\"0.1\"/>\n",
       "<rect x=\"50.0\" y=\"-175.0\" width=\"12.5\" height=\"25.0\" opacity=\"0.34229765013054836\" fill=\"currentColor\" stroke-width=\"0.1\"/>\n",
       "<rect x=\"62.5\" y=\"-175.0\" width=\"12.5\" height=\"25.0\" opacity=\"0.24255874673629244\" fill=\"currentColor\" stroke-width=\"0.1\"/>\n",
       "<rect x=\"75.0\" y=\"-175.0\" width=\"12.5\" height=\"25.0\" opacity=\"0.166579634464752\" fill=\"currentColor\" stroke-width=\"0.1\"/>\n",
       "<rect x=\"87.5\" y=\"-175.0\" width=\"12.5\" height=\"25.0\" opacity=\"0.12114882506527416\" fill=\"currentColor\" stroke-width=\"0.1\"/>\n",
       "<rect x=\"100.0\" y=\"-175.0\" width=\"12.5\" height=\"25.0\" opacity=\"0.08511749347258486\" fill=\"currentColor\" stroke-width=\"0.1\"/>\n",
       "<rect x=\"112.5\" y=\"-175.0\" width=\"12.5\" height=\"25.0\" opacity=\"0.05718015665796345\" fill=\"currentColor\" stroke-width=\"0.1\"/>\n",
       "<rect x=\"125.0\" y=\"-175.0\" width=\"12.5\" height=\"25.0\" opacity=\"0.0386422976501305\" fill=\"currentColor\" stroke-width=\"0.1\"/>\n",
       "<rect x=\"137.5\" y=\"-175.0\" width=\"12.5\" height=\"25.0\" opacity=\"0.02819843342036558\" fill=\"currentColor\" stroke-width=\"0.1\"/>\n",
       "<rect x=\"150.0\" y=\"-175.0\" width=\"12.5\" height=\"25.0\" opacity=\"0.021671018276762405\" fill=\"currentColor\" stroke-width=\"0.1\"/>\n",
       "<rect x=\"162.5\" y=\"-175.0\" width=\"12.5\" height=\"25.0\" opacity=\"0.0174934725848564\" fill=\"currentColor\" stroke-width=\"0.1\"/>\n",
       "<rect x=\"175.0\" y=\"-175.0\" width=\"12.5\" height=\"25.0\" opacity=\"0.01357702349869452\" fill=\"currentColor\" stroke-width=\"0.1\"/>\n",
       "<rect x=\"187.5\" y=\"-175.0\" width=\"12.5\" height=\"25.0\" opacity=\"0.008093994778067886\" fill=\"currentColor\" stroke-width=\"0.1\"/>\n",
       "<rect x=\"200.0\" y=\"-175.0\" width=\"12.5\" height=\"25.0\" opacity=\"0.0052219321148825075\" fill=\"currentColor\" stroke-width=\"0.1\"/>\n",
       "<rect x=\"212.5\" y=\"-175.0\" width=\"12.5\" height=\"25.0\" opacity=\"0.0031331592689295045\" fill=\"currentColor\" stroke-width=\"0.1\"/>\n",
       "<rect x=\"225.0\" y=\"-175.0\" width=\"12.5\" height=\"25.0\" opacity=\"0.002872062663185379\" fill=\"currentColor\" stroke-width=\"0.1\"/>\n",
       "<rect x=\"237.5\" y=\"-175.0\" width=\"12.5\" height=\"25.0\" opacity=\"0.00339425587467363\" fill=\"currentColor\" stroke-width=\"0.1\"/>\n",
       "<rect x=\"0.0\" y=\"-200.0\" width=\"12.5\" height=\"25.0\" opacity=\"0.06971279373368146\" fill=\"currentColor\" stroke-width=\"0.1\"/>\n",
       "<rect x=\"12.5\" y=\"-200.0\" width=\"12.5\" height=\"25.0\" opacity=\"0.26684073107049605\" fill=\"currentColor\" stroke-width=\"0.1\"/>\n",
       "<rect x=\"25.0\" y=\"-200.0\" width=\"12.5\" height=\"25.0\" opacity=\"0.19033942558746733\" fill=\"currentColor\" stroke-width=\"0.1\"/>\n",
       "<rect x=\"37.5\" y=\"-200.0\" width=\"12.5\" height=\"25.0\" opacity=\"0.131331592689295\" fill=\"currentColor\" stroke-width=\"0.1\"/>\n",
       "<rect x=\"50.0\" y=\"-200.0\" width=\"12.5\" height=\"25.0\" opacity=\"0.08772845953002609\" fill=\"currentColor\" stroke-width=\"0.1\"/>\n",
       "<rect x=\"62.5\" y=\"-200.0\" width=\"12.5\" height=\"25.0\" opacity=\"0.05013054830287205\" fill=\"currentColor\" stroke-width=\"0.1\"/>\n",
       "<rect x=\"75.0\" y=\"-200.0\" width=\"12.5\" height=\"25.0\" opacity=\"0.031853785900783284\" fill=\"currentColor\" stroke-width=\"0.1\"/>\n",
       "<rect x=\"87.5\" y=\"-200.0\" width=\"12.5\" height=\"25.0\" opacity=\"0.021671018276762398\" fill=\"currentColor\" stroke-width=\"0.1\"/>\n",
       "<rect x=\"100.0\" y=\"-200.0\" width=\"12.5\" height=\"25.0\" opacity=\"0.014621409921671016\" fill=\"currentColor\" stroke-width=\"0.1\"/>\n",
       "<rect x=\"112.5\" y=\"-200.0\" width=\"12.5\" height=\"25.0\" opacity=\"0.010704960835509137\" fill=\"currentColor\" stroke-width=\"0.1\"/>\n",
       "<rect x=\"125.0\" y=\"-200.0\" width=\"12.5\" height=\"25.0\" opacity=\"0.006266318537858998\" fill=\"currentColor\" stroke-width=\"0.1\"/>\n",
       "<rect x=\"137.5\" y=\"-200.0\" width=\"12.5\" height=\"25.0\" opacity=\"0.0036553524804177587\" fill=\"currentColor\" stroke-width=\"0.1\"/>\n",
       "<rect x=\"150.0\" y=\"-200.0\" width=\"12.5\" height=\"25.0\" opacity=\"0.002872062663185378\" fill=\"currentColor\" stroke-width=\"0.1\"/>\n",
       "<rect x=\"162.5\" y=\"-200.0\" width=\"12.5\" height=\"25.0\" opacity=\"0.0007832898172323758\" fill=\"currentColor\" stroke-width=\"0.1\"/>\n",
       "<rect x=\"175.0\" y=\"-200.0\" width=\"12.5\" height=\"25.0\" opacity=\"0.001044386422976501\" fill=\"currentColor\" stroke-width=\"0.1\"/>\n",
       "<rect x=\"187.5\" y=\"-200.0\" width=\"12.5\" height=\"25.0\" opacity=\"0.0005221932114882505\" fill=\"currentColor\" stroke-width=\"0.1\"/>\n",
       "<rect x=\"200.0\" y=\"-200.0\" width=\"12.5\" height=\"25.0\" opacity=\"0.0\" fill=\"currentColor\" stroke-width=\"0.1\"/>\n",
       "<rect x=\"212.5\" y=\"-200.0\" width=\"12.5\" height=\"25.0\" opacity=\"0.0\" fill=\"currentColor\" stroke-width=\"0.1\"/>\n",
       "<rect x=\"225.0\" y=\"-200.0\" width=\"12.5\" height=\"25.0\" opacity=\"0.0007832898172323758\" fill=\"currentColor\" stroke-width=\"0.1\"/>\n",
       "<rect x=\"237.5\" y=\"-200.0\" width=\"12.5\" height=\"25.0\" opacity=\"0.0\" fill=\"currentColor\" stroke-width=\"0.1\"/>\n",
       "<rect x=\"0.0\" y=\"-225.0\" width=\"12.5\" height=\"25.0\" opacity=\"0.02010443864229765\" fill=\"currentColor\" stroke-width=\"0.1\"/>\n",
       "<rect x=\"12.5\" y=\"-225.0\" width=\"12.5\" height=\"25.0\" opacity=\"0.04960835509138381\" fill=\"currentColor\" stroke-width=\"0.1\"/>\n",
       "<rect x=\"25.0\" y=\"-225.0\" width=\"12.5\" height=\"25.0\" opacity=\"0.021932114882506525\" fill=\"currentColor\" stroke-width=\"0.1\"/>\n",
       "<rect x=\"37.5\" y=\"-225.0\" width=\"12.5\" height=\"25.0\" opacity=\"0.012010443864229765\" fill=\"currentColor\" stroke-width=\"0.1\"/>\n",
       "<rect x=\"50.0\" y=\"-225.0\" width=\"12.5\" height=\"25.0\" opacity=\"0.004177545691906005\" fill=\"currentColor\" stroke-width=\"0.1\"/>\n",
       "<rect x=\"62.5\" y=\"-225.0\" width=\"12.5\" height=\"25.0\" opacity=\"0.0005221932114882506\" fill=\"currentColor\" stroke-width=\"0.1\"/>\n",
       "<rect x=\"75.0\" y=\"-225.0\" width=\"12.5\" height=\"25.0\" opacity=\"0.0005221932114882506\" fill=\"currentColor\" stroke-width=\"0.1\"/>\n",
       "<rect x=\"87.5\" y=\"-225.0\" width=\"12.5\" height=\"25.0\" opacity=\"0.0002610966057441253\" fill=\"currentColor\" stroke-width=\"0.1\"/>\n",
       "<rect x=\"100.0\" y=\"-225.0\" width=\"12.5\" height=\"25.0\" opacity=\"0.0\" fill=\"currentColor\" stroke-width=\"0.1\"/>\n",
       "<rect x=\"112.5\" y=\"-225.0\" width=\"12.5\" height=\"25.0\" opacity=\"0.0\" fill=\"currentColor\" stroke-width=\"0.1\"/>\n",
       "<rect x=\"125.0\" y=\"-225.0\" width=\"12.5\" height=\"25.0\" opacity=\"0.0\" fill=\"currentColor\" stroke-width=\"0.1\"/>\n",
       "<rect x=\"137.5\" y=\"-225.0\" width=\"12.5\" height=\"25.0\" opacity=\"0.0\" fill=\"currentColor\" stroke-width=\"0.1\"/>\n",
       "<rect x=\"150.0\" y=\"-225.0\" width=\"12.5\" height=\"25.0\" opacity=\"0.0\" fill=\"currentColor\" stroke-width=\"0.1\"/>\n",
       "<rect x=\"162.5\" y=\"-225.0\" width=\"12.5\" height=\"25.0\" opacity=\"0.0\" fill=\"currentColor\" stroke-width=\"0.1\"/>\n",
       "<rect x=\"175.0\" y=\"-225.0\" width=\"12.5\" height=\"25.0\" opacity=\"0.0\" fill=\"currentColor\" stroke-width=\"0.1\"/>\n",
       "<rect x=\"187.5\" y=\"-225.0\" width=\"12.5\" height=\"25.0\" opacity=\"0.0\" fill=\"currentColor\" stroke-width=\"0.1\"/>\n",
       "<rect x=\"200.0\" y=\"-225.0\" width=\"12.5\" height=\"25.0\" opacity=\"0.0\" fill=\"currentColor\" stroke-width=\"0.1\"/>\n",
       "<rect x=\"212.5\" y=\"-225.0\" width=\"12.5\" height=\"25.0\" opacity=\"0.0\" fill=\"currentColor\" stroke-width=\"0.1\"/>\n",
       "<rect x=\"225.0\" y=\"-225.0\" width=\"12.5\" height=\"25.0\" opacity=\"0.0\" fill=\"currentColor\" stroke-width=\"0.1\"/>\n",
       "<rect x=\"237.5\" y=\"-225.0\" width=\"12.5\" height=\"25.0\" opacity=\"0.0\" fill=\"currentColor\" stroke-width=\"0.1\"/>\n",
       "<rect x=\"0.0\" y=\"-250.0\" width=\"12.5\" height=\"25.0\" opacity=\"0.005483028720626631\" fill=\"currentColor\" stroke-width=\"0.1\"/>\n",
       "<rect x=\"12.5\" y=\"-250.0\" width=\"12.5\" height=\"25.0\" opacity=\"0.004177545691906005\" fill=\"currentColor\" stroke-width=\"0.1\"/>\n",
       "<rect x=\"25.0\" y=\"-250.0\" width=\"12.5\" height=\"25.0\" opacity=\"0.0002610966057441253\" fill=\"currentColor\" stroke-width=\"0.1\"/>\n",
       "<rect x=\"37.5\" y=\"-250.0\" width=\"12.5\" height=\"25.0\" opacity=\"0.0\" fill=\"currentColor\" stroke-width=\"0.1\"/>\n",
       "<rect x=\"50.0\" y=\"-250.0\" width=\"12.5\" height=\"25.0\" opacity=\"0.0\" fill=\"currentColor\" stroke-width=\"0.1\"/>\n",
       "<rect x=\"62.5\" y=\"-250.0\" width=\"12.5\" height=\"25.0\" opacity=\"0.0\" fill=\"currentColor\" stroke-width=\"0.1\"/>\n",
       "<rect x=\"75.0\" y=\"-250.0\" width=\"12.5\" height=\"25.0\" opacity=\"0.0\" fill=\"currentColor\" stroke-width=\"0.1\"/>\n",
       "<rect x=\"87.5\" y=\"-250.0\" width=\"12.5\" height=\"25.0\" opacity=\"0.0\" fill=\"currentColor\" stroke-width=\"0.1\"/>\n",
       "<rect x=\"100.0\" y=\"-250.0\" width=\"12.5\" height=\"25.0\" opacity=\"0.0\" fill=\"currentColor\" stroke-width=\"0.1\"/>\n",
       "<rect x=\"112.5\" y=\"-250.0\" width=\"12.5\" height=\"25.0\" opacity=\"0.0\" fill=\"currentColor\" stroke-width=\"0.1\"/>\n",
       "<rect x=\"125.0\" y=\"-250.0\" width=\"12.5\" height=\"25.0\" opacity=\"0.0\" fill=\"currentColor\" stroke-width=\"0.1\"/>\n",
       "<rect x=\"137.5\" y=\"-250.0\" width=\"12.5\" height=\"25.0\" opacity=\"0.0\" fill=\"currentColor\" stroke-width=\"0.1\"/>\n",
       "<rect x=\"150.0\" y=\"-250.0\" width=\"12.5\" height=\"25.0\" opacity=\"0.0\" fill=\"currentColor\" stroke-width=\"0.1\"/>\n",
       "<rect x=\"162.5\" y=\"-250.0\" width=\"12.5\" height=\"25.0\" opacity=\"0.0\" fill=\"currentColor\" stroke-width=\"0.1\"/>\n",
       "<rect x=\"175.0\" y=\"-250.0\" width=\"12.5\" height=\"25.0\" opacity=\"0.0\" fill=\"currentColor\" stroke-width=\"0.1\"/>\n",
       "<rect x=\"187.5\" y=\"-250.0\" width=\"12.5\" height=\"25.0\" opacity=\"0.0\" fill=\"currentColor\" stroke-width=\"0.1\"/>\n",
       "<rect x=\"200.0\" y=\"-250.0\" width=\"12.5\" height=\"25.0\" opacity=\"0.0\" fill=\"currentColor\" stroke-width=\"0.1\"/>\n",
       "<rect x=\"212.5\" y=\"-250.0\" width=\"12.5\" height=\"25.0\" opacity=\"0.0\" fill=\"currentColor\" stroke-width=\"0.1\"/>\n",
       "<rect x=\"225.0\" y=\"-250.0\" width=\"12.5\" height=\"25.0\" opacity=\"0.0\" fill=\"currentColor\" stroke-width=\"0.1\"/>\n",
       "<rect x=\"237.5\" y=\"-250.0\" width=\"12.5\" height=\"25.0\" opacity=\"0.0\" fill=\"currentColor\" stroke-width=\"0.1\"/>\n",
       "</svg>\n",
       "</div>\n",
       "<div style=\"flex=grow:1;\">\n",
       "Regular(20, 0, 400, underflow=False, name='pt')<br/>\n",
       "Regular(10, -5, 5, underflow=False, overflow=False, name='eta')<br/>\n",
       "<hr style=\"margin-top:.2em; margin-bottom:.2em;\"/>\n",
       "Weight() Σ=WeightedSum(value=70961, variance=70961) <em>(WeightedSum(value=71520, variance=71520) with flow)</em>\n",
       "\n",
       "</div>\n",
       "</div>\n",
       "</html>"
      ],
      "text/plain": [
       "Hist(\n",
       "  Regular(20, 0, 400, underflow=False, name='pt'),\n",
       "  Regular(10, -5, 5, underflow=False, overflow=False, name='eta'),\n",
       "  storage=Weight()) # Sum: WeightedSum(value=70961, variance=70961) (WeightedSum(value=71520, variance=71520) with flow)"
      ]
     },
     "execution_count": 23,
     "metadata": {},
     "output_type": "execute_result"
    }
   ],
   "source": [
    "non_btagged[{\"flavour\":2}]"
   ]
  },
  {
   "cell_type": "markdown",
   "id": "39f9d02d-7bec-4163-9443-234c28a0997c",
   "metadata": {
    "tags": []
   },
   "source": [
    "### Let's save the efficiency in correctionlib format"
   ]
  },
  {
   "cell_type": "code",
   "execution_count": 24,
   "id": "eef91ef0-89bc-4ad3-bcfd-b77203686d37",
   "metadata": {
    "tags": []
   },
   "outputs": [
    {
     "name": "stderr",
     "output_type": "stream",
     "text": [
      "/tmp/ipykernel_70613/875839267.py:6: RuntimeWarning: invalid value encountered in divide\n",
      "  ratio= np.where( (w_denom>0)&(w_num>0), w_num/w_denom, 1.)\n",
      "/tmp/ipykernel_70613/875839267.py:8: RuntimeWarning: divide by zero encountered in divide\n",
      "  np.sqrt((1/w_denom)**2 * num_var + (w_num/w_denom**2)**2 * denom_var),\n",
      "/tmp/ipykernel_70613/875839267.py:8: RuntimeWarning: invalid value encountered in multiply\n",
      "  np.sqrt((1/w_denom)**2 * num_var + (w_num/w_denom**2)**2 * denom_var),\n",
      "/tmp/ipykernel_70613/875839267.py:8: RuntimeWarning: invalid value encountered in divide\n",
      "  np.sqrt((1/w_denom)**2 * num_var + (w_num/w_denom**2)**2 * denom_var),\n"
     ]
    }
   ],
   "source": [
    "w_num,  x, y, z = btagged.to_numpy()\n",
    "num_var = btagged.variances()\n",
    "w_denom,  x, y, z  = non_btagged.to_numpy()\n",
    "denom_var = non_btagged.variances()\n",
    "\n",
    "ratio= np.where( (w_denom>0)&(w_num>0), w_num/w_denom, 1.) \n",
    "ratio_err =  np.where( (w_denom>0)&(w_num>0),\n",
    "                      np.sqrt((1/w_denom)**2 * num_var + (w_num/w_denom**2)**2 * denom_var),\n",
    "                      0.)\n",
    "\n",
    "#recreate the histo\n",
    "sfhist = ( Hist.new.Reg(20, 0, 400,overflow=True, underflow=False, name=\"pt\" )\n",
    "                .Reg(10, -5, 5, overflow=False, underflow=False, name=\"eta\")\n",
    "                .Int(0,3, name=\"flavour\")\n",
    "           .Double(data=ratio))\n",
    "\n"
   ]
  },
  {
   "cell_type": "code",
   "execution_count": 34,
   "id": "6eb8a8ca-20ee-4665-8592-21351a432b90",
   "metadata": {
    "tags": []
   },
   "outputs": [
    {
     "data": {
      "text/plain": [
       "array([[1.        , 1.        , 0.46484375, 0.6500956 , 0.74348422,\n",
       "        0.66372981, 0.63690476, 0.40074906, 1.        , 1.        ],\n",
       "       [1.        , 1.        , 0.54681275, 0.7460921 , 0.78770632,\n",
       "        0.78892257, 0.72402188, 0.54207436, 1.        , 1.        ],\n",
       "       [1.        , 0.01041667, 0.60355781, 0.79617558, 0.82584856,\n",
       "        0.84335774, 0.76817376, 0.62688615, 1.        , 1.        ],\n",
       "       [1.        , 1.        , 0.61553785, 0.80558598, 0.85511276,\n",
       "        0.85104394, 0.81589041, 0.64015905, 1.        , 1.        ],\n",
       "       [1.        , 1.        , 0.65273312, 0.81129272, 0.84662829,\n",
       "        0.85413153, 0.79405034, 0.63988095, 1.        , 1.        ],\n",
       "       [1.        , 1.        , 0.60287081, 0.81456954, 0.8491555 ,\n",
       "        0.85349612, 0.79440258, 0.64583333, 1.        , 1.        ],\n",
       "       [1.        , 1.        , 0.68309859, 0.82308846, 0.8496124 ,\n",
       "        0.8552    , 0.81034483, 0.67213115, 1.        , 1.        ],\n",
       "       [1.        , 1.        , 0.60526316, 0.82959641, 0.86228814,\n",
       "        0.86283186, 0.83189655, 0.60240964, 1.        , 1.        ],\n",
       "       [1.        , 1.        , 0.61538462, 0.81672026, 0.85310734,\n",
       "        0.85882353, 0.76380368, 0.60714286, 1.        , 1.        ],\n",
       "       [1.        , 1.        , 0.59259259, 0.83127572, 0.87221095,\n",
       "        0.86597938, 0.82191781, 0.63414634, 1.        , 1.        ],\n",
       "       [1.        , 1.        , 0.60714286, 0.86956522, 0.88333333,\n",
       "        0.83284457, 0.80405405, 0.70833333, 1.        , 1.        ],\n",
       "       [1.        , 1.        , 0.6       , 0.84615385, 0.86100386,\n",
       "        0.86234818, 0.7962963 , 0.78571429, 1.        , 1.        ],\n",
       "       [1.        , 1.        , 0.71428571, 0.8125    , 0.87309645,\n",
       "        0.88068182, 0.77108434, 0.90909091, 1.        , 1.        ],\n",
       "       [1.        , 1.        , 1.        , 0.78846154, 0.86290323,\n",
       "        0.83783784, 0.88059701, 0.66666667, 1.        , 1.        ],\n",
       "       [1.        , 1.        , 0.5       , 0.78723404, 0.78899083,\n",
       "        0.84946237, 0.80769231, 0.5       , 1.        , 1.        ],\n",
       "       [1.        , 1.        , 1.        , 0.84615385, 0.8875    ,\n",
       "        0.77380952, 0.74193548, 1.        , 1.        , 1.        ],\n",
       "       [1.        , 1.        , 1.        , 0.83333333, 0.86111111,\n",
       "        0.91549296, 0.85      , 1.        , 1.        , 1.        ],\n",
       "       [1.        , 1.        , 0.5       , 0.77272727, 0.82222222,\n",
       "        0.8852459 , 1.        , 1.        , 1.        , 1.        ],\n",
       "       [1.        , 1.        , 1.        , 0.57142857, 0.89130435,\n",
       "        0.80555556, 0.90909091, 0.33333333, 1.        , 1.        ],\n",
       "       [1.        , 1.        , 1.        , 0.83333333, 0.81818182,\n",
       "        0.85714286, 0.76923077, 1.        , 1.        , 1.        ]])"
      ]
     },
     "execution_count": 34,
     "metadata": {},
     "output_type": "execute_result"
    }
   ],
   "source": [
    "sfhist[:,:,2].values()"
   ]
  },
  {
   "cell_type": "code",
   "execution_count": 31,
   "id": "af0a3c3b-9aef-49ec-80a8-e1ce65ebbcf0",
   "metadata": {
    "tags": []
   },
   "outputs": [
    {
     "data": {
      "text/html": [
       "<html>\n",
       "<div style=\"display:flex; align-items:center;\">\n",
       "<div style=\"width:290px;\">\n",
       "<svg xmlns=\"http://www.w3.org/2000/svg\" viewBox=\"-10 -105 270 120\">\n",
       "<line x1=\"-5\" y1=\"0\" x2=\"255\" y2=\"0\" style=\"fill:none;stroke-width:2;stroke:currentColor\"/>\n",
       "<text text-anchor=\"middle\" x=\"0\" y=\"15\" style=\"fill:currentColor;\">\n",
       "0\n",
       "</text>\n",
       "<text text-anchor=\"middle\" x=\"250\" y=\"15\" style=\"fill:currentColor;\">\n",
       "400\n",
       "</text>\n",
       "<text text-anchor=\"middle\" x=\"125.0\" y=\"15\" style=\"fill:currentColor;\">\n",
       "pt\n",
       "</text>\n",
       "<polyline points=\"  0,0   0,-72.5 12.5,-72.5 12.5,-86.2  25,-86.2  25,-92.1 37.5,-92.1 37.5,-93  50,-93  50,-93.3 62.5,-93.3 62.5,-93.2  75,-93.2  75,-93.4 87.5,-93.4 87.5,-94.2 100,-94.2 100,-93.8 112.5,-93.8 112.5,-94.6 125,-94.6 125,-91 137.5,-91 137.5,-94.2 150,-94.2 150,-96.2 162.5,-96.2 162.5,-91.5 175,-91.5 175,-92.8 187.5,-92.8 187.5,-84.5 200,-84.5 200,-100 212.5,-100 212.5,-96.7 225,-96.7 225,-88 237.5,-88 237.5,-93.6 250,-93.6 250,0\" style=\"fill:none; stroke:currentColor;\"/>\n",
       "</svg>\n",
       "</div>\n",
       "<div style=\"flex=grow:1;\">\n",
       "Regular(20, 0, 400, underflow=False, name='pt')<br/>\n",
       "<hr style=\"margin-top:.2em; margin-bottom:.2em;\"/>\n",
       "Double() Σ=16.797938046494373\n",
       "\n",
       "</div>\n",
       "</div>\n",
       "</html>"
      ],
      "text/plain": [
       "Hist(Regular(20, 0, 400, underflow=False, name='pt'), storage=Double()) # Sum: 16.797938046494373"
      ]
     },
     "execution_count": 31,
     "metadata": {},
     "output_type": "execute_result"
    }
   ],
   "source": [
    "sfhist[:,0j,2]"
   ]
  },
  {
   "cell_type": "code",
   "execution_count": 35,
   "id": "7a5b969f-dd36-4caa-97a9-97c517d716cc",
   "metadata": {
    "tags": []
   },
   "outputs": [
    {
     "data": {
      "text/html": [
       "<pre style=\"white-space:pre;overflow-x:auto;line-height:normal;font-family:Menlo,'DejaVu Sans Mono',consolas,'Courier New',monospace\"><span style=\"font-weight: bold\">CorrectionSet</span> (<span style=\"font-style: italic\">schema v2</span>)\n",
       "trf efficiency\n",
       "📂\n",
       "└── 📈 <span style=\"font-weight: bold\">TRF_efficiencies</span> (v0)\n",
       "    Btagging efficiency by pt, eta, flavour\n",
       "    Node counts: <span style=\"font-weight: bold\">MultiBinning</span>: 1, <span style=\"font-weight: bold\">Category</span>: 200\n",
       "    ╭──────────── ▶ input ─────────────╮ ╭──────────── ▶ input ────────────╮ ╭──── ▶ input ────╮\n",
       "    │ <span style=\"font-weight: bold\">pt</span> (real)                        │ │ <span style=\"font-weight: bold\">eta</span> (real)                      │ │ <span style=\"font-weight: bold\">flavour</span> (int)   │\n",
       "    │ pt                               │ │ eta                             │ │ flavour         │\n",
       "    │ Range: [0.0, 400.0), overflow ok │ │ Range: [-5.0, 5.0), overflow ok │ │ Values: 0, 1, 2 │\n",
       "    ╰──────────────────────────────────╯ ╰─────────────────────────────────╯ ╰─────────────────╯\n",
       "    ╭─── ◀ output ───╮\n",
       "    │ <span style=\"font-weight: bold\">out</span> (real)     │\n",
       "    │ <span style=\"font-style: italic\">No description</span> │\n",
       "    ╰────────────────╯\n",
       "</pre>\n"
      ],
      "text/plain": [
       "\u001b[1mCorrectionSet\u001b[0m (\u001b[3mschema v2\u001b[0m)\n",
       "trf efficiency\n",
       "📂\n",
       "└── 📈 \u001b[1mTRF_efficiencies\u001b[0m (v0)\n",
       "    Btagging efficiency by pt, eta, flavour\n",
       "    Node counts: \u001b[1mMultiBinning\u001b[0m: 1, \u001b[1mCategory\u001b[0m: 200\n",
       "    ╭──────────── ▶ input ─────────────╮ ╭──────────── ▶ input ────────────╮ ╭──── ▶ input ────╮\n",
       "    │ \u001b[1mpt\u001b[0m (real)                        │ │ \u001b[1meta\u001b[0m (real)                      │ │ \u001b[1mflavour\u001b[0m (int)   │\n",
       "    │ pt                               │ │ eta                             │ │ flavour         │\n",
       "    │ Range: [0.0, 400.0), overflow ok │ │ Range: [-5.0, 5.0), overflow ok │ │ Values: 0, 1, 2 │\n",
       "    ╰──────────────────────────────────╯ ╰─────────────────────────────────╯ ╰─────────────────╯\n",
       "    ╭─── ◀ output ───╮\n",
       "    │ \u001b[1mout\u001b[0m (real)     │\n",
       "    │ \u001b[3mNo description\u001b[0m │\n",
       "    ╰────────────────╯\n"
      ]
     },
     "metadata": {},
     "output_type": "display_data"
    }
   ],
   "source": [
    "# without a name, the resulting object will fail validation\n",
    "sfhist.name = \"TRF_efficiencies\"\n",
    "sfhist.label = \"out\"\n",
    "clibcorr = correctionlib.convert.from_histogram(sfhist)\n",
    "clibcorr.description = \"Btagging efficiency by pt, eta, flavour\"\n",
    "\n",
    "# set overflow bins behavior (default is to raise an error when out of bounds)\n",
    "clibcorr.data.flow = \"clamp\"\n",
    "\n",
    "cset = correctionlib.schemav2.CorrectionSet(\n",
    "    schema_version=2,\n",
    "    description=\"trf efficiency\",\n",
    "    corrections=[clibcorr],\n",
    ")\n",
    "rich.print(cset)\n",
    "\n",
    "with open(\"test_trf.json\", \"w\") as fout:\n",
    "    fout.write(cset.json(exclude_unset=True))"
   ]
  },
  {
   "cell_type": "code",
   "execution_count": 36,
   "id": "f9c52110-4050-429b-8310-36748cc12727",
   "metadata": {
    "tags": []
   },
   "outputs": [],
   "source": [
    "cset = correctionlib.CorrectionSet.from_file(\"test_trf.json\")\n",
    "corr = cset[\"TRF_efficiencies\"]"
   ]
  },
  {
   "cell_type": "code",
   "execution_count": 37,
   "id": "282e1f9d-d63e-4913-9b55-5f0e5a2854d2",
   "metadata": {
    "tags": []
   },
   "outputs": [
    {
     "data": {
      "text/plain": [
       "array([0.62688615, 0.76817376, 0.8491555 , ..., 0.78770632, 0.80558598,\n",
       "       0.60355781])"
      ]
     },
     "execution_count": 37,
     "metadata": {},
     "output_type": "execute_result"
    }
   ],
   "source": [
    "corr.evaluate(ak.flatten(bJets.pt), ak.flatten(bJets.eta), ak.flatten(bJets_flavour ))"
   ]
  },
  {
   "cell_type": "markdown",
   "id": "2ac08306-5c02-4dcf-a30c-d33f3355b9ca",
   "metadata": {},
   "source": [
    "# Compute the TRF method"
   ]
  },
  {
   "cell_type": "code",
   "execution_count": 82,
   "id": "677f1e2e-9a47-4328-9667-b68fb21afdce",
   "metadata": {
    "tags": []
   },
   "outputs": [],
   "source": [
    "mask = ak.num(events.Jet)>=4\n",
    "jet_pt = ak.flatten(events[mask].Jet.pt)\n",
    "jet_eta = ak.flatten(events[mask].Jet.eta)\n",
    "jet_flavour = ak.where(events[mask].Jet.hadronFlavour!=0, events[mask].Jet.hadronFlavour-3, 0.)\n",
    "jet_fl = ak.flatten(jet_flavour)\n",
    "\n",
    "num_jets = ak.num(events[mask].Jet)\n",
    "\n",
    "bJets = events[mask].Jet[events[mask].Jet.btagDeepFlavB > 0.277]\n",
    "nBjets = ak.num(bJets)\n",
    "\n",
    "nGenBJets = ak.sum(jet_flavour==2, axis=1)"
   ]
  },
  {
   "cell_type": "code",
   "execution_count": 39,
   "id": "4d4e40f2-ade4-439f-8e62-33a8449f2f81",
   "metadata": {
    "tags": []
   },
   "outputs": [],
   "source": [
    "cset = correctionlib.CorrectionSet.from_file(\"test_trf.json\")\n",
    "corr = cset[\"TRF_efficiencies\"]\n",
    "eff = corr.evaluate(jet_pt, jet_eta, jet_fl)"
   ]
  },
  {
   "cell_type": "code",
   "execution_count": 40,
   "id": "5fdd403b-9ddc-4fa9-b14e-89c71101165d",
   "metadata": {
    "tags": []
   },
   "outputs": [],
   "source": [
    "eff_j = ak.unflatten(eff, num_jets)"
   ]
  },
  {
   "cell_type": "code",
   "execution_count": 41,
   "id": "1b9925b9-0b6b-4011-9f32-08260de6d97d",
   "metadata": {
    "tags": []
   },
   "outputs": [
    {
     "data": {
      "text/plain": [
       "<Array [[0.0571, 0.646, ... 0.0425, 0.0425]] type='19996 * var * float64'>"
      ]
     },
     "execution_count": 41,
     "metadata": {},
     "output_type": "execute_result"
    }
   ],
   "source": [
    "eff_j"
   ]
  },
  {
   "cell_type": "markdown",
   "id": "b2834ea5-66b7-4789-9d28-748b3f460b49",
   "metadata": {},
   "source": [
    "## Computing combinations without repetitions"
   ]
  },
  {
   "cell_type": "code",
   "execution_count": 11,
   "id": "1a8e9363-240f-4226-b0eb-8f05356c1caa",
   "metadata": {
    "tags": []
   },
   "outputs": [],
   "source": [
    "from itertools import combinations, chain\n",
    "from scipy.special import comb"
   ]
  },
  {
   "cell_type": "code",
   "execution_count": 12,
   "id": "abbe9fb2-fbdc-4e4d-9ed0-a1ce6a21bb3d",
   "metadata": {
    "tags": []
   },
   "outputs": [
    {
     "data": {
      "text/plain": [
       "455"
      ]
     },
     "execution_count": 12,
     "metadata": {},
     "output_type": "execute_result"
    }
   ],
   "source": [
    "comb(15, 3, exact=True)"
   ]
  },
  {
   "cell_type": "code",
   "execution_count": 13,
   "id": "7d09ca04-19cf-4346-82d5-6c2ff50ad1f6",
   "metadata": {
    "tags": []
   },
   "outputs": [
    {
     "data": {
      "text/plain": [
       "[(0, 1, 2),\n",
       " (0, 1, 3),\n",
       " (0, 1, 4),\n",
       " (0, 1, 5),\n",
       " (0, 2, 3),\n",
       " (0, 2, 4),\n",
       " (0, 2, 5),\n",
       " (0, 3, 4),\n",
       " (0, 3, 5),\n",
       " (0, 4, 5),\n",
       " (1, 2, 3),\n",
       " (1, 2, 4),\n",
       " (1, 2, 5),\n",
       " (1, 3, 4),\n",
       " (1, 3, 5),\n",
       " (1, 4, 5),\n",
       " (2, 3, 4),\n",
       " (2, 3, 5),\n",
       " (2, 4, 5),\n",
       " (3, 4, 5)]"
      ]
     },
     "execution_count": 13,
     "metadata": {},
     "output_type": "execute_result"
    }
   ],
   "source": [
    "list(combinations([0,1,2,3,4,5], 3))"
   ]
  },
  {
   "cell_type": "code",
   "execution_count": 14,
   "id": "84889807-90a5-4f86-8095-7717044589c0",
   "metadata": {
    "tags": []
   },
   "outputs": [],
   "source": [
    "#@numba.jit(nopython=False)\n",
    "def comb_index(n, k):\n",
    "    count = comb(n,k, exact=True)\n",
    "    index = np.fromiter(chain.from_iterable(combinations(range(n), k)), \n",
    "                        int, count=count*k)\n",
    "    return index.reshape(-1, k)"
   ]
  },
  {
   "cell_type": "code",
   "execution_count": 15,
   "id": "79129963-4b04-406e-b097-f650657a6118",
   "metadata": {
    "tags": []
   },
   "outputs": [
    {
     "name": "stdout",
     "output_type": "stream",
     "text": [
      "199 µs ± 35.7 µs per loop (mean ± std. dev. of 7 runs, 1,000 loops each)\n"
     ]
    }
   ],
   "source": [
    "%%timeit\n",
    "comb_index(15, 4)"
   ]
  },
  {
   "cell_type": "code",
   "execution_count": 16,
   "id": "b7c2a390-fa0b-41f5-a3d6-fce11bd19d7e",
   "metadata": {
    "tags": []
   },
   "outputs": [],
   "source": [
    "out = comb_index(10, 3)"
   ]
  },
  {
   "cell_type": "markdown",
   "id": "b88043fd-f94e-4e82-a225-5f5b35a11c9f",
   "metadata": {
    "tags": []
   },
   "source": [
    "### Combinations directly in numba"
   ]
  },
  {
   "cell_type": "code",
   "execution_count": 43,
   "id": "6582cded-9115-4d0c-a214-2f617d0420f9",
   "metadata": {
    "tags": []
   },
   "outputs": [],
   "source": [
    "@njit\n",
    "def combinations_numba(n, r):\n",
    "    pool = list(range(n))\n",
    "    indices = list(range(r))\n",
    "    empty = not(n and (0 < r <= n))\n",
    "\n",
    "    if not empty:\n",
    "        result = [pool[i] for i in indices]\n",
    "        yield result\n",
    "\n",
    "    while not empty:\n",
    "        i = r - 1\n",
    "        while i >= 0 and indices[i] == i + n - r:\n",
    "            i -= 1\n",
    "        if i < 0:\n",
    "            empty = True\n",
    "        else:\n",
    "            indices[i] += 1\n",
    "            for j in range(i+1, r):\n",
    "                indices[j] = indices[j-1] + 1\n",
    "\n",
    "            result = [pool[i] for i in indices]\n",
    "            yield result"
   ]
  },
  {
   "cell_type": "code",
   "execution_count": 81,
   "id": "8363f01b-2998-4f20-b4ec-2495cca9e6f1",
   "metadata": {
    "tags": []
   },
   "outputs": [
    {
     "name": "stdout",
     "output_type": "stream",
     "text": [
      "5.22 ms ± 31.3 µs per loop (mean ± std. dev. of 7 runs, 1 loop each)\n"
     ]
    }
   ],
   "source": [
    "%%timeit\n",
    "list(combinations_numba(25, 4))"
   ]
  },
  {
   "cell_type": "code",
   "execution_count": 44,
   "id": "659dafc8-aee0-472e-bad6-92218f69986f",
   "metadata": {
    "tags": []
   },
   "outputs": [],
   "source": [
    "@numba.jit(nopython=True)\n",
    "def get_prob_M(M, effs):\n",
    "    out = np.ones(len(effs))\n",
    "    iev = 0\n",
    "    \n",
    "    for eff in effs:\n",
    "        #print(eff)\n",
    "        njets = len(eff)\n",
    "        \n",
    "        all_combinations_eff = 0.\n",
    "        \n",
    "        for i_comb, comb in enumerate(combinations_numba(njets, M)):\n",
    "            value = 1.\n",
    "            for j, ef in zip(range(njets), eff):\n",
    "                if j in comb:\n",
    "                    value *= ef\n",
    "                else:\n",
    "                    value *= 1-ef\n",
    "            #Sum the value for this combination to the total\n",
    "            all_combinations_eff += value      \n",
    "            \n",
    "        out[iev] = all_combinations_eff\n",
    "        iev+=1\n",
    "    return out"
   ]
  },
  {
   "cell_type": "code",
   "execution_count": 27,
   "id": "cf3f86f8-fd30-425f-8a7c-426655cfaeae",
   "metadata": {
    "tags": []
   },
   "outputs": [
    {
     "name": "stdout",
     "output_type": "stream",
     "text": [
      "67.5 ms ± 9.93 ms per loop (mean ± std. dev. of 7 runs, 1 loop each)\n"
     ]
    }
   ],
   "source": [
    "%%timeit\n",
    "out = get_prob_M(1, eff_j)"
   ]
  },
  {
   "cell_type": "code",
   "execution_count": 28,
   "id": "071063c6-64ad-41f9-a38d-22dcae0d6788",
   "metadata": {
    "tags": []
   },
   "outputs": [
    {
     "name": "stdout",
     "output_type": "stream",
     "text": [
      "63.6 ms ± 272 µs per loop (mean ± std. dev. of 7 runs, 10 loops each)\n"
     ]
    }
   ],
   "source": [
    "%%timeit\n",
    "out = get_prob_M(2, eff_j)"
   ]
  },
  {
   "cell_type": "code",
   "execution_count": 29,
   "id": "c1c443c3-47a3-4463-858e-4f7faee334da",
   "metadata": {
    "tags": []
   },
   "outputs": [
    {
     "name": "stdout",
     "output_type": "stream",
     "text": [
      "982 ms ± 18.1 ms per loop (mean ± std. dev. of 7 runs, 1 loop each)\n"
     ]
    }
   ],
   "source": [
    "%%timeit\n",
    "out = get_prob_M(3, eff_j)"
   ]
  },
  {
   "cell_type": "code",
   "execution_count": 30,
   "id": "d4becf86-2db1-46f0-81ec-6bb7f6d89c6d",
   "metadata": {
    "tags": []
   },
   "outputs": [
    {
     "name": "stdout",
     "output_type": "stream",
     "text": [
      "2.58 s ± 28.8 ms per loop (mean ± std. dev. of 7 runs, 1 loop each)\n"
     ]
    }
   ],
   "source": [
    "%%timeit\n",
    "out = get_prob_M(4, eff_j)"
   ]
  },
  {
   "cell_type": "code",
   "execution_count": 31,
   "id": "917aa3c4-a169-43a9-8dd5-064c4fc8b2c9",
   "metadata": {
    "tags": []
   },
   "outputs": [
    {
     "name": "stdout",
     "output_type": "stream",
     "text": [
      "4.71 s ± 120 ms per loop (mean ± std. dev. of 7 runs, 1 loop each)\n"
     ]
    }
   ],
   "source": [
    "%%timeit\n",
    "out = get_prob_M(5, eff_j)"
   ]
  },
  {
   "cell_type": "code",
   "execution_count": 32,
   "id": "cb6465a7-0703-4c99-b81b-0c93bde37c74",
   "metadata": {
    "tags": []
   },
   "outputs": [
    {
     "name": "stdout",
     "output_type": "stream",
     "text": [
      "7.07 s ± 102 ms per loop (mean ± std. dev. of 7 runs, 1 loop each)\n"
     ]
    }
   ],
   "source": [
    "%%timeit\n",
    "out = get_prob_M(6, eff_j)"
   ]
  },
  {
   "cell_type": "code",
   "execution_count": 50,
   "id": "a5bc0ace-212d-4ba3-a42a-c256eabd76cd",
   "metadata": {
    "tags": []
   },
   "outputs": [],
   "source": [
    "out = get_prob_M(0, eff_j)"
   ]
  },
  {
   "cell_type": "code",
   "execution_count": 51,
   "id": "cf1418c1-cf79-47d3-b131-d68e032fc5d1",
   "metadata": {
    "tags": []
   },
   "outputs": [
    {
     "data": {
      "text/plain": [
       "array([0., 0., 0., ..., 0., 0., 0.])"
      ]
     },
     "execution_count": 51,
     "metadata": {},
     "output_type": "execute_result"
    }
   ],
   "source": [
    "out"
   ]
  },
  {
   "cell_type": "code",
   "execution_count": 45,
   "id": "1fa275aa-745b-4b62-bb91-5ca5cefab430",
   "metadata": {
    "tags": []
   },
   "outputs": [],
   "source": [
    "out = get_prob_M(4, eff_j)"
   ]
  },
  {
   "cell_type": "code",
   "execution_count": 46,
   "id": "add9b48e-a23a-4ee8-adfd-9945c2060545",
   "metadata": {
    "tags": []
   },
   "outputs": [
    {
     "data": {
      "text/plain": [
       "array([0.22056752, 0.09948008, 0.30201066, ..., 0.46896965, 0.33150646,\n",
       "       0.15111263])"
      ]
     },
     "execution_count": 46,
     "metadata": {},
     "output_type": "execute_result"
    }
   ],
   "source": [
    "out"
   ]
  },
  {
   "cell_type": "code",
   "execution_count": 47,
   "id": "e37c5075-5944-4461-97eb-7703d25a73ff",
   "metadata": {
    "tags": []
   },
   "outputs": [
    {
     "data": {
      "text/plain": [
       "(array([102467.,  10744.,   3411.,    393.,    548.,   2077.,   5880.,\n",
       "         20389.,  41575.,  17734.]),\n",
       " array([5.84966364e-04, 1.00526470e-01, 2.00467973e-01, 3.00409476e-01,\n",
       "        4.00350980e-01, 5.00292483e-01, 6.00233987e-01, 7.00175490e-01,\n",
       "        8.00116993e-01, 9.00058497e-01, 1.00000000e+00]),\n",
       " <BarContainer object of 10 artists>)"
      ]
     },
     "execution_count": 47,
     "metadata": {},
     "output_type": "execute_result"
    },
    {
     "data": {
      "image/png": "[encoded data removed]",
      "text/plain": [
       "<Figure size 640x480 with 1 Axes>"
      ]
     },
     "metadata": {},
     "output_type": "display_data"
    }
   ],
   "source": [
    "plt.hist(ak.flatten(eff_j))"
   ]
  },
  {
   "cell_type": "code",
   "execution_count": 48,
   "id": "a573d252-f441-4892-9b8f-9a7c668be389",
   "metadata": {
    "tags": []
   },
   "outputs": [
    {
     "data": {
      "text/plain": [
       "(array([3.445e+03, 2.813e+03, 1.640e+03, 4.400e+03, 5.383e+03, 1.956e+03,\n",
       "        3.260e+02, 3.000e+01, 2.000e+00, 1.000e+00]),\n",
       " array([0.        , 0.0922161 , 0.18443219, 0.27664829, 0.36886439,\n",
       "        0.46108049, 0.55329658, 0.64551268, 0.73772878, 0.82994488,\n",
       "        0.92216097]),\n",
       " <BarContainer object of 10 artists>)"
      ]
     },
     "execution_count": 48,
     "metadata": {},
     "output_type": "execute_result"
    },
    {
     "data": {
      "image/png": "[encoded data removed]",
      "text/plain": [
       "<Figure size 640x480 with 1 Axes>"
      ]
     },
     "metadata": {},
     "output_type": "display_data"
    }
   ],
   "source": [
    "plt.hist(out)"
   ]
  },
  {
   "cell_type": "markdown",
   "id": "2af79949-f4f7-4d83-b09a-2563662a5427",
   "metadata": {
    "tags": []
   },
   "source": [
    "### Now we need the conditional TRF prob"
   ]
  },
  {
   "cell_type": "code",
   "execution_count": 63,
   "id": "37300ab8-283e-4547-bab4-eacdb70af39c",
   "metadata": {
    "tags": []
   },
   "outputs": [],
   "source": [
    "def get_conditiona_TRF(nA, nB, eff_j):\n",
    "    P_B = np.ones(len(eff_j))\n",
    "    for i in range(1, nB):  #from 0 to nB-1\n",
    "        P_B -= get_prob_M(i, eff_j)\n",
    "    # now the 0 tagged case\n",
    "    P_B -= ak.to_numpy(ak.prod(1-eff_j, axis=1))\n",
    "    \n",
    "    P_A = get_prob_M(nA, eff_j)\n",
    "    \n",
    "    return P_A, P_B, P_A/P_B"
   ]
  },
  {
   "cell_type": "code",
   "execution_count": 65,
   "id": "17f3cf02-c827-4e44-9d8b-9c1356b6a927",
   "metadata": {
    "tags": []
   },
   "outputs": [
    {
     "data": {
      "text/plain": [
       "(array([0.22056752, 0.09948008, 0.30201066, ..., 0.46896965, 0.33150646,\n",
       "        0.15111263]),\n",
       " array([0.90408825, 0.94759974, 0.99944197, ..., 0.98461874, 0.99912407,\n",
       "        0.89768091]),\n",
       " array([0.2439668 , 0.10498112, 0.30217929, ..., 0.47629568, 0.33179709,\n",
       "        0.16833669]))"
      ]
     },
     "execution_count": 65,
     "metadata": {},
     "output_type": "execute_result"
    }
   ],
   "source": [
    "get_conditiona_TRF(4, 2, eff_j)"
   ]
  },
  {
   "cell_type": "code",
   "execution_count": 66,
   "id": "28c43501-49e8-4215-8347-1045cf042ff2",
   "metadata": {
    "tags": []
   },
   "outputs": [
    {
     "name": "stdout",
     "output_type": "stream",
     "text": [
      "2.39 s ± 26.7 ms per loop (mean ± std. dev. of 7 runs, 1 loop each)\n"
     ]
    }
   ],
   "source": [
    "%%timeit\n",
    "get_conditiona_TRF(4, 2, eff_j)"
   ]
  },
  {
   "cell_type": "code",
   "execution_count": 67,
   "id": "0363d478-4b6a-40da-bd74-e9cfb3bb94f4",
   "metadata": {
    "tags": []
   },
   "outputs": [],
   "source": [
    "P_A, P_B, P_AB = get_conditiona_TRF(4, 2, eff_j)"
   ]
  },
  {
   "cell_type": "code",
   "execution_count": 84,
   "id": "30df0032-e2b5-4b2f-add2-afaaf071a7c3",
   "metadata": {
    "tags": []
   },
   "outputs": [
    {
     "data": {
      "text/plain": [
       "Text(0, 0.5, 'TRF P(4|2)')"
      ]
     },
     "execution_count": 84,
     "metadata": {},
     "output_type": "execute_result"
    },
    {
     "data": {
      "image/png": "[encoded data removed]",
      "text/plain": [
       "<Figure size 640x480 with 1 Axes>"
      ]
     },
     "metadata": {},
     "output_type": "display_data"
    }
   ],
   "source": [
    "plt.hist2d(ak.to_numpy(nBjets), P_AB, \n",
    "          bins=(8, 20), range=((0.,8.),(0.,1.)));\n",
    "plt.xlabel(\"Number of gen-level Bjets\")\n",
    "plt.ylabel(\"TRF P(4|2)\")"
   ]
  },
  {
   "cell_type": "code",
   "execution_count": 79,
   "id": "078637ea-9947-4768-af25-fa0fbdaab59e",
   "metadata": {
    "tags": []
   },
   "outputs": [
    {
     "data": {
      "text/plain": [
       "Text(0, 0.5, 'TRF P(4|2)')"
      ]
     },
     "execution_count": 79,
     "metadata": {},
     "output_type": "execute_result"
    },
    {
     "data": {
      "image/png": "[encoded data removed]",
      "text/plain": [
       "<Figure size 640x480 with 1 Axes>"
      ]
     },
     "metadata": {},
     "output_type": "display_data"
    }
   ],
   "source": [
    "plt.hist2d(ak.to_numpy(nBjets), P_AB, \n",
    "          bins=(8, 20), range=((0.,8.),(0.,1.)));\n",
    "plt.xlabel(\"Number of tagged Bjets\")\n",
    "plt.ylabel(\"TRF P(4|2)\")"
   ]
  },
  {
   "cell_type": "code",
   "execution_count": null,
   "id": "9fce38b9-1a9d-4aa4-bc74-eb9318c248bc",
   "metadata": {},
   "outputs": [],
   "source": []
  }
 ],
 "metadata": {
  "kernelspec": {
   "display_name": "Python 3 (ipykernel)",
   "language": "python",
   "name": "python3"
  },
  "language_info": {
   "codemirror_mode": {
    "name": "ipython",
    "version": 3
   },
   "file_extension": ".py",
   "mimetype": "text/x-python",
   "name": "python",
   "nbconvert_exporter": "python",
   "pygments_lexer": "ipython3",
   "version": "3.9.16"
  }
 },
 "nbformat": 4,
 "nbformat_minor": 5
}
