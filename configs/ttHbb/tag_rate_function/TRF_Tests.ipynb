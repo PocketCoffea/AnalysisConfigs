{
 "cells": [
  {
   "cell_type": "markdown",
   "id": "e59f7923-bede-49ec-b0e4-1b62665c02f6",
   "metadata": {},
   "source": [
    "# Implementation of the TagRateFunction method in awk+correctionlib "
   ]
  },
  {
   "cell_type": "code",
   "execution_count": 1,
   "id": "aa1b8217-6480-4b28-b565-6054175bd793",
   "metadata": {
    "tags": []
   },
   "outputs": [],
   "source": [
    "%load_ext memory_profiler"
   ]
  },
  {
   "cell_type": "code",
   "execution_count": 2,
   "id": "5c45956b-d52c-4c7c-890d-2b5ec99f29c4",
   "metadata": {
    "tags": []
   },
   "outputs": [],
   "source": [
    "from coffea.nanoevents import NanoEventsFactory, NanoAODSchema\n",
    "import numpy as np\n",
    "import awkward as ak\n",
    "import matplotlib.pyplot as plt\n",
    "from matplotlib.colors import LogNorm\n",
    "from pprint import pprint\n",
    "import numba\n",
    "from numba import njit\n",
    "from numba.typed import List, Dict\n",
    "import correctionlib, rich\n",
    "import correctionlib.convert\n",
    "from hist import Hist"
   ]
  },
  {
   "cell_type": "code",
   "execution_count": 3,
   "id": "b39bb6aa-7c78-42b5-aefb-da8c0377d81a",
   "metadata": {
    "tags": []
   },
   "outputs": [],
   "source": [
    "filename = \"root://xrootd-cms.infn.it///store/mc/RunIISummer20UL18NanoAODv9/ttHTobb_M125_TuneCP5_13TeV-powheg-pythia8/NANOAODSIM/106X_upgrade2018_realistic_v16_L1v1-v2/250000/32D0D1A3-74EB-8146-9F3F-B392AB168FDD.root\"\n",
    "events = NanoEventsFactory.from_root(filename, schemaclass=NanoAODSchema, entry_stop=100000).events()"
   ]
  },
  {
   "cell_type": "markdown",
   "id": "4aa754fe-4b24-4ab9-8fd4-2bfb2b393365",
   "metadata": {},
   "source": [
    "# Extract the b-tagger efficiencies"
   ]
  },
  {
   "cell_type": "code",
   "execution_count": 14,
   "id": "9bb8d512-517e-4241-8cc7-dcfc922cf24e",
   "metadata": {
    "tags": []
   },
   "outputs": [],
   "source": [
    "btagged = (Hist.new.Reg(20, 0, 400,overflow=True, underflow=False, name=\"pt\" )\n",
    "                .Reg(10, -4, 4, overflow=False, underflow=False, name=\"eta\")\n",
    "                .Int(0,3, name=\"flavour\")\n",
    "                .Weight())\n",
    "non_btagged = (Hist.new.Reg(20, 0, 400,overflow=True, underflow=False, name=\"pt\" )\n",
    "                .Reg(10, -4, 4, overflow=False, underflow=False, name=\"eta\")\n",
    "                .Int(0,3, name=\"flavour\")\n",
    "                .Weight())"
   ]
  },
  {
   "cell_type": "code",
   "execution_count": 15,
   "id": "41a97c72-8239-499d-a5e9-2ad60571a4bc",
   "metadata": {
    "tags": []
   },
   "outputs": [],
   "source": [
    "bJets = events.Jet[events.Jet.btagDeepFlavB > 0.277]\n",
    "bJets_L = bJets[bJets.hadronFlavour==0]\n",
    "bJets_C = bJets[bJets.hadronFlavour==4]\n",
    "bJets_B = bJets[bJets.hadronFlavour==5]\n",
    "\n",
    "bJets_flavour = ak.where(bJets.hadronFlavour!=0, bJets.hadronFlavour-3, 0.)\n",
    "\n",
    "jets_L = events.Jet[events.Jet.hadronFlavour==0]\n",
    "jets_C = events.Jet[events.Jet.hadronFlavour==4]\n",
    "jets_B = events.Jet[events.Jet.hadronFlavour==5]\n",
    "\n",
    "jets_flavour = ak.where(events.Jet.hadronFlavour!=0, events.Jet.hadronFlavour-3, 0.)\n"
   ]
  },
  {
   "cell_type": "code",
   "execution_count": 16,
   "id": "9a59e80a-d2f1-4249-86a8-91828bdd3b79",
   "metadata": {
    "tags": []
   },
   "outputs": [
    {
     "name": "stdout",
     "output_type": "stream",
     "text": [
      "[0, 0, 0, 0, 0, 1, 0, 0, 0, 0, 0, 0, 1, 0, ... 0, 1, 0, 0, 0, 0, 1, 0, 0, 0, 0, 0, 0]\n",
      "[0, 0, 0, 0, 0, 0, 0, 0, 0, 0, 0, 1, 0, 0, ... 0, 0, 1, 0, 0, 0, 0, 0, 0, 0, 0, 0, 0]\n",
      "[2, 3, 4, 3, 2, 4, 3, 2, 1, 4, 3, 3, 2, 2, ... 3, 2, 2, 2, 2, 3, 2, 2, 3, 3, 3, 1, 2]\n"
     ]
    }
   ],
   "source": [
    "print(ak.num(bJets_L))\n",
    "print(ak.num(bJets_C))\n",
    "print(ak.num(bJets_B))"
   ]
  },
  {
   "cell_type": "code",
   "execution_count": 17,
   "id": "b98853ad-6980-400d-8e02-7adc7e80802e",
   "metadata": {
    "tags": []
   },
   "outputs": [
    {
     "name": "stdout",
     "output_type": "stream",
     "text": [
      "[4, 5, 4, 4, 4, 5, 7, 4, 4, 5, 1, 8, 4, ... 6, 10, 5, 3, 6, 6, 6, 4, 6, 4, 7, 10, 11]\n",
      "[1, 0, 1, 1, 1, 1, 0, 1, 2, 2, 1, 1, 1, 0, ... 1, 1, 1, 1, 1, 0, 0, 0, 0, 0, 0, 0, 0]\n",
      "[4, 3, 4, 4, 3, 4, 3, 3, 1, 4, 4, 4, 4, 3, ... 3, 3, 4, 4, 4, 3, 2, 3, 4, 3, 3, 4, 3]\n"
     ]
    }
   ],
   "source": [
    "print(ak.num(jets_L))\n",
    "print(ak.num(jets_C))\n",
    "print(ak.num(jets_B))"
   ]
  },
  {
   "cell_type": "code",
   "execution_count": 18,
   "id": "2225bf18-b790-4d5a-9c0a-8084aabb4e04",
   "metadata": {
    "tags": []
   },
   "outputs": [
    {
     "data": {
      "text/plain": [
       "Hist(\n",
       "  Regular(20, 0, 400, underflow=False, name='pt'),\n",
       "  Regular(10, -4, 4, underflow=False, overflow=False, name='eta'),\n",
       "  Integer(0, 3, name='flavour'),\n",
       "  storage=Weight()) # Sum: WeightedSum(value=175821, variance=175821) (WeightedSum(value=177210, variance=177210) with flow)"
      ]
     },
     "execution_count": 18,
     "metadata": {},
     "output_type": "execute_result"
    }
   ],
   "source": [
    "btagged.fill(ak.flatten(bJets.pt),\n",
    "             ak.flatten(bJets.eta),\n",
    "             ak.flatten(bJets_flavour))"
   ]
  },
  {
   "cell_type": "code",
   "execution_count": 19,
   "id": "1de6926a-53df-49cb-ba2c-2327d2aa5b23",
   "metadata": {
    "tags": []
   },
   "outputs": [
    {
     "data": {
      "text/plain": [
       "Hist(\n",
       "  Regular(20, 0, 400, underflow=False, name='pt'),\n",
       "  Regular(10, -4, 4, underflow=False, overflow=False, name='eta'),\n",
       "  Integer(0, 3, name='flavour'),\n",
       "  storage=Weight()) # Sum: WeightedSum(value=572449, variance=572449) (WeightedSum(value=575835, variance=575835) with flow)"
      ]
     },
     "execution_count": 19,
     "metadata": {},
     "output_type": "execute_result"
    }
   ],
   "source": [
    "non_btagged.fill(ak.flatten(events.Jet.pt),\n",
    "             ak.flatten(events.Jet.eta),\n",
    "             ak.flatten(jets_flavour))"
   ]
  },
  {
   "cell_type": "code",
   "execution_count": 20,
   "id": "37aae6da-26d2-48ab-9588-8f61f3504401",
   "metadata": {
    "tags": []
   },
   "outputs": [
    {
     "data": {
      "text/html": [
       "<html>\n",
       "<div style=\"display:flex; align-items:center;\">\n",
       "<div style=\"width:290px;\">\n",
       "<svg xmlns=\"http://www.w3.org/2000/svg\" viewBox=\"-20 -270 290 290\">\n",
       "<text text-anchor=\"middle\" x=\"0\" y=\"13\" style=\"fill:currentColor;\">\n",
       "0\n",
       "</text>\n",
       "<text text-anchor=\"middle\" x=\"250\" y=\"13\" style=\"fill:currentColor;\">\n",
       "400\n",
       "</text>\n",
       "<text text-anchor=\"middle\" x=\"-10\" y=\"0\" style=\"fill:currentColor;\">\n",
       "-4\n",
       "</text>\n",
       "<text text-anchor=\"middle\" x=\"-10\" y=\"-250\" style=\"fill:currentColor;\">\n",
       "4\n",
       "</text>\n",
       "<text text-anchor=\"middle\" x=\"125.0\" y=\"13\" style=\"fill:currentColor;\">\n",
       "pt\n",
       "</text>\n",
       "<text text-anchor=\"middle\" x=\"-10\" y=\"-125.0\" transform=\"rotate(-90,-10,-125.0)\" style=\"fill:currentColor;\">\n",
       "eta\n",
       "</text>\n",
       "<rect x=\"0.0\" y=\"-24.999999999999993\" width=\"12.5\" height=\"25.0\" opacity=\"0.0\" fill=\"currentColor\" stroke-width=\"0.1\"/>\n",
       "<rect x=\"12.5\" y=\"-24.999999999999993\" width=\"12.5\" height=\"25.0\" opacity=\"0.0\" fill=\"currentColor\" stroke-width=\"0.1\"/>\n",
       "<rect x=\"25.0\" y=\"-24.999999999999993\" width=\"12.5\" height=\"25.0\" opacity=\"0.0\" fill=\"currentColor\" stroke-width=\"0.1\"/>\n",
       "<rect x=\"37.5\" y=\"-24.999999999999993\" width=\"12.5\" height=\"25.0\" opacity=\"0.0\" fill=\"currentColor\" stroke-width=\"0.1\"/>\n",
       "<rect x=\"50.0\" y=\"-24.999999999999993\" width=\"12.5\" height=\"25.0\" opacity=\"0.0\" fill=\"currentColor\" stroke-width=\"0.1\"/>\n",
       "<rect x=\"62.5\" y=\"-24.999999999999993\" width=\"12.5\" height=\"25.0\" opacity=\"0.0\" fill=\"currentColor\" stroke-width=\"0.1\"/>\n",
       "<rect x=\"75.0\" y=\"-24.999999999999993\" width=\"12.5\" height=\"25.0\" opacity=\"0.0\" fill=\"currentColor\" stroke-width=\"0.1\"/>\n",
       "<rect x=\"87.5\" y=\"-24.999999999999993\" width=\"12.5\" height=\"25.0\" opacity=\"0.0\" fill=\"currentColor\" stroke-width=\"0.1\"/>\n",
       "<rect x=\"100.0\" y=\"-24.999999999999993\" width=\"12.5\" height=\"25.0\" opacity=\"0.0\" fill=\"currentColor\" stroke-width=\"0.1\"/>\n",
       "<rect x=\"112.5\" y=\"-24.999999999999993\" width=\"12.5\" height=\"25.0\" opacity=\"0.0\" fill=\"currentColor\" stroke-width=\"0.1\"/>\n",
       "<rect x=\"125.0\" y=\"-24.999999999999993\" width=\"12.5\" height=\"25.0\" opacity=\"0.0\" fill=\"currentColor\" stroke-width=\"0.1\"/>\n",
       "<rect x=\"137.5\" y=\"-24.999999999999993\" width=\"12.5\" height=\"25.0\" opacity=\"0.0\" fill=\"currentColor\" stroke-width=\"0.1\"/>\n",
       "<rect x=\"150.0\" y=\"-24.999999999999993\" width=\"12.5\" height=\"25.0\" opacity=\"0.0\" fill=\"currentColor\" stroke-width=\"0.1\"/>\n",
       "<rect x=\"162.5\" y=\"-24.999999999999993\" width=\"12.5\" height=\"25.0\" opacity=\"0.0\" fill=\"currentColor\" stroke-width=\"0.1\"/>\n",
       "<rect x=\"175.0\" y=\"-24.999999999999993\" width=\"12.5\" height=\"25.0\" opacity=\"0.0\" fill=\"currentColor\" stroke-width=\"0.1\"/>\n",
       "<rect x=\"187.5\" y=\"-24.999999999999993\" width=\"12.5\" height=\"25.0\" opacity=\"0.0\" fill=\"currentColor\" stroke-width=\"0.1\"/>\n",
       "<rect x=\"200.0\" y=\"-24.999999999999993\" width=\"12.5\" height=\"25.0\" opacity=\"0.0\" fill=\"currentColor\" stroke-width=\"0.1\"/>\n",
       "<rect x=\"212.5\" y=\"-24.999999999999993\" width=\"12.5\" height=\"25.0\" opacity=\"0.0\" fill=\"currentColor\" stroke-width=\"0.1\"/>\n",
       "<rect x=\"225.0\" y=\"-24.999999999999993\" width=\"12.5\" height=\"25.0\" opacity=\"0.0\" fill=\"currentColor\" stroke-width=\"0.1\"/>\n",
       "<rect x=\"237.5\" y=\"-24.999999999999993\" width=\"12.5\" height=\"25.0\" opacity=\"0.0\" fill=\"currentColor\" stroke-width=\"0.1\"/>\n",
       "<rect x=\"0.0\" y=\"-49.999999999999986\" width=\"12.5\" height=\"25.0\" opacity=\"0.016031537450722732\" fill=\"currentColor\" stroke-width=\"0.1\"/>\n",
       "<rect x=\"12.5\" y=\"-49.999999999999986\" width=\"12.5\" height=\"25.0\" opacity=\"0.07017082785808146\" fill=\"currentColor\" stroke-width=\"0.1\"/>\n",
       "<rect x=\"25.0\" y=\"-49.999999999999986\" width=\"12.5\" height=\"25.0\" opacity=\"0.053613666228646516\" fill=\"currentColor\" stroke-width=\"0.1\"/>\n",
       "<rect x=\"37.5\" y=\"-49.999999999999986\" width=\"12.5\" height=\"25.0\" opacity=\"0.03377135348226018\" fill=\"currentColor\" stroke-width=\"0.1\"/>\n",
       "<rect x=\"50.0\" y=\"-49.999999999999986\" width=\"12.5\" height=\"25.0\" opacity=\"0.01957950065703022\" fill=\"currentColor\" stroke-width=\"0.1\"/>\n",
       "<rect x=\"62.5\" y=\"-49.999999999999986\" width=\"12.5\" height=\"25.0\" opacity=\"0.009461235216819972\" fill=\"currentColor\" stroke-width=\"0.1\"/>\n",
       "<rect x=\"75.0\" y=\"-49.999999999999986\" width=\"12.5\" height=\"25.0\" opacity=\"0.005913272010512483\" fill=\"currentColor\" stroke-width=\"0.1\"/>\n",
       "<rect x=\"87.5\" y=\"-49.999999999999986\" width=\"12.5\" height=\"25.0\" opacity=\"0.004204993429697766\" fill=\"currentColor\" stroke-width=\"0.1\"/>\n",
       "<rect x=\"100.0\" y=\"-49.999999999999986\" width=\"12.5\" height=\"25.0\" opacity=\"0.003153745072273325\" fill=\"currentColor\" stroke-width=\"0.1\"/>\n",
       "<rect x=\"112.5\" y=\"-49.999999999999986\" width=\"12.5\" height=\"25.0\" opacity=\"0.0006570302233902759\" fill=\"currentColor\" stroke-width=\"0.1\"/>\n",
       "<rect x=\"125.0\" y=\"-49.999999999999986\" width=\"12.5\" height=\"25.0\" opacity=\"0.0011826544021024952\" fill=\"currentColor\" stroke-width=\"0.1\"/>\n",
       "<rect x=\"137.5\" y=\"-49.999999999999986\" width=\"12.5\" height=\"25.0\" opacity=\"0.0005256241787122215\" fill=\"currentColor\" stroke-width=\"0.1\"/>\n",
       "<rect x=\"150.0\" y=\"-49.999999999999986\" width=\"12.5\" height=\"25.0\" opacity=\"0.00013140604467805518\" fill=\"currentColor\" stroke-width=\"0.1\"/>\n",
       "<rect x=\"162.5\" y=\"-49.999999999999986\" width=\"12.5\" height=\"25.0\" opacity=\"0.0\" fill=\"currentColor\" stroke-width=\"0.1\"/>\n",
       "<rect x=\"175.0\" y=\"-49.999999999999986\" width=\"12.5\" height=\"25.0\" opacity=\"0.00013140604467805518\" fill=\"currentColor\" stroke-width=\"0.1\"/>\n",
       "<rect x=\"187.5\" y=\"-49.999999999999986\" width=\"12.5\" height=\"25.0\" opacity=\"0.0\" fill=\"currentColor\" stroke-width=\"0.1\"/>\n",
       "<rect x=\"200.0\" y=\"-49.999999999999986\" width=\"12.5\" height=\"25.0\" opacity=\"0.00013140604467805518\" fill=\"currentColor\" stroke-width=\"0.1\"/>\n",
       "<rect x=\"212.5\" y=\"-49.999999999999986\" width=\"12.5\" height=\"25.0\" opacity=\"0.0\" fill=\"currentColor\" stroke-width=\"0.1\"/>\n",
       "<rect x=\"225.0\" y=\"-49.999999999999986\" width=\"12.5\" height=\"25.0\" opacity=\"0.00013140604467805518\" fill=\"currentColor\" stroke-width=\"0.1\"/>\n",
       "<rect x=\"237.5\" y=\"-49.999999999999986\" width=\"12.5\" height=\"25.0\" opacity=\"0.0\" fill=\"currentColor\" stroke-width=\"0.1\"/>\n",
       "<rect x=\"0.0\" y=\"-75.00000000000001\" width=\"12.5\" height=\"25.0\" opacity=\"0.0713534822601839\" fill=\"currentColor\" stroke-width=\"0.1\"/>\n",
       "<rect x=\"12.5\" y=\"-75.00000000000001\" width=\"12.5\" height=\"25.0\" opacity=\"0.35190538764783147\" fill=\"currentColor\" stroke-width=\"0.1\"/>\n",
       "<rect x=\"25.0\" y=\"-75.00000000000001\" width=\"12.5\" height=\"25.0\" opacity=\"0.3420499342969773\" fill=\"currentColor\" stroke-width=\"0.1\"/>\n",
       "<rect x=\"37.5\" y=\"-75.00000000000001\" width=\"12.5\" height=\"25.0\" opacity=\"0.25440210249671463\" fill=\"currentColor\" stroke-width=\"0.1\"/>\n",
       "<rect x=\"50.0\" y=\"-75.00000000000001\" width=\"12.5\" height=\"25.0\" opacity=\"0.1725361366622863\" fill=\"currentColor\" stroke-width=\"0.1\"/>\n",
       "<rect x=\"62.5\" y=\"-75.00000000000001\" width=\"12.5\" height=\"25.0\" opacity=\"0.11537450722733235\" fill=\"currentColor\" stroke-width=\"0.1\"/>\n",
       "<rect x=\"75.0\" y=\"-75.00000000000001\" width=\"12.5\" height=\"25.0\" opacity=\"0.08646517739816023\" fill=\"currentColor\" stroke-width=\"0.1\"/>\n",
       "<rect x=\"87.5\" y=\"-75.00000000000001\" width=\"12.5\" height=\"25.0\" opacity=\"0.055847568988173404\" fill=\"currentColor\" stroke-width=\"0.1\"/>\n",
       "<rect x=\"100.0\" y=\"-75.00000000000001\" width=\"12.5\" height=\"25.0\" opacity=\"0.03613666228646514\" fill=\"currentColor\" stroke-width=\"0.1\"/>\n",
       "<rect x=\"112.5\" y=\"-75.00000000000001\" width=\"12.5\" height=\"25.0\" opacity=\"0.02444152431011824\" fill=\"currentColor\" stroke-width=\"0.1\"/>\n",
       "<rect x=\"125.0\" y=\"-75.00000000000001\" width=\"12.5\" height=\"25.0\" opacity=\"0.018396846254927688\" fill=\"currentColor\" stroke-width=\"0.1\"/>\n",
       "<rect x=\"137.5\" y=\"-75.00000000000001\" width=\"12.5\" height=\"25.0\" opacity=\"0.010643889618922474\" fill=\"currentColor\" stroke-width=\"0.1\"/>\n",
       "<rect x=\"150.0\" y=\"-75.00000000000001\" width=\"12.5\" height=\"25.0\" opacity=\"0.0072273324572930285\" fill=\"currentColor\" stroke-width=\"0.1\"/>\n",
       "<rect x=\"162.5\" y=\"-75.00000000000001\" width=\"12.5\" height=\"25.0\" opacity=\"0.003942181340341652\" fill=\"currentColor\" stroke-width=\"0.1\"/>\n",
       "<rect x=\"175.0\" y=\"-75.00000000000001\" width=\"12.5\" height=\"25.0\" opacity=\"0.0031537450722733218\" fill=\"currentColor\" stroke-width=\"0.1\"/>\n",
       "<rect x=\"187.5\" y=\"-75.00000000000001\" width=\"12.5\" height=\"25.0\" opacity=\"0.0026281208935611013\" fill=\"currentColor\" stroke-width=\"0.1\"/>\n",
       "<rect x=\"200.0\" y=\"-75.00000000000001\" width=\"12.5\" height=\"25.0\" opacity=\"0.001971090670170826\" fill=\"currentColor\" stroke-width=\"0.1\"/>\n",
       "<rect x=\"212.5\" y=\"-75.00000000000001\" width=\"12.5\" height=\"25.0\" opacity=\"0.0006570302233902753\" fill=\"currentColor\" stroke-width=\"0.1\"/>\n",
       "<rect x=\"225.0\" y=\"-75.00000000000001\" width=\"12.5\" height=\"25.0\" opacity=\"0.0006570302233902753\" fill=\"currentColor\" stroke-width=\"0.1\"/>\n",
       "<rect x=\"237.5\" y=\"-75.00000000000001\" width=\"12.5\" height=\"25.0\" opacity=\"0.0005256241787122202\" fill=\"currentColor\" stroke-width=\"0.1\"/>\n",
       "<rect x=\"0.0\" y=\"-100.0\" width=\"12.5\" height=\"25.0\" opacity=\"0.12509855453350852\" fill=\"currentColor\" stroke-width=\"0.1\"/>\n",
       "<rect x=\"12.5\" y=\"-100.0\" width=\"12.5\" height=\"25.0\" opacity=\"0.6607095926412614\" fill=\"currentColor\" stroke-width=\"0.1\"/>\n",
       "<rect x=\"25.0\" y=\"-100.0\" width=\"12.5\" height=\"25.0\" opacity=\"0.6986859395532192\" fill=\"currentColor\" stroke-width=\"0.1\"/>\n",
       "<rect x=\"37.5\" y=\"-100.0\" width=\"12.5\" height=\"25.0\" opacity=\"0.5771353482260182\" fill=\"currentColor\" stroke-width=\"0.1\"/>\n",
       "<rect x=\"50.0\" y=\"-100.0\" width=\"12.5\" height=\"25.0\" opacity=\"0.43745072273324564\" fill=\"currentColor\" stroke-width=\"0.1\"/>\n",
       "<rect x=\"62.5\" y=\"-100.0\" width=\"12.5\" height=\"25.0\" opacity=\"0.3074901445466491\" fill=\"currentColor\" stroke-width=\"0.1\"/>\n",
       "<rect x=\"75.0\" y=\"-100.0\" width=\"12.5\" height=\"25.0\" opacity=\"0.2124835742444152\" fill=\"currentColor\" stroke-width=\"0.1\"/>\n",
       "<rect x=\"87.5\" y=\"-100.0\" width=\"12.5\" height=\"25.0\" opacity=\"0.1565045992115637\" fill=\"currentColor\" stroke-width=\"0.1\"/>\n",
       "<rect x=\"100.0\" y=\"-100.0\" width=\"12.5\" height=\"25.0\" opacity=\"0.10013140604467803\" fill=\"currentColor\" stroke-width=\"0.1\"/>\n",
       "<rect x=\"112.5\" y=\"-100.0\" width=\"12.5\" height=\"25.0\" opacity=\"0.07700394218134032\" fill=\"currentColor\" stroke-width=\"0.1\"/>\n",
       "<rect x=\"125.0\" y=\"-100.0\" width=\"12.5\" height=\"25.0\" opacity=\"0.05663600525624168\" fill=\"currentColor\" stroke-width=\"0.1\"/>\n",
       "<rect x=\"137.5\" y=\"-100.0\" width=\"12.5\" height=\"25.0\" opacity=\"0.03994743758212882\" fill=\"currentColor\" stroke-width=\"0.1\"/>\n",
       "<rect x=\"150.0\" y=\"-100.0\" width=\"12.5\" height=\"25.0\" opacity=\"0.02864651773981602\" fill=\"currentColor\" stroke-width=\"0.1\"/>\n",
       "<rect x=\"162.5\" y=\"-100.0\" width=\"12.5\" height=\"25.0\" opacity=\"0.021419185282522988\" fill=\"currentColor\" stroke-width=\"0.1\"/>\n",
       "<rect x=\"175.0\" y=\"-100.0\" width=\"12.5\" height=\"25.0\" opacity=\"0.015243101182654397\" fill=\"currentColor\" stroke-width=\"0.1\"/>\n",
       "<rect x=\"187.5\" y=\"-100.0\" width=\"12.5\" height=\"25.0\" opacity=\"0.011038107752956633\" fill=\"currentColor\" stroke-width=\"0.1\"/>\n",
       "<rect x=\"200.0\" y=\"-100.0\" width=\"12.5\" height=\"25.0\" opacity=\"0.00919842312746386\" fill=\"currentColor\" stroke-width=\"0.1\"/>\n",
       "<rect x=\"212.5\" y=\"-100.0\" width=\"12.5\" height=\"25.0\" opacity=\"0.006438896189224702\" fill=\"currentColor\" stroke-width=\"0.1\"/>\n",
       "<rect x=\"225.0\" y=\"-100.0\" width=\"12.5\" height=\"25.0\" opacity=\"0.006438896189224702\" fill=\"currentColor\" stroke-width=\"0.1\"/>\n",
       "<rect x=\"237.5\" y=\"-100.0\" width=\"12.5\" height=\"25.0\" opacity=\"0.003285151116951379\" fill=\"currentColor\" stroke-width=\"0.1\"/>\n",
       "<rect x=\"0.0\" y=\"-125.0\" width=\"12.5\" height=\"25.0\" opacity=\"0.15177398160315375\" fill=\"currentColor\" stroke-width=\"0.1\"/>\n",
       "<rect x=\"12.5\" y=\"-125.0\" width=\"12.5\" height=\"25.0\" opacity=\"0.8651773981603152\" fill=\"currentColor\" stroke-width=\"0.1\"/>\n",
       "<rect x=\"25.0\" y=\"-125.0\" width=\"12.5\" height=\"25.0\" opacity=\"1.0\" fill=\"currentColor\" stroke-width=\"0.1\"/>\n",
       "<rect x=\"37.5\" y=\"-125.0\" width=\"12.5\" height=\"25.0\" opacity=\"0.8572930354796321\" fill=\"currentColor\" stroke-width=\"0.1\"/>\n",
       "<rect x=\"50.0\" y=\"-125.0\" width=\"12.5\" height=\"25.0\" opacity=\"0.6654402102496714\" fill=\"currentColor\" stroke-width=\"0.1\"/>\n",
       "<rect x=\"62.5\" y=\"-125.0\" width=\"12.5\" height=\"25.0\" opacity=\"0.46425755584756895\" fill=\"currentColor\" stroke-width=\"0.1\"/>\n",
       "<rect x=\"75.0\" y=\"-125.0\" width=\"12.5\" height=\"25.0\" opacity=\"0.35755584756898817\" fill=\"currentColor\" stroke-width=\"0.1\"/>\n",
       "<rect x=\"87.5\" y=\"-125.0\" width=\"12.5\" height=\"25.0\" opacity=\"0.24940867279894874\" fill=\"currentColor\" stroke-width=\"0.1\"/>\n",
       "<rect x=\"100.0\" y=\"-125.0\" width=\"12.5\" height=\"25.0\" opacity=\"0.19250985545335084\" fill=\"currentColor\" stroke-width=\"0.1\"/>\n",
       "<rect x=\"112.5\" y=\"-125.0\" width=\"12.5\" height=\"25.0\" opacity=\"0.13140604467805517\" fill=\"currentColor\" stroke-width=\"0.1\"/>\n",
       "<rect x=\"125.0\" y=\"-125.0\" width=\"12.5\" height=\"25.0\" opacity=\"0.09592641261498017\" fill=\"currentColor\" stroke-width=\"0.1\"/>\n",
       "<rect x=\"137.5\" y=\"-125.0\" width=\"12.5\" height=\"25.0\" opacity=\"0.07187910643889628\" fill=\"currentColor\" stroke-width=\"0.1\"/>\n",
       "<rect x=\"150.0\" y=\"-125.0\" width=\"12.5\" height=\"25.0\" opacity=\"0.053088042049934295\" fill=\"currentColor\" stroke-width=\"0.1\"/>\n",
       "<rect x=\"162.5\" y=\"-125.0\" width=\"12.5\" height=\"25.0\" opacity=\"0.03679369250985545\" fill=\"currentColor\" stroke-width=\"0.1\"/>\n",
       "<rect x=\"175.0\" y=\"-125.0\" width=\"12.5\" height=\"25.0\" opacity=\"0.02812089356110381\" fill=\"currentColor\" stroke-width=\"0.1\"/>\n",
       "<rect x=\"187.5\" y=\"-125.0\" width=\"12.5\" height=\"25.0\" opacity=\"0.023915900131406043\" fill=\"currentColor\" stroke-width=\"0.1\"/>\n",
       "<rect x=\"200.0\" y=\"-125.0\" width=\"12.5\" height=\"25.0\" opacity=\"0.017477003942181338\" fill=\"currentColor\" stroke-width=\"0.1\"/>\n",
       "<rect x=\"212.5\" y=\"-125.0\" width=\"12.5\" height=\"25.0\" opacity=\"0.012483574244415242\" fill=\"currentColor\" stroke-width=\"0.1\"/>\n",
       "<rect x=\"225.0\" y=\"-125.0\" width=\"12.5\" height=\"25.0\" opacity=\"0.013009198423127463\" fill=\"currentColor\" stroke-width=\"0.1\"/>\n",
       "<rect x=\"237.5\" y=\"-125.0\" width=\"12.5\" height=\"25.0\" opacity=\"0.009067017082785808\" fill=\"currentColor\" stroke-width=\"0.1\"/>\n",
       "<rect x=\"0.0\" y=\"-150.0\" width=\"12.5\" height=\"25.0\" opacity=\"0.15032851511169512\" fill=\"currentColor\" stroke-width=\"0.1\"/>\n",
       "<rect x=\"12.5\" y=\"-150.0\" width=\"12.5\" height=\"25.0\" opacity=\"0.8923784494086727\" fill=\"currentColor\" stroke-width=\"0.1\"/>\n",
       "<rect x=\"25.0\" y=\"-150.0\" width=\"12.5\" height=\"25.0\" opacity=\"0.9834428383705649\" fill=\"currentColor\" stroke-width=\"0.1\"/>\n",
       "<rect x=\"37.5\" y=\"-150.0\" width=\"12.5\" height=\"25.0\" opacity=\"0.8659658344283836\" fill=\"currentColor\" stroke-width=\"0.1\"/>\n",
       "<rect x=\"50.0\" y=\"-150.0\" width=\"12.5\" height=\"25.0\" opacity=\"0.6516425755584756\" fill=\"currentColor\" stroke-width=\"0.1\"/>\n",
       "<rect x=\"62.5\" y=\"-150.0\" width=\"12.5\" height=\"25.0\" opacity=\"0.4890932982917214\" fill=\"currentColor\" stroke-width=\"0.1\"/>\n",
       "<rect x=\"75.0\" y=\"-150.0\" width=\"12.5\" height=\"25.0\" opacity=\"0.3427069645203679\" fill=\"currentColor\" stroke-width=\"0.1\"/>\n",
       "<rect x=\"87.5\" y=\"-150.0\" width=\"12.5\" height=\"25.0\" opacity=\"0.247700394218134\" fill=\"currentColor\" stroke-width=\"0.1\"/>\n",
       "<rect x=\"100.0\" y=\"-150.0\" width=\"12.5\" height=\"25.0\" opacity=\"0.18081471747700392\" fill=\"currentColor\" stroke-width=\"0.1\"/>\n",
       "<rect x=\"112.5\" y=\"-150.0\" width=\"12.5\" height=\"25.0\" opacity=\"0.13061760840998685\" fill=\"currentColor\" stroke-width=\"0.1\"/>\n",
       "<rect x=\"125.0\" y=\"-150.0\" width=\"12.5\" height=\"25.0\" opacity=\"0.09645203679369238\" fill=\"currentColor\" stroke-width=\"0.1\"/>\n",
       "<rect x=\"137.5\" y=\"-150.0\" width=\"12.5\" height=\"25.0\" opacity=\"0.06977660972404741\" fill=\"currentColor\" stroke-width=\"0.1\"/>\n",
       "<rect x=\"150.0\" y=\"-150.0\" width=\"12.5\" height=\"25.0\" opacity=\"0.050197109067017076\" fill=\"currentColor\" stroke-width=\"0.1\"/>\n",
       "<rect x=\"162.5\" y=\"-150.0\" width=\"12.5\" height=\"25.0\" opacity=\"0.03745072273324573\" fill=\"currentColor\" stroke-width=\"0.1\"/>\n",
       "<rect x=\"175.0\" y=\"-150.0\" width=\"12.5\" height=\"25.0\" opacity=\"0.027201051248357422\" fill=\"currentColor\" stroke-width=\"0.1\"/>\n",
       "<rect x=\"187.5\" y=\"-150.0\" width=\"12.5\" height=\"25.0\" opacity=\"0.01800262812089356\" fill=\"currentColor\" stroke-width=\"0.1\"/>\n",
       "<rect x=\"200.0\" y=\"-150.0\" width=\"12.5\" height=\"25.0\" opacity=\"0.020105124835742443\" fill=\"currentColor\" stroke-width=\"0.1\"/>\n",
       "<rect x=\"212.5\" y=\"-150.0\" width=\"12.5\" height=\"25.0\" opacity=\"0.016557161629434953\" fill=\"currentColor\" stroke-width=\"0.1\"/>\n",
       "<rect x=\"225.0\" y=\"-150.0\" width=\"12.5\" height=\"25.0\" opacity=\"0.011957950065703021\" fill=\"currentColor\" stroke-width=\"0.1\"/>\n",
       "<rect x=\"237.5\" y=\"-150.0\" width=\"12.5\" height=\"25.0\" opacity=\"0.009986859395532193\" fill=\"currentColor\" stroke-width=\"0.1\"/>\n",
       "<rect x=\"0.0\" y=\"-175.0\" width=\"12.5\" height=\"25.0\" opacity=\"0.1155059132720105\" fill=\"currentColor\" stroke-width=\"0.1\"/>\n",
       "<rect x=\"12.5\" y=\"-175.0\" width=\"12.5\" height=\"25.0\" opacity=\"0.6420499342969777\" fill=\"currentColor\" stroke-width=\"0.1\"/>\n",
       "<rect x=\"25.0\" y=\"-175.0\" width=\"12.5\" height=\"25.0\" opacity=\"0.6871222076215505\" fill=\"currentColor\" stroke-width=\"0.1\"/>\n",
       "<rect x=\"37.5\" y=\"-175.0\" width=\"12.5\" height=\"25.0\" opacity=\"0.5773981603153745\" fill=\"currentColor\" stroke-width=\"0.1\"/>\n",
       "<rect x=\"50.0\" y=\"-175.0\" width=\"12.5\" height=\"25.0\" opacity=\"0.4281208935611037\" fill=\"currentColor\" stroke-width=\"0.1\"/>\n",
       "<rect x=\"62.5\" y=\"-175.0\" width=\"12.5\" height=\"25.0\" opacity=\"0.30328515111695137\" fill=\"currentColor\" stroke-width=\"0.1\"/>\n",
       "<rect x=\"75.0\" y=\"-175.0\" width=\"12.5\" height=\"25.0\" opacity=\"0.20604467805519053\" fill=\"currentColor\" stroke-width=\"0.1\"/>\n",
       "<rect x=\"87.5\" y=\"-175.0\" width=\"12.5\" height=\"25.0\" opacity=\"0.15663600525624177\" fill=\"currentColor\" stroke-width=\"0.1\"/>\n",
       "<rect x=\"100.0\" y=\"-175.0\" width=\"12.5\" height=\"25.0\" opacity=\"0.10985545335085413\" fill=\"currentColor\" stroke-width=\"0.1\"/>\n",
       "<rect x=\"112.5\" y=\"-175.0\" width=\"12.5\" height=\"25.0\" opacity=\"0.07293035479632062\" fill=\"currentColor\" stroke-width=\"0.1\"/>\n",
       "<rect x=\"125.0\" y=\"-175.0\" width=\"12.5\" height=\"25.0\" opacity=\"0.04954007884362674\" fill=\"currentColor\" stroke-width=\"0.1\"/>\n",
       "<rect x=\"137.5\" y=\"-175.0\" width=\"12.5\" height=\"25.0\" opacity=\"0.03968462549277273\" fill=\"currentColor\" stroke-width=\"0.1\"/>\n",
       "<rect x=\"150.0\" y=\"-175.0\" width=\"12.5\" height=\"25.0\" opacity=\"0.029829172141918523\" fill=\"currentColor\" stroke-width=\"0.1\"/>\n",
       "<rect x=\"162.5\" y=\"-175.0\" width=\"12.5\" height=\"25.0\" opacity=\"0.022733245729303544\" fill=\"currentColor\" stroke-width=\"0.1\"/>\n",
       "<rect x=\"175.0\" y=\"-175.0\" width=\"12.5\" height=\"25.0\" opacity=\"0.016162943495400785\" fill=\"currentColor\" stroke-width=\"0.1\"/>\n",
       "<rect x=\"187.5\" y=\"-175.0\" width=\"12.5\" height=\"25.0\" opacity=\"0.011563731931668857\" fill=\"currentColor\" stroke-width=\"0.1\"/>\n",
       "<rect x=\"200.0\" y=\"-175.0\" width=\"12.5\" height=\"25.0\" opacity=\"0.008015768725361366\" fill=\"currentColor\" stroke-width=\"0.1\"/>\n",
       "<rect x=\"212.5\" y=\"-175.0\" width=\"12.5\" height=\"25.0\" opacity=\"0.005781865965834429\" fill=\"currentColor\" stroke-width=\"0.1\"/>\n",
       "<rect x=\"225.0\" y=\"-175.0\" width=\"12.5\" height=\"25.0\" opacity=\"0.006044678055190538\" fill=\"currentColor\" stroke-width=\"0.1\"/>\n",
       "<rect x=\"237.5\" y=\"-175.0\" width=\"12.5\" height=\"25.0\" opacity=\"0.0051248357424441525\" fill=\"currentColor\" stroke-width=\"0.1\"/>\n",
       "<rect x=\"0.0\" y=\"-200.0\" width=\"12.5\" height=\"25.0\" opacity=\"0.06675427069645196\" fill=\"currentColor\" stroke-width=\"0.1\"/>\n",
       "<rect x=\"12.5\" y=\"-200.0\" width=\"12.5\" height=\"25.0\" opacity=\"0.35532194480946083\" fill=\"currentColor\" stroke-width=\"0.1\"/>\n",
       "<rect x=\"25.0\" y=\"-200.0\" width=\"12.5\" height=\"25.0\" opacity=\"0.32076215505913236\" fill=\"currentColor\" stroke-width=\"0.1\"/>\n",
       "<rect x=\"37.5\" y=\"-200.0\" width=\"12.5\" height=\"25.0\" opacity=\"0.24914586070959235\" fill=\"currentColor\" stroke-width=\"0.1\"/>\n",
       "<rect x=\"50.0\" y=\"-200.0\" width=\"12.5\" height=\"25.0\" opacity=\"0.16977660972404712\" fill=\"currentColor\" stroke-width=\"0.1\"/>\n",
       "<rect x=\"62.5\" y=\"-200.0\" width=\"12.5\" height=\"25.0\" opacity=\"0.12444152431011812\" fill=\"currentColor\" stroke-width=\"0.1\"/>\n",
       "<rect x=\"75.0\" y=\"-200.0\" width=\"12.5\" height=\"25.0\" opacity=\"0.08344283837056496\" fill=\"currentColor\" stroke-width=\"0.1\"/>\n",
       "<rect x=\"87.5\" y=\"-200.0\" width=\"12.5\" height=\"25.0\" opacity=\"0.05387647831800257\" fill=\"currentColor\" stroke-width=\"0.1\"/>\n",
       "<rect x=\"100.0\" y=\"-200.0\" width=\"12.5\" height=\"25.0\" opacity=\"0.0324572930354796\" fill=\"currentColor\" stroke-width=\"0.1\"/>\n",
       "<rect x=\"112.5\" y=\"-200.0\" width=\"12.5\" height=\"25.0\" opacity=\"0.024704336399474346\" fill=\"currentColor\" stroke-width=\"0.1\"/>\n",
       "<rect x=\"125.0\" y=\"-200.0\" width=\"12.5\" height=\"25.0\" opacity=\"0.017082785808147132\" fill=\"currentColor\" stroke-width=\"0.1\"/>\n",
       "<rect x=\"137.5\" y=\"-200.0\" width=\"12.5\" height=\"25.0\" opacity=\"0.012220762155059137\" fill=\"currentColor\" stroke-width=\"0.1\"/>\n",
       "<rect x=\"150.0\" y=\"-200.0\" width=\"12.5\" height=\"25.0\" opacity=\"0.009198423127463853\" fill=\"currentColor\" stroke-width=\"0.1\"/>\n",
       "<rect x=\"162.5\" y=\"-200.0\" width=\"12.5\" height=\"25.0\" opacity=\"0.005256241787122202\" fill=\"currentColor\" stroke-width=\"0.1\"/>\n",
       "<rect x=\"175.0\" y=\"-200.0\" width=\"12.5\" height=\"25.0\" opacity=\"0.0021024967148488807\" fill=\"currentColor\" stroke-width=\"0.1\"/>\n",
       "<rect x=\"187.5\" y=\"-200.0\" width=\"12.5\" height=\"25.0\" opacity=\"0.0030223390275952657\" fill=\"currentColor\" stroke-width=\"0.1\"/>\n",
       "<rect x=\"200.0\" y=\"-200.0\" width=\"12.5\" height=\"25.0\" opacity=\"0.0021024967148488807\" fill=\"currentColor\" stroke-width=\"0.1\"/>\n",
       "<rect x=\"212.5\" y=\"-200.0\" width=\"12.5\" height=\"25.0\" opacity=\"0.0017082785808147155\" fill=\"currentColor\" stroke-width=\"0.1\"/>\n",
       "<rect x=\"225.0\" y=\"-200.0\" width=\"12.5\" height=\"25.0\" opacity=\"0.0006570302233902752\" fill=\"currentColor\" stroke-width=\"0.1\"/>\n",
       "<rect x=\"237.5\" y=\"-200.0\" width=\"12.5\" height=\"25.0\" opacity=\"0.0005256241787122202\" fill=\"currentColor\" stroke-width=\"0.1\"/>\n",
       "<rect x=\"0.0\" y=\"-225.0\" width=\"12.5\" height=\"25.0\" opacity=\"0.014060446780551905\" fill=\"currentColor\" stroke-width=\"0.1\"/>\n",
       "<rect x=\"12.5\" y=\"-225.0\" width=\"12.5\" height=\"25.0\" opacity=\"0.06727989487516425\" fill=\"currentColor\" stroke-width=\"0.1\"/>\n",
       "<rect x=\"25.0\" y=\"-225.0\" width=\"12.5\" height=\"25.0\" opacity=\"0.050985545335085404\" fill=\"currentColor\" stroke-width=\"0.1\"/>\n",
       "<rect x=\"37.5\" y=\"-225.0\" width=\"12.5\" height=\"25.0\" opacity=\"0.03574244415243101\" fill=\"currentColor\" stroke-width=\"0.1\"/>\n",
       "<rect x=\"50.0\" y=\"-225.0\" width=\"12.5\" height=\"25.0\" opacity=\"0.023915900131406043\" fill=\"currentColor\" stroke-width=\"0.1\"/>\n",
       "<rect x=\"62.5\" y=\"-225.0\" width=\"12.5\" height=\"25.0\" opacity=\"0.0126149802890933\" fill=\"currentColor\" stroke-width=\"0.1\"/>\n",
       "<rect x=\"75.0\" y=\"-225.0\" width=\"12.5\" height=\"25.0\" opacity=\"0.006833114323258869\" fill=\"currentColor\" stroke-width=\"0.1\"/>\n",
       "<rect x=\"87.5\" y=\"-225.0\" width=\"12.5\" height=\"25.0\" opacity=\"0.004730617608409986\" fill=\"currentColor\" stroke-width=\"0.1\"/>\n",
       "<rect x=\"100.0\" y=\"-225.0\" width=\"12.5\" height=\"25.0\" opacity=\"0.0027595269382391587\" fill=\"currentColor\" stroke-width=\"0.1\"/>\n",
       "<rect x=\"112.5\" y=\"-225.0\" width=\"12.5\" height=\"25.0\" opacity=\"0.002233902759526938\" fill=\"currentColor\" stroke-width=\"0.1\"/>\n",
       "<rect x=\"125.0\" y=\"-225.0\" width=\"12.5\" height=\"25.0\" opacity=\"0.0005256241787122201\" fill=\"currentColor\" stroke-width=\"0.1\"/>\n",
       "<rect x=\"137.5\" y=\"-225.0\" width=\"12.5\" height=\"25.0\" opacity=\"0.00026281208935611074\" fill=\"currentColor\" stroke-width=\"0.1\"/>\n",
       "<rect x=\"150.0\" y=\"-225.0\" width=\"12.5\" height=\"25.0\" opacity=\"0.00026281208935611036\" fill=\"currentColor\" stroke-width=\"0.1\"/>\n",
       "<rect x=\"162.5\" y=\"-225.0\" width=\"12.5\" height=\"25.0\" opacity=\"0.0003942181340341656\" fill=\"currentColor\" stroke-width=\"0.1\"/>\n",
       "<rect x=\"175.0\" y=\"-225.0\" width=\"12.5\" height=\"25.0\" opacity=\"0.0\" fill=\"currentColor\" stroke-width=\"0.1\"/>\n",
       "<rect x=\"187.5\" y=\"-225.0\" width=\"12.5\" height=\"25.0\" opacity=\"0.0\" fill=\"currentColor\" stroke-width=\"0.1\"/>\n",
       "<rect x=\"200.0\" y=\"-225.0\" width=\"12.5\" height=\"25.0\" opacity=\"0.0\" fill=\"currentColor\" stroke-width=\"0.1\"/>\n",
       "<rect x=\"212.5\" y=\"-225.0\" width=\"12.5\" height=\"25.0\" opacity=\"0.0\" fill=\"currentColor\" stroke-width=\"0.1\"/>\n",
       "<rect x=\"225.0\" y=\"-225.0\" width=\"12.5\" height=\"25.0\" opacity=\"0.0\" fill=\"currentColor\" stroke-width=\"0.1\"/>\n",
       "<rect x=\"237.5\" y=\"-225.0\" width=\"12.5\" height=\"25.0\" opacity=\"0.0\" fill=\"currentColor\" stroke-width=\"0.1\"/>\n",
       "<rect x=\"0.0\" y=\"-250.0\" width=\"12.5\" height=\"25.0\" opacity=\"0.0\" fill=\"currentColor\" stroke-width=\"0.1\"/>\n",
       "<rect x=\"12.5\" y=\"-250.0\" width=\"12.5\" height=\"25.0\" opacity=\"0.0\" fill=\"currentColor\" stroke-width=\"0.1\"/>\n",
       "<rect x=\"25.0\" y=\"-250.0\" width=\"12.5\" height=\"25.0\" opacity=\"0.0\" fill=\"currentColor\" stroke-width=\"0.1\"/>\n",
       "<rect x=\"37.5\" y=\"-250.0\" width=\"12.5\" height=\"25.0\" opacity=\"0.0\" fill=\"currentColor\" stroke-width=\"0.1\"/>\n",
       "<rect x=\"50.0\" y=\"-250.0\" width=\"12.5\" height=\"25.0\" opacity=\"0.0\" fill=\"currentColor\" stroke-width=\"0.1\"/>\n",
       "<rect x=\"62.5\" y=\"-250.0\" width=\"12.5\" height=\"25.0\" opacity=\"0.0\" fill=\"currentColor\" stroke-width=\"0.1\"/>\n",
       "<rect x=\"75.0\" y=\"-250.0\" width=\"12.5\" height=\"25.0\" opacity=\"0.0\" fill=\"currentColor\" stroke-width=\"0.1\"/>\n",
       "<rect x=\"87.5\" y=\"-250.0\" width=\"12.5\" height=\"25.0\" opacity=\"0.0\" fill=\"currentColor\" stroke-width=\"0.1\"/>\n",
       "<rect x=\"100.0\" y=\"-250.0\" width=\"12.5\" height=\"25.0\" opacity=\"0.0\" fill=\"currentColor\" stroke-width=\"0.1\"/>\n",
       "<rect x=\"112.5\" y=\"-250.0\" width=\"12.5\" height=\"25.0\" opacity=\"0.0\" fill=\"currentColor\" stroke-width=\"0.1\"/>\n",
       "<rect x=\"125.0\" y=\"-250.0\" width=\"12.5\" height=\"25.0\" opacity=\"0.0\" fill=\"currentColor\" stroke-width=\"0.1\"/>\n",
       "<rect x=\"137.5\" y=\"-250.0\" width=\"12.5\" height=\"25.0\" opacity=\"0.0\" fill=\"currentColor\" stroke-width=\"0.1\"/>\n",
       "<rect x=\"150.0\" y=\"-250.0\" width=\"12.5\" height=\"25.0\" opacity=\"0.0\" fill=\"currentColor\" stroke-width=\"0.1\"/>\n",
       "<rect x=\"162.5\" y=\"-250.0\" width=\"12.5\" height=\"25.0\" opacity=\"0.0\" fill=\"currentColor\" stroke-width=\"0.1\"/>\n",
       "<rect x=\"175.0\" y=\"-250.0\" width=\"12.5\" height=\"25.0\" opacity=\"0.0\" fill=\"currentColor\" stroke-width=\"0.1\"/>\n",
       "<rect x=\"187.5\" y=\"-250.0\" width=\"12.5\" height=\"25.0\" opacity=\"0.0\" fill=\"currentColor\" stroke-width=\"0.1\"/>\n",
       "<rect x=\"200.0\" y=\"-250.0\" width=\"12.5\" height=\"25.0\" opacity=\"0.0\" fill=\"currentColor\" stroke-width=\"0.1\"/>\n",
       "<rect x=\"212.5\" y=\"-250.0\" width=\"12.5\" height=\"25.0\" opacity=\"0.0\" fill=\"currentColor\" stroke-width=\"0.1\"/>\n",
       "<rect x=\"225.0\" y=\"-250.0\" width=\"12.5\" height=\"25.0\" opacity=\"0.0\" fill=\"currentColor\" stroke-width=\"0.1\"/>\n",
       "<rect x=\"237.5\" y=\"-250.0\" width=\"12.5\" height=\"25.0\" opacity=\"0.0\" fill=\"currentColor\" stroke-width=\"0.1\"/>\n",
       "</svg>\n",
       "</div>\n",
       "<div style=\"flex=grow:1;\">\n",
       "Regular(20, 0, 400, underflow=False, name='pt')<br/>\n",
       "Regular(10, -4, 4, underflow=False, overflow=False, name='eta')<br/>\n",
       "<hr style=\"margin-top:.2em; margin-bottom:.2em;\"/>\n",
       "Weight() Σ=WeightedSum(value=161101, variance=161101) <em>(WeightedSum(value=162336, variance=162336) with flow)</em>\n",
       "\n",
       "</div>\n",
       "</div>\n",
       "</html>"
      ],
      "text/plain": [
       "Hist(\n",
       "  Regular(20, 0, 400, underflow=False, name='pt'),\n",
       "  Regular(10, -4, 4, underflow=False, overflow=False, name='eta'),\n",
       "  storage=Weight()) # Sum: WeightedSum(value=161101, variance=161101) (WeightedSum(value=162336, variance=162336) with flow)"
      ]
     },
     "execution_count": 20,
     "metadata": {},
     "output_type": "execute_result"
    }
   ],
   "source": [
    "btagged[{\"flavour\":2}]"
   ]
  },
  {
   "cell_type": "code",
   "execution_count": 21,
   "id": "d9ccf680-e81e-48e9-9f22-a7cc3f003b94",
   "metadata": {
    "tags": []
   },
   "outputs": [
    {
     "data": {
      "text/html": [
       "<html>\n",
       "<div style=\"display:flex; align-items:center;\">\n",
       "<div style=\"width:290px;\">\n",
       "<svg xmlns=\"http://www.w3.org/2000/svg\" viewBox=\"-20 -270 290 290\">\n",
       "<text text-anchor=\"middle\" x=\"0\" y=\"13\" style=\"fill:currentColor;\">\n",
       "0\n",
       "</text>\n",
       "<text text-anchor=\"middle\" x=\"250\" y=\"13\" style=\"fill:currentColor;\">\n",
       "400\n",
       "</text>\n",
       "<text text-anchor=\"middle\" x=\"-10\" y=\"0\" style=\"fill:currentColor;\">\n",
       "-4\n",
       "</text>\n",
       "<text text-anchor=\"middle\" x=\"-10\" y=\"-250\" style=\"fill:currentColor;\">\n",
       "4\n",
       "</text>\n",
       "<text text-anchor=\"middle\" x=\"125.0\" y=\"13\" style=\"fill:currentColor;\">\n",
       "pt\n",
       "</text>\n",
       "<text text-anchor=\"middle\" x=\"-10\" y=\"-125.0\" transform=\"rotate(-90,-10,-125.0)\" style=\"fill:currentColor;\">\n",
       "eta\n",
       "</text>\n",
       "<rect x=\"0.0\" y=\"-24.999999999999993\" width=\"12.5\" height=\"25.0\" opacity=\"0.017561189770606958\" fill=\"currentColor\" stroke-width=\"0.1\"/>\n",
       "<rect x=\"12.5\" y=\"-24.999999999999993\" width=\"12.5\" height=\"25.0\" opacity=\"0.045549335967511796\" fill=\"currentColor\" stroke-width=\"0.1\"/>\n",
       "<rect x=\"25.0\" y=\"-24.999999999999993\" width=\"12.5\" height=\"25.0\" opacity=\"0.020085610800131708\" fill=\"currentColor\" stroke-width=\"0.1\"/>\n",
       "<rect x=\"37.5\" y=\"-24.999999999999993\" width=\"12.5\" height=\"25.0\" opacity=\"0.008231807704972012\" fill=\"currentColor\" stroke-width=\"0.1\"/>\n",
       "<rect x=\"50.0\" y=\"-24.999999999999993\" width=\"12.5\" height=\"25.0\" opacity=\"0.002963450773789924\" fill=\"currentColor\" stroke-width=\"0.1\"/>\n",
       "<rect x=\"62.5\" y=\"-24.999999999999993\" width=\"12.5\" height=\"25.0\" opacity=\"0.0013170892327955218\" fill=\"currentColor\" stroke-width=\"0.1\"/>\n",
       "<rect x=\"75.0\" y=\"-24.999999999999993\" width=\"12.5\" height=\"25.0\" opacity=\"0.0007683020524640545\" fill=\"currentColor\" stroke-width=\"0.1\"/>\n",
       "<rect x=\"87.5\" y=\"-24.999999999999993\" width=\"12.5\" height=\"25.0\" opacity=\"0.00010975743606629348\" fill=\"currentColor\" stroke-width=\"0.1\"/>\n",
       "<rect x=\"100.0\" y=\"-24.999999999999993\" width=\"12.5\" height=\"25.0\" opacity=\"0.00010975743606629348\" fill=\"currentColor\" stroke-width=\"0.1\"/>\n",
       "<rect x=\"112.5\" y=\"-24.999999999999993\" width=\"12.5\" height=\"25.0\" opacity=\"0.00010975743606629348\" fill=\"currentColor\" stroke-width=\"0.1\"/>\n",
       "<rect x=\"125.0\" y=\"-24.999999999999993\" width=\"12.5\" height=\"25.0\" opacity=\"0.0\" fill=\"currentColor\" stroke-width=\"0.1\"/>\n",
       "<rect x=\"137.5\" y=\"-24.999999999999993\" width=\"12.5\" height=\"25.0\" opacity=\"0.0\" fill=\"currentColor\" stroke-width=\"0.1\"/>\n",
       "<rect x=\"150.0\" y=\"-24.999999999999993\" width=\"12.5\" height=\"25.0\" opacity=\"0.0\" fill=\"currentColor\" stroke-width=\"0.1\"/>\n",
       "<rect x=\"162.5\" y=\"-24.999999999999993\" width=\"12.5\" height=\"25.0\" opacity=\"0.0\" fill=\"currentColor\" stroke-width=\"0.1\"/>\n",
       "<rect x=\"175.0\" y=\"-24.999999999999993\" width=\"12.5\" height=\"25.0\" opacity=\"0.0\" fill=\"currentColor\" stroke-width=\"0.1\"/>\n",
       "<rect x=\"187.5\" y=\"-24.999999999999993\" width=\"12.5\" height=\"25.0\" opacity=\"0.0\" fill=\"currentColor\" stroke-width=\"0.1\"/>\n",
       "<rect x=\"200.0\" y=\"-24.999999999999993\" width=\"12.5\" height=\"25.0\" opacity=\"0.0\" fill=\"currentColor\" stroke-width=\"0.1\"/>\n",
       "<rect x=\"212.5\" y=\"-24.999999999999993\" width=\"12.5\" height=\"25.0\" opacity=\"0.0\" fill=\"currentColor\" stroke-width=\"0.1\"/>\n",
       "<rect x=\"225.0\" y=\"-24.999999999999993\" width=\"12.5\" height=\"25.0\" opacity=\"0.0\" fill=\"currentColor\" stroke-width=\"0.1\"/>\n",
       "<rect x=\"237.5\" y=\"-24.999999999999993\" width=\"12.5\" height=\"25.0\" opacity=\"0.0\" fill=\"currentColor\" stroke-width=\"0.1\"/>\n",
       "<rect x=\"0.0\" y=\"-49.999999999999986\" width=\"12.5\" height=\"25.0\" opacity=\"0.051476237515091644\" fill=\"currentColor\" stroke-width=\"0.1\"/>\n",
       "<rect x=\"12.5\" y=\"-49.999999999999986\" width=\"12.5\" height=\"25.0\" opacity=\"0.1669410602568324\" fill=\"currentColor\" stroke-width=\"0.1\"/>\n",
       "<rect x=\"25.0\" y=\"-49.999999999999986\" width=\"12.5\" height=\"25.0\" opacity=\"0.11897706069586214\" fill=\"currentColor\" stroke-width=\"0.1\"/>\n",
       "<rect x=\"37.5\" y=\"-49.999999999999986\" width=\"12.5\" height=\"25.0\" opacity=\"0.0690374272856986\" fill=\"currentColor\" stroke-width=\"0.1\"/>\n",
       "<rect x=\"50.0\" y=\"-49.999999999999986\" width=\"12.5\" height=\"25.0\" opacity=\"0.03863461749533531\" fill=\"currentColor\" stroke-width=\"0.1\"/>\n",
       "<rect x=\"62.5\" y=\"-49.999999999999986\" width=\"12.5\" height=\"25.0\" opacity=\"0.023158819009987924\" fill=\"currentColor\" stroke-width=\"0.1\"/>\n",
       "<rect x=\"75.0\" y=\"-49.999999999999986\" width=\"12.5\" height=\"25.0\" opacity=\"0.013609922072220391\" fill=\"currentColor\" stroke-width=\"0.1\"/>\n",
       "<rect x=\"87.5\" y=\"-49.999999999999986\" width=\"12.5\" height=\"25.0\" opacity=\"0.008561080013170892\" fill=\"currentColor\" stroke-width=\"0.1\"/>\n",
       "<rect x=\"100.0\" y=\"-49.999999999999986\" width=\"12.5\" height=\"25.0\" opacity=\"0.005378114367248381\" fill=\"currentColor\" stroke-width=\"0.1\"/>\n",
       "<rect x=\"112.5\" y=\"-49.999999999999986\" width=\"12.5\" height=\"25.0\" opacity=\"0.002963450773789924\" fill=\"currentColor\" stroke-width=\"0.1\"/>\n",
       "<rect x=\"125.0\" y=\"-49.999999999999986\" width=\"12.5\" height=\"25.0\" opacity=\"0.0018658764131269864\" fill=\"currentColor\" stroke-width=\"0.1\"/>\n",
       "<rect x=\"137.5\" y=\"-49.999999999999986\" width=\"12.5\" height=\"25.0\" opacity=\"0.0014268466688618173\" fill=\"currentColor\" stroke-width=\"0.1\"/>\n",
       "<rect x=\"150.0\" y=\"-49.999999999999986\" width=\"12.5\" height=\"25.0\" opacity=\"0.00032927230819888045\" fill=\"currentColor\" stroke-width=\"0.1\"/>\n",
       "<rect x=\"162.5\" y=\"-49.999999999999986\" width=\"12.5\" height=\"25.0\" opacity=\"0.00010975743606629348\" fill=\"currentColor\" stroke-width=\"0.1\"/>\n",
       "<rect x=\"175.0\" y=\"-49.999999999999986\" width=\"12.5\" height=\"25.0\" opacity=\"0.0004390297442651739\" fill=\"currentColor\" stroke-width=\"0.1\"/>\n",
       "<rect x=\"187.5\" y=\"-49.999999999999986\" width=\"12.5\" height=\"25.0\" opacity=\"0.0\" fill=\"currentColor\" stroke-width=\"0.1\"/>\n",
       "<rect x=\"200.0\" y=\"-49.999999999999986\" width=\"12.5\" height=\"25.0\" opacity=\"0.00021951487213258696\" fill=\"currentColor\" stroke-width=\"0.1\"/>\n",
       "<rect x=\"212.5\" y=\"-49.999999999999986\" width=\"12.5\" height=\"25.0\" opacity=\"0.00010975743606629348\" fill=\"currentColor\" stroke-width=\"0.1\"/>\n",
       "<rect x=\"225.0\" y=\"-49.999999999999986\" width=\"12.5\" height=\"25.0\" opacity=\"0.00021951487213258696\" fill=\"currentColor\" stroke-width=\"0.1\"/>\n",
       "<rect x=\"237.5\" y=\"-49.999999999999986\" width=\"12.5\" height=\"25.0\" opacity=\"0.0\" fill=\"currentColor\" stroke-width=\"0.1\"/>\n",
       "<rect x=\"0.0\" y=\"-75.00000000000001\" width=\"12.5\" height=\"25.0\" opacity=\"0.0925255186038853\" fill=\"currentColor\" stroke-width=\"0.1\"/>\n",
       "<rect x=\"12.5\" y=\"-75.00000000000001\" width=\"12.5\" height=\"25.0\" opacity=\"0.40895620678300915\" fill=\"currentColor\" stroke-width=\"0.1\"/>\n",
       "<rect x=\"25.0\" y=\"-75.00000000000001\" width=\"12.5\" height=\"25.0\" opacity=\"0.3647239600482929\" fill=\"currentColor\" stroke-width=\"0.1\"/>\n",
       "<rect x=\"37.5\" y=\"-75.00000000000001\" width=\"12.5\" height=\"25.0\" opacity=\"0.26901547579848506\" fill=\"currentColor\" stroke-width=\"0.1\"/>\n",
       "<rect x=\"50.0\" y=\"-75.00000000000001\" width=\"12.5\" height=\"25.0\" opacity=\"0.17956316540445597\" fill=\"currentColor\" stroke-width=\"0.1\"/>\n",
       "<rect x=\"62.5\" y=\"-75.00000000000001\" width=\"12.5\" height=\"25.0\" opacity=\"0.12622105147623738\" fill=\"currentColor\" stroke-width=\"0.1\"/>\n",
       "<rect x=\"75.0\" y=\"-75.00000000000001\" width=\"12.5\" height=\"25.0\" opacity=\"0.09033036988255944\" fill=\"currentColor\" stroke-width=\"0.1\"/>\n",
       "<rect x=\"87.5\" y=\"-75.00000000000001\" width=\"12.5\" height=\"25.0\" opacity=\"0.057073866754472555\" fill=\"currentColor\" stroke-width=\"0.1\"/>\n",
       "<rect x=\"100.0\" y=\"-75.00000000000001\" width=\"12.5\" height=\"25.0\" opacity=\"0.03731752826253975\" fill=\"currentColor\" stroke-width=\"0.1\"/>\n",
       "<rect x=\"112.5\" y=\"-75.00000000000001\" width=\"12.5\" height=\"25.0\" opacity=\"0.02436615080671713\" fill=\"currentColor\" stroke-width=\"0.1\"/>\n",
       "<rect x=\"125.0\" y=\"-75.00000000000001\" width=\"12.5\" height=\"25.0\" opacity=\"0.01909779387553502\" fill=\"currentColor\" stroke-width=\"0.1\"/>\n",
       "<rect x=\"137.5\" y=\"-75.00000000000001\" width=\"12.5\" height=\"25.0\" opacity=\"0.010536713862364178\" fill=\"currentColor\" stroke-width=\"0.1\"/>\n",
       "<rect x=\"150.0\" y=\"-75.00000000000001\" width=\"12.5\" height=\"25.0\" opacity=\"0.0073537482164416565\" fill=\"currentColor\" stroke-width=\"0.1\"/>\n",
       "<rect x=\"162.5\" y=\"-75.00000000000001\" width=\"12.5\" height=\"25.0\" opacity=\"0.004390297442651735\" fill=\"currentColor\" stroke-width=\"0.1\"/>\n",
       "<rect x=\"175.0\" y=\"-75.00000000000001\" width=\"12.5\" height=\"25.0\" opacity=\"0.003073208209856215\" fill=\"currentColor\" stroke-width=\"0.1\"/>\n",
       "<rect x=\"187.5\" y=\"-75.00000000000001\" width=\"12.5\" height=\"25.0\" opacity=\"0.0025244210295247474\" fill=\"currentColor\" stroke-width=\"0.1\"/>\n",
       "<rect x=\"200.0\" y=\"-75.00000000000001\" width=\"12.5\" height=\"25.0\" opacity=\"0.0021951487213258676\" fill=\"currentColor\" stroke-width=\"0.1\"/>\n",
       "<rect x=\"212.5\" y=\"-75.00000000000001\" width=\"12.5\" height=\"25.0\" opacity=\"0.0008780594885303471\" fill=\"currentColor\" stroke-width=\"0.1\"/>\n",
       "<rect x=\"225.0\" y=\"-75.00000000000001\" width=\"12.5\" height=\"25.0\" opacity=\"0.0007683020524640537\" fill=\"currentColor\" stroke-width=\"0.1\"/>\n",
       "<rect x=\"237.5\" y=\"-75.00000000000001\" width=\"12.5\" height=\"25.0\" opacity=\"0.0005487871803314669\" fill=\"currentColor\" stroke-width=\"0.1\"/>\n",
       "<rect x=\"0.0\" y=\"-100.0\" width=\"12.5\" height=\"25.0\" opacity=\"0.1558555592141367\" fill=\"currentColor\" stroke-width=\"0.1\"/>\n",
       "<rect x=\"12.5\" y=\"-100.0\" width=\"12.5\" height=\"25.0\" opacity=\"0.724508835473603\" fill=\"currentColor\" stroke-width=\"0.1\"/>\n",
       "<rect x=\"25.0\" y=\"-100.0\" width=\"12.5\" height=\"25.0\" opacity=\"0.720338052903084\" fill=\"currentColor\" stroke-width=\"0.1\"/>\n",
       "<rect x=\"37.5\" y=\"-100.0\" width=\"12.5\" height=\"25.0\" opacity=\"0.5901657337284599\" fill=\"currentColor\" stroke-width=\"0.1\"/>\n",
       "<rect x=\"50.0\" y=\"-100.0\" width=\"12.5\" height=\"25.0\" opacity=\"0.4387004719569749\" fill=\"currentColor\" stroke-width=\"0.1\"/>\n",
       "<rect x=\"62.5\" y=\"-100.0\" width=\"12.5\" height=\"25.0\" opacity=\"0.30874766765448347\" fill=\"currentColor\" stroke-width=\"0.1\"/>\n",
       "<rect x=\"75.0\" y=\"-100.0\" width=\"12.5\" height=\"25.0\" opacity=\"0.21578311930633293\" fill=\"currentColor\" stroke-width=\"0.1\"/>\n",
       "<rect x=\"87.5\" y=\"-100.0\" width=\"12.5\" height=\"25.0\" opacity=\"0.15519701459773894\" fill=\"currentColor\" stroke-width=\"0.1\"/>\n",
       "<rect x=\"100.0\" y=\"-100.0\" width=\"12.5\" height=\"25.0\" opacity=\"0.10295247503018326\" fill=\"currentColor\" stroke-width=\"0.1\"/>\n",
       "<rect x=\"112.5\" y=\"-100.0\" width=\"12.5\" height=\"25.0\" opacity=\"0.07781802217100206\" fill=\"currentColor\" stroke-width=\"0.1\"/>\n",
       "<rect x=\"125.0\" y=\"-100.0\" width=\"12.5\" height=\"25.0\" opacity=\"0.05608604982987586\" fill=\"currentColor\" stroke-width=\"0.1\"/>\n",
       "<rect x=\"137.5\" y=\"-100.0\" width=\"12.5\" height=\"25.0\" opacity=\"0.041488310833058976\" fill=\"currentColor\" stroke-width=\"0.1\"/>\n",
       "<rect x=\"150.0\" y=\"-100.0\" width=\"12.5\" height=\"25.0\" opacity=\"0.029195477993634058\" fill=\"currentColor\" stroke-width=\"0.1\"/>\n",
       "<rect x=\"162.5\" y=\"-100.0\" width=\"12.5\" height=\"25.0\" opacity=\"0.021841729777192398\" fill=\"currentColor\" stroke-width=\"0.1\"/>\n",
       "<rect x=\"175.0\" y=\"-100.0\" width=\"12.5\" height=\"25.0\" opacity=\"0.0167928877181429\" fill=\"currentColor\" stroke-width=\"0.1\"/>\n",
       "<rect x=\"187.5\" y=\"-100.0\" width=\"12.5\" height=\"25.0\" opacity=\"0.0117440456590934\" fill=\"currentColor\" stroke-width=\"0.1\"/>\n",
       "<rect x=\"200.0\" y=\"-100.0\" width=\"12.5\" height=\"25.0\" opacity=\"0.00856108001317089\" fill=\"currentColor\" stroke-width=\"0.1\"/>\n",
       "<rect x=\"212.5\" y=\"-100.0\" width=\"12.5\" height=\"25.0\" opacity=\"0.006475688727911313\" fill=\"currentColor\" stroke-width=\"0.1\"/>\n",
       "<rect x=\"225.0\" y=\"-100.0\" width=\"12.5\" height=\"25.0\" opacity=\"0.006475688727911313\" fill=\"currentColor\" stroke-width=\"0.1\"/>\n",
       "<rect x=\"237.5\" y=\"-100.0\" width=\"12.5\" height=\"25.0\" opacity=\"0.0031829656459225098\" fill=\"currentColor\" stroke-width=\"0.1\"/>\n",
       "<rect x=\"0.0\" y=\"-125.0\" width=\"12.5\" height=\"25.0\" opacity=\"0.17901437822412467\" fill=\"currentColor\" stroke-width=\"0.1\"/>\n",
       "<rect x=\"12.5\" y=\"-125.0\" width=\"12.5\" height=\"25.0\" opacity=\"0.9159258039732192\" fill=\"currentColor\" stroke-width=\"0.1\"/>\n",
       "<rect x=\"25.0\" y=\"-125.0\" width=\"12.5\" height=\"25.0\" opacity=\"1.0\" fill=\"currentColor\" stroke-width=\"0.1\"/>\n",
       "<rect x=\"37.5\" y=\"-125.0\" width=\"12.5\" height=\"25.0\" opacity=\"0.8433761387333991\" fill=\"currentColor\" stroke-width=\"0.1\"/>\n",
       "<rect x=\"50.0\" y=\"-125.0\" width=\"12.5\" height=\"25.0\" opacity=\"0.6470200856108\" fill=\"currentColor\" stroke-width=\"0.1\"/>\n",
       "<rect x=\"62.5\" y=\"-125.0\" width=\"12.5\" height=\"25.0\" opacity=\"0.45538360223905167\" fill=\"currentColor\" stroke-width=\"0.1\"/>\n",
       "<rect x=\"75.0\" y=\"-125.0\" width=\"12.5\" height=\"25.0\" opacity=\"0.34507737899242674\" fill=\"currentColor\" stroke-width=\"0.1\"/>\n",
       "<rect x=\"87.5\" y=\"-125.0\" width=\"12.5\" height=\"25.0\" opacity=\"0.24124684447371308\" fill=\"currentColor\" stroke-width=\"0.1\"/>\n",
       "<rect x=\"100.0\" y=\"-125.0\" width=\"12.5\" height=\"25.0\" opacity=\"0.18570958182416858\" fill=\"currentColor\" stroke-width=\"0.1\"/>\n",
       "<rect x=\"112.5\" y=\"-125.0\" width=\"12.5\" height=\"25.0\" opacity=\"0.12501371967950828\" fill=\"currentColor\" stroke-width=\"0.1\"/>\n",
       "<rect x=\"125.0\" y=\"-125.0\" width=\"12.5\" height=\"25.0\" opacity=\"0.09307430578421676\" fill=\"currentColor\" stroke-width=\"0.1\"/>\n",
       "<rect x=\"137.5\" y=\"-125.0\" width=\"12.5\" height=\"25.0\" opacity=\"0.07112281857095827\" fill=\"currentColor\" stroke-width=\"0.1\"/>\n",
       "<rect x=\"150.0\" y=\"-125.0\" width=\"12.5\" height=\"25.0\" opacity=\"0.051366480079025355\" fill=\"currentColor\" stroke-width=\"0.1\"/>\n",
       "<rect x=\"162.5\" y=\"-125.0\" width=\"12.5\" height=\"25.0\" opacity=\"0.03567116672154538\" fill=\"currentColor\" stroke-width=\"0.1\"/>\n",
       "<rect x=\"175.0\" y=\"-125.0\" width=\"12.5\" height=\"25.0\" opacity=\"0.02678081440017561\" fill=\"currentColor\" stroke-width=\"0.1\"/>\n",
       "<rect x=\"187.5\" y=\"-125.0\" width=\"12.5\" height=\"25.0\" opacity=\"0.02337833388212051\" fill=\"currentColor\" stroke-width=\"0.1\"/>\n",
       "<rect x=\"200.0\" y=\"-125.0\" width=\"12.5\" height=\"25.0\" opacity=\"0.016792887718142906\" fill=\"currentColor\" stroke-width=\"0.1\"/>\n",
       "<rect x=\"212.5\" y=\"-125.0\" width=\"12.5\" height=\"25.0\" opacity=\"0.012073317967292285\" fill=\"currentColor\" stroke-width=\"0.1\"/>\n",
       "<rect x=\"225.0\" y=\"-125.0\" width=\"12.5\" height=\"25.0\" opacity=\"0.012512347711557457\" fill=\"currentColor\" stroke-width=\"0.1\"/>\n",
       "<rect x=\"237.5\" y=\"-125.0\" width=\"12.5\" height=\"25.0\" opacity=\"0.009219624629568653\" fill=\"currentColor\" stroke-width=\"0.1\"/>\n",
       "<rect x=\"0.0\" y=\"-150.0\" width=\"12.5\" height=\"25.0\" opacity=\"0.18197782899791462\" fill=\"currentColor\" stroke-width=\"0.1\"/>\n",
       "<rect x=\"12.5\" y=\"-150.0\" width=\"12.5\" height=\"25.0\" opacity=\"0.9367797168258148\" fill=\"currentColor\" stroke-width=\"0.1\"/>\n",
       "<rect x=\"25.0\" y=\"-150.0\" width=\"12.5\" height=\"25.0\" opacity=\"0.9828778399736582\" fill=\"currentColor\" stroke-width=\"0.1\"/>\n",
       "<rect x=\"37.5\" y=\"-150.0\" width=\"12.5\" height=\"25.0\" opacity=\"0.8485347382285149\" fill=\"currentColor\" stroke-width=\"0.1\"/>\n",
       "<rect x=\"50.0\" y=\"-150.0\" width=\"12.5\" height=\"25.0\" opacity=\"0.6398858522664911\" fill=\"currentColor\" stroke-width=\"0.1\"/>\n",
       "<rect x=\"62.5\" y=\"-150.0\" width=\"12.5\" height=\"25.0\" opacity=\"0.478322906376907\" fill=\"currentColor\" stroke-width=\"0.1\"/>\n",
       "<rect x=\"75.0\" y=\"-150.0\" width=\"12.5\" height=\"25.0\" opacity=\"0.33772363077598505\" fill=\"currentColor\" stroke-width=\"0.1\"/>\n",
       "<rect x=\"87.5\" y=\"-150.0\" width=\"12.5\" height=\"25.0\" opacity=\"0.23971024036878497\" fill=\"currentColor\" stroke-width=\"0.1\"/>\n",
       "<rect x=\"100.0\" y=\"-150.0\" width=\"12.5\" height=\"25.0\" opacity=\"0.17133135769948413\" fill=\"currentColor\" stroke-width=\"0.1\"/>\n",
       "<rect x=\"112.5\" y=\"-150.0\" width=\"12.5\" height=\"25.0\" opacity=\"0.12600153660410493\" fill=\"currentColor\" stroke-width=\"0.1\"/>\n",
       "<rect x=\"125.0\" y=\"-150.0\" width=\"12.5\" height=\"25.0\" opacity=\"0.09274503347601787\" fill=\"currentColor\" stroke-width=\"0.1\"/>\n",
       "<rect x=\"137.5\" y=\"-150.0\" width=\"12.5\" height=\"25.0\" opacity=\"0.06804961036110206\" fill=\"currentColor\" stroke-width=\"0.1\"/>\n",
       "<rect x=\"150.0\" y=\"-150.0\" width=\"12.5\" height=\"25.0\" opacity=\"0.046976182636373605\" fill=\"currentColor\" stroke-width=\"0.1\"/>\n",
       "<rect x=\"162.5\" y=\"-150.0\" width=\"12.5\" height=\"25.0\" opacity=\"0.03556140928547909\" fill=\"currentColor\" stroke-width=\"0.1\"/>\n",
       "<rect x=\"175.0\" y=\"-150.0\" width=\"12.5\" height=\"25.0\" opacity=\"0.025353967731313796\" fill=\"currentColor\" stroke-width=\"0.1\"/>\n",
       "<rect x=\"187.5\" y=\"-150.0\" width=\"12.5\" height=\"25.0\" opacity=\"0.018658764131269892\" fill=\"currentColor\" stroke-width=\"0.1\"/>\n",
       "<rect x=\"200.0\" y=\"-150.0\" width=\"12.5\" height=\"25.0\" opacity=\"0.018439249259137307\" fill=\"currentColor\" stroke-width=\"0.1\"/>\n",
       "<rect x=\"212.5\" y=\"-150.0\" width=\"12.5\" height=\"25.0\" opacity=\"0.016134343101745142\" fill=\"currentColor\" stroke-width=\"0.1\"/>\n",
       "<rect x=\"225.0\" y=\"-150.0\" width=\"12.5\" height=\"25.0\" opacity=\"0.012512347711557457\" fill=\"currentColor\" stroke-width=\"0.1\"/>\n",
       "<rect x=\"237.5\" y=\"-150.0\" width=\"12.5\" height=\"25.0\" opacity=\"0.00976841180990012\" fill=\"currentColor\" stroke-width=\"0.1\"/>\n",
       "<rect x=\"0.0\" y=\"-175.0\" width=\"12.5\" height=\"25.0\" opacity=\"0.1512457468993524\" fill=\"currentColor\" stroke-width=\"0.1\"/>\n",
       "<rect x=\"12.5\" y=\"-175.0\" width=\"12.5\" height=\"25.0\" opacity=\"0.7230819888047415\" fill=\"currentColor\" stroke-width=\"0.1\"/>\n",
       "<rect x=\"25.0\" y=\"-175.0\" width=\"12.5\" height=\"25.0\" opacity=\"0.7268137416309955\" fill=\"currentColor\" stroke-width=\"0.1\"/>\n",
       "<rect x=\"37.5\" y=\"-175.0\" width=\"12.5\" height=\"25.0\" opacity=\"0.5972999670727692\" fill=\"currentColor\" stroke-width=\"0.1\"/>\n",
       "<rect x=\"50.0\" y=\"-175.0\" width=\"12.5\" height=\"25.0\" opacity=\"0.43233454066513005\" fill=\"currentColor\" stroke-width=\"0.1\"/>\n",
       "<rect x=\"62.5\" y=\"-175.0\" width=\"12.5\" height=\"25.0\" opacity=\"0.30929645483481505\" fill=\"currentColor\" stroke-width=\"0.1\"/>\n",
       "<rect x=\"75.0\" y=\"-175.0\" width=\"12.5\" height=\"25.0\" opacity=\"0.20744155416529467\" fill=\"currentColor\" stroke-width=\"0.1\"/>\n",
       "<rect x=\"87.5\" y=\"-175.0\" width=\"12.5\" height=\"25.0\" opacity=\"0.15914828229612557\" fill=\"currentColor\" stroke-width=\"0.1\"/>\n",
       "<rect x=\"100.0\" y=\"-175.0\" width=\"12.5\" height=\"25.0\" opacity=\"0.11239161453188452\" fill=\"currentColor\" stroke-width=\"0.1\"/>\n",
       "<rect x=\"112.5\" y=\"-175.0\" width=\"12.5\" height=\"25.0\" opacity=\"0.07628141806607397\" fill=\"currentColor\" stroke-width=\"0.1\"/>\n",
       "<rect x=\"125.0\" y=\"-175.0\" width=\"12.5\" height=\"25.0\" opacity=\"0.050598178026561226\" fill=\"currentColor\" stroke-width=\"0.1\"/>\n",
       "<rect x=\"137.5\" y=\"-175.0\" width=\"12.5\" height=\"25.0\" opacity=\"0.04017122160026347\" fill=\"currentColor\" stroke-width=\"0.1\"/>\n",
       "<rect x=\"150.0\" y=\"-175.0\" width=\"12.5\" height=\"25.0\" opacity=\"0.030293052354297002\" fill=\"currentColor\" stroke-width=\"0.1\"/>\n",
       "<rect x=\"162.5\" y=\"-175.0\" width=\"12.5\" height=\"25.0\" opacity=\"0.022610031829656457\" fill=\"currentColor\" stroke-width=\"0.1\"/>\n",
       "<rect x=\"175.0\" y=\"-175.0\" width=\"12.5\" height=\"25.0\" opacity=\"0.01624410053781144\" fill=\"currentColor\" stroke-width=\"0.1\"/>\n",
       "<rect x=\"187.5\" y=\"-175.0\" width=\"12.5\" height=\"25.0\" opacity=\"0.011414773350894521\" fill=\"currentColor\" stroke-width=\"0.1\"/>\n",
       "<rect x=\"200.0\" y=\"-175.0\" width=\"12.5\" height=\"25.0\" opacity=\"0.008231807704972012\" fill=\"currentColor\" stroke-width=\"0.1\"/>\n",
       "<rect x=\"212.5\" y=\"-175.0\" width=\"12.5\" height=\"25.0\" opacity=\"0.005378114367248381\" fill=\"currentColor\" stroke-width=\"0.1\"/>\n",
       "<rect x=\"225.0\" y=\"-175.0\" width=\"12.5\" height=\"25.0\" opacity=\"0.005817144111513554\" fill=\"currentColor\" stroke-width=\"0.1\"/>\n",
       "<rect x=\"237.5\" y=\"-175.0\" width=\"12.5\" height=\"25.0\" opacity=\"0.0050488420590495\" fill=\"currentColor\" stroke-width=\"0.1\"/>\n",
       "<rect x=\"0.0\" y=\"-200.0\" width=\"12.5\" height=\"25.0\" opacity=\"0.09450115245307858\" fill=\"currentColor\" stroke-width=\"0.1\"/>\n",
       "<rect x=\"12.5\" y=\"-200.0\" width=\"12.5\" height=\"25.0\" opacity=\"0.4160904401273181\" fill=\"currentColor\" stroke-width=\"0.1\"/>\n",
       "<rect x=\"25.0\" y=\"-200.0\" width=\"12.5\" height=\"25.0\" opacity=\"0.3528701569531331\" fill=\"currentColor\" stroke-width=\"0.1\"/>\n",
       "<rect x=\"37.5\" y=\"-200.0\" width=\"12.5\" height=\"25.0\" opacity=\"0.26473493579189955\" fill=\"currentColor\" stroke-width=\"0.1\"/>\n",
       "<rect x=\"50.0\" y=\"-200.0\" width=\"12.5\" height=\"25.0\" opacity=\"0.18000219514872112\" fill=\"currentColor\" stroke-width=\"0.1\"/>\n",
       "<rect x=\"62.5\" y=\"-200.0\" width=\"12.5\" height=\"25.0\" opacity=\"0.1337943145648116\" fill=\"currentColor\" stroke-width=\"0.1\"/>\n",
       "<rect x=\"75.0\" y=\"-200.0\" width=\"12.5\" height=\"25.0\" opacity=\"0.08857425090549875\" fill=\"currentColor\" stroke-width=\"0.1\"/>\n",
       "<rect x=\"87.5\" y=\"-200.0\" width=\"12.5\" height=\"25.0\" opacity=\"0.05630556470200849\" fill=\"currentColor\" stroke-width=\"0.1\"/>\n",
       "<rect x=\"100.0\" y=\"-200.0\" width=\"12.5\" height=\"25.0\" opacity=\"0.036658983646141986\" fill=\"currentColor\" stroke-width=\"0.1\"/>\n",
       "<rect x=\"112.5\" y=\"-200.0\" width=\"12.5\" height=\"25.0\" opacity=\"0.0264515420919767\" fill=\"currentColor\" stroke-width=\"0.1\"/>\n",
       "<rect x=\"125.0\" y=\"-200.0\" width=\"12.5\" height=\"25.0\" opacity=\"0.01712216002634174\" fill=\"currentColor\" stroke-width=\"0.1\"/>\n",
       "<rect x=\"137.5\" y=\"-200.0\" width=\"12.5\" height=\"25.0\" opacity=\"0.01284162001975634\" fill=\"currentColor\" stroke-width=\"0.1\"/>\n",
       "<rect x=\"150.0\" y=\"-200.0\" width=\"12.5\" height=\"25.0\" opacity=\"0.008780594885303469\" fill=\"currentColor\" stroke-width=\"0.1\"/>\n",
       "<rect x=\"162.5\" y=\"-200.0\" width=\"12.5\" height=\"25.0\" opacity=\"0.005378114367248375\" fill=\"currentColor\" stroke-width=\"0.1\"/>\n",
       "<rect x=\"175.0\" y=\"-200.0\" width=\"12.5\" height=\"25.0\" opacity=\"0.0025244210295247474\" fill=\"currentColor\" stroke-width=\"0.1\"/>\n",
       "<rect x=\"187.5\" y=\"-200.0\" width=\"12.5\" height=\"25.0\" opacity=\"0.002963450773789921\" fill=\"currentColor\" stroke-width=\"0.1\"/>\n",
       "<rect x=\"200.0\" y=\"-200.0\" width=\"12.5\" height=\"25.0\" opacity=\"0.002195148721325867\" fill=\"currentColor\" stroke-width=\"0.1\"/>\n",
       "<rect x=\"212.5\" y=\"-200.0\" width=\"12.5\" height=\"25.0\" opacity=\"0.0017561189770606937\" fill=\"currentColor\" stroke-width=\"0.1\"/>\n",
       "<rect x=\"225.0\" y=\"-200.0\" width=\"12.5\" height=\"25.0\" opacity=\"0.0007683020524640535\" fill=\"currentColor\" stroke-width=\"0.1\"/>\n",
       "<rect x=\"237.5\" y=\"-200.0\" width=\"12.5\" height=\"25.0\" opacity=\"0.0005487871803314668\" fill=\"currentColor\" stroke-width=\"0.1\"/>\n",
       "<rect x=\"0.0\" y=\"-225.0\" width=\"12.5\" height=\"25.0\" opacity=\"0.05070793546262759\" fill=\"currentColor\" stroke-width=\"0.1\"/>\n",
       "<rect x=\"12.5\" y=\"-225.0\" width=\"12.5\" height=\"25.0\" opacity=\"0.17045329821095379\" fill=\"currentColor\" stroke-width=\"0.1\"/>\n",
       "<rect x=\"25.0\" y=\"-225.0\" width=\"12.5\" height=\"25.0\" opacity=\"0.11019646581055866\" fill=\"currentColor\" stroke-width=\"0.1\"/>\n",
       "<rect x=\"37.5\" y=\"-225.0\" width=\"12.5\" height=\"25.0\" opacity=\"0.07134233344309077\" fill=\"currentColor\" stroke-width=\"0.1\"/>\n",
       "<rect x=\"50.0\" y=\"-225.0\" width=\"12.5\" height=\"25.0\" opacity=\"0.046427395456042145\" fill=\"currentColor\" stroke-width=\"0.1\"/>\n",
       "<rect x=\"62.5\" y=\"-225.0\" width=\"12.5\" height=\"25.0\" opacity=\"0.02414663593458457\" fill=\"currentColor\" stroke-width=\"0.1\"/>\n",
       "<rect x=\"75.0\" y=\"-225.0\" width=\"12.5\" height=\"25.0\" opacity=\"0.013500164636154098\" fill=\"currentColor\" stroke-width=\"0.1\"/>\n",
       "<rect x=\"87.5\" y=\"-225.0\" width=\"12.5\" height=\"25.0\" opacity=\"0.0084513225771046\" fill=\"currentColor\" stroke-width=\"0.1\"/>\n",
       "<rect x=\"100.0\" y=\"-225.0\" width=\"12.5\" height=\"25.0\" opacity=\"0.005378114367248381\" fill=\"currentColor\" stroke-width=\"0.1\"/>\n",
       "<rect x=\"112.5\" y=\"-225.0\" width=\"12.5\" height=\"25.0\" opacity=\"0.0036219953901876854\" fill=\"currentColor\" stroke-width=\"0.1\"/>\n",
       "<rect x=\"125.0\" y=\"-225.0\" width=\"12.5\" height=\"25.0\" opacity=\"0.00131708923279552\" fill=\"currentColor\" stroke-width=\"0.1\"/>\n",
       "<rect x=\"137.5\" y=\"-225.0\" width=\"12.5\" height=\"25.0\" opacity=\"0.0014268466688618173\" fill=\"currentColor\" stroke-width=\"0.1\"/>\n",
       "<rect x=\"150.0\" y=\"-225.0\" width=\"12.5\" height=\"25.0\" opacity=\"0.0006585446163977609\" fill=\"currentColor\" stroke-width=\"0.1\"/>\n",
       "<rect x=\"162.5\" y=\"-225.0\" width=\"12.5\" height=\"25.0\" opacity=\"0.0005487871803314674\" fill=\"currentColor\" stroke-width=\"0.1\"/>\n",
       "<rect x=\"175.0\" y=\"-225.0\" width=\"12.5\" height=\"25.0\" opacity=\"0.00021951487213258696\" fill=\"currentColor\" stroke-width=\"0.1\"/>\n",
       "<rect x=\"187.5\" y=\"-225.0\" width=\"12.5\" height=\"25.0\" opacity=\"0.00010975743606629348\" fill=\"currentColor\" stroke-width=\"0.1\"/>\n",
       "<rect x=\"200.0\" y=\"-225.0\" width=\"12.5\" height=\"25.0\" opacity=\"0.0\" fill=\"currentColor\" stroke-width=\"0.1\"/>\n",
       "<rect x=\"212.5\" y=\"-225.0\" width=\"12.5\" height=\"25.0\" opacity=\"0.0\" fill=\"currentColor\" stroke-width=\"0.1\"/>\n",
       "<rect x=\"225.0\" y=\"-225.0\" width=\"12.5\" height=\"25.0\" opacity=\"0.00021951487213258696\" fill=\"currentColor\" stroke-width=\"0.1\"/>\n",
       "<rect x=\"237.5\" y=\"-225.0\" width=\"12.5\" height=\"25.0\" opacity=\"0.0\" fill=\"currentColor\" stroke-width=\"0.1\"/>\n",
       "<rect x=\"0.0\" y=\"-250.0\" width=\"12.5\" height=\"25.0\" opacity=\"0.020524640544396882\" fill=\"currentColor\" stroke-width=\"0.1\"/>\n",
       "<rect x=\"12.5\" y=\"-250.0\" width=\"12.5\" height=\"25.0\" opacity=\"0.04587860827571067\" fill=\"currentColor\" stroke-width=\"0.1\"/>\n",
       "<rect x=\"25.0\" y=\"-250.0\" width=\"12.5\" height=\"25.0\" opacity=\"0.019756338491932826\" fill=\"currentColor\" stroke-width=\"0.1\"/>\n",
       "<rect x=\"37.5\" y=\"-250.0\" width=\"12.5\" height=\"25.0\" opacity=\"0.008670837449237185\" fill=\"currentColor\" stroke-width=\"0.1\"/>\n",
       "<rect x=\"50.0\" y=\"-250.0\" width=\"12.5\" height=\"25.0\" opacity=\"0.0019756338491932826\" fill=\"currentColor\" stroke-width=\"0.1\"/>\n",
       "<rect x=\"62.5\" y=\"-250.0\" width=\"12.5\" height=\"25.0\" opacity=\"0.0009878169245966413\" fill=\"currentColor\" stroke-width=\"0.1\"/>\n",
       "<rect x=\"75.0\" y=\"-250.0\" width=\"12.5\" height=\"25.0\" opacity=\"0.00032927230819888045\" fill=\"currentColor\" stroke-width=\"0.1\"/>\n",
       "<rect x=\"87.5\" y=\"-250.0\" width=\"12.5\" height=\"25.0\" opacity=\"0.0004390297442651739\" fill=\"currentColor\" stroke-width=\"0.1\"/>\n",
       "<rect x=\"100.0\" y=\"-250.0\" width=\"12.5\" height=\"25.0\" opacity=\"0.00021951487213258696\" fill=\"currentColor\" stroke-width=\"0.1\"/>\n",
       "<rect x=\"112.5\" y=\"-250.0\" width=\"12.5\" height=\"25.0\" opacity=\"0.0\" fill=\"currentColor\" stroke-width=\"0.1\"/>\n",
       "<rect x=\"125.0\" y=\"-250.0\" width=\"12.5\" height=\"25.0\" opacity=\"0.0\" fill=\"currentColor\" stroke-width=\"0.1\"/>\n",
       "<rect x=\"137.5\" y=\"-250.0\" width=\"12.5\" height=\"25.0\" opacity=\"0.0\" fill=\"currentColor\" stroke-width=\"0.1\"/>\n",
       "<rect x=\"150.0\" y=\"-250.0\" width=\"12.5\" height=\"25.0\" opacity=\"0.0\" fill=\"currentColor\" stroke-width=\"0.1\"/>\n",
       "<rect x=\"162.5\" y=\"-250.0\" width=\"12.5\" height=\"25.0\" opacity=\"0.0\" fill=\"currentColor\" stroke-width=\"0.1\"/>\n",
       "<rect x=\"175.0\" y=\"-250.0\" width=\"12.5\" height=\"25.0\" opacity=\"0.0\" fill=\"currentColor\" stroke-width=\"0.1\"/>\n",
       "<rect x=\"187.5\" y=\"-250.0\" width=\"12.5\" height=\"25.0\" opacity=\"0.0\" fill=\"currentColor\" stroke-width=\"0.1\"/>\n",
       "<rect x=\"200.0\" y=\"-250.0\" width=\"12.5\" height=\"25.0\" opacity=\"0.0\" fill=\"currentColor\" stroke-width=\"0.1\"/>\n",
       "<rect x=\"212.5\" y=\"-250.0\" width=\"12.5\" height=\"25.0\" opacity=\"0.0\" fill=\"currentColor\" stroke-width=\"0.1\"/>\n",
       "<rect x=\"225.0\" y=\"-250.0\" width=\"12.5\" height=\"25.0\" opacity=\"0.0\" fill=\"currentColor\" stroke-width=\"0.1\"/>\n",
       "<rect x=\"237.5\" y=\"-250.0\" width=\"12.5\" height=\"25.0\" opacity=\"0.0\" fill=\"currentColor\" stroke-width=\"0.1\"/>\n",
       "</svg>\n",
       "</div>\n",
       "<div style=\"flex=grow:1;\">\n",
       "Regular(20, 0, 400, underflow=False, name='pt')<br/>\n",
       "Regular(10, -4, 4, underflow=False, overflow=False, name='eta')<br/>\n",
       "<hr style=\"margin-top:.2em; margin-bottom:.2em;\"/>\n",
       "Weight() Σ=WeightedSum(value=205674, variance=205674) <em>(WeightedSum(value=207170, variance=207170) with flow)</em>\n",
       "\n",
       "</div>\n",
       "</div>\n",
       "</html>"
      ],
      "text/plain": [
       "Hist(\n",
       "  Regular(20, 0, 400, underflow=False, name='pt'),\n",
       "  Regular(10, -4, 4, underflow=False, overflow=False, name='eta'),\n",
       "  storage=Weight()) # Sum: WeightedSum(value=205674, variance=205674) (WeightedSum(value=207170, variance=207170) with flow)"
      ]
     },
     "execution_count": 21,
     "metadata": {},
     "output_type": "execute_result"
    }
   ],
   "source": [
    "non_btagged[{\"flavour\":2}]"
   ]
  },
  {
   "cell_type": "markdown",
   "id": "39f9d02d-7bec-4163-9443-234c28a0997c",
   "metadata": {
    "tags": []
   },
   "source": [
    "### Let's save the efficiency in correctionlib format"
   ]
  },
  {
   "cell_type": "code",
   "execution_count": 22,
   "id": "eef91ef0-89bc-4ad3-bcfd-b77203686d37",
   "metadata": {
    "tags": []
   },
   "outputs": [
    {
     "name": "stderr",
     "output_type": "stream",
     "text": [
      "/tmp/ipykernel_2455/875839267.py:6: RuntimeWarning: invalid value encountered in divide\n",
      "  ratio= np.where( (w_denom>0)&(w_num>0), w_num/w_denom, 1.)\n",
      "/tmp/ipykernel_2455/875839267.py:8: RuntimeWarning: divide by zero encountered in divide\n",
      "  np.sqrt((1/w_denom)**2 * num_var + (w_num/w_denom**2)**2 * denom_var),\n",
      "/tmp/ipykernel_2455/875839267.py:8: RuntimeWarning: invalid value encountered in multiply\n",
      "  np.sqrt((1/w_denom)**2 * num_var + (w_num/w_denom**2)**2 * denom_var),\n",
      "/tmp/ipykernel_2455/875839267.py:8: RuntimeWarning: invalid value encountered in divide\n",
      "  np.sqrt((1/w_denom)**2 * num_var + (w_num/w_denom**2)**2 * denom_var),\n"
     ]
    }
   ],
   "source": [
    "w_num,  x, y, z = btagged.to_numpy()\n",
    "num_var = btagged.variances()\n",
    "w_denom,  x, y, z  = non_btagged.to_numpy()\n",
    "denom_var = non_btagged.variances()\n",
    "\n",
    "ratio= np.where( (w_denom>0)&(w_num>0), w_num/w_denom, 1.) \n",
    "ratio_err =  np.where( (w_denom>0)&(w_num>0),\n",
    "                      np.sqrt((1/w_denom)**2 * num_var + (w_num/w_denom**2)**2 * denom_var),\n",
    "                      0.)\n",
    "\n",
    "#recreate the histo\n",
    "sfhist = ( Hist.new.Reg(20, 0, 400,overflow=True, underflow=False, name=\"pt\" )\n",
    "                .Reg(10, -5, 5, overflow=False, underflow=False, name=\"eta\")\n",
    "                .Int(0,3, name=\"flavour\")\n",
    "           .Double(data=ratio))\n",
    "\n"
   ]
  },
  {
   "cell_type": "code",
   "execution_count": 23,
   "id": "7a5b969f-dd36-4caa-97a9-97c517d716cc",
   "metadata": {
    "tags": []
   },
   "outputs": [
    {
     "data": {
      "text/html": [
       "<pre style=\"white-space:pre;overflow-x:auto;line-height:normal;font-family:Menlo,'DejaVu Sans Mono',consolas,'Courier New',monospace\"><span style=\"font-weight: bold\">CorrectionSet</span> (<span style=\"font-style: italic\">schema v2</span>)\n",
       "trf efficiency\n",
       "📂\n",
       "└── 📈 <span style=\"font-weight: bold\">TRF_efficiencies</span> (v0)\n",
       "    Btagging efficiency by pt, eta, flavour\n",
       "    Node counts: <span style=\"font-weight: bold\">MultiBinning</span>: 1, <span style=\"font-weight: bold\">Category</span>: 200\n",
       "    ╭──────────── ▶ input ─────────────╮ ╭──────────── ▶ input ────────────╮ ╭──── ▶ input ────╮\n",
       "    │ <span style=\"font-weight: bold\">pt</span> (real)                        │ │ <span style=\"font-weight: bold\">eta</span> (real)                      │ │ <span style=\"font-weight: bold\">flavour</span> (int)   │\n",
       "    │ pt                               │ │ eta                             │ │ flavour         │\n",
       "    │ Range: [0.0, 400.0), overflow ok │ │ Range: [-5.0, 5.0), overflow ok │ │ Values: 0, 1, 2 │\n",
       "    ╰──────────────────────────────────╯ ╰─────────────────────────────────╯ ╰─────────────────╯\n",
       "    ╭─── ◀ output ───╮\n",
       "    │ <span style=\"font-weight: bold\">out</span> (real)     │\n",
       "    │ <span style=\"font-style: italic\">No description</span> │\n",
       "    ╰────────────────╯\n",
       "</pre>\n"
      ],
      "text/plain": [
       "\u001b[1mCorrectionSet\u001b[0m (\u001b[3mschema v2\u001b[0m)\n",
       "trf efficiency\n",
       "📂\n",
       "└── 📈 \u001b[1mTRF_efficiencies\u001b[0m (v0)\n",
       "    Btagging efficiency by pt, eta, flavour\n",
       "    Node counts: \u001b[1mMultiBinning\u001b[0m: 1, \u001b[1mCategory\u001b[0m: 200\n",
       "    ╭──────────── ▶ input ─────────────╮ ╭──────────── ▶ input ────────────╮ ╭──── ▶ input ────╮\n",
       "    │ \u001b[1mpt\u001b[0m (real)                        │ │ \u001b[1meta\u001b[0m (real)                      │ │ \u001b[1mflavour\u001b[0m (int)   │\n",
       "    │ pt                               │ │ eta                             │ │ flavour         │\n",
       "    │ Range: [0.0, 400.0), overflow ok │ │ Range: [-5.0, 5.0), overflow ok │ │ Values: 0, 1, 2 │\n",
       "    ╰──────────────────────────────────╯ ╰─────────────────────────────────╯ ╰─────────────────╯\n",
       "    ╭─── ◀ output ───╮\n",
       "    │ \u001b[1mout\u001b[0m (real)     │\n",
       "    │ \u001b[3mNo description\u001b[0m │\n",
       "    ╰────────────────╯\n"
      ]
     },
     "metadata": {},
     "output_type": "display_data"
    }
   ],
   "source": [
    "# without a name, the resulting object will fail validation\n",
    "sfhist.name = \"TRF_efficiencies\"\n",
    "sfhist.label = \"out\"\n",
    "clibcorr = correctionlib.convert.from_histogram(sfhist)\n",
    "clibcorr.description = \"Btagging efficiency by pt, eta, flavour\"\n",
    "\n",
    "# set overflow bins behavior (default is to raise an error when out of bounds)\n",
    "clibcorr.data.flow = \"clamp\"\n",
    "\n",
    "cset = correctionlib.schemav2.CorrectionSet(\n",
    "    schema_version=2,\n",
    "    description=\"trf efficiency\",\n",
    "    corrections=[clibcorr],\n",
    ")\n",
    "rich.print(cset)\n",
    "\n",
    "with open(\"test_trf.json\", \"w\") as fout:\n",
    "    fout.write(cset.json(exclude_unset=True))"
   ]
  },
  {
   "cell_type": "code",
   "execution_count": 24,
   "id": "f9c52110-4050-429b-8310-36748cc12727",
   "metadata": {
    "tags": []
   },
   "outputs": [],
   "source": [
    "cset = correctionlib.CorrectionSet.from_file(\"test_trf.json\")\n",
    "corr = cset[\"TRF_efficiencies\"]"
   ]
  },
  {
   "cell_type": "code",
   "execution_count": 25,
   "id": "282e1f9d-d63e-4913-9b55-5f0e5a2854d2",
   "metadata": {
    "tags": []
   },
   "outputs": [
    {
     "data": {
      "text/plain": [
       "array([0.7592535 , 0.78964059, 0.85153049, ..., 0.82711348, 0.82206897,\n",
       "       0.85060034])"
      ]
     },
     "execution_count": 25,
     "metadata": {},
     "output_type": "execute_result"
    }
   ],
   "source": [
    "corr.evaluate(ak.flatten(bJets.pt), ak.flatten(bJets.eta), ak.flatten(bJets_flavour ))"
   ]
  },
  {
   "cell_type": "markdown",
   "id": "2ac08306-5c02-4dcf-a30c-d33f3355b9ca",
   "metadata": {},
   "source": [
    "# Compute the TRF probability"
   ]
  },
  {
   "cell_type": "code",
   "execution_count": 4,
   "id": "677f1e2e-9a47-4328-9667-b68fb21afdce",
   "metadata": {
    "tags": []
   },
   "outputs": [],
   "source": [
    "mask = ak.num(events.Jet)>=4\n",
    "jet_pt = ak.flatten(events[mask].Jet.pt)\n",
    "jet_eta = ak.flatten(events[mask].Jet.eta)\n",
    "jet_flavour = ak.where(events[mask].Jet.hadronFlavour!=0, events[mask].Jet.hadronFlavour-3, 0.)\n",
    "jet_fl = ak.flatten(jet_flavour)\n",
    "\n",
    "num_jets = ak.num(events[mask].Jet)\n",
    "\n",
    "bJets = events[mask].Jet[events[mask].Jet.btagDeepFlavB > 0.277]\n",
    "nBjets = ak.num(bJets)\n",
    "\n",
    "nGenBJets = ak.sum(jet_flavour==2, axis=1)"
   ]
  },
  {
   "cell_type": "code",
   "execution_count": 5,
   "id": "4d4e40f2-ade4-439f-8e62-33a8449f2f81",
   "metadata": {
    "tags": []
   },
   "outputs": [],
   "source": [
    "cset = correctionlib.CorrectionSet.from_file(\"test_trf.json\")\n",
    "corr = cset[\"TRF_efficiencies\"]\n",
    "eff = corr.evaluate(jet_pt, jet_eta, jet_fl)"
   ]
  },
  {
   "cell_type": "code",
   "execution_count": 6,
   "id": "5fdd403b-9ddc-4fa9-b14e-89c71101165d",
   "metadata": {
    "tags": []
   },
   "outputs": [
    {
     "data": {
      "image/png": "[encoded data removed]",
      "text/plain": [
       "<Figure size 640x480 with 1 Axes>"
      ]
     },
     "metadata": {},
     "output_type": "display_data"
    }
   ],
   "source": [
    "eff_j = ak.unflatten(eff, num_jets)\n",
    "plt.hist(ak.flatten(eff_j));"
   ]
  },
  {
   "cell_type": "markdown",
   "id": "b2834ea5-66b7-4789-9d28-748b3f460b49",
   "metadata": {},
   "source": [
    "## Computing combinations without repetitions"
   ]
  },
  {
   "cell_type": "code",
   "execution_count": 29,
   "id": "84889807-90a5-4f86-8095-7717044589c0",
   "metadata": {
    "tags": []
   },
   "outputs": [],
   "source": [
    "#@numba.jit(nopython=False)\n",
    "def comb_index(n, k):\n",
    "    count = comb(n,k, exact=True)\n",
    "    index = np.fromiter(chain.from_iterable(combinations(range(n), k)), \n",
    "                        int, count=count*k)\n",
    "    return index.reshape(-1, k)"
   ]
  },
  {
   "cell_type": "code",
   "execution_count": 15,
   "id": "79129963-4b04-406e-b097-f650657a6118",
   "metadata": {
    "tags": []
   },
   "outputs": [
    {
     "name": "stdout",
     "output_type": "stream",
     "text": [
      "199 µs ± 35.7 µs per loop (mean ± std. dev. of 7 runs, 1,000 loops each)\n"
     ]
    }
   ],
   "source": [
    "%%timeit\n",
    "comb_index(15, 4)"
   ]
  },
  {
   "cell_type": "code",
   "execution_count": 16,
   "id": "b7c2a390-fa0b-41f5-a3d6-fce11bd19d7e",
   "metadata": {
    "tags": []
   },
   "outputs": [],
   "source": [
    "out = comb_index(10, 3)"
   ]
  },
  {
   "cell_type": "markdown",
   "id": "f9e30541-607e-4351-a89f-3fdbe2c7ad6e",
   "metadata": {},
   "source": [
    "This is very fast, but if I use it in numba it falls back in nopython mode. "
   ]
  },
  {
   "cell_type": "markdown",
   "id": "b88043fd-f94e-4e82-a225-5f5b35a11c9f",
   "metadata": {
    "tags": []
   },
   "source": [
    "### Combinations directly in numba"
   ]
  },
  {
   "cell_type": "code",
   "execution_count": 7,
   "id": "6582cded-9115-4d0c-a214-2f617d0420f9",
   "metadata": {
    "tags": []
   },
   "outputs": [],
   "source": [
    "#Pure numba combinations implementation\n",
    "#taken from https://stackoverflow.com/questions/61262188/numba-safe-version-of-itertools-combinations\n",
    "@njit\n",
    "def combinations_numba(n, r):\n",
    "    pool = list(range(n))\n",
    "    indices = list(range(r))\n",
    "    empty = not(n and (0 < r <= n))\n",
    "\n",
    "    if not empty:\n",
    "        result = [pool[i] for i in indices]\n",
    "        yield result\n",
    "\n",
    "    while not empty:\n",
    "        i = r - 1\n",
    "        while i >= 0 and indices[i] == i + n - r:\n",
    "            i -= 1\n",
    "        if i < 0:\n",
    "            empty = True\n",
    "        else:\n",
    "            indices[i] += 1\n",
    "            for j in range(i+1, r):\n",
    "                indices[j] = indices[j-1] + 1\n",
    "\n",
    "            result = [pool[i] for i in indices]\n",
    "            yield result"
   ]
  },
  {
   "cell_type": "code",
   "execution_count": 7,
   "id": "8363f01b-2998-4f20-b4ec-2495cca9e6f1",
   "metadata": {
    "tags": []
   },
   "outputs": [
    {
     "name": "stdout",
     "output_type": "stream",
     "text": [
      "3.41 ms ± 58.6 µs per loop (mean ± std. dev. of 7 runs, 1 loop each)\n"
     ]
    }
   ],
   "source": [
    "%%timeit\n",
    "list(combinations_numba(25, 4))"
   ]
  },
  {
   "cell_type": "markdown",
   "id": "c7b4123d-c539-432b-867e-789fbb302df3",
   "metadata": {
    "tags": []
   },
   "source": [
    "## Compute the probability of M tagged jets"
   ]
  },
  {
   "cell_type": "code",
   "execution_count": 8,
   "id": "659dafc8-aee0-472e-bad6-92218f69986f",
   "metadata": {
    "tags": []
   },
   "outputs": [],
   "source": [
    "@numba.jit(nopython=True)\n",
    "def get_prob_M(M, effs):\n",
    "    '''Compute the probability of tagging M jets out of N total jets for each event.\n",
    "    It takes as input the tagging efficiency for each jet in each event (awkward array)'''\n",
    "    out = np.ones(len(effs))\n",
    "    iev = 0\n",
    "    \n",
    "    for eff in effs:\n",
    "        njets = len(eff)\n",
    "        \n",
    "        all_combinations_eff = 0.\n",
    "        value = 1.\n",
    "        for comb in combinations_numba(njets, M):\n",
    "            # iterate on the combinations\n",
    "            value = 1.\n",
    "            for j, ef in zip(range(njets), eff):\n",
    "                if j in comb:\n",
    "                    value *= ef\n",
    "                else:\n",
    "                    value *= 1-ef\n",
    "            #Sum the value for this combination to the total\n",
    "            all_combinations_eff += value      \n",
    "            \n",
    "        out[iev] = all_combinations_eff\n",
    "        iev+=1\n",
    "    return out"
   ]
  },
  {
   "cell_type": "code",
   "execution_count": 9,
   "id": "cf3f86f8-fd30-425f-8a7c-426655cfaeae",
   "metadata": {
    "tags": []
   },
   "outputs": [
    {
     "name": "stdout",
     "output_type": "stream",
     "text": [
      "63.4 ms ± 220 µs per loop (mean ± std. dev. of 7 runs, 1 loop each)\n"
     ]
    }
   ],
   "source": [
    "%%timeit\n",
    "out = get_prob_M(1, eff_j)"
   ]
  },
  {
   "cell_type": "code",
   "execution_count": 11,
   "id": "071063c6-64ad-41f9-a38d-22dcae0d6788",
   "metadata": {
    "tags": []
   },
   "outputs": [
    {
     "name": "stdout",
     "output_type": "stream",
     "text": [
      "302 ms ± 21.6 ms per loop (mean ± std. dev. of 7 runs, 1 loop each)\n"
     ]
    }
   ],
   "source": [
    "%%timeit\n",
    "out = get_prob_M(2, eff_j)"
   ]
  },
  {
   "cell_type": "code",
   "execution_count": 17,
   "id": "c1c443c3-47a3-4463-858e-4f7faee334da",
   "metadata": {
    "tags": []
   },
   "outputs": [
    {
     "name": "stdout",
     "output_type": "stream",
     "text": [
      "2.73 s ± 17.1 ms per loop (mean ± std. dev. of 7 runs, 1 loop each)\n"
     ]
    }
   ],
   "source": [
    "%%timeit\n",
    "out = get_prob_M(3, eff_j)"
   ]
  },
  {
   "cell_type": "code",
   "execution_count": 13,
   "id": "d4becf86-2db1-46f0-81ec-6bb7f6d89c6d",
   "metadata": {
    "tags": []
   },
   "outputs": [
    {
     "name": "stdout",
     "output_type": "stream",
     "text": [
      "2.31 s ± 15 ms per loop (mean ± std. dev. of 7 runs, 1 loop each)\n"
     ]
    }
   ],
   "source": [
    "%%timeit\n",
    "out = get_prob_M(4, eff_j)"
   ]
  },
  {
   "cell_type": "code",
   "execution_count": 14,
   "id": "917aa3c4-a169-43a9-8dd5-064c4fc8b2c9",
   "metadata": {
    "tags": []
   },
   "outputs": [
    {
     "name": "stdout",
     "output_type": "stream",
     "text": [
      "4.67 s ± 203 ms per loop (mean ± std. dev. of 7 runs, 1 loop each)\n"
     ]
    }
   ],
   "source": [
    "%%timeit\n",
    "out = get_prob_M(5, eff_j)"
   ]
  },
  {
   "cell_type": "code",
   "execution_count": 51,
   "id": "cf1418c1-cf79-47d3-b131-d68e032fc5d1",
   "metadata": {
    "tags": []
   },
   "outputs": [
    {
     "data": {
      "text/plain": [
       "array([0., 0., 0., ..., 0., 0., 0.])"
      ]
     },
     "execution_count": 51,
     "metadata": {},
     "output_type": "execute_result"
    }
   ],
   "source": [
    "out"
   ]
  },
  {
   "cell_type": "code",
   "execution_count": 24,
   "id": "1fa275aa-745b-4b62-bb91-5ca5cefab430",
   "metadata": {
    "tags": []
   },
   "outputs": [
    {
     "data": {
      "image/png": "[encoded data removed]",
      "text/plain": [
       "<Figure size 640x480 with 1 Axes>"
      ]
     },
     "metadata": {},
     "output_type": "display_data"
    }
   ],
   "source": [
    "out = get_prob_M(4, eff_j)\n",
    "plt.hist(out);"
   ]
  },
  {
   "cell_type": "markdown",
   "id": "2af79949-f4f7-4d83-b09a-2563662a5427",
   "metadata": {
    "tags": []
   },
   "source": [
    "### Now we need the conditional TRF prob"
   ]
  },
  {
   "cell_type": "code",
   "execution_count": 23,
   "id": "37300ab8-283e-4547-bab4-eacdb70af39c",
   "metadata": {
    "tags": []
   },
   "outputs": [],
   "source": [
    "def get_conditiona_TRF(nA, nB, eff_j):\n",
    "    '''\n",
    "    nA = exact number of btagged jets\n",
    "    given \n",
    "    nB = minimum number of btagged jets\n",
    "    '''\n",
    "    P_B = np.ones(len(eff_j))\n",
    "    for i in range(1, nB):  #from 0 to nB-1\n",
    "        P_B -= get_prob_M(i, eff_j)\n",
    "    # now the 0 tagged case\n",
    "    P_B -= ak.to_numpy(ak.prod(1-eff_j, axis=1))\n",
    "    \n",
    "    P_A = get_prob_M(nA, eff_j)\n",
    "    \n",
    "    return P_A, P_B, P_A/P_B"
   ]
  },
  {
   "cell_type": "code",
   "execution_count": 10,
   "id": "17f3cf02-c827-4e44-9d8b-9c1356b6a927",
   "metadata": {
    "tags": []
   },
   "outputs": [
    {
     "data": {
      "text/plain": [
       "(array([0.22056752, 0.09948008, 0.30201066, ..., 0.0907403 , 0.41873076,\n",
       "        0.49868065]),\n",
       " array([0.90408825, 0.94759974, 0.99944197, ..., 0.94561797, 0.98303464,\n",
       "        0.99681643]),\n",
       " array([0.2439668 , 0.10498112, 0.30217929, ..., 0.09595873, 0.42595728,\n",
       "        0.50027331]))"
      ]
     },
     "execution_count": 10,
     "metadata": {},
     "output_type": "execute_result"
    }
   ],
   "source": [
    "get_conditiona_TRF(4, 2, eff_j)"
   ]
  },
  {
   "cell_type": "code",
   "execution_count": 22,
   "id": "28c43501-49e8-4215-8347-1045cf042ff2",
   "metadata": {
    "tags": []
   },
   "outputs": [
    {
     "name": "stdout",
     "output_type": "stream",
     "text": [
      "2.6 s ± 13.3 ms per loop (mean ± std. dev. of 7 runs, 1 loop each)\n"
     ]
    }
   ],
   "source": [
    "%%timeit\n",
    "get_conditiona_TRF(4, 2, eff_j)"
   ]
  },
  {
   "cell_type": "code",
   "execution_count": 23,
   "id": "4d1dc3c4-83b4-4689-bcee-b9896c477e49",
   "metadata": {
    "tags": []
   },
   "outputs": [
    {
     "data": {
      "text/plain": [
       "(19996,)"
      ]
     },
     "execution_count": 23,
     "metadata": {},
     "output_type": "execute_result"
    }
   ],
   "source": [
    "out.shape"
   ]
  },
  {
   "cell_type": "code",
   "execution_count": 11,
   "id": "0363d478-4b6a-40da-bd74-e9cfb3bb94f4",
   "metadata": {
    "tags": []
   },
   "outputs": [],
   "source": [
    "P_A, P_B, P_AB = get_conditiona_TRF(4, 2, eff_j)"
   ]
  },
  {
   "cell_type": "code",
   "execution_count": 12,
   "id": "30df0032-e2b5-4b2f-add2-afaaf071a7c3",
   "metadata": {
    "tags": []
   },
   "outputs": [
    {
     "data": {
      "text/plain": [
       "Text(0, 0.5, 'TRF P(4|2)')"
      ]
     },
     "execution_count": 12,
     "metadata": {},
     "output_type": "execute_result"
    },
    {
     "data": {
      "image/png": "[encoded data removed]",
      "text/plain": [
       "<Figure size 640x480 with 1 Axes>"
      ]
     },
     "metadata": {},
     "output_type": "display_data"
    }
   ],
   "source": [
    "plt.hist2d(ak.to_numpy(nBjets), P_AB, \n",
    "          bins=(8, 20), range=((0.,8.),(0.,1.)));\n",
    "plt.xlabel(\"Number of gen-level Bjets\")\n",
    "plt.ylabel(\"TRF P(4|2)\")"
   ]
  },
  {
   "cell_type": "code",
   "execution_count": 13,
   "id": "078637ea-9947-4768-af25-fa0fbdaab59e",
   "metadata": {
    "tags": []
   },
   "outputs": [
    {
     "data": {
      "text/plain": [
       "Text(0, 0.5, 'TRF P(4|2)')"
      ]
     },
     "execution_count": 13,
     "metadata": {},
     "output_type": "execute_result"
    },
    {
     "data": {
      "image/png": "[encoded data removed]",
      "text/plain": [
       "<Figure size 640x480 with 1 Axes>"
      ]
     },
     "metadata": {},
     "output_type": "display_data"
    }
   ],
   "source": [
    "plt.hist2d(ak.to_numpy(nBjets), P_AB, \n",
    "          bins=(8, 20), range=((0.,8.),(0.,1.)));\n",
    "plt.xlabel(\"Number of tagged Bjets\")\n",
    "plt.ylabel(\"TRF P(4|2)\")"
   ]
  },
  {
   "cell_type": "code",
   "execution_count": 87,
   "id": "9fce38b9-1a9d-4aa4-bc74-eb9318c248bc",
   "metadata": {
    "tags": []
   },
   "outputs": [
    {
     "name": "stdout",
     "output_type": "stream",
     "text": [
      "2.91 s ± 23.6 ms per loop (mean ± std. dev. of 20 runs, 1 loop each)\n"
     ]
    }
   ],
   "source": [
    "%%timeit -r 20\n",
    "get_conditiona_TRF(4, 3, eff_j)"
   ]
  },
  {
   "cell_type": "markdown",
   "id": "ccb1d0cd-19c8-4fb5-827c-d7d0f15ff934",
   "metadata": {},
   "source": [
    "# Memory usage analysis"
   ]
  },
  {
   "cell_type": "code",
   "execution_count": 1,
   "id": "51953018-3802-4944-82fa-23266a2409aa",
   "metadata": {
    "tags": []
   },
   "outputs": [
    {
     "name": "stdout",
     "output_type": "stream",
     "text": [
      "Collecting memory_profiler\n",
      "  Downloading memory_profiler-0.61.0-py3-none-any.whl (31 kB)\n",
      "Requirement already satisfied: psutil in /t3home/dvalsecc/micromamba/envs/pocket-coffea/lib/python3.9/site-packages (from memory_profiler) (5.9.5)\n",
      "Installing collected packages: memory_profiler\n",
      "Successfully installed memory_profiler-0.61.0\n"
     ]
    }
   ],
   "source": [
    "!pip install memory_profiler"
   ]
  },
  {
   "cell_type": "code",
   "execution_count": 13,
   "id": "facbeceb-c196-4952-ad58-8891510eed8f",
   "metadata": {
    "tags": []
   },
   "outputs": [
    {
     "name": "stdout",
     "output_type": "stream",
     "text": [
      "peak memory: 343.06 MiB, increment: 0.00 MiB\n"
     ]
    }
   ],
   "source": [
    "%%memit\n",
    "for i in range(20000):\n",
    "    for comb in combinations_numba(25, 4):\n",
    "        pass"
   ]
  },
  {
   "cell_type": "code",
   "execution_count": 9,
   "id": "d7b913bf-7f7c-44af-8c51-d0b5eab78912",
   "metadata": {
    "tags": []
   },
   "outputs": [
    {
     "name": "stdout",
     "output_type": "stream",
     "text": [
      "Overwriting test_memory_trf.py\n"
     ]
    }
   ],
   "source": [
    "%%file test_memory_trf.py\n",
    "\n",
    "from numba import njit\n",
    "import numpy as np\n",
    "\n",
    "#Pure numba combinations implementation\n",
    "#taken from https://stackoverflow.com/questions/61262188/numba-safe-version-of-itertools-combinations\n",
    "@njit\n",
    "def combinations_numba(n, r):\n",
    "    pool = list(range(n))\n",
    "    indices = list(range(r))\n",
    "    empty = not(n and (0 < r <= n))\n",
    "\n",
    "    if not empty:\n",
    "        result = [pool[i] for i in indices]\n",
    "        yield result\n",
    "\n",
    "    while not empty:\n",
    "        i = r - 1\n",
    "        while i >= 0 and indices[i] == i + n - r:\n",
    "            i -= 1\n",
    "        if i < 0:\n",
    "            empty = True\n",
    "        else:\n",
    "            indices[i] += 1\n",
    "            for j in range(i+1, r):\n",
    "                indices[j] = indices[j-1] + 1\n",
    "\n",
    "            result = [pool[i] for i in indices]\n",
    "            yield result\n",
    "            \n",
    "def get_prob_M_nonumba(M, effs):\n",
    "    '''Compute the probability of tagging M jets out of N total jets for each event.\n",
    "    It takes as input the tagging efficiency for each jet in each event (awkward array)'''\n",
    "    out = np.ones(len(effs))\n",
    "    iev = 0\n",
    "    \n",
    "    for eff in effs:\n",
    "        njets = len(eff)\n",
    "        \n",
    "        all_combinations_eff = 0.\n",
    "        for comb in combinations_numba(njets, M):\n",
    "            # iterate on the combinations\n",
    "            value = 1.\n",
    "            for j in range(njets):\n",
    "                if j in comb:\n",
    "                    value *= eff[j]\n",
    "                else:\n",
    "                    value *= 1-eff[j]\n",
    "            #Sum the value for this combination to the total\n",
    "            all_combinations_eff += value      \n",
    "            \n",
    "        out[iev] = all_combinations_eff\n",
    "        iev+=1\n",
    "    return out"
   ]
  },
  {
   "cell_type": "code",
   "execution_count": 39,
   "id": "9c089d59-a508-4651-850a-52bd526f2adf",
   "metadata": {
    "tags": []
   },
   "outputs": [
    {
     "name": "stdout",
     "output_type": "stream",
     "text": [
      "peak memory: 350.68 MiB, increment: 0.00 MiB\n"
     ]
    }
   ],
   "source": [
    "%%memit\n",
    "get_prob_M_nonumba(4, eff_j[0:100])"
   ]
  },
  {
   "cell_type": "code",
   "execution_count": 44,
   "id": "de79abd4-502f-4d60-8311-f20329fb7d0b",
   "metadata": {
    "tags": []
   },
   "outputs": [
    {
     "name": "stdout",
     "output_type": "stream",
     "text": [
      "peak memory: 5954.65 MiB, increment: 3094.68 MiB\n"
     ]
    }
   ],
   "source": [
    "%%memit\n",
    "get_prob_M(4, eff_j[0:50000])"
   ]
  },
  {
   "cell_type": "code",
   "execution_count": 10,
   "id": "654b2365-3e05-44b1-a093-a54bbeb6f959",
   "metadata": {
    "tags": []
   },
   "outputs": [
    {
     "name": "stdout",
     "output_type": "stream",
     "text": [
      "\n"
     ]
    },
    {
     "data": {
      "text/plain": [
       "Filename: /work/dvalsecc/ttHbb/PocketCoffea/notebooks/test_memory_trf.py\n",
       "\n",
       "Line #    Mem usage    Increment  Occurrences   Line Contents\n",
       "=============================================================\n",
       "    31    338.6 MiB    338.6 MiB           1   def get_prob_M_nonumba(M, effs):\n",
       "    32                                             '''Compute the probability of tagging M jets out of N total jets for each event.\n",
       "    33                                             It takes as input the tagging efficiency for each jet in each event (awkward array)'''\n",
       "    34    338.6 MiB      0.0 MiB           1       out = np.ones(len(effs))\n",
       "    35    338.6 MiB      0.0 MiB           1       iev = 0\n",
       "    36                                             \n",
       "    37    343.6 MiB      0.0 MiB        1001       for eff in effs:\n",
       "    38    343.6 MiB      0.0 MiB        1000           njets = len(eff)\n",
       "    39                                                 \n",
       "    40    343.6 MiB      0.0 MiB        1000           all_combinations_eff = 0.\n",
       "    41    343.6 MiB      4.8 MiB      365886           for comb in combinations_numba(njets, M):\n",
       "    42                                                     # iterate on the combinations\n",
       "    43    343.6 MiB      0.0 MiB      364886               value = 1.\n",
       "    44    343.6 MiB      0.0 MiB     5056510               for j in range(njets):\n",
       "    45    343.6 MiB      0.2 MiB     4691624                   if j in comb:\n",
       "    46    343.6 MiB      0.0 MiB     1459544                       value *= eff[j]\n",
       "    47                                                         else:\n",
       "    48    343.6 MiB      0.0 MiB     3232080                       value *= 1-eff[j]\n",
       "    49                                                     #Sum the value for this combination to the total\n",
       "    50    343.6 MiB      0.0 MiB      364886               all_combinations_eff += value      \n",
       "    51                                                     \n",
       "    52    343.6 MiB      0.0 MiB        1000           out[iev] = all_combinations_eff\n",
       "    53    343.6 MiB      0.0 MiB        1000           iev+=1\n",
       "    54    343.6 MiB      0.0 MiB           1       return out"
      ]
     },
     "metadata": {},
     "output_type": "display_data"
    }
   ],
   "source": [
    "from test_memory_trf import get_prob_M_nonumba\n",
    "%mprun -f get_prob_M_nonumba get_prob_M_nonumba(4, eff_j[0:1000])"
   ]
  },
  {
   "cell_type": "code",
   "execution_count": 11,
   "id": "c022eb28-bad2-4667-b323-8d08e8b4e859",
   "metadata": {
    "tags": []
   },
   "outputs": [
    {
     "name": "stdout",
     "output_type": "stream",
     "text": [
      "peak memory: 343.66 MiB, increment: 0.00 MiB\n"
     ]
    }
   ],
   "source": [
    "%%memit \n",
    "get_prob_M_nonumba(4, eff_j[0:1000])"
   ]
  },
  {
   "cell_type": "code",
   "execution_count": 12,
   "id": "2881c221-5bb4-4479-af61-31ceae44647c",
   "metadata": {
    "tags": []
   },
   "outputs": [
    {
     "name": "stdout",
     "output_type": "stream",
     "text": [
      "peak memory: 371.20 MiB, increment: 31.97 MiB\n"
     ]
    }
   ],
   "source": [
    "%%memit \n",
    "get_prob_M(4, eff_j[0:1000])"
   ]
  },
  {
   "cell_type": "code",
   "execution_count": 13,
   "id": "fb09b4e4-11e1-4d91-b641-61f1e0007d93",
   "metadata": {
    "tags": []
   },
   "outputs": [
    {
     "name": "stdout",
     "output_type": "stream",
     "text": [
      "peak memory: 1002.29 MiB, increment: 631.02 MiB\n"
     ]
    }
   ],
   "source": [
    "%%memit \n",
    "get_prob_M(4, eff_j[0:10000])"
   ]
  },
  {
   "cell_type": "code",
   "execution_count": 14,
   "id": "923c6e45-6910-4008-a875-31f64dd62987",
   "metadata": {
    "tags": []
   },
   "outputs": [
    {
     "name": "stdout",
     "output_type": "stream",
     "text": [
      "peak memory: 2268.62 MiB, increment: 1266.24 MiB\n"
     ]
    }
   ],
   "source": [
    "%%memit \n",
    "get_prob_M(4, eff_j[0:20000])"
   ]
  },
  {
   "cell_type": "code",
   "execution_count": null,
   "id": "72db881a-7191-4986-87ca-eb4dc965bc26",
   "metadata": {},
   "outputs": [],
   "source": []
  }
 ],
 "metadata": {
  "kernelspec": {
   "display_name": "Python 3 (ipykernel)",
   "language": "python",
   "name": "python3"
  },
  "language_info": {
   "codemirror_mode": {
    "name": "ipython",
    "version": 3
   },
   "file_extension": ".py",
   "mimetype": "text/x-python",
   "name": "python",
   "nbconvert_exporter": "python",
   "pygments_lexer": "ipython3",
   "version": "3.9.16"
  }
 },
 "nbformat": 4,
 "nbformat_minor": 5
}
