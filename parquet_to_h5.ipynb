{
 "cells": [
  {
   "cell_type": "code",
   "execution_count": 10,
   "id": "8fede7ba",
   "metadata": {},
   "outputs": [],
   "source": [
    "# This notebook is for creating a training sample and a separate testing sample\n",
    "# that includes lepton pt,eta,phi, met and ht from event\n",
    "# file all_jets_fullRun2_v1.parquet"
   ]
  },
  {
   "cell_type": "code",
   "execution_count": 11,
   "id": "e4654ba7",
   "metadata": {},
   "outputs": [],
   "source": [
    "import awkward as ak\n",
    "import numba\n",
    "import numpy as np\n",
    "import pandas as pd\n",
    "import awkward as ak\n",
    "import os\n",
    "import h5py\n",
    "import vector\n",
    "vector.register_numba()\n",
    "vector.register_awkward()\n",
    "\n",
    "\n",
    "a=22\n",
    "b=a+2\n",
    "#import matplotlib.pyplot as plt\n",
    "#from matplotlib.colors import LogNorm\n",
    "#import mplhep as hep\n",
    "#hep.style.use(hep.style.ROOT)"
   ]
  },
  {
   "cell_type": "code",
   "execution_count": 12,
   "id": "6bc2ec75",
   "metadata": {},
   "outputs": [],
   "source": [
    "main_dir= \"configs/HH4b/out_parton_matching_lastB_fulldataset/\"\n",
    "filename = f\"{main_dir}/GluGlutoHHto4B.parquet\"\n",
    "df = ak.from_parquet(filename)"
   ]
  },
  {
   "cell_type": "code",
   "execution_count": 13,
   "id": "adf95f99",
   "metadata": {},
   "outputs": [
    {
     "name": "stdout",
     "output_type": "stream",
     "text": [
      "21798560\n",
      "15279606\n",
      "18159400\n",
      "15161874\n"
     ]
    }
   ],
   "source": [
    "print(ak.count(df.JetGood))\n",
    "print(ak.count(df.JetGoodMatched))\n",
    "print(ak.count(df.JetGoodHiggs))\n",
    "print(ak.count(df.JetGoodHiggsMatched))\n"
   ]
  },
  {
   "cell_type": "code",
   "execution_count": 14,
   "id": "7371ce2c-1bb8-4ccd-a170-c0cf58b78b56",
   "metadata": {},
   "outputs": [
    {
     "name": "stdout",
     "output_type": "stream",
     "text": [
      "['pt', 'eta', 'phi', 'btag', 'ptPnetRegNeutrino', 'matched', 'prov']\n",
      "[[True, True, True, True], [True, True, True, True, False]]\n",
      "[[1, 1, 2, 2], [1, 2, 2, 1, -1]]\n",
      "[[True, True, True, True], [True, True, True, True]]\n",
      "[[1, 1, 2, 2], [1, 2, 2, 1]]\n"
     ]
    }
   ],
   "source": [
    "jets = ak.with_name(df.JetGood, name=\"Momentum4D\")\n",
    "jets_higgs = ak.with_name(df.JetGoodHiggs, name=\"Momentum4D\")\n",
    "# b_quarks = ak.with_name(df.bQuark, name=\"Momentum4D\")\n",
    "\n",
    "jets\n",
    "len(jets)\n",
    "print(jets.fields)\n",
    "print(jets.matched[a:b])\n",
    "print(jets.prov[a:b])\n",
    "\n",
    "print(jets_higgs.matched[a:b]\n",
    "        )\n",
    "print(jets_higgs.prov[a:b])"
   ]
  },
  {
   "cell_type": "code",
   "execution_count": 15,
   "id": "1713515c",
   "metadata": {},
   "outputs": [
    {
     "name": "stdout",
     "output_type": "stream",
     "text": [
      "21798560\n"
     ]
    },
    {
     "data": {
      "text/plain": [
       "648550"
      ]
     },
     "execution_count": 15,
     "metadata": {},
     "output_type": "execute_result"
    }
   ],
   "source": [
    "frac_train = 0.8\n",
    "\n",
    "ntot = ak.count(jets)\n",
    "print(ntot)\n",
    "ntot=len(jets)\n",
    "index_train_max = int(np.ceil(frac_train*ntot))\n",
    "ntot"
   ]
  },
  {
   "cell_type": "code",
   "execution_count": 16,
   "id": "18f36628",
   "metadata": {},
   "outputs": [
    {
     "name": "stdout",
     "output_type": "stream",
     "text": [
      "518840\n",
      "17439800 4358760\n",
      "518840 129710\n",
      "[561454 623587 575069 ... 208141 454411 152810]\n"
     ]
    }
   ],
   "source": [
    "jets_train = jets[:index_train_max]\n",
    "\n",
    "jets_test = jets[index_train_max:]\n",
    "\n",
    "print(index_train_max)\n",
    "print(ak.count(jets_train), ak.count(jets_test))\n",
    "print(len(jets_train), len(jets_test))\n",
    "idx_train = np.random.choice(ntot, index_train_max, replace=False)\n",
    "print(idx_train)\n"
   ]
  },
  {
   "cell_type": "code",
   "execution_count": 17,
   "id": "528ffc3b",
   "metadata": {},
   "outputs": [],
   "source": [
    "def create_groups(file):\n",
    "    file.create_group(\"TARGETS/h1\") # higgs 1 -> b1 b2\n",
    "    file.create_group(\"TARGETS/h2\") # higgs 2 -> b3 b4\n",
    "    file.create_group(\"INPUTS\")\n",
    "    file.create_group(\"INPUTS/Source\")\n",
    "    file.create_group(\"INPUTS/ht\")\n",
    "    return file\n",
    "\n",
    "def create_targets(file, particle, jets):\n",
    "    multiindex = ak.zip([ak.local_index(jets, i) for i in range(jets.ndim)])\n",
    "\n",
    "    higgs_targets = {1: [\"b1\", \"b2\"], 2: [\"b3\", \"b4\"]}\n",
    "\n",
    "    for j in [1,2]:\n",
    "        if particle == f\"h{j}\":\n",
    "            mask = jets.prov == j # H->b1b2\n",
    "            multiindex2 = multiindex[mask]\n",
    "            print(multiindex2)\n",
    "\n",
    "            b1_array = []\n",
    "            b2_array = []\n",
    "\n",
    "            for index,i in enumerate(multiindex2):\n",
    "                if len(i) == 0:\n",
    "                    b1_array.append(-1)\n",
    "                    b2_array.append(-1)\n",
    "                elif len(i) == 1:\n",
    "                    b1_array.append(i[0].tolist()[1])\n",
    "                    b2_array.append(-1)\n",
    "                elif len(i) == 2:\n",
    "                    b1_array.append(i[0].tolist()[1])\n",
    "                    b2_array.append(i[1].tolist()[1])\n",
    "\n",
    "            file.create_dataset(f\"TARGETS/h{j}/{higgs_targets[j][0]}\", np.shape(b1_array), dtype='int64', data=b1_array)\n",
    "            file.create_dataset(f\"TARGETS/h{j}/{higgs_targets[j][1]}\", np.shape(b2_array), dtype='int64', data=b2_array)\n",
    "\n",
    "\n",
    "def create_inputs(file, jets):\n",
    "    pt_array = ak.to_numpy(ak.fill_none(ak.pad_none(jets.pt, 16, clip=True), 0))\n",
    "    mask = ~(pt_array == 0)\n",
    "    mask_ds = file.create_dataset(\"INPUTS/Jet/MASK\", np.shape(mask), dtype='bool', data=mask)\n",
    "    pt_ds = file.create_dataset(\"INPUTS/Jet/pt\", np.shape(pt_array), dtype='float32', data=pt_array)\n",
    "\n",
    "    ptPnetRegNeutrino_array = ak.to_numpy(ak.fill_none(ak.pad_none(jets.ptPnetRegNeutrino, 16, clip=True), 0))\n",
    "    ptPnetRegNeutrino_ds = file.create_dataset(\"INPUTS/Jet/ptPnetRegNeutrino\", np.shape(ptPnetRegNeutrino_array), dtype='float32', data=ptPnetRegNeutrino_array)\n",
    "\n",
    "    phi_array = ak.to_numpy(ak.fill_none(ak.pad_none(jets.phi, 16, clip=True), 0))\n",
    "    phi_ds = file.create_dataset(\"INPUTS/Jet/phi\", np.shape(phi_array), dtype='float32', data=phi_array)\n",
    "\n",
    "    eta_array = ak.to_numpy(ak.fill_none(ak.pad_none(jets.eta, 16, clip=True), 0))\n",
    "    eta_ds = file.create_dataset(\"INPUTS/Jet/eta\", np.shape(eta_array), dtype='float32', data=eta_array)\n",
    "\n",
    "    btag = ak.to_numpy(ak.fill_none(ak.pad_none(jets.btag, 16, clip=True), 0))\n",
    "    btag_ds = file.create_dataset(\"INPUTS/Jet/btag\", np.shape(btag), dtype='float32', data=btag)\n",
    "\n",
    "    # Fill ht\n",
    "    pt_array = ak.to_numpy(ak.fill_none(ak.pad_none(jets.pt, 15, clip=True), 0))\n",
    "    ht_array = np.sum(pt_array, axis=1)\n",
    "    ht_ds = file.create_dataset(\"INPUTS/ht/ht\", np.shape(ht_array), dtype='float32', data=ht_array)\n",
    "\n",
    "    # Fill ht\n",
    "    ptPnetRegNeutrino_array = ak.to_numpy(ak.fill_none(ak.pad_none(jets.ptPnetRegNeutrino, 15, clip=True), 0))\n",
    "    htPNetRegNeutrino_array = np.sum(ptPnetRegNeutrino_array, axis=1)\n",
    "    htPNetRegNeutrino_ds = file.create_dataset(\"INPUTS/ht/htPNetRegNeutrino\", np.shape(htPNetRegNeutrino_array), dtype='float32', data=htPNetRegNeutrino_array)"
   ]
  },
  {
   "cell_type": "code",
   "execution_count": 18,
   "id": "df45aae2",
   "metadata": {},
   "outputs": [
    {
     "name": "stdout",
     "output_type": "stream",
     "text": [
      "120498\n",
      "602531\n"
     ]
    }
   ],
   "source": [
    "mask_fullymatched = ak.sum(jets_test.matched == True, axis=1)>=4\n",
    "jets_test_fullymatched = jets_test[mask_fullymatched]\n",
    "print(len(jets_test_fullymatched))\n",
    "\n",
    "mask_fullymatched = ak.sum(jets.matched == True, axis=1)>=4\n",
    "jets_fullymatched = jets[mask_fullymatched]\n",
    "print(len(jets_fullymatched))"
   ]
  },
  {
   "cell_type": "code",
   "execution_count": 19,
   "id": "74fee3a4",
   "metadata": {},
   "outputs": [],
   "source": [
    "# higgs = jets_test_fullymatched[jets_test_fullymatched.prov == 1]\n",
    "# mask_match = ak.num(higgs) == 2\n",
    "\n",
    "# w_or_t_jets = jets_test_fullymatched[(jets_test_fullymatched.prov == 5)|(jets_test_fullymatched.prov == 2)]\n",
    "# mask_match = mask_match & (ak.num(w_or_t_jets) == 3)\n",
    "\n",
    "# lep_top = jets_test_fullymatched[jets_test_fullymatched.prov == 3]\n",
    "# mask_match = mask_match & (ak.num(lep_top) == 1)\n",
    "\n",
    "# jets_test_fullymatched = jets_test_fullymatched[mask_match]\n",
    "# jets_test_fullymatched"
   ]
  },
  {
   "cell_type": "code",
   "execution_count": 21,
   "id": "7f84bb33",
   "metadata": {},
   "outputs": [],
   "source": [
    "# Prepare files for inputs and targets and overwrite them\n",
    "# remove old file\n",
    "# os.remove(f\"{main_dir}/output_all.h5\")\n",
    "test_file = h5py.File(f\"{main_dir}/output_test.h5\", \"w\")\n",
    "test_file = create_groups(test_file)"
   ]
  },
  {
   "cell_type": "code",
   "execution_count": 22,
   "id": "6066dc46",
   "metadata": {},
   "outputs": [
    {
     "name": "stdout",
     "output_type": "stream",
     "text": [
      "[[(0, 1), (0, 3)], [(1, 1), (1, 2)], ... ), (648548, 3)], [(648549, 2), (648549, 3)]]\n"
     ]
    },
    {
     "ename": "KeyboardInterrupt",
     "evalue": "",
     "output_type": "error",
     "traceback": [
      "\u001b[0;31m---------------------------------------------------------------------------\u001b[0m",
      "\u001b[0;31mKeyboardInterrupt\u001b[0m                         Traceback (most recent call last)",
      "Cell \u001b[0;32mIn[22], line 3\u001b[0m\n\u001b[1;32m      1\u001b[0m \u001b[38;5;66;03m# create_targets(test_file, \"h1\", jets_test_fullymatched)\u001b[39;00m\n\u001b[1;32m      2\u001b[0m \u001b[38;5;66;03m# create_targets(test_file, \"h2\", jets_test_fullymatched)\u001b[39;00m\n\u001b[0;32m----> 3\u001b[0m \u001b[43mcreate_targets\u001b[49m\u001b[43m(\u001b[49m\u001b[43mtest_file\u001b[49m\u001b[43m,\u001b[49m\u001b[43m \u001b[49m\u001b[38;5;124;43m\"\u001b[39;49m\u001b[38;5;124;43mh1\u001b[39;49m\u001b[38;5;124;43m\"\u001b[39;49m\u001b[43m,\u001b[49m\u001b[43m \u001b[49m\u001b[43mjets\u001b[49m\u001b[43m)\u001b[49m\n\u001b[1;32m      4\u001b[0m create_targets(test_file, \u001b[38;5;124m\"\u001b[39m\u001b[38;5;124mh2\u001b[39m\u001b[38;5;124m\"\u001b[39m, jets)\n",
      "Cell \u001b[0;32mIn[17], line 31\u001b[0m, in \u001b[0;36mcreate_targets\u001b[0;34m(file, particle, jets)\u001b[0m\n\u001b[1;32m     29\u001b[0m         b2_array\u001b[38;5;241m.\u001b[39mappend(\u001b[38;5;241m-\u001b[39m\u001b[38;5;241m1\u001b[39m)\n\u001b[1;32m     30\u001b[0m     \u001b[38;5;28;01melif\u001b[39;00m \u001b[38;5;28mlen\u001b[39m(i) \u001b[38;5;241m==\u001b[39m \u001b[38;5;241m2\u001b[39m:\n\u001b[0;32m---> 31\u001b[0m         b1_array\u001b[38;5;241m.\u001b[39mappend(\u001b[43mi\u001b[49m\u001b[43m[\u001b[49m\u001b[38;5;241;43m0\u001b[39;49m\u001b[43m]\u001b[49m\u001b[38;5;241m.\u001b[39mtolist()[\u001b[38;5;241m1\u001b[39m])\n\u001b[1;32m     32\u001b[0m         b2_array\u001b[38;5;241m.\u001b[39mappend(i[\u001b[38;5;241m1\u001b[39m]\u001b[38;5;241m.\u001b[39mtolist()[\u001b[38;5;241m1\u001b[39m])\n\u001b[1;32m     34\u001b[0m file\u001b[38;5;241m.\u001b[39mcreate_dataset(\u001b[38;5;124mf\u001b[39m\u001b[38;5;124m\"\u001b[39m\u001b[38;5;124mTARGETS/h\u001b[39m\u001b[38;5;132;01m{\u001b[39;00mj\u001b[38;5;132;01m}\u001b[39;00m\u001b[38;5;124m/\u001b[39m\u001b[38;5;132;01m{\u001b[39;00mhiggs_targets[j][\u001b[38;5;241m0\u001b[39m]\u001b[38;5;132;01m}\u001b[39;00m\u001b[38;5;124m\"\u001b[39m, np\u001b[38;5;241m.\u001b[39mshape(b1_array), dtype\u001b[38;5;241m=\u001b[39m\u001b[38;5;124m'\u001b[39m\u001b[38;5;124mint64\u001b[39m\u001b[38;5;124m'\u001b[39m, data\u001b[38;5;241m=\u001b[39mb1_array)\n",
      "File \u001b[0;32m~/micromamba/envs/pocket-coffea/lib/python3.9/site-packages/awkward/highlevel.py:990\u001b[0m, in \u001b[0;36mArray.__getitem__\u001b[0;34m(self, where)\u001b[0m\n\u001b[1;32m    578\u001b[0m \u001b[38;5;28;01mdef\u001b[39;00m \u001b[38;5;21m__getitem__\u001b[39m(\u001b[38;5;28mself\u001b[39m, where):\n\u001b[1;32m    579\u001b[0m \u001b[38;5;250m    \u001b[39m\u001b[38;5;124;03m\"\"\"\u001b[39;00m\n\u001b[1;32m    580\u001b[0m \u001b[38;5;124;03m    Args:\u001b[39;00m\n\u001b[1;32m    581\u001b[0m \u001b[38;5;124;03m        where (many types supported; see below): Index of positions to\u001b[39;00m\n\u001b[0;32m   (...)\u001b[0m\n\u001b[1;32m    988\u001b[0m \u001b[38;5;124;03m    have the same dimension as the array being indexed.\u001b[39;00m\n\u001b[1;32m    989\u001b[0m \u001b[38;5;124;03m    \"\"\"\u001b[39;00m\n\u001b[0;32m--> 990\u001b[0m     \u001b[38;5;28;01mif\u001b[39;00m \u001b[38;5;129;01mnot\u001b[39;00m \u001b[38;5;28;43mhasattr\u001b[39;49m\u001b[43m(\u001b[49m\u001b[38;5;28;43mself\u001b[39;49m\u001b[43m,\u001b[49m\u001b[43m \u001b[49m\u001b[38;5;124;43m\"\u001b[39;49m\u001b[38;5;124;43m_tracers\u001b[39;49m\u001b[38;5;124;43m\"\u001b[39;49m\u001b[43m)\u001b[49m:\n\u001b[1;32m    991\u001b[0m         tmp \u001b[38;5;241m=\u001b[39m ak\u001b[38;5;241m.\u001b[39m_util\u001b[38;5;241m.\u001b[39mwrap(\u001b[38;5;28mself\u001b[39m\u001b[38;5;241m.\u001b[39mlayout[where], \u001b[38;5;28mself\u001b[39m\u001b[38;5;241m.\u001b[39m_behavior)\n\u001b[1;32m    992\u001b[0m     \u001b[38;5;28;01melse\u001b[39;00m:\n",
      "File \u001b[0;32m~/micromamba/envs/pocket-coffea/lib/python3.9/site-packages/awkward/highlevel.py:1110\u001b[0m, in \u001b[0;36mArray.__getattr__\u001b[0;34m(self, where)\u001b[0m\n\u001b[1;32m   1071\u001b[0m \u001b[38;5;28;01mdef\u001b[39;00m \u001b[38;5;21m__getattr__\u001b[39m(\u001b[38;5;28mself\u001b[39m, where):\n\u001b[1;32m   1072\u001b[0m \u001b[38;5;250m    \u001b[39m\u001b[38;5;124;03m\"\"\"\u001b[39;00m\n\u001b[1;32m   1073\u001b[0m \u001b[38;5;124;03m    Whenever possible, fields can be accessed as attributes.\u001b[39;00m\n\u001b[1;32m   1074\u001b[0m \n\u001b[0;32m   (...)\u001b[0m\n\u001b[1;32m   1108\u001b[0m \u001b[38;5;124;03m    to add a field.\u001b[39;00m\n\u001b[1;32m   1109\u001b[0m \u001b[38;5;124;03m    \"\"\"\u001b[39;00m\n\u001b[0;32m-> 1110\u001b[0m     \u001b[38;5;28;01mif\u001b[39;00m where \u001b[38;5;129;01min\u001b[39;00m \u001b[38;5;28;43mdir\u001b[39;49m\u001b[43m(\u001b[49m\u001b[38;5;28;43mtype\u001b[39;49m\u001b[43m(\u001b[49m\u001b[38;5;28;43mself\u001b[39;49m\u001b[43m)\u001b[49m\u001b[43m)\u001b[49m:\n\u001b[1;32m   1111\u001b[0m         \u001b[38;5;28;01mreturn\u001b[39;00m \u001b[38;5;28msuper\u001b[39m()\u001b[38;5;241m.\u001b[39m\u001b[38;5;21m__getattribute__\u001b[39m(where)\n\u001b[1;32m   1112\u001b[0m     \u001b[38;5;28;01melse\u001b[39;00m:\n",
      "\u001b[0;31mKeyboardInterrupt\u001b[0m: "
     ]
    }
   ],
   "source": [
    "# create_targets(test_file, \"h1\", jets_test_fullymatched)\n",
    "# create_targets(test_file, \"h2\", jets_test_fullymatched)\n",
    "create_targets(test_file, \"h1\", jets)\n",
    "create_targets(test_file, \"h2\", jets)\n"
   ]
  },
  {
   "cell_type": "code",
   "execution_count": null,
   "id": "a44c364a",
   "metadata": {},
   "outputs": [],
   "source": [
    "# Create input arrays in the files\n",
    "# create_inputs(test_file, jets_test_fullymatched)\n",
    "create_inputs(test_file, jets)"
   ]
  },
  {
   "cell_type": "code",
   "execution_count": null,
   "id": "d3347c56-5b73-452f-b7ef-bffed8c20312",
   "metadata": {},
   "outputs": [
    {
     "data": {
      "text/plain": [
       "<HDF5 file \"output_all.h5\" (mode r+)>"
      ]
     },
     "execution_count": 145,
     "metadata": {},
     "output_type": "execute_result"
    }
   ],
   "source": [
    "test_file"
   ]
  },
  {
   "cell_type": "code",
   "execution_count": null,
   "id": "87859754-c6e2-43bd-89a9-23dcf2e347b4",
   "metadata": {},
   "outputs": [
    {
     "name": "stdout",
     "output_type": "stream",
     "text": [
      "[0 0]\n",
      "[3 4]\n",
      "[1 2]\n",
      "[2 3]\n",
      "[[True, True, True, True], [True, False, True, True, True, False]]\n",
      "[[1, 2, 2, 1], [1, -1, 2, 2, 1, -1]]\n",
      "[[True, True, True, True], [True, False, True, True]]\n",
      "[[1, 2, 2, 1], [1, -1, 2, 2]]\n",
      "[[1, 1, 2, 2], [1, 2, 2, 1]]\n",
      "[[[0.926, 0.00689, 2.98, 2.73], [2.72, 2.85, ... 3.09], [2.38, 1.19, 0.0403, 2.15]]]\n"
     ]
    }
   ],
   "source": [
    "# Print the index of b-jets\n",
    "print(test_file[\"TARGETS\"][\"h1\"][\"b1\"][a:b])\n",
    "print(test_file[\"TARGETS\"][\"h1\"][\"b2\"][a:b])\n",
    "print(test_file[\"TARGETS\"][\"h2\"][\"b3\"][a:b])\n",
    "print(test_file[\"TARGETS\"][\"h2\"][\"b4\"][a:b])\n",
    "print(jets.matched[a:b])\n",
    "print(jets.prov[a:b])\n",
    "\n",
    "print(jets_higgs.matched[a:b]\n",
    "        )\n",
    "print(jets_higgs.prov[a:b])\n",
    "# print(b_quarks.matched[a:b])\n",
    "# print(b_quarks.prov[a:b])\n",
    "\n",
    "#deltaR between b-quarks and jets\n",
    "# deltaR=ak.cartesian({\"a\":jets_higgs,\"b\":b_quarks}, nested=True)\n",
    "# deltaR=deltaR.a.deltaR(deltaR.b)\n",
    "\n",
    "# print(deltaR[a:b])"
   ]
  },
  {
   "cell_type": "code",
   "execution_count": null,
   "id": "47c90b32-733f-4935-84c8-c67d01846821",
   "metadata": {},
   "outputs": [
    {
     "ename": "OSError",
     "evalue": "[Errno 116] Can't synchronously read data (file read failed: time = Thu Feb 15 15:31:50 2024\n, filename = 'configs/HH4b/out_parton_matching_lastB_new//output_all.h5', file descriptor = 88, errno = 116, error message = 'Stale file handle', buf = 0x5632aabecf08, total read size = 65536, bytes this sub-read = 65536, bytes actually read = 18446744073709551615, offset = 0)",
     "output_type": "error",
     "traceback": [
      "\u001b[0;31m---------------------------------------------------------------------------\u001b[0m",
      "\u001b[0;31mOSError\u001b[0m                                   Traceback (most recent call last)",
      "Cell \u001b[0;32mIn[165], line 2\u001b[0m\n\u001b[1;32m      1\u001b[0m \u001b[38;5;66;03m# Print the btag score of jets\u001b[39;00m\n\u001b[0;32m----> 2\u001b[0m \u001b[43mtest_file\u001b[49m\u001b[43m[\u001b[49m\u001b[38;5;124;43m\"\u001b[39;49m\u001b[38;5;124;43mINPUTS\u001b[39;49m\u001b[38;5;124;43m\"\u001b[39;49m\u001b[43m]\u001b[49m\u001b[43m[\u001b[49m\u001b[38;5;124;43m\"\u001b[39;49m\u001b[38;5;124;43mJet\u001b[39;49m\u001b[38;5;124;43m\"\u001b[39;49m\u001b[43m]\u001b[49m\u001b[43m[\u001b[49m\u001b[38;5;124;43m\"\u001b[39;49m\u001b[38;5;124;43mbtag\u001b[39;49m\u001b[38;5;124;43m\"\u001b[39;49m\u001b[43m]\u001b[49m\u001b[43m[\u001b[49m\u001b[43ma\u001b[49m\u001b[43m:\u001b[49m\u001b[43mb\u001b[49m\u001b[43m]\u001b[49m\n\u001b[1;32m      3\u001b[0m test_file[\u001b[38;5;124m\"\u001b[39m\u001b[38;5;124mINPUTS\u001b[39m\u001b[38;5;124m\"\u001b[39m][\u001b[38;5;124m\"\u001b[39m\u001b[38;5;124mSource\u001b[39m\u001b[38;5;124m\"\u001b[39m]\n",
      "File \u001b[0;32mh5py/_objects.pyx:54\u001b[0m, in \u001b[0;36mh5py._objects.with_phil.wrapper\u001b[0;34m()\u001b[0m\n",
      "File \u001b[0;32mh5py/_objects.pyx:55\u001b[0m, in \u001b[0;36mh5py._objects.with_phil.wrapper\u001b[0;34m()\u001b[0m\n",
      "File \u001b[0;32m~/micromamba/envs/pocket-coffea/lib/python3.9/site-packages/h5py/_hl/dataset.py:758\u001b[0m, in \u001b[0;36mDataset.__getitem__\u001b[0;34m(self, args, new_dtype)\u001b[0m\n\u001b[1;32m    756\u001b[0m \u001b[38;5;28;01mif\u001b[39;00m \u001b[38;5;28mself\u001b[39m\u001b[38;5;241m.\u001b[39m_fast_read_ok \u001b[38;5;129;01mand\u001b[39;00m (new_dtype \u001b[38;5;129;01mis\u001b[39;00m \u001b[38;5;28;01mNone\u001b[39;00m):\n\u001b[1;32m    757\u001b[0m     \u001b[38;5;28;01mtry\u001b[39;00m:\n\u001b[0;32m--> 758\u001b[0m         \u001b[38;5;28;01mreturn\u001b[39;00m \u001b[38;5;28;43mself\u001b[39;49m\u001b[38;5;241;43m.\u001b[39;49m\u001b[43m_fast_reader\u001b[49m\u001b[38;5;241;43m.\u001b[39;49m\u001b[43mread\u001b[49m\u001b[43m(\u001b[49m\u001b[43margs\u001b[49m\u001b[43m)\u001b[49m\n\u001b[1;32m    759\u001b[0m     \u001b[38;5;28;01mexcept\u001b[39;00m \u001b[38;5;167;01mTypeError\u001b[39;00m:\n\u001b[1;32m    760\u001b[0m         \u001b[38;5;28;01mpass\u001b[39;00m  \u001b[38;5;66;03m# Fall back to Python read pathway below\u001b[39;00m\n",
      "File \u001b[0;32mh5py/_selector.pyx:376\u001b[0m, in \u001b[0;36mh5py._selector.Reader.read\u001b[0;34m()\u001b[0m\n",
      "\u001b[0;31mOSError\u001b[0m: [Errno 116] Can't synchronously read data (file read failed: time = Thu Feb 15 15:31:50 2024\n, filename = 'configs/HH4b/out_parton_matching_lastB_new//output_all.h5', file descriptor = 88, errno = 116, error message = 'Stale file handle', buf = 0x5632aabecf08, total read size = 65536, bytes this sub-read = 65536, bytes actually read = 18446744073709551615, offset = 0)"
     ]
    }
   ],
   "source": [
    "# Print the btag score of jets\n",
    "test_file[\"INPUTS\"][\"Jet\"][\"btag\"][a:b]\n",
    "test_file[\"INPUTS\"][\"Source\"]\n"
   ]
  },
  {
   "cell_type": "code",
   "execution_count": null,
   "id": "10335b50-42ff-4e31-a259-4dfab4d070a8",
   "metadata": {},
   "outputs": [],
   "source": [
    "# test_file.close()"
   ]
  },
  {
   "cell_type": "code",
   "execution_count": null,
   "id": "b51f8a30-3fed-4a23-9d68-b5e0b2fb7844",
   "metadata": {},
   "outputs": [],
   "source": []
  }
 ],
 "metadata": {
  "@webio": {
   "lastCommId": null,
   "lastKernelId": null
  },
  "kernelspec": {
   "display_name": "Python 3 (ipykernel)",
   "language": "python",
   "name": "python3"
  },
  "language_info": {
   "codemirror_mode": {
    "name": "ipython",
    "version": 3
   },
   "file_extension": ".py",
   "mimetype": "text/x-python",
   "name": "python",
   "nbconvert_exporter": "python",
   "pygments_lexer": "ipython3",
   "version": "3.9.18"
  }
 },
 "nbformat": 4,
 "nbformat_minor": 5
}
