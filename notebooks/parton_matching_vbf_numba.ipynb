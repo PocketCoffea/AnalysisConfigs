{
 "cells": [
  {
   "cell_type": "code",
   "execution_count": null,
   "metadata": {},
   "outputs": [],
   "source": [
    "from coffea.nanoevents import NanoEventsFactory, NanoAODSchema\n",
    "import awkward as ak\n",
    "import matplotlib.pyplot as plt\n",
    "import numba\n",
    "from numba import njit\n",
    "import numpy as np"
   ]
  },
  {
   "cell_type": "code",
   "execution_count": null,
   "metadata": {},
   "outputs": [],
   "source": [
    "filename =\"/pnfs/psi.ch/cms/trivcat/store/mc/Run3Summer22EENanoAODv12/VBFHHto4B_CV_1_C2V_1_C3_1_TuneCP5_13p6TeV_madgraph-pythia8/NANOAODSIM/130X_mcRun3_2022_realistic_postEE_v6-v3/80000/a897cbbf-ea0b-40d5-b850-f9f24a7906a5.root\"\n",
    "events = NanoEventsFactory.from_root(filename, schemaclass=NanoAODSchema, entry_stop=1).events()\n",
    "print(\"Events read:\", len(events))"
   ]
  },
  {
   "cell_type": "code",
   "execution_count": null,
   "metadata": {},
   "outputs": [],
   "source": [
    "events.GenPart=ak.with_field(events.GenPart, ak.local_index(events.GenPart, axis=1), \"index\")\n",
    "genpart= events.GenPart\n",
    "single_event=-1\n",
    "if (single_event!=-1):\n",
    "    genpart= events.GenPart[single_event]\n",
    "\n",
    "\n",
    "isQuark = abs(genpart.pdgId) < 7\n",
    "isHard = genpart.hasFlags([\"fromHardProcess\"])\n",
    "\n",
    "quarks = genpart[isQuark & isHard]\n",
    "quarks = quarks[quarks.genPartIdxMother!=-1]\n",
    "\n",
    "quarks_mother = genpart[quarks.genPartIdxMother]\n",
    "quarks_mother_children = quarks_mother.children\n",
    "quarks_mother_children_isH = ak.sum((quarks_mother_children.pdgId == 25), axis=-1)==2\n",
    "vbf_quarks = quarks[quarks_mother_children_isH]\n",
    "\n",
    "\n",
    "print(quarks_mother_children_isH, quarks_mother_children_isH[0])\n",
    "print(quarks.pdgId, quarks.genPartIdxMother, quarks.index)\n",
    "print(vbf_quarks.pdgId, vbf_quarks.genPartIdxMother, vbf_quarks.index, genpart[vbf_quarks.genPartIdxMother].pdgId)\n",
    "print(vbf_quarks.hasFlags([\"isFirstCopy\"]))\n"
   ]
  },
  {
   "cell_type": "code",
   "execution_count": null,
   "metadata": {},
   "outputs": [],
   "source": [
    "vbf_quarks_children_idx=vbf_quarks.children.index\n",
    "print(vbf_quarks.index)\n",
    "\n",
    "print(vbf_quarks_children_idx)\n",
    "print(ak.num(genpart, axis=1))\n",
    "print(vbf_quarks.childrenIdxG)\n",
    "\n",
    "print(genpart)\n"
   ]
  },
  {
   "cell_type": "code",
   "execution_count": null,
   "metadata": {},
   "outputs": [],
   "source": [
    "\n",
    "genparts = events.GenPart\n",
    "\n",
    "children_idxG = ak.without_parameters(genparts.childrenIdxG, behavior={})\n",
    "children_idxG_flat = ak.flatten(children_idxG, axis=1)\n",
    "genpart_pdgId_flat = ak.flatten(ak.without_parameters(genparts.pdgId, behavior={}), axis=1)\n",
    "genpart_LastCopy_flat = ak.flatten(ak.without_parameters(genparts.hasFlags([\"isLastCopy\"]), behavior={}), axis=1)\n",
    "genparts_flat = ak.flatten(genparts)\n",
    "genpart_offsets = np.concatenate([[0],np.cumsum(ak.to_numpy(ak.num(genparts, axis=1), allow_missing=True))])\n",
    "local_index_all = ak.local_index(genparts, axis=1)\n",
    "local_index_vbf = ak.local_index(vbf_quarks, axis=1)\n",
    "\n",
    "print(genpart_offsets)\n",
    "print(children_idxG)\n",
    "print(children_idxG_flat)\n",
    "print(genpart_pdgId_flat)\n",
    "print(genpart_LastCopy_flat)\n",
    "print(genparts_flat.index, ak.num(genparts_flat.index, axis=0))\n",
    "print(local_index_all, ak.num(local_index_all, axis=1))\n"
   ]
  },
  {
   "cell_type": "code",
   "execution_count": null,
   "metadata": {},
   "outputs": [],
   "source": [
    "vbf_quark_idx = ak.to_numpy(vbf_quarks.index+genpart_offsets[:-1], allow_missing=False)\n",
    "vbf_quarks_pdgId = ak.to_numpy(vbf_quarks.pdgId, allow_missing=False)\n",
    "nevents=vbf_quark_idx.shape[0]\n",
    "print(nevents)\n",
    "print(vbf_quark_idx)"
   ]
  },
  {
   "cell_type": "code",
   "execution_count": null,
   "metadata": {},
   "outputs": [],
   "source": [
    "@njit\n",
    "def analyze_parton_from_vbf_quarks(\n",
    "    vbf_quarks_idx,\n",
    "    vbf_quarks_pdgId,\n",
    "    children_idxG_flat,\n",
    "    genpart_pdgId_flat,\n",
    "    genpart_offsets,\n",
    "    genpart_LastCopy_flat,\n",
    "    nevents,\n",
    "):\n",
    "    # print input array\n",
    "    print(\"vbf_quarks_idx\", vbf_quarks_idx)\n",
    "    print(\"vbf_quarks_pdgId\", vbf_quarks_pdgId)\n",
    "    print(\"children_idxG_flat\", children_idxG_flat)\n",
    "    print(\"genpart_pdgId_flat\", genpart_pdgId_flat)\n",
    "    print(\"genpart_offsets\", genpart_offsets)\n",
    "    print(\"genpart_LastCopy_flat\", genpart_LastCopy_flat)\n",
    "    print(\"nevents\", nevents)\n",
    "\n",
    "\n",
    "    # get the children ofthe vbf_quarks which have the same pdgId of the mother iteratively until we reach the last copy\n",
    "\n",
    "    out = np.zeros(vbf_quarks_idx.shape, dtype=\"int64\")-1\n",
    "\n",
    "    for iev in range(vbf_quarks_idx.shape[0]):\n",
    "        print(\"Event\", iev)\n",
    "        for ipart in range(vbf_quarks_idx.shape[1]):\n",
    "            p_id = vbf_quarks_idx[iev][ipart]\n",
    "            print(\"Parton\", ipart)\n",
    "            children_idxs = children_idxG_flat[p_id]\n",
    "            print(children_idxs)\n",
    "            if genpart_LastCopy_flat[p_id]:\n",
    "                out[iev][ipart] = p_id\n",
    "                continue\n",
    "            while not genpart_LastCopy_flat[p_id]:\n",
    "                for child_idx in children_idxs:\n",
    "                    print(\"Child\", child_idx)\n",
    "                    print(genpart_pdgId_flat[child_idx])\n",
    "                    print(vbf_quarks_pdgId[iev][ipart])\n",
    "                    if genpart_pdgId_flat[child_idx] == vbf_quarks_pdgId[iev][ipart]:\n",
    "                        print(genpart_LastCopy_flat[child_idx])\n",
    "                        if  genpart_LastCopy_flat[child_idx]:\n",
    "                            print(\"Found child\")\n",
    "                            out[iev][ipart] = child_idx\n",
    "                            break\n",
    "                        print(p_id, child_idx)\n",
    "                        p_id = child_idx\n",
    "                        print(p_id, child_idx)\n",
    "                if out[iev][ipart]!=-1:\n",
    "                    break\n",
    "\n",
    "\n",
    "            # for child_idx in children_idxs:\n",
    "            #     print(\"Child\", child_idx)\n",
    "            #     print(genpart_pdgId_flat[child_idx])\n",
    "            #     print(vbf_quarks_pdgId[iev][ipart])\n",
    "            #     if genpart_pdgId_flat[child_idx] == vbf_quarks_pdgId[iev][ipart]:\n",
    "            #         print(genpart_LastCopy_flat[child_idx])\n",
    "            #         if  genpart_LastCopy_flat[child_idx]:\n",
    "            #             print(\"Found child\")\n",
    "            #             out[iev][ipart] = child_idx\n",
    "            #             break\n",
    "            #         children_idxs = children_idxG_flat[child_idx]\n"
   ]
  },
  {
   "cell_type": "code",
   "execution_count": null,
   "metadata": {},
   "outputs": [],
   "source": [
    "analyze_parton_from_vbf_quarks(\n",
    "    vbf_quark_idx,\n",
    "    vbf_quarks_pdgId,\n",
    "    children_idxG_flat,\n",
    "    genpart_pdgId_flat,\n",
    "    genpart_offsets,\n",
    "    genpart_LastCopy_flat,\n",
    "    nevents,\n",
    ")"
   ]
  },
  {
   "cell_type": "code",
   "execution_count": null,
   "metadata": {},
   "outputs": [],
   "source": []
  }
 ],
 "metadata": {
  "kernelspec": {
   "display_name": "Python 3",
   "language": "python",
   "name": "python3"
  },
  "language_info": {
   "codemirror_mode": {
    "name": "ipython",
    "version": 3
   },
   "file_extension": ".py",
   "mimetype": "text/x-python",
   "name": "python",
   "nbconvert_exporter": "python",
   "pygments_lexer": "ipython3",
   "version": "3.9.18"
  }
 },
 "nbformat": 4,
 "nbformat_minor": 2
}
