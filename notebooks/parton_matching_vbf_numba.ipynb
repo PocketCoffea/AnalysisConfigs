{
 "cells": [
  {
   "cell_type": "code",
   "execution_count": 1,
   "metadata": {},
   "outputs": [],
   "source": [
    "from coffea.nanoevents import NanoEventsFactory, NanoAODSchema\n",
    "import awkward as ak\n",
    "import matplotlib.pyplot as plt\n",
    "import numba\n",
    "from numba import njit\n",
    "import numpy as np"
   ]
  },
  {
   "cell_type": "code",
   "execution_count": 2,
   "metadata": {},
   "outputs": [
    {
     "name": "stdout",
     "output_type": "stream",
     "text": [
      "Events read: 20\n"
     ]
    }
   ],
   "source": [
    "filename =\"/pnfs/psi.ch/cms/trivcat/store/mc/Run3Summer22EENanoAODv12/VBFHHto4B_CV_1_C2V_1_C3_1_TuneCP5_13p6TeV_madgraph-pythia8/NANOAODSIM/130X_mcRun3_2022_realistic_postEE_v6-v3/80000/a897cbbf-ea0b-40d5-b850-f9f24a7906a5.root\"\n",
    "# events = NanoEventsFactory.from_root(filename, schemaclass=NanoAODSchema).events()\n",
    "events = NanoEventsFactory.from_root(filename, schemaclass=NanoAODSchema, entry_stop=20).events()\n",
    "print(\"Events read:\", len(events))"
   ]
  },
  {
   "cell_type": "code",
   "execution_count": 3,
   "metadata": {},
   "outputs": [
    {
     "name": "stdout",
     "output_type": "stream",
     "text": [
      "[[True, True, False, False, False, False, ... False, False, False, False, False]] [True, True, False, False, False, False, ... False, False, False, False, False]\n",
      "[[2, 2, 5, -5, 5, -5, 5, 5, 2, 2, -5, 5, ... 5, -5, -5, 5, -5, 5, 5, 2, 5, 5, -5, 1]] [[0, 0, 10, 10, 11, 11, 12, 14, 5, 4, 15, ... 24, 21, 21, 26, 23, 4, 29, 28, 27, 5]] [[4, 5, 12, 13, 14, 15, 17, 18, 20, 21, ... 25, 26, 27, 28, 29, 34, 42, 44, 46, 51]]\n",
      "[[2, 2], [2, 1], [4, 1], [4, 1], [1, -1], ... 2, 1], [4, 1], [4, 1], [2, -4], [2, 1]] [[0, 0], [0, 0], [0, 0], [0, 0], [0, 0], ... [0, 0], [0, 0], [0, 0], [0, 0], [0, 0]] [[4, 5], [4, 5], [4, 5], [4, 5], [4, 5], ... [4, 5], [4, 5], [4, 5], [4, 5], [4, 5]] [[2, 2], [1, 1], [2, 2], [2, 2], [-2, -2, ... 1], [3, 3], [2, 2], [-3, -3], [2, 2]]\n",
      "[[False, False], [False, False], [True, ... True], [True, True], [False, False]]\n"
     ]
    }
   ],
   "source": [
    "events.GenPart=ak.with_field(events.GenPart, ak.local_index(events.GenPart, axis=1), \"index\")\n",
    "genpart= events.GenPart\n",
    "single_event=-1\n",
    "if (single_event!=-1):\n",
    "    genpart= events.GenPart[single_event]\n",
    "\n",
    "\n",
    "isQuark = abs(genpart.pdgId) < 7\n",
    "isHard = genpart.hasFlags([\"fromHardProcess\"])\n",
    "\n",
    "quarks = genpart[isQuark & isHard]\n",
    "quarks = quarks[quarks.genPartIdxMother!=-1]\n",
    "\n",
    "quarks_mother = genpart[quarks.genPartIdxMother]\n",
    "quarks_mother_children = quarks_mother.children\n",
    "quarks_mother_children_isH = ak.sum((quarks_mother_children.pdgId == 25), axis=-1)==2\n",
    "vbf_quarks = quarks[quarks_mother_children_isH]\n",
    "\n",
    "\n",
    "print(quarks_mother_children_isH, quarks_mother_children_isH[0])\n",
    "print(quarks.pdgId, quarks.genPartIdxMother, quarks.index)\n",
    "print(vbf_quarks.pdgId, vbf_quarks.genPartIdxMother, vbf_quarks.index, genpart[vbf_quarks.genPartIdxMother].pdgId)\n",
    "print(vbf_quarks.hasFlags([\"isFirstCopy\"]))\n"
   ]
  },
  {
   "cell_type": "code",
   "execution_count": 4,
   "metadata": {},
   "outputs": [],
   "source": [
    "\n",
    "children_idxG = ak.without_parameters(genpart.childrenIdxG, behavior={})\n",
    "children_idxG_flat = ak.flatten(children_idxG, axis=1)\n",
    "genpart_pdgId_flat = ak.flatten(ak.without_parameters(genpart.pdgId, behavior={}), axis=1)\n",
    "genpart_LastCopy_flat = ak.flatten(ak.without_parameters(genpart.hasFlags([\"isLastCopy\"]), behavior={}), axis=1)\n",
    "genpart_pt_flat = ak.flatten(ak.without_parameters(genpart.pt, behavior={}), axis=1)\n",
    "genparts_flat = ak.flatten(genpart)\n",
    "genpart_offsets = np.concatenate([[0],np.cumsum(ak.to_numpy(ak.num(genpart, axis=1), allow_missing=True))])\n",
    "local_index_all = ak.local_index(genpart, axis=1)\n",
    "local_index_vbf = ak.local_index(vbf_quarks, axis=1)\n",
    "vbf_quark_idx = ak.to_numpy(vbf_quarks.index+genpart_offsets[:-1], allow_missing=False)\n",
    "vbf_quarks_pdgId = ak.to_numpy(vbf_quarks.pdgId, allow_missing=False)\n",
    "nevents=vbf_quark_idx.shape[0]\n"
   ]
  },
  {
   "cell_type": "code",
   "execution_count": 5,
   "metadata": {},
   "outputs": [
    {
     "name": "stdout",
     "output_type": "stream",
     "text": [
      "[   0   53  108  168  219  275  329  378  437  506  553  618  690  736\n",
      "  795  858  902  944 1015 1109 1198]\n",
      "[[[2, 3, 4, 5], [], [6], [7], [21], ... [1195], [], [], [1196, 1197], [], [], []]]\n",
      "[[2, 3, 4, 5], [], [6], [7], [21], ... [1195], [], [], [1196, 1197], [], [], []]\n",
      "[2, 2, 25, 25, 2, 2, 25, 25, 25, 25, ... 421, 431, 111, -11, 12, 221, 22, 22, 22]\n",
      "[False, False, False, False, False, False, ... True, True, True, True, True, True]\n",
      "[0, 1, 2, 3, 4, 5, 6, 7, 8, 9, 10, ... 78, 79, 80, 81, 82, 83, 84, 85, 86, 87, 88] 1198\n",
      "[[0, 1, 2, 3, 4, 5, 6, 7, 8, 9, 10, ... 78, 79, 80, 81, 82, 83, 84, 85, 86, 87, 88]] [53, 55, 60, 51, 56, 54, 49, 59, 69, 47, 65, 72, 46, 59, 63, 44, 42, 71, 94, 89]\n",
      "20\n",
      "[[   4    5]\n",
      " [  57   58]\n",
      " [ 112  113]\n",
      " [ 172  173]\n",
      " [ 223  224]\n",
      " [ 279  280]\n",
      " [ 333  334]\n",
      " [ 382  383]\n",
      " [ 441  442]\n",
      " [ 510  511]\n",
      " [ 557  558]\n",
      " [ 622  623]\n",
      " [ 694  695]\n",
      " [ 740  741]\n",
      " [ 799  800]\n",
      " [ 862  863]\n",
      " [ 906  907]\n",
      " [ 948  949]\n",
      " [1019 1020]\n",
      " [1113 1114]]\n"
     ]
    }
   ],
   "source": [
    "print(genpart_offsets)\n",
    "print(children_idxG)\n",
    "print(children_idxG_flat)\n",
    "print(genpart_pdgId_flat)\n",
    "print(genpart_LastCopy_flat)\n",
    "print(genparts_flat.index, ak.num(genparts_flat.index, axis=0))\n",
    "print(local_index_all, ak.num(local_index_all, axis=1))\n",
    "print(nevents)\n",
    "print(vbf_quark_idx)"
   ]
  },
  {
   "cell_type": "code",
   "execution_count": 6,
   "metadata": {},
   "outputs": [],
   "source": [
    "@njit\n",
    "def analyze_parton_from_vbf_quarks(\n",
    "    vbf_quarks_idx,\n",
    "    vbf_quarks_pdgId,\n",
    "    children_idxG_flat,\n",
    "    genpart_pdgId_flat,\n",
    "    genpart_offsets,\n",
    "    genpart_LastCopy_flat,\n",
    "    genpart_pt_flat,\n",
    "    nevents,\n",
    "):\n",
    "    prints=False\n",
    "    # print input array\n",
    "    if prints:\n",
    "        print(\"vbf_quarks_idx\", vbf_quarks_idx)\n",
    "        print(\"vbf_quarks_pdgId\", vbf_quarks_pdgId)\n",
    "        print(\"children_idxG_flat\", children_idxG_flat)\n",
    "        print(\"genpart_pdgId_flat\", genpart_pdgId_flat)\n",
    "        print(\"genpart_offsets\", genpart_offsets)\n",
    "        print(\"genpart_LastCopy_flat\", genpart_LastCopy_flat)\n",
    "        print(\"nevents\", nevents)\n",
    "\n",
    "    # get the children ofthe vbf_quarks which have the same pdgId of the mother iteratively until we reach the last copy\n",
    "\n",
    "    out = np.zeros(vbf_quarks_idx.shape, dtype=\"int64\")-1\n",
    "\n",
    "    for iev in range(vbf_quarks_idx.shape[0]):\n",
    "        if prints: print(\"Event\", iev)\n",
    "        for ipart in range(vbf_quarks_idx.shape[1]):\n",
    "            p_id = vbf_quarks_idx[iev][ipart]\n",
    "            if prints: print(\"Parton\", ipart)\n",
    "            i=0\n",
    "            while not genpart_LastCopy_flat[p_id] and i<5:\n",
    "                i+=1\n",
    "                children_idxs = children_idxG_flat[p_id]\n",
    "                if prints: print(children_idxs)\n",
    "\n",
    "                #get the children with the same pdgId as the mother with highest pt\n",
    "                max_pt = -1\n",
    "                max_pt_idx = -1\n",
    "                if genpart_LastCopy_flat[p_id]:\n",
    "                    out[iev][ipart] = p_id\n",
    "                    continue\n",
    "\n",
    "\n",
    "                # num_pdg_equal=0\n",
    "                # for child_idx in children_idxs:\n",
    "                #     if genpart_pdgId_flat[child_idx] == vbf_quarks_pdgId[iev][ipart]:\n",
    "                #         num_pdg_equal+=1\n",
    "                # if num_pdg_equal==1:\n",
    "                #     p_id = children_idxs[0]\n",
    "                #     break\n",
    "                # if prints: print(\"\\n\\n###################\\n\\n\")\n",
    "\n",
    "\n",
    "                for child_idx in children_idxs:\n",
    "                    if prints: print(\"Child\", child_idx)\n",
    "                    if prints: print(vbf_quarks_pdgId[iev][ipart])\n",
    "                    if prints: print(genpart_pdgId_flat[child_idx])\n",
    "                    if genpart_pdgId_flat[child_idx] != vbf_quarks_pdgId[iev][ipart]:\n",
    "                        continue\n",
    "                    child_pt = genpart_pt_flat[child_idx]\n",
    "                    if prints: print(child_pt)\n",
    "                    if child_pt > max_pt:\n",
    "                        max_pt_idx = child_idx\n",
    "                        max_pt = child_pt\n",
    "\n",
    "                if prints: print(\"genpart_LastCopy_flat\", genpart_LastCopy_flat[max_pt_idx])\n",
    "                if  genpart_LastCopy_flat[max_pt_idx]:\n",
    "                    if prints: print(\"Found child\")\n",
    "                    out[iev][ipart] = max_pt_idx\n",
    "                if prints: print(p_id, max_pt_idx)\n",
    "                p_id = max_pt_idx\n",
    "                if prints: print(p_id, max_pt_idx)\n",
    "                # break\n",
    "                # if max_pt == -1:\n",
    "                #     max_pt_idx = p_id\n",
    "                if out[iev][ipart]!=-1:\n",
    "                    if prints: print(\"out\", out[iev][ipart])\n",
    "                    break\n",
    "\n",
    "    return out"
   ]
  },
  {
   "cell_type": "code",
   "execution_count": 7,
   "metadata": {},
   "outputs": [
    {
     "name": "stdout",
     "output_type": "stream",
     "text": [
      "[[  21   20]\n",
      " [  82   75]\n",
      " [ 131  141]\n",
      " [ 187  192]\n",
      " [ 252  241]\n",
      " [ 308  294]\n",
      " [ 343  344]\n",
      " [ 396  413]\n",
      " [ 454  473]\n",
      " [ 522  523]\n",
      " [ 574  583]\n",
      " [ 649  656]\n",
      " [ 719  709]\n",
      " [ 755  772]\n",
      " [ 814  832]\n",
      " [ 876  879]\n",
      " [ 924  930]\n",
      " [ 985  966]\n",
      " [1039 1067]\n",
      " [1143 1160]]\n",
      "[   0   53  108  168  219  275  329  378  437  506  553  618  690  736\n",
      "  795  858  902  944 1015 1109]\n"
     ]
    }
   ],
   "source": [
    "vbf_quark_last_idx=analyze_parton_from_vbf_quarks(\n",
    "    vbf_quark_idx,\n",
    "    vbf_quarks_pdgId,\n",
    "    children_idxG_flat,\n",
    "    genpart_pdgId_flat,\n",
    "    genpart_offsets,\n",
    "    genpart_LastCopy_flat,\n",
    "    genpart_pt_flat,\n",
    "    nevents,\n",
    ")\n",
    "print(vbf_quark_last_idx)\n",
    "print(genpart_offsets[:-1])"
   ]
  },
  {
   "cell_type": "markdown",
   "metadata": {},
   "source": [
    "# Do some tests"
   ]
  },
  {
   "cell_type": "code",
   "execution_count": 21,
   "metadata": {},
   "outputs": [
    {
     "name": "stdout",
     "output_type": "stream",
     "text": [
      "20 [[GenParticle, GenParticle], [GenParticle, ... [GenParticle, GenParticle]]\n",
      "[[2, 2], [2, 1], [4, 1], [4, 1], [1, -1], ... 2, 1], [4, 1], [4, 1], [2, -4], [2, 1]] [[103, 34], [8.03, 15.3], [34.5, 27.2], ... [15.2, 3.75], [13.9, 116], [41.4, 26.1]] [[-3.42, 3.9], [3.49, -3.48], [-2.8, 4.11, ... 1.15], [-2.12, 1.63], [-0.0389, 3.94]] [[-2.97, -1.8], [1.86, -0.403], [2.91, -0.491, ... 1.5], [-0.838, 1.84], [2.51, 1.4]]\n",
      "[[[2, 2], [2, 1]], [[4, 1], [4, 1]], ... [[4, 1], [4, 1]], [[2, -4], [2, 1]]] [[[103, 34], [8.03, 15.3]], [[34.5, 27.2, ... 3.75]], [[13.9, 116], [41.4, 26.1]]] [[[-3.42, 3.9], [3.49, -3.48]], [[-2.8, ... 1.15]], [[-2.12, 1.63], [-0.0389, 3.94]]] [[[-2.97, -1.8], [1.86, -0.403]], [[2.91, ... 1.5]], [[-0.838, 1.84], [2.51, 1.4]]]\n"
     ]
    }
   ],
   "source": [
    "print(len(genparts_flat[vbf_quark_last_idx]), genparts_flat[vbf_quark_last_idx])\n",
    "\n",
    "vbf_quark_last=genparts_flat[vbf_quark_last_idx]\n",
    "print(vbf_quark_last.pdgId, vbf_quark_last.pt, vbf_quark_last.eta, vbf_quark_last.phi)\n",
    "\n"
   ]
  },
  {
   "cell_type": "code",
   "execution_count": 9,
   "metadata": {},
   "outputs": [
    {
     "name": "stdout",
     "output_type": "stream",
     "text": [
      "[103, 34, 8.03, 15.3, 34.5, 27.2, 3.92, ... 47.6, 15.2, 3.75, 13.9, 116, 41.4, 26.1]\n"
     ]
    },
    {
     "data": {
      "text/plain": [
       "(array([0., 0., 2., 1., 0., 1., 0., 2., 0., 0., 1., 1., 2., 1., 1., 0., 1.,\n",
       "        0., 0., 1., 1., 0., 0., 1., 0., 0., 1., 0., 0., 0., 0., 1., 2., 2.,\n",
       "        0., 2., 2., 0., 0., 0., 0., 0., 2., 1., 1., 1., 1., 1., 0., 2., 2.,\n",
       "        0., 1., 1., 0., 0., 1., 0., 0., 0., 0., 0., 0., 0., 0., 0., 0., 0.,\n",
       "        0., 0., 0., 0., 0., 0., 0., 0., 0., 0., 0., 0., 0., 0., 0., 0., 0.,\n",
       "        0., 0., 0., 0., 0., 0., 0., 0., 0., 0., 0., 0., 0., 0., 0.]),\n",
       " array([0.        , 0.02      , 0.04      , 0.06      , 0.08      ,\n",
       "        0.1       , 0.12      , 0.14      , 0.16      , 0.18000001,\n",
       "        0.2       , 0.22      , 0.23999999, 0.25999999, 0.28      ,\n",
       "        0.30000001, 0.31999999, 0.34      , 0.36000001, 0.38      ,\n",
       "        0.40000001, 0.41999999, 0.44      , 0.46000001, 0.47999999,\n",
       "        0.5       , 0.51999998, 0.54000002, 0.56      , 0.57999998,\n",
       "        0.60000002, 0.62      , 0.63999999, 0.66000003, 0.68000001,\n",
       "        0.69999999, 0.72000003, 0.74000001, 0.75999999, 0.77999997,\n",
       "        0.80000001, 0.81999999, 0.83999997, 0.86000001, 0.88      ,\n",
       "        0.89999998, 0.92000002, 0.94      , 0.95999998, 0.98000002,\n",
       "        1.        , 1.01999998, 1.03999996, 1.05999994, 1.08000004,\n",
       "        1.10000002, 1.12      , 1.13999999, 1.15999997, 1.17999995,\n",
       "        1.20000005, 1.22000003, 1.24000001, 1.25999999, 1.27999997,\n",
       "        1.29999995, 1.32000005, 1.34000003, 1.36000001, 1.38      ,\n",
       "        1.39999998, 1.41999996, 1.44000006, 1.46000004, 1.48000002,\n",
       "        1.5       , 1.51999998, 1.53999996, 1.55999994, 1.58000004,\n",
       "        1.60000002, 1.62      , 1.63999999, 1.65999997, 1.67999995,\n",
       "        1.70000005, 1.72000003, 1.74000001, 1.75999999, 1.77999997,\n",
       "        1.79999995, 1.82000005, 1.84000003, 1.86000001, 1.88      ,\n",
       "        1.89999998, 1.91999996, 1.94000006, 1.96000004, 1.98000002,\n",
       "        2.        ]),\n",
       " <BarContainer object of 100 artists>)"
      ]
     },
     "execution_count": 9,
     "metadata": {},
     "output_type": "execute_result"
    },
    {
     "data": {
      "image/png": "[encoded data removed]",
      "text/plain": [
       "<Figure size 640x480 with 1 Axes>"
      ]
     },
     "metadata": {},
     "output_type": "display_data"
    }
   ],
   "source": [
    "vbf_quark_last_pt=ak.flatten(genparts_flat[vbf_quark_last_idx].pt)\n",
    "vbf_quark_first_pt=ak.flatten(genparts_flat[vbf_quark_idx].pt)\n",
    "print(vbf_quark_last_pt)\n",
    "#plot ratio of pt of last copy of quark to the pt of the quark\n",
    "plt.hist(vbf_quark_last_pt/vbf_quark_first_pt, bins=100, range=(0,2))"
   ]
  },
  {
   "cell_type": "code",
   "execution_count": 10,
   "metadata": {},
   "outputs": [
    {
     "data": {
      "text/plain": [
       "(array([ 0.,  0.,  0.,  0.,  0.,  0.,  0.,  0.,  0.,  0.,  0.,  0.,  0.,\n",
       "         0.,  0.,  0.,  0.,  0.,  0.,  0.,  0.,  0.,  0.,  0.,  0.,  0.,\n",
       "         0.,  0.,  0.,  0.,  0.,  0.,  0.,  0.,  1.,  0.,  0.,  0.,  0.,\n",
       "         0.,  0.,  0.,  0.,  0.,  0.,  1.,  2.,  0.,  3.,  2., 10.,  5.,\n",
       "         6.,  3.,  0.,  0.,  2.,  0.,  1.,  0.,  0.,  0.,  1.,  0.,  0.,\n",
       "         0.,  0.,  1.,  0.,  1.,  0.,  0.,  0.,  0.,  0.,  0.,  0.,  0.,\n",
       "         0.,  0.,  0.,  0.,  1.,  0.,  0.,  0.,  0.,  0.,  0.,  0.,  0.,\n",
       "         0.,  0.,  0.,  0.,  0.,  0.,  0.,  0.,  0.]),\n",
       " array([0.5       , 0.50999999, 0.51999998, 0.52999997, 0.54000002,\n",
       "        0.55000001, 0.56      , 0.56999999, 0.57999998, 0.58999997,\n",
       "        0.60000002, 0.61000001, 0.62      , 0.63      , 0.63999999,\n",
       "        0.64999998, 0.66000003, 0.67000002, 0.68000001, 0.69      ,\n",
       "        0.69999999, 0.70999998, 0.72000003, 0.73000002, 0.74000001,\n",
       "        0.75      , 0.75999999, 0.76999998, 0.77999997, 0.79000002,\n",
       "        0.80000001, 0.81      , 0.81999999, 0.82999998, 0.83999997,\n",
       "        0.85000002, 0.86000001, 0.87      , 0.88      , 0.88999999,\n",
       "        0.89999998, 0.91000003, 0.92000002, 0.93000001, 0.94      ,\n",
       "        0.94999999, 0.95999998, 0.97000003, 0.98000002, 0.99000001,\n",
       "        1.        , 1.00999999, 1.01999998, 1.02999997, 1.03999996,\n",
       "        1.04999995, 1.05999994, 1.07000005, 1.08000004, 1.09000003,\n",
       "        1.10000002, 1.11000001, 1.12      , 1.13      , 1.13999999,\n",
       "        1.14999998, 1.15999997, 1.16999996, 1.17999995, 1.19000006,\n",
       "        1.20000005, 1.21000004, 1.22000003, 1.23000002, 1.24000001,\n",
       "        1.25      , 1.25999999, 1.26999998, 1.27999997, 1.28999996,\n",
       "        1.29999995, 1.30999994, 1.32000005, 1.33000004, 1.34000003,\n",
       "        1.35000002, 1.36000001, 1.37      , 1.38      , 1.38999999,\n",
       "        1.39999998, 1.40999997, 1.41999996, 1.42999995, 1.44000006,\n",
       "        1.45000005, 1.46000004, 1.47000003, 1.48000002, 1.49000001,\n",
       "        1.5       ]),\n",
       " <BarContainer object of 100 artists>)"
      ]
     },
     "execution_count": 10,
     "metadata": {},
     "output_type": "execute_result"
    },
    {
     "data": {
      "image/png": "[encoded data removed]",
      "text/plain": [
       "<Figure size 640x480 with 1 Axes>"
      ]
     },
     "metadata": {},
     "output_type": "display_data"
    }
   ],
   "source": [
    "# plot ratio of eta of last copy of quark to the eta of the quark\n",
    "vbf_quark_last_eta=ak.flatten(genparts_flat[vbf_quark_last_idx].eta)\n",
    "vbf_quark_first_eta=ak.flatten(genparts_flat[vbf_quark_idx].eta)\n",
    "plt.hist(vbf_quark_last_eta/vbf_quark_first_eta, bins=100, range=(0.5,1.5))\n"
   ]
  },
  {
   "cell_type": "code",
   "execution_count": 11,
   "metadata": {},
   "outputs": [
    {
     "data": {
      "text/plain": [
       "(array([ 0.,  0.,  0.,  0.,  0.,  0.,  0.,  0.,  0.,  0.,  0.,  0.,  0.,\n",
       "         0.,  0.,  0.,  0.,  0.,  0.,  0.,  0.,  0.,  0.,  0.,  0.,  0.,\n",
       "         0.,  0.,  0.,  0.,  0.,  0.,  0.,  0.,  0.,  0.,  0.,  0.,  0.,\n",
       "         0.,  0.,  0.,  0.,  0.,  0.,  0.,  0.,  0.,  0.,  0., 40.,  0.,\n",
       "         0.,  0.,  0.,  0.,  0.,  0.,  0.,  0.,  0.,  0.,  0.,  0.,  0.,\n",
       "         0.,  0.,  0.,  0.,  0.,  0.,  0.,  0.,  0.,  0.,  0.,  0.,  0.,\n",
       "         0.,  0.,  0.,  0.,  0.,  0.,  0.,  0.,  0.,  0.,  0.,  0.,  0.,\n",
       "         0.,  0.,  0.,  0.,  0.,  0.,  0.,  0.,  0.]),\n",
       " array([0.  , 0.02, 0.04, 0.06, 0.08, 0.1 , 0.12, 0.14, 0.16, 0.18, 0.2 ,\n",
       "        0.22, 0.24, 0.26, 0.28, 0.3 , 0.32, 0.34, 0.36, 0.38, 0.4 , 0.42,\n",
       "        0.44, 0.46, 0.48, 0.5 , 0.52, 0.54, 0.56, 0.58, 0.6 , 0.62, 0.64,\n",
       "        0.66, 0.68, 0.7 , 0.72, 0.74, 0.76, 0.78, 0.8 , 0.82, 0.84, 0.86,\n",
       "        0.88, 0.9 , 0.92, 0.94, 0.96, 0.98, 1.  , 1.02, 1.04, 1.06, 1.08,\n",
       "        1.1 , 1.12, 1.14, 1.16, 1.18, 1.2 , 1.22, 1.24, 1.26, 1.28, 1.3 ,\n",
       "        1.32, 1.34, 1.36, 1.38, 1.4 , 1.42, 1.44, 1.46, 1.48, 1.5 , 1.52,\n",
       "        1.54, 1.56, 1.58, 1.6 , 1.62, 1.64, 1.66, 1.68, 1.7 , 1.72, 1.74,\n",
       "        1.76, 1.78, 1.8 , 1.82, 1.84, 1.86, 1.88, 1.9 , 1.92, 1.94, 1.96,\n",
       "        1.98, 2.  ]),\n",
       " <BarContainer object of 100 artists>)"
      ]
     },
     "execution_count": 11,
     "metadata": {},
     "output_type": "execute_result"
    },
    {
     "data": {
      "image/png": "[encoded data removed]",
      "text/plain": [
       "<Figure size 640x480 with 1 Axes>"
      ]
     },
     "metadata": {},
     "output_type": "display_data"
    }
   ],
   "source": [
    "#ratio of pdgId of last copy of quark to the pdgId of the quark\n",
    "vbf_quark_last_pdgId=ak.flatten(genparts_flat[vbf_quark_last_idx].pdgId)\n",
    "vbf_quark_first_pdgId=ak.flatten(genparts_flat[vbf_quark_idx].pdgId)\n",
    "plt.hist(vbf_quark_last_pdgId/vbf_quark_first_pdgId, bins=100, range=(0,2))\n"
   ]
  },
  {
   "cell_type": "markdown",
   "metadata": {},
   "source": [
    "# TEST"
   ]
  },
  {
   "cell_type": "code",
   "execution_count": 12,
   "metadata": {},
   "outputs": [
    {
     "name": "stdout",
     "output_type": "stream",
     "text": [
      "[[5, 2, 2, -5, 5, -5], [-5, 5, 1, 5, -5, ... 5, -5, 5, -5, -4], [-5, 2, 5, 5, -5, 1]] [[14, 5, 4, 15, 17, 13], [15, 14, 5, 16, ... 23, 20, 21, 5], [24, 4, 29, 28, 27, 5]] [[18, 20, 21, 24, 26, 29], [18, 20, 22, ... 42, 46, 52], [25, 34, 42, 44, 46, 51]] 120\n"
     ]
    }
   ],
   "source": [
    "quark_last=(genpart[isQuark & isHard & (genpart.genPartIdxMother!=-1)& genpart.hasFlags([\"isLastCopy\"])])\n",
    "quark_last_flatten=ak.flatten(quark_last)\n",
    "print(quark_last.pdgId, quark_last.genPartIdxMother, quark_last.index,len(quark_last_flatten))"
   ]
  },
  {
   "cell_type": "code",
   "execution_count": 13,
   "metadata": {},
   "outputs": [
    {
     "name": "stdout",
     "output_type": "stream",
     "text": [
      "[[5, 2, 2, -5, 5, -5], [-5, 5, 1, 5, -5, ... 5, -5, 5, -5, -4], [-5, 2, 5, 5, -5, 1]] [[[5, -523, 21, 21, 521], [2], [2], [-5], ... 5], [5], [21, -5, -523, 523], [21, 1]]] [[[18, 19, 22, 23, 25], [20], [21], [24], ... 42], [44], [45, 46, 47, 48], [50, 51]]] 120\n"
     ]
    }
   ],
   "source": [
    "quark_last_mother = (genpart[quark_last.genPartIdxMother])\n",
    "quark_last_mother_flatten=ak.flatten(quark_last_mother)\n",
    "print(quark_last_mother.pdgId, quark_last_mother.children.pdgId, quark_last_mother.children.index, len(quark_last_mother_flatten.pdgId))"
   ]
  },
  {
   "cell_type": "code",
   "execution_count": 14,
   "metadata": {},
   "outputs": [
    {
     "name": "stdout",
     "output_type": "stream",
     "text": [
      "[[25, 2, 2, 25, 5, 25], [25, 25, 1, 25, ... 25, 25, 25, -3], [25, 2, 5, 5, 25, 2]] [[[5, -5], [25, 25, 2, 2], [25, 25, 2, 2], ... -521], [5], [5, -5], [25, 25, 2, 1]]] [[[14, 15], [2, 3, 4, 5], [2, 3, 4, 5], ... 29, 43], [28], [26, 27], [2, 3, 4, 5]]] 20\n"
     ]
    }
   ],
   "source": [
    "# get mother of mother\n",
    "quark_mother_not_null=quark_last[quark_last_mother.genPartIdxMother!=-1]\n",
    "quark_mother_not_null_flatten=ak.flatten(quark_mother_not_null)\n",
    "mother_not_null=quark_last_mother[quark_last_mother.genPartIdxMother!=-1]\n",
    "mother_not_null_flatten=ak.flatten(mother_not_null)\n",
    "quark_last_mother_mother = genpart[mother_not_null.genPartIdxMother]\n",
    "quark_last_mother_mother_flatten=ak.flatten(quark_last_mother_mother)\n",
    "print(quark_last_mother_mother.pdgId, quark_last_mother_mother.children.pdgId, quark_last_mother_mother.children.index, len(quark_last_mother_mother.pdgId))"
   ]
  },
  {
   "cell_type": "code",
   "execution_count": 15,
   "metadata": {},
   "outputs": [
    {
     "data": {
      "text/plain": [
       "(array([ 0.,  0.,  3.,  1.,  0.,  1.,  0.,  2.,  0.,  0.,  1.,  1.,  2.,\n",
       "         2.,  1.,  1.,  1.,  1.,  1.,  1.,  1.,  1.,  1.,  1.,  2.,  1.,\n",
       "         1.,  1.,  3.,  1.,  1.,  3.,  4.,  2.,  1.,  4.,  4.,  2.,  3.,\n",
       "         1.,  3.,  4.,  2.,  4.,  5.,  5.,  7.,  7.,  7.,  4., 12.,  1.,\n",
       "         1.,  0.,  0.,  0.,  1.,  0.,  0.,  0.,  0.,  0.,  0.,  0.,  0.,\n",
       "         0.,  0.,  0.,  0.,  0.,  0.,  0.,  0.,  0.,  0.,  0.,  0.,  0.,\n",
       "         0.,  0.,  0.,  0.,  0.,  0.,  0.,  0.,  0.,  0.,  0.,  0.,  0.,\n",
       "         0.,  0.,  0.,  0.,  0.,  0.,  0.,  0.,  0.]),\n",
       " array([0.        , 0.02      , 0.04      , 0.06      , 0.08      ,\n",
       "        0.1       , 0.12      , 0.14      , 0.16      , 0.18000001,\n",
       "        0.2       , 0.22      , 0.23999999, 0.25999999, 0.28      ,\n",
       "        0.30000001, 0.31999999, 0.34      , 0.36000001, 0.38      ,\n",
       "        0.40000001, 0.41999999, 0.44      , 0.46000001, 0.47999999,\n",
       "        0.5       , 0.51999998, 0.54000002, 0.56      , 0.57999998,\n",
       "        0.60000002, 0.62      , 0.63999999, 0.66000003, 0.68000001,\n",
       "        0.69999999, 0.72000003, 0.74000001, 0.75999999, 0.77999997,\n",
       "        0.80000001, 0.81999999, 0.83999997, 0.86000001, 0.88      ,\n",
       "        0.89999998, 0.92000002, 0.94      , 0.95999998, 0.98000002,\n",
       "        1.        , 1.01999998, 1.03999996, 1.05999994, 1.08000004,\n",
       "        1.10000002, 1.12      , 1.13999999, 1.15999997, 1.17999995,\n",
       "        1.20000005, 1.22000003, 1.24000001, 1.25999999, 1.27999997,\n",
       "        1.29999995, 1.32000005, 1.34000003, 1.36000001, 1.38      ,\n",
       "        1.39999998, 1.41999996, 1.44000006, 1.46000004, 1.48000002,\n",
       "        1.5       , 1.51999998, 1.53999996, 1.55999994, 1.58000004,\n",
       "        1.60000002, 1.62      , 1.63999999, 1.65999997, 1.67999995,\n",
       "        1.70000005, 1.72000003, 1.74000001, 1.75999999, 1.77999997,\n",
       "        1.79999995, 1.82000005, 1.84000003, 1.86000001, 1.88      ,\n",
       "        1.89999998, 1.91999996, 1.94000006, 1.96000004, 1.98000002,\n",
       "        2.        ]),\n",
       " <BarContainer object of 100 artists>)"
      ]
     },
     "execution_count": 15,
     "metadata": {},
     "output_type": "execute_result"
    },
    {
     "data": {
      "image/png": "[encoded data removed]",
      "text/plain": [
       "<Figure size 640x480 with 1 Axes>"
      ]
     },
     "metadata": {},
     "output_type": "display_data"
    }
   ],
   "source": [
    "#plot pt ratio of last copy of quark to the pt of the mother\n",
    "plt.hist(quark_last_flatten.pt/quark_last_mother_flatten.pt, bins=100, range=(0,2))"
   ]
  },
  {
   "cell_type": "code",
   "execution_count": 16,
   "metadata": {},
   "outputs": [
    {
     "name": "stderr",
     "output_type": "stream",
     "text": [
      "/work/mmalucch/micromamba/envs/pocket-coffea/lib/python3.9/site-packages/awkward/_connect/_numpy.py:195: RuntimeWarning: divide by zero encountered in divide\n",
      "  result = getattr(ufunc, method)(\n"
     ]
    },
    {
     "data": {
      "text/plain": [
       "(array([0., 1., 1., 0., 0., 0., 0., 1., 0., 0., 0., 2., 2., 1., 1., 0., 3.,\n",
       "        0., 0., 2., 2., 1., 0., 1., 1., 0., 0., 2., 2., 0., 3., 0., 1., 2.,\n",
       "        0., 1., 0., 3., 0., 2., 3., 0., 1., 0., 0., 3., 3., 0., 1., 4., 1.,\n",
       "        5., 1., 1., 1., 4., 2., 1., 0., 1., 0., 0., 1., 0., 0., 2., 0., 0.,\n",
       "        0., 2., 1., 0., 0., 1., 0., 0., 0., 0., 0., 0., 1., 1., 0., 0., 0.,\n",
       "        0., 1., 0., 0., 0., 0., 0., 0., 0., 0., 0., 0., 1., 0., 0.]),\n",
       " array([0.        , 0.02      , 0.04      , 0.06      , 0.08      ,\n",
       "        0.1       , 0.12      , 0.14      , 0.16      , 0.18000001,\n",
       "        0.2       , 0.22      , 0.23999999, 0.25999999, 0.28      ,\n",
       "        0.30000001, 0.31999999, 0.34      , 0.36000001, 0.38      ,\n",
       "        0.40000001, 0.41999999, 0.44      , 0.46000001, 0.47999999,\n",
       "        0.5       , 0.51999998, 0.54000002, 0.56      , 0.57999998,\n",
       "        0.60000002, 0.62      , 0.63999999, 0.66000003, 0.68000001,\n",
       "        0.69999999, 0.72000003, 0.74000001, 0.75999999, 0.77999997,\n",
       "        0.80000001, 0.81999999, 0.83999997, 0.86000001, 0.88      ,\n",
       "        0.89999998, 0.92000002, 0.94      , 0.95999998, 0.98000002,\n",
       "        1.        , 1.01999998, 1.03999996, 1.05999994, 1.08000004,\n",
       "        1.10000002, 1.12      , 1.13999999, 1.15999997, 1.17999995,\n",
       "        1.20000005, 1.22000003, 1.24000001, 1.25999999, 1.27999997,\n",
       "        1.29999995, 1.32000005, 1.34000003, 1.36000001, 1.38      ,\n",
       "        1.39999998, 1.41999996, 1.44000006, 1.46000004, 1.48000002,\n",
       "        1.5       , 1.51999998, 1.53999996, 1.55999994, 1.58000004,\n",
       "        1.60000002, 1.62      , 1.63999999, 1.65999997, 1.67999995,\n",
       "        1.70000005, 1.72000003, 1.74000001, 1.75999999, 1.77999997,\n",
       "        1.79999995, 1.82000005, 1.84000003, 1.86000001, 1.88      ,\n",
       "        1.89999998, 1.91999996, 1.94000006, 1.96000004, 1.98000002,\n",
       "        2.        ]),\n",
       " <BarContainer object of 100 artists>)"
      ]
     },
     "execution_count": 16,
     "metadata": {},
     "output_type": "execute_result"
    },
    {
     "data": {
      "image/png": "[encoded data removed]",
      "text/plain": [
       "<Figure size 640x480 with 1 Axes>"
      ]
     },
     "metadata": {},
     "output_type": "display_data"
    }
   ],
   "source": [
    "plt.hist(mother_not_null_flatten.pt/quark_last_mother_mother_flatten.pt, bins=100, range=(0,2))"
   ]
  },
  {
   "cell_type": "code",
   "execution_count": 17,
   "metadata": {},
   "outputs": [
    {
     "data": {
      "text/plain": [
       "(array([1., 0., 2., 0., 0., 2., 1., 1., 1., 0., 2., 1., 2., 0., 0., 1., 0.,\n",
       "        0., 1., 4., 2., 1., 0., 4., 2., 1., 0., 2., 2., 2., 0., 2., 3., 2.,\n",
       "        0., 2., 4., 3., 0., 3., 2., 0., 1., 1., 1., 1., 3., 1., 1., 2., 3.,\n",
       "        0., 0., 1., 0., 1., 2., 0., 0., 1., 0., 0., 0., 0., 0., 0., 1., 1.,\n",
       "        0., 2., 0., 0., 0., 0., 0., 0., 1., 0., 0., 0., 0., 0., 0., 0., 0.,\n",
       "        0., 0., 0., 0., 1., 0., 1., 0., 0., 0., 0., 0., 0., 0., 0.]),\n",
       " array([0.        , 0.02      , 0.04      , 0.06      , 0.08      ,\n",
       "        0.1       , 0.12      , 0.14      , 0.16      , 0.18000001,\n",
       "        0.2       , 0.22      , 0.23999999, 0.25999999, 0.28      ,\n",
       "        0.30000001, 0.31999999, 0.34      , 0.36000001, 0.38      ,\n",
       "        0.40000001, 0.41999999, 0.44      , 0.46000001, 0.47999999,\n",
       "        0.5       , 0.51999998, 0.54000002, 0.56      , 0.57999998,\n",
       "        0.60000002, 0.62      , 0.63999999, 0.66000003, 0.68000001,\n",
       "        0.69999999, 0.72000003, 0.74000001, 0.75999999, 0.77999997,\n",
       "        0.80000001, 0.81999999, 0.83999997, 0.86000001, 0.88      ,\n",
       "        0.89999998, 0.92000002, 0.94      , 0.95999998, 0.98000002,\n",
       "        1.        , 1.01999998, 1.03999996, 1.05999994, 1.08000004,\n",
       "        1.10000002, 1.12      , 1.13999999, 1.15999997, 1.17999995,\n",
       "        1.20000005, 1.22000003, 1.24000001, 1.25999999, 1.27999997,\n",
       "        1.29999995, 1.32000005, 1.34000003, 1.36000001, 1.38      ,\n",
       "        1.39999998, 1.41999996, 1.44000006, 1.46000004, 1.48000002,\n",
       "        1.5       , 1.51999998, 1.53999996, 1.55999994, 1.58000004,\n",
       "        1.60000002, 1.62      , 1.63999999, 1.65999997, 1.67999995,\n",
       "        1.70000005, 1.72000003, 1.74000001, 1.75999999, 1.77999997,\n",
       "        1.79999995, 1.82000005, 1.84000003, 1.86000001, 1.88      ,\n",
       "        1.89999998, 1.91999996, 1.94000006, 1.96000004, 1.98000002,\n",
       "        2.        ]),\n",
       " <BarContainer object of 100 artists>)"
      ]
     },
     "execution_count": 17,
     "metadata": {},
     "output_type": "execute_result"
    },
    {
     "data": {
      "image/png": "[encoded data removed]",
      "text/plain": [
       "<Figure size 640x480 with 1 Axes>"
      ]
     },
     "metadata": {},
     "output_type": "display_data"
    }
   ],
   "source": [
    "plt.hist(quark_mother_not_null_flatten.pt/quark_last_mother_mother_flatten.pt, bins=100, range=(0,2))"
   ]
  },
  {
   "cell_type": "markdown",
   "metadata": {},
   "source": [
    "# check if it can happen that multiple children of a particle have the same pdgId has the parent"
   ]
  },
  {
   "cell_type": "code",
   "execution_count": 18,
   "metadata": {},
   "outputs": [
    {
     "name": "stdout",
     "output_type": "stream",
     "text": [
      "vbf_quarks children [[[2], [2]], [[2], [1]], ... [[1, -423, 2, 21, 21, 21, 111, 111, 111], [21, 1]]]\n",
      "[[2, 2, 25, 25, 2, 2, 25, 25, 25, 25, ... 421, 431, 111, -11, 12, 221, 22, 22, 22]]\n",
      "[[[25, 25, 2, 2], [], [25], [25], [2], ... [22], [], [], [22, 22], [], [], []]]\n"
     ]
    }
   ],
   "source": [
    "isQuark = abs(genpart.pdgId) < 7\n",
    "isHard = genpart.hasFlags([\"fromHardProcess\"])\n",
    "\n",
    "quarks = genpart[isQuark & isHard]\n",
    "\n",
    "quarks = quarks[quarks.genPartIdxMother!=-1]\n",
    "\n",
    "quarks_mother = genpart[quarks.genPartIdxMother]\n",
    "quarks_mother_children = quarks_mother.children\n",
    "quarks_mother_children_isH = ak.sum((quarks_mother_children.pdgId == 25), axis=-1)==2\n",
    "vbf_quarks = quarks[quarks_mother_children_isH]\n",
    "\n",
    "print(\"vbf_quarks children\", vbf_quarks.children.pdgId)\n",
    "\n",
    "\n",
    "children_pdgId = genpart.children.pdgId\n",
    "parent_pdgId = genpart.pdgId\n",
    "\n",
    "print(parent_pdgId)\n",
    "print(children_pdgId)\n",
    "\n",
    "for event in range(len(vbf_quarks)):\n",
    "    # for i in range(len(vbf_quarks[event])):\n",
    "    for i in vbf_quarks[event].index:\n",
    "        if (\n",
    "            # True\n",
    "            ak.sum(parent_pdgId[event][i] == children_pdgId[event][i]) > 1\n",
    "            and not ak.any(children_pdgId[event][i] == 25)\n",
    "            and ak.sum(genpart[event][i].children.hasFlags([\"fromHardProcess\"])) > 1\n",
    "        ):\n",
    "            print(\"Event\", event, \"Particle\", i)\n",
    "            print(\"Parent pdg\", parent_pdgId[event][i])\n",
    "            print(\"Children pdg\", children_pdgId[event][i])\n",
    "            print(\"chilren index\", genpart[event][i].children.index)\n",
    "            print(\"children pt\", genpart[event][i].children.pt)\n",
    "            # print(\"children is last copy\", genpart[event][i].children.hasFlags([\"isLastCopy\"]))\n",
    "            print(\n",
    "                \"children from hard\",\n",
    "                genpart[event][i].children.hasFlags([\"fromHardProcess\"]),\n",
    "            )\n",
    "            print(\n",
    "                \"children is hard\",\n",
    "                genpart[event][i].children.hasFlags([\"isHardProcess\"]),\n",
    "            )\n",
    "            print(\n",
    "                \"children is prompt\", genpart[event][i].children.hasFlags([\"isPrompt\"])\n",
    "            )\n",
    "\n",
    "            print(\"parent index\", genpart[event][i].index)\n",
    "            print(\"childre mother index\", genpart[event][i].children.genPartIdxMother)"
   ]
  },
  {
   "cell_type": "code",
   "execution_count": null,
   "metadata": {},
   "outputs": [],
   "source": []
  }
 ],
 "metadata": {
  "kernelspec": {
   "display_name": "Python 3",
   "language": "python",
   "name": "python3"
  },
  "language_info": {
   "codemirror_mode": {
    "name": "ipython",
    "version": 3
   },
   "file_extension": ".py",
   "mimetype": "text/x-python",
   "name": "python",
   "nbconvert_exporter": "python",
   "pygments_lexer": "ipython3",
   "version": "3.9.18"
  }
 },
 "nbformat": 4,
 "nbformat_minor": 2
}
