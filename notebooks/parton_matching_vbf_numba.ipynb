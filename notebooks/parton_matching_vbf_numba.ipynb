{
 "cells": [
  {
   "cell_type": "code",
   "execution_count": null,
   "metadata": {},
   "outputs": [],
   "source": [
    "from coffea.nanoevents import NanoEventsFactory, NanoAODSchema\n",
    "import awkward as ak\n",
    "import matplotlib.pyplot as plt\n",
    "import numba\n",
    "from numba import njit\n",
    "import numpy as np"
   ]
  },
  {
   "cell_type": "code",
   "execution_count": null,
   "metadata": {},
   "outputs": [],
   "source": [
    "filename =\"/pnfs/psi.ch/cms/trivcat/store/mc/Run3Summer22EENanoAODv12/VBFHHto4B_CV_1_C2V_1_C3_1_TuneCP5_13p6TeV_madgraph-pythia8/NANOAODSIM/130X_mcRun3_2022_realistic_postEE_v6-v3/80000/a897cbbf-ea0b-40d5-b850-f9f24a7906a5.root\"\n",
    "# events = NanoEventsFactory.from_root(filename, schemaclass=NanoAODSchema).events()\n",
    "events = NanoEventsFactory.from_root(filename, schemaclass=NanoAODSchema, entry_stop=20000).events()\n",
    "print(\"Events read:\", len(events))"
   ]
  },
  {
   "cell_type": "code",
   "execution_count": null,
   "metadata": {},
   "outputs": [],
   "source": [
    "events.GenPart=ak.with_field(events.GenPart, ak.local_index(events.GenPart, axis=1), \"index\")\n",
    "genpart= events.GenPart\n",
    "single_event=-1\n",
    "if (single_event!=-1):\n",
    "    genpart= events.GenPart[single_event]\n",
    "\n",
    "\n",
    "isQuark = abs(genpart.pdgId) < 7\n",
    "isHard = genpart.hasFlags([\"fromHardProcess\"])\n",
    "\n",
    "quarks = genpart[isQuark & isHard]\n",
    "quarks = quarks[quarks.genPartIdxMother!=-1]\n",
    "\n",
    "quarks_mother = genpart[quarks.genPartIdxMother]\n",
    "quarks_mother_children = quarks_mother.children\n",
    "quarks_mother_children_isH = ak.sum((quarks_mother_children.pdgId == 25), axis=-1)==2\n",
    "vbf_quarks = quarks[quarks_mother_children_isH]\n",
    "\n",
    "\n",
    "print(quarks_mother_children_isH, quarks_mother_children_isH[0])\n",
    "print(quarks.pdgId, quarks.genPartIdxMother, quarks.index)\n",
    "print(vbf_quarks.pdgId, vbf_quarks.genPartIdxMother, vbf_quarks.index, genpart[vbf_quarks.genPartIdxMother].pdgId)\n",
    "print(vbf_quarks.hasFlags([\"isFirstCopy\"]))\n"
   ]
  },
  {
   "cell_type": "code",
   "execution_count": null,
   "metadata": {},
   "outputs": [],
   "source": [
    "\n",
    "children_idxG = ak.without_parameters(genpart.childrenIdxG, behavior={})\n",
    "children_idxG_flat = ak.flatten(children_idxG, axis=1)\n",
    "genpart_pdgId_flat = ak.flatten(ak.without_parameters(genpart.pdgId, behavior={}), axis=1)\n",
    "genpart_LastCopy_flat = ak.flatten(ak.without_parameters(genpart.hasFlags([\"isLastCopy\"]), behavior={}), axis=1)\n",
    "genpart_pt_flat = ak.flatten(ak.without_parameters(genpart.pt, behavior={}), axis=1)\n",
    "genparts_flat = ak.flatten(genpart)\n",
    "genpart_offsets = np.concatenate([[0],np.cumsum(ak.to_numpy(ak.num(genpart, axis=1), allow_missing=True))])\n",
    "local_index_all = ak.local_index(genpart, axis=1)\n",
    "local_index_vbf = ak.local_index(vbf_quarks, axis=1)\n",
    "vbf_quark_idx = ak.to_numpy(vbf_quarks.index+genpart_offsets[:-1], allow_missing=False)\n",
    "vbf_quarks_pdgId = ak.to_numpy(vbf_quarks.pdgId, allow_missing=False)\n",
    "nevents=vbf_quark_idx.shape[0]\n"
   ]
  },
  {
   "cell_type": "code",
   "execution_count": null,
   "metadata": {},
   "outputs": [],
   "source": [
    "print(genpart_offsets)\n",
    "print(children_idxG)\n",
    "print(children_idxG_flat)\n",
    "print(genpart_pdgId_flat)\n",
    "print(genpart_LastCopy_flat)\n",
    "print(genparts_flat.index, ak.num(genparts_flat.index, axis=0))\n",
    "print(local_index_all, ak.num(local_index_all, axis=1))\n",
    "print(nevents)\n",
    "print(vbf_quark_idx)"
   ]
  },
  {
   "cell_type": "code",
   "execution_count": null,
   "metadata": {},
   "outputs": [],
   "source": [
    "@njit\n",
    "def analyze_parton_from_vbf_quarks(\n",
    "    vbf_quarks_idx,\n",
    "    vbf_quarks_pdgId,\n",
    "    children_idxG_flat,\n",
    "    genpart_pdgId_flat,\n",
    "    genpart_offsets,\n",
    "    genpart_LastCopy_flat,\n",
    "    genpart_pt_flat,\n",
    "    nevents,\n",
    "):\n",
    "    prints=False\n",
    "    # print input array\n",
    "    if prints:\n",
    "        print(\"vbf_quarks_idx\", vbf_quarks_idx)\n",
    "        print(\"vbf_quarks_pdgId\", vbf_quarks_pdgId)\n",
    "        print(\"children_idxG_flat\", children_idxG_flat)\n",
    "        print(\"genpart_pdgId_flat\", genpart_pdgId_flat)\n",
    "        print(\"genpart_offsets\", genpart_offsets)\n",
    "        print(\"genpart_LastCopy_flat\", genpart_LastCopy_flat)\n",
    "        print(\"nevents\", nevents)\n",
    "\n",
    "    # get the children ofthe vbf_quarks which have the same pdgId of the mother iteratively until we reach the last copy\n",
    "\n",
    "    out = np.zeros(vbf_quarks_idx.shape, dtype=\"int64\")-1\n",
    "\n",
    "    for iev in range(vbf_quarks_idx.shape[0]):\n",
    "        if prints: print(\"Event\", iev)\n",
    "        for ipart in range(vbf_quarks_idx.shape[1]):\n",
    "            p_id = vbf_quarks_idx[iev][ipart]\n",
    "            if prints: print(\"Parton\", ipart)\n",
    "            i=0\n",
    "            while not genpart_LastCopy_flat[p_id] and i<5:\n",
    "                i+=1\n",
    "                children_idxs = children_idxG_flat[p_id]\n",
    "                if prints: print(children_idxs)\n",
    "\n",
    "                #get the children with the same pdgId as the mother with highest pt\n",
    "                max_pt = -1\n",
    "                max_pt_idx = -1\n",
    "                if genpart_LastCopy_flat[p_id]:\n",
    "                    out[iev][ipart] = p_id\n",
    "                    continue\n",
    "\n",
    "\n",
    "                # num_pdg_equal=0\n",
    "                # for child_idx in children_idxs:\n",
    "                #     if genpart_pdgId_flat[child_idx] == vbf_quarks_pdgId[iev][ipart]:\n",
    "                #         num_pdg_equal+=1\n",
    "                # if num_pdg_equal==1:\n",
    "                #     p_id = children_idxs[0]\n",
    "                #     break\n",
    "                # if prints: print(\"\\n\\n###################\\n\\n\")\n",
    "\n",
    "\n",
    "                for child_idx in children_idxs:\n",
    "                    if prints: print(\"Child\", child_idx)\n",
    "                    if prints: print(vbf_quarks_pdgId[iev][ipart])\n",
    "                    if prints: print(genpart_pdgId_flat[child_idx])\n",
    "                    if genpart_pdgId_flat[child_idx] != vbf_quarks_pdgId[iev][ipart]:\n",
    "                        continue\n",
    "                    child_pt = genpart_pt_flat[child_idx]\n",
    "                    if prints: print(child_pt)\n",
    "                    if child_pt > max_pt:\n",
    "                        max_pt_idx = child_idx\n",
    "                        max_pt = child_pt\n",
    "\n",
    "                if prints: print(\"genpart_LastCopy_flat\", genpart_LastCopy_flat[max_pt_idx])\n",
    "                if  genpart_LastCopy_flat[max_pt_idx]:\n",
    "                    if prints: print(\"Found child\")\n",
    "                    out[iev][ipart] = max_pt_idx\n",
    "                if prints: print(p_id, max_pt_idx)\n",
    "                p_id = max_pt_idx\n",
    "                if prints: print(p_id, max_pt_idx)\n",
    "                # break\n",
    "                # if max_pt == -1:\n",
    "                #     max_pt_idx = p_id\n",
    "                if out[iev][ipart]!=-1:\n",
    "                    if prints: print(\"out\", out[iev][ipart])\n",
    "                    break\n",
    "\n",
    "    return out"
   ]
  },
  {
   "cell_type": "code",
   "execution_count": null,
   "metadata": {},
   "outputs": [],
   "source": [
    "vbf_quark_last_idx=analyze_parton_from_vbf_quarks(\n",
    "    vbf_quark_idx,\n",
    "    vbf_quarks_pdgId,\n",
    "    children_idxG_flat,\n",
    "    genpart_pdgId_flat,\n",
    "    genpart_offsets,\n",
    "    genpart_LastCopy_flat,\n",
    "    genpart_pt_flat,\n",
    "    nevents,\n",
    ")\n",
    "print(vbf_quark_last_idx)\n",
    "print(genpart_offsets[:-1])"
   ]
  },
  {
   "cell_type": "markdown",
   "metadata": {},
   "source": [
    "# Do some tests"
   ]
  },
  {
   "cell_type": "code",
   "execution_count": null,
   "metadata": {},
   "outputs": [],
   "source": [
    "vbf_quark_last_pt=ak.flatten(genparts_flat[vbf_quark_last_idx].pt)\n",
    "vbf_quark_first_pt=ak.flatten(genparts_flat[vbf_quark_idx].pt)\n",
    "print(vbf_quark_last_pt)\n",
    "#plot ratio of pt of last copy of quark to the pt of the quark\n",
    "plt.hist(vbf_quark_last_pt/vbf_quark_first_pt, bins=100, range=(0,2))"
   ]
  },
  {
   "cell_type": "code",
   "execution_count": null,
   "metadata": {},
   "outputs": [],
   "source": [
    "# plot ratio of eta of last copy of quark to the eta of the quark\n",
    "vbf_quark_last_eta=ak.flatten(genparts_flat[vbf_quark_last_idx].eta)\n",
    "vbf_quark_first_eta=ak.flatten(genparts_flat[vbf_quark_idx].eta)\n",
    "plt.hist(vbf_quark_last_eta/vbf_quark_first_eta, bins=100, range=(0.5,1.5))\n"
   ]
  },
  {
   "cell_type": "code",
   "execution_count": null,
   "metadata": {},
   "outputs": [],
   "source": [
    "#ratio of pdgId of last copy of quark to the pdgId of the quark\n",
    "vbf_quark_last_pdgId=ak.flatten(genparts_flat[vbf_quark_last_idx].pdgId)\n",
    "vbf_quark_first_pdgId=ak.flatten(genparts_flat[vbf_quark_idx].pdgId)\n",
    "plt.hist(vbf_quark_last_pdgId/vbf_quark_first_pdgId, bins=100, range=(0,2))\n"
   ]
  },
  {
   "cell_type": "markdown",
   "metadata": {},
   "source": [
    "# TEST"
   ]
  },
  {
   "cell_type": "code",
   "execution_count": null,
   "metadata": {},
   "outputs": [],
   "source": [
    "quark_last=(genpart[isQuark & isHard & (genpart.genPartIdxMother!=-1)& genpart.hasFlags([\"isLastCopy\"])])\n",
    "quark_last_flatten=ak.flatten(quark_last)\n",
    "print(quark_last.pdgId, quark_last.genPartIdxMother, quark_last.index,len(quark_last_flatten))"
   ]
  },
  {
   "cell_type": "code",
   "execution_count": null,
   "metadata": {},
   "outputs": [],
   "source": [
    "quark_last_mother = (genpart[quark_last.genPartIdxMother])\n",
    "quark_last_mother_flatten=ak.flatten(quark_last_mother)\n",
    "print(quark_last_mother.pdgId, quark_last_mother.children.pdgId, quark_last_mother.children.index, len(quark_last_mother_flatten.pdgId))"
   ]
  },
  {
   "cell_type": "code",
   "execution_count": null,
   "metadata": {},
   "outputs": [],
   "source": [
    "# get mother of mother\n",
    "quark_mother_not_null=quark_last[quark_last_mother.genPartIdxMother!=-1]\n",
    "quark_mother_not_null_flatten=ak.flatten(quark_mother_not_null)\n",
    "mother_not_null=quark_last_mother[quark_last_mother.genPartIdxMother!=-1]\n",
    "mother_not_null_flatten=ak.flatten(mother_not_null)\n",
    "quark_last_mother_mother = genpart[mother_not_null.genPartIdxMother]\n",
    "quark_last_mother_mother_flatten=ak.flatten(quark_last_mother_mother)\n",
    "print(quark_last_mother_mother.pdgId, quark_last_mother_mother.children.pdgId, quark_last_mother_mother.children.index, len(quark_last_mother_mother.pdgId))"
   ]
  },
  {
   "cell_type": "code",
   "execution_count": null,
   "metadata": {},
   "outputs": [],
   "source": [
    "#plot pt ratio of last copy of quark to the pt of the mother\n",
    "plt.hist(quark_last_flatten.pt/quark_last_mother_flatten.pt, bins=100, range=(0,2))"
   ]
  },
  {
   "cell_type": "code",
   "execution_count": null,
   "metadata": {},
   "outputs": [],
   "source": [
    "plt.hist(mother_not_null_flatten.pt/quark_last_mother_mother_flatten.pt, bins=100, range=(0,2))"
   ]
  },
  {
   "cell_type": "code",
   "execution_count": null,
   "metadata": {},
   "outputs": [],
   "source": [
    "plt.hist(quark_mother_not_null_flatten.pt/quark_last_mother_mother_flatten.pt, bins=100, range=(0,2))"
   ]
  },
  {
   "cell_type": "markdown",
   "metadata": {},
   "source": [
    "# check if it can happen that multiple children of a particle have the same pdgId has the parent"
   ]
  },
  {
   "cell_type": "code",
   "execution_count": null,
   "metadata": {},
   "outputs": [],
   "source": [
    "isQuark = abs(genpart.pdgId) < 7\n",
    "isHard = genpart.hasFlags([\"fromHardProcess\"])\n",
    "\n",
    "quarks = genpart[isQuark & isHard]\n",
    "\n",
    "quarks = quarks[quarks.genPartIdxMother!=-1]\n",
    "\n",
    "quarks_mother = genpart[quarks.genPartIdxMother]\n",
    "quarks_mother_children = quarks_mother.children\n",
    "quarks_mother_children_isH = ak.sum((quarks_mother_children.pdgId == 25), axis=-1)==2\n",
    "vbf_quarks = quarks[quarks_mother_children_isH]\n",
    "\n",
    "print(\"vbf_quarks children\", vbf_quarks.children.pdgId)\n",
    "\n",
    "\n",
    "children_pdgId = genpart.children.pdgId\n",
    "parent_pdgId = genpart.pdgId\n",
    "\n",
    "print(parent_pdgId)\n",
    "print(children_pdgId)\n",
    "\n",
    "for event in range(len(vbf_quarks)):\n",
    "    # for i in range(len(vbf_quarks[event])):\n",
    "    for i in vbf_quarks[event].index:\n",
    "        if (\n",
    "            # True\n",
    "            ak.sum(parent_pdgId[event][i] == children_pdgId[event][i]) > 1\n",
    "            and not ak.any(children_pdgId[event][i] == 25)\n",
    "            and ak.sum(genpart[event][i].children.hasFlags([\"fromHardProcess\"])) > 1\n",
    "        ):\n",
    "            print(\"Event\", event, \"Particle\", i)\n",
    "            print(\"Parent pdg\", parent_pdgId[event][i])\n",
    "            print(\"Children pdg\", children_pdgId[event][i])\n",
    "            print(\"chilren index\", genpart[event][i].children.index)\n",
    "            print(\"children pt\", genpart[event][i].children.pt)\n",
    "            # print(\"children is last copy\", genpart[event][i].children.hasFlags([\"isLastCopy\"]))\n",
    "            print(\n",
    "                \"children from hard\",\n",
    "                genpart[event][i].children.hasFlags([\"fromHardProcess\"]),\n",
    "            )\n",
    "            print(\n",
    "                \"children is hard\",\n",
    "                genpart[event][i].children.hasFlags([\"isHardProcess\"]),\n",
    "            )\n",
    "            print(\n",
    "                \"children is prompt\", genpart[event][i].children.hasFlags([\"isPrompt\"])\n",
    "            )\n",
    "\n",
    "            print(\"parent index\", genpart[event][i].index)\n",
    "            print(\"childre mother index\", genpart[event][i].children.genPartIdxMother)"
   ]
  },
  {
   "cell_type": "code",
   "execution_count": null,
   "metadata": {},
   "outputs": [],
   "source": []
  }
 ],
 "metadata": {
  "kernelspec": {
   "display_name": "Python 3",
   "language": "python",
   "name": "python3"
  },
  "language_info": {
   "codemirror_mode": {
    "name": "ipython",
    "version": 3
   },
   "file_extension": ".py",
   "mimetype": "text/x-python",
   "name": "python",
   "nbconvert_exporter": "python",
   "pygments_lexer": "ipython3",
   "version": "3.9.18"
  }
 },
 "nbformat": 4,
 "nbformat_minor": 2
}
