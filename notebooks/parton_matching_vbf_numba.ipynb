{
 "cells": [
  {
   "cell_type": "code",
   "execution_count": 21,
   "metadata": {},
   "outputs": [],
   "source": [
    "from coffea.nanoevents import NanoEventsFactory, NanoAODSchema\n",
    "import awkward as ak\n",
    "import matplotlib.pyplot as plt\n",
    "import numba\n",
    "from numba import njit\n",
    "import numpy as np\n",
    "from pocket_coffea.lib.parton_provenance import reverse_index_array"
   ]
  },
  {
   "cell_type": "code",
   "execution_count": 22,
   "metadata": {},
   "outputs": [
    {
     "name": "stdout",
     "output_type": "stream",
     "text": [
      "Events read: 100000\n"
     ]
    }
   ],
   "source": [
    "filename =\"/pnfs/psi.ch/cms/trivcat/store/mc/Run3Summer22EENanoAODv12/VBFHHto4B_CV_1_C2V_1_C3_1_TuneCP5_13p6TeV_madgraph-pythia8/NANOAODSIM/130X_mcRun3_2022_realistic_postEE_v6-v3/80000/a897cbbf-ea0b-40d5-b850-f9f24a7906a5.root\"\n",
    "# events = NanoEventsFactory.from_root(filename, schemaclass=NanoAODSchema).events()\n",
    "events = NanoEventsFactory.from_root(filename, schemaclass=NanoAODSchema, entry_stop=100000).events()\n",
    "print(\"Events read:\", len(events))"
   ]
  },
  {
   "cell_type": "code",
   "execution_count": 23,
   "metadata": {},
   "outputs": [
    {
     "name": "stdout",
     "output_type": "stream",
     "text": [
      "[[True, True, False, False, False, False, ... False, False, False, False, False]] [True, True, False, False, False, False, ... False, False, False, False, False]\n",
      "[[2, 2, 5, -5, 5, -5, 5, 5, 2, 2, -5, 5, ... [2, 1, 5, -5, 5, -5, 1, 2, 5, -5]] [[0, 0, 10, 10, 11, 11, 12, 14, 5, 4, 15, 17, ... [0, 0, 8, 8, 9, 9, 5, 4, 10, 11]] [[4, 5, 12, 13, 14, 15, 17, 18, 20, 21, ... 4, 5, 10, 11, 12, 13, 14, 16, 19, 21]]\n",
      "[[2, 2], [2, 1], [4, 1], [4, 1], [1, -1, ... 2, -2], [2, 2], [2, 3], [1, -1], [2, 1]] [[0, 0], [0, 0], [0, 0], [0, 0], [0, 0], ... [0, 0], [0, 0], [0, 0], [0, 0], [0, 0]] [[4, 5], [4, 5], [4, 5], [4, 5], [4, 5], ... [4, 5], [4, 5], [4, 5], [4, 5], [4, 5]] [[2, 2], [1, 1], [2, 2], [2, 2], [-2, -2, ... -1], [2, 2], [1, 1], [-2, -2], [2, 2]]\n",
      "[[False, False], [False, False], [True, ... True], [True, True], [False, False]]\n"
     ]
    }
   ],
   "source": [
    "events.GenPart=ak.with_field(events.GenPart, ak.local_index(events.GenPart, axis=1), \"index\")\n",
    "genpart= events.GenPart\n",
    "single_event=-1\n",
    "if (single_event!=-1):\n",
    "    genpart= events.GenPart[single_event]\n",
    "\n",
    "\n",
    "isQuark = abs(genpart.pdgId) < 7\n",
    "isHard = genpart.hasFlags([\"fromHardProcess\"])\n",
    "\n",
    "quarks = genpart[isQuark & isHard]\n",
    "quarks = quarks[quarks.genPartIdxMother!=-1]\n",
    "\n",
    "quarks_mother = genpart[quarks.genPartIdxMother]\n",
    "quarks_mother_children = quarks_mother.children\n",
    "quarks_mother_children_isH = ak.sum((quarks_mother_children.pdgId == 25), axis=-1)==2\n",
    "vbf_quarks = quarks[quarks_mother_children_isH]\n",
    "\n",
    "\n",
    "print(quarks_mother_children_isH, quarks_mother_children_isH[0])\n",
    "print(quarks.pdgId, quarks.genPartIdxMother, quarks.index)\n",
    "print(vbf_quarks.pdgId, vbf_quarks.genPartIdxMother, vbf_quarks.index, genpart[vbf_quarks.genPartIdxMother].pdgId)\n",
    "print(vbf_quarks.hasFlags([\"isFirstCopy\"]))\n"
   ]
  },
  {
   "cell_type": "code",
   "execution_count": 24,
   "metadata": {},
   "outputs": [],
   "source": [
    "\n",
    "children_idxG = ak.without_parameters(genpart.childrenIdxG, behavior={})\n",
    "children_idxG_flat = ak.flatten(children_idxG, axis=1)\n",
    "genpart_pdgId_flat = ak.flatten(ak.without_parameters(genpart.pdgId, behavior={}), axis=1)\n",
    "genpart_LastCopy_flat = ak.flatten(ak.without_parameters(genpart.hasFlags([\"isLastCopy\"]), behavior={}), axis=1)\n",
    "genpart_pt_flat = ak.flatten(ak.without_parameters(genpart.pt, behavior={}), axis=1)\n",
    "genparts_flat = ak.flatten(genpart)\n",
    "genpart_offsets = np.concatenate([[0],np.cumsum(ak.to_numpy(ak.num(genpart, axis=1), allow_missing=True))])\n",
    "local_index_all = ak.local_index(genpart, axis=1)\n",
    "local_index_vbf = ak.local_index(vbf_quarks, axis=1)\n",
    "vbf_quark_idx = ak.to_numpy(vbf_quarks.index+genpart_offsets[:-1], allow_missing=False)\n",
    "vbf_quarks_pdgId = ak.to_numpy(vbf_quarks.pdgId, allow_missing=False)\n",
    "nevents=vbf_quark_idx.shape[0]\n",
    "firstgenpart_idxG = ak.firsts(genpart[:,0].children).genPartIdxMotherG\n",
    "firstgenpart_idxG_numpy = ak.to_numpy( firstgenpart_idxG, allow_missing=False)\n"
   ]
  },
  {
   "cell_type": "code",
   "execution_count": 25,
   "metadata": {},
   "outputs": [
    {
     "name": "stdout",
     "output_type": "stream",
     "text": [
      "[      0      53     108 ... 5617077 5617130 5617171]\n",
      "[[[2, 3, 4, 5], [], [6], [7], [21], ... [], [], [], [5617169], [5617170], [], []]]\n",
      "[[2, 3, 4, 5], [], [6], [7], [21], ... [], [], [], [5617169], [5617170], [], []]\n",
      "[2, 2, 25, 25, 2, 2, 25, 25, 25, 25, ... -11, 12, -13, 14, -421, 111, 111, 22, 22]\n",
      "[False, False, False, False, False, False, ... True, True, True, True, True, True]\n",
      "[0, 1, 2, 3, 4, 5, 6, 7, 8, 9, 10, ... 30, 31, 32, 33, 34, 35, 36, 37, 38, 39, 40] 5617171\n",
      "[[0, 1, 2, 3, 4, 5, 6, 7, 8, 9, 10, ... 30, 31, 32, 33, 34, 35, 36, 37, 38, 39, 40]] [53, 55, 60, 51, 56, 54, 49, 59, 69, 47, ... 65, 49, 74, 42, 74, 45, 52, 54, 53, 41]\n",
      "100000\n",
      "[[      4       5]\n",
      " [     57      58]\n",
      " [    112     113]\n",
      " ...\n",
      " [5617027 5617028]\n",
      " [5617081 5617082]\n",
      " [5617134 5617135]]\n"
     ]
    }
   ],
   "source": [
    "print(genpart_offsets)\n",
    "print(children_idxG)\n",
    "print(children_idxG_flat)\n",
    "print(genpart_pdgId_flat)\n",
    "print(genpart_LastCopy_flat)\n",
    "print(genparts_flat.index, ak.num(genparts_flat.index, axis=0))\n",
    "print(local_index_all, ak.num(local_index_all, axis=1))\n",
    "print(nevents)\n",
    "print(vbf_quark_idx)"
   ]
  },
  {
   "cell_type": "code",
   "execution_count": 44,
   "metadata": {},
   "outputs": [],
   "source": [
    "@njit\n",
    "def analyze_parton_from_vbf_quarks(\n",
    "    vbf_quarks_idx,\n",
    "    vbf_quarks_pdgId,\n",
    "    children_idxG_flat,\n",
    "    genpart_pdgId_flat,\n",
    "    genpart_offsets,\n",
    "    genpart_LastCopy_flat,\n",
    "    genpart_pt_flat,\n",
    "    nevents,\n",
    "    firstgenpart_idxG_numpy\n",
    "):\n",
    "    prints=False\n",
    "    # print input array\n",
    "    if prints:\n",
    "        print(\"vbf_quarks_idx\", vbf_quarks_idx)\n",
    "        print(\"vbf_quarks_pdgId\", vbf_quarks_pdgId)\n",
    "        print(\"children_idxG_flat\", children_idxG_flat)\n",
    "        print(\"genpart_pdgId_flat\", genpart_pdgId_flat)\n",
    "        print(\"genpart_offsets\", genpart_offsets)\n",
    "        print(\"genpart_LastCopy_flat\", genpart_LastCopy_flat)\n",
    "        print(\"nevents\", nevents)\n",
    "\n",
    "    # get the children ofthe vbf_quarks which have the same pdgId of the mother iteratively until we reach the last copy\n",
    "\n",
    "    out = np.zeros(vbf_quarks_idx.shape, dtype=\"int64\")-1\n",
    "\n",
    "    for iev in range(vbf_quarks_idx.shape[0]):\n",
    "        if prints: print(\"Event\", iev)\n",
    "        prints=True if iev==1662 else False\n",
    "        for ipart in range(vbf_quarks_idx.shape[1]):\n",
    "            p_id = vbf_quarks_idx[iev][ipart]\n",
    "            if prints: print(\"Parton\", ipart)\n",
    "            i=0\n",
    "            if genpart_LastCopy_flat[p_id]:\n",
    "                out[iev][ipart] = p_id\n",
    "                continue\n",
    "            while not genpart_LastCopy_flat[p_id] and i<5:\n",
    "                i+=1\n",
    "                children_idxs = reverse_index_array(children_idxG_flat[p_id],\n",
    "                                    firstgenpart_idxG_numpy,\n",
    "                                    genpart_offsets, nevents)\n",
    "                # children_idxs = children_idxG_flat[p_id]\n",
    "                if prints: print(children_idxs)\n",
    "\n",
    "                #get the children with the same pdgId as the mother with highest pt\n",
    "                max_pt = -1\n",
    "                max_pt_idx = -1\n",
    "\n",
    "\n",
    "                # num_pdg_equal=0\n",
    "                # for child_idx in children_idxs:\n",
    "                #     if genpart_pdgId_flat[child_idx] == vbf_quarks_pdgId[iev][ipart]:\n",
    "                #         num_pdg_equal+=1\n",
    "                # if num_pdg_equal==1:\n",
    "                #     p_id = children_idxs[0]\n",
    "                #     break\n",
    "                # if prints: print(\"\\n\\n###################\\n\\n\")\n",
    "\n",
    "\n",
    "                for child_idx in children_idxs:\n",
    "                    if prints: print(\"Child\", child_idx)\n",
    "                    if prints: print(vbf_quarks_pdgId[iev][ipart])\n",
    "                    if prints: print(genpart_pdgId_flat[child_idx])\n",
    "                    if genpart_pdgId_flat[child_idx] != vbf_quarks_pdgId[iev][ipart]:\n",
    "                        continue\n",
    "                    child_pt = genpart_pt_flat[child_idx]\n",
    "                    if prints: print(child_pt)\n",
    "                    if child_pt > max_pt:\n",
    "                        max_pt_idx = child_idx\n",
    "                        max_pt = child_pt\n",
    "\n",
    "                if prints: print(\"genpart_LastCopy_flat\", genpart_LastCopy_flat[max_pt_idx])\n",
    "                if  genpart_LastCopy_flat[max_pt_idx]:\n",
    "                    if prints: print(\"Found child\")\n",
    "                    out[iev][ipart] = max_pt_idx\n",
    "                if prints: print(p_id, max_pt_idx)\n",
    "                p_id = max_pt_idx\n",
    "                if prints: print(p_id, max_pt_idx)\n",
    "                # break\n",
    "                # if max_pt == -1:\n",
    "                #     max_pt_idx = p_id\n",
    "                if out[iev][ipart]!=-1:\n",
    "                    if prints: print(\"out\", out[iev][ipart])\n",
    "                    break\n",
    "\n",
    "    return out"
   ]
  },
  {
   "cell_type": "code",
   "execution_count": 50,
   "metadata": {},
   "outputs": [],
   "source": [
    "@njit\n",
    "def get_quark_last_copy(\n",
    "    b_quarks_idx,\n",
    "    b_quarks_pdgId,\n",
    "    children_idxG_flat,\n",
    "    genpart_pdgId_flat,\n",
    "    genpart_offsets,\n",
    "    genpart_LastCopy_flat,\n",
    "    genpart_pt_flat,\n",
    "    nevents,\n",
    "    firstgenpart_idxG_numpy,\n",
    "):\n",
    "    prints = True\n",
    "    # print input array\n",
    "    if prints:\n",
    "        print(\"b_quarks_idx\", b_quarks_idx)\n",
    "        print(\"b_quarks_pdgId\", b_quarks_pdgId)\n",
    "        print(\"children_idxG_flat\", children_idxG_flat)\n",
    "        print(\"genpart_pdgId_flat\", genpart_pdgId_flat)\n",
    "        print(\"genpart_offsets\", genpart_offsets)\n",
    "        print(\"genpart_LastCopy_flat\", genpart_LastCopy_flat)\n",
    "        print(\"nevents\", nevents)\n",
    "\n",
    "    # get the children ofthe b_quarks which have the same pdgId of the mother iteratively until we reach the last copy\n",
    "\n",
    "    out = np.zeros(b_quarks_idx.shape, dtype=\"int64\") - 1\n",
    "\n",
    "    for iev in range(b_quarks_idx.shape[0]):\n",
    "\n",
    "        prints=True if iev==1662 else False\n",
    "        if prints:\n",
    "            print(\"\\nEvent\", iev)\n",
    "        for ipart in range(b_quarks_idx.shape[1]):\n",
    "            p_id = b_quarks_idx[iev][ipart]\n",
    "            if prints:\n",
    "                print(\"Parton\", ipart, genpart_LastCopy_flat[p_id], len(children_idxG_flat[p_id]), p_id)\n",
    "            i = 0\n",
    "            if genpart_LastCopy_flat[p_id] or len(children_idxG_flat[p_id]) == 0:\n",
    "                out[iev][ipart] = p_id\n",
    "                if prints:\n",
    "                    print(\"out\", out[iev][ipart], out[iev][ipart]-genpart_offsets[iev])\n",
    "                continue\n",
    "            while (not genpart_LastCopy_flat[p_id]) and (not len(children_idxG_flat[p_id]) == 0) and i<5:\n",
    "                i += 1\n",
    "                children_idxs = reverse_index_array(\n",
    "                    children_idxG_flat[p_id],\n",
    "                    firstgenpart_idxG_numpy,\n",
    "                    genpart_offsets,\n",
    "                    nevents,\n",
    "                )\n",
    "                # children_idxs = children_idxG_flat[p_id]\n",
    "                if prints:\n",
    "                    print(children_idxs)\n",
    "\n",
    "                # get the children with the same pdgId as the mother with highest pt\n",
    "                max_pt = -1\n",
    "                max_pt_idx = p_id\n",
    "\n",
    "                # num_pdg_equal=0\n",
    "                # for child_idx in children_idxs:\n",
    "                #     if genpart_pdgId_flat[child_idx] == b_quarks_pdgId[iev][ipart]:\n",
    "                #         num_pdg_equal+=1\n",
    "                # if num_pdg_equal==1:\n",
    "                #     p_id = children_idxs[0]\n",
    "                #     break\n",
    "                # if prints: print(\"\\n\\n###################\\n\\n\")\n",
    "\n",
    "                for child_idx in children_idxs:\n",
    "                    if prints:\n",
    "                        print(\"Child\", child_idx)\n",
    "                    if prints:\n",
    "                        print(b_quarks_pdgId[iev][ipart])\n",
    "                    if prints:\n",
    "                        print(genpart_pdgId_flat[child_idx])\n",
    "                    if genpart_pdgId_flat[child_idx] != b_quarks_pdgId[iev][ipart]:\n",
    "                        continue\n",
    "                    child_pt = genpart_pt_flat[child_idx]\n",
    "                    if prints:\n",
    "                        print(child_pt)\n",
    "                    if child_pt > max_pt:\n",
    "                        max_pt_idx = child_idx\n",
    "                        max_pt = child_pt\n",
    "\n",
    "                if prints:\n",
    "                    print(\"genpart_LastCopy_flat\", genpart_LastCopy_flat[max_pt_idx])\n",
    "                    print(\"len(children_idxG_flat[p_id])\", len(children_idxG_flat[p_id]))\n",
    "                if genpart_LastCopy_flat[max_pt_idx] or len(children_idxG_flat[max_pt_idx]) == 0 or max_pt==-1:\n",
    "                    if prints:\n",
    "                        print(\"Found child\")\n",
    "                    out[iev][ipart] = max_pt_idx\n",
    "                if prints:\n",
    "                    print(p_id, max_pt_idx)\n",
    "                p_id = max_pt_idx\n",
    "                if prints:\n",
    "                    print(p_id, max_pt_idx)\n",
    "                # break\n",
    "                # if max_pt == -1:\n",
    "                #     max_pt_idx = p_id\n",
    "                if out[iev][ipart] != -1:\n",
    "                    if prints:\n",
    "                        print(\"break\")\n",
    "                    break\n",
    "            if prints:\n",
    "                print(\"out\", out[iev][ipart], out[iev][ipart]-genpart_offsets[iev])\n",
    "\n",
    "    return out"
   ]
  },
  {
   "cell_type": "code",
   "execution_count": 46,
   "metadata": {},
   "outputs": [
    {
     "name": "stdout",
     "output_type": "stream",
     "text": [
      "Parton 0\n",
      "[93324 93334 93344 93359]\n",
      "Child 93324\n",
      "4\n",
      "4\n",
      "66.25\n",
      "Child 93334\n",
      "4\n",
      "4\n",
      "37.0\n",
      "Child 93344\n",
      "4\n",
      "421\n",
      "Child 93359\n",
      "4\n",
      "111\n",
      "genpart_LastCopy_flat False\n",
      "93314 93324\n",
      "93324 93324\n",
      "[93329]\n",
      "Child 93329\n",
      "4\n",
      "22\n",
      "genpart_LastCopy_flat True\n",
      "Found child\n",
      "93324 -1\n",
      "-1 -1\n",
      "Parton 1\n",
      "[93336]\n",
      "Child 93336\n",
      "1\n",
      "1\n",
      "93.25\n",
      "genpart_LastCopy_flat True\n",
      "Found child\n",
      "93315 93336\n",
      "93336 93336\n",
      "out 93336\n",
      "Event 1663\n",
      "[[     21      20]\n",
      " [     82      75]\n",
      " [    131     141]\n",
      " ...\n",
      " [5617055 5617053]\n",
      " [5617108 5617095]\n",
      " [5617146 5617144]]\n",
      "[      0      53     108 ... 5617023 5617077 5617130]\n",
      "True\n"
     ]
    }
   ],
   "source": [
    "vbf_quark_last_idx=analyze_parton_from_vbf_quarks(\n",
    "    vbf_quark_idx,\n",
    "    vbf_quarks_pdgId,\n",
    "    children_idxG_flat,\n",
    "    genpart_pdgId_flat,\n",
    "    genpart_offsets,\n",
    "    genpart_LastCopy_flat,\n",
    "    genpart_pt_flat,\n",
    "    nevents,\n",
    "    firstgenpart_idxG_numpy\n",
    ")\n",
    "print(vbf_quark_last_idx)\n",
    "print(genpart_offsets[:-1])\n",
    "print(ak.any(vbf_quark_last_idx==-1))"
   ]
  },
  {
   "cell_type": "code",
   "execution_count": 47,
   "metadata": {},
   "outputs": [
    {
     "name": "stdout",
     "output_type": "stream",
     "text": [
      "-1 -93311 4 22\n",
      "1662 0\n",
      "-1 -2117104 4 22\n",
      "37692 0\n",
      "-1 -4732703 -4 22\n",
      "84282 0\n"
     ]
    }
   ],
   "source": [
    "for i in range(len(vbf_quark_last_idx)):\n",
    "    for j in range(len(vbf_quark_last_idx[i])):\n",
    "        if vbf_quark_last_idx[i][j] == -1:\n",
    "            print(vbf_quark_last_idx[i][j], vbf_quark_last_idx[i][j]-genpart_offsets[i], vbf_quarks_pdgId[i][j], genpart_pdgId_flat[vbf_quark_last_idx[i][j]])\n",
    "            print(i, j)"
   ]
  },
  {
   "cell_type": "code",
   "execution_count": 51,
   "metadata": {},
   "outputs": [
    {
     "name": "stdout",
     "output_type": "stream",
     "text": [
      "b_quarks_idx [[      4       5]\n",
      " [     57      58]\n",
      " [    112     113]\n",
      " ...\n",
      " [5617027 5617028]\n",
      " [5617081 5617082]\n",
      " [5617134 5617135]]\n",
      "b_quarks_pdgId [[ 2  2]\n",
      " [ 2  1]\n",
      " [ 4  1]\n",
      " ...\n",
      " [ 2  3]\n",
      " [ 1 -1]\n",
      " [ 2  1]]\n",
      "children_idxG_flat [[2, 3, 4, 5], [], [6], [7], [21], ... [], [], [], [5617169], [5617170], [], []]\n",
      "genpart_pdgId_flat [2, 2, 25, 25, 2, 2, 25, 25, 25, 25, ... -11, 12, -13, 14, -421, 111, 111, 22, 22]\n",
      "genpart_offsets [      0      53     108 ... 5617077 5617130 5617171]\n",
      "genpart_LastCopy_flat [False, False, False, False, False, False, ... True, True, True, True, True, True]\n",
      "nevents 100000\n",
      "\n",
      "Event 1662\n",
      "Parton 0 False 4 93314\n",
      "[93324 93334 93344 93359]\n",
      "Child 93324\n",
      "4\n",
      "4\n",
      "66.25\n",
      "Child 93334\n",
      "4\n",
      "4\n",
      "37.0\n",
      "Child 93344\n",
      "4\n",
      "421\n",
      "Child 93359\n",
      "4\n",
      "111\n",
      "genpart_LastCopy_flat False\n",
      "len(children_idxG_flat[p_id]) 4\n",
      "93314 93324\n",
      "93324 93324\n",
      "[93329]\n",
      "Child 93329\n",
      "4\n",
      "22\n",
      "genpart_LastCopy_flat False\n",
      "len(children_idxG_flat[p_id]) 1\n",
      "Found child\n",
      "93324 93324\n",
      "93324 93324\n",
      "break\n",
      "out 93324 14\n",
      "Parton 1 False 1 93315\n",
      "[93336]\n",
      "Child 93336\n",
      "1\n",
      "1\n",
      "93.25\n",
      "genpart_LastCopy_flat True\n",
      "len(children_idxG_flat[p_id]) 1\n",
      "Found child\n",
      "93315 93336\n",
      "93336 93336\n",
      "break\n",
      "out 93336 26\n",
      "[[     21      20]\n",
      " [     82      75]\n",
      " [    131     141]\n",
      " ...\n",
      " [5617055 5617053]\n",
      " [5617108 5617095]\n",
      " [5617146 5617144]]\n",
      "[      0      53     108 ... 5617023 5617077 5617130]\n",
      "False\n"
     ]
    }
   ],
   "source": [
    "vbf_quark_last_idx=get_quark_last_copy(\n",
    "    vbf_quark_idx,\n",
    "    vbf_quarks_pdgId,\n",
    "    children_idxG_flat,\n",
    "    genpart_pdgId_flat,\n",
    "    genpart_offsets,\n",
    "    genpart_LastCopy_flat,\n",
    "    genpart_pt_flat,\n",
    "    nevents,\n",
    "    firstgenpart_idxG_numpy\n",
    ")\n",
    "print(vbf_quark_last_idx)\n",
    "print(genpart_offsets[:-1])\n",
    "print(ak.any(vbf_quark_last_idx==-1))\n"
   ]
  },
  {
   "cell_type": "code",
   "execution_count": 49,
   "metadata": {},
   "outputs": [
    {
     "ename": "Exception",
     "evalue": "Stop here",
     "output_type": "error",
     "traceback": [
      "\u001b[0;31m---------------------------------------------------------------------------\u001b[0m",
      "\u001b[0;31mException\u001b[0m                                 Traceback (most recent call last)",
      "Cell \u001b[0;32mIn[49], line 1\u001b[0m\n\u001b[0;32m----> 1\u001b[0m \u001b[38;5;28;01mraise\u001b[39;00m \u001b[38;5;167;01mException\u001b[39;00m(\u001b[38;5;124m\"\u001b[39m\u001b[38;5;124mStop here\u001b[39m\u001b[38;5;124m\"\u001b[39m)\n",
      "\u001b[0;31mException\u001b[0m: Stop here"
     ]
    }
   ],
   "source": [
    "raise Exception(\"Stop here\")"
   ]
  },
  {
   "cell_type": "markdown",
   "metadata": {},
   "source": [
    "# Do some tests"
   ]
  },
  {
   "cell_type": "code",
   "execution_count": null,
   "metadata": {},
   "outputs": [
    {
     "name": "stdout",
     "output_type": "stream",
     "text": [
      "100000 [[GenParticle, GenParticle], [GenParticle, ... [GenParticle, GenParticle]]\n",
      "[[2, 2], [2, 1], [4, 1], [4, 1], [1, -1, ... 2, -2], [2, 2], [2, 3], [1, -1], [2, 1]] [[103, 34], [8.03, 15.3], [34.5, 27.2], ... [6.23, 18.6], [99.8, 46.1], [19, 32]] [[-3.42, 3.9], [3.49, -3.48], [-2.8, 4.11, ... -3.55], [-2.41, 1.54], [-4.23, 2.89]] [[-2.97, -1.8], [1.86, -0.403], [2.91, ... -2.2], [-1.56, 0.775], [1.12, -3.12]]\n"
     ]
    }
   ],
   "source": [
    "print(len(genparts_flat[vbf_quark_last_idx]), genparts_flat[vbf_quark_last_idx])\n",
    "\n",
    "vbf_quark_last=genparts_flat[vbf_quark_last_idx]\n",
    "print(vbf_quark_last.pdgId, vbf_quark_last.pt, vbf_quark_last.eta, vbf_quark_last.phi)\n"
   ]
  },
  {
   "cell_type": "code",
   "execution_count": null,
   "metadata": {},
   "outputs": [
    {
     "name": "stdout",
     "output_type": "stream",
     "text": [
      "[103, 34, 8.03, 15.3, 34.5, 27.2, 3.92, ... 33.6, 6.23, 18.6, 99.8, 46.1, 19, 32]\n"
     ]
    },
    {
     "data": {
      "text/plain": [
       "(array([2.0920e+03, 2.8920e+03, 3.0330e+03, 3.0890e+03, 3.1560e+03,\n",
       "        3.0980e+03, 3.0840e+03, 3.0610e+03, 3.0840e+03, 3.1180e+03,\n",
       "        3.1270e+03, 3.0540e+03, 3.1460e+03, 3.0810e+03, 3.0740e+03,\n",
       "        3.1540e+03, 3.1570e+03, 3.2310e+03, 3.1760e+03, 3.0850e+03,\n",
       "        3.1110e+03, 3.1200e+03, 3.2840e+03, 3.0550e+03, 3.1240e+03,\n",
       "        3.1720e+03, 3.1520e+03, 3.1840e+03, 3.2010e+03, 3.1570e+03,\n",
       "        3.1390e+03, 3.1610e+03, 3.2300e+03, 3.0720e+03, 3.1220e+03,\n",
       "        3.1300e+03, 3.0180e+03, 3.1290e+03, 3.0800e+03, 3.0690e+03,\n",
       "        3.1400e+03, 3.1160e+03, 3.1480e+03, 3.1160e+03, 3.3170e+03,\n",
       "        3.4910e+03, 3.9560e+03, 4.8350e+03, 7.0580e+03, 1.1416e+04,\n",
       "        1.3163e+04, 5.7080e+03, 3.0600e+03, 1.8750e+03, 1.2440e+03,\n",
       "        8.7700e+02, 6.4100e+02, 4.9000e+02, 3.7800e+02, 3.1400e+02,\n",
       "        2.3400e+02, 2.1900e+02, 1.7400e+02, 1.5300e+02, 1.3700e+02,\n",
       "        9.3000e+01, 8.5000e+01, 7.5000e+01, 6.9000e+01, 6.3000e+01,\n",
       "        5.0000e+01, 4.5000e+01, 4.2000e+01, 4.4000e+01, 4.1000e+01,\n",
       "        2.6000e+01, 2.5000e+01, 2.3000e+01, 2.7000e+01, 2.1000e+01,\n",
       "        2.1000e+01, 1.6000e+01, 1.3000e+01, 1.4000e+01, 1.3000e+01,\n",
       "        9.0000e+00, 1.1000e+01, 1.1000e+01, 1.5000e+01, 8.0000e+00,\n",
       "        6.0000e+00, 9.0000e+00, 3.0000e+00, 8.0000e+00, 3.0000e+00,\n",
       "        5.0000e+00, 5.0000e+00, 3.0000e+00, 5.0000e+00, 5.0000e+00]),\n",
       " array([0.        , 0.02      , 0.04      , 0.06      , 0.08      ,\n",
       "        0.1       , 0.12      , 0.14      , 0.16      , 0.18000001,\n",
       "        0.2       , 0.22      , 0.23999999, 0.25999999, 0.28      ,\n",
       "        0.30000001, 0.31999999, 0.34      , 0.36000001, 0.38      ,\n",
       "        0.40000001, 0.41999999, 0.44      , 0.46000001, 0.47999999,\n",
       "        0.5       , 0.51999998, 0.54000002, 0.56      , 0.57999998,\n",
       "        0.60000002, 0.62      , 0.63999999, 0.66000003, 0.68000001,\n",
       "        0.69999999, 0.72000003, 0.74000001, 0.75999999, 0.77999997,\n",
       "        0.80000001, 0.81999999, 0.83999997, 0.86000001, 0.88      ,\n",
       "        0.89999998, 0.92000002, 0.94      , 0.95999998, 0.98000002,\n",
       "        1.        , 1.01999998, 1.03999996, 1.05999994, 1.08000004,\n",
       "        1.10000002, 1.12      , 1.13999999, 1.15999997, 1.17999995,\n",
       "        1.20000005, 1.22000003, 1.24000001, 1.25999999, 1.27999997,\n",
       "        1.29999995, 1.32000005, 1.34000003, 1.36000001, 1.38      ,\n",
       "        1.39999998, 1.41999996, 1.44000006, 1.46000004, 1.48000002,\n",
       "        1.5       , 1.51999998, 1.53999996, 1.55999994, 1.58000004,\n",
       "        1.60000002, 1.62      , 1.63999999, 1.65999997, 1.67999995,\n",
       "        1.70000005, 1.72000003, 1.74000001, 1.75999999, 1.77999997,\n",
       "        1.79999995, 1.82000005, 1.84000003, 1.86000001, 1.88      ,\n",
       "        1.89999998, 1.91999996, 1.94000006, 1.96000004, 1.98000002,\n",
       "        2.        ]),\n",
       " <BarContainer object of 100 artists>)"
      ]
     },
     "execution_count": 31,
     "metadata": {},
     "output_type": "execute_result"
    },
    {
     "data": {
      "image/png": "[encoded data removed]",
      "text/plain": [
       "<Figure size 640x480 with 1 Axes>"
      ]
     },
     "metadata": {},
     "output_type": "display_data"
    }
   ],
   "source": [
    "vbf_quark_last_pt=ak.flatten(genparts_flat[vbf_quark_last_idx].pt)\n",
    "vbf_quark_first_pt=ak.flatten(genparts_flat[vbf_quark_idx].pt)\n",
    "print(vbf_quark_last_pt)\n",
    "#plot ratio of pt of last copy of quark to the pt of the quark\n",
    "plt.hist(vbf_quark_last_pt/vbf_quark_first_pt, bins=100, range=(0,2))"
   ]
  },
  {
   "cell_type": "code",
   "execution_count": null,
   "metadata": {},
   "outputs": [
    {
     "data": {
      "text/plain": [
       "(array([   72.,    62.,    58.,    75.,    85.,    64.,    80.,    95.,\n",
       "          105.,    97.,    92.,   110.,   111.,   125.,   132.,   134.,\n",
       "          145.,   143.,   145.,   146.,   189.,   195.,   201.,   199.,\n",
       "          226.,   274.,   311.,   320.,   328.,   344.,   435.,   451.,\n",
       "          527.,   553.,   653.,   692.,   793.,   872.,  1028.,  1180.,\n",
       "         1461.,  1685.,  2068.,  2661.,  3357.,  4487.,  6170.,  9423.,\n",
       "        16244., 25773., 36764., 16986., 10271.,  7169.,  5454.,  4192.,\n",
       "         3355.,  2807.,  2298.,  1941.,  1679.,  1487.,  1298.,  1152.,\n",
       "         1013.,   900.,   790.,   754.,   732.,   552.,   585.,   503.,\n",
       "          463.,   454.,   366.,   383.,   334.,   298.,   290.,   279.,\n",
       "          252.,   267.,   241.,   191.,   202.,   212.,   180.,   189.,\n",
       "          170.,   159.,   140.,   133.,   131.,   134.,   121.,   111.,\n",
       "          111.,   108.,    95.,   125.]),\n",
       " array([0.5       , 0.50999999, 0.51999998, 0.52999997, 0.54000002,\n",
       "        0.55000001, 0.56      , 0.56999999, 0.57999998, 0.58999997,\n",
       "        0.60000002, 0.61000001, 0.62      , 0.63      , 0.63999999,\n",
       "        0.64999998, 0.66000003, 0.67000002, 0.68000001, 0.69      ,\n",
       "        0.69999999, 0.70999998, 0.72000003, 0.73000002, 0.74000001,\n",
       "        0.75      , 0.75999999, 0.76999998, 0.77999997, 0.79000002,\n",
       "        0.80000001, 0.81      , 0.81999999, 0.82999998, 0.83999997,\n",
       "        0.85000002, 0.86000001, 0.87      , 0.88      , 0.88999999,\n",
       "        0.89999998, 0.91000003, 0.92000002, 0.93000001, 0.94      ,\n",
       "        0.94999999, 0.95999998, 0.97000003, 0.98000002, 0.99000001,\n",
       "        1.        , 1.00999999, 1.01999998, 1.02999997, 1.03999996,\n",
       "        1.04999995, 1.05999994, 1.07000005, 1.08000004, 1.09000003,\n",
       "        1.10000002, 1.11000001, 1.12      , 1.13      , 1.13999999,\n",
       "        1.14999998, 1.15999997, 1.16999996, 1.17999995, 1.19000006,\n",
       "        1.20000005, 1.21000004, 1.22000003, 1.23000002, 1.24000001,\n",
       "        1.25      , 1.25999999, 1.26999998, 1.27999997, 1.28999996,\n",
       "        1.29999995, 1.30999994, 1.32000005, 1.33000004, 1.34000003,\n",
       "        1.35000002, 1.36000001, 1.37      , 1.38      , 1.38999999,\n",
       "        1.39999998, 1.40999997, 1.41999996, 1.42999995, 1.44000006,\n",
       "        1.45000005, 1.46000004, 1.47000003, 1.48000002, 1.49000001,\n",
       "        1.5       ]),\n",
       " <BarContainer object of 100 artists>)"
      ]
     },
     "execution_count": 32,
     "metadata": {},
     "output_type": "execute_result"
    },
    {
     "data": {
      "image/png": "[encoded data removed]",
      "text/plain": [
       "<Figure size 640x480 with 1 Axes>"
      ]
     },
     "metadata": {},
     "output_type": "display_data"
    }
   ],
   "source": [
    "# plot ratio of eta of last copy of quark to the eta of the quark\n",
    "vbf_quark_last_eta=ak.flatten(genparts_flat[vbf_quark_last_idx].eta)\n",
    "vbf_quark_first_eta=ak.flatten(genparts_flat[vbf_quark_idx].eta)\n",
    "plt.hist(vbf_quark_last_eta/vbf_quark_first_eta, bins=100, range=(0.5,1.5))\n"
   ]
  },
  {
   "cell_type": "code",
   "execution_count": null,
   "metadata": {},
   "outputs": [
    {
     "data": {
      "text/plain": [
       "(array([     0.,      0.,      0.,      0.,      0.,      0.,      0.,\n",
       "             0.,      0.,      0.,      0.,      0.,      0.,      0.,\n",
       "             0.,      0.,      0.,      0.,      0.,      0.,      0.,\n",
       "             0.,      0.,      0.,      0.,      0.,      0.,      0.,\n",
       "             0.,      0.,      0.,      0.,      0.,      0.,      0.,\n",
       "             0.,      0.,      0.,      0.,      0.,      0.,      0.,\n",
       "             0.,      0.,      0.,      0.,      0.,      0.,      0.,\n",
       "             0., 200000.,      0.,      0.,      0.,      0.,      0.,\n",
       "             0.,      0.,      0.,      0.,      0.,      0.,      0.,\n",
       "             0.,      0.,      0.,      0.,      0.,      0.,      0.,\n",
       "             0.,      0.,      0.,      0.,      0.,      0.,      0.,\n",
       "             0.,      0.,      0.,      0.,      0.,      0.,      0.,\n",
       "             0.,      0.,      0.,      0.,      0.,      0.,      0.,\n",
       "             0.,      0.,      0.,      0.,      0.,      0.,      0.,\n",
       "             0.,      0.]),\n",
       " array([0.  , 0.02, 0.04, 0.06, 0.08, 0.1 , 0.12, 0.14, 0.16, 0.18, 0.2 ,\n",
       "        0.22, 0.24, 0.26, 0.28, 0.3 , 0.32, 0.34, 0.36, 0.38, 0.4 , 0.42,\n",
       "        0.44, 0.46, 0.48, 0.5 , 0.52, 0.54, 0.56, 0.58, 0.6 , 0.62, 0.64,\n",
       "        0.66, 0.68, 0.7 , 0.72, 0.74, 0.76, 0.78, 0.8 , 0.82, 0.84, 0.86,\n",
       "        0.88, 0.9 , 0.92, 0.94, 0.96, 0.98, 1.  , 1.02, 1.04, 1.06, 1.08,\n",
       "        1.1 , 1.12, 1.14, 1.16, 1.18, 1.2 , 1.22, 1.24, 1.26, 1.28, 1.3 ,\n",
       "        1.32, 1.34, 1.36, 1.38, 1.4 , 1.42, 1.44, 1.46, 1.48, 1.5 , 1.52,\n",
       "        1.54, 1.56, 1.58, 1.6 , 1.62, 1.64, 1.66, 1.68, 1.7 , 1.72, 1.74,\n",
       "        1.76, 1.78, 1.8 , 1.82, 1.84, 1.86, 1.88, 1.9 , 1.92, 1.94, 1.96,\n",
       "        1.98, 2.  ]),\n",
       " <BarContainer object of 100 artists>)"
      ]
     },
     "execution_count": 33,
     "metadata": {},
     "output_type": "execute_result"
    },
    {
     "data": {
      "image/png": "[encoded data removed]",
      "text/plain": [
       "<Figure size 640x480 with 1 Axes>"
      ]
     },
     "metadata": {},
     "output_type": "display_data"
    }
   ],
   "source": [
    "#ratio of pdgId of last copy of quark to the pdgId of the quark\n",
    "vbf_quark_last_pdgId=ak.flatten(genparts_flat[vbf_quark_last_idx].pdgId)\n",
    "vbf_quark_first_pdgId=ak.flatten(genparts_flat[vbf_quark_idx].pdgId)\n",
    "plt.hist(vbf_quark_last_pdgId/vbf_quark_first_pdgId, bins=100, range=(0,2))\n"
   ]
  },
  {
   "cell_type": "markdown",
   "metadata": {},
   "source": [
    "# TEST"
   ]
  },
  {
   "cell_type": "code",
   "execution_count": null,
   "metadata": {},
   "outputs": [
    {
     "name": "stdout",
     "output_type": "stream",
     "text": [
      "[[5, 2, 2, -5, 5, -5], [-5, 5, 1, 5, -5, ... -1, 5, 5, -5, 1], [5, -5, 1, 2, 5, -5]] [[14, 5, 4, 15, 17, 13], [15, 14, 5, 16, ... 12, 15, 16, 4], [9, 9, 5, 4, 10, 11]] [[18, 20, 21, 24, 26, 29], [18, 20, 22, ... 27, 28, 31], [12, 13, 14, 16, 19, 21]] 600410\n"
     ]
    }
   ],
   "source": [
    "quark_last=(genpart[isQuark & isHard & (genpart.genPartIdxMother!=-1)& genpart.hasFlags([\"isLastCopy\"])])\n",
    "quark_last_flatten=ak.flatten(quark_last)\n",
    "print(quark_last.pdgId, quark_last.genPartIdxMother, quark_last.index,len(quark_last_flatten))"
   ]
  },
  {
   "cell_type": "code",
   "execution_count": null,
   "metadata": {},
   "outputs": [
    {
     "name": "stdout",
     "output_type": "stream",
     "text": [
      "[[5, 2, 2, -5, 5, -5], [-5, 5, 1, 5, -5, ... -1, 5, 5, -5, 1], [25, 25, 1, 2, 5, -5]] [[[5, -523, 21, 21, 521], [2], [2], [-5, ... 1, 221], [2], [5], [21, -5, -511, 523]]] [[[18, 19, 22, 23, 25], [20], [21], [24], ... 14, 15], [16], [19], [20, 21, 22, 23]]] 600410\n"
     ]
    }
   ],
   "source": [
    "quark_last_mother = (genpart[quark_last.genPartIdxMother])\n",
    "quark_last_mother_flatten=ak.flatten(quark_last_mother)\n",
    "print(quark_last_mother.pdgId, quark_last_mother.children.pdgId, quark_last_mother.children.index, len(quark_last_mother_flatten.pdgId))"
   ]
  },
  {
   "cell_type": "code",
   "execution_count": null,
   "metadata": {},
   "outputs": [
    {
     "name": "stdout",
     "output_type": "stream",
     "text": [
      "[[25, 2, 2, 25, 5, 25], [25, 25, 1, 25, ... 25, 25, 25, -2], [25, 25, 2, 2, 25, 25]] [[[5, -5], [25, 25, 2, 2], [25, 25, 2, 2], ... 1], [25, 25, 2, 1], [5, -5], [5, -5]]] [[[14, 15], [2, 3, 4, 5], [2, 3, 4, 5], ... 5], [2, 3, 4, 5], [10, 11], [10, 11]]] 100000\n"
     ]
    }
   ],
   "source": [
    "# get mother of mother\n",
    "quark_mother_not_null=quark_last[quark_last_mother.genPartIdxMother!=-1]\n",
    "quark_mother_not_null_flatten=ak.flatten(quark_mother_not_null)\n",
    "mother_not_null=quark_last_mother[quark_last_mother.genPartIdxMother!=-1]\n",
    "mother_not_null_flatten=ak.flatten(mother_not_null)\n",
    "quark_last_mother_mother = genpart[mother_not_null.genPartIdxMother]\n",
    "quark_last_mother_mother_flatten=ak.flatten(quark_last_mother_mother)\n",
    "print(quark_last_mother_mother.pdgId, quark_last_mother_mother.children.pdgId, quark_last_mother_mother.children.index, len(quark_last_mother_mother.pdgId))"
   ]
  },
  {
   "cell_type": "code",
   "execution_count": null,
   "metadata": {},
   "outputs": [
    {
     "name": "stderr",
     "output_type": "stream",
     "text": [
      "/work/mmalucch/micromamba/envs/pocket-coffea/lib/python3.9/site-packages/awkward/_connect/_numpy.py:195: RuntimeWarning: invalid value encountered in divide\n",
      "  result = getattr(ufunc, method)(\n"
     ]
    },
    {
     "data": {
      "text/plain": [
       "(array([2.5520e+03, 3.1500e+03, 3.5220e+03, 3.6800e+03, 3.9430e+03,\n",
       "        4.0150e+03, 4.1300e+03, 4.1770e+03, 4.3120e+03, 4.4440e+03,\n",
       "        4.5880e+03, 4.6640e+03, 4.9190e+03, 4.9010e+03, 4.9550e+03,\n",
       "        5.0870e+03, 5.3700e+03, 5.5560e+03, 5.5640e+03, 5.7180e+03,\n",
       "        5.8690e+03, 6.1280e+03, 6.4100e+03, 6.3640e+03, 6.4950e+03,\n",
       "        6.9900e+03, 7.1080e+03, 7.4440e+03, 7.6560e+03, 8.0870e+03,\n",
       "        8.3880e+03, 8.8360e+03, 9.3060e+03, 9.6310e+03, 1.0157e+04,\n",
       "        1.0822e+04, 1.1339e+04, 1.2087e+04, 1.2862e+04, 1.3779e+04,\n",
       "        1.4888e+04, 1.6453e+04, 1.7818e+04, 1.9589e+04, 2.1530e+04,\n",
       "        2.4503e+04, 2.7431e+04, 3.1861e+04, 3.8442e+04, 4.1298e+04,\n",
       "        5.1361e+04, 7.2900e+03, 4.1610e+03, 2.7260e+03, 1.9930e+03,\n",
       "        1.4750e+03, 1.1570e+03, 9.5700e+02, 8.4300e+02, 6.8200e+02,\n",
       "        5.6300e+02, 5.7700e+02, 4.5900e+02, 4.2900e+02, 3.5900e+02,\n",
       "        3.1800e+02, 2.9200e+02, 2.5500e+02, 2.3400e+02, 2.3100e+02,\n",
       "        2.1700e+02, 1.9000e+02, 2.1000e+02, 1.8300e+02, 1.7100e+02,\n",
       "        1.7300e+02, 1.5900e+02, 1.3300e+02, 1.3500e+02, 1.0900e+02,\n",
       "        1.0700e+02, 1.0200e+02, 8.5000e+01, 9.4000e+01, 8.9000e+01,\n",
       "        8.5000e+01, 6.9000e+01, 7.4000e+01, 9.7000e+01, 6.9000e+01,\n",
       "        8.2000e+01, 6.3000e+01, 6.0000e+01, 5.9000e+01, 6.6000e+01,\n",
       "        6.3000e+01, 4.4000e+01, 4.8000e+01, 5.0000e+01, 5.3000e+01]),\n",
       " array([0.        , 0.02      , 0.04      , 0.06      , 0.08      ,\n",
       "        0.1       , 0.12      , 0.14      , 0.16      , 0.18000001,\n",
       "        0.2       , 0.22      , 0.23999999, 0.25999999, 0.28      ,\n",
       "        0.30000001, 0.31999999, 0.34      , 0.36000001, 0.38      ,\n",
       "        0.40000001, 0.41999999, 0.44      , 0.46000001, 0.47999999,\n",
       "        0.5       , 0.51999998, 0.54000002, 0.56      , 0.57999998,\n",
       "        0.60000002, 0.62      , 0.63999999, 0.66000003, 0.68000001,\n",
       "        0.69999999, 0.72000003, 0.74000001, 0.75999999, 0.77999997,\n",
       "        0.80000001, 0.81999999, 0.83999997, 0.86000001, 0.88      ,\n",
       "        0.89999998, 0.92000002, 0.94      , 0.95999998, 0.98000002,\n",
       "        1.        , 1.01999998, 1.03999996, 1.05999994, 1.08000004,\n",
       "        1.10000002, 1.12      , 1.13999999, 1.15999997, 1.17999995,\n",
       "        1.20000005, 1.22000003, 1.24000001, 1.25999999, 1.27999997,\n",
       "        1.29999995, 1.32000005, 1.34000003, 1.36000001, 1.38      ,\n",
       "        1.39999998, 1.41999996, 1.44000006, 1.46000004, 1.48000002,\n",
       "        1.5       , 1.51999998, 1.53999996, 1.55999994, 1.58000004,\n",
       "        1.60000002, 1.62      , 1.63999999, 1.65999997, 1.67999995,\n",
       "        1.70000005, 1.72000003, 1.74000001, 1.75999999, 1.77999997,\n",
       "        1.79999995, 1.82000005, 1.84000003, 1.86000001, 1.88      ,\n",
       "        1.89999998, 1.91999996, 1.94000006, 1.96000004, 1.98000002,\n",
       "        2.        ]),\n",
       " <BarContainer object of 100 artists>)"
      ]
     },
     "execution_count": 37,
     "metadata": {},
     "output_type": "execute_result"
    },
    {
     "data": {
      "image/png": "[encoded data removed]",
      "text/plain": [
       "<Figure size 640x480 with 1 Axes>"
      ]
     },
     "metadata": {},
     "output_type": "display_data"
    }
   ],
   "source": [
    "#plot pt ratio of last copy of quark to the pt of the mother\n",
    "plt.hist(quark_last_flatten.pt/quark_last_mother_flatten.pt, bins=100, range=(0,2))"
   ]
  },
  {
   "cell_type": "code",
   "execution_count": null,
   "metadata": {},
   "outputs": [
    {
     "name": "stderr",
     "output_type": "stream",
     "text": [
      "/work/mmalucch/micromamba/envs/pocket-coffea/lib/python3.9/site-packages/awkward/_connect/_numpy.py:195: RuntimeWarning: divide by zero encountered in divide\n",
      "  result = getattr(ufunc, method)(\n"
     ]
    },
    {
     "data": {
      "text/plain": [
       "(array([  364.,  1099.,  1666.,  2216.,  2652.,  3128.,  3441.,  3617.,\n",
       "         3976.,  4202.,  4267.,  4419.,  4636.,  4730.,  4830.,  5101.,\n",
       "         5005.,  5274.,  5127.,  5148.,  5272.,  5370.,  5427.,  5357.,\n",
       "         5352.,  5675.,  5607.,  5712.,  5633.,  5679.,  5794.,  5776.,\n",
       "         5902.,  5992.,  5955.,  6111.,  6279.,  6205.,  6510.,  6322.,\n",
       "         6636.,  6546.,  6894.,  7090.,  7301.,  7465.,  7894.,  8441.,\n",
       "         9242., 12799., 15153.,  5926.,  5343.,  5048.,  4747.,  4570.,\n",
       "         4312.,  3963.,  3645.,  3451.,  3271.,  3100.,  2944.,  2703.,\n",
       "         2569.,  2535.,  2273.,  2191.,  2132.,  1904.,  1995.,  1946.,\n",
       "         1706.,  1681.,  1462.,  1573.,  1467.,  1294.,  1311.,  1246.,\n",
       "         1237.,  1081.,  1107.,   995.,  1005.,   941.,   945.,   871.,\n",
       "          890.,   809.,   775.,   776.,   789.,   719.,   691.,   668.,\n",
       "          597.,   626.,   562.,   643.]),\n",
       " array([0.        , 0.02      , 0.04      , 0.06      , 0.08      ,\n",
       "        0.1       , 0.12      , 0.14      , 0.16      , 0.18000001,\n",
       "        0.2       , 0.22      , 0.23999999, 0.25999999, 0.28      ,\n",
       "        0.30000001, 0.31999999, 0.34      , 0.36000001, 0.38      ,\n",
       "        0.40000001, 0.41999999, 0.44      , 0.46000001, 0.47999999,\n",
       "        0.5       , 0.51999998, 0.54000002, 0.56      , 0.57999998,\n",
       "        0.60000002, 0.62      , 0.63999999, 0.66000003, 0.68000001,\n",
       "        0.69999999, 0.72000003, 0.74000001, 0.75999999, 0.77999997,\n",
       "        0.80000001, 0.81999999, 0.83999997, 0.86000001, 0.88      ,\n",
       "        0.89999998, 0.92000002, 0.94      , 0.95999998, 0.98000002,\n",
       "        1.        , 1.01999998, 1.03999996, 1.05999994, 1.08000004,\n",
       "        1.10000002, 1.12      , 1.13999999, 1.15999997, 1.17999995,\n",
       "        1.20000005, 1.22000003, 1.24000001, 1.25999999, 1.27999997,\n",
       "        1.29999995, 1.32000005, 1.34000003, 1.36000001, 1.38      ,\n",
       "        1.39999998, 1.41999996, 1.44000006, 1.46000004, 1.48000002,\n",
       "        1.5       , 1.51999998, 1.53999996, 1.55999994, 1.58000004,\n",
       "        1.60000002, 1.62      , 1.63999999, 1.65999997, 1.67999995,\n",
       "        1.70000005, 1.72000003, 1.74000001, 1.75999999, 1.77999997,\n",
       "        1.79999995, 1.82000005, 1.84000003, 1.86000001, 1.88      ,\n",
       "        1.89999998, 1.91999996, 1.94000006, 1.96000004, 1.98000002,\n",
       "        2.        ]),\n",
       " <BarContainer object of 100 artists>)"
      ]
     },
     "execution_count": 38,
     "metadata": {},
     "output_type": "execute_result"
    },
    {
     "data": {
      "image/png": "[encoded data removed]",
      "text/plain": [
       "<Figure size 640x480 with 1 Axes>"
      ]
     },
     "metadata": {},
     "output_type": "display_data"
    }
   ],
   "source": [
    "plt.hist(mother_not_null_flatten.pt/quark_last_mother_mother_flatten.pt, bins=100, range=(0,2))"
   ]
  },
  {
   "cell_type": "code",
   "execution_count": null,
   "metadata": {},
   "outputs": [
    {
     "data": {
      "text/plain": [
       "(array([1209., 2992., 4041., 4782., 5525., 5952., 6098., 6474., 6676.,\n",
       "        6768., 6849., 7077., 7130., 7056., 7136., 7256., 7296., 7296.,\n",
       "        7130., 7113., 6998., 7257., 7030., 7030., 6822., 7223., 6960.,\n",
       "        6820., 6831., 6737., 6785., 6776., 6715., 6795., 6711., 6637.,\n",
       "        6497., 6690., 6675., 6437., 6519., 6492., 6504., 6391., 6702.,\n",
       "        6739., 6568., 6820., 6890., 6428., 5103., 3878., 3530., 3253.,\n",
       "        3144., 2861., 2621., 2521., 2395., 2152., 2092., 2064., 1782.,\n",
       "        1729., 1666., 1618., 1583., 1439., 1333., 1321., 1197., 1169.,\n",
       "        1134., 1123.,  950.,  995.,  911.,  899.,  832.,  770.,  754.,\n",
       "         750.,  708.,  641.,  689.,  652.,  624.,  588.,  580.,  540.,\n",
       "         506.,  527.,  515.,  485.,  459.,  421.,  428.,  400.,  404.,\n",
       "         461.]),\n",
       " array([0.        , 0.02      , 0.04      , 0.06      , 0.08      ,\n",
       "        0.1       , 0.12      , 0.14      , 0.16      , 0.18000001,\n",
       "        0.2       , 0.22      , 0.23999999, 0.25999999, 0.28      ,\n",
       "        0.30000001, 0.31999999, 0.34      , 0.36000001, 0.38      ,\n",
       "        0.40000001, 0.41999999, 0.44      , 0.46000001, 0.47999999,\n",
       "        0.5       , 0.51999998, 0.54000002, 0.56      , 0.57999998,\n",
       "        0.60000002, 0.62      , 0.63999999, 0.66000003, 0.68000001,\n",
       "        0.69999999, 0.72000003, 0.74000001, 0.75999999, 0.77999997,\n",
       "        0.80000001, 0.81999999, 0.83999997, 0.86000001, 0.88      ,\n",
       "        0.89999998, 0.92000002, 0.94      , 0.95999998, 0.98000002,\n",
       "        1.        , 1.01999998, 1.03999996, 1.05999994, 1.08000004,\n",
       "        1.10000002, 1.12      , 1.13999999, 1.15999997, 1.17999995,\n",
       "        1.20000005, 1.22000003, 1.24000001, 1.25999999, 1.27999997,\n",
       "        1.29999995, 1.32000005, 1.34000003, 1.36000001, 1.38      ,\n",
       "        1.39999998, 1.41999996, 1.44000006, 1.46000004, 1.48000002,\n",
       "        1.5       , 1.51999998, 1.53999996, 1.55999994, 1.58000004,\n",
       "        1.60000002, 1.62      , 1.63999999, 1.65999997, 1.67999995,\n",
       "        1.70000005, 1.72000003, 1.74000001, 1.75999999, 1.77999997,\n",
       "        1.79999995, 1.82000005, 1.84000003, 1.86000001, 1.88      ,\n",
       "        1.89999998, 1.91999996, 1.94000006, 1.96000004, 1.98000002,\n",
       "        2.        ]),\n",
       " <BarContainer object of 100 artists>)"
      ]
     },
     "execution_count": 39,
     "metadata": {},
     "output_type": "execute_result"
    },
    {
     "data": {
      "image/png": "[encoded data removed]",
      "text/plain": [
       "<Figure size 640x480 with 1 Axes>"
      ]
     },
     "metadata": {},
     "output_type": "display_data"
    }
   ],
   "source": [
    "plt.hist(quark_mother_not_null_flatten.pt/quark_last_mother_mother_flatten.pt, bins=100, range=(0,2))"
   ]
  },
  {
   "cell_type": "markdown",
   "metadata": {},
   "source": [
    "# check if it can happen that multiple children of a particle have the same pdgId has the parent"
   ]
  },
  {
   "cell_type": "code",
   "execution_count": null,
   "metadata": {},
   "outputs": [
    {
     "name": "stdout",
     "output_type": "stream",
     "text": [
      "vbf_quarks children [[[2], [2]], [[2], [1]], [[4, 421], ... 21]], [[1, 111], [-1]], [[2], [1, 221]]]\n",
      "[[2, 2, 25, 25, 2, 2, 25, 25, 25, 25, ... -11, 12, -13, 14, -421, 111, 111, 22, 22]]\n",
      "[[[25, 25, 2, 2], [], [25], [25], [2], [2, ... [], [], [], [], [22], [22], [], []]]\n",
      "Event 1118 Particle 5\n",
      "Parent pdg -4\n",
      "Children pdg [-4, -4, 21]\n",
      "chilren index [14, 15, 25]\n",
      "children pt [24, 29.9, 7.34]\n",
      "children from hard [True, True, False]\n",
      "children is hard [False, False, False]\n",
      "children is prompt [True, True, True]\n",
      "parent index 5\n",
      "childre mother index [5, 5, 5]\n",
      "Event 1662 Particle 4\n",
      "Parent pdg 4\n",
      "Children pdg [4, 4, 421, 111]\n",
      "chilren index [14, 24, 34, 49]\n",
      "children pt [66.2, 37, 23.7, 25.8]\n",
      "children from hard [True, True, False, False]\n",
      "children is hard [False, False, False, False]\n",
      "children is prompt [True, True, True, False]\n",
      "parent index 4\n",
      "childre mother index [4, 4, 4, 4]\n",
      "Event 5891 Particle 4\n",
      "Parent pdg 4\n",
      "Children pdg [4, 4, 413]\n",
      "chilren index [14, 29, 51]\n",
      "children pt [14.7, 15.8, 9.25]\n",
      "children from hard [True, True, False]\n",
      "children is hard [False, False, False]\n",
      "children is prompt [True, True, True]\n",
      "parent index 4\n",
      "childre mother index [4, 4, 4]\n",
      "Event 6972 Particle 4\n",
      "Parent pdg 4\n",
      "Children pdg [4, 21, 4]\n",
      "chilren index [16, 17, 18]\n",
      "children pt [20.4, 17.2, 25.4]\n",
      "children from hard [True, False, True]\n",
      "children is hard [False, False, False]\n",
      "children is prompt [True, True, True]\n",
      "parent index 4\n",
      "childre mother index [4, 4, 4]\n",
      "Event 11823 Particle 4\n",
      "Parent pdg 4\n",
      "Children pdg [4, 4, 21]\n",
      "chilren index [26, 27, 43]\n",
      "children pt [31.9, 36.8, 29.2]\n",
      "children from hard [True, True, False]\n",
      "children is hard [False, False, False]\n",
      "children is prompt [True, True, True]\n",
      "parent index 4\n",
      "childre mother index [4, 4, 4]\n"
     ]
    },
    {
     "ename": "KeyboardInterrupt",
     "evalue": "",
     "output_type": "error",
     "traceback": [
      "\u001b[0;31m---------------------------------------------------------------------------\u001b[0m",
      "\u001b[0;31mKeyboardInterrupt\u001b[0m                         Traceback (most recent call last)",
      "Cell \u001b[0;32mIn[40], line 27\u001b[0m\n\u001b[1;32m     22\u001b[0m \u001b[38;5;28;01mfor\u001b[39;00m event \u001b[38;5;129;01min\u001b[39;00m \u001b[38;5;28mrange\u001b[39m(\u001b[38;5;28mlen\u001b[39m(vbf_quarks)):\n\u001b[1;32m     23\u001b[0m     \u001b[38;5;66;03m# for i in range(len(vbf_quarks[event])):\u001b[39;00m\n\u001b[1;32m     24\u001b[0m     \u001b[38;5;28;01mfor\u001b[39;00m i \u001b[38;5;129;01min\u001b[39;00m vbf_quarks[event]\u001b[38;5;241m.\u001b[39mindex:\n\u001b[1;32m     25\u001b[0m         \u001b[38;5;28;01mif\u001b[39;00m (\n\u001b[1;32m     26\u001b[0m             \u001b[38;5;66;03m# True\u001b[39;00m\n\u001b[0;32m---> 27\u001b[0m             ak\u001b[38;5;241m.\u001b[39msum(\u001b[43mparent_pdgId\u001b[49m\u001b[43m[\u001b[49m\u001b[43mevent\u001b[49m\u001b[43m]\u001b[49m\u001b[43m[\u001b[49m\u001b[43mi\u001b[49m\u001b[43m]\u001b[49m\u001b[43m \u001b[49m\u001b[38;5;241;43m==\u001b[39;49m\u001b[43m \u001b[49m\u001b[43mchildren_pdgId\u001b[49m\u001b[43m[\u001b[49m\u001b[43mevent\u001b[49m\u001b[43m]\u001b[49m\u001b[43m[\u001b[49m\u001b[43mi\u001b[49m\u001b[43m]\u001b[49m) \u001b[38;5;241m>\u001b[39m \u001b[38;5;241m1\u001b[39m\n\u001b[1;32m     28\u001b[0m             \u001b[38;5;129;01mand\u001b[39;00m \u001b[38;5;129;01mnot\u001b[39;00m ak\u001b[38;5;241m.\u001b[39many(children_pdgId[event][i] \u001b[38;5;241m==\u001b[39m \u001b[38;5;241m25\u001b[39m)\n\u001b[1;32m     29\u001b[0m             \u001b[38;5;129;01mand\u001b[39;00m ak\u001b[38;5;241m.\u001b[39msum(genpart[event][i]\u001b[38;5;241m.\u001b[39mchildren\u001b[38;5;241m.\u001b[39mhasFlags([\u001b[38;5;124m\"\u001b[39m\u001b[38;5;124mfromHardProcess\u001b[39m\u001b[38;5;124m\"\u001b[39m])) \u001b[38;5;241m>\u001b[39m \u001b[38;5;241m1\u001b[39m\n\u001b[1;32m     30\u001b[0m         ):\n\u001b[1;32m     31\u001b[0m             \u001b[38;5;28mprint\u001b[39m(\u001b[38;5;124m\"\u001b[39m\u001b[38;5;124mEvent\u001b[39m\u001b[38;5;124m\"\u001b[39m, event, \u001b[38;5;124m\"\u001b[39m\u001b[38;5;124mParticle\u001b[39m\u001b[38;5;124m\"\u001b[39m, i)\n\u001b[1;32m     32\u001b[0m             \u001b[38;5;28mprint\u001b[39m(\u001b[38;5;124m\"\u001b[39m\u001b[38;5;124mParent pdg\u001b[39m\u001b[38;5;124m\"\u001b[39m, parent_pdgId[event][i])\n",
      "File \u001b[0;32m/work/mmalucch/micromamba/envs/pocket-coffea/lib/python3.9/site-packages/numpy/lib/mixins.py:21\u001b[0m, in \u001b[0;36m_binary_method.<locals>.func\u001b[0;34m(self, other)\u001b[0m\n\u001b[1;32m     19\u001b[0m \u001b[38;5;28;01mif\u001b[39;00m _disables_array_ufunc(other):\n\u001b[1;32m     20\u001b[0m     \u001b[38;5;28;01mreturn\u001b[39;00m \u001b[38;5;28mNotImplemented\u001b[39m\n\u001b[0;32m---> 21\u001b[0m \u001b[38;5;28;01mreturn\u001b[39;00m \u001b[43mufunc\u001b[49m\u001b[43m(\u001b[49m\u001b[38;5;28;43mself\u001b[39;49m\u001b[43m,\u001b[49m\u001b[43m \u001b[49m\u001b[43mother\u001b[49m\u001b[43m)\u001b[49m\n",
      "File \u001b[0;32m/work/mmalucch/micromamba/envs/pocket-coffea/lib/python3.9/site-packages/awkward/highlevel.py:1411\u001b[0m, in \u001b[0;36mArray.__array_ufunc__\u001b[0;34m(self, ufunc, method, *inputs, **kwargs)\u001b[0m\n\u001b[1;32m   1354\u001b[0m \u001b[38;5;250m\u001b[39m\u001b[38;5;124;03m\"\"\"\u001b[39;00m\n\u001b[1;32m   1355\u001b[0m \u001b[38;5;124;03mIntercepts attempts to pass this Array to a NumPy\u001b[39;00m\n\u001b[1;32m   1356\u001b[0m \u001b[38;5;124;03m[universal functions](https://docs.scipy.org/doc/numpy/reference/ufuncs.html)\u001b[39;00m\n\u001b[0;32m   (...)\u001b[0m\n\u001b[1;32m   1408\u001b[0m \u001b[38;5;124;03mSee also #__array_function__.\u001b[39;00m\n\u001b[1;32m   1409\u001b[0m \u001b[38;5;124;03m\"\"\"\u001b[39;00m\n\u001b[1;32m   1410\u001b[0m \u001b[38;5;28;01mif\u001b[39;00m \u001b[38;5;129;01mnot\u001b[39;00m \u001b[38;5;28mhasattr\u001b[39m(\u001b[38;5;28mself\u001b[39m, \u001b[38;5;124m\"\u001b[39m\u001b[38;5;124m_tracers\u001b[39m\u001b[38;5;124m\"\u001b[39m):\n\u001b[0;32m-> 1411\u001b[0m     \u001b[38;5;28;01mreturn\u001b[39;00m \u001b[43mak\u001b[49m\u001b[38;5;241;43m.\u001b[39;49m\u001b[43m_connect\u001b[49m\u001b[38;5;241;43m.\u001b[39;49m\u001b[43m_numpy\u001b[49m\u001b[38;5;241;43m.\u001b[39;49m\u001b[43marray_ufunc\u001b[49m\u001b[43m(\u001b[49m\u001b[43mufunc\u001b[49m\u001b[43m,\u001b[49m\u001b[43m \u001b[49m\u001b[43mmethod\u001b[49m\u001b[43m,\u001b[49m\u001b[43m \u001b[49m\u001b[43minputs\u001b[49m\u001b[43m,\u001b[49m\u001b[43m \u001b[49m\u001b[43mkwargs\u001b[49m\u001b[43m)\u001b[49m\n\u001b[1;32m   1412\u001b[0m \u001b[38;5;28;01melse\u001b[39;00m:\n\u001b[1;32m   1413\u001b[0m     \u001b[38;5;28;01mreturn\u001b[39;00m ak\u001b[38;5;241m.\u001b[39m_connect\u001b[38;5;241m.\u001b[39m_jax\u001b[38;5;241m.\u001b[39mjax_utils\u001b[38;5;241m.\u001b[39marray_ufunc(\n\u001b[1;32m   1414\u001b[0m         \u001b[38;5;28mself\u001b[39m, ufunc, method, inputs, kwargs\n\u001b[1;32m   1415\u001b[0m     )\n",
      "File \u001b[0;32m/work/mmalucch/micromamba/envs/pocket-coffea/lib/python3.9/site-packages/awkward/_connect/_numpy.py:62\u001b[0m, in \u001b[0;36marray_ufunc\u001b[0;34m(ufunc, method, inputs, kwargs)\u001b[0m\n\u001b[1;32m     60\u001b[0m nextinputs \u001b[38;5;241m=\u001b[39m []\n\u001b[1;32m     61\u001b[0m \u001b[38;5;28;01mfor\u001b[39;00m x \u001b[38;5;129;01min\u001b[39;00m inputs:\n\u001b[0;32m---> 62\u001b[0m     cast_fcn \u001b[38;5;241m=\u001b[39m \u001b[43mak\u001b[49m\u001b[38;5;241;43m.\u001b[39;49m\u001b[43m_util\u001b[49m\u001b[38;5;241;43m.\u001b[39;49m\u001b[43mcustom_cast\u001b[49m\u001b[43m(\u001b[49m\u001b[43mx\u001b[49m\u001b[43m,\u001b[49m\u001b[43m \u001b[49m\u001b[43mbehavior\u001b[49m\u001b[43m)\u001b[49m\n\u001b[1;32m     63\u001b[0m     \u001b[38;5;28;01mif\u001b[39;00m cast_fcn \u001b[38;5;129;01mis\u001b[39;00m \u001b[38;5;129;01mnot\u001b[39;00m \u001b[38;5;28;01mNone\u001b[39;00m:\n\u001b[1;32m     64\u001b[0m         x \u001b[38;5;241m=\u001b[39m cast_fcn(x)\n",
      "File \u001b[0;32m/work/mmalucch/micromamba/envs/pocket-coffea/lib/python3.9/site-packages/awkward/_util.py:245\u001b[0m, in \u001b[0;36mcustom_cast\u001b[0;34m(obj, behavior)\u001b[0m\n\u001b[1;32m    243\u001b[0m \u001b[38;5;28;01mdef\u001b[39;00m \u001b[38;5;21mcustom_cast\u001b[39m(obj, behavior):\n\u001b[1;32m    244\u001b[0m     behavior \u001b[38;5;241m=\u001b[39m Behavior(ak\u001b[38;5;241m.\u001b[39mbehavior, behavior)\n\u001b[0;32m--> 245\u001b[0m     \u001b[38;5;28;01mfor\u001b[39;00m key, fcn \u001b[38;5;129;01min\u001b[39;00m behavior\u001b[38;5;241m.\u001b[39mitems():\n\u001b[1;32m    246\u001b[0m         \u001b[38;5;28;01mif\u001b[39;00m (\n\u001b[1;32m    247\u001b[0m             \u001b[38;5;28misinstance\u001b[39m(key, \u001b[38;5;28mtuple\u001b[39m)\n\u001b[1;32m    248\u001b[0m             \u001b[38;5;129;01mand\u001b[39;00m \u001b[38;5;28mlen\u001b[39m(key) \u001b[38;5;241m==\u001b[39m \u001b[38;5;241m2\u001b[39m\n\u001b[1;32m    249\u001b[0m             \u001b[38;5;129;01mand\u001b[39;00m key[\u001b[38;5;241m0\u001b[39m] \u001b[38;5;241m==\u001b[39m \u001b[38;5;124m\"\u001b[39m\u001b[38;5;124m__cast__\u001b[39m\u001b[38;5;124m\"\u001b[39m\n\u001b[1;32m    250\u001b[0m             \u001b[38;5;129;01mand\u001b[39;00m \u001b[38;5;28misinstance\u001b[39m(obj, key[\u001b[38;5;241m1\u001b[39m])\n\u001b[1;32m    251\u001b[0m         ):\n\u001b[1;32m    252\u001b[0m             \u001b[38;5;28;01mreturn\u001b[39;00m fcn\n",
      "File \u001b[0;32m/work/mmalucch/micromamba/envs/pocket-coffea/lib/python3.9/site-packages/awkward/_util.py:210\u001b[0m, in \u001b[0;36mBehavior.items\u001b[0;34m(self)\u001b[0m\n\u001b[1;32m    208\u001b[0m \u001b[38;5;28;01mdef\u001b[39;00m \u001b[38;5;21mitems\u001b[39m(\u001b[38;5;28mself\u001b[39m):\n\u001b[1;32m    209\u001b[0m     \u001b[38;5;28;01mfor\u001b[39;00m n, x \u001b[38;5;129;01min\u001b[39;00m \u001b[38;5;28mself\u001b[39m\u001b[38;5;241m.\u001b[39moverrides\u001b[38;5;241m.\u001b[39mitems():\n\u001b[0;32m--> 210\u001b[0m         \u001b[38;5;28;01myield\u001b[39;00m n, x\n\u001b[1;32m    211\u001b[0m     \u001b[38;5;28;01mfor\u001b[39;00m n, x \u001b[38;5;129;01min\u001b[39;00m \u001b[38;5;28mself\u001b[39m\u001b[38;5;241m.\u001b[39mdefaults\u001b[38;5;241m.\u001b[39mitems():\n\u001b[1;32m    212\u001b[0m         \u001b[38;5;28;01mif\u001b[39;00m n \u001b[38;5;129;01mnot\u001b[39;00m \u001b[38;5;129;01min\u001b[39;00m \u001b[38;5;28mself\u001b[39m\u001b[38;5;241m.\u001b[39moverrides:\n",
      "\u001b[0;31mKeyboardInterrupt\u001b[0m: "
     ]
    }
   ],
   "source": [
    "isQuark = abs(genpart.pdgId) < 7\n",
    "isHard = genpart.hasFlags([\"fromHardProcess\"])\n",
    "\n",
    "quarks = genpart[isQuark & isHard]\n",
    "\n",
    "quarks = quarks[quarks.genPartIdxMother!=-1]\n",
    "\n",
    "quarks_mother = genpart[quarks.genPartIdxMother]\n",
    "quarks_mother_children = quarks_mother.children\n",
    "quarks_mother_children_isH = ak.sum((quarks_mother_children.pdgId == 25), axis=-1)==2\n",
    "vbf_quarks = quarks[quarks_mother_children_isH]\n",
    "\n",
    "print(\"vbf_quarks children\", vbf_quarks.children.pdgId)\n",
    "\n",
    "\n",
    "children_pdgId = genpart.children.pdgId\n",
    "parent_pdgId = genpart.pdgId\n",
    "\n",
    "print(parent_pdgId)\n",
    "print(children_pdgId)\n",
    "\n",
    "for event in range(len(vbf_quarks)):\n",
    "    # for i in range(len(vbf_quarks[event])):\n",
    "    for i in vbf_quarks[event].index:\n",
    "        if (\n",
    "            # True\n",
    "            ak.sum(parent_pdgId[event][i] == children_pdgId[event][i]) > 1\n",
    "            and not ak.any(children_pdgId[event][i] == 25)\n",
    "            and ak.sum(genpart[event][i].children.hasFlags([\"fromHardProcess\"])) > 1\n",
    "        ):\n",
    "            print(\"Event\", event, \"Particle\", i)\n",
    "            print(\"Parent pdg\", parent_pdgId[event][i])\n",
    "            print(\"Children pdg\", children_pdgId[event][i])\n",
    "            print(\"chilren index\", genpart[event][i].children.index)\n",
    "            print(\"children pt\", genpart[event][i].children.pt)\n",
    "            # print(\"children is last copy\", genpart[event][i].children.hasFlags([\"isLastCopy\"]))\n",
    "            print(\n",
    "                \"children from hard\",\n",
    "                genpart[event][i].children.hasFlags([\"fromHardProcess\"]),\n",
    "            )\n",
    "            print(\n",
    "                \"children is hard\",\n",
    "                genpart[event][i].children.hasFlags([\"isHardProcess\"]),\n",
    "            )\n",
    "            print(\n",
    "                \"children is prompt\", genpart[event][i].children.hasFlags([\"isPrompt\"])\n",
    "            )\n",
    "\n",
    "            print(\"parent index\", genpart[event][i].index)\n",
    "            print(\"childre mother index\", genpart[event][i].children.genPartIdxMother)"
   ]
  },
  {
   "cell_type": "code",
   "execution_count": null,
   "metadata": {},
   "outputs": [],
   "source": []
  }
 ],
 "metadata": {
  "kernelspec": {
   "display_name": "Python 3",
   "language": "python",
   "name": "python3"
  },
  "language_info": {
   "codemirror_mode": {
    "name": "ipython",
    "version": 3
   },
   "file_extension": ".py",
   "mimetype": "text/x-python",
   "name": "python",
   "nbconvert_exporter": "python",
   "pygments_lexer": "ipython3",
   "version": "3.9.18"
  }
 },
 "nbformat": 4,
 "nbformat_minor": 2
}
