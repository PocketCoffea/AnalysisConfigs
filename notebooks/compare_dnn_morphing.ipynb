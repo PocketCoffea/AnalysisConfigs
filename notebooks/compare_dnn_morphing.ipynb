{
 "cells": [
  {
   "cell_type": "code",
   "execution_count": 1,
   "metadata": {},
   "outputs": [
    {
     "name": "stderr",
     "output_type": "stream",
     "text": [
      "2025-02-12 11:54:54.760841: I tensorflow/core/platform/cpu_feature_guard.cc:182] This TensorFlow binary is optimized to use available CPU instructions in performance-critical operations.\n",
      "To enable the following instructions: SSE4.1 SSE4.2 AVX AVX2 FMA, in other operations, rebuild TensorFlow with the appropriate compiler flags.\n"
     ]
    }
   ],
   "source": [
    "import onnxruntime as rt\n",
    "import uproot\n",
    "import numpy as np\n",
    "import tensorflow as tf\n",
    "from matplotlib import pyplot as plt\n"
   ]
  },
  {
   "cell_type": "code",
   "execution_count": 2,
   "metadata": {},
   "outputs": [],
   "source": [
    "columns = [\n",
    "    \"era\",\n",
    "    \"higgs1_reco_pt\",\n",
    "    \"higgs1_reco_eta\",\n",
    "    \"higgs1_reco_phi\",\n",
    "    \"higgs1_reco_mass\",\n",
    "    \"higgs2_reco_pt\",\n",
    "    \"higgs2_reco_eta\",\n",
    "    \"higgs2_reco_phi\",\n",
    "    \"higgs2_reco_mass\",\n",
    "    \"HT\",\n",
    "    \"higgs1_DeltaRjj\",\n",
    "    \"higgs2_DeltaRjj\",\n",
    "    \"minDeltaR_Higgjj\",\n",
    "    \"maxDeltaR_Higgjj\",\n",
    "    \"higgs1_helicityCosTheta\",\n",
    "    \"higgs2_helicityCosTheta\",\n",
    "    \"hh_CosThetaStar_CS\",\n",
    "    \"hh_vec_mass\",\n",
    "    \"hh_vec_pt\",\n",
    "    \"hh_vec_eta\",\n",
    "    \"hh_vec_DeltaR\",\n",
    "    \"hh_vec_DeltaPhi\",\n",
    "    \"hh_vec_DeltaEta\",\n",
    "    \"higgs1_reco_jet1_pt\",\n",
    "    \"higgs1_reco_jet1_eta\",\n",
    "    \"higgs1_reco_jet1_phi\",\n",
    "    \"higgs1_reco_jet1_mass\",\n",
    "    \"higgs1_reco_jet2_pt\",\n",
    "    \"higgs1_reco_jet2_eta\",\n",
    "    \"higgs1_reco_jet2_phi\",\n",
    "    \"higgs1_reco_jet2_mass\",\n",
    "    \"higgs2_reco_jet1_pt\",\n",
    "    \"higgs2_reco_jet1_eta\",\n",
    "    \"higgs2_reco_jet1_phi\",\n",
    "    \"higgs2_reco_jet1_mass\",\n",
    "    \"higgs2_reco_jet2_pt\",\n",
    "    \"higgs2_reco_jet2_eta\",\n",
    "    \"higgs2_reco_jet2_phi\",\n",
    "    \"higgs2_reco_jet2_mass\",\n",
    "    \"add_jet1pt_pt\",\n",
    "    \"add_jet1pt_eta\",\n",
    "    \"add_jet1pt_phi\",\n",
    "    \"add_jet1pt_mass\",\n",
    "    \"sigma_over_higgs1_reco_mass\",\n",
    "    \"sigma_over_higgs2_reco_mass\",\n",
    "]\n",
    "main_dir='/pnfs/psi.ch/cms/trivcat/store/user/mmalucch/keras_models_morphing'\n"
   ]
  },
  {
   "cell_type": "code",
   "execution_count": 3,
   "metadata": {},
   "outputs": [
    {
     "name": "stdout",
     "output_type": "stream",
     "text": [
      "['era', 'event', 'HT', 'jet_pt', 'jet_pt_raw', 'jet_eta', 'jet_phi', 'jet_mass', 'jet_mass_raw', 'jet_deepjet_probBVsAll', 'jet_pnet_probBVsAll', 'jet_pnet_probTauVsJet', 'jet_pnet_probb', 'jet_pnet_probc', 'jet_pnet_probuds', 'jet_pnet_probtauh', 'jet_pnet_ptcorr', 'jet_pnet_ptnu', 'jet_pnet_ptres', 'jet_pnet_jec_L1L2L3', 'jet_pnet_jec_L2Rel', 'jet_pnet_jec_L2L3Res', 'btag_cat', 'weight', 'is_boosted', 'weight_dnn', 'sigma_higgs1', 'sigma_over_higgs1_reco_mass', 'higgs1_reco_pt', 'higgs1_reco_eta', 'higgs1_reco_phi', 'higgs1_reco_mass', 'sigma_higgs2', 'sigma_over_higgs2_reco_mass', 'higgs2_reco_pt', 'higgs2_reco_eta', 'higgs2_reco_phi', 'higgs2_reco_mass', 'hh_vec_mass', 'hh_vec_pt', 'hh_vec_eta', 'hh_vec_phi', 'hh_vec_DeltaR', 'hh_vec_DeltaPhi', 'hh_vec_DeltaEta', 'hh_vec_ptOmass', 'njet', 'higgs1_reco_jet1_pt', 'higgs1_reco_jet1_eta', 'higgs1_reco_jet1_phi', 'higgs1_reco_jet1_mass', 'higgs1_reco_jet2_pt', 'higgs1_reco_jet2_eta', 'higgs1_reco_jet2_phi', 'higgs1_reco_jet2_mass', 'higgs1_DeltaPhijj', 'higgs1_DeltaEtajj', 'higgs1_DeltaRjj', 'higgs2_reco_jet1_pt', 'higgs2_reco_jet1_eta', 'higgs2_reco_jet1_phi', 'higgs2_reco_jet1_mass', 'higgs2_reco_jet2_pt', 'higgs2_reco_jet2_eta', 'higgs2_reco_jet2_phi', 'higgs2_reco_jet2_mass', 'higgs2_DeltaPhijj', 'higgs2_DeltaEtajj', 'higgs2_DeltaRjj', 'minDeltaR_Higgjj', 'maxDeltaR_Higgjj', 'higgs1_helicityCosTheta', 'higgs2_helicityCosTheta', 'hh_CosThetaStar_CS', 'higgs1_wp1_reco_pt', 'higgs1_wp1_reco_eta', 'higgs1_wp1_reco_phi', 'higgs1_wp1_reco_mass', 'higgs1_wp1_DeltaRjj', 'higgs2_wp1_reco_pt', 'higgs2_wp1_reco_eta', 'higgs2_wp1_reco_phi', 'higgs2_wp1_reco_mass', 'higgs2_wp1_DeltaRjj', 'hh_vec_wp1_DeltaR', 'hh_wp1_CosThetaStar_CS', 'higgs1_wp2_reco_pt', 'higgs1_wp2_reco_eta', 'higgs1_wp2_reco_phi', 'higgs1_wp2_reco_mass', 'higgs1_wp2_DeltaRjj', 'higgs2_wp2_reco_pt', 'higgs2_wp2_reco_eta', 'higgs2_wp2_reco_phi', 'higgs2_wp2_reco_mass', 'higgs2_wp2_DeltaRjj', 'hh_vec_wp2_DeltaR', 'hh_wp2_CosThetaStar_CS', 'higgs_ST', 'jet4pt_pt', 'add_jet1pt_pt', 'add_jet1pt_eta', 'add_jet1pt_phi', 'add_jet1pt_mass', 'add_jet1pt_Higgs1_deta', 'add_jet1pt_Higgs1_dphi', 'add_jet1pt_Higgs1_m', 'add_jet1pt_Higgs2_deta', 'add_jet1pt_Higgs2_dphi', 'add_jet1pt_Higgs2_m']\n"
     ]
    }
   ],
   "source": [
    "input_root=f'/pnfs/psi.ch/cms/trivcat/store/user/mmalucch/file_root/JetMET_2022EE_2b_signal_region_to_4b_soumya_january2025.root'\n",
    "tree=uproot.open(input_root)[\"tree\"]\n",
    "print(tree.keys())\n"
   ]
  },
  {
   "cell_type": "markdown",
   "metadata": {},
   "source": [
    "get the columns from the tree"
   ]
  },
  {
   "cell_type": "code",
   "execution_count": 4,
   "metadata": {},
   "outputs": [
    {
     "name": "stdout",
     "output_type": "stream",
     "text": [
      "{'era': array([1, 1, 1, ..., 1, 1, 1], dtype=int32), 'higgs1_reco_pt': array([114.53315, 152.08524, 178.58029, ..., 267.7927 , 284.75745,\n",
      "       204.16527], dtype=float32), 'higgs1_reco_eta': array([-0.5849934 ,  0.05618766, -1.7868915 , ...,  1.5282159 ,\n",
      "       -0.09514122, -1.9165224 ], dtype=float32), 'higgs1_reco_phi': array([ 0.51116806,  0.9747667 ,  2.7567482 , ..., -1.0621026 ,\n",
      "        2.113538  ,  1.722217  ], dtype=float32), 'higgs1_reco_mass': array([127.91875 , 104.56954 , 134.2589  , ..., 118.74667 , 138.50037 ,\n",
      "       118.519966], dtype=float32), 'higgs2_reco_pt': array([ 97.30428 , 104.97775 , 106.02391 , ..., 246.28754 , 190.73148 ,\n",
      "        59.150402], dtype=float32), 'higgs2_reco_eta': array([-0.9684525 ,  1.3636122 , -0.53399426, ..., -0.13717638,\n",
      "       -1.3410919 ,  1.5108076 ], dtype=float32), 'higgs2_reco_phi': array([ 1.3662084 , -1.4257993 , -0.10356549, ...,  1.9001577 ,\n",
      "       -0.87525326, -1.5235088 ], dtype=float32), 'higgs2_reco_mass': array([120.70619, 101.88062, 142.65022, ..., 126.49493, 104.5068 ,\n",
      "        98.91799], dtype=float32), 'HT': array([321.41284, 364.69806, 394.10986, ..., 623.55237, 505.29587,\n",
      "       537.45764], dtype=float32), 'higgs1_DeltaRjj': array([2.0002756, 1.635436 , 1.3488334, ..., 0.9949125, 1.1306571,\n",
      "       1.0876325], dtype=float32), 'higgs2_DeltaRjj': array([1.778132 , 1.7389671, 2.334412 , ..., 1.1301044, 1.2791916,\n",
      "       2.5232155], dtype=float32), 'minDeltaR_Higgjj': array([0.581732 , 1.635436 , 1.3488334, ..., 0.9949125, 1.1306571,\n",
      "       1.0876325], dtype=float32), 'maxDeltaR_Higgjj': array([3.0260859, 2.9815004, 3.8532782, ..., 3.194676 , 3.320793 ,\n",
      "       4.638925 ], dtype=float32), 'higgs1_helicityCosTheta': array([0.11678838, 0.18875694, 0.71371675, ..., 0.8763545 , 0.23724966,\n",
      "       0.7849481 ], dtype=float32), 'higgs2_helicityCosTheta': array([0.05867033, 0.9610708 , 0.89993984, ..., 0.28751832, 0.9752092 ,\n",
      "       0.68851787], dtype=float32), 'hh_CosThetaStar_CS': array([0.40546128, 0.57033956, 0.7370633 , ..., 0.70108485, 0.521248  ,\n",
      "       0.9449663 ], dtype=float32), 'hh_vec_mass': array([267.0456 , 361.57578, 474.05554, ..., 752.5665 , 612.6935 ,\n",
      "       684.05225], dtype=float32), 'hh_vec_pt': array([192.90367, 102.91856,  82.17407, ...,  50.77284, 100.53114,\n",
      "       145.46527], dtype=float32), 'hh_vec_eta': array([-0.8353953,  1.4196388, -2.6480916, ...,  3.0856164, -2.0057495,\n",
      "       -2.0426443], dtype=float32), 'hh_vec_DeltaR': array([0.93708855, 2.7335098 , 3.1226823 , ..., 3.398311  , 3.2380962 ,\n",
      "       4.579602  ], dtype=float32), 'hh_vec_DeltaPhi': array([-0.8550404,  2.4005659,  2.8603137, ..., -2.9622602,  2.9887915,\n",
      "       -3.0374596], dtype=float32), 'hh_vec_DeltaEta': array([0.38345912, 1.3074245 , 1.2528971 , ..., 1.6653923 , 1.2459506 ,\n",
      "       3.42733   ], dtype=float32), 'higgs1_reco_jet1_pt': array([123.513275, 149.33684 , 122.903465, ..., 225.16492 , 252.33261 ,\n",
      "       128.59111 ], dtype=float32), 'higgs1_reco_jet1_eta': array([-0.29220408, -0.02262449, -1.9582361 , ...,  1.6063365 ,\n",
      "       -0.13855875, -2.175415  ], dtype=float32), 'higgs1_reco_jet1_phi': array([ 0.8757476 ,  0.767459  ,  3.116591  , ..., -0.94503313,\n",
      "        2.3024335 ,  1.8968456 ], dtype=float32), 'higgs1_reco_jet1_mass': array([15.309845, 21.09434 , 15.584948, ..., 30.853382, 32.987125,\n",
      "       15.987168], dtype=float32), 'higgs1_reco_jet2_pt': array([44.047897, 31.307217, 76.88543 , ..., 51.405983, 60.06327 ,\n",
      "       80.684784], dtype=float32), 'higgs1_reco_jet2_eta': array([-0.7156192 ,  0.37235847, -1.0084287 , ...,  0.8566894 ,\n",
      "        0.13184175, -1.1876192 ], dtype=float32), 'higgs1_reco_jet2_phi': array([-1.0792005,  2.3544812,  2.1588762, ..., -1.5991586,  1.204586 ,\n",
      "        1.4416491], dtype=float32), 'higgs1_reco_jet2_mass': array([ 4.8681297,  5.220151 , 10.374046 , ..., 12.560889 ,  6.445356 ,\n",
      "       11.357079 ], dtype=float32), 'higgs2_reco_jet1_pt': array([ 81.72937 ,  67.72541 ,  79.414375, ..., 215.09833 , 157.28493 ,\n",
      "        70.96861 ], dtype=float32), 'higgs2_reco_jet1_eta': array([-0.69321483,  1.7530762 ,  0.42746806, ..., -0.1890564 ,\n",
      "       -1.486698  ,  1.3303307 ], dtype=float32), 'higgs2_reco_jet1_phi': array([ 2.1779819 , -1.2861743 ,  0.09067489, ...,  1.6974124 ,\n",
      "       -0.94592303, -1.1411424 ], dtype=float32), 'higgs2_reco_jet1_mass': array([12.171346,  8.830296, 11.875056, ..., 33.441917, 19.331831,\n",
      "        9.867734], dtype=float32), 'higgs2_reco_jet2_pt': array([72.12229 , 39.06553 , 32.011623, ..., 56.061867, 35.615044,\n",
      "       27.312405], dtype=float32), 'higgs2_reco_jet2_eta': array([-0.6284411 ,  0.05687873, -1.8015283 , ...,  0.12484974,\n",
      "       -0.26770383,  0.09609268], dtype=float32), 'higgs2_reco_jet2_phi': array([ 0.40103006, -1.6694766 , -0.6029061 , ...,  2.7830453 ,\n",
      "       -0.5581289 ,  2.9412992 ], dtype=float32), 'higgs2_reco_jet2_mass': array([ 5.638336 ,  6.7831964,  5.870926 , ..., 10.38719  ,  4.9948244,\n",
      "        5.1000924], dtype=float32), 'add_jet1pt_pt': array([-10.     ,  81.39665,  83.46941, ...,  42.29229, -10.     ,\n",
      "       108.8535 ], dtype=float32), 'add_jet1pt_eta': array([-10.        ,   0.9533792 ,   0.5127986 , ...,  -0.9336502 ,\n",
      "       -10.        ,   0.81543976], dtype=float32), 'add_jet1pt_phi': array([-10.        ,  -0.45678437,  -0.9216454 , ...,  -2.8096752 ,\n",
      "       -10.        ,  -0.7549364 ], dtype=float32), 'add_jet1pt_mass': array([-10.       ,  11.291707 ,  12.792351 , ...,   5.0211763,\n",
      "       -10.       ,  15.397727 ], dtype=float32), 'sigma_over_higgs1_reco_mass': array([0.10990235, 0.13171081, 0.07476829, ..., 0.07760161, 0.10183499,\n",
      "       0.05796379], dtype=float32), 'sigma_over_higgs2_reco_mass': array([0.06816785, 0.09204272, 0.1065109 , ..., 0.06155112, 0.07822868,\n",
      "       0.10909805], dtype=float32)} <class 'dict'> 2180220\n"
     ]
    }
   ],
   "source": [
    "input_data_dict = tree.arrays(columns, library=\"np\")\n",
    "print(input_data_dict, type(input_data_dict), len(input_data_dict['era']))\n"
   ]
  },
  {
   "cell_type": "code",
   "execution_count": 5,
   "metadata": {},
   "outputs": [
    {
     "name": "stdout",
     "output_type": "stream",
     "text": [
      "[-10.       81.39665  83.46941 ...  42.29229 -10.      108.8535 ]\n",
      "[-10.           0.9533792    0.5127986  ...  -0.9336502  -10.\n",
      "   0.81543976]\n",
      "[-10.          -0.45678437  -0.9216454  ...  -2.8096752  -10.\n",
      "  -0.7549364 ]\n",
      "[-10.         11.291707   12.792351  ...   5.0211763 -10.\n",
      "  15.397727 ]\n"
     ]
    }
   ],
   "source": [
    "add_jet1pt_pt = input_data_dict['add_jet1pt_pt']\n",
    "add_jet1pt_eta = input_data_dict['add_jet1pt_eta']\n",
    "add_jet1pt_phi = input_data_dict['add_jet1pt_phi']\n",
    "add_jet1pt_mass = input_data_dict['add_jet1pt_mass']\n",
    "\n",
    "print(add_jet1pt_pt)\n",
    "print(add_jet1pt_eta)\n",
    "print(add_jet1pt_phi)\n",
    "print(add_jet1pt_mass)\n"
   ]
  },
  {
   "cell_type": "code",
   "execution_count": 6,
   "metadata": {},
   "outputs": [
    {
     "name": "stdout",
     "output_type": "stream",
     "text": [
      "[29.674557 29.39515  29.348032 ... 29.566116 29.545897 29.753902]\n"
     ]
    }
   ],
   "source": [
    "higgs1_mass = input_data_dict['higgs1_reco_mass']\n",
    "higgs2_mass = input_data_dict['higgs2_reco_mass']\n",
    "\n",
    "rhh=np.sqrt((higgs1_mass-125)**2+(higgs2_mass-120)**2)\n",
    "print(rhh[rhh>29])"
   ]
  },
  {
   "cell_type": "code",
   "execution_count": 7,
   "metadata": {},
   "outputs": [
    {
     "name": "stdout",
     "output_type": "stream",
     "text": [
      "[[ 1.00000000e+00  1.14533150e+02 -5.84993422e-01 ... -1.00000000e+01\n",
      "   1.09902352e-01  6.81678504e-02]\n",
      " [ 1.00000000e+00  1.52085236e+02  5.61876558e-02 ...  1.12917070e+01\n",
      "   1.31710812e-01  9.20427218e-02]\n",
      " [ 1.00000000e+00  1.78580292e+02 -1.78689146e+00 ...  1.27923508e+01\n",
      "   7.47682899e-02  1.06510900e-01]\n",
      " ...\n",
      " [ 1.00000000e+00  1.17905136e+02 -2.23569965e+00 ...  1.03375835e+01\n",
      "   1.42903253e-01  7.09108636e-02]\n",
      " [ 1.00000000e+00  3.45049362e+01 -1.81621778e+00 ...  1.14138336e+01\n",
      "   1.02216683e-01  1.30404890e-01]\n",
      " [ 1.00000000e+00  2.01108978e+02 -2.42631406e-01 ...  1.81850452e+01\n",
      "   8.37977603e-02  1.27825022e-01]] <class 'numpy.ndarray'>\n",
      "tf.Tensor(\n",
      "[[ 1.00000000e+00  1.14533150e+02 -5.84993422e-01 ... -1.00000000e+01\n",
      "   1.09902352e-01  6.81678504e-02]\n",
      " [ 1.00000000e+00  1.52085236e+02  5.61876558e-02 ...  1.12917070e+01\n",
      "   1.31710812e-01  9.20427218e-02]\n",
      " [ 1.00000000e+00  1.78580292e+02 -1.78689146e+00 ...  1.27923508e+01\n",
      "   7.47682899e-02  1.06510900e-01]\n",
      " ...\n",
      " [ 1.00000000e+00  1.17905136e+02 -2.23569965e+00 ...  1.03375835e+01\n",
      "   1.42903253e-01  7.09108636e-02]\n",
      " [ 1.00000000e+00  3.45049362e+01 -1.81621778e+00 ...  1.14138336e+01\n",
      "   1.02216683e-01  1.30404890e-01]\n",
      " [ 1.00000000e+00  2.01108978e+02 -2.42631406e-01 ...  1.81850452e+01\n",
      "   8.37977603e-02  1.27825022e-01]], shape=(100, 45), dtype=float32) <class 'tensorflow.python.framework.ops.EagerTensor'>\n"
     ]
    }
   ],
   "source": [
    "n_events = 100\n",
    "# get the input data as a numpy array\n",
    "input_data = np.array([input_data_dict[col][:n_events] for col in columns], dtype=np.float32).T\n",
    "print(input_data, type(input_data))\n",
    "weight_dnn = np.array(tree['weight_dnn'].array()[:n_events])\n",
    "input_tensor = tf.convert_to_tensor(input_data, dtype=tf.float32)\n",
    "print(input_tensor, type(input_tensor))\n"
   ]
  },
  {
   "cell_type": "code",
   "execution_count": 8,
   "metadata": {},
   "outputs": [
    {
     "name": "stdout",
     "output_type": "stream",
     "text": [
      "Inputs name: ['args_0']\n",
      "Outputs name: ['avg_w']\n",
      "Inputs shape: [['N', 45]]\n",
      "Outputs shape: [[None]]\n",
      "[0.12036134 0.11755123 0.42651352 0.2209754  0.60062635 0.6612763\n",
      " 2.5380275  1.5624465  0.29646736 0.34631133 0.50062495 2.651151\n",
      " 0.13930273 0.0323888  0.80250657 1.2805977  0.6684981  1.5038102\n",
      " 0.29489356 2.8985138  2.4113722  0.8169092  3.708058   0.49873096\n",
      " 0.03976609 0.05253111 0.13337152 0.17936473 0.40017104 1.4185013\n",
      " 1.5133395  2.5866046  0.44035777 0.8999441  1.157059   0.9761866\n",
      " 1.1289743  1.803107   0.73264694 6.628151   0.98163354 1.7691768\n",
      " 1.4291366  2.1130204  0.17212388 0.24347655 0.321334   0.7766429\n",
      " 0.11019148 1.8174032  0.6073128  0.6433383  1.29554    2.310579\n",
      " 2.6288352  0.9461252  0.17837152 0.26548237 4.9758554  0.5348505\n",
      " 1.3876197  0.19276612 0.34008738 1.0220951  0.6003774  0.5969585\n",
      " 0.22838858 0.10155501 0.42640767 1.4760609  0.12014427 0.16383356\n",
      " 2.8787067  4.9080434  1.403512   2.7238936  0.03083545 2.186498\n",
      " 0.80439883 0.5297981  0.53524184 0.12006215 0.02803242 0.63692135\n",
      " 4.1301527  1.1336329  1.1892908  2.522632   0.97655237 0.8855246\n",
      " 2.2256944  2.3074167  0.28176898 0.2787773  0.96121675 1.1768087\n",
      " 0.49398726 1.0256683  0.13176848 1.3721694 ]\n",
      "[0.00226577 0.00221287 0.00802899 0.0041598  0.01130661 0.01244833\n",
      " 0.04777762 0.0294126  0.00558091 0.00651921 0.00942412 0.04990714\n",
      " 0.00262233 0.00060971 0.01510695 0.02410688 0.01258428 0.02830878\n",
      " 0.00555128 0.05456367 0.04539337 0.01537808 0.0698031  0.00938846\n",
      " 0.00074858 0.00098888 0.00251068 0.00337649 0.0075331  0.02670287\n",
      " 0.02848817 0.04869207 0.00828961 0.01694118 0.02178129 0.01837642\n",
      " 0.02125261 0.03394296 0.01379186 0.12477299 0.01847896 0.03330423\n",
      " 0.02690308 0.03977699 0.00324018 0.00458337 0.00604902 0.01462007\n",
      " 0.00207432 0.03421208 0.01143248 0.01211065 0.02438816 0.04349597\n",
      " 0.04948705 0.01781053 0.00335779 0.00499763 0.09366901 0.0100684\n",
      " 0.02612153 0.00362877 0.00640205 0.01924064 0.01130193 0.01123757\n",
      " 0.00429935 0.00191174 0.008027   0.02778641 0.00226168 0.00308412\n",
      " 0.05419081 0.09239247 0.0264207  0.0512765  0.00058047 0.04116018\n",
      " 0.01514257 0.00997329 0.01007577 0.00226013 0.0005277  0.01198986\n",
      " 0.07774891 0.0213403  0.02238805 0.0474878  0.01838331 0.01666974\n",
      " 0.04189804 0.04343644 0.00530422 0.0052479  0.01809462 0.02215308\n",
      " 0.00929916 0.0193079  0.0024805  0.02583068]\n",
      "[0.00226577 0.00221286 0.00802899 0.0041598  0.01130661 0.01244833\n",
      " 0.04777763 0.0294126  0.00558091 0.00651921 0.00942412 0.04990715\n",
      " 0.00262233 0.00060971 0.01510695 0.02410687 0.01258428 0.02830878\n",
      " 0.00555128 0.05456366 0.04539337 0.01537807 0.06980311 0.00938846\n",
      " 0.00074858 0.00098888 0.00251068 0.00337649 0.0075331  0.02670286\n",
      " 0.02848817 0.04869207 0.00828961 0.01694117 0.02178129 0.01837642\n",
      " 0.02125261 0.03394296 0.01379186 0.124773   0.01847896 0.03330424\n",
      " 0.02690308 0.03977699 0.00324018 0.00458337 0.00604902 0.01462007\n",
      " 0.00207432 0.03421208 0.01143249 0.01211065 0.02438815 0.04349598\n",
      " 0.04948704 0.01781052 0.00335779 0.00499763 0.09366901 0.0100684\n",
      " 0.02612154 0.00362877 0.00640204 0.01924064 0.01130192 0.01123757\n",
      " 0.00429935 0.00191174 0.00802699 0.02778641 0.00226168 0.00308412\n",
      " 0.05419081 0.09239249 0.0264207  0.05127652 0.00058047 0.04116017\n",
      " 0.01514257 0.0099733  0.01007577 0.00226013 0.0005277  0.01198985\n",
      " 0.07774892 0.02134031 0.02238805 0.0474878  0.01838331 0.01666974\n",
      " 0.04189803 0.04343643 0.00530422 0.0052479  0.01809462 0.02215308\n",
      " 0.00929917 0.0193079  0.0024805  0.02583069]\n",
      "[53.121693 53.12176  53.1217   53.12169  53.121693 53.12168  53.121674\n",
      " 53.121677 53.121666 53.121662 53.121693 53.121666 53.12169  53.12175\n",
      " 53.121677 53.121685 53.121685 53.12169  53.121693 53.121685 53.12168\n",
      " 53.12169  53.121674 53.1217   53.121704 53.12171  53.12171  53.12167\n",
      " 53.12169  53.121696 53.121674 53.12168  53.121674 53.12172  53.121685\n",
      " 53.121693 53.12167  53.121677 53.121685 53.121674 53.121693 53.121674\n",
      " 53.121677 53.121674 53.121685 53.121723 53.12167  53.121693 53.121696\n",
      " 53.12168  53.121662 53.121693 53.121693 53.121674 53.121685 53.121708\n",
      " 53.12166  53.121666 53.12168  53.12168  53.121674 53.121677 53.121685\n",
      " 53.12168  53.121704 53.121685 53.121693 53.12168  53.121708 53.12169\n",
      " 53.121723 53.121666 53.12168  53.12167  53.121685 53.12166  53.12169\n",
      " 53.12169  53.121674 53.121655 53.12169  53.121693 53.121666 53.121696\n",
      " 53.121674 53.121677 53.121674 53.12169  53.12167  53.121662 53.12169\n",
      " 53.121696 53.121643 53.121674 53.12168  53.121666 53.12167  53.121685\n",
      " 53.12172  53.121677]\n",
      "[1.0000004  1.0000015  1.0000004  1.0000002  1.0000002  1.\n",
      " 0.99999994 0.99999994 0.99999976 0.9999997  1.0000002  0.9999997\n",
      " 1.0000001  1.0000013  0.99999994 1.0000001  1.0000001  1.0000002\n",
      " 1.0000002  1.0000001  1.0000001  1.0000002  0.9999999  1.0000004\n",
      " 1.0000005  1.0000006  1.0000006  0.9999998  1.0000002  1.0000004\n",
      " 0.99999994 1.         0.9999999  1.0000007  1.0000001  1.0000002\n",
      " 0.9999998  1.         1.0000001  0.9999999  1.0000004  0.9999999\n",
      " 0.99999994 0.9999999  1.0000001  1.0000008  0.99999976 1.0000002\n",
      " 1.0000004  1.         0.9999997  1.0000002  1.0000002  0.99999994\n",
      " 1.0000001  1.0000005  0.9999996  0.9999997  1.         1.\n",
      " 0.9999999  0.99999994 1.0000001  1.0000001  1.0000004  1.0000001\n",
      " 1.0000002  1.         1.0000005  1.0000001  1.0000008  0.9999997\n",
      " 1.         0.9999998  1.0000001  0.99999964 1.0000002  1.0000002\n",
      " 0.9999999  0.9999995  1.0000002  1.0000002  0.99999976 1.0000004\n",
      " 0.9999999  0.99999994 0.9999998  1.0000001  0.9999998  0.99999964\n",
      " 1.0000001  1.0000004  0.9999993  0.99999994 1.0000001  0.99999976\n",
      " 0.9999998  1.0000001  1.0000007  0.99999994]\n"
     ]
    },
    {
     "data": {
      "text/plain": [
       "True"
      ]
     },
     "execution_count": 8,
     "metadata": {},
     "output_type": "execute_result"
    }
   ],
   "source": [
    "session_combine = rt.InferenceSession(\n",
    "    f\"{main_dir}/average_model_from_keras.onnx\",\n",
    "    providers=rt.get_available_providers()\n",
    ")\n",
    "# print the input/putput name and shape\n",
    "input_name=[input.name for input in session_combine.get_inputs()]\n",
    "output_name=[output.name for output in session_combine.get_outputs()]\n",
    "print(\"Inputs name:\", input_name)\n",
    "print(\"Outputs name:\", output_name)\n",
    "\n",
    "input_shape=[input.shape for input in session_combine.get_inputs()]\n",
    "output_shape=[output.shape for output in session_combine.get_outputs()]\n",
    "print(\"Inputs shape:\", input_shape)\n",
    "print(\"Outputs shape:\", output_shape)\n",
    "\n",
    "input_example = {input_name[0]: input_data}\n",
    "\n",
    "output = session_combine.run(output_name, input_example)[0]\n",
    "print(output)\n",
    "print(output*0.018824706 )\n",
    "print(weight_dnn)\n",
    "print(output/weight_dnn)\n",
    "\n",
    "print((output*0.018824706)/weight_dnn)\n",
    "\n",
    "np.allclose(output*0.018824706, weight_dnn, rtol=1e-03, atol=1e-03)\n"
   ]
  },
  {
   "cell_type": "code",
   "execution_count": 9,
   "metadata": {},
   "outputs": [
    {
     "name": "stderr",
     "output_type": "stream",
     "text": [
      "/tmp/ipykernel_31557/164810726.py:4: UserWarning: FigureCanvasAgg is non-interactive, and thus cannot be shown\n",
      "  fig.show()\n"
     ]
    },
    {
     "data": {
      "image/png": "[encoded data removed]",
      "text/plain": [
       "<Figure size 640x480 with 1 Axes>"
      ]
     },
     "metadata": {},
     "output_type": "display_data"
    }
   ],
   "source": [
    "# plot the histogram of weight_dnn\n",
    "fig, ax = plt.subplots()\n",
    "plt.hist(weight_dnn, bins=100)\n",
    "fig.show()"
   ]
  },
  {
   "cell_type": "code",
   "execution_count": 10,
   "metadata": {},
   "outputs": [
    {
     "name": "stdout",
     "output_type": "stream",
     "text": [
      "0.124773\n"
     ]
    }
   ],
   "source": [
    "print(max(weight_dnn))"
   ]
  },
  {
   "cell_type": "code",
   "execution_count": null,
   "metadata": {},
   "outputs": [],
   "source": []
  }
 ],
 "metadata": {
  "kernelspec": {
   "display_name": "Python 3",
   "language": "python",
   "name": "python3"
  },
  "language_info": {
   "codemirror_mode": {
    "name": "ipython",
    "version": 3
   },
   "file_extension": ".py",
   "mimetype": "text/x-python",
   "name": "python",
   "nbconvert_exporter": "python",
   "pygments_lexer": "ipython3",
   "version": "3.9.21"
  }
 },
 "nbformat": 4,
 "nbformat_minor": 2
}
