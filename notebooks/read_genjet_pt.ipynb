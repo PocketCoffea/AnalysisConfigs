{
 "cells": [
  {
   "cell_type": "code",
   "execution_count": 1,
   "metadata": {},
   "outputs": [],
   "source": [
    "from coffea.util import load\n",
    "import awkward as ak"
   ]
  },
  {
   "cell_type": "code",
   "execution_count": 3,
   "metadata": {},
   "outputs": [
    {
     "name": "stdout",
     "output_type": "stream",
     "text": [
      "{'sum_genweights': {'QCD_PT-15to7000_JMENano_PT-15to7000_JMENano_2018': 76502.836}, 'sum_signOf_genweights': {'QCD_PT-15to7000_JMENano_PT-15to7000_JMENano_2018': 9285964.0}, 'sumw': {'baseline': {'QCD_PT-15to7000_JMENano_PT-15to7000_JMENano_2018': {'QCD_PT-15to7000_JMENano': 9109575.0}}, 'MatchedJets_eta-5.191to-1.3': {'QCD_PT-15to7000_JMENano_PT-15to7000_JMENano_2018': {'QCD_PT-15to7000_JMENano': 5083584.0}}, 'MatchedJets_eta-1.3to1.3': {'QCD_PT-15to7000_JMENano_PT-15to7000_JMENano_2018': {'QCD_PT-15to7000_JMENano': 8583108.0}}, 'MatchedJets_eta1.3to5.191': {'QCD_PT-15to7000_JMENano_PT-15to7000_JMENano_2018': {'QCD_PT-15to7000_JMENano': 5050263.0}}}, 'sumw2': {'baseline': {'QCD_PT-15to7000_JMENano_PT-15to7000_JMENano_2018': {'QCD_PT-15to7000_JMENano': 9109575.0}}, 'MatchedJets_eta-5.191to-1.3': {'QCD_PT-15to7000_JMENano_PT-15to7000_JMENano_2018': {'QCD_PT-15to7000_JMENano': 5083584.0}}, 'MatchedJets_eta-1.3to1.3': {'QCD_PT-15to7000_JMENano_PT-15to7000_JMENano_2018': {'QCD_PT-15to7000_JMENano': 8583108.0}}, 'MatchedJets_eta1.3to5.191': {'QCD_PT-15to7000_JMENano_PT-15to7000_JMENano_2018': {'QCD_PT-15to7000_JMENano': 5050263.0}}}, 'cutflow': {'initial': {'QCD_PT-15to7000_JMENano_PT-15to7000_JMENano_2018': 9285964}, 'skim': {'QCD_PT-15to7000_JMENano_PT-15to7000_JMENano_2018': 9109575}, 'presel': {'QCD_PT-15to7000_JMENano_PT-15to7000_JMENano_2018': 9109575}, 'baseline': {'QCD_PT-15to7000_JMENano_PT-15to7000_JMENano_2018': {'QCD_PT-15to7000_JMENano': 9109575}}, 'MatchedJets_eta-5.191to-1.3': {'QCD_PT-15to7000_JMENano_PT-15to7000_JMENano_2018': {'QCD_PT-15to7000_JMENano': 5083584}}, 'MatchedJets_eta-1.3to1.3': {'QCD_PT-15to7000_JMENano_PT-15to7000_JMENano_2018': {'QCD_PT-15to7000_JMENano': 8583108}}, 'MatchedJets_eta1.3to5.191': {'QCD_PT-15to7000_JMENano_PT-15to7000_JMENano_2018': {'QCD_PT-15to7000_JMENano': 5050263}}}, 'variables': {'MatchedJets_ResponseJECVSpt': defaultdict(<class 'dict'>, {'QCD_PT-15to7000_JMENano': {'QCD_PT-15to7000_JMENano_PT-15to7000_JMENano_2018': Hist(\n",
      "  StrCategory(['MatchedJets_eta-1.3to1.3', 'MatchedJets_eta-5.191to-1.3', 'MatchedJets_eta1.3to5.191', 'baseline'], name='cat', label='Category'),\n",
      "  StrCategory(['nominal'], name='variation', label='Variation'),\n",
      "  Variable(array([0.00000000e+00, 5.00031252e-04, 1.00006250e-03, ...,\n",
      "       7.99899994e+00, 7.99949997e+00, 8.00000000e+00]), name='MatchedJets.ResponseJEC', label='MatchedJets_ResponseJEC'),\n",
      "  Variable(array([  15.,   17.,   20.,   23.,   27.,   30.,   35.,   40.,   45.,\n",
      "         57.,   72.,   90.,  120.,  150.,  200.,  300.,  400.,  550.,\n",
      "        750., 1000., 1500., 2000., 2500., 3000., 3500., 4000., 4500.,\n",
      "       5000.]), name='MatchedJets.pt', label='MatchedJets_pt'),\n",
      "  storage=Weight()) # Sum: WeightedSum(value=6.14047e+07, variance=6.14047e+07) (WeightedSum(value=1.14662e+08, variance=1.14662e+08) with flow)}}), 'MatchedJets_JetPtJECVSpt': defaultdict(<class 'dict'>, {'QCD_PT-15to7000_JMENano': {'QCD_PT-15to7000_JMENano_PT-15to7000_JMENano_2018': Hist(\n",
      "  StrCategory(['MatchedJets_eta-1.3to1.3', 'MatchedJets_eta-5.191to-1.3', 'MatchedJets_eta1.3to5.191', 'baseline'], name='cat', label='Category'),\n",
      "  StrCategory(['nominal'], name='variation', label='Variation'),\n",
      "  Variable(array([0.00000000e+00, 3.75023439e-01, 7.50046878e-01, ...,\n",
      "       5.99924995e+03, 5.99962498e+03, 6.00000000e+03]), name='MatchedJets.JetPtJEC', label='MatchedJets_JetPtJEC'),\n",
      "  Variable(array([  15.,   17.,   20.,   23.,   27.,   30.,   35.,   40.,   45.,\n",
      "         57.,   72.,   90.,  120.,  150.,  200.,  300.,  400.,  550.,\n",
      "        750., 1000., 1500., 2000., 2500., 3000., 3500., 4000., 4500.,\n",
      "       5000.]), name='MatchedJets.pt', label='MatchedJets_pt'),\n",
      "  storage=Weight()) # Sum: WeightedSum(value=6.14065e+07, variance=6.14065e+07) (WeightedSum(value=1.14662e+08, variance=1.14662e+08) with flow)}}), 'MatchedJets_ResponseRawVSpt': defaultdict(<class 'dict'>, {'QCD_PT-15to7000_JMENano': {'QCD_PT-15to7000_JMENano_PT-15to7000_JMENano_2018': Hist(\n",
      "  StrCategory(['MatchedJets_eta-1.3to1.3', 'MatchedJets_eta-5.191to-1.3', 'MatchedJets_eta1.3to5.191', 'baseline'], name='cat', label='Category'),\n",
      "  StrCategory(['nominal'], name='variation', label='Variation'),\n",
      "  Variable(array([0.00000000e+00, 5.00031252e-04, 1.00006250e-03, ...,\n",
      "       7.99899994e+00, 7.99949997e+00, 8.00000000e+00]), name='MatchedJets.ResponseRaw', label='MatchedJets_ResponseRaw'),\n",
      "  Variable(array([  15.,   17.,   20.,   23.,   27.,   30.,   35.,   40.,   45.,\n",
      "         57.,   72.,   90.,  120.,  150.,  200.,  300.,  400.,  550.,\n",
      "        750., 1000., 1500., 2000., 2500., 3000., 3500., 4000., 4500.,\n",
      "       5000.]), name='MatchedJets.pt', label='MatchedJets_pt'),\n",
      "  storage=Weight()) # Sum: WeightedSum(value=6.1405e+07, variance=6.1405e+07) (WeightedSum(value=1.14662e+08, variance=1.14662e+08) with flow)}}), 'MatchedJets_JetPtRawVSpt': defaultdict(<class 'dict'>, {'QCD_PT-15to7000_JMENano': {'QCD_PT-15to7000_JMENano_PT-15to7000_JMENano_2018': Hist(\n",
      "  StrCategory(['MatchedJets_eta-1.3to1.3', 'MatchedJets_eta-5.191to-1.3', 'MatchedJets_eta1.3to5.191', 'baseline'], name='cat', label='Category'),\n",
      "  StrCategory(['nominal'], name='variation', label='Variation'),\n",
      "  Variable(array([0.00000000e+00, 3.75023439e-01, 7.50046878e-01, ...,\n",
      "       5.99924995e+03, 5.99962498e+03, 6.00000000e+03]), name='MatchedJets.JetPtRaw', label='MatchedJets_JetPtRaw'),\n",
      "  Variable(array([  15.,   17.,   20.,   23.,   27.,   30.,   35.,   40.,   45.,\n",
      "         57.,   72.,   90.,  120.,  150.,  200.,  300.,  400.,  550.,\n",
      "        750., 1000., 1500., 2000., 2500., 3000., 3500., 4000., 4500.,\n",
      "       5000.]), name='MatchedJets.pt', label='MatchedJets_pt'),\n",
      "  storage=Weight()) # Sum: WeightedSum(value=6.14068e+07, variance=6.14068e+07) (WeightedSum(value=1.14662e+08, variance=1.14662e+08) with flow)}}), 'MatchedJets_ResponsePNetRegVSpt': defaultdict(<class 'dict'>, {'QCD_PT-15to7000_JMENano': {'QCD_PT-15to7000_JMENano_PT-15to7000_JMENano_2018': Hist(\n",
      "  StrCategory(['MatchedJets_eta-1.3to1.3', 'MatchedJets_eta-5.191to-1.3', 'MatchedJets_eta1.3to5.191', 'baseline'], name='cat', label='Category'),\n",
      "  StrCategory(['nominal'], name='variation', label='Variation'),\n",
      "  Variable(array([0.00000000e+00, 5.00031252e-04, 1.00006250e-03, ...,\n",
      "       7.99899994e+00, 7.99949997e+00, 8.00000000e+00]), name='MatchedJets.ResponsePNetReg', label='MatchedJets_ResponsePNetReg'),\n",
      "  Variable(array([  15.,   17.,   20.,   23.,   27.,   30.,   35.,   40.,   45.,\n",
      "         57.,   72.,   90.,  120.,  150.,  200.,  300.,  400.,  550.,\n",
      "        750., 1000., 1500., 2000., 2500., 3000., 3500., 4000., 4500.,\n",
      "       5000.]), name='MatchedJets.pt', label='MatchedJets_pt'),\n",
      "  storage=Weight()) # Sum: WeightedSum(value=6.14048e+07, variance=6.14048e+07) (WeightedSum(value=1.14662e+08, variance=1.14662e+08) with flow)}}), 'MatchedJets_JetPtPNetRegVSpt': defaultdict(<class 'dict'>, {'QCD_PT-15to7000_JMENano': {'QCD_PT-15to7000_JMENano_PT-15to7000_JMENano_2018': Hist(\n",
      "  StrCategory(['MatchedJets_eta-1.3to1.3', 'MatchedJets_eta-5.191to-1.3', 'MatchedJets_eta1.3to5.191', 'baseline'], name='cat', label='Category'),\n",
      "  StrCategory(['nominal'], name='variation', label='Variation'),\n",
      "  Variable(array([0.00000000e+00, 3.75023439e-01, 7.50046878e-01, ...,\n",
      "       5.99924995e+03, 5.99962498e+03, 6.00000000e+03]), name='MatchedJets.JetPtPNetReg', label='MatchedJets_JetPtPNetReg'),\n",
      "  Variable(array([  15.,   17.,   20.,   23.,   27.,   30.,   35.,   40.,   45.,\n",
      "         57.,   72.,   90.,  120.,  150.,  200.,  300.,  400.,  550.,\n",
      "        750., 1000., 1500., 2000., 2500., 3000., 3500., 4000., 4500.,\n",
      "       5000.]), name='MatchedJets.pt', label='MatchedJets_pt'),\n",
      "  storage=Weight()) # Sum: WeightedSum(value=6.14068e+07, variance=6.14068e+07) (WeightedSum(value=1.14662e+08, variance=1.14662e+08) with flow)}}), 'MatchedJets_ResponsePNetRegNeutrinoVSpt': defaultdict(<class 'dict'>, {'QCD_PT-15to7000_JMENano': {'QCD_PT-15to7000_JMENano_PT-15to7000_JMENano_2018': Hist(\n",
      "  StrCategory(['MatchedJets_eta-1.3to1.3', 'MatchedJets_eta-5.191to-1.3', 'MatchedJets_eta1.3to5.191', 'baseline'], name='cat', label='Category'),\n",
      "  StrCategory(['nominal'], name='variation', label='Variation'),\n",
      "  Variable(array([0.00000000e+00, 5.00031252e-04, 1.00006250e-03, ...,\n",
      "       7.99899994e+00, 7.99949997e+00, 8.00000000e+00]), name='MatchedJetsNeutrino.ResponsePNetRegNeutrino', label='MatchedJets_ResponsePNetRegNeutrino'),\n",
      "  Variable(array([  15.,   17.,   20.,   23.,   27.,   30.,   35.,   40.,   45.,\n",
      "         57.,   72.,   90.,  120.,  150.,  200.,  300.,  400.,  550.,\n",
      "        750., 1000., 1500., 2000., 2500., 3000., 3500., 4000., 4500.,\n",
      "       5000.]), name='MatchedJetsNeutrino.pt', label='MatchedJetsNeutrino_pt'),\n",
      "  storage=Weight()) # Sum: WeightedSum(value=6.14724e+07, variance=6.14724e+07) (WeightedSum(value=1.14662e+08, variance=1.14662e+08) with flow)}}), 'MatchedJets_JetPtPNetRegNeutrinoVSpt': defaultdict(<class 'dict'>, {'QCD_PT-15to7000_JMENano': {'QCD_PT-15to7000_JMENano_PT-15to7000_JMENano_2018': Hist(\n",
      "  StrCategory(['MatchedJets_eta-1.3to1.3', 'MatchedJets_eta-5.191to-1.3', 'MatchedJets_eta1.3to5.191', 'baseline'], name='cat', label='Category'),\n",
      "  StrCategory(['nominal'], name='variation', label='Variation'),\n",
      "  Variable(array([0.00000000e+00, 3.75023439e-01, 7.50046878e-01, ...,\n",
      "       5.99924995e+03, 5.99962498e+03, 6.00000000e+03]), name='MatchedJetsNeutrino.JetPtPNetRegNeutrino', label='MatchedJets_JetPtPNetRegNeutrino'),\n",
      "  Variable(array([  15.,   17.,   20.,   23.,   27.,   30.,   35.,   40.,   45.,\n",
      "         57.,   72.,   90.,  120.,  150.,  200.,  300.,  400.,  550.,\n",
      "        750., 1000., 1500., 2000., 2500., 3000., 3500., 4000., 4500.,\n",
      "       5000.]), name='MatchedJetsNeutrino.pt', label='MatchedJetsNeutrino_pt'),\n",
      "  storage=Weight()) # Sum: WeightedSum(value=6.14755e+07, variance=6.14755e+07) (WeightedSum(value=1.14662e+08, variance=1.14662e+08) with flow)}})}, 'columns': {}, 'processing_metadata': {}, 'datasets_metadata': {'by_datataking_period': {'2018': defaultdict(<class 'set'>, {'QCD_PT-15to7000_JMENano': {'QCD_PT-15to7000_JMENano_PT-15to7000_JMENano_2018'}})}, 'by_dataset': defaultdict(<class 'dict'>, {'QCD_PT-15to7000_JMENano_PT-15to7000_JMENano_2018': {'das_names': \"['/QCD_PT-15_TuneCP5_Flat2018_13p6TeV_pythia8/Run3Summer22NanoAODv12-JMENano12p5_132X_mcRun3_2022_realistic_v3-v2/NANOAODSIM']\", 'sample': 'QCD_PT-15to7000_JMENano', 'year': '2018', 'isMC': 'True', 'xsec': '1438000000.0', 'part': 'PT-15to7000_JMENano', 'nevents': '9285964', 'size': '36159010610'}})}}\n",
      "dict_keys([])\n"
     ]
    }
   ],
   "source": [
    "input = \"/work/mmalucch//out_jme/out_cartesian_full_neutrinos_jetpt/centraleta_inclusiveflav_pnet/output_all.coffea\"\n",
    "o = load(f\"{input}\")\n",
    "print(o)\n",
    "col=o[\"columns\"]#[\"QCD_PT-15to7000_JMENano\"][\"QCD_PT-15to7000_JMENano_PT-15to7000_JMENano_2018\"]['baseline']\n",
    "print(col.keys())"
   ]
  },
  {
   "cell_type": "code",
   "execution_count": null,
   "metadata": {},
   "outputs": [],
   "source": []
  }
 ],
 "metadata": {
  "kernelspec": {
   "display_name": "Python 3",
   "language": "python",
   "name": "python3"
  },
  "language_info": {
   "codemirror_mode": {
    "name": "ipython",
    "version": 3
   },
   "file_extension": ".py",
   "mimetype": "text/x-python",
   "name": "python",
   "nbconvert_exporter": "python",
   "pygments_lexer": "ipython3",
   "version": "3.9.18"
  }
 },
 "nbformat": 4,
 "nbformat_minor": 2
}
