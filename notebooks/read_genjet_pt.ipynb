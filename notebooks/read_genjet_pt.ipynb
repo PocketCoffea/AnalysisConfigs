{
 "cells": [
  {
   "cell_type": "code",
   "execution_count": 2,
   "metadata": {},
   "outputs": [],
   "source": [
    "from coffea.util import load\n",
    "import awkward as ak"
   ]
  },
  {
   "cell_type": "code",
   "execution_count": 4,
   "metadata": {},
   "outputs": [
    {
     "name": "stdout",
     "output_type": "stream",
     "text": [
      "dict_keys([])\n"
     ]
    }
   ],
   "source": [
    "input = \"/work/mmalucch//out_jme/out_cartesian_full_neutrinos_correct_eta_bins/centraleta_inclusiveflav_pnet/output_all.coffea\"\n",
    "o = load(f\"{input}\")\n",
    "col=o[\"columns\"]#[\"QCD_PT-15to7000_JMENano\"][\"QCD_PT-15to7000_JMENano_PT-15to7000_JMENano_2018\"]['baseline']\n",
    "print(col.keys())"
   ]
  },
  {
   "cell_type": "code",
   "execution_count": null,
   "metadata": {},
   "outputs": [],
   "source": []
  }
 ],
 "metadata": {
  "kernelspec": {
   "display_name": "Python 3",
   "language": "python",
   "name": "python3"
  },
  "language_info": {
   "codemirror_mode": {
    "name": "ipython",
    "version": 3
   },
   "file_extension": ".py",
   "mimetype": "text/x-python",
   "name": "python",
   "nbconvert_exporter": "python",
   "pygments_lexer": "ipython3",
   "version": "3.9.18"
  }
 },
 "nbformat": 4,
 "nbformat_minor": 2
}
