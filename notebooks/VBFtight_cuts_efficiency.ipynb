{
 "cells": [
  {
   "cell_type": "code",
   "execution_count": 23,
   "metadata": {},
   "outputs": [],
   "source": [
    "# load a coffea file\n",
    "from coffea.util import load\n",
    "import os\n",
    "import awkward as ak\n",
    "import numpy as np\n",
    "import matplotlib.pyplot as plt\n",
    "import mplhep as hep\n",
    "import matplotlib\n",
    "import re\n",
    "matplotlib.rcParams[\"figure.dpi\"] = 300\n"
   ]
  },
  {
   "cell_type": "markdown",
   "metadata": {},
   "source": [
    "# Load file"
   ]
  },
  {
   "cell_type": "code",
   "execution_count": 24,
   "metadata": {},
   "outputs": [],
   "source": [
    "# input = \"/work/rcereghetti/out_vbfhh4b/output_vbf_matching5/output_all.coffea\"\n",
    "# o = load(f\"{input}\")\n",
    "input = \"/work/rcereghetti/out_vbfhh4b/outputDNNsampleSemiTight/output_all.coffea\"\n",
    "# input = \"/work/rcereghetti/out_vbfhh4b/out_test9/output_all.coffea\"\n",
    "# input = \"/work/mmalucch/out_hh4b/out_vbf_ggf_dnn_full/output_all.coffea\"\n",
    "o = load(f\"{input}\")"
   ]
  },
  {
   "cell_type": "markdown",
   "metadata": {},
   "source": []
  },
  {
   "cell_type": "markdown",
   "metadata": {},
   "source": [
    "# Function to extract the cut string"
   ]
  },
  {
   "cell_type": "code",
   "execution_count": 25,
   "metadata": {},
   "outputs": [],
   "source": [
    "def remove_if_found(word, substring):\n",
    "    if substring in word:\n",
    "        return word.replace(substring, '')\n",
    "    return word  # Restituisce la parola invariata se la sottostringa non è trovata"
   ]
  },
  {
   "cell_type": "markdown",
   "metadata": {},
   "source": [
    "# Create a dictionary with number of events for every step and region"
   ]
  },
  {
   "cell_type": "code",
   "execution_count": 26,
   "metadata": {},
   "outputs": [
    {
     "name": "stdout",
     "output_type": "stream",
     "text": [
      "initial\n",
      "a GluGlutoHHto4B_kl-1p00_kt-1p00_c2-0p00__2022_postEE\n",
      "a VBFHHto4B_CV_1_C2V_1_C3_1_2022_postEE\n",
      "skim\n",
      "a GluGlutoHHto4B_kl-1p00_kt-1p00_c2-0p00__2022_postEE\n",
      "a VBFHHto4B_CV_1_C2V_1_C3_1_2022_postEE\n",
      "presel\n",
      "a GluGlutoHHto4B_kl-1p00_kt-1p00_c2-0p00__2022_postEE\n",
      "a VBFHHto4B_CV_1_C2V_1_C3_1_2022_postEE\n",
      "4b_region\n",
      "a GluGlutoHHto4B_kl-1p00_kt-1p00_c2-0p00__2022_postEE\n",
      "a VBFHHto4B_CV_1_C2V_1_C3_1_2022_postEE\n",
      "4b_semiTight_LeadingPt_region\n",
      "a GluGlutoHHto4B_kl-1p00_kt-1p00_c2-0p00__2022_postEE\n",
      "a VBFHHto4B_CV_1_C2V_1_C3_1_2022_postEE\n",
      "4b_semiTight_LeadingMjj_region\n",
      "a GluGlutoHHto4B_kl-1p00_kt-1p00_c2-0p00__2022_postEE\n",
      "a VBFHHto4B_CV_1_C2V_1_C3_1_2022_postEE\n"
     ]
    }
   ],
   "source": [
    "cuts_dict = {}\n",
    "\n",
    "pattern = r'^[^_]+_[^_]+_([^_]+)_region'\n",
    "\n",
    "for k in o[\"cutflow\"].keys():    \n",
    "    print(k)\n",
    "    if \"VBFtight\" in k and \"VBFtight_region\" not in k:\n",
    "        a = remove_if_found(k, \"4b_\")\n",
    "        b = remove_if_found(a, \"_region\")\n",
    "        c = remove_if_found(b, \"VBFtight_\")\n",
    "        string = c\n",
    "    else: string = k\n",
    "    for kk in o[\"cutflow\"][k].keys():\n",
    "        print(\"a\", kk)\n",
    "        if isinstance(o['cutflow'][k][kk], int):\n",
    "            cuts_dict[string] = o['cutflow'][k][kk]\n",
    "        elif \"VBFHHto4B\" in kk:\n",
    "            cuts_dict[string] = o['cutflow'][k][kk]['VBF_HHto4B']\n"
   ]
  },
  {
   "cell_type": "markdown",
   "metadata": {},
   "source": [
    "# Print the efficiency "
   ]
  },
  {
   "cell_type": "code",
   "execution_count": 27,
   "metadata": {},
   "outputs": [
    {
     "name": "stdout",
     "output_type": "stream",
     "text": [
      "0.06995230524642289\n"
     ]
    }
   ],
   "source": [
    "a = o[\"cutflow\"][\"initial\"][\"GluGlutoHHto4B_kl-1p00_kt-1p00_c2-0p00__2022_postEE\"]\n",
    "b = o[\"cutflow\"][\"4b_region\"][\"GluGlutoHHto4B_kl-1p00_kt-1p00_c2-0p00__2022_postEE\"][\"GluGlutoHHto4B\"]\n",
    "print(b/a)"
   ]
  },
  {
   "cell_type": "code",
   "execution_count": 28,
   "metadata": {},
   "outputs": [
    {
     "name": "stdout",
     "output_type": "stream",
     "text": [
      "{'initial': 204633, 'skim': 44944, 'presel': 24927, '4b_region': 7455, '4b_semiTight_LeadingPt_region': 3912, '4b_semiTight_LeadingMjj_region': 4168}\n",
      "Efficiency for 4b_region with respect to 4b_region: 1.0\n",
      "Efficiency for 4b_semiTight_LeadingPt_region with respect to 4b_region: 0.524748490945674\n",
      "Efficiency for 4b_semiTight_LeadingMjj_region with respect to 4b_region: 0.5590878604963112\n"
     ]
    }
   ],
   "source": [
    "cuts_list = list(cuts_dict)\n",
    "print(cuts_dict)\n",
    "\n",
    "for i in range(3, len(cuts_list)):\n",
    "    print(f\"Efficiency for {cuts_list[i]} with respect to 4b_region: {cuts_dict[cuts_list[i]] / cuts_dict['4b_region']}\")"
   ]
  },
  {
   "cell_type": "markdown",
   "metadata": {},
   "source": [
    "# Check signal efficiency 3rd and 4th jet"
   ]
  },
  {
   "cell_type": "code",
   "execution_count": 29,
   "metadata": {},
   "outputs": [
    {
     "name": "stdout",
     "output_type": "stream",
     "text": [
      "['GluGlutoHHto4B', 'VBF_HHto4B']\n",
      "dict_keys(['4b_region', '4b_semiTight_LeadingPt_region', '4b_semiTight_LeadingMjj_region'])\n"
     ]
    }
   ],
   "source": [
    "print(list(o[\"columns\"].keys()))\n",
    "sample=list(o[\"columns\"].keys())[0]\n",
    "dataset=list(o[\"columns\"][sample].keys())[0]\n",
    "col={}\n",
    "for i in range(len(o[\"columns\"][sample][dataset].keys())):\n",
    "    category = list(o[\"columns\"][sample][dataset].keys())[i]\n",
    "    col[list(o[\"columns\"][sample][dataset].keys())[i]] = o[\"columns\"][sample][dataset][category]\n",
    "\n",
    "print(o[\"columns\"][\"GluGlutoHHto4B\"][\"GluGlutoHHto4B_kl-1p00_kt-1p00_c2-0p00__2022_postEE\"].keys())"
   ]
  },
  {
   "cell_type": "code",
   "execution_count": 32,
   "metadata": {},
   "outputs": [
    {
     "name": "stdout",
     "output_type": "stream",
     "text": [
      "5\n"
     ]
    }
   ],
   "source": [
    "colMjj = o[\"columns\"][\"GluGlutoHHto4B\"][\"GluGlutoHHto4B_kl-1p00_kt-1p00_c2-0p00__2022_postEE\"][\"4b_semiTight_LeadingMjj_region\"]\n",
    "colPt = o[\"columns\"][\"GluGlutoHHto4B\"][\"GluGlutoHHto4B_kl-1p00_kt-1p00_c2-0p00__2022_postEE\"][\"4b_semiTight_LeadingPt_region\"]\n",
    "\n",
    "jj_mass = colMjj[\"events_JetVBFLeadingMjjNotFromHiggs_jjMass\"].value\n",
    "print(len(jj_mass))\n"
   ]
  },
  {
   "cell_type": "code",
   "execution_count": 9,
   "metadata": {},
   "outputs": [],
   "source": [
    "# index = col[\"4b_region\"][\"JetVBF_matched_index\"].value\n",
    "# tot = np.zeros(11)\n",
    "# # print(tot)\n",
    "# for i in range(len(index)):\n",
    "#     tot[int(index[i])]+=1\n",
    "# # for i in range(len(tot)):\n",
    "# #     print(f\"Index {i}: {tot[i]/len(index)}\")\n",
    "# print(np.sum(tot[6:]),len(index), np.sum(tot[6:])/len(index))\n",
    "# plt.hist(index, 11)\n",
    "# plt.grid()\n",
    "# plt.show()"
   ]
  },
  {
   "cell_type": "code",
   "execution_count": 10,
   "metadata": {},
   "outputs": [],
   "source": [
    "# regions = []\n",
    "# for k in o[\"cutflow\"].keys():\n",
    "#     regions.append(k)\n",
    "\n",
    "# for i in range(3, len(regions)):\n",
    "#     index = col[regions[i]][\"JetVBF_matched_index\"].value\n",
    "#     tot = np.zeros(11)\n",
    "#     for j in range(len(index)):\n",
    "#         tot[int(index[j])]+=1\n",
    "#     print(f\"{cuts_list[i]}: {np.sum(tot[6:])} {len(index)} {np.sum(tot[6:])/len(index)}\")\n"
   ]
  },
  {
   "cell_type": "code",
   "execution_count": null,
   "metadata": {},
   "outputs": [
    {
     "name": "stdout",
     "output_type": "stream",
     "text": [
      "dict_keys(['weight', 'events_HH', 'events_JetVBFLeadingPtNotFromHiggs_deltaEta', 'events_JetVBFLeadingMjjNotFromHiggs_deltaEta', 'events_JetVBFLeadingPtNotFromHiggs_jjMass', 'events_JetVBFLeadingMjjNotFromHiggs_jjMass', 'events_HH_deltaR', 'events_H1j1_deltaR', 'events_H1j2_deltaR', 'events_H2j1_deltaR', 'events_H2j2_deltaR', 'events_HH_centrality', 'HiggsLeading_pt', 'HiggsLeading_eta', 'HiggsLeading_phi', 'HiggsLeading_mass', 'HiggsSubLeading_pt', 'HiggsSubLeading_eta', 'HiggsSubLeading_phi', 'HiggsSubLeading_mass', 'Jet_N', 'Jet_index', 'Jet_pt', 'Jet_btagPNetQvG', 'Jet_eta', 'Jet_btagPNetB', 'Jet_phi', 'Jet_mass', 'JetGoodFromHiggsOrdered_N', 'JetGoodFromHiggsOrdered_index', 'JetGoodFromHiggsOrdered_pt', 'JetGoodFromHiggsOrdered_btagPNetQvG', 'JetGoodFromHiggsOrdered_eta', 'JetGoodFromHiggsOrdered_btagPNetB', 'JetGoodFromHiggsOrdered_phi', 'JetGoodFromHiggsOrdered_mass', 'JetVBFLeadingPtNotFromHiggs_N', 'JetVBFLeadingPtNotFromHiggs_index', 'JetVBFLeadingPtNotFromHiggs_pt', 'JetVBFLeadingPtNotFromHiggs_btagPNetQvG', 'JetVBFLeadingPtNotFromHiggs_eta', 'JetVBFLeadingPtNotFromHiggs_btagPNetB', 'JetVBFLeadingPtNotFromHiggs_phi', 'JetVBFLeadingPtNotFromHiggs_mass', 'JetVBFLeadingMjjNotFromHiggs_N', 'JetVBFLeadingMjjNotFromHiggs_index', 'JetVBFLeadingMjjNotFromHiggs_pt', 'JetVBFLeadingMjjNotFromHiggs_btagPNetQvG', 'JetVBFLeadingMjjNotFromHiggs_eta', 'JetVBFLeadingMjjNotFromHiggs_btagPNetB', 'JetVBFLeadingMjjNotFromHiggs_phi', 'JetVBFLeadingMjjNotFromHiggs_mass', 'HH_pt', 'HH_eta', 'HH_phi', 'HH_mass'])\n"
     ]
    }
   ],
   "source": [
    "index = col[\"4b_region\"].keys()\n",
    "\n",
    "print(index)"
   ]
  },
  {
   "cell_type": "code",
   "execution_count": null,
   "metadata": {},
   "outputs": [
    {
     "name": "stdout",
     "output_type": "stream",
     "text": [
      "[ 7  7  6 12  6  6  6  6  6  7  8  6  9 10  7  7  7  6  9 10  8  7  8  9\n",
      "  7  9  7  7 10  7  6  9  7  6  8  7  7  7  8  6 10  7  9  6  7  7  6  7\n",
      "  6  9  6  7  7  6  8  6  7  6  8  8  9  8  6  9  7 12  6  9  6  6 10  7\n",
      "  6  8  7  7  7  8  7 10  7  8  7  7  6  8  8  8]\n",
      "[12.57142857 12.57142857 14.66666667  7.33333333 14.66666667 14.66666667\n",
      " 14.66666667 14.66666667 14.66666667 12.57142857 11.         14.66666667\n",
      "  9.77777778  8.8        12.57142857 12.57142857 12.57142857 14.66666667\n",
      "  9.77777778  8.8        11.         12.57142857 11.          9.77777778\n",
      " 12.57142857  9.77777778 12.57142857 12.57142857  8.8        12.57142857\n",
      " 14.66666667  9.77777778 12.57142857 14.66666667 11.         12.57142857\n",
      " 12.57142857 12.57142857 11.         14.66666667  8.8        12.57142857\n",
      "  9.77777778 14.66666667 12.57142857 12.57142857 14.66666667 12.57142857\n",
      " 14.66666667  9.77777778 14.66666667 12.57142857 12.57142857 14.66666667\n",
      " 11.         14.66666667 12.57142857 14.66666667 11.         11.\n",
      "  9.77777778 11.         14.66666667  9.77777778 12.57142857  7.33333333\n",
      " 14.66666667  9.77777778 14.66666667 14.66666667  8.8        12.57142857\n",
      " 14.66666667 11.         12.57142857 12.57142857 12.57142857 11.\n",
      " 12.57142857  8.8        12.57142857 11.         12.57142857 12.57142857\n",
      " 14.66666667 11.         11.         11.        ]\n",
      "1.0\n"
     ]
    }
   ],
   "source": [
    "eta = col[\"4b_region\"][\"JetVBFLeadingMjjNotFromHiggs_eta\"].value\n",
    "deltaEta = col[\"4b_region\"][\"events_JetVBFLeadingPtNotFromHiggs_deltaEta\"].value\n",
    "events = col[\"4b_region\"][\"Jet_N\"].value\n",
    "sum = 0\n",
    "print(events)\n",
    "print(len(deltaEta)/events)\n",
    "for i in range(0, int(len(eta)/2)):\n",
    "    if (abs(eta[2*i]) < 4.7)& (abs(eta[2*i+1]) < 4.7):\n",
    "    # if (abs(eta[2*i]) > 3.5)  & (abs(eta[2*i]) < 4.7) & (abs(eta[2*i+1]) > 3.5)  & (abs(eta[2*i+1]) < 4.7):\n",
    "        sum +=1\n",
    "        # print(\"eta0\", eta[2*i], \"eta1\", eta[2*i+1])\n",
    "print(sum/(len(eta)/2))\n",
    "               "
   ]
  },
  {
   "cell_type": "code",
   "execution_count": null,
   "metadata": {},
   "outputs": [
    {
     "ename": "NameError",
     "evalue": "name 'HH_centrality' is not defined",
     "output_type": "error",
     "traceback": [
      "\u001b[0;31m---------------------------------------------------------------------------\u001b[0m",
      "\u001b[0;31mNameError\u001b[0m                                 Traceback (most recent call last)",
      "Cell \u001b[0;32mIn[13], line 16\u001b[0m\n\u001b[1;32m      1\u001b[0m \u001b[38;5;66;03m# HH_centrality = col[\"4b_region\"][\"events_HH_centrality\"].value\u001b[39;00m\n\u001b[1;32m      2\u001b[0m \u001b[38;5;66;03m# jj_eta = col[\"4b_region\"][\"JetVBFLeadingPtNotFromHiggs_eta\"].value\u001b[39;00m\n\u001b[1;32m      3\u001b[0m \u001b[38;5;66;03m# H1_eta= col[\"4b_region\"][\"HiggsLeading_eta\"].value\u001b[39;00m\n\u001b[0;32m   (...)\u001b[0m\n\u001b[1;32m     14\u001b[0m \n\u001b[1;32m     15\u001b[0m \u001b[38;5;66;03m#     print(\"\\n\")\u001b[39;00m\n\u001b[0;32m---> 16\u001b[0m \u001b[38;5;28;01mfor\u001b[39;00m i \u001b[38;5;129;01min\u001b[39;00m \u001b[38;5;28mrange\u001b[39m(\u001b[38;5;28mlen\u001b[39m(\u001b[43mHH_centrality\u001b[49m)):\n\u001b[1;32m     17\u001b[0m     \u001b[38;5;28;01mif\u001b[39;00m HH_centrality[i] \u001b[38;5;241m<\u001b[39m \u001b[38;5;241m0.1\u001b[39m:\n\u001b[1;32m     18\u001b[0m         \u001b[38;5;28mprint\u001b[39m((HH_centrality[i]))\n",
      "\u001b[0;31mNameError\u001b[0m: name 'HH_centrality' is not defined"
     ]
    }
   ],
   "source": [
    "\n",
    "\n",
    "\n",
    "# HH_centrality = col[\"4b_region\"][\"events_HH_centrality\"].value\n",
    "# jj_eta = col[\"4b_region\"][\"JetVBFLeadingPtNotFromHiggs_eta\"].value\n",
    "# H1_eta= col[\"4b_region\"][\"HiggsLeading_eta\"].value\n",
    "# H2_eta= col[\"4b_region\"][\"HiggsSubLeading_eta\"].value\n",
    "# deltaR = col[\"4b_region\"][\"events_H1j2_deltaR\"].value\n",
    "# for i in range(0, 3):\n",
    "#     print(jj_eta[2*i], jj_eta[2*i+1])\n",
    "#     eta_avg = (jj_eta[2*i] + jj_eta[2*i+1]) / 2\n",
    "#     delta_eta\n",
    "#     a = H1_eta - eta_avg\n",
    "#     b = H2_eta - eta_avg\n",
    "\n",
    "#     print(HH_centrality[i])\n",
    "\n",
    "#     print(\"\\n\")\n",
    "for i in range(len(HH_centrality)):\n",
    "    if HH_centrality[i] < 0.1:\n",
    "        print((HH_centrality[i]))\n",
    "print(len(HH_centrality))\n",
    "\n",
    "# np.exp(\n",
    "#                     -(((self.events.HiggsLeading.eta - JetVBFLeadingPtNotFromHiggs_etaAverage)**2 \n",
    "#                         -(self.events.HiggsSubLeading.eta - JetVBFLeadingPtNotFromHiggs_etaAverage)**2\n",
    "#                     ) / (self.events.JetVBFLeadingPtNotFromHiggs_deltaEta)**2\n",
    "\n",
    "# sum = 0\n",
    "# for i in range(len(index)):\n",
    "#     if index[i] == -999: sum+=1\n",
    "# print(sum)\n",
    "# tot = np.zeros(12)\n",
    "# for i in range(len(index)):\n",
    "#     if index[i] >= 0:\n",
    "#         tot[int(index[i])]+=1\n",
    "# for i in range(len(tot)):\n",
    "#     print(f\"Index {i}: {tot[i]}\") #/len(index))\n",
    "# print(tot)\n",
    "# print(np.sum(tot[6:]),len(index), np.sum(tot[6:])/len(index))\n",
    "\n",
    "# index_array = np.array(index)\n",
    "# index_not_none = index_array[index_array >= 0]\n",
    "\n",
    "# plt.hist(index_not_none, 11)\n",
    "# plt.grid()\n",
    "# plt.show()\n",
    "# print(len(index))\n",
    "# print(len(index_not_none))"
   ]
  },
  {
   "cell_type": "code",
   "execution_count": 60,
   "metadata": {},
   "outputs": [
    {
     "ename": "KeyError",
     "evalue": "'JetVBF_matched_btagPNetB'",
     "output_type": "error",
     "traceback": [
      "\u001b[0;31m---------------------------------------------------------------------------\u001b[0m",
      "\u001b[0;31mKeyError\u001b[0m                                  Traceback (most recent call last)",
      "Cell \u001b[0;32mIn[60], line 1\u001b[0m\n\u001b[0;32m----> 1\u001b[0m jetBtag \u001b[38;5;241m=\u001b[39m \u001b[43mcol\u001b[49m\u001b[43m[\u001b[49m\u001b[38;5;124;43m\"\u001b[39;49m\u001b[38;5;124;43m4b_region\u001b[39;49m\u001b[38;5;124;43m\"\u001b[39;49m\u001b[43m]\u001b[49m\u001b[43m[\u001b[49m\u001b[38;5;124;43m\"\u001b[39;49m\u001b[38;5;124;43mJetVBF_matched_btagPNetB\u001b[39;49m\u001b[38;5;124;43m\"\u001b[39;49m\u001b[43m]\u001b[49m\u001b[38;5;241m.\u001b[39mvalue\n\u001b[1;32m      2\u001b[0m nJetVBF \u001b[38;5;241m=\u001b[39m col[\u001b[38;5;124m\"\u001b[39m\u001b[38;5;124m4b_region\u001b[39m\u001b[38;5;124m\"\u001b[39m][\u001b[38;5;124m\"\u001b[39m\u001b[38;5;124mevents_nJetVBF_matched\u001b[39m\u001b[38;5;124m\"\u001b[39m]\u001b[38;5;241m.\u001b[39mvalue\n\u001b[1;32m      3\u001b[0m jetBtag_unflatten \u001b[38;5;241m=\u001b[39m ak\u001b[38;5;241m.\u001b[39munflatten(jetBtag, nJetVBF)\n",
      "\u001b[0;31mKeyError\u001b[0m: 'JetVBF_matched_btagPNetB'"
     ]
    }
   ],
   "source": [
    "jetBtag = col[\"4b_region\"][\"JetVBF_matched_btagPNetB\"].value\n",
    "nJetVBF = col[\"4b_region\"][\"events_nJetVBF_matched\"].value\n",
    "jetBtag_unflatten = ak.unflatten(jetBtag, nJetVBF)\n",
    "print(ak.sum(nJetVBF) / (2 * len(nJetVBF)))\n",
    "print(jetBtag_unflatten)\n",
    "mask_two = nJetVBF == 2\n",
    "print(ak.sum(mask_two) / len(nJetVBF))\n",
    "mask_one = nJetVBF == 1\n",
    "print(ak.sum(mask_one) / len(nJetVBF))\n",
    "mask_zero = nJetVBF == 0\n",
    "print(ak.sum(mask_zero) / len(nJetVBF))\n",
    "weight = col[\"4b_region\"][\"weight\"].value\n",
    "mask_negative = weight < 0\n",
    "print(weight[mask_negative])\n",
    "mask_not_none = jetBtag > -2\n",
    "mask_medium = jetBtag >0.2605\n",
    "# print(len(jetBtag[mask_medium]) /len(jetBtag[mask_not_none]))\n",
    "# plt.hist(jetBtag)"
   ]
  },
  {
   "cell_type": "code",
   "execution_count": null,
   "metadata": {},
   "outputs": [
    {
     "name": "stdout",
     "output_type": "stream",
     "text": [
      "[170.54393   21.140991 130.32283  ... 160.3455   346.12814   38.199215]\n"
     ]
    }
   ],
   "source": [
    "FromHiggs_pt = col[\"4b_VBFtight_njet_vbf_region\"][\"JetGoodFromHiggsOrdered_pt\"].value\n",
    "# print(FromHiggs_pt)\n",
    "VBF_pt = col[\"4b_VBFtight_njet_vbf_region\"][\"JetVBFLeadingPtNotFromHiggs_pt\"].value\n",
    "print(VBF_pt)"
   ]
  },
  {
   "cell_type": "code",
   "execution_count": null,
   "metadata": {},
   "outputs": [
    {
     "name": "stdout",
     "output_type": "stream",
     "text": [
      "[[2 4 1 3]\n",
      " [1 3 6 7]\n",
      " [1 3 2 6]\n",
      " [0 4 2 5]\n",
      " [2 1 3 5]\n",
      " [0 3 2 4]\n",
      " [0 4 1 5]\n",
      " [0 5 1 4]]\n",
      "[0 5 6 0 2 5 4 8 0 4]\n",
      "[0 5 0 2 0 4 1 3]\n",
      "[0. 6. 0. 2. 4. 5. 1. 3.]\n",
      "[1. 0. 6. 0. 2. 4. 3. 0.]\n",
      "\n"
     ]
    }
   ],
   "source": [
    "VBFnotLeadingPtFromHiggs_index = col[\"4b_VBFtight_njet_vbf_region\"][\"JetVBFLeadingPtNotFromHiggs_index\"].value\n",
    "VBFnotFromHiggs_index = col[\"4b_VBFtight_njet_vbf_region\"][\"JetVBFNotFromHiggs_index\"].value\n",
    "stop = 8\n",
    "FromHiggs_index = col[\"4b_VBFtight_njet_vbf_region\"][\"JetGoodFromHiggsOrdered_index\"].value\n",
    "VFBgeneralSelection_index = col[\"4b_VBFtight_njet_vbf_region\"][\"JetVBF_generalSelection_matched_index\"].value\n",
    "VFBgeneralSelection_index2 = col[\"4b_region\"][\"JetVBF_generalSelection_matched_index\"].value\n",
    "\n",
    "# print(np.reshape(VFBgeneralSelection_index, (-1, 2))[0:stop])\n",
    "# print(np.reshape(VBFnotLeadingPtFromHiggs_index, (-1, 2))[0:stop])\n",
    "# # print(np.reshape(VBF_index[0:stop], (-1,2)))\n",
    "print(FromHiggs_index[0:stop])\n",
    "print(VBFnotFromHiggs_index[0:stop + 2])\n",
    "print(VBFnotLeadingPtFromHiggs_index[0:stop])\n",
    "print(VFBgeneralSelection_index[0:stop])\n",
    "print(VFBgeneralSelection_index2[0:stop])\n",
    "print()"
   ]
  },
  {
   "cell_type": "markdown",
   "metadata": {},
   "source": [
    "# VBF matching efficiency"
   ]
  },
  {
   "cell_type": "code",
   "execution_count": null,
   "metadata": {},
   "outputs": [
    {
     "name": "stdout",
     "output_type": "stream",
     "text": [
      "Matching efficinecy in 4b_region: \n",
      "\n",
      "VBF_matched: 0.8606975184439973\n",
      "VBF_generalSelection_matched: 0.8511066398390342\n",
      "VBFLeadingPtnotFromHiggs: 1.0\n",
      "7455\n",
      "7455\n"
     ]
    }
   ],
   "source": [
    "VBFnotLeadingPtFromHiggs_index = col[\"4b_region\"][\"JetVBFLeadingPtNotFromHiggs_index\"].value\n",
    "VFBgeneralSelection_index = col[\"4b_region\"][\"JetVBF_generalSelection_matched_index\"].value\n",
    "VBF_matched_index = col[\"4b_region\"][\"JetVBF_matched_index\"].value\n",
    "Jet_index = col[\"4b_region\"][\"Jet_index\"].value\n",
    "Jet_N = col[\"4b_region\"][\"Jet_N\"].value\n",
    "\n",
    "print(\"Matching efficinecy in 4b_region:\", \"\\n\")\n",
    "print(\"VBF_matched:\", len(VBF_matched_index) / (2 * cuts_dict[\"4b_region\"]))\n",
    "print(\"VBF_generalSelection_matched:\", len(VFBgeneralSelection_index) / (2*len(Jet_N)))\n",
    "print(\"VBFLeadingPtnotFromHiggs:\", len(VBFnotLeadingPtFromHiggs_index) / (2*len(Jet_N)))\n",
    "print(len(Jet_N))\n",
    "print(cuts_dict[\"4b_region\"])"
   ]
  },
  {
   "cell_type": "code",
   "execution_count": null,
   "metadata": {},
   "outputs": [
    {
     "name": "stdout",
     "output_type": "stream",
     "text": [
      "Matching efficinecy in 4b_VBFtight_njet_vbf_region: \n",
      "\n",
      "VBF_matched: 0.27022904519398727\n",
      "VBF_generalSelection_matched: 0.2669815730558221\n",
      "VBFLeadingPtnotFromHiggs: 0.27022904519398727\n"
     ]
    }
   ],
   "source": [
    "VFBgeneralSelection_index = col[\"4b_VBFtight_njet_vbf_region\"][\"JetVBF_generalSelection_matched_index\"].value\n",
    "VBF_matched_index = col[\"4b_VBFtight_njet_vbf_region\"][\"JetVBF_matched_index\"].value\n",
    "Jet_index = col[\"4b_VBFtight_njet_vbf_region\"][\"Jet_index\"].value\n",
    "\n",
    "print(\"Matching efficinecy in 4b_VBFtight_njet_vbf_region:\", \"\\n\")\n",
    "print(\"VBF_matched:\", len(VBF_matched_index) / len(Jet_index))\n",
    "print(\"VBF_generalSelection_matched:\", len(VFBgeneralSelection_index) / len(Jet_index))\n",
    "print(\"VBFLeadingPtnotFromHiggs:\", len(VBFnotLeadingPtFromHiggs_index) / len(Jet_index))"
   ]
  },
  {
   "cell_type": "code",
   "execution_count": null,
   "metadata": {},
   "outputs": [
    {
     "name": "stdout",
     "output_type": "stream",
     "text": [
      "[4.7905273 4.6987305 3.9665527 ... 2.9509277 1.0402164 7.2128906]\n"
     ]
    }
   ],
   "source": [
    "VBFnotFromHiggs_eta = col[\"4b_region\"][\"events_JetVBFLeadingPtNotFromHiggs_deltaEta\"].value\n",
    "print(VBFnotFromHiggs_eta)\n",
    "# print(len(VBFnotFromHiggs_eta[0::2]))\n",
    "# print(len(VBFnotFromHiggs_eta[1::2]))\n",
    "# print(abs(VBFnotFromHiggs_eta[0::2]-VBFnotFromHiggs_eta[1::2]))"
   ]
  },
  {
   "cell_type": "code",
   "execution_count": null,
   "metadata": {},
   "outputs": [],
   "source": [
    "VBFnotFromHiggs_eta = col[\"4b_region\"][\"even\"].value"
   ]
  }
 ],
 "metadata": {
  "kernelspec": {
   "display_name": "pocket-coffea",
   "language": "python",
   "name": "python3"
  },
  "language_info": {
   "codemirror_mode": {
    "name": "ipython",
    "version": 3
   },
   "file_extension": ".py",
   "mimetype": "text/x-python",
   "name": "python",
   "nbconvert_exporter": "python",
   "pygments_lexer": "ipython3",
   "version": "3.9.19"
  }
 },
 "nbformat": 4,
 "nbformat_minor": 2
}
