{
 "cells": [
  {
   "cell_type": "code",
   "execution_count": 12,
   "metadata": {},
   "outputs": [],
   "source": [
    "# load a coffea file\n",
    "from coffea.util import load\n",
    "import os\n",
    "import awkward as ak\n",
    "import numpy as np\n",
    "import matplotlib.pyplot as plt\n",
    "import mplhep as hep\n",
    "import matplotlib\n",
    "import re\n",
    "matplotlib.rcParams[\"figure.dpi\"] = 300\n"
   ]
  },
  {
   "cell_type": "markdown",
   "metadata": {},
   "source": [
    "# Load file"
   ]
  },
  {
   "cell_type": "code",
   "execution_count": 13,
   "metadata": {},
   "outputs": [],
   "source": [
    "# input = \"/work/rcereghetti/out_vbfhh4b/output_vbf_matching3/output_all.coffea\"\n",
    "# o = load(f\"{input}\")\n",
    "input = \"/work/rcereghetti/out_vbfhh4b/out_test/output_all.coffea\"\n",
    "o = load(f\"{input}\")"
   ]
  },
  {
   "cell_type": "markdown",
   "metadata": {},
   "source": [
    "# Function to extract the cut string"
   ]
  },
  {
   "cell_type": "code",
   "execution_count": 14,
   "metadata": {},
   "outputs": [],
   "source": [
    "def remove_if_found(word, substring):\n",
    "    if substring in word:\n",
    "        return word.replace(substring, '')\n",
    "    return word  # Restituisce la parola invariata se la sottostringa non è trovata"
   ]
  },
  {
   "cell_type": "markdown",
   "metadata": {},
   "source": [
    "# Create a dictionary with number of events for every step and region"
   ]
  },
  {
   "cell_type": "code",
   "execution_count": 15,
   "metadata": {},
   "outputs": [
    {
     "name": "stdout",
     "output_type": "stream",
     "text": [
      "initial\n",
      "204633\n",
      "skim\n",
      "44944\n",
      "presel\n",
      "31646\n",
      "4b_region\n",
      "{'VBF_HHto4B': 8576}\n",
      "4b_VBFtight_njet_vbf_region\n",
      "{'VBF_HHto4B': 5083}\n"
     ]
    }
   ],
   "source": [
    "cuts_dict = {}\n",
    "\n",
    "pattern = r'^[^_]+_[^_]+_([^_]+)_region'\n",
    "\n",
    "for k in o[\"cutflow\"].keys(): \n",
    "    print(k)   \n",
    "    if \"VBFtight\" in k and \"VBFtight_region\" not in k:\n",
    "        a = remove_if_found(k, \"4b_\")\n",
    "        b = remove_if_found(a, \"_region\")\n",
    "        c = remove_if_found(b, \"VBFtight_\")\n",
    "        string = c\n",
    "    else: string = k\n",
    "    for kk in o[\"cutflow\"][k].keys():\n",
    "        print(o['cutflow'][k][kk])\n",
    "        if isinstance(o['cutflow'][k][kk], int):\n",
    "            cuts_dict[string] = o['cutflow'][k][kk]\n",
    "        else:\n",
    "            cuts_dict[string] = o['cutflow'][k][kk]['VBF_HHto4B']\n"
   ]
  },
  {
   "cell_type": "markdown",
   "metadata": {},
   "source": [
    "# b"
   ]
  },
  {
   "cell_type": "code",
   "execution_count": 16,
   "metadata": {},
   "outputs": [
    {
     "name": "stdout",
     "output_type": "stream",
     "text": [
      "Efficiency for njet_vbf with respect to 4b_region: 0.5927005597014925\n"
     ]
    }
   ],
   "source": [
    "cuts_list = list(cuts_dict)\n",
    "\n",
    "for i in range(4, len(cuts_list)):\n",
    "    print(f\"Efficiency for {cuts_list[i]} with respect to 4b_region: {cuts_dict[cuts_list[i]] / cuts_dict['4b_region']}\")"
   ]
  },
  {
   "cell_type": "code",
   "execution_count": null,
   "metadata": {},
   "outputs": [],
   "source": []
  }
 ],
 "metadata": {
  "kernelspec": {
   "display_name": "Python 3",
   "language": "python",
   "name": "python3"
  },
  "language_info": {
   "codemirror_mode": {
    "name": "ipython",
    "version": 3
   },
   "file_extension": ".py",
   "mimetype": "text/x-python",
   "name": "python",
   "nbconvert_exporter": "python",
   "pygments_lexer": "ipython3",
   "version": "3.9.19"
  }
 },
 "nbformat": 4,
 "nbformat_minor": 2
}
