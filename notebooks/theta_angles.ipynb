{
 "cells": [
  {
   "cell_type": "code",
   "execution_count": 1,
   "metadata": {},
   "outputs": [],
   "source": [
    "import uproot\n",
    "import awkward as ak\n",
    "import numpy as np\n",
    "import vector\n",
    "vector.register_numba()\n",
    "vector.register_awkward()\n"
   ]
  },
  {
   "cell_type": "code",
   "execution_count": 2,
   "metadata": {},
   "outputs": [],
   "source": [
    "columns = [\n",
    "    \"era\",\n",
    "    \"higgs1_reco_pt\",\n",
    "    \"higgs1_reco_eta\",\n",
    "    \"higgs1_reco_phi\",\n",
    "    \"higgs1_reco_mass\",\n",
    "    \"higgs2_reco_pt\",\n",
    "    \"higgs2_reco_eta\",\n",
    "    \"higgs2_reco_phi\",\n",
    "    \"higgs2_reco_mass\",\n",
    "    \"HT\",\n",
    "    \"higgs1_DeltaRjj\",\n",
    "    \"higgs2_DeltaRjj\",\n",
    "    \"minDeltaR_Higgjj\",\n",
    "    \"maxDeltaR_Higgjj\",\n",
    "    \"higgs1_helicityCosTheta\",\n",
    "    \"higgs2_helicityCosTheta\",\n",
    "    \"hh_CosThetaStar_CS\",\n",
    "    \"hh_vec_mass\",\n",
    "    \"hh_vec_pt\",\n",
    "    \"hh_vec_eta\",\n",
    "    \"hh_vec_DeltaR\",\n",
    "    \"hh_vec_DeltaPhi\",\n",
    "    \"hh_vec_DeltaEta\",\n",
    "    \"higgs1_reco_jet1_pt\",\n",
    "    \"higgs1_reco_jet1_eta\",\n",
    "    \"higgs1_reco_jet1_phi\",\n",
    "    \"higgs1_reco_jet1_mass\",\n",
    "    \"higgs1_reco_jet2_pt\",\n",
    "    \"higgs1_reco_jet2_eta\",\n",
    "    \"higgs1_reco_jet2_phi\",\n",
    "    \"higgs1_reco_jet2_mass\",\n",
    "    \"higgs2_reco_jet1_pt\",\n",
    "    \"higgs2_reco_jet1_eta\",\n",
    "    \"higgs2_reco_jet1_phi\",\n",
    "    \"higgs2_reco_jet1_mass\",\n",
    "    \"higgs2_reco_jet2_pt\",\n",
    "    \"higgs2_reco_jet2_eta\",\n",
    "    \"higgs2_reco_jet2_phi\",\n",
    "    \"higgs2_reco_jet2_mass\",\n",
    "    \"add_jet1pt_pt\",\n",
    "    \"add_jet1pt_eta\",\n",
    "    \"add_jet1pt_phi\",\n",
    "    \"add_jet1pt_mass\",\n",
    "    \"sigma_over_higgs1_reco_mass\",\n",
    "    \"sigma_over_higgs2_reco_mass\",\n",
    "]\n",
    "main_dir='/pnfs/psi.ch/cms/trivcat/store/user/mmalucch/keras_models_morphing'\n"
   ]
  },
  {
   "cell_type": "code",
   "execution_count": 6,
   "metadata": {},
   "outputs": [
    {
     "name": "stdout",
     "output_type": "stream",
     "text": [
      "['era', 'event', 'HT', 'jet_pt', 'jet_pt_raw', 'jet_eta', 'jet_phi', 'jet_mass', 'jet_mass_raw', 'jet_deepjet_probBVsAll', 'jet_pnet_probBVsAll', 'jet_pnet_probTauVsJet', 'jet_pnet_probb', 'jet_pnet_probc', 'jet_pnet_probuds', 'jet_pnet_probtauh', 'jet_pnet_ptcorr', 'jet_pnet_ptnu', 'jet_pnet_ptres', 'jet_pnet_jec_L1L2L3', 'jet_pnet_jec_L2Rel', 'jet_pnet_jec_L2L3Res', 'btag_cat', 'weight', 'is_boosted', 'weight_dnn', 'sigma_higgs1', 'sigma_over_higgs1_reco_mass', 'higgs1_reco_pt', 'higgs1_reco_eta', 'higgs1_reco_phi', 'higgs1_reco_mass', 'sigma_higgs2', 'sigma_over_higgs2_reco_mass', 'higgs2_reco_pt', 'higgs2_reco_eta', 'higgs2_reco_phi', 'higgs2_reco_mass', 'hh_vec_mass', 'hh_vec_pt', 'hh_vec_eta', 'hh_vec_phi', 'hh_vec_DeltaR', 'hh_vec_DeltaPhi', 'hh_vec_DeltaEta', 'hh_vec_ptOmass', 'njet', 'higgs1_reco_jet1_pt', 'higgs1_reco_jet1_eta', 'higgs1_reco_jet1_phi', 'higgs1_reco_jet1_mass', 'higgs1_reco_jet2_pt', 'higgs1_reco_jet2_eta', 'higgs1_reco_jet2_phi', 'higgs1_reco_jet2_mass', 'higgs1_DeltaPhijj', 'higgs1_DeltaEtajj', 'higgs1_DeltaRjj', 'higgs2_reco_jet1_pt', 'higgs2_reco_jet1_eta', 'higgs2_reco_jet1_phi', 'higgs2_reco_jet1_mass', 'higgs2_reco_jet2_pt', 'higgs2_reco_jet2_eta', 'higgs2_reco_jet2_phi', 'higgs2_reco_jet2_mass', 'higgs2_DeltaPhijj', 'higgs2_DeltaEtajj', 'higgs2_DeltaRjj', 'minDeltaR_Higgjj', 'maxDeltaR_Higgjj', 'higgs1_helicityCosTheta', 'higgs2_helicityCosTheta', 'hh_CosThetaStar_CS', 'higgs1_wp1_reco_pt', 'higgs1_wp1_reco_eta', 'higgs1_wp1_reco_phi', 'higgs1_wp1_reco_mass', 'higgs1_wp1_DeltaRjj', 'higgs2_wp1_reco_pt', 'higgs2_wp1_reco_eta', 'higgs2_wp1_reco_phi', 'higgs2_wp1_reco_mass', 'higgs2_wp1_DeltaRjj', 'hh_vec_wp1_DeltaR', 'hh_wp1_CosThetaStar_CS', 'higgs1_wp2_reco_pt', 'higgs1_wp2_reco_eta', 'higgs1_wp2_reco_phi', 'higgs1_wp2_reco_mass', 'higgs1_wp2_DeltaRjj', 'higgs2_wp2_reco_pt', 'higgs2_wp2_reco_eta', 'higgs2_wp2_reco_phi', 'higgs2_wp2_reco_mass', 'higgs2_wp2_DeltaRjj', 'hh_vec_wp2_DeltaR', 'hh_wp2_CosThetaStar_CS', 'higgs_ST', 'jet4pt_pt', 'add_jet1pt_pt', 'add_jet1pt_eta', 'add_jet1pt_phi', 'add_jet1pt_mass', 'add_jet1pt_Higgs1_deta', 'add_jet1pt_Higgs1_dphi', 'add_jet1pt_Higgs1_m', 'add_jet1pt_Higgs2_deta', 'add_jet1pt_Higgs2_dphi', 'add_jet1pt_Higgs2_m']\n",
      "jet_pnet_ptres\n"
     ]
    }
   ],
   "source": [
    "input_root=f'/pnfs/psi.ch/cms/trivcat/store/user/mmalucch/JetMET_2022EE_2b_signal_region_to_4b_soumya_january2025.root'\n",
    "tree=uproot.open(input_root)[\"tree\"]\n",
    "print(tree.keys())\n",
    "for k in tree.keys():\n",
    "    if \"res\" in k:\n",
    "        print(k)\n",
    "    if \"index\" in k or \"idx\" in k:\n",
    "        print(k)\n"
   ]
  },
  {
   "cell_type": "markdown",
   "metadata": {},
   "source": [
    "get the columns from the tree"
   ]
  },
  {
   "cell_type": "code",
   "execution_count": 105,
   "metadata": {},
   "outputs": [
    {
     "name": "stdout",
     "output_type": "stream",
     "text": [
      "[{era: 1, event: 688250681, HT: 321, ... add_jet1pt_Higgs2_m: 223}] <class 'awkward.highlevel.Array'> 3\n"
     ]
    }
   ],
   "source": [
    "n_events = 3\n",
    "events = tree.arrays(tree.keys(), library=\"ak\")[:n_events]\n",
    "print(events[:n_events] , type(events.era), len(events['era']))\n"
   ]
  },
  {
   "cell_type": "code",
   "execution_count": 113,
   "metadata": {},
   "outputs": [
    {
     "name": "stdout",
     "output_type": "stream",
     "text": [
      "[0.0833, 0.107, 0.0626, 0.12, 0.194]\n",
      "[123, 82.9, 79.4, 76.9, 32]\n",
      "122.9034652709961\n",
      "76.88542938232422\n",
      "79.41437530517578\n",
      "32.01162338256836\n"
     ]
    }
   ],
   "source": [
    "print(events.jet_pnet_ptres[2])\n",
    "print(events.jet_pt[2])\n",
    "print(events.higgs1_reco_jet1_pt[2])\n",
    "print(events.higgs1_reco_jet2_pt[2])\n",
    "print(events.higgs2_reco_jet1_pt[2])\n",
    "print(events.higgs2_reco_jet2_pt[2])"
   ]
  },
  {
   "cell_type": "code",
   "execution_count": 114,
   "metadata": {},
   "outputs": [],
   "source": [
    "# given his snippet of code in c++ translate in python using akward arrays and vectors\n",
    "\n",
    "# float HelicityCosTheta(TLorentzVector Booster, TLorentzVector Boosted)\n",
    "# {\n",
    "#     TVector3 BoostVector = Booster.BoostVector();\n",
    "#     Boosted.Boost( -BoostVector.x(), -BoostVector.y(), -BoostVector.z() );\n",
    "#     return Boosted.CosTheta();\n",
    "# }\n",
    "\n",
    "# higgs1_helicityCosTheta =fabs(HelicityCosTheta( leadingHiggsCands.at(best_pairing_index)  ,  leading_higgs_leading_jet ));\n",
    "# higgs2_helicityCosTheta =fabs(HelicityCosTheta( subleadingHiggsCands.at(best_pairing_index), subleading_higgs_leading_jet ));\n",
    "\n",
    "# //Costhetastar in CS frame\n",
    "# cosine of the polar angle of one Higgs boson with respect to the beam axis in the HH rest frame\n",
    "# TLorentzVector higgs1_vec;\n",
    "# higgs1_vec =  leadingHiggsCands.at(best_pairing_index);\n",
    "# higgs1_vec.Boost( - hh_vec.BoostVector());\n",
    "# hh_CosThetaStar_CS = fabs(higgs1_vec.CosTheta());\n",
    "\n",
    "\n",
    "def HelicityCosTheta(higgs, jet):\n",
    "    # print(\"jet px\",jet.px)\n",
    "    # print(\"higgs px\",higgs.px)\n",
    "    # print(\"jet theta\",jet.theta)\n",
    "    higgs_velocity = higgs.to_beta3()\n",
    "    jet = jet.boost_beta3(-higgs_velocity)\n",
    "    # print(\"jet px\",jet.px)\n",
    "    # print(\"jet theta\",jet.theta)\n",
    "    return np.cos(jet.theta)\n",
    "\n",
    "\n",
    "def Costhetastar_CS(higgs1_vec, hh_vec):\n",
    "    # print(\"px\",higgs1_vec.px)\n",
    "    # print(\"theta\",higgs1_vec.theta)\n",
    "    hh_velocity = hh_vec.to_beta3()\n",
    "    higgs1_vec = higgs1_vec.boost_beta3(-hh_velocity)\n",
    "    # print(\"px\",higgs1_vec.px)\n",
    "    # print(\"theta\",higgs1_vec.theta)\n",
    "    return abs(np.cos(higgs1_vec.theta))\n"
   ]
  },
  {
   "cell_type": "code",
   "execution_count": 120,
   "metadata": {},
   "outputs": [
    {
     "name": "stdout",
     "output_type": "stream",
     "text": [
      "[{pt: 115, eta: -0.585, phi: 0.511, mass: 128}, ... phi: 2.76, mass: 134}] <class 'vector.backends.awkward.MomentumArray4D'>\n",
      "[99.9, 85.4, -166]\n",
      "[19.8, 15.2, 105]\n",
      "[120, 101, -60.1] \n",
      "\n",
      "\n",
      "[0.086, 0.0826, 0.0833]\n",
      "[0.111, 0.117, 0.12]\n",
      "[0.0744, 0.135, 0.0626]\n",
      "[0.193, 0.242, 0.194]\n"
     ]
    }
   ],
   "source": [
    "\n",
    "higgs1_vec = ak.zip(\n",
    "    {\n",
    "        \"pt\": events.higgs1_reco_pt,\n",
    "        \"eta\": events.higgs1_reco_eta,\n",
    "        \"phi\": events.higgs1_reco_phi,\n",
    "        \"mass\": events.higgs1_reco_mass,\n",
    "    },\n",
    "    with_name=\"Momentum4D\",\n",
    ")\n",
    "higgs2_vec = ak.zip(\n",
    "    {\n",
    "        \"pt\": events.higgs2_reco_pt,\n",
    "        \"eta\": events.higgs2_reco_eta,\n",
    "        \"phi\": events.higgs2_reco_phi,\n",
    "        \"mass\": events.higgs2_reco_mass,\n",
    "    },\n",
    "    with_name=\"Momentum4D\",\n",
    ")\n",
    "print(higgs1_vec, type(higgs1_vec))\n",
    "print(higgs1_vec.px)\n",
    "print(higgs2_vec.px)\n",
    "hh_vec = higgs1_vec + higgs2_vec\n",
    "print(hh_vec.px, '\\n\\n')\n",
    "\n",
    "higgs1_jet1_vec = ak.zip(\n",
    "    {\n",
    "        \"pt\": events.higgs1_reco_jet1_pt,\n",
    "        \"eta\": events.higgs1_reco_jet1_eta,\n",
    "        \"phi\": events.higgs1_reco_jet1_phi,\n",
    "        \"mass\": events.higgs1_reco_jet1_mass,\n",
    "    },\n",
    "    with_name=\"Momentum4D\",\n",
    ")\n",
    "higgs1_jet2_vec = ak.zip(\n",
    "    {\n",
    "        \"pt\": events.higgs1_reco_jet2_pt,\n",
    "        \"eta\": events.higgs1_reco_jet2_eta,\n",
    "        \"phi\": events.higgs1_reco_jet2_phi,\n",
    "        \"mass\": events.higgs1_reco_jet2_mass,\n",
    "    },\n",
    "    with_name=\"Momentum4D\",\n",
    ")\n",
    "higgs2_jet1_vec = ak.zip(\n",
    "    {\n",
    "        \"pt\": events.higgs2_reco_jet1_pt,\n",
    "        \"eta\": events.higgs2_reco_jet1_eta,\n",
    "        \"phi\": events.higgs2_reco_jet1_phi,\n",
    "        \"mass\": events.higgs2_reco_jet1_mass,\n",
    "    },\n",
    "    with_name=\"Momentum4D\",\n",
    ")\n",
    "higgs2_jet2_vec = ak.zip(\n",
    "    {\n",
    "        \"pt\": events.higgs2_reco_jet2_pt,\n",
    "        \"eta\": events.higgs2_reco_jet2_eta,\n",
    "        \"phi\": events.higgs2_reco_jet2_phi,\n",
    "        \"mass\": events.higgs2_reco_jet2_mass,\n",
    "    },\n",
    "    with_name=\"Momentum4D\",\n",
    ")\n",
    "\n",
    "higgs1_jet1_vec=ak.with_field(higgs1_jet1_vec, events.jet_pnet_ptres[:, 0], \"ptres\")\n",
    "print(higgs1_jet1_vec.ptres)\n",
    "higgs1_jet2_vec=ak.with_field(higgs1_jet2_vec, events.jet_pnet_ptres[:, -2], \"ptres\")\n",
    "print(higgs1_jet2_vec.ptres)\n",
    "higgs2_jet1_vec=ak.with_field(higgs2_jet1_vec, events.jet_pnet_ptres[:, -3], \"ptres\")\n",
    "print(higgs2_jet1_vec.ptres)\n",
    "higgs2_jet2_vec=ak.with_field(higgs2_jet2_vec, events.jet_pnet_ptres[:, -1], \"ptres\")\n",
    "print(higgs2_jet2_vec.ptres)\n"
   ]
  },
  {
   "cell_type": "code",
   "execution_count": null,
   "metadata": {},
   "outputs": [],
   "source": []
  },
  {
   "cell_type": "code",
   "execution_count": 121,
   "metadata": {},
   "outputs": [
    {
     "name": "stdout",
     "output_type": "stream",
     "text": [
      "[0.117, 0.189, 0.714]\n",
      "[0.0587, 0.961, 0.9]\n",
      "[0.405, 0.57, 0.737]\n",
      "[0.117, 0.189, 0.714]\n",
      "[0.0587, 0.961, 0.9]\n",
      "[0.405, 0.57, 0.737]\n"
     ]
    }
   ],
   "source": [
    "\n",
    "higgs1_helicityCosTheta = abs(HelicityCosTheta(higgs1_vec, higgs1_jet1_vec))\n",
    "higgs2_helicityCosTheta = abs(HelicityCosTheta(higgs2_vec, higgs2_jet1_vec))\n",
    "hh_CosThetaStar_CS = abs(Costhetastar_CS(higgs1_vec, hh_vec))\n",
    "print(higgs1_helicityCosTheta)\n",
    "print(higgs2_helicityCosTheta)\n",
    "print(hh_CosThetaStar_CS)\n",
    "print(events.higgs1_helicityCosTheta)\n",
    "print(events.higgs2_helicityCosTheta)\n",
    "print(events.hh_CosThetaStar_CS)\n"
   ]
  },
  {
   "cell_type": "code",
   "execution_count": 122,
   "metadata": {},
   "outputs": [],
   "source": [
    "\n",
    "def get_sigma_mbb(jet1, jet2):\n",
    "    jet1_up=jet1*(1+jet1.ptres)\n",
    "    jet2_up=jet2*(1+jet2.ptres)\n",
    "\n",
    "    jet1_down=jet1*(1-jet1.ptres)\n",
    "    jet2_down=jet2*(1-jet2.ptres)\n",
    "\n",
    "\n",
    "    jet1_up_sigma=ak.singletons(abs((jet1+jet2).mass-(jet1_up+jet2).mass))\n",
    "    jet1_down_sigma=ak.singletons(abs((jet1+jet2).mass-(jet1_down+jet2).mass))\n",
    "    # print(jet1_up_sigma)\n",
    "    # print(jet1_down_sigma)\n",
    "    jet1_sigma_conc=ak.concatenate((jet1_up_sigma,jet1_down_sigma), axis=1)\n",
    "    # print(jet1_sigma_conc)\n",
    "    sigma_hbbCand_A=ak.max(jet1_sigma_conc, axis=1)\n",
    "    # print(np.sqrt(sigma_hbbCand_A**2))\n",
    "\n",
    "    jet2_up_sigma=ak.singletons(abs((jet1+jet2).mass-(jet1+jet2_up).mass))\n",
    "    jet2_down_sigma=ak.singletons(abs((jet1+jet2).mass-(jet1+jet2_down).mass))\n",
    "    # print(jet2_up_sigma)\n",
    "    # print(jet2_down_sigma)\n",
    "    jet2_sigma_conc=ak.concatenate((jet2_up_sigma,jet2_down_sigma), axis=1)\n",
    "    # print(jet2_sigma_conc)\n",
    "    sigma_hbbCand_B=ak.max(jet2_sigma_conc, axis=1)\n",
    "    # print(np.sqrt(sigma_hbbCand_B**2))\n",
    "\n",
    "    return np.sqrt(sigma_hbbCand_A**2+sigma_hbbCand_B**2)"
   ]
  },
  {
   "cell_type": "code",
   "execution_count": 123,
   "metadata": {},
   "outputs": [
    {
     "name": "stdout",
     "output_type": "stream",
     "text": [
      "[0.0717, 0.0724, 0.0748]\n",
      "[0.11, 0.132, 0.0748]\n",
      "\n",
      " [0.108, 0.147, 0.107]\n",
      "[0.0682, 0.092, 0.107]\n"
     ]
    }
   ],
   "source": [
    "sigma_mbb_norm_higgs1=get_sigma_mbb(higgs1_jet1_vec, higgs1_jet2_vec)/higgs1_vec.mass\n",
    "print(sigma_mbb_norm_higgs1)\n",
    "print(events.sigma_over_higgs1_reco_mass)\n",
    "\n",
    "sigma_mbb_norm_higgs2=get_sigma_mbb(higgs2_jet1_vec, higgs2_jet2_vec)/higgs2_vec.mass\n",
    "print(\"\\n\",sigma_mbb_norm_higgs2)\n",
    "print(events.sigma_over_higgs2_reco_mass)"
   ]
  },
  {
   "cell_type": "code",
   "execution_count": 124,
   "metadata": {},
   "outputs": [
    {
     "ename": "SystemExit",
     "evalue": "",
     "output_type": "error",
     "traceback": [
      "An exception has occurred, use %tb to see the full traceback.\n",
      "\u001b[0;31mSystemExit\u001b[0m\n"
     ]
    }
   ],
   "source": [
    "raise SystemExit"
   ]
  },
  {
   "cell_type": "markdown",
   "metadata": {},
   "source": [
    "# degug"
   ]
  },
  {
   "cell_type": "code",
   "execution_count": null,
   "metadata": {},
   "outputs": [
    {
     "name": "stdout",
     "output_type": "stream",
     "text": [
      "{rho: 0.617, phi: 0.511, eta: -0.585, pt: 115, mass: 128}\n",
      "{x: 290, y: 163, z: -206, tau: 128, pt: 115, mass: 128}\n",
      "{pt: 115, eta: -0.585, phi: 0.511, mass: 128}\n",
      "<class 'vector.backends.awkward.MomentumArray4D'>\n",
      "185.758544921875\n",
      "114.53314961865229\n"
     ]
    }
   ],
   "source": [
    "boosted = higgs1_vec.boost(higgs1_vec.to_beta3())\n",
    "\n",
    "print(higgs1_vec.to_beta3()[0])\n",
    "print(boosted[0])\n",
    "print(higgs1_vec[0])\n",
    "print(type(higgs1_vec))\n",
    "print(higgs1_vec.E[0])\n",
    "print(np.sqrt(higgs1_vec.px[0]**2+higgs1_vec.py[0]**2))\n"
   ]
  },
  {
   "cell_type": "code",
   "execution_count": null,
   "metadata": {},
   "outputs": [
    {
     "name": "stdout",
     "output_type": "stream",
     "text": [
      "1.0\n",
      "0.0\n",
      "0.0\n",
      "1.4142135623730951\n",
      "6.661338147750939e-16\n",
      "-1.2246467991473522e-16\n",
      "-1.2246467991473522e-16\n",
      "0.0\n",
      "0.0\n",
      "{x: 6.66e-16, y: -1.22e-16, z: 0, tau: 1, pt: 1, mass: 1}\n"
     ]
    }
   ],
   "source": [
    "v = ak.zip(\n",
    "    {\n",
    "        \"pt\": 1,\n",
    "        \"eta\": 0,\n",
    "        \"phi\": 0,\n",
    "        \"mass\": 1,\n",
    "    },\n",
    "    with_name=\"Momentum4D\",\n",
    ")\n",
    "print(v.px)\n",
    "print(v.py)\n",
    "print(v.pz)\n",
    "print(v.gamma)\n",
    "v1=v.boost(-v)\n",
    "print(v1.px)\n",
    "print(v1.py)\n",
    "print(v1.y)\n",
    "print(v1.pz)\n",
    "print(v1.z)\n",
    "print(v1)"
   ]
  },
  {
   "cell_type": "code",
   "execution_count": null,
   "metadata": {},
   "outputs": [
    {
     "name": "stdout",
     "output_type": "stream",
     "text": [
      "2.8284271247461903\n",
      "0.0\n",
      "0.0\n",
      "0.0\n",
      "0.0\n",
      "3.0000000000000004\n",
      "{x: 2.83, y: 0, z: 0, tau: 1, pt: 1, mass: 1}\n"
     ]
    }
   ],
   "source": [
    "v1=v.boost(v)\n",
    "print(v1.px)\n",
    "print(v1.py)\n",
    "print(v1.y)\n",
    "print(v1.pz)\n",
    "print(v1.z)\n",
    "print(v1.gamma)\n",
    "print(v1)"
   ]
  },
  {
   "cell_type": "code",
   "execution_count": null,
   "metadata": {},
   "outputs": [
    {
     "name": "stdout",
     "output_type": "stream",
     "text": [
      "3\n",
      "4\n",
      "5.0\n",
      "8.660254037844387 8.660254037844387\n",
      "{x: -2.19, y: -1.25, z: 5, t: -8.08, E: 8, px: -2, py: -1, pz: 5}\n"
     ]
    }
   ],
   "source": [
    "p1=ak.zip(\n",
    "    {\n",
    "        \"E\": 10,\n",
    "        \"px\": 3,\n",
    "        \"py\": 4,\n",
    "        \"pz\": 0,\n",
    "    },\n",
    "    with_name=\"Momentum4D\",\n",
    ")\n",
    "p2=ak.zip(\n",
    "    {\n",
    "        \"E\": 8,\n",
    "        \"px\": -2,\n",
    "        \"py\": -1,\n",
    "        \"pz\": 5,\n",
    "    },\n",
    "    with_name=\"Momentum4D\",\n",
    ")\n",
    "print(p1.px)\n",
    "print(p1.py)\n",
    "print(p1.pt)\n",
    "print(p1.mass,np.sqrt(75))\n",
    "p2_boosted=p2.boost(-p1)\n",
    "print(p2_boosted)"
   ]
  },
  {
   "cell_type": "code",
   "execution_count": null,
   "metadata": {},
   "outputs": [
    {
     "name": "stdout",
     "output_type": "stream",
     "text": [
      "[19.8, 15.2]\n",
      "[19.8, 15.2]\n",
      "[95.3, -104]\n",
      "[95.3, -104]\n",
      "[190, 241]\n",
      "[190, 241]\n",
      "[-0.968, 1.36]\n",
      "[-0.968, 1.36]\n"
     ]
    }
   ],
   "source": [
    "higgs2_vec = ak.zip(\n",
    "    {\n",
    "        \"pt\": events.higgs2_reco_pt,\n",
    "        \"eta\": events.higgs2_reco_eta,\n",
    "        \"phi\": events.higgs2_reco_phi,\n",
    "        \"mass\": events.higgs2_reco_mass,\n",
    "    },\n",
    "    with_name=\"Momentum4D\",\n",
    ")\n",
    "higgs2_vec_alt = ak.zip(\n",
    "    {\n",
    "        \"px\": events.higgs2_reco_pt*np.cos(events.higgs2_reco_phi),\n",
    "        \"py\": events.higgs2_reco_pt*np.sin(events.higgs2_reco_phi),\n",
    "        \"pz\": events.higgs2_reco_pt*np.sinh(events.higgs2_reco_eta),\n",
    "        \"E\": np.sqrt(events.higgs2_reco_pt**2+(events.higgs2_reco_pt*np.sinh(events.higgs2_reco_eta))**2+events.higgs2_reco_mass**2),\n",
    "    },\n",
    "    with_name=\"Momentum4D\",\n",
    ")\n",
    "\n",
    "print(higgs2_vec.px)\n",
    "\n",
    "print(higgs2_vec_alt.px)\n",
    "print(higgs2_vec.py)\n",
    "print(higgs2_vec_alt.py)\n",
    "print(higgs2_vec.E)\n",
    "print(higgs2_vec_alt.E)\n",
    "\n",
    "\n",
    "print(-np.log(np.tan(higgs2_vec.theta/2)))\n",
    "print(events.higgs2_reco_eta)\n"
   ]
  },
  {
   "cell_type": "code",
   "execution_count": null,
   "metadata": {},
   "outputs": [
    {
     "name": "stdout",
     "output_type": "stream",
     "text": [
      "[{pt: 97.3, eta: -0.968, phi: 1.37, mass: 121}, ... phi: -1.43, mass: 102}]\n",
      "[{rho: 97.3, phi: -1.78, eta: 0.968, tau: -121, pt: 97.3, ... pt: 105, mass: 102}]\n",
      "[19.8, 15.2]\n",
      "[-19.8, -15.2]\n",
      "[95.3, -104]\n",
      "[-95.3, 104]\n",
      "[-110, 192]\n",
      "[110, -192]\n",
      "[190, 241]\n",
      "[83.2, 193]\n",
      "[2.42, 0.501]\n",
      "[0.726, 2.64]\n",
      "[1.37, -1.43]\n",
      "[-1.78, 1.72]\n",
      "[121, 102]\n",
      "[-121, -102]\n"
     ]
    }
   ],
   "source": [
    "opp_higgs2_vec=-higgs2_vec\n",
    "print(higgs2_vec)\n",
    "print(opp_higgs2_vec)\n",
    "\n",
    "print(higgs2_vec.px)\n",
    "print(opp_higgs2_vec.px)\n",
    "print(higgs2_vec.py)\n",
    "print(opp_higgs2_vec.py)\n",
    "print(higgs2_vec.pz)\n",
    "print(opp_higgs2_vec.pz)\n",
    "print(higgs2_vec.E)\n",
    "print(opp_higgs2_vec.E)\n",
    "print(higgs2_vec.theta)\n",
    "print(opp_higgs2_vec.theta)\n",
    "print(higgs2_vec.phi)\n",
    "print(opp_higgs2_vec.phi)\n",
    "print(higgs2_vec.mass)\n",
    "print(opp_higgs2_vec.mass)\n"
   ]
  },
  {
   "cell_type": "code",
   "execution_count": null,
   "metadata": {},
   "outputs": [
    {
     "name": "stdout",
     "output_type": "stream",
     "text": [
      "{rho: 0.512, phi: 1.37, eta: -0.968, pt: 97.3, mass: 121}\n",
      "[0.104, 0.0629]\n",
      "[0.104, 0.0629]\n",
      "{rho: 1.17, phi: -1.78, eta: 0.968, pt: 97.3, mass: 121}\n",
      "[-0.238, -0.0784]\n",
      "[-0.238, -0.0784]\n",
      "[19.8, 15.2]\n",
      "[19.8, 15.2]\n",
      "[1.57, 2.37]\n",
      "[0.104, 0.0629]\n"
     ]
    }
   ],
   "source": [
    "velocity=higgs2_vec.to_beta3()\n",
    "print(velocity[0])\n",
    "print(velocity.x)\n",
    "print(velocity.px)\n",
    "\n",
    "velocity=(-higgs2_vec).to_beta3()\n",
    "print(velocity[0])\n",
    "print(velocity.x)\n",
    "print(velocity.px)\n",
    "\n",
    "\n",
    "print(higgs2_vec.x)\n",
    "print(higgs2_vec.px)\n",
    "print(higgs2_vec.gamma)\n",
    "\n",
    "vx=higgs2_vec.px/higgs2_vec.E\n",
    "print(vx)"
   ]
  },
  {
   "cell_type": "code",
   "execution_count": null,
   "metadata": {},
   "outputs": [],
   "source": []
  }
 ],
 "metadata": {
  "kernelspec": {
   "display_name": "Python 3",
   "language": "python",
   "name": "python3"
  },
  "language_info": {
   "codemirror_mode": {
    "name": "ipython",
    "version": 3
   },
   "file_extension": ".py",
   "mimetype": "text/x-python",
   "name": "python",
   "nbconvert_exporter": "python",
   "pygments_lexer": "ipython3",
   "version": "3.9.18"
  }
 },
 "nbformat": 4,
 "nbformat_minor": 2
}
