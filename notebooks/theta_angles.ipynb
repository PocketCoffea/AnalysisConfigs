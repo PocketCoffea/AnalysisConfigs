{
 "cells": [
  {
   "cell_type": "code",
   "execution_count": 23,
   "metadata": {},
   "outputs": [],
   "source": [
    "import uproot\n",
    "import awkward as ak\n",
    "import numpy as np\n",
    "import vector\n",
    "vector.register_numba()\n",
    "vector.register_awkward()\n"
   ]
  },
  {
   "cell_type": "code",
   "execution_count": 18,
   "metadata": {},
   "outputs": [],
   "source": [
    "columns = [\n",
    "    \"era\",\n",
    "    \"higgs1_reco_pt\",\n",
    "    \"higgs1_reco_eta\",\n",
    "    \"higgs1_reco_phi\",\n",
    "    \"higgs1_reco_mass\",\n",
    "    \"higgs2_reco_pt\",\n",
    "    \"higgs2_reco_eta\",\n",
    "    \"higgs2_reco_phi\",\n",
    "    \"higgs2_reco_mass\",\n",
    "    \"HT\",\n",
    "    \"higgs1_DeltaRjj\",\n",
    "    \"higgs2_DeltaRjj\",\n",
    "    \"minDeltaR_Higgjj\",\n",
    "    \"maxDeltaR_Higgjj\",\n",
    "    \"higgs1_helicityCosTheta\",\n",
    "    \"higgs2_helicityCosTheta\",\n",
    "    \"hh_CosThetaStar_CS\",\n",
    "    \"hh_vec_mass\",\n",
    "    \"hh_vec_pt\",\n",
    "    \"hh_vec_eta\",\n",
    "    \"hh_vec_DeltaR\",\n",
    "    \"hh_vec_DeltaPhi\",\n",
    "    \"hh_vec_DeltaEta\",\n",
    "    \"higgs1_reco_jet1_pt\",\n",
    "    \"higgs1_reco_jet1_eta\",\n",
    "    \"higgs1_reco_jet1_phi\",\n",
    "    \"higgs1_reco_jet1_mass\",\n",
    "    \"higgs1_reco_jet2_pt\",\n",
    "    \"higgs1_reco_jet2_eta\",\n",
    "    \"higgs1_reco_jet2_phi\",\n",
    "    \"higgs1_reco_jet2_mass\",\n",
    "    \"higgs2_reco_jet1_pt\",\n",
    "    \"higgs2_reco_jet1_eta\",\n",
    "    \"higgs2_reco_jet1_phi\",\n",
    "    \"higgs2_reco_jet1_mass\",\n",
    "    \"higgs2_reco_jet2_pt\",\n",
    "    \"higgs2_reco_jet2_eta\",\n",
    "    \"higgs2_reco_jet2_phi\",\n",
    "    \"higgs2_reco_jet2_mass\",\n",
    "    \"add_jet1pt_pt\",\n",
    "    \"add_jet1pt_eta\",\n",
    "    \"add_jet1pt_phi\",\n",
    "    \"add_jet1pt_mass\",\n",
    "    \"sigma_over_higgs1_reco_mass\",\n",
    "    \"sigma_over_higgs2_reco_mass\",\n",
    "]\n",
    "main_dir='/pnfs/psi.ch/cms/trivcat/store/user/mmalucch/keras_models_morphing'\n"
   ]
  },
  {
   "cell_type": "code",
   "execution_count": 19,
   "metadata": {},
   "outputs": [
    {
     "name": "stdout",
     "output_type": "stream",
     "text": [
      "['era', 'event', 'HT', 'jet_pt', 'jet_pt_raw', 'jet_eta', 'jet_phi', 'jet_mass', 'jet_mass_raw', 'jet_deepjet_probBVsAll', 'jet_pnet_probBVsAll', 'jet_pnet_probTauVsJet', 'jet_pnet_probb', 'jet_pnet_probc', 'jet_pnet_probuds', 'jet_pnet_probtauh', 'jet_pnet_ptcorr', 'jet_pnet_ptnu', 'jet_pnet_ptres', 'jet_pnet_jec_L1L2L3', 'jet_pnet_jec_L2Rel', 'jet_pnet_jec_L2L3Res', 'btag_cat', 'weight', 'is_boosted', 'weight_dnn', 'sigma_higgs1', 'sigma_over_higgs1_reco_mass', 'higgs1_reco_pt', 'higgs1_reco_eta', 'higgs1_reco_phi', 'higgs1_reco_mass', 'sigma_higgs2', 'sigma_over_higgs2_reco_mass', 'higgs2_reco_pt', 'higgs2_reco_eta', 'higgs2_reco_phi', 'higgs2_reco_mass', 'hh_vec_mass', 'hh_vec_pt', 'hh_vec_eta', 'hh_vec_phi', 'hh_vec_DeltaR', 'hh_vec_DeltaPhi', 'hh_vec_DeltaEta', 'hh_vec_ptOmass', 'njet', 'higgs1_reco_jet1_pt', 'higgs1_reco_jet1_eta', 'higgs1_reco_jet1_phi', 'higgs1_reco_jet1_mass', 'higgs1_reco_jet2_pt', 'higgs1_reco_jet2_eta', 'higgs1_reco_jet2_phi', 'higgs1_reco_jet2_mass', 'higgs1_DeltaPhijj', 'higgs1_DeltaEtajj', 'higgs1_DeltaRjj', 'higgs2_reco_jet1_pt', 'higgs2_reco_jet1_eta', 'higgs2_reco_jet1_phi', 'higgs2_reco_jet1_mass', 'higgs2_reco_jet2_pt', 'higgs2_reco_jet2_eta', 'higgs2_reco_jet2_phi', 'higgs2_reco_jet2_mass', 'higgs2_DeltaPhijj', 'higgs2_DeltaEtajj', 'higgs2_DeltaRjj', 'minDeltaR_Higgjj', 'maxDeltaR_Higgjj', 'higgs1_helicityCosTheta', 'higgs2_helicityCosTheta', 'hh_CosThetaStar_CS', 'higgs1_wp1_reco_pt', 'higgs1_wp1_reco_eta', 'higgs1_wp1_reco_phi', 'higgs1_wp1_reco_mass', 'higgs1_wp1_DeltaRjj', 'higgs2_wp1_reco_pt', 'higgs2_wp1_reco_eta', 'higgs2_wp1_reco_phi', 'higgs2_wp1_reco_mass', 'higgs2_wp1_DeltaRjj', 'hh_vec_wp1_DeltaR', 'hh_wp1_CosThetaStar_CS', 'higgs1_wp2_reco_pt', 'higgs1_wp2_reco_eta', 'higgs1_wp2_reco_phi', 'higgs1_wp2_reco_mass', 'higgs1_wp2_DeltaRjj', 'higgs2_wp2_reco_pt', 'higgs2_wp2_reco_eta', 'higgs2_wp2_reco_phi', 'higgs2_wp2_reco_mass', 'higgs2_wp2_DeltaRjj', 'hh_vec_wp2_DeltaR', 'hh_wp2_CosThetaStar_CS', 'higgs_ST', 'jet4pt_pt', 'add_jet1pt_pt', 'add_jet1pt_eta', 'add_jet1pt_phi', 'add_jet1pt_mass', 'add_jet1pt_Higgs1_deta', 'add_jet1pt_Higgs1_dphi', 'add_jet1pt_Higgs1_m', 'add_jet1pt_Higgs2_deta', 'add_jet1pt_Higgs2_dphi', 'add_jet1pt_Higgs2_m']\n"
     ]
    }
   ],
   "source": [
    "input_root=f'/pnfs/psi.ch/cms/trivcat/store/user/mmalucch/JetMET_2022EE_2b_signal_region_to_4b_soumya_january2025.root'\n",
    "tree=uproot.open(input_root)[\"tree\"]\n",
    "print(tree.keys())\n"
   ]
  },
  {
   "cell_type": "markdown",
   "metadata": {},
   "source": [
    "get the columns from the tree"
   ]
  },
  {
   "cell_type": "code",
   "execution_count": 20,
   "metadata": {},
   "outputs": [
    {
     "name": "stdout",
     "output_type": "stream",
     "text": [
      "[{era: 1, higgs1_reco_pt: 115, ... sigma_over_higgs2_reco_mass: 0.129}] <class 'awkward.highlevel.Array'> 2180220\n"
     ]
    }
   ],
   "source": [
    "events = tree.arrays(columns, library=\"ak\")\n",
    "n_events = 10\n",
    "print(events[:n_events] , type(events.era), len(events['era']))\n"
   ]
  },
  {
   "cell_type": "code",
   "execution_count": 87,
   "metadata": {},
   "outputs": [
    {
     "name": "stdout",
     "output_type": "stream",
     "text": [
      "[{pt: 115, eta: -0.585, phi: 0.511, mass: 128}, ... phi: 1.72, mass: 119}] <class 'vector.backends.awkward.MomentumArray4D'>\n",
      "[99.9, 85.4, -166, 125, -123, 48.3, 132, ... 187, 276, -106, -169, 130, -147, -30.8]\n",
      "[19.8, 15.2, 105, -94.5, 81.2, -72.5, -58.4, ... -121, 11.9, 73.9, -79.7, 122, 2.8]\n"
     ]
    },
    {
     "name": "stdout",
     "output_type": "stream",
     "text": [
      "[120, 101, -60.1, 30.8, -42, -24.2, 73.5, ... 155, -93.6, -94.7, 50.8, -24.9, -28] \n",
      "\n",
      "\n",
      "[0.117, 0.189, 0.714, 0.885, 0.468, 0.306, ... 0.881, 0.91, 0.876, 0.237, 0.785]\n",
      "[0.0587, 0.961, 0.9, 0.614, 0.998, 0.0118, ... 0.62, 0.0157, 0.288, 0.975, 0.689]\n",
      "[0.405, 0.57, 0.737, 0.457, 0.888, 0.772, ... 0.46, 0.709, 0.16, 0.701, 0.521, 0.945]\n",
      "[1, 1, 1, 1, 1, 1, 1, 1, 1, 1, 1, 1, 1, 1, ... 1, 1, 1, 1, 1, 1, 1, 1, 1, 1, 1, 1, 1]\n",
      "[1, 1, 1, 1, 1, 1, 1, 1, 1, 1, 1, 1, 1, 1, ... 1, 1, 1, 1, 1, 1, 1, 1, 1, 1, 1, 1, 1]\n",
      "[1, 1, 1, 1, 1, 1, 1, 1, 1, 1, 1, 1, 1, 1, ... 1, 1, 1, 1, 1, 1, 1, 1, 1, 1, 1, 1, 1]\n"
     ]
    }
   ],
   "source": [
    "# given his snippet of code in c++ translate in python using akward arrays and vectors\n",
    "\n",
    "# float HelicityCosTheta(TLorentzVector Booster, TLorentzVector Boosted)\n",
    "# {\n",
    "#     TVector3 BoostVector = Booster.BoostVector();\n",
    "#     Boosted.Boost( -BoostVector.x(), -BoostVector.y(), -BoostVector.z() );\n",
    "#     return Boosted.CosTheta();\n",
    "# }\n",
    "\n",
    "# higgs1_helicityCosTheta =fabs(HelicityCosTheta( leadingHiggsCands.at(best_pairing_index)  ,  leading_higgs_leading_jet ));\n",
    "# higgs2_helicityCosTheta =fabs(HelicityCosTheta( subleadingHiggsCands.at(best_pairing_index), subleading_higgs_leading_jet ));\n",
    "\n",
    "# //Costhetastar in CS frame\n",
    "# cosine of the polar angle of one Higgs boson with respect to the beam axis in the HH rest frame\n",
    "# TLorentzVector higgs1_vec;\n",
    "# higgs1_vec =  leadingHiggsCands.at(best_pairing_index);\n",
    "# higgs1_vec.Boost( - hh_vec.BoostVector());\n",
    "# hh_CosThetaStar_CS = fabs(higgs1_vec.CosTheta());\n",
    "\n",
    "\n",
    "def HelicityCosTheta(higgs, jet):\n",
    "    # print(\"jet px\",jet.px)\n",
    "    # print(\"higgs px\",higgs.px)\n",
    "    # print(\"jet theta\",jet.theta)\n",
    "    higgs_velocity = higgs.to_beta3()\n",
    "    jet = jet.boost_beta3(-higgs_velocity)\n",
    "    # print(\"jet px\",jet.px)\n",
    "    # print(\"jet theta\",jet.theta)\n",
    "    return np.cos(jet.theta)\n",
    "\n",
    "\n",
    "def Costhetastar_CS(higgs1_vec, hh_vec):\n",
    "    # print(\"px\",higgs1_vec.px)\n",
    "    # print(\"theta\",higgs1_vec.theta)\n",
    "    hh_velocity = hh_vec.to_beta3()\n",
    "    higgs1_vec = higgs1_vec.boost_beta3(-hh_velocity)\n",
    "    # print(\"px\",higgs1_vec.px)\n",
    "    # print(\"theta\",higgs1_vec.theta)\n",
    "    return abs(np.cos(higgs1_vec.theta))\n",
    "\n",
    "\n",
    "higgs1_vec = ak.zip(\n",
    "    {\n",
    "        \"pt\": events.higgs1_reco_pt,\n",
    "        \"eta\": events.higgs1_reco_eta,\n",
    "        \"phi\": events.higgs1_reco_phi,\n",
    "        \"mass\": events.higgs1_reco_mass,\n",
    "    },\n",
    "    with_name=\"Momentum4D\",\n",
    ")\n",
    "higgs2_vec = ak.zip(\n",
    "    {\n",
    "        \"pt\": events.higgs2_reco_pt,\n",
    "        \"eta\": events.higgs2_reco_eta,\n",
    "        \"phi\": events.higgs2_reco_phi,\n",
    "        \"mass\": events.higgs2_reco_mass,\n",
    "    },\n",
    "    with_name=\"Momentum4D\",\n",
    ")\n",
    "print(higgs1_vec, type(higgs1_vec))\n",
    "print(higgs1_vec.px)\n",
    "print(higgs2_vec.px)\n",
    "hh_vec = higgs1_vec + higgs2_vec\n",
    "print(hh_vec.px, '\\n\\n')\n",
    "\n",
    "higgs1_jet1_vec = ak.zip(\n",
    "    {\n",
    "        \"pt\": events.higgs1_reco_jet1_pt,\n",
    "        \"eta\": events.higgs1_reco_jet1_eta,\n",
    "        \"phi\": events.higgs1_reco_jet1_phi,\n",
    "        \"mass\": events.higgs1_reco_jet1_mass,\n",
    "    },\n",
    "    with_name=\"Momentum4D\",\n",
    ")\n",
    "higgs2_jet1_vec = ak.zip(\n",
    "    {\n",
    "        \"pt\": events.higgs2_reco_jet1_pt,\n",
    "        \"eta\": events.higgs2_reco_jet1_eta,\n",
    "        \"phi\": events.higgs2_reco_jet1_phi,\n",
    "        \"mass\": events.higgs2_reco_jet1_mass,\n",
    "    },\n",
    "    with_name=\"Momentum4D\",\n",
    ")\n",
    "\n",
    "higgs1_helicityCosTheta = abs(HelicityCosTheta(higgs1_vec, higgs1_jet1_vec))\n",
    "higgs2_helicityCosTheta = abs(HelicityCosTheta(higgs2_vec, higgs2_jet1_vec))\n",
    "hh_CosThetaStar_CS = abs(Costhetastar_CS(higgs1_vec, hh_vec))\n",
    "print(higgs1_helicityCosTheta)\n",
    "print(higgs2_helicityCosTheta)\n",
    "print(hh_CosThetaStar_CS)\n",
    "higgs1_helicityCosTheta = abs(HelicityCosTheta(-higgs1_vec, higgs1_jet1_vec))\n",
    "higgs2_helicityCosTheta = abs(HelicityCosTheta(-higgs2_vec, higgs2_jet1_vec))\n",
    "hh_CosThetaStar_CS = abs(Costhetastar_CS(higgs1_vec, -hh_vec))\n",
    "print(higgs1_helicityCosTheta)\n",
    "print(higgs2_helicityCosTheta)\n",
    "print(hh_CosThetaStar_CS)"
   ]
  },
  {
   "cell_type": "code",
   "execution_count": 51,
   "metadata": {},
   "outputs": [
    {
     "name": "stdout",
     "output_type": "stream",
     "text": [
      "[0.117, 0.189, 0.714, 0.885, 0.468, 0.306, ... 0.881, 0.91, 0.876, 0.237, 0.785]\n",
      "[0.0587, 0.961, 0.9, 0.614, 0.998, 0.0118, ... 0.62, 0.0157, 0.288, 0.975, 0.689]\n",
      "[0.405, 0.57, 0.737, 0.457, 0.888, 0.772, ... 0.46, 0.709, 0.16, 0.701, 0.521, 0.945]\n"
     ]
    }
   ],
   "source": [
    "print(events.higgs1_helicityCosTheta)\n",
    "print(events.higgs2_helicityCosTheta)\n",
    "print(events.hh_CosThetaStar_CS)"
   ]
  },
  {
   "cell_type": "code",
   "execution_count": 52,
   "metadata": {},
   "outputs": [
    {
     "name": "stdout",
     "output_type": "stream",
     "text": [
      "{rho: 0.617, phi: 0.511, eta: -0.585, pt: 115, mass: 128}\n",
      "{x: 290, y: 163, z: -206, tau: 128, pt: 115, mass: 128}\n",
      "{pt: 115, eta: -0.585, phi: 0.511, mass: 128}\n",
      "<class 'vector.backends.awkward.MomentumArray4D'>\n",
      "185.758544921875\n",
      "114.53314961865229\n"
     ]
    }
   ],
   "source": [
    "boosted = higgs1_vec.boost(higgs1_vec.to_beta3())\n",
    "\n",
    "print(higgs1_vec.to_beta3()[0])\n",
    "print(boosted[0])\n",
    "print(higgs1_vec[0])\n",
    "print(type(higgs1_vec))\n",
    "print(higgs1_vec.E[0])\n",
    "print(np.sqrt(higgs1_vec.px[0]**2+higgs1_vec.py[0]**2))\n"
   ]
  },
  {
   "cell_type": "code",
   "execution_count": 53,
   "metadata": {},
   "outputs": [
    {
     "name": "stdout",
     "output_type": "stream",
     "text": [
      "1.0\n",
      "0.0\n",
      "0.0\n",
      "1.4142135623730951\n",
      "6.661338147750939e-16\n",
      "-1.2246467991473522e-16\n",
      "-1.2246467991473522e-16\n",
      "0.0\n",
      "0.0\n",
      "{x: 6.66e-16, y: -1.22e-16, z: 0, tau: 1, pt: 1, mass: 1}\n"
     ]
    }
   ],
   "source": [
    "v = ak.zip(\n",
    "    {\n",
    "        \"pt\": 1,\n",
    "        \"eta\": 0,\n",
    "        \"phi\": 0,\n",
    "        \"mass\": 1,\n",
    "    },\n",
    "    with_name=\"Momentum4D\",\n",
    ")\n",
    "print(v.px)\n",
    "print(v.py)\n",
    "print(v.pz)\n",
    "print(v.gamma)\n",
    "v1=v.boost(-v)\n",
    "print(v1.px)\n",
    "print(v1.py)\n",
    "print(v1.y)\n",
    "print(v1.pz)\n",
    "print(v1.z)\n",
    "print(v1)"
   ]
  },
  {
   "cell_type": "code",
   "execution_count": 54,
   "metadata": {},
   "outputs": [
    {
     "name": "stdout",
     "output_type": "stream",
     "text": [
      "2.8284271247461903\n",
      "0.0\n",
      "0.0\n",
      "0.0\n",
      "0.0\n",
      "3.0000000000000004\n",
      "{x: 2.83, y: 0, z: 0, tau: 1, pt: 1, mass: 1}\n"
     ]
    }
   ],
   "source": [
    "v1=v.boost(v)\n",
    "print(v1.px)\n",
    "print(v1.py)\n",
    "print(v1.y)\n",
    "print(v1.pz)\n",
    "print(v1.z)\n",
    "print(v1.gamma)\n",
    "print(v1)"
   ]
  },
  {
   "cell_type": "code",
   "execution_count": 61,
   "metadata": {},
   "outputs": [
    {
     "name": "stdout",
     "output_type": "stream",
     "text": [
      "3\n",
      "4\n",
      "5.0\n",
      "8.660254037844387 8.660254037844387\n",
      "{x: -2.19, y: -1.25, z: 5, t: -8.08, E: 8, px: -2, py: -1, pz: 5}\n"
     ]
    }
   ],
   "source": [
    "p1=ak.zip(\n",
    "    {\n",
    "        \"E\": 10,\n",
    "        \"px\": 3,\n",
    "        \"py\": 4,\n",
    "        \"pz\": 0,\n",
    "    },\n",
    "    with_name=\"Momentum4D\",\n",
    ")\n",
    "p2=ak.zip(\n",
    "    {\n",
    "        \"E\": 8,\n",
    "        \"px\": -2,\n",
    "        \"py\": -1,\n",
    "        \"pz\": 5,\n",
    "    },\n",
    "    with_name=\"Momentum4D\",\n",
    ")\n",
    "print(p1.px)\n",
    "print(p1.py)\n",
    "print(p1.pt)\n",
    "print(p1.mass,np.sqrt(75))\n",
    "p2_boosted=p2.boost(-p1)\n",
    "print(p2_boosted)"
   ]
  },
  {
   "cell_type": "code",
   "execution_count": 68,
   "metadata": {},
   "outputs": [
    {
     "name": "stdout",
     "output_type": "stream",
     "text": [
      "[19.8, 15.2, 105, -94.5, 81.2, -72.5, -58.4, ... -121, 11.9, 73.9, -79.7, 122, 2.8]\n",
      "[19.8, 15.2, 105, -94.5, 81.2, -72.5, -58.4, ... -121, 11.9, 73.9, -79.7, 122, 2.8]\n",
      "[95.3, -104, -11, 212, -42.5, 79.3, 3.85, ... 50.2, 62.1, -99.8, 233, -146, -59.1]\n",
      "[95.3, -104, -11, 212, -42.5, 79.3, 3.85, ... 50.2, 62.1, -99.8, 233, -146, -59.1]\n",
      "[190, 241, 187, 332, 176, 158, 143, 132, ... 539, 248, 387, 168, 275, 279, 403, 172]\n",
      "[190, 241, 187, 332, 176, 158, 143, 132, ... 539, 248, 387, 168, 275, 279, 403, 172]\n",
      "[-0.968, 1.36, -0.534, -0.823, -1.03, -0.0784, ... 0.787, 1.31, -0.137, -1.34, 1.51]\n",
      "[-0.968, 1.36, -0.534, -0.823, -1.03, -0.0784, ... 0.787, 1.31, -0.137, -1.34, 1.51]\n"
     ]
    }
   ],
   "source": [
    "higgs2_vec = ak.zip(\n",
    "    {\n",
    "        \"pt\": events.higgs2_reco_pt,\n",
    "        \"eta\": events.higgs2_reco_eta,\n",
    "        \"phi\": events.higgs2_reco_phi,\n",
    "        \"mass\": events.higgs2_reco_mass,\n",
    "    },\n",
    "    with_name=\"Momentum4D\",\n",
    ")\n",
    "higgs2_vec_alt = ak.zip(\n",
    "    {\n",
    "        \"px\": events.higgs2_reco_pt*np.cos(events.higgs2_reco_phi),\n",
    "        \"py\": events.higgs2_reco_pt*np.sin(events.higgs2_reco_phi),\n",
    "        \"pz\": events.higgs2_reco_pt*np.sinh(events.higgs2_reco_eta),\n",
    "        \"E\": np.sqrt(events.higgs2_reco_pt**2+(events.higgs2_reco_pt*np.sinh(events.higgs2_reco_eta))**2+events.higgs2_reco_mass**2),\n",
    "    },\n",
    "    with_name=\"Momentum4D\",\n",
    ")\n",
    "\n",
    "print(higgs2_vec.px)\n",
    "\n",
    "print(higgs2_vec_alt.px)\n",
    "print(higgs2_vec.py)\n",
    "print(higgs2_vec_alt.py)\n",
    "print(higgs2_vec.E)\n",
    "print(higgs2_vec_alt.E)\n",
    "\n",
    "\n",
    "print(-np.log(np.tan(higgs2_vec.theta/2)))\n",
    "print(events.higgs2_reco_eta)\n"
   ]
  },
  {
   "cell_type": "code",
   "execution_count": 74,
   "metadata": {},
   "outputs": [
    {
     "name": "stdout",
     "output_type": "stream",
     "text": [
      "[{pt: 97.3, eta: -0.968, phi: 1.37, mass: 121}, ... phi: -1.52, mass: 98.9}]\n",
      "[{rho: 97.3, phi: -1.78, eta: 0.968, tau: -121, ... pt: 59.2, mass: 98.9}]\n",
      "[19.8, 15.2, 105, -94.5, 81.2, -72.5, -58.4, ... -121, 11.9, 73.9, -79.7, 122, 2.8]\n",
      "[-19.8, -15.2, -105, 94.5, -81.2, 72.5, ... 121, -11.9, -73.9, 79.7, -122, -2.8]\n",
      "[95.3, -104, -11, 212, -42.5, 79.3, 3.85, ... 50.2, 62.1, -99.8, 233, -146, -59.1]\n",
      "[-95.3, 104, 11, -212, 42.5, -79.3, -3.85, ... -50.2, -62.1, 99.8, -233, 146, 59.1]\n",
      "[-110, 192, -59.3, -214, -112, -8.43, -72.2, ... 343, 55, 214, -33.9, -340, 127]\n",
      "[110, -192, 59.3, 214, 112, 8.43, 72.2, ... 194, -343, -55, -214, 33.9, 340, -127]\n",
      "[190, 241, 187, 332, 176, 158, 143, 132, ... 539, 248, 387, 168, 275, 279, 403, 172]\n",
      "[83.2, 193, 0, 298, 105, 0, 0, 0, 496, ... 0, 514, 205, 346, 0, 216, 214, 375, 99.8]\n",
      "[2.42, 0.501, 2.08, 2.31, 2.46, 1.65, ... 0.364, 0.854, 0.526, 1.71, 2.63, 0.434]\n",
      "[0.726, 2.64, 1.06, 0.827, 0.686, 1.49, ... 2.78, 2.29, 2.62, 1.43, 0.512, 2.71]\n",
      "[1.37, -1.43, -0.104, 1.99, -0.482, 2.31, ... 2.75, 1.38, -0.933, 1.9, -0.875, -1.52]\n",
      "[-1.78, 1.72, 3.04, -1.15, 2.66, -0.83, ... -0.394, -1.76, 2.21, -1.24, 2.27, 1.62]\n",
      "[121, 102, 143, 104, 99.5, 116, 109, 104, ... 98.5, 122, 145, 121, 126, 105, 98.9]\n",
      "[-121, -102, -143, -104, -99.5, -116, -109, ... -122, -145, -121, -126, -105, -98.9]\n"
     ]
    },
    {
     "ename": "AttributeError",
     "evalue": "no field named 'v'\n\n(https://github.com/scikit-hep/awkward-1.0/blob/1.10.3/src/awkward/highlevel.py#L1124)",
     "output_type": "error",
     "traceback": [
      "\u001b[0;31m---------------------------------------------------------------------------\u001b[0m",
      "\u001b[0;31mAttributeError\u001b[0m                            Traceback (most recent call last)",
      "Cell \u001b[0;32mIn[74], line 20\u001b[0m\n\u001b[1;32m     17\u001b[0m \u001b[38;5;28mprint\u001b[39m(higgs2_vec\u001b[38;5;241m.\u001b[39mmass)\n\u001b[1;32m     18\u001b[0m \u001b[38;5;28mprint\u001b[39m(opp_higgs2_vec\u001b[38;5;241m.\u001b[39mmass)\n\u001b[0;32m---> 20\u001b[0m \u001b[38;5;28mprint\u001b[39m(\u001b[43mhiggs2_vec\u001b[49m\u001b[38;5;241;43m.\u001b[39;49m\u001b[43mv\u001b[49m)\n",
      "File \u001b[0;32m/work/mmalucch/micromamba/envs/pocket-coffea/lib/python3.9/site-packages/awkward/highlevel.py:1123\u001b[0m, in \u001b[0;36mArray.__getattr__\u001b[0;34m(self, where)\u001b[0m\n\u001b[1;32m   1117\u001b[0m         \u001b[38;5;28;01mraise\u001b[39;00m \u001b[38;5;167;01mAttributeError\u001b[39;00m(\n\u001b[1;32m   1118\u001b[0m             \u001b[38;5;124m\"\u001b[39m\u001b[38;5;124mwhile trying to get field \u001b[39m\u001b[38;5;132;01m{}\u001b[39;00m\u001b[38;5;124m, an exception \u001b[39m\u001b[38;5;124m\"\u001b[39m\n\u001b[1;32m   1119\u001b[0m             \u001b[38;5;124m\"\u001b[39m\u001b[38;5;124moccurred:\u001b[39m\u001b[38;5;130;01m\\n\u001b[39;00m\u001b[38;5;132;01m{}\u001b[39;00m\u001b[38;5;124m: \u001b[39m\u001b[38;5;132;01m{}\u001b[39;00m\u001b[38;5;124m\"\u001b[39m\u001b[38;5;241m.\u001b[39mformat(\u001b[38;5;28mrepr\u001b[39m(where), \u001b[38;5;28mtype\u001b[39m(err), \u001b[38;5;28mstr\u001b[39m(err))\n\u001b[1;32m   1120\u001b[0m             \u001b[38;5;241m+\u001b[39m ak\u001b[38;5;241m.\u001b[39m_util\u001b[38;5;241m.\u001b[39mexception_suffix(\u001b[38;5;18m__file__\u001b[39m)\n\u001b[1;32m   1121\u001b[0m         ) \u001b[38;5;28;01mfrom\u001b[39;00m \u001b[38;5;21;01merr\u001b[39;00m\n\u001b[1;32m   1122\u001b[0m \u001b[38;5;28;01melse\u001b[39;00m:\n\u001b[0;32m-> 1123\u001b[0m     \u001b[38;5;28;01mraise\u001b[39;00m \u001b[38;5;167;01mAttributeError\u001b[39;00m(\n\u001b[1;32m   1124\u001b[0m         \u001b[38;5;124mf\u001b[39m\u001b[38;5;124m\"\u001b[39m\u001b[38;5;124mno field named \u001b[39m\u001b[38;5;132;01m{\u001b[39;00mwhere\u001b[38;5;132;01m!r}\u001b[39;00m\u001b[38;5;124m\"\u001b[39m \u001b[38;5;241m+\u001b[39m ak\u001b[38;5;241m.\u001b[39m_util\u001b[38;5;241m.\u001b[39mexception_suffix(\u001b[38;5;18m__file__\u001b[39m)\n\u001b[1;32m   1125\u001b[0m     )\n",
      "\u001b[0;31mAttributeError\u001b[0m: no field named 'v'\n\n(https://github.com/scikit-hep/awkward-1.0/blob/1.10.3/src/awkward/highlevel.py#L1124)"
     ]
    }
   ],
   "source": [
    "opp_higgs2_vec=-higgs2_vec\n",
    "print(higgs2_vec)\n",
    "print(opp_higgs2_vec)\n",
    "\n",
    "print(higgs2_vec.px)\n",
    "print(opp_higgs2_vec.px)\n",
    "print(higgs2_vec.py)\n",
    "print(opp_higgs2_vec.py)\n",
    "print(higgs2_vec.pz)\n",
    "print(opp_higgs2_vec.pz)\n",
    "print(higgs2_vec.E)\n",
    "print(opp_higgs2_vec.E)\n",
    "print(higgs2_vec.theta)\n",
    "print(opp_higgs2_vec.theta)\n",
    "print(higgs2_vec.phi)\n",
    "print(opp_higgs2_vec.phi)\n",
    "print(higgs2_vec.mass)\n",
    "print(opp_higgs2_vec.mass)\n"
   ]
  },
  {
   "cell_type": "code",
   "execution_count": 86,
   "metadata": {},
   "outputs": [
    {
     "name": "stdout",
     "output_type": "stream",
     "text": [
      "{rho: 0.512, phi: 1.37, eta: -0.968, pt: 97.3, mass: 121}\n",
      "[0.104, 0.0629, 0.563, -0.284, 0.462, ... 0.0709, 0.268, -0.286, 0.303, 0.0163]\n",
      "[0.104, 0.0629, 0.563, -0.284, 0.462, ... 0.0709, 0.268, -0.286, 0.303, 0.0163]\n",
      "{rho: 1.17, phi: -1.78, eta: 0.968, pt: 97.3, mass: 121}\n",
      "[-0.238, -0.0784, -inf, 0.317, -0.772, inf, ... -inf, -0.342, 0.372, -0.326, -0.028]\n",
      "[-0.238, -0.0784, -inf, 0.317, -0.772, inf, ... -inf, -0.342, 0.372, -0.326, -0.028]\n",
      "[19.8, 15.2, 105, -94.5, 81.2, -72.5, -58.4, ... -121, 11.9, 73.9, -79.7, 122, 2.8]\n",
      "[19.8, 15.2, 105, -94.5, 81.2, -72.5, -58.4, ... -121, 11.9, 73.9, -79.7, 122, 2.8]\n",
      "[1.57, 2.37, 1.31, 3.19, 1.77, 1.36, 1.32, ... 3.17, 1.15, 2.28, 2.21, 3.86, 1.74]\n",
      "[0.104, 0.0629, 0.563, -0.284, 0.462, ... 0.0709, 0.268, -0.286, 0.303, 0.0163]\n"
     ]
    }
   ],
   "source": [
    "velocity=higgs2_vec.to_beta3()\n",
    "print(velocity[0])\n",
    "print(velocity.x)\n",
    "print(velocity.px)\n",
    "\n",
    "velocity=(-higgs2_vec).to_beta3()\n",
    "print(velocity[0])\n",
    "print(velocity.x)\n",
    "print(velocity.px)\n",
    "\n",
    "\n",
    "print(higgs2_vec.x)\n",
    "print(higgs2_vec.px)\n",
    "print(higgs2_vec.gamma)\n",
    "\n",
    "vx=higgs2_vec.px/higgs2_vec.E\n",
    "print(vx)"
   ]
  },
  {
   "cell_type": "code",
   "execution_count": null,
   "metadata": {},
   "outputs": [],
   "source": []
  }
 ],
 "metadata": {
  "kernelspec": {
   "display_name": "Python 3",
   "language": "python",
   "name": "python3"
  },
  "language_info": {
   "codemirror_mode": {
    "name": "ipython",
    "version": 3
   },
   "file_extension": ".py",
   "mimetype": "text/x-python",
   "name": "python",
   "nbconvert_exporter": "python",
   "pygments_lexer": "ipython3",
   "version": "3.9.18"
  }
 },
 "nbformat": 4,
 "nbformat_minor": 2
}
