{
 "cells": [
  {
   "cell_type": "code",
   "execution_count": 1,
   "metadata": {},
   "outputs": [],
   "source": [
    "from coffea.nanoevents import NanoEventsFactory, NanoAODSchema\n",
    "import awkward as ak\n",
    "import matplotlib.pyplot as plt\n"
   ]
  },
  {
   "cell_type": "code",
   "execution_count": 2,
   "metadata": {},
   "outputs": [
    {
     "name": "stdout",
     "output_type": "stream",
     "text": [
      "Events read: 20\n"
     ]
    }
   ],
   "source": [
    "filename =\"root://storage01.lcg.cscs.ch:1096//pnfs/lcg.cscs.ch/cms/trivcat//store/mc/Run3Summer22EENanoAODv12/GluGlutoHHto4B_kl-1p00_kt-1p00_c2-0p00_TuneCP5_13p6TeV_powheg-pythia8/NANOAODSIM/Poisson60KeepRAW_130X_mcRun3_2022_realistic_postEE_v6-v2/50000/fc603037-ef65-4bbf-9cef-934ecec40bbe.root\"\n",
    "filename =\"/pnfs/psi.ch/cms/trivcat/store/user/mmalucch/hh4b_12.root\"\n",
    "events = NanoEventsFactory.from_root(filename, schemaclass=NanoAODSchema, entry_stop=20).events()\n",
    "print(\"Events read:\", len(events))"
   ]
  },
  {
   "cell_type": "code",
   "execution_count": 3,
   "metadata": {},
   "outputs": [
    {
     "name": "stdout",
     "output_type": "stream",
     "text": [
      "[[GenParticle, GenParticle, GenParticle, ... GenParticle, GenParticle, GenParticle]]\n",
      "[535, 585, 338, 637, 491, 428, 367, 464, ... 413, 420, 403, 376, 501, 326, 385, 418]\n",
      "[51.2, 29, 84.4, 41, 10.9, 38, 47.4, ... 52.4, 84.7, 52.1, 67.8, 20.2, 10.3, 64.9]\n",
      "[257, 78.2, 159, 236, 202, 128, 112, 198, ... 178, 35.8, 129, 90.8, 75.8, 85.2, 72.8]\n",
      "[217, 98, 75.5, 270, 200, 95.8, 144, 176, ... 162, 155, 120, 154, 126, 94, 90.8, 128]\n"
     ]
    }
   ],
   "source": [
    "# print(events.fields)\n",
    "# print(events.Electron.fields)\n",
    "print(events.GenPart)\n",
    "sum_p4=events.GenPart[:,2]+events.GenPart[:,3]\n",
    "print(sum_p4.mass)\n",
    "print(sum_p4.pt)\n",
    "print(events.GenPart[:,2].pt)\n",
    "print(events.GenPart[:,3].pt)"
   ]
  },
  {
   "cell_type": "code",
   "execution_count": 4,
   "metadata": {},
   "outputs": [
    {
     "name": "stdout",
     "output_type": "stream",
     "text": [
      "[[21, 21, 25, 25, 21], [21, 21, 25, 25, ... 21, 25, 25, 21], [21, 21, 25, 25, 21]]\n",
      "[[False, False, True, True, True], [False, ... [False, False, True, True, True]]\n"
     ]
    }
   ],
   "source": [
    "print(events.LHEPart.pdgId)\n",
    "\n",
    "# Select b-quarks at LHE level\n",
    "isOutgoing = events.LHEPart.status == 1\n",
    "print(isOutgoing)\n",
    "\n",
    "isB = abs(events.LHEPart.pdgId) == 5\n",
    "# print only events with at least one b-quark\n",
    "for     i in range(len(isB)):\n",
    "    if len(isB[isB][i]) > 0:\n",
    "        print(i)\n",
    "        print(events.LHEPart.pdgId[i])\n",
    "        break\n",
    "bquarks = events.LHEPart[isB & isOutgoing]"
   ]
  },
  {
   "cell_type": "code",
   "execution_count": 5,
   "metadata": {},
   "outputs": [
    {
     "name": "stdout",
     "output_type": "stream",
     "text": [
      "[21, 21, 25, 25, 21]\n",
      "[False, False, False, False, False, False, ... False, False, False, False, False]\n",
      "[25, 25, 25, 25, 25, 25, 25, 25, 25, 25, 25, 25, 5, -5, 5, -5, -5, 5, 5, -5]\n"
     ]
    }
   ],
   "source": [
    "e=events[2]\n",
    "print(e.LHEPart.pdgId)\n",
    "pdg_gen = e.GenPart.pdgId\n",
    "print(pdg_gen==5)\n",
    "# select b-quarks at Gen level\n",
    "isB = abs(pdg_gen) == 5\n",
    "# select higgs at Gen level\n",
    "isH = pdg_gen == 25\n",
    "print(pdg_gen[isB | isH])\n",
    "\n",
    "b_higgs = e.GenPart[isB | isH]\n"
   ]
  },
  {
   "cell_type": "code",
   "execution_count": 6,
   "metadata": {},
   "outputs": [
    {
     "name": "stdout",
     "output_type": "stream",
     "text": [
      "65 [21, 21, 25, 25, 21, 25, 25, 25, 25, ... -421, 411, 421, 13, -14, 111, 111, 22, 22]\n",
      "65 [[139, 140, 141], [], [142], [143], [150, 151], ... [], [], [], [200], [201], [], []]\n",
      "65 [[25, 25, 21], [], [25], [25], [21, 21], [25, ... [], [], [], [], [22], [22], [], []]\n",
      "20 [25, 25, 25, 25, 25, 25, 25, 25, 25, 25, 25, 25, 5, -5, 5, -5, -5, 5, 5, -5]\n",
      "20 [[142], [143], [144], [145], [146], [147, ... [166, 167], [158, 159], [], [], [], []]\n",
      "20 [[25], [25], [25], [25], [25], [25], ... -5], [5, -513], [-5, 523], [], [], [], []]\n"
     ]
    }
   ],
   "source": [
    "isHiggs = b_higgs.pdgId == 25\n",
    "isHard = b_higgs.hasFlags([\"fromHardProcess\"])\n",
    "hasTwoChildren = ak.num(b_higgs.childrenIdxG, axis=1) == 2\n",
    "# print(events.GenPart.childrenIdxG)\n",
    "# print(ak.num(events.GenPart.childrenIdxG, axis=2))\n",
    "\n",
    "print(len(e.GenPart.pdgId), e.GenPart.pdgId)\n",
    "print(len(e.GenPart.childrenIdxG), e.GenPart.childrenIdxG)\n",
    "print(len(e.GenPart.children.pdgId), e.GenPart.children.pdgId\n",
    "      )\n",
    "\n",
    "print(len(b_higgs), b_higgs.pdgId\n",
    "      )\n",
    "print(len(b_higgs.childrenIdxG), b_higgs.childrenIdxG\n",
    "      )\n",
    "print(len(b_higgs.children.pdgId), b_higgs.children.pdgId\n",
    "      )\n",
    "\n",
    "# print(isHiggs)\n",
    "# print(isHard)\n",
    "# print(hasTwoChildren)"
   ]
  },
  {
   "cell_type": "code",
   "execution_count": 7,
   "metadata": {},
   "outputs": [
    {
     "name": "stdout",
     "output_type": "stream",
     "text": [
      "[[3, 0, 1, 1, 11, 1, 1, 1, 1, 1, 1, 1, 1, ... 0, 0, 0, 3, 1, 0, 2, 0, 0, 0, 0, 0, 0]] 20\n",
      "gen [[25, 25], [25, 25], [25, 25], [25, 25], ... [25, 25], [25, 25], [25, 25], [25, 25]]\n",
      "gen [[[17, 18], [19, 20]], [[87, 88], ... [1170, 1171]], [[1228, 1229], [1230, 1231]]]\n",
      "gen [[13, 14], [9, 10], [11, 12], [11, 12], ... [15, 16], [7, 8], [21, 22], [17, 18]]\n",
      "gen [[265, 209], [87.2, 108], [162, 72.8], ... [76.2, 91], [84.8, 82.2], [60.1, 154]]\n",
      "gen [[[15, 15], [16, 16]], [[14, 14], [15, 15, ... 23], [24, 24]], [[19, 19], [20, 20]]]\n",
      "[[[2, 3, 4], [], [5], [6], [11, 12, 22, ... [1278, 1279], [], [], [], [], [], []]]\n",
      "num [[1, 1, 1, 1, 1, 2, 2, 4], [1, 4, 1, 1, 2, ... 1, 1, 1, 1], [1, 1, 1, 1, 1, 1, 1, 1]]\n",
      "[[[17, 18], [19, 20]], [[87, 88], ... [1170, 1171]], [[1228, 1229], [1230, 1231]]] [[[5, -5], [5, -5]], [[5, -5], [5, -5]], ... [[5, -5], [5, -5]], [[5, -5], [5, -5]]]\n",
      "[[[5, -5], [5, -5]], [[5, -5], [5, -5]], ... [[5, -5], [5, -5]], [[5, -5], [5, -5]]]\n",
      "[[[15, 15], [16, 16]], [[14, 14], [15, 15, ... 23], [24, 24]], [[19, 19], [20, 20]]]\n",
      "[[5, -5, 5, -5], [5, -5, 5, -5], [5, -5, ... 5, -5], [5, -5, 5, -5], [5, -5, 5, -5]]\n",
      "[[15, 15, 16, 16], [14, 14, 15, 15], [15, ... [23, 23, 24, 24], [19, 19, 20, 20]]\n",
      "loop\n",
      "[[[5, 21, 21, 21], [-5], [5, 21, -523, ... [-5, -513, 513], [5], [-5, 5122, 511]]] [[[17, 17, 17, 17], [18], [19, 19, 19, 19], ... [22, 22, 22], [23], [24, 24, 24]]] 20\n",
      "found bquark\n",
      "[[[True, False, False, False], [True], ... False], [True], [True, False, False]]]\n",
      "[[[5], [-5], [5], [-5]], [[5], [-5], [5], ... [], [5], [-5]], [[5], [-5], [5], [-5]]] [[[17], [18], [19], [20]], [[16], [17], ... [28], [29]], [[21], [22], [23], [24]]]\n",
      "[[[[-513, 523, 11, -11]], [[]], [[]], [[]]], ... [[]]], [[[]], [[]], [[]], [[]]]] [[[[33, 33, 33, 33]], [[]], [[]], [[]]], ... [[]]], [[[]], [[]], [[]], [[]]]] 20\n",
      "found bquark\n",
      "[[[[False, False, False, False]], [[]], [[]], [[]], ... [[[]], [[]], [[]], [[]]]]\n",
      "[[[[]], [[]], [[]], [[]]], [[[]], [[]], ... [[]], [[]]], [[[]], [[]], [[]], [[]]]] [[[[]], [[]], [[]], [[]]], [[[]], [[]], ... [[]], [[]]], [[[]], [[]], [[]], [[]]]]\n",
      "[[[[]], [[]], [[]], [[]]], [[[]], [[]], ... [[]], [[]]], [[[]], [[]], [[]], [[]]]] [[[[]], [[]], [[]], [[]]], [[[]], [[]], ... [[]], [[]]], [[[]], [[]], [[]], [[]]]] 20\n",
      "found bquark\n",
      "[[[[]], [[]], [[]], [[]]], [[[]], [[]], ... [[]], [[]]], [[[]], [[]], [[]], [[]]]]\n",
      "[[[[]], [[]], [[]], [[]]], [[[]], [[]], ... [[]], [[]]], [[[]], [[]], [[]], [[]]]] [[[[]], [[]], [[]], [[]]], [[[]], [[]], ... [[]], [[]]], [[[]], [[]], [[]], [[]]]]\n",
      "[[[[]], [[]], [[]], [[]]], [[[]], [[]], ... [[]], [[]]], [[[]], [[]], [[]], [[]]]] [[[[]], [[]], [[]], [[]]], [[[]], [[]], ... [[]], [[]]], [[[]], [[]], [[]], [[]]]] 20\n"
     ]
    },
    {
     "ename": "AttributeError",
     "evalue": "no field named 'index'\n\n(https://github.com/scikit-hep/awkward-1.0/blob/1.10.3/src/awkward/highlevel.py#L1124)",
     "output_type": "error",
     "traceback": [
      "\u001b[0;31m---------------------------------------------------------------------------\u001b[0m",
      "\u001b[0;31mAttributeError\u001b[0m                            Traceback (most recent call last)",
      "Cell \u001b[0;32mIn[7], line 70\u001b[0m\n\u001b[1;32m     66\u001b[0m         \u001b[38;5;28;01mcontinue\u001b[39;00m\n\u001b[1;32m     68\u001b[0m     \u001b[38;5;28;01mbreak\u001b[39;00m\n\u001b[0;32m---> 70\u001b[0m \u001b[38;5;28mprint\u001b[39m(\u001b[43mbquarks\u001b[49m\u001b[38;5;241;43m.\u001b[39;49m\u001b[43mindex\u001b[49m, bquarks\u001b[38;5;241m.\u001b[39mpt)\n\u001b[1;32m     71\u001b[0m \u001b[38;5;66;03m# all_higgs = gen[isHiggs & isHard]\u001b[39;00m\n\u001b[1;32m     72\u001b[0m \u001b[38;5;66;03m# print(\"pt\", higgs.pt, len(higgs.pt))\u001b[39;00m\n\u001b[1;32m     73\u001b[0m \n\u001b[0;32m   (...)\u001b[0m\n\u001b[1;32m    133\u001b[0m \u001b[38;5;66;03m# print(bquarks.pdgId)\u001b[39;00m\n\u001b[1;32m    134\u001b[0m \u001b[38;5;66;03m# print(bquarks.genPartIdxMother)\u001b[39;00m\n",
      "File \u001b[0;32m/work/mmalucch/micromamba/envs/pocket-coffea/lib/python3.9/site-packages/awkward/highlevel.py:1123\u001b[0m, in \u001b[0;36mArray.__getattr__\u001b[0;34m(self, where)\u001b[0m\n\u001b[1;32m   1117\u001b[0m         \u001b[38;5;28;01mraise\u001b[39;00m \u001b[38;5;167;01mAttributeError\u001b[39;00m(\n\u001b[1;32m   1118\u001b[0m             \u001b[38;5;124m\"\u001b[39m\u001b[38;5;124mwhile trying to get field \u001b[39m\u001b[38;5;132;01m{}\u001b[39;00m\u001b[38;5;124m, an exception \u001b[39m\u001b[38;5;124m\"\u001b[39m\n\u001b[1;32m   1119\u001b[0m             \u001b[38;5;124m\"\u001b[39m\u001b[38;5;124moccurred:\u001b[39m\u001b[38;5;130;01m\\n\u001b[39;00m\u001b[38;5;132;01m{}\u001b[39;00m\u001b[38;5;124m: \u001b[39m\u001b[38;5;132;01m{}\u001b[39;00m\u001b[38;5;124m\"\u001b[39m\u001b[38;5;241m.\u001b[39mformat(\u001b[38;5;28mrepr\u001b[39m(where), \u001b[38;5;28mtype\u001b[39m(err), \u001b[38;5;28mstr\u001b[39m(err))\n\u001b[1;32m   1120\u001b[0m             \u001b[38;5;241m+\u001b[39m ak\u001b[38;5;241m.\u001b[39m_util\u001b[38;5;241m.\u001b[39mexception_suffix(\u001b[38;5;18m__file__\u001b[39m)\n\u001b[1;32m   1121\u001b[0m         ) \u001b[38;5;28;01mfrom\u001b[39;00m \u001b[38;5;21;01merr\u001b[39;00m\n\u001b[1;32m   1122\u001b[0m \u001b[38;5;28;01melse\u001b[39;00m:\n\u001b[0;32m-> 1123\u001b[0m     \u001b[38;5;28;01mraise\u001b[39;00m \u001b[38;5;167;01mAttributeError\u001b[39;00m(\n\u001b[1;32m   1124\u001b[0m         \u001b[38;5;124mf\u001b[39m\u001b[38;5;124m\"\u001b[39m\u001b[38;5;124mno field named \u001b[39m\u001b[38;5;132;01m{\u001b[39;00mwhere\u001b[38;5;132;01m!r}\u001b[39;00m\u001b[38;5;124m\"\u001b[39m \u001b[38;5;241m+\u001b[39m ak\u001b[38;5;241m.\u001b[39m_util\u001b[38;5;241m.\u001b[39mexception_suffix(\u001b[38;5;18m__file__\u001b[39m)\n\u001b[1;32m   1125\u001b[0m     )\n",
      "\u001b[0;31mAttributeError\u001b[0m: no field named 'index'\n\n(https://github.com/scikit-hep/awkward-1.0/blob/1.10.3/src/awkward/highlevel.py#L1124)"
     ]
    }
   ],
   "source": [
    "i = 1\n",
    "\n",
    "j = i + 1\n",
    "gen = events.GenPart#[i:j]\n",
    "isHiggs = gen.pdgId == 25\n",
    "isHard = gen.hasFlags([\"fromHardProcess\"])\n",
    "isLastCopy = gen.hasFlags([\"isLastCopy\"])\n",
    "isFirstCopy = gen.hasFlags([\"isFirstCopy\"])\n",
    "isB = abs(gen.pdgId) == 5\n",
    "hasTwoChildren = ak.num(gen.children, axis=2)\n",
    "print(hasTwoChildren, len(hasTwoChildren))\n",
    "# for k in range(len(hasTwoChildren[i])):\n",
    "#     print(\n",
    "#         k,\n",
    "#         hasTwoChildren[i, k],\n",
    "#         gen.pdgId[i, k],\n",
    "#         gen.childrenIdxG[i, k],\n",
    "#         gen.children.pdgId[i, k],\n",
    "#         gen.hasFlags([\"isLastCopy\"])[i, k],\n",
    "#         gen.hasFlags([\"fromHardProcess\"])[i, k],\n",
    "#     )\n",
    "print(\"gen\", gen.pdgId[isHiggs & isLastCopy & isHard])\n",
    "print(\"gen\", gen.childrenIdxG[isHiggs & isLastCopy & isHard])\n",
    "print(\"gen\", gen.genPartIdxMother[isHiggs & isLastCopy & isHard])\n",
    "print(\"gen\", gen.pt[isHiggs & isLastCopy & isHard])\n",
    "print(\"gen\", gen.children.genPartIdxMother[isHiggs & isLastCopy & isHard])\n",
    "\n",
    "print(gen.childrenIdxG)\n",
    "print(\"num\", ak.num(gen.childrenIdxG, axis=2)[:, 10:18])\n",
    "\n",
    "hasTwoChildren = ak.num(gen.children, axis=2) == 2\n",
    "\n",
    "# print(hasTwoChildren[isHiggs & isLastCopy])\n",
    "# print(gen[isHiggs & isHard].childrenIdxG)\n",
    "\n",
    "# print(gen[isHiggs].hasFlags([\"isLastCopy\"]))\n",
    "# print(gen[isHiggs].children.pdgId)\n",
    "# print(gen[isHiggs & hasTwoChildren].children.pdgId)\n",
    "# print(gen[isHiggs].childrenIdxG)\n",
    "\n",
    "higgs = gen[isHiggs & isHard & isLastCopy & hasTwoChildren]\n",
    "# higgs_loose = gen[isHiggs & isHard & isLastCopy]\n",
    "# num_higgs = ak.num(higgs_loose, axis=1)\n",
    "# print(num_higgs, len(num_higgs))\n",
    "# print(gen[num_higgs!=2].pdgId, len(gen[num_higgs==2].pdgId))\n",
    "print(higgs.childrenIdxG, higgs.children.pdgId)\n",
    "bquarks = ak.flatten(higgs.children, axis=2)  # [isB & isHard & isFirstCopy]\n",
    "tot_b = gen[isB & isHard]\n",
    "b_unflattened = higgs.children\n",
    "print(b_unflattened.pdgId)\n",
    "print(b_unflattened.genPartIdxMother)\n",
    "print(bquarks.pdgId)\n",
    "print(bquarks.genPartIdxMother)\n",
    "\n",
    "print(\"loop\")\n",
    "# loop over the bquarks children until we find the bquarks and then take the last copy\n",
    "while True:\n",
    "    b_children = bquarks.children\n",
    "    print(b_children.pdgId, b_children.genPartIdxMother, len(b_children.pdgId))\n",
    "    if ak.any(abs(b_children.pdgId) == 5):\n",
    "        print(\"found bquark\")\n",
    "        mask_b = abs(b_children.pdgId) == 5\n",
    "        print(mask_b)\n",
    "        bquarks = b_children[mask_b]\n",
    "        print(bquarks.pdgId, bquarks.genPartIdxMother)\n",
    "        continue\n",
    "\n",
    "    break\n",
    "\n",
    "print(bquarks.index, bquarks.pt)\n",
    "# all_higgs = gen[isHiggs & isHard]\n",
    "# print(\"pt\", higgs.pt, len(higgs.pt))\n",
    "\n",
    "\n",
    "# b_pairs = ak.combinations(bquarks, 2)\n",
    "# print(b_pairs[\"0\"].pdgId)\n",
    "# print(b_pairs[\"1\"].pdgId)\n",
    "# print(b_pairs[\"0\"].genPartIdxMother)\n",
    "# print(b_pairs[\"1\"].genPartIdxMother)\n",
    "\n",
    "\n",
    "# # given each bquark pair, i want to check if the two bquarks come from the same higgs or not\n",
    "# same_higgs = (b_pairs[\"0\"].genPartIdxMother == b_pairs[\"1\"].genPartIdxMother)\n",
    "\n",
    "# print(same_higgs)\n",
    "# b_pairs = b_pairs[same_higgs]\n",
    "# print(b_pairs)\n",
    "\n",
    "# b_pairs_idx = ak.argcombinations(bquarks, 2)\n",
    "# print(b_pairs_idx )\n",
    "\n",
    "# unz= ak.unzip(b_pairs_idx)\n",
    "# print(unz)\n",
    "\n",
    "# b_pairs_idx=b_pairs_idx[same_higgs]\n",
    "# print(b_pairs_idx)\n",
    "# print(ak.unzip(b_pairs_idx))\n",
    "# b_pair_first =b_pairs_idx[:,0]\n",
    "# b_pair_second =b_pairs_idx[:,1]\n",
    "\n",
    "# print(b_pair_first)\n",
    "# print(b_pair_second)\n",
    "\n",
    "\n",
    "# print(b_pair_first[:][\"0\"])\n",
    "\n",
    "# b11=bquarks[:,b_pair_first[:][\"0\"]]\n",
    "# print(b11.pdgId, b11.genPartIdxMother, b11)\n",
    "# b12=bquarks[:,b_pair_first[:][\"1\"]]\n",
    "# print(b12.pdgId, b12.genPartIdxMother, b12)\n",
    "# b21=bquarks[:,b_pair_second[:][\"0\"]]\n",
    "# print(b21.pdgId, b21.genPartIdxMother, b21)\n",
    "# b22=bquarks[:,b_pair_second[:][\"1\"]]\n",
    "# print(b22.pdgId, b22.genPartIdxMother, b22)\n",
    "\n",
    "\n",
    "# provenance = ak.zeros_like(bquarks.pdgId)\n",
    "# provenance = ak.to_numpy(provenance)\n",
    "\n",
    "\n",
    "# for k in [0,1]:\n",
    "#     print(k)\n",
    "#     print(b_pairs_idx[:,k][\"0\"], b_pairs_idx[:,k][\"1\"])\n",
    "#     provenance[:,b_pairs_idx[:,k][\"0\"]] = k+1\n",
    "#     provenance[:,b_pairs_idx[:,k][\"1\"]] = k+1\n",
    "\n",
    "# print(provenance)\n",
    "\n",
    "\n",
    "# # add a field to bquarks which says if the bquark comes from the first or second higgs\n",
    "# bquarks=ak.with_field(bquarks, provenance, \"provenance\")\n",
    "# print(bquarks.provenance)\n",
    "# print(bquarks.pdgId)\n",
    "# print(bquarks.genPartIdxMother)"
   ]
  },
  {
   "cell_type": "code",
   "execution_count": null,
   "metadata": {},
   "outputs": [],
   "source": [
    "# compute invariant mass of each bquark pair with the same provenance\n",
    "# higgs1=b11+b12\n",
    "# print(b11.mass)\n",
    "# print(b12.mass)\n",
    "# print(b11.px)\n",
    "# print(b12.px)\n",
    "# print(b11.py)\n",
    "# print(b12.py)\n",
    "# print(b11.pz)\n",
    "# print(b12.pz)\n",
    "# print(b11.energy)\n",
    "# print(b12.energy)\n",
    "# print(higgs1)\n",
    "# print(higgs1.mass)\n"
   ]
  },
  {
   "cell_type": "code",
   "execution_count": null,
   "metadata": {},
   "outputs": [],
   "source": [
    "\n",
    "minDR=0.4\n",
    "# Compute deltaR(b, jet) and save the nearest jet (deltaR matching)\n",
    "deltaR = ak.flatten(bquarks.metric_table(events.Jet), axis=2)\n",
    "# keeping only the pairs with a deltaR min\n",
    "maskDR = deltaR<  minDR\n",
    "deltaRcut = deltaR[maskDR]\n",
    "idx_pairs_sorted = ak.argsort(deltaRcut, axis=1)\n",
    "pairs = ak.argcartesian([bquarks, events.Jet])[maskDR]\n",
    "pairs_sorted = pairs[idx_pairs_sorted]\n",
    "idx_bquarks, idx_JetGood = ak.unzip(pairs_sorted)"
   ]
  },
  {
   "cell_type": "markdown",
   "metadata": {},
   "source": [
    "use the last b quark for the matching"
   ]
  },
  {
   "cell_type": "code",
   "execution_count": 11,
   "metadata": {},
   "outputs": [
    {
     "name": "stdout",
     "output_type": "stream",
     "text": [
      "Events read: 20\n"
     ]
    }
   ],
   "source": [
    "j=0\n",
    "filename =\"root://storage01.lcg.cscs.ch:1096//pnfs/lcg.cscs.ch/cms/trivcat//store/mc/Run3Summer22EENanoAODv12/GluGlutoHHto4B_kl-1p00_kt-1p00_c2-0p00_TuneCP5_13p6TeV_powheg-pythia8/NANOAODSIM/Poisson60KeepRAW_130X_mcRun3_2022_realistic_postEE_v6-v2/50000/fc603037-ef65-4bbf-9cef-934ecec40bbe.root\"\n",
    "filename =\"/pnfs/psi.ch/cms/trivcat/store/user/mmalucch/hh4b_12.root\"\n",
    "events = NanoEventsFactory.from_root(filename, schemaclass=NanoAODSchema, entry_start=j, entry_stop=j+20).events()\n",
    "print(\"Events read:\", len(events))"
   ]
  },
  {
   "cell_type": "code",
   "execution_count": 12,
   "metadata": {},
   "outputs": [
    {
     "name": "stdout",
     "output_type": "stream",
     "text": [
      "[0, 1, 2, 3, 4, 5, 6, 7, 8, 9, 10, ... 60, 61, 62, 63, 64, 65, 66, 67, 68, 69, 70]\n",
      "[0, 1, 2, 3, 4, 5, 6, 7, 8, 9, 10, ... 55, 56, 57, 58, 59, 60, 61, 62, 63, 64, 65]\n",
      "\n",
      "loop\n",
      "old:  pdg [[5, -5, 5, -5], [-5, 5, 5, -5], [-5, 5, ... 5, -5], [5, -5, 5, -5], [5, -5, 5, -5]] mother_idx [[17, 18, 19, 20], [17, 16, 20, 19], [20, ... [23, 23, 28, 29], [21, 22, 23, 24]] pt [[116, 124, 186, 13.8], [87.2, 35.4, 103, ... 47.2, 65.8], [31.9, 24.1, 160, 34]] index [[33, 37, 40, 42], [21, 27, 32, 33], [21, ... [26, 27, 42, 43], [33, 34, 37, 38]]\n",
      "mother:  pdg [[5, -5, 5, -5], [-5, 5, 5, -5], [-5, 5, ... 5, -5], [25, 25, 5, -5], [5, -5, 5, -5]] mother_idx [[15, 15, 16, 16], [14, 14, 18, 15], [16, ... [21, 21, 24, 24], [19, 19, 20, 20]] pt [[128, 164, 218, 21.7], [93, 44, 103, 31.5, ... 84.8, 49.5, 83], [33.2, 34, 164, 34]]\n",
      "new:  pdg [[5, -5, 5, -5], [-5, 5, 5, -5], [-5, 5, ... 5, -5], [5, -5, 5, -5], [5, -5, 5, -5]] mother_idx [[15, 15, 16, 16], [14, 14, 18, 15], [16, ... [23, 23, 24, 24], [19, 19, 20, 20]] pt [[128, 164, 218, 21.7], [93, 44, 103, 31.5, ... 23.5, 49.5, 83], [33.2, 34, 164, 34]]\n",
      "[True, True, True, True, True, True, True, ... True, True, True, True, True, True]\n",
      "\n",
      "loop\n",
      "old:  pdg [[5, -5, 5, -5], [-5, 5, 5, -5], [-5, 5, ... 5, -5], [5, -5, 5, -5], [5, -5, 5, -5]] mother_idx [[15, 15, 16, 16], [14, 14, 18, 15], [16, ... [23, 23, 24, 24], [19, 19, 20, 20]] pt [[128, 164, 218, 21.7], [93, 44, 103, 31.5, ... 23.5, 49.5, 83], [33.2, 34, 164, 34]] index [[17, 18, 19, 20], [17, 16, 20, 19], [20, ... [26, 27, 28, 29], [21, 22, 23, 24]]\n",
      "mother:  pdg [[25, 25, 25, 25], [25, 25, 5, 25], [25, ... 25], [25, 25, 25, 25], [25, 25, 25, 25]] mother_idx [[13, 13, 14, 14], [9, 9, 15, 10], [12, ... 8], [21, 21, 22, 22], [17, 17, 18, 18]] pt [[265, 265, 209, 209], [87.2, 87.2, 105, ... 82.2, 82.2], [60.1, 60.1, 154, 154]]\n",
      "new:  pdg [[5, -5, 5, -5], [-5, 5, 5, -5], [-5, 5, ... 5, -5], [5, -5, 5, -5], [5, -5, 5, -5]] mother_idx [[15, 15, 16, 16], [14, 14, 15, 15], [16, ... [23, 23, 24, 24], [19, 19, 20, 20]] pt [[128, 164, 218, 21.7], [93, 44, 105, 31.5, ... 23.5, 49.5, 83], [33.2, 34, 164, 34]]\n",
      "[False, True, False, True, False, True, ... True, False, True, True, False, False]\n",
      "\n",
      "loop\n",
      "old:  pdg [[5, -5, 5, -5], [-5, 5, 5, -5], [-5, 5, ... 5, -5], [5, -5, 5, -5], [5, -5, 5, -5]] mother_idx [[15, 15, 16, 16], [14, 14, 15, 15], [16, ... [23, 23, 24, 24], [19, 19, 20, 20]] pt [[128, 164, 218, 21.7], [93, 44, 105, 31.5, ... 23.5, 49.5, 83], [33.2, 34, 164, 34]] index [[17, 18, 19, 20], [17, 16, 18, 19], [20, ... [26, 27, 28, 29], [21, 22, 23, 24]]\n",
      "mother:  pdg [[25, 25, 25, 25], [25, 25, 25, 25], [25, ... [25, 25, 25, 25], [25, 25, 25, 25]] mother_idx [[13, 13, 14, 14], [9, 9, 10, 10], [12, ... 8], [21, 21, 22, 22], [17, 17, 18, 18]] pt [[265, 265, 209, 209], [87.2, 87.2, 108, ... 82.2, 82.2], [60.1, 60.1, 154, 154]]\n",
      "new:  pdg [[5, -5, 5, -5], [-5, 5, 5, -5], [-5, 5, ... 5, -5], [5, -5, 5, -5], [5, -5, 5, -5]] mother_idx [[15, 15, 16, 16], [14, 14, 15, 15], [16, ... [23, 23, 24, 24], [19, 19, 20, 20]] pt [[128, 164, 218, 21.7], [93, 44, 105, 31.5, ... 23.5, 49.5, 83], [33.2, 34, 164, 34]]\n",
      "[False, False, False, False, False, False, ... False, False, True, False, False]\n",
      "\n",
      "loop\n",
      "old:  pdg [[5, -5, 5, -5], [-5, 5, 5, -5], [-5, 5, ... 5, -5], [5, -5, 5, -5], [5, -5, 5, -5]] mother_idx [[15, 15, 16, 16], [14, 14, 15, 15], [16, ... [23, 23, 24, 24], [19, 19, 20, 20]] pt [[128, 164, 218, 21.7], [93, 44, 105, 31.5, ... 23.5, 49.5, 83], [33.2, 34, 164, 34]] index [[17, 18, 19, 20], [17, 16, 18, 19], [20, ... [26, 27, 28, 29], [21, 22, 23, 24]]\n",
      "mother:  pdg [[25, 25, 25, 25], [25, 25, 25, 25], [25, ... [25, 25, 25, 25], [25, 25, 25, 25]] mother_idx [[13, 13, 14, 14], [9, 9, 10, 10], [12, ... 8], [21, 21, 22, 22], [17, 17, 18, 18]] pt [[265, 265, 209, 209], [87.2, 87.2, 108, ... 82.2, 82.2], [60.1, 60.1, 154, 154]]\n",
      "new:  pdg [[5, -5, 5, -5], [-5, 5, 5, -5], [-5, 5, ... 5, -5], [5, -5, 5, -5], [5, -5, 5, -5]] mother_idx [[15, 15, 16, 16], [14, 14, 15, 15], [16, ... [23, 23, 24, 24], [19, 19, 20, 20]] pt [[128, 164, 218, 21.7], [93, 44, 105, 31.5, ... 23.5, 49.5, 83], [33.2, 34, 164, 34]]\n",
      "[False, False, False, False, False, False, ... False, False, False, False, False]\n",
      "[[5, -5, 5, -5], [-5, 5, 5, -5], [-5, 5, ... 5, -5], [5, -5, 5, -5], [5, -5, 5, -5]] [[15, 15, 16, 16], [14, 14, 15, 15], [16, ... [23, 23, 24, 24], [19, 19, 20, 20]] [[128, 164, 218, 21.7], [93, 44, 105, 31.5, ... 23.5, 49.5, 83], [33.2, 34, 164, 34]]\n",
      "[[15, 15, 16, 16], [14, 14, 15, 15], [16, ... [23, 23, 24, 24], [19, 19, 20, 20]] 20\n",
      "[[17, 18, 19, 20], [17, 16, 18, 19], [20, ... [26, 27, 28, 29], [21, 22, 23, 24]] 20\n",
      "[[33, 37, 40, 42], [21, 27, 32, 33], [21, ... [26, 27, 42, 43], [33, 34, 37, 38]] 20\n"
     ]
    }
   ],
   "source": [
    "# add column with the index\n",
    "events.GenPart=ak.with_field(events.GenPart, ak.local_index(events.GenPart, axis=1), \"index\")\n",
    "print(events.GenPart.index[0])\n",
    "print(events.GenPart.index[1])\n",
    "# get last bquark copy\n",
    "isB = abs(events.GenPart.pdgId) == 5\n",
    "isLast = events.GenPart.hasFlags([\"isLastCopy\"])\n",
    "isHard = events.GenPart.hasFlags([\"fromHardProcess\"])\n",
    "bquarks_last = events.GenPart[isB & isLast & isHard]\n",
    "# print(bquarks_last.pdgId, bquarks_last.genPartIdxMother)\n",
    "b_quarks = bquarks_last\n",
    "while True:\n",
    "    print(\"\\nloop\")\n",
    "    b_mother = events.GenPart[b_quarks.genPartIdxMother]\n",
    "    mask_mother = (abs(b_mother.pdgId) == 5) | ((b_mother.pdgId) == 25)\n",
    "\n",
    "    bquarks_last = bquarks_last[mask_mother]\n",
    "    b_quarks = b_quarks[mask_mother]\n",
    "    b_mother = b_mother[mask_mother]\n",
    "    print(\"old: \", \"pdg\", b_quarks.pdgId, \"mother_idx\",b_quarks.genPartIdxMother, \"pt\", b_quarks.pt, \"index\", b_quarks.index)\n",
    "    print(\"mother: \", \"pdg\", b_mother.pdgId, \"mother_idx\",b_mother.genPartIdxMother, \"pt\", b_mother.pt)\n",
    "    # break\n",
    "    b_quarks = ak.where(abs(b_mother.pdgId) == 5, b_mother, b_quarks)\n",
    "    print(\"new: \", \"pdg\", b_quarks.pdgId, \"mother_idx\",b_quarks.genPartIdxMother, \"pt\", b_quarks.pt)\n",
    "\n",
    "    print(ak.any(abs(b_mother.pdgId) != 25, axis=1))\n",
    "    if ak.all(abs(b_mother.pdgId) == 25):\n",
    "        break\n",
    "\n",
    "print(b_quarks.pdgId, b_quarks.genPartIdxMother, b_quarks.pt)\n",
    "print(b_quarks.genPartIdxMother, len(b_quarks.genPartIdxMother))\n",
    "print(b_quarks.index, len(b_quarks.index))\n",
    "print(bquarks_last.index, len(bquarks_last.index))\n"
   ]
  },
  {
   "cell_type": "code",
   "execution_count": 14,
   "metadata": {},
   "outputs": [
    {
     "name": "stdout",
     "output_type": "stream",
     "text": [
      "[[33, 37, 40, 42], [21, 27, 32, 33], [21, ... [26, 27, 42, 43], [33, 34, 37, 38]] 20\n"
     ]
    }
   ],
   "source": [
    "print(bquarks_last.index, len(bquarks_last.index))\n"
   ]
  },
  {
   "cell_type": "code",
   "execution_count": 13,
   "metadata": {},
   "outputs": [
    {
     "name": "stdout",
     "output_type": "stream",
     "text": [
      "[[265, 209], [87.2, 108], [162, 72.8], ... [76.2, 91], [84.8, 82.2], [60.1, 154]] [[[17, 18], [19, 20]], [[87, 88], ... [1170, 1171]], [[1228, 1229], [1230, 1231]]] [[[5, -5], [5, -5]], [[5, -5], [5, -5]], ... [[5, -5], [5, -5]], [[5, -5], [5, -5]]] [[[128, 164], [218, 21.7]], [[44, 93], ... [49.5, 83]], [[33.2, 34], [164, 34]]]\n",
      "[[0, 1], [1, 0], [0, 1], [1, 0], [0, 1], ... [1, 0], [1, 0], [1, 0], [0, 1], [1, 0]]\n",
      "[[15, 16], [14, 15], [15, 16], [13, 14], ... [17, 18], [10, 11], [23, 24], [19, 20]]\n",
      "[[265, 209], [108, 87.2], [162, 72.8], ... [91, 76.2], [84.8, 82.2], [154, 60.1]] [[[17, 18], [19, 20]], [[89, 90], ... [1170, 1171]], [[1230, 1231], [1228, 1229]]] [[[5, -5], [5, -5]], [[5, -5], [5, -5]], ... [[5, -5], [5, -5]], [[5, -5], [5, -5]]] [[[128, 164], [218, 21.7]], [[105, 31.5], ... [49.5, 83]], [[164, 34], [33.2, 34]]]\n",
      "[[15, 16], [15, 14], [15, 16], [14, 13], ... [18, 17], [11, 10], [23, 24], [20, 19]]\n",
      "[[1, 1, 2, 2], [2, 2, 1, 1], [2, 2, 1, 1, ... 2, 1, 1], [1, 1, 2, 2], [2, 2, 1, 1]]\n"
     ]
    }
   ],
   "source": [
    "# order higgs pt\n",
    "higgs = events.GenPart[\n",
    "            (events.GenPart.pdgId == 25)\n",
    "            & events.GenPart.hasFlags([\"fromHardProcess\"])\n",
    "            & events.GenPart.hasFlags([\"isLastCopy\"])\n",
    "        ]\n",
    "higgs = higgs[ak.num(higgs.childrenIdxG, axis=2) == 2]\n",
    "print(higgs.pt, higgs.childrenIdxG, higgs.children.pdgId, higgs.children.pt)\n",
    "print(ak.argsort(higgs.pt,ascending=False))\n",
    "print(higgs.index)\n",
    "higgs=higgs[ak.argsort(higgs.pt,ascending=False)]\n",
    "print(higgs.pt, higgs.childrenIdxG, higgs.children.pdgId, higgs.children.pt)\n",
    "print(higgs.index)\n",
    "\n",
    "provenance = ak.where(b_quarks.genPartIdxMother == higgs.index[:,0], 1, 2)\n",
    "print(provenance)\n"
   ]
  },
  {
   "cell_type": "code",
   "execution_count": null,
   "metadata": {},
   "outputs": [],
   "source": []
  }
 ],
 "metadata": {
  "kernelspec": {
   "display_name": "Python 3",
   "language": "python",
   "name": "python3"
  },
  "language_info": {
   "codemirror_mode": {
    "name": "ipython",
    "version": 3
   },
   "file_extension": ".py",
   "mimetype": "text/x-python",
   "name": "python",
   "nbconvert_exporter": "python",
   "pygments_lexer": "ipython3",
   "version": "3.9.18"
  }
 },
 "nbformat": 4,
 "nbformat_minor": 2
}
