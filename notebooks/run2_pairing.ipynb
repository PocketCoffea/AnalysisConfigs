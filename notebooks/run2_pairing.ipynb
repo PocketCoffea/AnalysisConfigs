{
 "cells": [
  {
   "cell_type": "code",
   "execution_count": 1,
   "metadata": {},
   "outputs": [],
   "source": [
    "from coffea.nanoevents import NanoEventsFactory, NanoAODSchema\n",
    "import awkward as ak\n",
    "import matplotlib.pyplot as plt\n",
    "import numpy as np\n",
    "from math import sqrt"
   ]
  },
  {
   "cell_type": "code",
   "execution_count": 2,
   "metadata": {},
   "outputs": [
    {
     "name": "stdout",
     "output_type": "stream",
     "text": [
      "Events read: 2\n"
     ]
    }
   ],
   "source": [
    "filename = \"../../hh4b_fulldataset.root\"\n",
    "filename = \"/pnfs/psi.ch/cms/trivcat/store/user/mmalucch/hh4b_fulldataset.root\"\n",
    "events = NanoEventsFactory.from_root(\n",
    "    filename, schemaclass=NanoAODSchema, entry_stop=2\n",
    ").events()\n",
    "print(\"Events read:\", len(events))"
   ]
  },
  {
   "cell_type": "code",
   "execution_count": 4,
   "metadata": {},
   "outputs": [
    {
     "name": "stdout",
     "output_type": "stream",
     "text": [
      "2\n",
      "<class 'coffea.nanoevents.methods.nanoaod.JetArray'>\n"
     ]
    }
   ],
   "source": [
    "jet=events.Jet[:,:4]\n",
    "# only events with at least 4 jets\n",
    "jet=jet[ak.num(jet)>3]\n",
    "print(len(jet))\n",
    "print(type(jet))"
   ]
  },
  {
   "cell_type": "markdown",
   "metadata": {},
   "source": [
    "get the possible higgs candidates"
   ]
  },
  {
   "cell_type": "code",
   "execution_count": 72,
   "metadata": {},
   "outputs": [
    {
     "name": "stdout",
     "output_type": "stream",
     "text": [
      "px [-3.52, 24.9]\n",
      "py [26.8, 54.6]\n",
      "pz [6.45, -252]\n",
      "energy [203, 381]\n",
      "px [-26.9, 10.2]\n",
      "py [9.59, -38.4]\n",
      "pz [-89.1, 98.6]\n",
      "energy [187, 137]\n",
      "px [-176, -86.6]\n",
      "py [26.4, 80.7]\n",
      "pz [-128, -125]\n",
      "energy [229, 327]\n",
      "px [146, 122]\n",
      "py [9.99, -64.4]\n",
      "pz [45.5, -28.2]\n",
      "energy [160, 192]\n",
      "px [-32.6, -36]\n",
      "py [45.7, 154]\n",
      "pz [-33.4, -149]\n",
      "energy [165, 292]\n",
      "px [2.21, 71.2]\n",
      "py [-9.28, -137]\n",
      "pz [-49.3, -3.81]\n",
      "energy [225, 226]\n",
      "[-3.52, 24.9]\n",
      "[-26.9, 10.2]\n",
      "[-176, -86.6]\n",
      "[146, 122]\n",
      "[-32.6, -36]\n",
      "[2.21, 71.2]\n",
      "[{x: -3.52, y: 26.8, z: 6.45, t: 203}, {x: 24.9, y: 54.6, z: -252, t: 381}]\n",
      "[[{x: -3.52, y: 26.8, z: 6.45, t: 203}], [{x: 24.9, y: 54.6, z: -252, t: 381}]]\n",
      "[[{x: -26.9, y: 9.59, z: -89.1, t: 187}], [{x: 10.2, y: -38.4, z: 98.6, t: 137}]]\n",
      "[[-3.52, -26.9], [24.9, 10.2]]\n",
      "[[-176, 146], [-86.6, 122]]\n",
      "[[-32.6, 2.21], [-36, 71.2]]\n",
      "[[-3.52, -26.9, -176, 146, -32.6, 2.21], [24.9, 10.2, -86.6, 122, -36, 71.2]]\n",
      "[[[-3.52, -26.9], [-176, 146], [-32.6, 2.21, ... 10.2], [-86.6, 122], [-36, 71.2]]] \n",
      "\n",
      "[[-3.52, -26.9], [-176, 146], [-32.6, 2.21]]\n",
      "[[24.9, 10.2], [-86.6, 122], [-36, 71.2]]\n"
     ]
    }
   ],
   "source": [
    "comb_idx = [[(0, 1), (2, 3)], [(0, 2), (1, 3)], [(0, 3), (1, 2)]]\n",
    "\n",
    "for i in range(3):\n",
    "    for j in range(2):\n",
    "        higgs_candidate = jet[:, comb_idx[i][j][0]] + jet[:, comb_idx[i][j][1]]\n",
    "        # print(higgs_candidate.mass)\n",
    "        print(\"px\", higgs_candidate.px)\n",
    "        print(\"py\", higgs_candidate.py)\n",
    "        print(\"pz\", higgs_candidate.pz)\n",
    "        print(\"energy\", higgs_candidate.energy)\n",
    "\n",
    "higgs_01 = jet[:, comb_idx[0][0][0]] + jet[:, comb_idx[0][0][1]]\n",
    "higgs_23= jet[:, comb_idx[0][1][0]] + jet[:, comb_idx[0][1][1]]\n",
    "\n",
    "higgs_02 = jet[:, comb_idx[1][0][0]] + jet[:, comb_idx[1][0][1]]\n",
    "higgs_13= jet[:, comb_idx[1][1][0]] + jet[:, comb_idx[1][1][1]]\n",
    "\n",
    "higgs_03 = jet[:, comb_idx[2][0][0]] + jet[:, comb_idx[2][0][1]]\n",
    "higgs_12= jet[:, comb_idx[2][1][0]] + jet[:, comb_idx[2][1][1]]\n",
    "\n",
    "print(higgs_01.px)\n",
    "print(higgs_23.px)\n",
    "print(higgs_02.px)\n",
    "print(higgs_13.px)\n",
    "print(higgs_03.px)\n",
    "print(higgs_12.px)\n",
    "\n",
    "print(higgs_01)\n",
    "\n",
    "higgs_01_unflatten = ak.unflatten(higgs_01, 1)\n",
    "higgs_23_unflatten = ak.unflatten(higgs_23, 1)\n",
    "print(higgs_01_unflatten)\n",
    "print(higgs_23_unflatten)\n",
    "\n",
    "higgs_02_unflatten = ak.unflatten(higgs_02, 1)\n",
    "higgs_13_unflatten = ak.unflatten(higgs_13, 1)\n",
    "higgs_03_unflatten = ak.unflatten(higgs_03, 1)\n",
    "higgs_12_unflatten = ak.unflatten(higgs_12, 1)\n",
    "\n",
    "\n",
    "higgs_pair_0 = ak.concatenate([higgs_01_unflatten, higgs_23_unflatten], axis=1)\n",
    "higgs_pair_1 = ak.concatenate([higgs_02_unflatten, higgs_13_unflatten], axis=1)\n",
    "higgs_pair_2 = ak.concatenate([higgs_03_unflatten, higgs_12_unflatten], axis=1)\n",
    "print(higgs_pair_0.px)\n",
    "print(higgs_pair_1.px)\n",
    "print(higgs_pair_2.px)\n",
    "\n",
    "higgs_candidates = ak.concatenate([higgs_pair_0, higgs_pair_1, higgs_pair_2], axis=1)\n",
    "print(higgs_candidates.px)\n",
    "\n",
    "higgs_candidates_unflatten = ak.unflatten(higgs_candidates,2, axis=1)\n",
    "print(higgs_candidates_unflatten.px, \"\\n\")\n",
    "for i in range(len(higgs_candidates_unflatten)):\n",
    "    print(higgs_candidates_unflatten[i].px)"
   ]
  },
  {
   "cell_type": "markdown",
   "metadata": {},
   "source": [
    "order higgs 1 and 2 according to their pt"
   ]
  },
  {
   "cell_type": "code",
   "execution_count": 121,
   "metadata": {},
   "outputs": [
    {
     "name": "stdout",
     "output_type": "stream",
     "text": [
      "[[27.1, 28.6], [178, 146], [56.2, 9.54]]\n",
      "[[60.1, 39.7], [118, 138], [158, 155]]\n",
      "\n",
      " [[28.6, 27.1], [178, 146], [56.2, 9.54]]\n",
      "\n",
      " [[60.1, 39.7], [138, 118], [158, 155]]\n"
     ]
    }
   ],
   "source": [
    "for i in range(len(higgs_candidates_unflatten)):\n",
    "    print(higgs_candidates_unflatten[i].pt)\n",
    "\n",
    "# order the higgs candidates by pt\n",
    "higgs_candidates_unflatten_order_idx = ak.argsort(higgs_candidates_unflatten.pt, axis=2, ascending=False)\n",
    "higgs_candidates_unflatten_order = higgs_candidates_unflatten[higgs_candidates_unflatten_order_idx]\n",
    "for i in range(len(higgs_candidates_unflatten_order)):\n",
    "    print(\"\\n\",higgs_candidates_unflatten_order[i].pt)"
   ]
  },
  {
   "cell_type": "code",
   "execution_count": 120,
   "metadata": {},
   "outputs": [
    {
     "name": "stdout",
     "output_type": "stream",
     "text": [
      "[[[162, 201], [66.2, 46.6], [151, 219]], [[280, 86.7], [130, 277], [196, 164]]]\n",
      "[[162, 201], [66.2, 46.6], [151, 219]]\n",
      "[[162, 201], [280, 86.7]]\n",
      "[162, 280]\n",
      "[32.6, 131]\n",
      "[[32.6, 12.3, 53.5], [131, 110, 17.2]]\n",
      "[[1, 0, 2], [2, 1, 0]]\n",
      "[12.3, 17.2]\n",
      "[1, 2]\n",
      "[12.3, 17.2]\n",
      "[32.6, 110]\n",
      "[0, 2]\n"
     ]
    }
   ],
   "source": [
    "def distance_func(higgs_pair, k):\n",
    "    higgs1 = higgs_pair[:,0]\n",
    "    higgs2 = higgs_pair[:,1]\n",
    "    dist = abs(higgs1.mass - higgs2.mass * k) / sqrt(1 + k**2)\n",
    "    return dist\n",
    "def distance_func_tot(higgs_pair, k):\n",
    "    higgs1 = higgs_pair[:,:,0]\n",
    "    higgs2 = higgs_pair[:,:,1]\n",
    "    dist = abs(higgs1.mass - higgs2.mass * k) / sqrt(1 + k**2)\n",
    "    return dist\n",
    "\n",
    "\n",
    "print(higgs_candidates_unflatten_order[:].mass)\n",
    "print(higgs_candidates_unflatten_order[0].mass)\n",
    "print(higgs_candidates_unflatten_order[:,0].mass)\n",
    "print(higgs_candidates_unflatten_order[:,0,0].mass)\n",
    "distance = distance_func(\n",
    "    higgs_candidates_unflatten_order[:,0],\n",
    "    1.04,\n",
    ")\n",
    "print(distance)\n",
    "distance = distance_func_tot(\n",
    "    higgs_candidates_unflatten_order,\n",
    "    1.04,\n",
    ")\n",
    "print(distance)\n",
    "\n",
    "dist_order_idx=ak.argsort(distance, axis=1, ascending=True)\n",
    "print(ak.argsort(distance, axis=1, ascending=True))\n",
    "dist_order=distance[dist_order_idx]\n",
    "print(dist_order[:,0])\n",
    "\n",
    "print(dist_order_idx[:,0])\n",
    "\n",
    "min_dist= dist_order[:,0]\n",
    "second_min_dist= dist_order[:,1]\n",
    "print(min_dist)\n",
    "print(second_min_dist)\n"
   ]
  },
  {
   "cell_type": "markdown",
   "metadata": {},
   "source": [
    "## compute the  pT of the two Higgs boson candidates in the four-jet center-of-mass reference frame\n",
    "\n",
    "\n",
    "- compute the sum of the 4 jet 4-vectors\n",
    "- get the 4-jet center-of-mass frame boost vector\n",
    "- boost the 4-jet 4-vectors to the 4-jet center-of-mass frame\n",
    "- reconstruct the Higgs boson candidates in the 4-jet center-of-mass frame\n",
    "- boost the Higgs boson candidates from the lab frame to the 4-jet center-of-mass frame and compare it to the previous result\n",
    "- compute the pT of the two Higgs boson candidates in the four-jet center-of-mass reference frame\n",
    "- choose the combination with the highest higgs pT\n"
   ]
  },
  {
   "cell_type": "code",
   "execution_count": 122,
   "metadata": {},
   "outputs": [
    {
     "name": "stdout",
     "output_type": "stream",
     "text": [
      "[1, 2]\n"
     ]
    }
   ],
   "source": [
    "\n",
    "min_idx = ak.where(dist_order[:,1]-dist_order[:,0]>30, dist_order_idx[:,0], dist_order_idx[:,0])\n",
    "\n",
    "print(min_idx)"
   ]
  },
  {
   "cell_type": "code",
   "execution_count": null,
   "metadata": {},
   "outputs": [],
   "source": []
  }
 ],
 "metadata": {
  "kernelspec": {
   "display_name": "Python 3",
   "language": "python",
   "name": "python3"
  },
  "language_info": {
   "codemirror_mode": {
    "name": "ipython",
    "version": 3
   },
   "file_extension": ".py",
   "mimetype": "text/x-python",
   "name": "python",
   "nbconvert_exporter": "python",
   "pygments_lexer": "ipython3",
   "version": "3.9.18"
  }
 },
 "nbformat": 4,
 "nbformat_minor": 2
}
