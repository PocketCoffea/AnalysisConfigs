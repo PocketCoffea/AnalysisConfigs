{
 "cells": [
  {
   "cell_type": "code",
   "execution_count": 1,
   "metadata": {},
   "outputs": [],
   "source": [
    "from coffea.nanoevents import NanoEventsFactory, NanoAODSchema\n",
    "import awkward as ak\n",
    "import matplotlib.pyplot as plt"
   ]
  },
  {
   "cell_type": "code",
   "execution_count": 10,
   "metadata": {},
   "outputs": [
    {
     "name": "stdout",
     "output_type": "stream",
     "text": [
      "Events read: 1\n"
     ]
    }
   ],
   "source": [
    "filename = \"../../hh4b_fulldataset.root\"\n",
    "events = NanoEventsFactory.from_root(\n",
    "    filename, schemaclass=NanoAODSchema, entry_stop=1\n",
    ").events()\n",
    "print(\"Events read:\", len(events))"
   ]
  },
  {
   "cell_type": "code",
   "execution_count": 11,
   "metadata": {},
   "outputs": [
    {
     "name": "stdout",
     "output_type": "stream",
     "text": [
      "4\n"
     ]
    }
   ],
   "source": [
    "jet=events.Jet[:,:4]\n",
    "print(len(jet[0]))"
   ]
  },
  {
   "cell_type": "code",
   "execution_count": 12,
   "metadata": {},
   "outputs": [
    {
     "name": "stdout",
     "output_type": "stream",
     "text": [
      "[[Jet, Jet, Jet, Jet]]\n"
     ]
    }
   ],
   "source": [
    "print(jet)"
   ]
  },
  {
   "cell_type": "code",
   "execution_count": 37,
   "metadata": {},
   "outputs": [
    {
     "name": "stdout",
     "output_type": "stream",
     "text": [
      "[[96.3, 87.7, 85.5, 60.2]]\n",
      "[[-91.1, 87.6, -85.4, 58.5]]\n",
      "[[31.3, -4.44, -4.84, 14.4]]\n",
      "[[-36.2, 42.7, -91.9, 2.82]]\n",
      "[[104, 99.2, 126, 61]]\n",
      "6\n",
      "(0, 1)\n",
      "(0, 2)\n",
      "(0, 3)\n",
      "(1, 2)\n",
      "(1, 3)\n",
      "(2, 3)\n",
      "[[(0, 1), (2, 3)], [(0, 2), (1, 3)], [(0, 3), (1, 2)]]\n",
      "[-3.52]\n",
      "[26.8]\n",
      "[201]\n",
      "[[-91.1, 87.6]] [[-85.4, 58.5]]\n",
      "[[31.3, -4.44]] [[-4.84, 14.4]]\n",
      "[[-36.2, 42.7]] [[-91.9, 2.82]]\n",
      "[[104, 99.2]] [[126, 61]]\n",
      "[<LorentzVectorArray [... y: 26.8, z: 6.45, t: 203}] type='1 * LorentzVector[\"x\":...'>, <LorentzVectorArray [... y: 9.59, z: -89.1, t: 187}] type='1 * LorentzVector[\"x\"...'>, <LorentzVectorArray [... y: 26.4, z: -128, t: 229}] type='1 * LorentzVector[\"x\":...'>, <LorentzVectorArray [... y: 9.99, z: 45.5, t: 160}] type='1 * LorentzVector[\"x\":...'>, <LorentzVectorArray [... y: 45.7, z: -33.4, t: 165}] type='1 * LorentzVector[\"x\"...'>, <LorentzVectorArray [... y: -9.28, z: -49.3, t: 225}] type='1 * LorentzVector[\"x...'>]\n"
     ]
    }
   ],
   "source": [
    "# for each eventwhich has4 jets, get the possible combinations of 2 jets\n",
    "# and calculate the invariant mass of each combination\n",
    "\n",
    "# get the possible combinations of 2 jets\n",
    "combos = ak.argcombinations(jet, 2)\n",
    "print(jet.pt)\n",
    "print(jet.px)\n",
    "print(jet.py)\n",
    "print(jet.pz)\n",
    "print(jet.energy)\n",
    "print(len(combos[0]))\n",
    "for i in range(len(combos[0])):\n",
    "    print(combos[0][i])\n",
    "\n",
    "comb_idx=[[(0,1),(2,3)],[(0,2),(1,3)],[(0,3),(1,2)]]\n",
    "print(comb_idx)\n",
    "\n",
    "#jet=[[96.3, 87.7, 85.5, 60.2]]\n",
    "jet_combos = jet[:,comb_idx[0][0][0]]+jet[:,comb_idx[0][0][1]]\n",
    "print(jet_combos.px)\n",
    "print(jet_combos.py)\n",
    "print(jet_combos.mass)\n",
    "print(jet[:,comb_idx[0][0]].px, jet[:,comb_idx[0][1]].px)\n",
    "print(jet[:,comb_idx[0][0]].py, jet[:,comb_idx[0][1]].py)\n",
    "print(jet[:,comb_idx[0][0]].pz, jet[:,comb_idx[0][1]].pz)\n",
    "print(jet[:,comb_idx[0][0]].energy, jet[:,comb_idx[0][1]].energy)\n",
    "\n",
    "jet_combos_all=[]\n",
    "for i in range(len(comb_idx)):\n",
    "    jet_combos = jet[:,comb_idx[i][0][0]]+jet[:,comb_idx[i][0][1]]\n",
    "    jet_combos_all.append(jet_combos)\n",
    "    jet_combos = jet[:,comb_idx[i][1][0]]+jet[:,comb_idx[i][1][1]]\n",
    "    jet_combos_all.append(jet_combos)\n",
    "print(jet_combos_all)"
   ]
  },
  {
   "cell_type": "code",
   "execution_count": 45,
   "metadata": {},
   "outputs": [
    {
     "name": "stdout",
     "output_type": "stream",
     "text": [
      "[<Array [[0, 2], [0, 1], [0, 1]] type='3 * var * int64'>, <Array [[1, 3], [2, 3], [3, 2]] type='3 * var * int64'>]\n"
     ]
    }
   ],
   "source": [
    "unzip_comb_idx = list(ak.unzip(comb_idx))\n",
    "print(unzip_comb_idx)"
   ]
  },
  {
   "cell_type": "code",
   "execution_count": 43,
   "metadata": {},
   "outputs": [
    {
     "ename": "TypeError",
     "evalue": "'<=' not supported between instances of 'tuple' and 'int'",
     "output_type": "error",
     "traceback": [
      "\u001b[0;31m---------------------------------------------------------------------------\u001b[0m",
      "\u001b[0;31mTypeError\u001b[0m                                 Traceback (most recent call last)",
      "Cell \u001b[0;32mIn[43], line 1\u001b[0m\n\u001b[0;32m----> 1\u001b[0m zip_comb_idx \u001b[38;5;241m=\u001b[39m(\u001b[43mak\u001b[49m\u001b[38;5;241;43m.\u001b[39;49m\u001b[43mzip\u001b[49m\u001b[43m(\u001b[49m\u001b[38;5;241;43m*\u001b[39;49m\u001b[43munzip_comb_idx\u001b[49m\u001b[43m)\u001b[49m)\n\u001b[1;32m      2\u001b[0m \u001b[38;5;28mprint\u001b[39m(zip_comb_idx)\n\u001b[1;32m      3\u001b[0m zip_comb_idx\u001b[38;5;241m.\u001b[39mshow()\n",
      "File \u001b[0;32m~/micromamba/envs/pocket-coffea/lib/python3.9/site-packages/awkward/operations/structure.py:589\u001b[0m, in \u001b[0;36mzip\u001b[0;34m(arrays, depth_limit, parameters, with_name, highlevel, behavior, right_broadcast, optiontype_outside_record)\u001b[0m\n\u001b[1;32m    470\u001b[0m \u001b[38;5;28;01mdef\u001b[39;00m \u001b[38;5;21mzip\u001b[39m(\n\u001b[1;32m    471\u001b[0m     arrays,\n\u001b[1;32m    472\u001b[0m     depth_limit\u001b[38;5;241m=\u001b[39m\u001b[38;5;28;01mNone\u001b[39;00m,\n\u001b[0;32m   (...)\u001b[0m\n\u001b[1;32m    478\u001b[0m     optiontype_outside_record\u001b[38;5;241m=\u001b[39m\u001b[38;5;28;01mFalse\u001b[39;00m,\n\u001b[1;32m    479\u001b[0m ):\n\u001b[1;32m    480\u001b[0m \u001b[38;5;250m    \u001b[39m\u001b[38;5;124;03m\"\"\"\u001b[39;00m\n\u001b[1;32m    481\u001b[0m \u001b[38;5;124;03m    Args:\u001b[39;00m\n\u001b[1;32m    482\u001b[0m \u001b[38;5;124;03m        arrays (dict or iterable of arrays): Arrays to combine into a\u001b[39;00m\n\u001b[0;32m   (...)\u001b[0m\n\u001b[1;32m    587\u001b[0m \n\u001b[1;32m    588\u001b[0m \u001b[38;5;124;03m    \"\"\"\u001b[39;00m\n\u001b[0;32m--> 589\u001b[0m     \u001b[38;5;28;01mif\u001b[39;00m depth_limit \u001b[38;5;129;01mis\u001b[39;00m \u001b[38;5;129;01mnot\u001b[39;00m \u001b[38;5;28;01mNone\u001b[39;00m \u001b[38;5;129;01mand\u001b[39;00m \u001b[43mdepth_limit\u001b[49m\u001b[43m \u001b[49m\u001b[38;5;241;43m<\u001b[39;49m\u001b[38;5;241;43m=\u001b[39;49m\u001b[43m \u001b[49m\u001b[38;5;241;43m0\u001b[39;49m:\n\u001b[1;32m    590\u001b[0m         \u001b[38;5;28;01mraise\u001b[39;00m \u001b[38;5;167;01mValueError\u001b[39;00m(\n\u001b[1;32m    591\u001b[0m             \u001b[38;5;124m\"\u001b[39m\u001b[38;5;124mdepth_limit must be None or at least 1\u001b[39m\u001b[38;5;124m\"\u001b[39m\n\u001b[1;32m    592\u001b[0m             \u001b[38;5;241m+\u001b[39m ak\u001b[38;5;241m.\u001b[39m_util\u001b[38;5;241m.\u001b[39mexception_suffix(\u001b[38;5;18m__file__\u001b[39m)\n\u001b[1;32m    593\u001b[0m         )\n\u001b[1;32m    595\u001b[0m     \u001b[38;5;28;01mif\u001b[39;00m \u001b[38;5;28misinstance\u001b[39m(arrays, \u001b[38;5;28mdict\u001b[39m):\n",
      "\u001b[0;31mTypeError\u001b[0m: '<=' not supported between instances of 'tuple' and 'int'"
     ]
    }
   ],
   "source": [
    "zip_comb_idx =(ak.zip(*unzip_comb_idx))\n",
    "print(zip_comb_idx)\n",
    "zip_comb_idx.show()"
   ]
  },
  {
   "cell_type": "code",
   "execution_count": null,
   "metadata": {},
   "outputs": [],
   "source": []
  }
 ],
 "metadata": {
  "kernelspec": {
   "display_name": "Python 3",
   "language": "python",
   "name": "python3"
  },
  "language_info": {
   "codemirror_mode": {
    "name": "ipython",
    "version": 3
   },
   "file_extension": ".py",
   "mimetype": "text/x-python",
   "name": "python",
   "nbconvert_exporter": "python",
   "pygments_lexer": "ipython3",
   "version": "3.9.18"
  }
 },
 "nbformat": 4,
 "nbformat_minor": 2
}
