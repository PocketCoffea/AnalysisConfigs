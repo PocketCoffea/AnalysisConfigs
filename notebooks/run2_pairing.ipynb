{
 "cells": [
  {
   "cell_type": "code",
   "execution_count": 2,
   "metadata": {},
   "outputs": [],
   "source": [
    "from coffea.nanoevents import NanoEventsFactory, NanoAODSchema\n",
    "import awkward as ak\n",
    "import matplotlib.pyplot as plt\n",
    "import numpy as np"
   ]
  },
  {
   "cell_type": "code",
   "execution_count": 40,
   "metadata": {},
   "outputs": [
    {
     "name": "stdout",
     "output_type": "stream",
     "text": [
      "Events read: 20\n"
     ]
    }
   ],
   "source": [
    "filename = \"../../hh4b_fulldataset.root\"\n",
    "filename = \"/pnfs/psi.ch/cms/trivcat/store/user/mmalucch/hh4b_fulldataset.root\"\n",
    "events = NanoEventsFactory.from_root(\n",
    "    filename, schemaclass=NanoAODSchema, entry_stop=20\n",
    ").events()\n",
    "print(\"Events read:\", len(events))"
   ]
  },
  {
   "cell_type": "code",
   "execution_count": 46,
   "metadata": {},
   "outputs": [
    {
     "name": "stdout",
     "output_type": "stream",
     "text": [
      "18\n"
     ]
    }
   ],
   "source": [
    "jet=events.Jet[:,:4]\n",
    "# only events with at least 4 jets\n",
    "jet=jet[ak.num(jet)>3]\n",
    "print(len(jet))"
   ]
  },
  {
   "cell_type": "code",
   "execution_count": 49,
   "metadata": {},
   "outputs": [
    {
     "name": "stdout",
     "output_type": "stream",
     "text": [
      "[[96.3, 87.7, 85.5, 60.2], [152, 123, 59.2, ... 35.5, 26.2], [284, 150, 142, 79.6]]\n",
      "[[193, 175, 171, 120], [303, 245, 118, ... 114, 71.1, 52.3], [568, 299, 284, 159]]\n"
     ]
    }
   ],
   "source": [
    "print(jet.pt)\n",
    "jet=ak.with_field(jet, jet.pt*2, 'pt')\n",
    "print(jet.pt)"
   ]
  },
  {
   "cell_type": "code",
   "execution_count": 20,
   "metadata": {},
   "outputs": [
    {
     "name": "stdout",
     "output_type": "stream",
     "text": [
      "(0, 1)\n",
      "(0, 2)\n",
      "(0, 3)\n",
      "(1, 2)\n",
      "(1, 3)\n",
      "(2, 3)\n",
      "\n",
      "px: [[-182, 175, -171, 117], [-133, 183, -40.4, 60.9]]\n",
      "py: [[62.5, -8.88, -9.68, 28.9], [273, -163, -111, 34.5]]\n",
      "pz: [[-72.5, 85.4, -184, 5.65], [-373, -131, 123, 74.2]]\n",
      "energy: [[206, 196, 251, 121], [481, 278, 171, 102]]\n",
      "\n",
      "\n",
      "px [-7.05, 49.9]\n",
      "py [53.6, 109]\n",
      "pz [12.9, -504]\n",
      "energy [402, 759]\n",
      "px [-53.8, 20.5]\n",
      "py [19.2, -76.8]\n",
      "pz [-178, 197]\n",
      "energy [372, 273]\n",
      "higgs_candidate_pair: [<LorentzVectorArray [{x: -7.05, y: 53.6, ... t: 759}] type='2 * LorentzVector[\"x...'>, <LorentzVectorArray [{x: -53.8, y: 19.2, ... t: 273}] type='2 * LorentzVector[\"x...'>]\n",
      "px [-353, -173]\n",
      "py [52.8, 161]\n",
      "pz [-256, -250]\n",
      "energy [457, 652]\n",
      "px [292, 244]\n",
      "py [20, -129]\n",
      "pz [91, -56.3]\n",
      "energy [317, 381]\n",
      "higgs_candidate_pair: [<LorentzVectorArray [{x: -353, y: 52.8, ... t: 652}] type='2 * LorentzVector[\"x\"...'>, <LorentzVectorArray [{x: 292, y: 20, z: 91, ... t: 381}] type='2 * LorentzVector...'>]\n",
      "px [-65.3, -72]\n",
      "py [91.4, 307]\n",
      "pz [-66.8, -299]\n",
      "energy [327, 583]\n",
      "px [4.42, 142]\n",
      "py [-18.6, -275]\n",
      "pz [-98.5, -7.61]\n",
      "energy [447, 449]\n",
      "higgs_candidate_pair: [<LorentzVectorArray [{x: -65.3, y: 91.4, ... t: 583}] type='2 * LorentzVector[\"x...'>, <LorentzVectorArray [{x: 4.42, y: -18.6, ... t: 449}] type='2 * LorentzVector[\"x...'>]\n",
      "higgs_candidates: [[{x: -7.05, y: 53.6, z: 12.9, t: 402}, {x: 49.9, ... y: -275, z: -7.61, t: 449}]]\n",
      "6 2\n",
      "[[[{x: -7.05, y: 53.6, z: 12.9, t: 402}, ... y: -275, z: -7.61, t: 449}]]]\n",
      "2 3 2\n",
      "-7.0463714599609375\n",
      "49.89344787597656\n",
      "-53.79884338378906\n",
      "20.49808120727539\n",
      "-352.92242431640625\n",
      "-173.25360107421875\n",
      "292.07720947265625\n",
      "243.64512634277344\n",
      "-65.26956176757812\n",
      "-72.02890014648438\n",
      "4.424346923828125\n",
      "142.42044067382812\n"
     ]
    }
   ],
   "source": [
    "# for each eventwhich has4 jets, get the possible combinations of 2 jets\n",
    "# and calculate the invariant mass of each combination\n",
    "\n",
    "# get the possible combinations of 2 jets\n",
    "combos = ak.argcombinations(jet, 2)\n",
    "# print(len(combos[0]))\n",
    "for i in range(len(combos[0])):\n",
    "    print(combos[0][i])\n",
    "\n",
    "comb_idx = [[(0, 1), (2, 3)], [(0, 2), (1, 3)], [(0, 3), (1, 2)]]\n",
    "# print(comb_idx)\n",
    "\n",
    "# jet=[[96.3, 87.7, 85.5, 60.2]]\n",
    "jet_combos = jet[:, comb_idx[0][0][0]] + jet[:, comb_idx[0][0][1]]\n",
    "# print(jet_combos.px)\n",
    "# print(jet_combos.py)\n",
    "# print(jet_combos.mass)\n",
    "# print(jet[:, comb_idx[0][0]].px, jet[:, comb_idx[0][1]].px)\n",
    "# print(jet[:, comb_idx[0][0]].py, jet[:, comb_idx[0][1]].py)\n",
    "# print(jet[:, comb_idx[0][0]].pz, jet[:, comb_idx[0][1]].pz)\n",
    "# print(jet[:, comb_idx[0][0]].energy, jet[:, comb_idx[0][1]].energy)\n",
    "\n",
    "higgs_candidates = ak.Array(\n",
    "    np.ndarray(shape=(len(jet), 3, 2), dtype=object), with_name=\"mass\"\n",
    ")\n",
    "\n",
    "# print(\"pt:\", jet.pt)\n",
    "print(\"\\npx:\", jet.px)\n",
    "print(\"py:\", jet.py)\n",
    "print(\"pz:\", jet.pz)\n",
    "print(\"energy:\", jet.energy)\n",
    "print(\"\\n\")\n",
    "\n",
    "higgs_candidates_original=[]\n",
    "for i in range(3):\n",
    "    higgs_candidate_pair = np.ndarray(shape=(len(jet), 2), dtype=object)\n",
    "    higgs_candidate_pair = []\n",
    "    for j in range(2):\n",
    "        higgs_candidate = jet[:, comb_idx[i][j][0]] + jet[:, comb_idx[i][j][1]]\n",
    "        # print(higgs_candidate.mass)\n",
    "        print(\"px\", higgs_candidate.px)\n",
    "        print(\"py\", higgs_candidate.py)\n",
    "        print(\"pz\", higgs_candidate.pz)\n",
    "        print(\"energy\", higgs_candidate.energy)\n",
    "        # higgs_candidate_pair[:,j]=higgs_candidate\n",
    "        higgs_candidate_pair.append(higgs_candidate)\n",
    "\n",
    "    print(\"higgs_candidate_pair:\", higgs_candidate_pair)\n",
    "    higgs_candidates_original.append(higgs_candidate_pair)\n",
    "\n",
    "higgs_candidates=ak.concatenate(higgs_candidates_original)\n",
    "print(\"higgs_candidates:\", higgs_candidates)\n",
    "\n",
    "print(len(higgs_candidates), len(higgs_candidates[0]))\n",
    "higgs_candidates = ak.unflatten(higgs_candidates, 3)\n",
    "print(higgs_candidates)\n",
    "print(len(higgs_candidates), len(higgs_candidates[0]), len(higgs_candidates[0][0]))\n",
    "\n",
    "for i in range(2):\n",
    "    for j in range(3):\n",
    "        for k in range(len(higgs_candidates[i][j])):\n",
    "            print(higgs_candidates[i][j][k].x)\n",
    "\n",
    "# print(\n",
    "#     [\n",
    "#         jet[:, comb_idx[i][j][0]] + jet[:, comb_idx[i][j][1]]\n",
    "#         for i in range(3)\n",
    "#         for j in range(2)\n",
    "#     ]\n",
    "# )\n",
    "# print(higgs_candidates.px)"
   ]
  },
  {
   "cell_type": "code",
   "execution_count": 50,
   "metadata": {},
   "outputs": [
    {
     "name": "stdout",
     "output_type": "stream",
     "text": [
      "[-7.05, 49.9, 48.8, 283, 205, 209, -119, ... 132, 18.9, 138, 118, -94, 217, 199]\n",
      "[-53.8, 20.5, -138, -255, -100, -302, 125, ... -20.2, -96.2, -123, 146, -108, -179]\n",
      "[-353, -173, -425, 253, 20.1, 26.6, -322, ... 361, 40.6, 243, 49.4, -46.3, 164, 454]\n",
      "[292, 244, 335, -225, 84.1, -120, 327, ... -41.9, -201, -54.8, 98.4, -54.9, -434]\n",
      "[-65.3, -72, -112, 543, 218, 143, -447, -187, ... 180, 117, 188, 330, -162, 198, 363]\n",
      "[4.42, 142, 22.5, -515, -114, -236, 453, ... -118, -146, -335, 214, -88.9, -343]\n",
      "[{x: -7.05, y: 53.6, z: 12.9, t: 402}, {x: 49.9, ... y: -288, z: 968, t: 1.32e+03}]\n",
      "[[{x: -7.05, y: 53.6, z: 12.9, t: 402}], ... y: -288, z: 968, t: 1.32e+03}]]\n",
      "[[{x: -53.8, y: 19.2, z: -178, t: 372}], ... y: 197, z: 3.99e+03, t: 4.15e+03}]]\n",
      "[[-7.05, -53.8], [49.9, 20.5], [48.8, -138], ... -94, 146], [217, -108], [199, -179]]\n",
      "[[-353, 292], [-173, 244], [-425, 335], ... [-46.3, 98.4], [164, -54.9], [454, -434]]\n",
      "[[-65.3, 4.42], [-72, 142], [-112, 22.5], ... [-162, 214], [198, -88.9], [363, -343]]\n",
      "[[-7.05, -53.8, -353, 292, -65.3, 4.42], ... [199, -179, 454, -434, 363, -343]]\n",
      "[[[-7.05, -53.8], [-353, 292], [-65.3, 4.42, ... -179], [454, -434], [363, -343]]]\n",
      "[[-7.05, -53.8], [-353, 292], [-65.3, 4.42]]\n",
      "[[49.9, 20.5], [-173, 244], [-72, 142]]\n",
      "[[48.8, -138], [-425, 335], [-112, 22.5]]\n",
      "[[283, -255], [253, -225], [543, -515]]\n",
      "[[205, -100], [20.1, 84.1], [218, -114]]\n",
      "[[209, -302], [26.6, -120], [143, -236]]\n",
      "[[-119, 125], [-322, 327], [-447, 453]]\n",
      "[[-338, 180], [-93.7, -63.9], [-187, 29.5]]\n",
      "[[-79.1, -54], [34.4, -168], [-144, 10.8]]\n",
      "[[477, -170], [62.9, 244], [274, 33]]\n",
      "[[72.1, -95], [136, -159], [144, -167]]\n",
      "[[132, -143], [361, -372], [180, -192]]\n",
      "[[18.9, -20.2], [40.6, -41.9], [117, -118]]\n",
      "[[138, -96.2], [243, -201], [188, -146]]\n",
      "[[118, -123], [49.4, -54.8], [330, -335]]\n",
      "[[-94, 146], [-46.3, 98.4], [-162, 214]]\n",
      "[[217, -108], [164, -54.9], [198, -88.9]]\n",
      "[[199, -179], [454, -434], [363, -343]]\n"
     ]
    }
   ],
   "source": [
    "higgs_01 = jet[:, comb_idx[0][0][0]] + jet[:, comb_idx[0][0][1]]\n",
    "higgs_23= jet[:, comb_idx[0][1][0]] + jet[:, comb_idx[0][1][1]]\n",
    "\n",
    "higgs_02 = jet[:, comb_idx[1][0][0]] + jet[:, comb_idx[1][0][1]]\n",
    "higgs_13= jet[:, comb_idx[1][1][0]] + jet[:, comb_idx[1][1][1]]\n",
    "\n",
    "higgs_03 = jet[:, comb_idx[2][0][0]] + jet[:, comb_idx[2][0][1]]\n",
    "higgs_12= jet[:, comb_idx[2][1][0]] + jet[:, comb_idx[2][1][1]]\n",
    "\n",
    "print(higgs_01.px)\n",
    "print(higgs_23.px)\n",
    "print(higgs_02.px)\n",
    "print(higgs_13.px)\n",
    "print(higgs_03.px)\n",
    "print(higgs_12.px)\n",
    "\n",
    "print(higgs_01)\n",
    "\n",
    "higgs_01_unflatten = ak.unflatten(higgs_01, 1)\n",
    "higgs_23_unflatten = ak.unflatten(higgs_23, 1)\n",
    "print(higgs_01_unflatten)\n",
    "print(higgs_23_unflatten)\n",
    "\n",
    "higgs_02_unflatten = ak.unflatten(higgs_02, 1)\n",
    "higgs_13_unflatten = ak.unflatten(higgs_13, 1)\n",
    "higgs_03_unflatten = ak.unflatten(higgs_03, 1)\n",
    "higgs_12_unflatten = ak.unflatten(higgs_12, 1)\n",
    "\n",
    "\n",
    "higgs_pair_0 = ak.concatenate([higgs_01_unflatten, higgs_23_unflatten], axis=1)\n",
    "higgs_pair_1 = ak.concatenate([higgs_02_unflatten, higgs_13_unflatten], axis=1)\n",
    "higgs_pair_2 = ak.concatenate([higgs_03_unflatten, higgs_12_unflatten], axis=1)\n",
    "print(higgs_pair_0.px)\n",
    "print(higgs_pair_1.px)\n",
    "print(higgs_pair_2.px)\n",
    "\n",
    "higgs_candidates = ak.concatenate([higgs_pair_0, higgs_pair_1, higgs_pair_2], axis=1)\n",
    "print(higgs_candidates.px)\n",
    "\n",
    "higgs_candidates_unflatten = ak.unflatten(higgs_candidates,2, axis=1)\n",
    "print(higgs_candidates_unflatten.px)\n",
    "for i in range(len(higgs_candidates_unflatten)):\n",
    "    print(higgs_candidates_unflatten[i].px)"
   ]
  },
  {
   "cell_type": "code",
   "execution_count": null,
   "metadata": {},
   "outputs": [
    {
     "name": "stdout",
     "output_type": "stream",
     "text": [
      "[[(0, 1), (2, 3)], [(0, 2), (1, 3)], [(0, 3), (1, 2)]]\n",
      "[-7.05, 49.9, -53.8, 20.5, -353, -173, 292, 244, -65.3, -72, 4.42, 142]\n",
      "2\n"
     ]
    },
    {
     "ename": "ValueError",
     "evalue": "cannot broadcast RegularArray of size 2 with RegularArray of size 12\n\n(https://github.com/scikit-hep/awkward-1.0/blob/1.10.3/src/awkward/_util.py#L920)",
     "output_type": "error",
     "traceback": [
      "\u001b[0;31m---------------------------------------------------------------------------\u001b[0m",
      "\u001b[0;31mValueError\u001b[0m                                Traceback (most recent call last)",
      "Cell \u001b[0;32mIn[6], line 6\u001b[0m\n\u001b[1;32m      4\u001b[0m \u001b[38;5;28mprint\u001b[39m(\u001b[38;5;28mlen\u001b[39m(jet))\n\u001b[1;32m      5\u001b[0m dim_array\u001b[38;5;241m=\u001b[39mnp\u001b[38;5;241m.\u001b[39mzeros([\u001b[38;5;28mlen\u001b[39m(jet),\u001b[38;5;241m3\u001b[39m,\u001b[38;5;241m2\u001b[39m], dtype\u001b[38;5;241m=\u001b[39m\u001b[38;5;28mint\u001b[39m)\n\u001b[0;32m----> 6\u001b[0m higgs_candidates\u001b[38;5;241m=\u001b[39m\u001b[43mak\u001b[49m\u001b[38;5;241;43m.\u001b[39;49m\u001b[43mbroadcast_arrays\u001b[49m\u001b[43m(\u001b[49m\u001b[43mhiggs_candidates\u001b[49m\u001b[43m,\u001b[49m\u001b[43m \u001b[49m\u001b[43mdim_array\u001b[49m\u001b[43m)\u001b[49m\n\u001b[1;32m      7\u001b[0m \u001b[38;5;28mprint\u001b[39m(higgs_candidates\u001b[38;5;241m.\u001b[39mpx)\n",
      "File \u001b[0;32m/work/mmalucch/micromamba/envs/pocket-coffea/lib/python3.9/site-packages/awkward/operations/structure.py:1481\u001b[0m, in \u001b[0;36mbroadcast_arrays\u001b[0;34m(*arrays, **kwargs)\u001b[0m\n\u001b[1;32m   1478\u001b[0m         \u001b[38;5;28;01mreturn\u001b[39;00m \u001b[38;5;28;01mNone\u001b[39;00m\n\u001b[1;32m   1480\u001b[0m behavior \u001b[38;5;241m=\u001b[39m ak\u001b[38;5;241m.\u001b[39m_util\u001b[38;5;241m.\u001b[39mbehaviorof(\u001b[38;5;241m*\u001b[39marrays)\n\u001b[0;32m-> 1481\u001b[0m out \u001b[38;5;241m=\u001b[39m \u001b[43mak\u001b[49m\u001b[38;5;241;43m.\u001b[39;49m\u001b[43m_util\u001b[49m\u001b[38;5;241;43m.\u001b[39;49m\u001b[43mbroadcast_and_apply\u001b[49m\u001b[43m(\u001b[49m\n\u001b[1;32m   1482\u001b[0m \u001b[43m    \u001b[49m\u001b[43minputs\u001b[49m\u001b[43m,\u001b[49m\n\u001b[1;32m   1483\u001b[0m \u001b[43m    \u001b[49m\u001b[43mgetfunction\u001b[49m\u001b[43m,\u001b[49m\n\u001b[1;32m   1484\u001b[0m \u001b[43m    \u001b[49m\u001b[43mbehavior\u001b[49m\u001b[43m,\u001b[49m\n\u001b[1;32m   1485\u001b[0m \u001b[43m    \u001b[49m\u001b[43mleft_broadcast\u001b[49m\u001b[38;5;241;43m=\u001b[39;49m\u001b[43mleft_broadcast\u001b[49m\u001b[43m,\u001b[49m\n\u001b[1;32m   1486\u001b[0m \u001b[43m    \u001b[49m\u001b[43mright_broadcast\u001b[49m\u001b[38;5;241;43m=\u001b[39;49m\u001b[43mright_broadcast\u001b[49m\u001b[43m,\u001b[49m\n\u001b[1;32m   1487\u001b[0m \u001b[43m    \u001b[49m\u001b[43mnumpy_to_regular\u001b[49m\u001b[38;5;241;43m=\u001b[39;49m\u001b[38;5;28;43;01mTrue\u001b[39;49;00m\u001b[43m,\u001b[49m\n\u001b[1;32m   1488\u001b[0m \u001b[43m\u001b[49m\u001b[43m)\u001b[49m\n\u001b[1;32m   1489\u001b[0m \u001b[38;5;28;01massert\u001b[39;00m \u001b[38;5;28misinstance\u001b[39m(out, \u001b[38;5;28mtuple\u001b[39m)\n\u001b[1;32m   1490\u001b[0m \u001b[38;5;28;01mif\u001b[39;00m highlevel:\n",
      "File \u001b[0;32m/work/mmalucch/micromamba/envs/pocket-coffea/lib/python3.9/site-packages/awkward/_util.py:1172\u001b[0m, in \u001b[0;36mbroadcast_and_apply\u001b[0;34m(inputs, getfunction, behavior, allow_records, pass_depth, pass_user, user, left_broadcast, right_broadcast, numpy_to_regular, regular_to_jagged)\u001b[0m\n\u001b[1;32m   1170\u001b[0m \u001b[38;5;28;01melse\u001b[39;00m:\n\u001b[1;32m   1171\u001b[0m     isscalar \u001b[38;5;241m=\u001b[39m []\n\u001b[0;32m-> 1172\u001b[0m     out \u001b[38;5;241m=\u001b[39m \u001b[43mapply\u001b[49m\u001b[43m(\u001b[49m\u001b[43mbroadcast_pack\u001b[49m\u001b[43m(\u001b[49m\u001b[43minputs\u001b[49m\u001b[43m,\u001b[49m\u001b[43m \u001b[49m\u001b[43misscalar\u001b[49m\u001b[43m)\u001b[49m\u001b[43m,\u001b[49m\u001b[43m \u001b[49m\u001b[38;5;241;43m0\u001b[39;49m\u001b[43m,\u001b[49m\u001b[43m \u001b[49m\u001b[43muser\u001b[49m\u001b[43m)\u001b[49m\n\u001b[1;32m   1173\u001b[0m     \u001b[38;5;28;01massert\u001b[39;00m \u001b[38;5;28misinstance\u001b[39m(out, \u001b[38;5;28mtuple\u001b[39m)\n\u001b[1;32m   1174\u001b[0m     \u001b[38;5;28;01mreturn\u001b[39;00m \u001b[38;5;28mtuple\u001b[39m(broadcast_unpack(x, isscalar) \u001b[38;5;28;01mfor\u001b[39;00m x \u001b[38;5;129;01min\u001b[39;00m out)\n",
      "File \u001b[0;32m/work/mmalucch/micromamba/envs/pocket-coffea/lib/python3.9/site-packages/awkward/_util.py:728\u001b[0m, in \u001b[0;36mbroadcast_and_apply.<locals>.apply\u001b[0;34m(inputs, depth, user)\u001b[0m\n\u001b[1;32m    726\u001b[0m             nextinputs\u001b[38;5;241m.\u001b[39mappend(obj)\n\u001b[1;32m    727\u001b[0m         \u001b[38;5;28;01mif\u001b[39;00m \u001b[38;5;28many\u001b[39m(x \u001b[38;5;129;01mis\u001b[39;00m \u001b[38;5;129;01mnot\u001b[39;00m y \u001b[38;5;28;01mfor\u001b[39;00m x, y \u001b[38;5;129;01min\u001b[39;00m \u001b[38;5;28mzip\u001b[39m(inputs, nextinputs)):\n\u001b[0;32m--> 728\u001b[0m             \u001b[38;5;28;01mreturn\u001b[39;00m \u001b[43mapply\u001b[49m\u001b[43m(\u001b[49m\u001b[43mnextinputs\u001b[49m\u001b[43m,\u001b[49m\u001b[43m \u001b[49m\u001b[43mdepth\u001b[49m\u001b[43m,\u001b[49m\u001b[43m \u001b[49m\u001b[43muser\u001b[49m\u001b[43m)\u001b[49m\n\u001b[1;32m    730\u001b[0m \u001b[38;5;66;03m# now all lengths must agree\u001b[39;00m\n\u001b[1;32m    731\u001b[0m checklength([x \u001b[38;5;28;01mfor\u001b[39;00m x \u001b[38;5;129;01min\u001b[39;00m inputs \u001b[38;5;28;01mif\u001b[39;00m \u001b[38;5;28misinstance\u001b[39m(x, ak\u001b[38;5;241m.\u001b[39mlayout\u001b[38;5;241m.\u001b[39mContent)])\n",
      "File \u001b[0;32m/work/mmalucch/micromamba/envs/pocket-coffea/lib/python3.9/site-packages/awkward/_util.py:925\u001b[0m, in \u001b[0;36mbroadcast_and_apply.<locals>.apply\u001b[0;34m(inputs, depth, user)\u001b[0m\n\u001b[1;32m    922\u001b[0m     \u001b[38;5;28;01melse\u001b[39;00m:\n\u001b[1;32m    923\u001b[0m         nextinputs\u001b[38;5;241m.\u001b[39mappend(x)\n\u001b[0;32m--> 925\u001b[0m outcontent \u001b[38;5;241m=\u001b[39m \u001b[43mapply\u001b[49m\u001b[43m(\u001b[49m\u001b[43mnextinputs\u001b[49m\u001b[43m,\u001b[49m\u001b[43m \u001b[49m\u001b[43mdepth\u001b[49m\u001b[43m \u001b[49m\u001b[38;5;241;43m+\u001b[39;49m\u001b[43m \u001b[49m\u001b[38;5;241;43m1\u001b[39;49m\u001b[43m,\u001b[49m\u001b[43m \u001b[49m\u001b[43muser\u001b[49m\u001b[43m)\u001b[49m\n\u001b[1;32m    926\u001b[0m \u001b[38;5;28;01massert\u001b[39;00m \u001b[38;5;28misinstance\u001b[39m(outcontent, \u001b[38;5;28mtuple\u001b[39m)\n\u001b[1;32m    928\u001b[0m length \u001b[38;5;241m=\u001b[39m \u001b[38;5;28;01mNone\u001b[39;00m\n",
      "File \u001b[0;32m/work/mmalucch/micromamba/envs/pocket-coffea/lib/python3.9/site-packages/awkward/_util.py:925\u001b[0m, in \u001b[0;36mbroadcast_and_apply.<locals>.apply\u001b[0;34m(inputs, depth, user)\u001b[0m\n\u001b[1;32m    922\u001b[0m     \u001b[38;5;28;01melse\u001b[39;00m:\n\u001b[1;32m    923\u001b[0m         nextinputs\u001b[38;5;241m.\u001b[39mappend(x)\n\u001b[0;32m--> 925\u001b[0m outcontent \u001b[38;5;241m=\u001b[39m \u001b[43mapply\u001b[49m\u001b[43m(\u001b[49m\u001b[43mnextinputs\u001b[49m\u001b[43m,\u001b[49m\u001b[43m \u001b[49m\u001b[43mdepth\u001b[49m\u001b[43m \u001b[49m\u001b[38;5;241;43m+\u001b[39;49m\u001b[43m \u001b[49m\u001b[38;5;241;43m1\u001b[39;49m\u001b[43m,\u001b[49m\u001b[43m \u001b[49m\u001b[43muser\u001b[49m\u001b[43m)\u001b[49m\n\u001b[1;32m    926\u001b[0m \u001b[38;5;28;01massert\u001b[39;00m \u001b[38;5;28misinstance\u001b[39m(outcontent, \u001b[38;5;28mtuple\u001b[39m)\n\u001b[1;32m    928\u001b[0m length \u001b[38;5;241m=\u001b[39m \u001b[38;5;28;01mNone\u001b[39;00m\n",
      "File \u001b[0;32m/work/mmalucch/micromamba/envs/pocket-coffea/lib/python3.9/site-packages/awkward/_util.py:915\u001b[0m, in \u001b[0;36mbroadcast_and_apply.<locals>.apply\u001b[0;34m(inputs, depth, user)\u001b[0m\n\u001b[1;32m    913\u001b[0m         nextinputs\u001b[38;5;241m.\u001b[39mappend(x\u001b[38;5;241m.\u001b[39mcontent[: \u001b[38;5;28mlen\u001b[39m(x) \u001b[38;5;241m*\u001b[39m x\u001b[38;5;241m.\u001b[39msize])\n\u001b[1;32m    914\u001b[0m     \u001b[38;5;28;01melse\u001b[39;00m:\n\u001b[0;32m--> 915\u001b[0m         \u001b[38;5;28;01mraise\u001b[39;00m \u001b[38;5;167;01mValueError\u001b[39;00m(\n\u001b[1;32m    916\u001b[0m             \u001b[38;5;124m\"\u001b[39m\u001b[38;5;124mcannot broadcast RegularArray of size \u001b[39m\u001b[38;5;124m\"\u001b[39m\n\u001b[1;32m    917\u001b[0m             \u001b[38;5;124m\"\u001b[39m\u001b[38;5;132;01m{}\u001b[39;00m\u001b[38;5;124m with RegularArray of size \u001b[39m\u001b[38;5;132;01m{}\u001b[39;00m\u001b[38;5;124m\"\u001b[39m\u001b[38;5;241m.\u001b[39mformat(\n\u001b[1;32m    918\u001b[0m                 x\u001b[38;5;241m.\u001b[39msize, maxsize\n\u001b[1;32m    919\u001b[0m             )\n\u001b[1;32m    920\u001b[0m             \u001b[38;5;241m+\u001b[39m exception_suffix(\u001b[38;5;18m__file__\u001b[39m)\n\u001b[1;32m    921\u001b[0m         )\n\u001b[1;32m    922\u001b[0m \u001b[38;5;28;01melse\u001b[39;00m:\n\u001b[1;32m    923\u001b[0m     nextinputs\u001b[38;5;241m.\u001b[39mappend(x)\n",
      "\u001b[0;31mValueError\u001b[0m: cannot broadcast RegularArray of size 2 with RegularArray of size 12\n\n(https://github.com/scikit-hep/awkward-1.0/blob/1.10.3/src/awkward/_util.py#L920)"
     ]
    }
   ],
   "source": [
    "higgs_candidates=ak.concatenate([jet[:,comb_idx[i][j][0]]+jet[:,comb_idx[i][j][1]] for i in range(3) for j in range(2)])\n",
    "print(comb_idx)\n",
    "print(higgs_candidates.px)\n",
    "print(len(jet))\n",
    "dim_array=np.zeros([len(jet),3,2], dtype=int)\n",
    "higgs_candidates=ak.broadcast_arrays(higgs_candidates, dim_array)\n",
    "print(higgs_candidates.px)\n"
   ]
  },
  {
   "cell_type": "code",
   "execution_count": null,
   "metadata": {},
   "outputs": [
    {
     "ename": "ValueError",
     "evalue": "axis=1 is beyond the depth of this array or the depth of this array is ambiguous\n\n(https://github.com/scikit-hep/awkward-1.0/blob/1.10.3/src/awkward/operations/structure.py#L1566)",
     "output_type": "error",
     "traceback": [
      "\u001b[0;31m---------------------------------------------------------------------------\u001b[0m",
      "\u001b[0;31mValueError\u001b[0m                                Traceback (most recent call last)",
      "Cell \u001b[0;32mIn[55], line 1\u001b[0m\n\u001b[0;32m----> 1\u001b[0m higgs_candidates\u001b[38;5;241m=\u001b[39m\u001b[43mak\u001b[49m\u001b[38;5;241;43m.\u001b[39;49m\u001b[43mconcatenate\u001b[49m\u001b[43m(\u001b[49m\u001b[43m[\u001b[49m\u001b[43mjet\u001b[49m\u001b[43m[\u001b[49m\u001b[43m:\u001b[49m\u001b[43m,\u001b[49m\u001b[43mcomb_idx\u001b[49m\u001b[43m[\u001b[49m\u001b[38;5;241;43m0\u001b[39;49m\u001b[43m]\u001b[49m\u001b[43m[\u001b[49m\u001b[38;5;241;43m0\u001b[39;49m\u001b[43m]\u001b[49m\u001b[43m[\u001b[49m\u001b[38;5;241;43m0\u001b[39;49m\u001b[43m]\u001b[49m\u001b[43m]\u001b[49m\u001b[38;5;241;43m+\u001b[39;49m\u001b[43mjet\u001b[49m\u001b[43m[\u001b[49m\u001b[43m:\u001b[49m\u001b[43m,\u001b[49m\u001b[43mcomb_idx\u001b[49m\u001b[43m[\u001b[49m\u001b[38;5;241;43m0\u001b[39;49m\u001b[43m]\u001b[49m\u001b[43m[\u001b[49m\u001b[38;5;241;43m0\u001b[39;49m\u001b[43m]\u001b[49m\u001b[43m[\u001b[49m\u001b[38;5;241;43m1\u001b[39;49m\u001b[43m]\u001b[49m\u001b[43m]\u001b[49m\u001b[43m,\u001b[49m\u001b[43m \u001b[49m\u001b[43mjet\u001b[49m\u001b[43m[\u001b[49m\u001b[43m:\u001b[49m\u001b[43m,\u001b[49m\u001b[43mcomb_idx\u001b[49m\u001b[43m[\u001b[49m\u001b[38;5;241;43m0\u001b[39;49m\u001b[43m]\u001b[49m\u001b[43m[\u001b[49m\u001b[38;5;241;43m1\u001b[39;49m\u001b[43m]\u001b[49m\u001b[43m[\u001b[49m\u001b[38;5;241;43m0\u001b[39;49m\u001b[43m]\u001b[49m\u001b[43m]\u001b[49m\u001b[38;5;241;43m+\u001b[39;49m\u001b[43mjet\u001b[49m\u001b[43m[\u001b[49m\u001b[43m:\u001b[49m\u001b[43m,\u001b[49m\u001b[43mcomb_idx\u001b[49m\u001b[43m[\u001b[49m\u001b[38;5;241;43m0\u001b[39;49m\u001b[43m]\u001b[49m\u001b[43m[\u001b[49m\u001b[38;5;241;43m1\u001b[39;49m\u001b[43m]\u001b[49m\u001b[43m[\u001b[49m\u001b[38;5;241;43m1\u001b[39;49m\u001b[43m]\u001b[49m\u001b[43m]\u001b[49m\u001b[43m]\u001b[49m\u001b[43m,\u001b[49m\u001b[43m \u001b[49m\u001b[43maxis\u001b[49m\u001b[38;5;241;43m=\u001b[39;49m\u001b[38;5;241;43m1\u001b[39;49m\u001b[43m)\u001b[49m\n\u001b[1;32m      2\u001b[0m \u001b[38;5;28mprint\u001b[39m(higgs_candidates\u001b[38;5;241m.\u001b[39mpx)\n",
      "File \u001b[0;32m/work/mmalucch/micromamba/envs/pocket-coffea/lib/python3.9/site-packages/awkward/operations/structure.py:1564\u001b[0m, in \u001b[0;36mconcatenate\u001b[0;34m(arrays, axis, merge, mergebool, highlevel, behavior)\u001b[0m\n\u001b[1;32m   1551\u001b[0m maxdepth \u001b[38;5;241m=\u001b[39m \u001b[38;5;28mmax\u001b[39m(\n\u001b[1;32m   1552\u001b[0m     x\u001b[38;5;241m.\u001b[39mminmax_depth[\u001b[38;5;241m1\u001b[39m]\n\u001b[1;32m   1553\u001b[0m     \u001b[38;5;28;01mfor\u001b[39;00m x \u001b[38;5;129;01min\u001b[39;00m contents\n\u001b[0;32m   (...)\u001b[0m\n\u001b[1;32m   1561\u001b[0m     )\n\u001b[1;32m   1562\u001b[0m )\n\u001b[1;32m   1563\u001b[0m \u001b[38;5;28;01mif\u001b[39;00m \u001b[38;5;129;01mnot\u001b[39;00m \u001b[38;5;241m0\u001b[39m \u001b[38;5;241m<\u001b[39m\u001b[38;5;241m=\u001b[39m posaxis \u001b[38;5;241m<\u001b[39m maxdepth:\n\u001b[0;32m-> 1564\u001b[0m     \u001b[38;5;28;01mraise\u001b[39;00m \u001b[38;5;167;01mValueError\u001b[39;00m(\n\u001b[1;32m   1565\u001b[0m         \u001b[38;5;124m\"\u001b[39m\u001b[38;5;124maxis=\u001b[39m\u001b[38;5;132;01m{}\u001b[39;00m\u001b[38;5;124m is beyond the depth of this array or the depth of this array \u001b[39m\u001b[38;5;124m\"\u001b[39m\n\u001b[1;32m   1566\u001b[0m         \u001b[38;5;124m\"\u001b[39m\u001b[38;5;124mis ambiguous\u001b[39m\u001b[38;5;124m\"\u001b[39m\u001b[38;5;241m.\u001b[39mformat(axis) \u001b[38;5;241m+\u001b[39m ak\u001b[38;5;241m.\u001b[39m_util\u001b[38;5;241m.\u001b[39mexception_suffix(\u001b[38;5;18m__file__\u001b[39m)\n\u001b[1;32m   1567\u001b[0m     )\n\u001b[1;32m   1568\u001b[0m \u001b[38;5;28;01mfor\u001b[39;00m x \u001b[38;5;129;01min\u001b[39;00m contents:\n\u001b[1;32m   1569\u001b[0m     \u001b[38;5;28;01mif\u001b[39;00m \u001b[38;5;28misinstance\u001b[39m(x, ak\u001b[38;5;241m.\u001b[39mlayout\u001b[38;5;241m.\u001b[39mContent):\n",
      "\u001b[0;31mValueError\u001b[0m: axis=1 is beyond the depth of this array or the depth of this array is ambiguous\n\n(https://github.com/scikit-hep/awkward-1.0/blob/1.10.3/src/awkward/operations/structure.py#L1566)"
     ]
    }
   ],
   "source": []
  },
  {
   "cell_type": "code",
   "execution_count": null,
   "metadata": {},
   "outputs": [],
   "source": []
  }
 ],
 "metadata": {
  "kernelspec": {
   "display_name": "Python 3",
   "language": "python",
   "name": "python3"
  },
  "language_info": {
   "codemirror_mode": {
    "name": "ipython",
    "version": 3
   },
   "file_extension": ".py",
   "mimetype": "text/x-python",
   "name": "python",
   "nbconvert_exporter": "python",
   "pygments_lexer": "ipython3",
   "version": "3.9.18"
  }
 },
 "nbformat": 4,
 "nbformat_minor": 2
}
