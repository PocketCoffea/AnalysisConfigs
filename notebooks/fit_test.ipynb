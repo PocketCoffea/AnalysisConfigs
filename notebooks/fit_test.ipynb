{
 "cells": [
  {
   "cell_type": "code",
   "execution_count": 1,
   "metadata": {},
   "outputs": [
    {
     "name": "stderr",
     "output_type": "stream",
     "text": [
      "sh: cmsrel: line 1: syntax error: unexpected end of file\n",
      "sh: error importing function definition for `BASH_FUNC_cmsrel'\n",
      "sh: cmsenv: line 1: syntax error: unexpected end of file\n",
      "sh: error importing function definition for `BASH_FUNC_cmsenv'\n",
      "sh: cmsrel: line 1: syntax error: unexpected end of file\n",
      "sh: error importing function definition for `BASH_FUNC_cmsrel'\n",
      "sh: cmsenv: line 1: syntax error: unexpected end of file\n",
      "sh: error importing function definition for `BASH_FUNC_cmsenv'\n",
      "sh: cmsrel: line 1: syntax error: unexpected end of file\n",
      "sh: error importing function definition for `BASH_FUNC_cmsrel'\n",
      "sh: cmsenv: line 1: syntax error: unexpected end of file\n",
      "sh: error importing function definition for `BASH_FUNC_cmsenv'\n"
     ]
    },
    {
     "name": "stdout",
     "output_type": "stream",
     "text": [
      "Welcome to JupyROOT 6.30/04\n"
     ]
    },
    {
     "name": "stderr",
     "output_type": "stream",
     "text": [
      "sh: cmsrel: line 1: syntax error: unexpected end of file\n",
      "sh: error importing function definition for `BASH_FUNC_cmsrel'\n",
      "sh: cmsenv: line 1: syntax error: unexpected end of file\n",
      "sh: error importing function definition for `BASH_FUNC_cmsenv'\n"
     ]
    }
   ],
   "source": [
    "import ROOT\n",
    "from PIL import Image\n",
    "import os\n"
   ]
  },
  {
   "cell_type": "code",
   "execution_count": 44,
   "metadata": {},
   "outputs": [
    {
     "name": "stdout",
     "output_type": "stream",
     "text": [
      " FCN=24.7298 FROM HESSE     STATUS=OK             18 CALLS         419 TOTAL\n",
      "                     EDM=2.56034e-12    STRATEGY= 1      ERROR MATRIX ACCURATE \n",
      "  EXT PARAMETER                                   STEP         FIRST   \n",
      "  NO.   NAME      VALUE            ERROR          SIZE      DERIVATIVE \n",
      "   1  p0          -1.24364e-02   8.99990e-02   4.25083e-05   1.90221e-05\n",
      "   2  p1           3.69806e-02   4.28425e-02   9.98395e-06   7.36959e-05\n",
      "   3  p2           9.99406e-01   7.27434e-04   2.38277e-07   1.85200e-03\n"
     ]
    }
   ],
   "source": [
    "# create some fake data with arrors which are almost quadratic\n",
    "data = ROOT.TGraphErrors()\n",
    "for i in range(100):\n",
    "    data.SetPoint(i, i, i**2+ROOT.gRandom.Gaus(0, 0.1*i))\n",
    "    data.SetPointError(i, 0.1, 0.1+ROOT.gRandom.Gaus(0, 0.01))\n",
    "\n",
    "\n",
    "\n",
    "# create a linear fit\n",
    "fit = ROOT.TF1(\"fit\", \"[0] + [1]*x + [2]*x*x\", 0, 100)\n",
    "# fit.SetParameters(0,\n",
    "data.Fit(fit, \"S M\")\n",
    "data.SetMarkerStyle(20)\n",
    "data.SetMarkerColor(ROOT.kBlue)\n",
    "data.SetMarkerSize(0.5)\n"
   ]
  },
  {
   "cell_type": "code",
   "execution_count": 45,
   "metadata": {},
   "outputs": [
    {
     "name": "stderr",
     "output_type": "stream",
     "text": [
      "Warning in <TCanvas::Constructor>: Deleting canvas with same name: canvas\n",
      "Info in <TCanvas::Print>: png file fit.png has been created\n",
      "/bin/sh: cmsrel: line 1: syntax error: unexpected end of file\n",
      "/bin/sh: error importing function definition for `BASH_FUNC_cmsrel'\n",
      "/bin/sh: cmsenv: line 1: syntax error: unexpected end of file\n",
      "/bin/sh: error importing function definition for `BASH_FUNC_cmsenv'\n"
     ]
    }
   ],
   "source": [
    "# create a canvas\n",
    "\n",
    "canvas = ROOT.TCanvas(\"canvas\", \"canvas\", 800, 600)\n",
    "data.Draw(\"AP\")\n",
    "fit.Draw(\"SAME\")\n",
    "canvas.Update()\n",
    "\n",
    "canvas.Draw()\n",
    "\n",
    "canvas.SaveAs(\"fit.png\")\n",
    "\n",
    "# open the image and display it\n",
    "img = Image.open(\"fit.png\")\n",
    "img.show()\n"
   ]
  },
  {
   "cell_type": "code",
   "execution_count": 46,
   "metadata": {},
   "outputs": [],
   "source": [
    "# delete the canvas\n",
    "del canvas\n",
    "#delete the image\n",
    "# os.remove(\"fit.png\")"
   ]
  },
  {
   "cell_type": "code",
   "execution_count": 160,
   "metadata": {},
   "outputs": [],
   "source": [
    "num=3\n",
    "data_dict= {\n",
    "        \"x\": [\n",
    "            19.742595700849193,\n",
    "            20.961956745031323,\n",
    "            22.913917200389978,\n",
    "            25.795906719734983,\n",
    "            28.933211203398052,\n",
    "            32.36100163359883,\n",
    "            37.11644008430428,\n",
    "            42.12721665941205,\n",
    "            50.0610979017745,\n",
    "            63.544909963222864,\n",
    "            80.03059393317044,\n",
    "            103.50315376511452,\n",
    "            134.07165011121114,\n",
    "            173.39790982475063,\n",
    "            246.71699770493206,\n",
    "            348.76918976752427,\n",
    "            472.2461821821838,\n",
    "            648.3805068553121,\n",
    "            873.1081991338834,\n",
    "            1246.8664506319942,\n",
    "            1755.0752251305134,\n",
    "            2259.607635227575,\n",
    "            2759.666541188723,\n",
    "            3255.8125887052033,\n",
    "            3754.9390144300955,\n",
    "            4247.931077027038,\n",
    "            4744.936271881235\n",
    "        ][num:],\n",
    "        \"y\": [\n",
    "            0.8784867120579838,\n",
    "            0.9290940766550523,\n",
    "            0.965889881671094,\n",
    "            0.9888133498145859,\n",
    "            0.995210251306295,\n",
    "            1.0031978931527465,\n",
    "            1.005214878110078,\n",
    "            1.0031978931527465,\n",
    "            1.0062264150943396,\n",
    "            1.0031978931527465,\n",
    "            1.001188986232791,\n",
    "            1.0001875468867216,\n",
    "            0.9976926914442505,\n",
    "            0.9962017434620175,\n",
    "            0.9937267080745342,\n",
    "            0.9922475812453486,\n",
    "            0.9927401340282949,\n",
    "            0.9932331760615845,\n",
    "            0.9947152449639393,\n",
    "            0.9947152449639393,\n",
    "            0.9942207307979121,\n",
    "            0.9942207307979121,\n",
    "            0.995210251306295,\n",
    "            0.9971952131637997,\n",
    "            0.9981906663339157,\n",
    "            0.9996875781054737,\n",
    "            1.001188986232791\n",
    "        ][num:],\n",
    "        \"yerr\": [\n",
    "            0.007857033121122764,\n",
    "            0.0057487801174682185,\n",
    "            0.005771071603023795,\n",
    "            0.005384420450208974,\n",
    "            0.0061819218461061165,\n",
    "            0.004875736556316148,\n",
    "            0.005260983384065786,\n",
    "            0.00571030272869574,\n",
    "            0.003536225450950924,\n",
    "            0.0034300785515880127,\n",
    "            0.003249537366717525,\n",
    "            0.0026407389065915407,\n",
    "            0.0027381353080195257,\n",
    "            0.002362599309259479,\n",
    "            0.0016876573300585369,\n",
    "            0.0019643277324079486,\n",
    "            0.0015973175685779265,\n",
    "            0.0014746913672239329,\n",
    "            0.0013873507601356821,\n",
    "            0.0009379872771965403,\n",
    "            0.0008990658580254199,\n",
    "            0.0008547523081583372,\n",
    "            0.0008281173763365149,\n",
    "            0.0008557225041647039,\n",
    "            0.0008026345908174516,\n",
    "            0.0007839775263209061,\n",
    "            0.000711616316067105\n",
    "        ][num:],}"
   ]
  },
  {
   "cell_type": "code",
   "execution_count": 161,
   "metadata": {},
   "outputs": [],
   "source": [
    "# create a graph from the dictionary\n",
    "graph = ROOT.TGraphErrors(len(data_dict[\"x\"]))\n",
    "for i in range(len(data_dict[\"x\"])):\n",
    "    graph.SetPoint(i, data_dict[\"x\"][i], data_dict[\"y\"][i])\n",
    "    graph.SetPointError(i, 0, data_dict[\"yerr\"][i]/1)\n"
   ]
  },
  {
   "cell_type": "code",
   "execution_count": 168,
   "metadata": {},
   "outputs": [
    {
     "name": "stdout",
     "output_type": "stream",
     "text": [
      "****************************************\n",
      "         Invalid FitResult  (status = 4 )\n",
      "****************************************\n",
      "Minimizer is Minuit2 / Migrad\n",
      "Chi2                      =      12.1855\n",
      "NDf                       =           15\n",
      "Edm                       =  0.000615816\n",
      "NCalls                    =         3007\n",
      "p0                        =      1.64417   +/-   0.101871    \n",
      "p1                        =      20.4476   +/-   4.05104     \n",
      "p2                        =      27.6486   +/-   7.94521     \n",
      "p3                        =     -1.36038   +/-   0.192429    \n",
      "p4                        =    0.0128742   +/-   0.0020418   \n",
      "p5                        =   -0.0239946   +/-   0.865504    \n",
      "p6                        =   -0.0207141   +/-   0.0066602   \n",
      "p7                        =      129.312   +/-   135.605     \n",
      "p8                        =      1.40199   +/-   0.0543707   \n"
     ]
    },
    {
     "name": "stderr",
     "output_type": "stream",
     "text": [
      "Warning in <Fit>: Abnormal termination of minimization.\n"
     ]
    }
   ],
   "source": [
    "func_string = \"[0] + [1] / (TMath::Log10(x) * TMath::Log10(x) + [2]) + [3] * TMath::Exp(-[4] * (TMath::Log10(x) - [5]) * (TMath::Log10(x) - [5])) + [6] * TMath::Exp(-[7] * (TMath::Log10(x) - [8]) * (TMath::Log10(x) - [8]))\"\n",
    "func_root = ROOT.TF1(\"func_root\", func_string, data_dict[\"x\"][0], data_dict[\"x\"][-1])\n",
    "func_root.SetParameters(\n",
    "            1.6081836786569568,\n",
    "            22.58516985573203,\n",
    "            35.96303104113097,\n",
    "            -1.2096680332552872,\n",
    "            0.012402902153327011,\n",
    "            0.46972065651573747,\n",
    "            -4.876292773828425,\n",
    "            23.88044583275305,\n",
    "            0.9067093288482084\n",
    ")\n",
    "fit_info = str(graph.Fit(\"func_root\", \"S N E\"))"
   ]
  },
  {
   "cell_type": "code",
   "execution_count": 169,
   "metadata": {},
   "outputs": [
    {
     "name": "stderr",
     "output_type": "stream",
     "text": [
      "Warning in <TCanvas::Constructor>: Deleting canvas with same name: canvas\n",
      "Info in <TCanvas::Print>: png file fit.png has been created\n"
     ]
    }
   ],
   "source": [
    "#draw the graph\n",
    "canvas = ROOT.TCanvas(\"canvas\", \"canvas\", 800, 600)\n",
    "graph.SetMarkerStyle(20)\n",
    "graph.SetMarkerColor(ROOT.kBlue)\n",
    "graph.SetMarkerSize(0.5)\n",
    "graph.SetTitle(\"Graph with fit\")\n",
    "graph.GetXaxis().SetTitle(\"x\")\n",
    "graph.GetYaxis().SetTitle(\"y\")\n",
    "# set log x\n",
    "ROOT.gPad.SetLogx()\n",
    "graph.Draw(\"AP\")\n",
    "func_root.Draw(\"SAME\")\n",
    "canvas.Update()\n",
    "canvas.Draw()\n",
    "canvas.SaveAs(\"fit.png\")\n"
   ]
  },
  {
   "cell_type": "code",
   "execution_count": 4,
   "metadata": {},
   "outputs": [
    {
     "ename": "TypeError",
     "evalue": "double TF1::Eval(double x, double y = 0, double z = 0, double t = 0) =>\n    TypeError: could not convert argument 1 (only size-1 arrays can be converted to Python scalars)",
     "output_type": "error",
     "traceback": [
      "\u001b[0;31m---------------------------------------------------------------------------\u001b[0m",
      "\u001b[0;31mTypeError\u001b[0m                                 Traceback (most recent call last)",
      "Cell \u001b[0;32mIn[4], line 45\u001b[0m\n\u001b[1;32m     42\u001b[0m \u001b[38;5;28;01mimport\u001b[39;00m \u001b[38;5;21;01mmatplotlib\u001b[39;00m\u001b[38;5;21;01m.\u001b[39;00m\u001b[38;5;21;01mpyplot\u001b[39;00m \u001b[38;5;28;01mas\u001b[39;00m \u001b[38;5;21;01mplt\u001b[39;00m\n\u001b[1;32m     43\u001b[0m x \u001b[38;5;241m=\u001b[39m np\u001b[38;5;241m.\u001b[39mlinspace(\u001b[38;5;241m10\u001b[39m, \u001b[38;5;241m4500\u001b[39m, \u001b[38;5;241m1000\u001b[39m)\n\u001b[0;32m---> 45\u001b[0m plt\u001b[38;5;241m.\u001b[39mplot(x, \u001b[43mfunc2\u001b[49m\u001b[38;5;241;43m.\u001b[39;49m\u001b[43mEval\u001b[49m\u001b[43m(\u001b[49m\u001b[43mx\u001b[49m\u001b[43m)\u001b[49m)\n\u001b[1;32m     46\u001b[0m plt\u001b[38;5;241m.\u001b[39mshow()\n",
      "\u001b[0;31mTypeError\u001b[0m: double TF1::Eval(double x, double y = 0, double z = 0, double t = 0) =>\n    TypeError: could not convert argument 1 (only size-1 arrays can be converted to Python scalars)"
     ]
    }
   ],
   "source": [
    "func_string2 = \"[2]*([3]*([4]+TMath::Log(max([0],min([1],x)))*([5]+TMath::Log(max([0],min([1],x)))*[6])+[7]/x))*1./([8]+[9]/x+[10]*log(x)/x+[11]*(pow(x/[12],[13])-1)/(pow(x/[12],[13])+1)+[14]*pow(x,-0.3051)+[15]*x)\"\n",
    "func2 = ROOT.TF1(\"func2\", func_string2, 10, 4500)\n",
    "# func2.SetParameters(\n",
    "#     [30,\n",
    "#     70,\n",
    "#     0.995827,\n",
    "#     1.000000,\n",
    "#     0.430200,\n",
    "#     0.314141,\n",
    "#     -0.000254,\n",
    "#     -4.185680,\n",
    "#     1.0170,\n",
    "#     1.3459,\n",
    "#     0.25291,\n",
    "#     0.05041,\n",
    "#     196.01,\n",
    "#     0.9754,\n",
    "#     -0.07417,\n",
    "#     -0.00003170,]\n",
    "# )\n",
    "\n",
    "func2.SetParameter(0, 30)\n",
    "func2.SetParameter(1, 70)\n",
    "func2.SetParameter(2, 0.995827)\n",
    "func2.SetParameter(3, 1.000000)\n",
    "func2.SetParameter(4, 0.430200)\n",
    "func2.SetParameter(5, 0.314141)\n",
    "func2.SetParameter(6, -0.000254)\n",
    "func2.SetParameter(7, -4.185680)\n",
    "func2.SetParameter(8, 1.0170)\n",
    "func2.SetParameter(9, 1.3459)\n",
    "func2.SetParameter(10, 0.25291)\n",
    "func2.SetParameter(11, 0.05041)\n",
    "func2.SetParameter(12, 196.01)\n",
    "func2.SetParameter(13, 0.9754)\n",
    "func2.SetParameter(14, -0.07417)\n",
    "func2.SetParameter(15, -0.00003170)\n"
   ]
  },
  {
   "cell_type": "code",
   "execution_count": 9,
   "metadata": {},
   "outputs": [
    {
     "data": {
      "image/png": "[encoded data removed]",
      "text/plain": [
       "<Figure size 640x480 with 1 Axes>"
      ]
     },
     "metadata": {},
     "output_type": "display_data"
    }
   ],
   "source": [
    "def func2_py(x, p):\n",
    "    return 1/(\n",
    "        p[2]\n",
    "        * (\n",
    "            p[3]\n",
    "            * (\n",
    "                p[4]\n",
    "                + np.log(np.minimum(p[1], x))\n",
    "                * (p[5] + np.log(np.minimum(p[1], x)) * p[6])\n",
    "                + p[7] / x\n",
    "            )\n",
    "        )\n",
    "        * 1.0\n",
    "        / (\n",
    "            p[8]\n",
    "            + p[9] / x\n",
    "            + p[10] * np.log(x) / x\n",
    "            + p[11] * (pow(x / p[12], p[13]) - 1) / (pow(x / p[12], p[13]) + 1)\n",
    "            + p[14] * pow(x, -0.3051)\n",
    "            + p[15] * x\n",
    "        )\n",
    "    )\n",
    "\n",
    "\n",
    "params = [\n",
    "30  , 1380   ,0.995827, 1.000000, 0.951355, 0.021658, -0.002214, 0.117335,   1.0170, 1.3459, 0.25291, 0.05041, 196.01, 0.9754, -0.07417, -0.00003170]\n",
    "\n",
    "# draw the function in a matplotlib plot\n",
    "import numpy as np\n",
    "import matplotlib.pyplot as plt\n",
    "\n",
    "x = np.linspace(18, 4500, 1000)\n",
    "\n",
    "plt.plot(x, func2_py(x, params), label=\"function\")\n",
    "# x log scale\n",
    "plt.xscale(\"log\")\n",
    "#plot line at 1\n",
    "plt.axhline(y=1, color='r', linestyle='--')\n",
    "plt.show()"
   ]
  },
  {
   "cell_type": "code",
   "execution_count": null,
   "metadata": {},
   "outputs": [],
   "source": []
  }
 ],
 "metadata": {
  "kernelspec": {
   "display_name": "Python 3",
   "language": "python",
   "name": "python3"
  },
  "language_info": {
   "codemirror_mode": {
    "name": "ipython",
    "version": 3
   },
   "file_extension": ".py",
   "mimetype": "text/x-python",
   "name": "python",
   "nbconvert_exporter": "python",
   "pygments_lexer": "ipython3",
   "version": "3.9.19"
  }
 },
 "nbformat": 4,
 "nbformat_minor": 2
}
