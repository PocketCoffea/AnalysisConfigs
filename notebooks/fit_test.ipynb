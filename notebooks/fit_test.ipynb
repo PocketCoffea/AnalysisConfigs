{
 "cells": [
  {
   "cell_type": "code",
   "execution_count": 1,
   "metadata": {},
   "outputs": [
    {
     "name": "stderr",
     "output_type": "stream",
     "text": [
      "sh: cmsrel: line 1: syntax error: unexpected end of file\n",
      "sh: error importing function definition for `BASH_FUNC_cmsrel'\n",
      "sh: cmsenv: line 1: syntax error: unexpected end of file\n",
      "sh: error importing function definition for `BASH_FUNC_cmsenv'\n",
      "sh: cmsrel: line 1: syntax error: unexpected end of file\n",
      "sh: error importing function definition for `BASH_FUNC_cmsrel'\n",
      "sh: cmsenv: line 1: syntax error: unexpected end of file\n",
      "sh: error importing function definition for `BASH_FUNC_cmsenv'\n",
      "sh: cmsrel: line 1: syntax error: unexpected end of file\n",
      "sh: error importing function definition for `BASH_FUNC_cmsrel'\n",
      "sh: cmsenv: line 1: syntax error: unexpected end of file\n",
      "sh: error importing function definition for `BASH_FUNC_cmsenv'\n",
      "sh: cmsrel: line 1: syntax error: unexpected end of file\n",
      "sh: error importing function definition for `BASH_FUNC_cmsrel'\n",
      "sh: cmsenv: line 1: syntax error: unexpected end of file\n",
      "sh: error importing function definition for `BASH_FUNC_cmsenv'\n",
      "sh: cmsrel: line 1: syntax error: unexpected end of file\n",
      "sh: error importing function definition for `BASH_FUNC_cmsrel'\n",
      "sh: cmsenv: line 1: syntax error: unexpected end of file\n",
      "sh: error importing function definition for `BASH_FUNC_cmsenv'\n",
      "sh: cmsrel: line 1: syntax error: unexpected end of file\n",
      "sh: error importing function definition for `BASH_FUNC_cmsrel'\n",
      "sh: cmsenv: line 1: syntax error: unexpected end of file\n",
      "sh: error importing function definition for `BASH_FUNC_cmsenv'\n",
      "sh: cmsrel: line 1: syntax error: unexpected end of file\n",
      "sh: error importing function definition for `BASH_FUNC_cmsrel'\n",
      "sh: cmsenv: line 1: syntax error: unexpected end of file\n",
      "sh: error importing function definition for `BASH_FUNC_cmsenv'\n",
      "sh: cmsrel: line 1: syntax error: unexpected end of file\n",
      "sh: error importing function definition for `BASH_FUNC_cmsrel'\n",
      "sh: cmsenv: line 1: syntax error: unexpected end of file\n",
      "sh: error importing function definition for `BASH_FUNC_cmsenv'\n"
     ]
    },
    {
     "name": "stdout",
     "output_type": "stream",
     "text": [
      "Welcome to JupyROOT 6.26/10\n"
     ]
    }
   ],
   "source": [
    "import ROOT\n",
    "from PIL import Image\n",
    "import os\n"
   ]
  },
  {
   "cell_type": "code",
   "execution_count": 2,
   "metadata": {},
   "outputs": [
    {
     "name": "stdout",
     "output_type": "stream",
     "text": [
      " FCN=26.9076 FROM HESSE     STATUS=OK             16 CALLS         369 TOTAL\n",
      "                     EDM=4.5013e-07    STRATEGY= 1      ERROR MATRIX ACCURATE \n",
      "  EXT PARAMETER                                   STEP         FIRST   \n",
      "  NO.   NAME      VALUE            ERROR          SIZE      DERIVATIVE \n",
      "   1  p0           1.33497e-02   8.72926e-02   4.29297e-05  -1.10157e-02\n",
      "   2  p1           1.47754e-02   4.25809e-02   1.03811e-05  -2.91333e-03\n",
      "   3  p2           9.99412e-01   7.24130e-04   2.38278e-07   4.31204e-01\n"
     ]
    }
   ],
   "source": [
    "# create some fake data with arrors which are almost quadratic\n",
    "data = ROOT.TGraphErrors()\n",
    "for i in range(100):\n",
    "    data.SetPoint(i, i, i**2+ROOT.gRandom.Gaus(0, 0.1*i))\n",
    "    data.SetPointError(i, 0.1, 0.1+ROOT.gRandom.Gaus(0, 0.01))\n",
    "\n",
    "\n",
    "\n",
    "# create a linear fit\n",
    "fit = ROOT.TF1(\"fit\", \"[0] + [1]*x + [2]*x*x\", 0, 100)\n",
    "# fit.SetParameters(0,\n",
    "data.Fit(fit, \"S M\")\n",
    "data.SetMarkerStyle(20)\n",
    "data.SetMarkerColor(ROOT.kBlue)\n",
    "data.SetMarkerSize(0.5)\n"
   ]
  },
  {
   "cell_type": "code",
   "execution_count": 3,
   "metadata": {},
   "outputs": [
    {
     "name": "stderr",
     "output_type": "stream",
     "text": [
      "Info in <TCanvas::Print>: png file fit.png has been created\n",
      "/bin/sh: cmsrel: line 1: syntax error: unexpected end of file\n",
      "/bin/sh: error importing function definition for `BASH_FUNC_cmsrel'\n",
      "/bin/sh: cmsenv: line 1: syntax error: unexpected end of file\n",
      "/bin/sh: error importing function definition for `BASH_FUNC_cmsenv'\n"
     ]
    },
    {
     "data": {
      "image/png": "[encoded data removed]",
      "text/plain": [
       "<IPython.core.display.Image object>"
      ]
     },
     "metadata": {},
     "output_type": "display_data"
    }
   ],
   "source": [
    "# create a canvas\n",
    "\n",
    "canvas = ROOT.TCanvas(\"canvas\", \"canvas\", 800, 600)\n",
    "data.Draw(\"AP\")\n",
    "fit.Draw(\"SAME\")\n",
    "canvas.Update()\n",
    "\n",
    "canvas.Draw()\n",
    "\n",
    "canvas.SaveAs(\"fit.png\")\n",
    "\n",
    "# open the image and display it\n",
    "img = Image.open(\"fit.png\")\n",
    "img.show()\n"
   ]
  },
  {
   "cell_type": "code",
   "execution_count": 4,
   "metadata": {},
   "outputs": [],
   "source": [
    "# delete the canvas\n",
    "del canvas\n",
    "#delete the image\n",
    "# os.remove(\"fit.png\")"
   ]
  },
  {
   "cell_type": "code",
   "execution_count": 5,
   "metadata": {},
   "outputs": [],
   "source": [
    "num=3\n",
    "data_dict= {\n",
    "               \"x\": [\n",
    "            37.23144592575506,\n",
    "            42.040583953178654,\n",
    "            50.01707665030007,\n",
    "            63.4612267414981,\n",
    "            79.86174026412183,\n",
    "            103.42430610251425,\n",
    "            133.90952982964532,\n",
    "            173.35657590868786,\n",
    "            246.22720694134972,\n",
    "            348.46066005241914,\n",
    "            472.37029662893,\n",
    "            646.8079201401259,\n",
    "            871.8057625018096,\n",
    "            1243.993277950927,\n",
    "            1753.3345674891973,\n",
    "            2255.1242504451097,\n",
    "            2752.934025817911,\n",
    "            3250.0338208639787,\n",
    "            3745.5866479256774,\n",
    "            4241.077067085816,\n",
    "            4734.744405708133\n",
    "        ][num:],\n",
    "        \"y\": [\n",
    "            1.0062264150943396,\n",
    "            1.0072399899269706,\n",
    "            1.0077475434618293,\n",
    "            1.005720392255469,\n",
    "            1.003701380175659,\n",
    "            1.001188986232791,\n",
    "            0.9991881089183112,\n",
    "            0.9971952131637997,\n",
    "            0.9957057505601196,\n",
    "            0.9937267080745342,\n",
    "            0.9942207307979121,\n",
    "            0.9957057505601196,\n",
    "            0.9962017434620175,\n",
    "            0.9957057505601196,\n",
    "            0.995210251306295,\n",
    "            0.9957057505601196,\n",
    "            0.9971952131637997,\n",
    "            0.9981906663339157,\n",
    "            0.9996875781054737,\n",
    "            1.001188986232791,\n",
    "            1.002192432974192\n",
    "        ][num:],\n",
    "        \"yerr\": [\n",
    "            0.0016681835934499877,\n",
    "            0.001749221838889041,\n",
    "            0.0012096922485527132,\n",
    "            0.0012009039302765879,\n",
    "            0.001130349359048437,\n",
    "            0.0009074623953655307,\n",
    "            0.0009129324374953333,\n",
    "            0.0008117229975907797,\n",
    "            0.0005930529886136327,\n",
    "            0.0005756303576146156,\n",
    "            0.0005125838051048275,\n",
    "            0.000494375917191455,\n",
    "            0.00044451830639313686,\n",
    "            0.0003177458423049373,\n",
    "            0.00027813092756587423,\n",
    "            0.0002778412264377272,\n",
    "            0.0002929858756535543,\n",
    "            0.0002865447587640248,\n",
    "            0.0002848361376943025,\n",
    "            0.00029217861213729016,\n",
    "            0.00029758200435398376\n",
    "        ][num:],}"
   ]
  },
  {
   "cell_type": "code",
   "execution_count": 6,
   "metadata": {},
   "outputs": [],
   "source": [
    "# create a graph from the dictionary\n",
    "graph = ROOT.TGraphErrors(len(data_dict[\"x\"]))\n",
    "for i in range(len(data_dict[\"x\"])):\n",
    "    graph.SetPoint(i, data_dict[\"x\"][i], data_dict[\"y\"][i])\n",
    "    graph.SetPointError(i, 0, data_dict[\"yerr\"][i]/1)\n"
   ]
  },
  {
   "cell_type": "code",
   "execution_count": 7,
   "metadata": {},
   "outputs": [
    {
     "name": "stdout",
     "output_type": "stream",
     "text": [
      "\n",
      "****************************************\n",
      "         Invalid FitResult  (status = 4 )\n",
      "****************************************\n",
      "Minimizer is Minuit / Migrad\n",
      "Chi2                      =      5.24336\n",
      "NDf                       =            9\n",
      "Edm                       =    0.0676113\n",
      "NCalls                    =         2316\n",
      "p0                        =      1.06337   +/-   0.0215448   \n",
      "p1                        =      18.6064   +/-   0.0677881   \n",
      "p2                        =      18.6569   +/-   0.177163    \n",
      "p3                        =     -1.03117   +/-   0.0192714   \n",
      "p4                        =    0.0313758   +/-   0.00119842  \n",
      "p5                        =    -0.224978   +/-   0.0464858   \n",
      "p6                        =   0.00454503   +/-   0.00048348  \n",
      "p7                        =      13.7642   +/-   3.47477     \n",
      "p8                        =      2.91684   +/-   0.0182403   \n",
      "\n",
      " FCN=5.24336 FROM MIGRAD    STATUS=CALL LIMIT   2315 CALLS        2316 TOTAL\n",
      "                     EDM=0.0676113    STRATEGY= 1  ERROR MATRIX UNCERTAINTY   0.8 per cent\n",
      "  EXT PARAMETER                APPROXIMATE        STEP         FIRST   \n",
      "  NO.   NAME      VALUE            ERROR          SIZE      DERIVATIVE \n",
      "   1  p0           1.06337e+00   2.15448e-02   3.31146e-03  -4.15198e+03\n",
      "   2  p1           1.86064e+01   6.77881e-02   1.09909e-02  -1.41058e+02\n",
      "   3  p2           1.86569e+01   1.77163e-01   2.34569e-02   9.00970e+01\n",
      "   4  p3          -1.03117e+00   1.92714e-02  -2.83009e-03  -2.80497e+03\n",
      "   5  p4           3.13758e-02   1.19842e-03  -1.92514e-04  -3.54327e+04\n",
      "   6  p5          -2.24978e-01   4.64858e-02  -2.47802e-03   6.32161e+02\n",
      "   7  p6           4.54503e-03   4.83480e-04   6.60188e-06  -6.96645e+02\n",
      "   8  p7           1.37642e+01   3.47477e+00  -7.03604e-02   1.34987e-01\n",
      "   9  p8           2.91684e+00   1.82403e-02  -6.61827e-05  -9.51243e+00\n"
     ]
    },
    {
     "name": "stderr",
     "output_type": "stream",
     "text": [
      "Warning in <Fit>: Abnormal termination of minimization.\n",
      "Info in <TCanvas::Print>: png file fit.png has been created\n"
     ]
    },
    {
     "data": {
      "image/png": "[encoded data removed]",
      "text/plain": [
       "<IPython.core.display.Image object>"
      ]
     },
     "metadata": {},
     "output_type": "display_data"
    }
   ],
   "source": [
    "func_string = \"[0] + [1] / (TMath::Log10(x) * TMath::Log10(x) + [2]) + [3] * TMath::Exp(-[4] * (TMath::Log10(x) - [5]) * (TMath::Log10(x) - [5])) + [6] * TMath::Exp(-[7] * (TMath::Log10(x) - [8]) * (TMath::Log10(x) - [8]))\"\n",
    "func_root = ROOT.TF1(\"func_root\", func_string, data_dict[\"x\"][0], data_dict[\"x\"][-1])\n",
    "# func_root.SetParameters(\n",
    "#             1.6081836786569568,\n",
    "#             22.58516985573203,\n",
    "#             35.96303104113097,\n",
    "#             -1.2096680332552872,\n",
    "#             0.012402902153327011,\n",
    "#             3,\n",
    "#             -4.876292773828425,\n",
    "#             23.88044583275305,\n",
    "#             3.5067093288482084\n",
    "# )\n",
    "func_root.SetParameters( # good one\n",
    "            0.9296082409013535,\n",
    "            18.206614170229148,\n",
    "            18.423866780448805,\n",
    "            -0.9111338528208499,\n",
    "            0.03662551034929148,\n",
    "            -0.3825746665434431,\n",
    "            0.0005, 0.15, 3\n",
    ")\n",
    "# func_root.SetParameter(0,-0.0221278)\n",
    "# func_root.SetParameter(1,119.265)\n",
    "# func_root.SetParameter(2,100)\n",
    "# func_root.SetParameter(3,-0.0679365)\n",
    "# func_root.SetParameter(4,2.82597)\n",
    "# func_root.SetParameter(5,1.8277)\n",
    "# func_root.SetParameter(6,-0.0679365)\n",
    "# func_root.SetParameter(7,3.82597)\n",
    "# func_root.SetParameter(8,1.8277)\n",
    "\n",
    "# func_root.SetParLimits(6,-20,10)\n",
    "# func_root.SetParLimits(7,0,100)\n",
    "# func_root.SetParLimits(3,-15,15)\n",
    "# func_root.SetParLimits(4,0,500)\n",
    "# func_root.SetParLimits(0,-2,25)\n",
    "# func_root.SetParLimits(1,0,250)\n",
    "\n",
    "\n",
    "# func_root.SetParameters(\n",
    "#             0.9296082409013535,\n",
    "#             18.206614170229148,\n",
    "#             18.423866780448805,\n",
    "#             -1.03117,\n",
    "#             0.031,\n",
    "#             -0.225,\n",
    "#             0.0045, 13.7, 2.9\n",
    "# )\n",
    "# func_root.FixParameter(0, 0.9296)\n",
    "# func_root.FixParameter(1, 18.206614170229148)\n",
    "# func_root.FixParameter(2,   18.423866780448805)\n",
    "\n",
    "# func_root.FixParameter(3, 0)\n",
    "# func_root.FixParameter(4, 0)\n",
    "# func_root.FixParameter(5, 0)\n",
    "\n",
    "\n",
    "fit_info = str(graph.Fit(\"func_root\", \"S \"))\n",
    "#draw the graph\n",
    "# del canvas\n",
    "canvas = ROOT.TCanvas(\"canvas\", \"canvas\", 800, 600)\n",
    "graph.SetMarkerStyle(20)\n",
    "graph.SetMarkerColor(ROOT.kBlue)\n",
    "graph.SetMarkerSize(0.5)\n",
    "graph.SetTitle(\"Graph with fit\")\n",
    "graph.GetXaxis().SetTitle(\"x\")\n",
    "graph.GetYaxis().SetTitle(\"y\")\n",
    "# set log x\n",
    "ROOT.gPad.SetLogx()\n",
    "graph.Draw(\"AP\")\n",
    "func_root.Draw(\"SAME\")\n",
    "canvas.Update()\n",
    "canvas.Draw()\n",
    "canvas.SaveAs(\"fit.png\")\n",
    "print(fit_info)"
   ]
  },
  {
   "cell_type": "code",
   "execution_count": null,
   "metadata": {},
   "outputs": [],
   "source": []
  },
  {
   "cell_type": "code",
   "execution_count": 8,
   "metadata": {},
   "outputs": [
    {
     "ename": "SyntaxError",
     "evalue": "invalid syntax (1968802724.py, line 23)",
     "output_type": "error",
     "traceback": [
      "\u001b[0;36m  Cell \u001b[0;32mIn[8], line 23\u001b[0;36m\u001b[0m\n\u001b[0;31m    func2.SetParameter(1, 70)graph\u001b[0m\n\u001b[0m                             ^\u001b[0m\n\u001b[0;31mSyntaxError\u001b[0m\u001b[0;31m:\u001b[0m invalid syntax\n"
     ]
    }
   ],
   "source": [
    "func_string2 = \"[2]*([3]*([4]+TMath::Log(max([0],min([1],x)))*([5]+TMath::Log(max([0],min([1],x)))*[6])+[7]/x))*1./([8]+[9]/x+[10]*log(x)/x+[11]*(pow(x/[12],[13])-1)/(pow(x/[12],[13])+1)+[14]*pow(x,-0.3051)+[15]*x)\"\n",
    "func2 = ROOT.TF1(\"func2\", func_string2, 10, 4500)\n",
    "# func2.SetParameters(\n",
    "#     [30,\n",
    "#     70,\n",
    "#     0.995827,\n",
    "#     1.000000,\n",
    "#     0.430200,\n",
    "#     0.314141,\n",
    "#     -0.000254,\n",
    "#     -4.185680,\n",
    "#     1.0170,\n",
    "#     1.3459,\n",
    "#     0.25291,\n",
    "#     0.05041,\n",
    "#     196.01,\n",
    "#     0.9754,\n",
    "#     -0.07417,\n",
    "#     -0.00003170,]\n",
    "# )\n",
    "\n",
    "func2.SetParameter(0, 30)\n",
    "func2.SetParameter(1, 70)graph\n",
    "func2.SetParameter(2, 0.995827)\n",
    "func2.SetParameter(3, 1.000000)\n",
    "func2.SetParameter(4, 0.430200)\n",
    "func2.SetParameter(5, 0.314141)\n",
    "func2.SetParameter(6, -0.000254)\n",
    "func2.SetParameter(7, -4.185680)\n",
    "func2.SetParameter(8, 1.0170)\n",
    "func2.SetParameter(9, 1.3459)\n",
    "func2.SetParameter(10, 0.25291)\n",
    "func2.SetParameter(11, 0.05041)\n",
    "func2.SetParameter(12, 196.01)\n",
    "func2.SetParameter(13, 0.9754)\n",
    "func2.SetParameter(14, -0.07417)\n",
    "func2.SetParameter(15, -0.00003170)\n"
   ]
  },
  {
   "cell_type": "code",
   "execution_count": null,
   "metadata": {},
   "outputs": [
    {
     "data": {
      "image/png": "[encoded data removed]",
      "text/plain": [
       "<Figure size 640x480 with 1 Axes>"
      ]
     },
     "metadata": {},
     "output_type": "display_data"
    }
   ],
   "source": [
    "def func2_py(x, p):\n",
    "    return 1/(\n",
    "        p[2]\n",
    "        * (\n",
    "            p[3]\n",
    "            * (\n",
    "                p[4]\n",
    "                + np.log(np.minimum(p[1], x))\n",
    "                * (p[5] + np.log(np.minimum(p[1], x)) * p[6])\n",
    "                + p[7] / x\n",
    "            )\n",
    "        )\n",
    "        * 1.0\n",
    "        / (\n",
    "            p[8]\n",
    "            + p[9] / x\n",
    "            + p[10] * np.log(x) / x\n",
    "            + p[11] * (pow(x / p[12], p[13]) - 1) / (pow(x / p[12], p[13]) + 1)\n",
    "            + p[14] * pow(x, -0.3051)\n",
    "            + p[15] * x\n",
    "        )\n",
    "    )\n",
    "\n",
    "\n",
    "params = [\n",
    "30  , 1380   ,0.995827, 1.000000, 0.951355, 0.021658, -0.002214, 0.117335,   1.0170, 1.3459, 0.25291, 0.05041, 196.01, 0.9754, -0.07417, -0.00003170]\n",
    "\n",
    "# draw the function in a matplotlib plot\n",
    "import numpy as np\n",
    "import matplotlib.pyplot as plt\n",
    "\n",
    "x = np.linspace(18, 4500, 1000)\n",
    "\n",
    "plt.plot(x, func2_py(x, params), label=\"function\")\n",
    "# x log scale\n",
    "plt.xscale(\"log\")\n",
    "#plot line at 1\n",
    "plt.axhline(y=1, color='r', linestyle='--')\n",
    "plt.show()"
   ]
  },
  {
   "cell_type": "code",
   "execution_count": null,
   "metadata": {},
   "outputs": [
    {
     "data": {
      "image/png": "[encoded data removed]",
      "text/plain": [
       "<Figure size 640x480 with 1 Axes>"
      ]
     },
     "metadata": {},
     "output_type": "display_data"
    }
   ],
   "source": [
    "# define the function to fit with 9 parameters\n",
    "def std_gaus(x, p0, p1, p2, p3, p4, p5, p6, p7, p8):\n",
    "    return (\n",
    "        p0\n",
    "        + p1 / (np.log10(x) ** 2 + p2)\n",
    "        + p3 * np.exp(-p4 * (np.log10(x) - p5) ** 2)\n",
    "        + p6 * np.exp(-p7 * (np.log10(x) - p8) ** 2)\n",
    "    )\n",
    "p_initial = [\n",
    "            0.97,\n",
    "            10,\n",
    "            +0.5,\n",
    "            -0.5,\n",
    "            0.5,\n",
    "            2.5,\n",
    "            0,0,0\n",
    "]\n",
    "p_initial = [\n",
    "            0.9711944049901806525,\n",
    "            0.05100162783645151,\n",
    "            0.15438656997478406,\n",
    "            0.006970788303348081,\n",
    "            0.0010614731369840119,\n",
    "            0.02236118077173509,\n",
    "            0,0,0\n",
    "]\n",
    "\n",
    "# draw\n",
    "x = np.linspace(18, 4500, 1000)\n",
    "plt.plot(x, std_gaus(x, *p_initial), label=\"function\")\n",
    "# x log scale\n",
    "plt.xscale(\"log\")\n",
    "#plot line at 1\n",
    "plt.axhline(y=1, color='r', linestyle='--')\n",
    "plt.show()\n"
   ]
  },
  {
   "cell_type": "code",
   "execution_count": null,
   "metadata": {},
   "outputs": [],
   "source": []
  }
 ],
 "metadata": {
  "kernelspec": {
   "display_name": "Python 3",
   "language": "python",
   "name": "python3"
  },
  "language_info": {
   "codemirror_mode": {
    "name": "ipython",
    "version": 3
   },
   "file_extension": ".py",
   "mimetype": "text/x-python",
   "name": "python",
   "nbconvert_exporter": "python",
   "pygments_lexer": "ipython3",
   "version": "3.9.19"
  }
 },
 "nbformat": 4,
 "nbformat_minor": 2
}
