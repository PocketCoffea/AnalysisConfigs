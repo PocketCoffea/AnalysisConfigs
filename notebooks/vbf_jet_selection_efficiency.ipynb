{
 "cells": [
  {
   "cell_type": "code",
   "execution_count": 6,
   "metadata": {},
   "outputs": [],
   "source": [
    "# load a coffea file\n",
    "from coffea.util import load\n",
    "import os\n",
    "import awkward as ak\n",
    "import numpy as np\n",
    "import matplotlib.pyplot as plt\n",
    "import mplhep as hep\n",
    "import matplotlib\n",
    "matplotlib.rcParams[\"figure.dpi\"] = 300\n"
   ]
  },
  {
   "cell_type": "code",
   "execution_count": 7,
   "metadata": {},
   "outputs": [],
   "source": [
    "input = \"/work/mmalucch/out_hh4b/out_test/output_all.coffea\"\n",
    "\n",
    "o = load(f\"{input}\")"
   ]
  },
  {
   "cell_type": "code",
   "execution_count": 8,
   "metadata": {},
   "outputs": [
    {
     "name": "stdout",
     "output_type": "stream",
     "text": [
      "dict_keys(['4b_region'])\n",
      "weight\n",
      "events_etaProduct\n",
      "Jet_N\n",
      "Jet_index\n",
      "Jet_pt\n",
      "Jet_btagPNetQvG\n",
      "Jet_eta\n",
      "Jet_btagPNetB\n",
      "Jet_phi\n",
      "Jet_mass\n",
      "JetVBFNotFromHiggs_N\n",
      "JetVBFNotFromHiggs_index\n",
      "JetVBFNotFromHiggs_pt\n",
      "JetVBFNotFromHiggs_btagPNetQvG\n",
      "JetVBFNotFromHiggs_eta\n",
      "JetVBFNotFromHiggs_btagPNetB\n",
      "JetVBFNotFromHiggs_phi\n",
      "JetVBFNotFromHiggs_mass\n",
      "JetGoodFromHiggsOrdered_N\n",
      "JetGoodFromHiggsOrdered_index\n",
      "JetGoodFromHiggsOrdered_pt\n",
      "JetGoodFromHiggsOrdered_btagPNetQvG\n",
      "JetGoodFromHiggsOrdered_eta\n",
      "JetGoodFromHiggsOrdered_btagPNetB\n",
      "JetGoodFromHiggsOrdered_phi\n",
      "JetGoodFromHiggsOrdered_mass\n",
      "JetVBF_matching_N\n",
      "JetVBF_matching_index\n",
      "JetVBF_matching_pt\n",
      "JetVBF_matching_btagPNetQvG\n",
      "JetVBF_matching_eta\n",
      "JetVBF_matching_btagPNetB\n",
      "JetVBF_matching_phi\n",
      "JetVBF_matching_mass\n",
      "JetVBFLeadingPtNotFromHiggs_N\n",
      "JetVBFLeadingPtNotFromHiggs_index\n",
      "JetVBFLeadingPtNotFromHiggs_pt\n",
      "JetVBFLeadingPtNotFromHiggs_btagPNetQvG\n",
      "JetVBFLeadingPtNotFromHiggs_eta\n",
      "JetVBFLeadingPtNotFromHiggs_btagPNetB\n",
      "JetVBFLeadingPtNotFromHiggs_phi\n",
      "JetVBFLeadingPtNotFromHiggs_mass\n",
      "JetVBFLeadingMjjNotFromHiggs_N\n",
      "JetVBFLeadingMjjNotFromHiggs_index\n",
      "JetVBFLeadingMjjNotFromHiggs_pt\n",
      "JetVBFLeadingMjjNotFromHiggs_btagPNetQvG\n",
      "JetVBFLeadingMjjNotFromHiggs_eta\n",
      "JetVBFLeadingMjjNotFromHiggs_btagPNetB\n",
      "JetVBFLeadingMjjNotFromHiggs_phi\n",
      "JetVBFLeadingMjjNotFromHiggs_mass\n",
      "HH_pt\n",
      "HH_eta\n",
      "HH_phi\n",
      "HH_mass\n",
      "quarkVBF_matched_N\n",
      "quarkVBF_matched_index\n",
      "quarkVBF_matched_pt\n",
      "quarkVBF_matched_eta\n",
      "quarkVBF_matched_phi\n",
      "quarkVBF_N\n",
      "quarkVBF_index\n",
      "quarkVBF_pt\n",
      "quarkVBF_eta\n",
      "quarkVBF_phi\n",
      "quarkVBF_generalSelection_matched_N\n",
      "quarkVBF_generalSelection_matched_index\n",
      "quarkVBF_generalSelection_matched_pt\n",
      "quarkVBF_generalSelection_matched_eta\n",
      "quarkVBF_generalSelection_matched_phi\n",
      "JetVBF_matched_N\n",
      "JetVBF_matched_index\n",
      "JetVBF_matched_pt\n",
      "JetVBF_matched_btagPNetQvG\n",
      "JetVBF_matched_eta\n",
      "JetVBF_matched_btagPNetB\n",
      "JetVBF_matched_phi\n",
      "JetVBF_matched_mass\n",
      "JetVBF_generalSelection_matched_N\n",
      "JetVBF_generalSelection_matched_index\n",
      "JetVBF_generalSelection_matched_pt\n",
      "JetVBF_generalSelection_matched_btagPNetQvG\n",
      "JetVBF_generalSelection_matched_eta\n",
      "JetVBF_generalSelection_matched_btagPNetB\n",
      "JetVBF_generalSelection_matched_phi\n",
      "JetVBF_generalSelection_matched_mass\n",
      "events_deltaEta_matched\n",
      "events_jj_mass_matched\n",
      "events_nJetVBF_matched\n"
     ]
    }
   ],
   "source": [
    "sample=list(o[\"columns\"].keys())[0]\n",
    "dataset=list(o[\"columns\"][sample].keys())[0]\n",
    "category=list(o[\"columns\"][sample][dataset].keys())[0]\n",
    "print(o[\"columns\"][sample][dataset].keys())\n",
    "col=o[\"columns\"][sample][dataset][category]\n",
    "for k in col.keys():\n",
    "    print(k)\n",
    "    col[k]=col[k].value#[col[k].value!=-999]\n"
   ]
  },
  {
   "cell_type": "code",
   "execution_count": 9,
   "metadata": {},
   "outputs": [
    {
     "name": "stdout",
     "output_type": "stream",
     "text": [
      "29820\n",
      "7455\n",
      "7455\n",
      "12690\n",
      "14910\n",
      "14910\n"
     ]
    }
   ],
   "source": [
    "print(len(col[\"JetGoodFromHiggsOrdered_pt\"]))\n",
    "print(len(col[\"weight\"]))\n",
    "print(len(col[\"HH_pt\"]))\n",
    "print(len(col[\"quarkVBF_generalSelection_matched_pt\"]))\n",
    "print(len(col[\"quarkVBF_pt\"]))\n",
    "print(len(col[\"JetVBFLeadingMjjNotFromHiggs_pt\"]))"
   ]
  },
  {
   "cell_type": "code",
   "execution_count": 10,
   "metadata": {},
   "outputs": [
    {
     "name": "stdout",
     "output_type": "stream",
     "text": [
      "[147.86612   70.64549   87.6789   ...  56.48333   62.93993   42.742615]\n",
      "[0.9213867  0.99902344 0.99902344 ... 0.61376953 0.99853516 0.8930664 ]\n",
      "[11.737123 11.826293 11.565462 11.300092]\n",
      "[-4.6191406 -4.676758  -4.665039  -4.6054688 -4.6845703  4.6640625\n",
      " -4.6054688  4.6210938 -4.6103516 -4.602539   4.682617  -4.6708984\n",
      "  4.6103516  4.6035156 -4.6347656  4.616211  -4.6728516  4.6679688\n",
      " -4.623047  -4.682617  -4.6152344  4.600586   4.698242  -4.6728516\n",
      " -4.694336   4.698242   4.685547   4.6953125  4.6210938  4.6679688\n",
      "  4.616211   4.604492   4.604492   4.658203  -4.6757812  4.6347656\n",
      "  4.6728516  4.666992   4.618164  -4.6728516  4.614258   4.6210938\n",
      "  4.6464844  4.640625  -4.6191406 -4.600586   4.6416016 -4.6240234\n",
      " -4.626953   4.6640625 -4.6054688 -4.6992188 -4.6152344 -4.671875\n",
      " -4.6601562 -4.6660156 -4.6777344  4.6416016  4.600586   4.635742\n",
      " -4.682617  -4.692383   4.6757812 -4.6972656  4.625     -4.6679688\n",
      " -4.6376953 -4.6914062  4.661133  -4.6689453  4.663086  -4.6191406\n",
      " -4.6259766  4.6933594  4.6054688 -4.6103516 -4.669922   4.645508\n",
      "  4.6992188  4.658203   4.682617   4.6728516 -4.6035156  4.618164\n",
      " -4.614258  -4.6103516  4.6347656  4.6621094  4.689453   4.618164\n",
      " -4.6464844 -4.6523438 -4.6210938 -4.694336   4.609375  -4.611328\n",
      " -4.6416016 -4.6132812  4.626953  -4.666992  -4.692383   4.6591797\n",
      "  4.6259766 -4.6777344 -4.6640625 -4.614258   4.6708984  4.669922\n",
      "  4.671875  -4.602539   4.6591797  4.6777344 -4.6015625 -4.6552734\n",
      "  4.6679688 -4.623047  -4.671875  -4.6728516]\n"
     ]
    }
   ],
   "source": [
    "print((col[\"JetGoodFromHiggsOrdered_pt\"]))\n",
    "print((col[\"JetGoodFromHiggsOrdered_btagPNetB\"]))\n",
    "print(col[\"JetVBFLeadingMjjNotFromHiggs_pt\"][col[\"JetVBFLeadingMjjNotFromHiggs_pt\"]<12])\n",
    "print(col[\"JetVBFLeadingMjjNotFromHiggs_eta\"][abs(col[\"JetVBFLeadingMjjNotFromHiggs_eta\"])>4.6])\n"
   ]
  },
  {
   "cell_type": "code",
   "execution_count": 11,
   "metadata": {},
   "outputs": [
    {
     "name": "stdout",
     "output_type": "stream",
     "text": [
      "[]\n",
      "[9.495975]\n",
      "[]\n",
      "[4.9335938 5.0976562 4.9316406 4.8359375 4.734375  4.729492  4.9960938\n",
      " 4.7402344 4.7783203 5.0166016 4.7470703 4.942383  5.095703  4.7871094\n",
      " 4.939453  5.0947266 4.9833984 4.7314453 5.083008  5.020508  4.9472656\n",
      " 4.836914  4.955078  5.0859375 5.0185547 5.086914  5.0898438 4.9345703\n",
      " 4.9384766 4.9228516 4.7373047 4.926758  5.09375   4.838867  4.977539\n",
      " 4.982422  5.080078  4.833008  5.071289  4.7958984 4.758789  4.713867\n",
      " 4.720703  4.9804688 4.973633  4.979492  4.7197266 4.848633  4.9277344\n",
      " 4.9804688 4.7783203 5.0791016 4.8398438 4.7626953 4.8583984 5.0029297\n",
      " 5.015625  5.0791016 4.711914  4.9384766 4.857422  4.9316406 4.9375\n",
      " 4.9804688 4.833008  4.8564453 4.8320312 4.708008  4.8408203 4.96875\n",
      " 4.958008  5.0195312 4.8564453 5.0820312 5.0791016 5.076172  4.8603516\n",
      " 4.7851562 5.0791016 5.095703  4.7539062 5.088867  5.09375   4.8964844\n",
      " 4.754883  4.915039  4.919922  4.9208984 4.7490234 4.8378906 5.017578\n",
      " 4.7197266 4.7910156 4.8808594 4.767578  4.8466797 4.8964844 4.850586\n",
      " 5.09375   4.838867  4.7529297 4.756836  5.0878906 4.989258  4.7666016\n",
      " 4.739258  5.086914  4.9921875 4.9746094 4.798828  4.7148438 4.7402344\n",
      " 4.758789  5.0839844 4.8271484 4.995117  4.9492188 4.953125  4.9140625\n",
      " 5.03125   4.9541016 5.        4.7509766 4.838867  4.9316406 5.09375\n",
      " 4.817383  4.828125  4.989258  5.0703125 4.9345703 4.932617  5.076172\n",
      " 5.0878906 4.801758  4.703125  4.915039  4.779297  4.8984375 4.857422\n",
      " 4.9726562 4.838867  5.078125  4.7001953 4.8339844 5.084961  4.845703\n",
      " 4.8310547 5.0273438 4.732422  5.091797  4.9697266 4.9560547 4.852539\n",
      " 4.9140625 4.982422  4.9882812 4.711914  4.725586  4.7158203 4.9257812\n",
      " 4.838867  4.836914  4.7109375 5.0341797 4.7714844 4.9804688 5.088867\n",
      " 4.8496094 4.709961  5.0234375 4.939453  4.9726562 5.071289  4.926758\n",
      " 5.069336  4.774414  4.913086  5.        5.088867  4.767578  5.0751953\n",
      " 5.026367  4.745117  4.7529297 4.96875   4.9726562 4.754883  5.0927734\n",
      " 4.977539  5.0751953 4.9609375 4.9990234 4.7822266 4.791992  4.930664\n",
      " 4.774414  4.9560547 4.7890625 4.7578125 4.7353516]\n"
     ]
    }
   ],
   "source": [
    "idx_b_higgs_unflatten=ak.unflatten(col[\"JetGoodFromHiggsOrdered_index\"], col[\"JetGoodFromHiggsOrdered_N\"])\n",
    "idx_vbf_mjj_unflatten=ak.unflatten(col[\"JetVBFLeadingMjjNotFromHiggs_index\"], col[\"JetVBFLeadingMjjNotFromHiggs_N\"])\n",
    "idx_vbf_pt_unflatten=ak.unflatten(col[\"JetVBFLeadingPtNotFromHiggs_index\"], col[\"JetVBFLeadingPtNotFromHiggs_N\"])\n",
    "idx_vbf_matched_unflatten=ak.unflatten(col[\"JetVBF_generalSelection_matched_index\"], col[\"JetVBF_generalSelection_matched_N\"])\n",
    "idx_vbf_matched_unflatten_fullyMatched=idx_vbf_matched_unflatten[col[\"JetVBF_generalSelection_matched_N\"]==2]\n",
    "idx_vbf_mjj_unflatten_fullyMatched=idx_vbf_mjj_unflatten[col[\"JetVBF_generalSelection_matched_N\"]==2]\n",
    "idx_vbf_pt_unflatten_fullyMatched=idx_vbf_pt_unflatten[col[\"JetVBF_generalSelection_matched_N\"]==2]\n",
    "\n",
    "\n",
    "\n",
    "\n",
    "print(col[\"JetVBFNotFromHiggs_pt\"][col[\"JetVBFNotFromHiggs_pt\"]<10])\n",
    "print(col[\"Jet_pt\"][col[\"Jet_pt\"]<10])\n",
    "print(col[\"JetVBFNotFromHiggs_eta\"][col[\"JetVBFNotFromHiggs_eta\"]>4.7])\n",
    "print(col[\"Jet_eta\"][col[\"Jet_eta\"]>4.7])"
   ]
  },
  {
   "cell_type": "code",
   "execution_count": 12,
   "metadata": {},
   "outputs": [
    {
     "name": "stdout",
     "output_type": "stream",
     "text": [
      "higgs [[0, 4, 2, 3], [2, 4, 1, 3], [1, 3, 6, 7, ... 5, 2, 3], [1, 4, 3, 5], [0, 2, 1, 3]]\n",
      "mjj [[1, 5], [0, 5], [0, 2], [3, 8], [4, 6], ... [0, 5], [0, 2], [4, 6], [0, 6], [4, 5]]\n",
      "pt [[1, 5], [0, 5], [0, 2], [4, 3], [4, 6], ... [0, 3], [0, 2], [0, 4], [0, 2], [4, 5]]\n",
      "matched [[1], [0, 6], [0, 2], [4], [3], [], [0], ... [0], [0, 5], [0, 7], [0, 6], [0], [0]]\n"
     ]
    }
   ],
   "source": [
    "print(\"higgs\", idx_b_higgs_unflatten)\n",
    "print(\"mjj\", idx_vbf_mjj_unflatten)\n",
    "print(\"pt\", idx_vbf_pt_unflatten)\n",
    "print(\"matched\", idx_vbf_matched_unflatten)\n"
   ]
  },
  {
   "cell_type": "code",
   "execution_count": 13,
   "metadata": {},
   "outputs": [
    {
     "name": "stdout",
     "output_type": "stream",
     "text": [
      "mjj fully matched [[0, 5], [0, 2], [4, 5], [1, 3], [0, 4], ... [0, 3], [5, 4], [0, 5], [0, 2], [4, 6]]\n",
      "pt fully matched [[0, 5], [0, 2], [0, 4], [1, 3], [0, 4], ... [0, 3], [5, 4], [0, 3], [0, 2], [0, 4]]\n",
      "fully matched [[0, 6], [0, 2], [4, 5], [1, 3], [0, 4], ... [0, 3], [4, 5], [0, 5], [0, 7], [0, 6]]\n"
     ]
    }
   ],
   "source": [
    "print(\"mjj fully matched\", idx_vbf_mjj_unflatten_fullyMatched)\n",
    "print(\"pt fully matched\", idx_vbf_pt_unflatten_fullyMatched)\n",
    "print(\"fully matched\", idx_vbf_matched_unflatten_fullyMatched)"
   ]
  },
  {
   "cell_type": "code",
   "execution_count": 14,
   "metadata": {},
   "outputs": [
    {
     "name": "stdout",
     "output_type": "stream",
     "text": [
      "[False, True, True, True, True, True, ... False, True, True, True, False, False]\n",
      "frac fully macthed 0.7189805499664654\n",
      "eff mjj 0.7044776119402985\n"
     ]
    }
   ],
   "source": [
    "# correct_mjj=ak.where(idx_vbf_mjj_unflatten_fullyMatched==idx_vbf_matched_unflatten_fullyMatched or idx_vbf_mjj_unflatten_fullyMatched==idx_vbf_matched_unflatten_fullyMatched[:,::-1], True, False)\n",
    "correct_mjj = ak.all(\n",
    "        idx_vbf_mjj_unflatten_fullyMatched == idx_vbf_matched_unflatten_fullyMatched,\n",
    "        axis=-1,\n",
    "    )    + ak.all(\n",
    "        idx_vbf_mjj_unflatten_fullyMatched\n",
    "        == idx_vbf_matched_unflatten_fullyMatched[:, ::-1],\n",
    "        axis=-1,\n",
    "    )\n",
    "\n",
    "print(correct_mjj)\n",
    "num_correct_mjj = ak.sum(correct_mjj)\n",
    "\n",
    "print(\"frac fully macthed\", len(idx_vbf_matched_unflatten_fullyMatched)/len(idx_vbf_matched_unflatten))\n",
    "print(\"eff mjj\", num_correct_mjj/len(idx_vbf_matched_unflatten_fullyMatched))"
   ]
  },
  {
   "cell_type": "code",
   "execution_count": 15,
   "metadata": {},
   "outputs": [
    {
     "name": "stdout",
     "output_type": "stream",
     "text": [
      "[False, True, False, True, True, True, ... False, True, True, False, False, False]\n",
      "frac fully macthed 0.7189805499664654\n",
      "eff pt 0.7371268656716418\n"
     ]
    }
   ],
   "source": [
    "correct_pt=ak.all(\n",
    "        idx_vbf_pt_unflatten_fullyMatched == idx_vbf_matched_unflatten_fullyMatched,\n",
    "        axis=-1,\n",
    "    )    + ak.all(\n",
    "        idx_vbf_pt_unflatten_fullyMatched\n",
    "        == idx_vbf_matched_unflatten_fullyMatched[:, ::-1],\n",
    "        axis=-1,\n",
    "    )\n",
    "\n",
    "print(correct_pt)\n",
    "num_correct_pt = ak.sum(correct_pt)\n",
    "\n",
    "print(\"frac fully macthed\", len(idx_vbf_matched_unflatten_fullyMatched)/len(idx_vbf_matched_unflatten))\n",
    "print(\"eff pt\", num_correct_pt/len(idx_vbf_matched_unflatten_fullyMatched))"
   ]
  },
  {
   "cell_type": "code",
   "execution_count": 16,
   "metadata": {},
   "outputs": [],
   "source": [
    "correct_mjj_all_jets=0\n",
    "correct_pt_all_jets=0\n",
    "for iev in range(len(idx_vbf_matched_unflatten)):\n",
    "    for i in range(len(idx_vbf_matched_unflatten[iev])):\n",
    "        if idx_vbf_matched_unflatten[iev][i] in idx_vbf_mjj_unflatten[iev]:\n",
    "            correct_mjj_all_jets+=1\n",
    "        if idx_vbf_matched_unflatten[iev][i] in idx_vbf_pt_unflatten[iev]:\n",
    "            correct_pt_all_jets+=1\n",
    "        # print(iev, idx_vbf_matched_unflatten[iev][i], idx_vbf_mjj_unflatten[iev], idx_vbf_pt_unflatten[iev], correct_mjj_all_jets, correct_pt_all_jets)\n",
    "    # if iev>10:\n",
    "    #     break"
   ]
  },
  {
   "cell_type": "code",
   "execution_count": 17,
   "metadata": {},
   "outputs": [
    {
     "name": "stdout",
     "output_type": "stream",
     "text": [
      "eff mjj all jets 0.8429472025216707\n",
      "eff pt all jets 0.8727344365642238\n"
     ]
    }
   ],
   "source": [
    "\n",
    "print(\"eff mjj all jets\", correct_mjj_all_jets/len(col[\"JetVBF_generalSelection_matched_index\"]))\n",
    "print(\"eff pt all jets\", correct_pt_all_jets/len(col[\"JetVBF_generalSelection_matched_index\"]))\n"
   ]
  },
  {
   "cell_type": "code",
   "execution_count": null,
   "metadata": {},
   "outputs": [],
   "source": []
  }
 ],
 "metadata": {
  "kernelspec": {
   "display_name": "Python 3",
   "language": "python",
   "name": "python3"
  },
  "language_info": {
   "codemirror_mode": {
    "name": "ipython",
    "version": 3
   },
   "file_extension": ".py",
   "mimetype": "text/x-python",
   "name": "python",
   "nbconvert_exporter": "python",
   "pygments_lexer": "ipython3",
   "version": "3.9.18"
  }
 },
 "nbformat": 4,
 "nbformat_minor": 2
}
