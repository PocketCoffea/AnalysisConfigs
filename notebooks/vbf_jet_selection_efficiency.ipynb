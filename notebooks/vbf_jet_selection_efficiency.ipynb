{
 "cells": [
  {
   "cell_type": "code",
   "execution_count": 1,
   "metadata": {},
   "outputs": [],
   "source": [
    "# load a coffea file\n",
    "from coffea.util import load\n",
    "import os\n",
    "import awkward as ak\n",
    "import numpy as np\n",
    "import matplotlib.pyplot as plt\n",
    "import mplhep as hep\n",
    "import matplotlib\n",
    "matplotlib.rcParams[\"figure.dpi\"] = 300\n"
   ]
  },
  {
   "cell_type": "code",
   "execution_count": 16,
   "metadata": {},
   "outputs": [],
   "source": [
    "input = \"/work/mmalucch/out_hh4b/out_vbf_jets_test/output_all.coffea\"\n",
    "\n",
    "o = load(f\"{input}\")"
   ]
  },
  {
   "cell_type": "code",
   "execution_count": 17,
   "metadata": {},
   "outputs": [
    {
     "name": "stdout",
     "output_type": "stream",
     "text": [
      "dict_keys(['4b_region'])\n",
      "weight\n",
      "events_etaProduct\n",
      "events_deltaEta_matched\n",
      "events_jj_mass_matched\n",
      "events_nJetVBF_matched\n",
      "Jet_N\n",
      "Jet_index\n",
      "Jet_pt\n",
      "Jet_btagPNetQvG\n",
      "Jet_eta\n",
      "Jet_btagPNetB\n",
      "Jet_phi\n",
      "Jet_mass\n",
      "JetVBFNotFromHiggs_N\n",
      "JetVBFNotFromHiggs_index\n",
      "JetVBFNotFromHiggs_pt\n",
      "JetVBFNotFromHiggs_btagPNetQvG\n",
      "JetVBFNotFromHiggs_eta\n",
      "JetVBFNotFromHiggs_btagPNetB\n",
      "JetVBFNotFromHiggs_phi\n",
      "JetVBFNotFromHiggs_mass\n",
      "JetGoodFromHiggsOrdered_index\n",
      "JetGoodFromHiggsOrdered_pt\n",
      "JetGoodFromHiggsOrdered_btagPNetQvG\n",
      "JetGoodFromHiggsOrdered_eta\n",
      "JetGoodFromHiggsOrdered_btagPNetB\n",
      "JetGoodFromHiggsOrdered_phi\n",
      "JetGoodFromHiggsOrdered_mass\n",
      "JetVBF_matching_N\n",
      "JetVBF_matching_index\n",
      "JetVBF_matching_pt\n",
      "JetVBF_matching_btagPNetQvG\n",
      "JetVBF_matching_eta\n",
      "JetVBF_matching_btagPNetB\n",
      "JetVBF_matching_phi\n",
      "JetVBF_matching_mass\n",
      "JetVBF_matched_N\n",
      "JetVBF_matched_index\n",
      "JetVBF_matched_pt\n",
      "JetVBF_matched_btagPNetQvG\n",
      "JetVBF_matched_eta\n",
      "JetVBF_matched_btagPNetB\n",
      "JetVBF_matched_phi\n",
      "JetVBF_matched_mass\n",
      "JetVBF_generalSelection_matched_N\n",
      "JetVBF_generalSelection_matched_index\n",
      "JetVBF_generalSelection_matched_pt\n",
      "JetVBF_generalSelection_matched_btagPNetQvG\n",
      "JetVBF_generalSelection_matched_eta\n",
      "JetVBF_generalSelection_matched_btagPNetB\n",
      "JetVBF_generalSelection_matched_phi\n",
      "JetVBF_generalSelection_matched_mass\n",
      "JetVBFLeadingPtNotFromHiggs_N\n",
      "JetVBFLeadingPtNotFromHiggs_index\n",
      "JetVBFLeadingPtNotFromHiggs_pt\n",
      "JetVBFLeadingPtNotFromHiggs_btagPNetQvG\n",
      "JetVBFLeadingPtNotFromHiggs_eta\n",
      "JetVBFLeadingPtNotFromHiggs_btagPNetB\n",
      "JetVBFLeadingPtNotFromHiggs_phi\n",
      "JetVBFLeadingPtNotFromHiggs_mass\n",
      "JetVBFLeadingMjjNotFromHiggs_N\n",
      "JetVBFLeadingMjjNotFromHiggs_index\n",
      "JetVBFLeadingMjjNotFromHiggs_pt\n",
      "JetVBFLeadingMjjNotFromHiggs_btagPNetQvG\n",
      "JetVBFLeadingMjjNotFromHiggs_eta\n",
      "JetVBFLeadingMjjNotFromHiggs_btagPNetB\n",
      "JetVBFLeadingMjjNotFromHiggs_phi\n",
      "JetVBFLeadingMjjNotFromHiggs_mass\n",
      "quarkVBF_matched_N\n",
      "quarkVBF_matched_index\n",
      "quarkVBF_matched_pt\n",
      "quarkVBF_matched_eta\n",
      "quarkVBF_matched_phi\n",
      "quarkVBF_N\n",
      "quarkVBF_index\n",
      "quarkVBF_pt\n",
      "quarkVBF_eta\n",
      "quarkVBF_phi\n",
      "quarkVBF_generalSelection_matched_N\n",
      "quarkVBF_generalSelection_matched_index\n",
      "quarkVBF_generalSelection_matched_pt\n",
      "quarkVBF_generalSelection_matched_eta\n",
      "quarkVBF_generalSelection_matched_phi\n",
      "HH_pt\n",
      "HH_eta\n",
      "HH_phi\n",
      "HH_mass\n"
     ]
    }
   ],
   "source": [
    "sample=list(o[\"columns\"].keys())[0]\n",
    "dataset=list(o[\"columns\"][sample].keys())[0]\n",
    "category=list(o[\"columns\"][sample][dataset].keys())[0]\n",
    "print(o[\"columns\"][sample][dataset].keys())\n",
    "col=o[\"columns\"][sample][dataset][category]\n",
    "for k in col.keys():\n",
    "    print(k)\n",
    "    col[k]=col[k].value#[col[k].value!=-999]\n"
   ]
  },
  {
   "cell_type": "code",
   "execution_count": 18,
   "metadata": {},
   "outputs": [
    {
     "name": "stdout",
     "output_type": "stream",
     "text": [
      "7455\n",
      "7455\n",
      "7455\n",
      "12690\n",
      "14910\n",
      "14910\n"
     ]
    }
   ],
   "source": [
    "print(len(col[\"JetGoodFromHiggsOrdered_pt\"]))\n",
    "print(len(col[\"weight\"]))\n",
    "print(len(col[\"HH_pt\"]))\n",
    "print(len(col[\"quarkVBF_generalSelection_matched_pt\"]))\n",
    "print(len(col[\"quarkVBF_pt\"]))\n",
    "print(len(col[\"JetVBFLeadingMjjNotFromHiggs_pt\"]))"
   ]
  },
  {
   "cell_type": "code",
   "execution_count": 21,
   "metadata": {},
   "outputs": [
    {
     "name": "stdout",
     "output_type": "stream",
     "text": [
      "[[147.86612   70.64549   87.6789    83.01369 ]\n",
      " [ 71.70511   54.774662  79.50374   54.04211 ]\n",
      " [ 86.90677   41.731636  39.493473  34.71512 ]\n",
      " ...\n",
      " [124.24467   47.973507  62.656864  46.424488]\n",
      " [112.98882   54.874634  38.329338  35.514175]\n",
      " [169.96036   56.48333   62.93993   42.742615]]\n",
      "[11.737123 11.826293 11.565462 11.300092]\n",
      "[-4.6191406 -4.676758  -4.665039  -4.6054688 -4.6845703  4.6640625\n",
      " -4.6054688  4.6210938 -4.6103516 -4.602539   4.682617  -4.6708984\n",
      "  4.6103516  4.6035156 -4.6347656  4.616211  -4.6728516  4.6679688\n",
      " -4.623047  -4.682617  -4.6152344  4.600586   4.698242  -4.6728516\n",
      " -4.694336   4.698242   4.685547   4.6953125  4.6210938  4.6679688\n",
      "  4.616211   4.604492   4.604492   4.658203  -4.6757812  4.6347656\n",
      "  4.6728516  4.666992   4.618164  -4.6728516  4.614258   4.6210938\n",
      "  4.6464844  4.640625  -4.6191406 -4.600586   4.6416016 -4.6240234\n",
      " -4.626953   4.6640625 -4.6054688 -4.6992188 -4.6152344 -4.671875\n",
      " -4.6601562 -4.6660156 -4.6777344  4.6416016  4.600586   4.635742\n",
      " -4.682617  -4.692383   4.6757812 -4.6972656  4.625     -4.6679688\n",
      " -4.6376953 -4.6914062  4.661133  -4.6689453  4.663086  -4.6191406\n",
      " -4.6259766  4.6933594  4.6054688 -4.6103516 -4.669922   4.645508\n",
      "  4.6992188  4.658203   4.682617   4.6728516 -4.6035156  4.618164\n",
      " -4.614258  -4.6103516  4.6347656  4.6621094  4.689453   4.618164\n",
      " -4.6464844 -4.6523438 -4.6210938 -4.694336   4.609375  -4.611328\n",
      " -4.6416016 -4.6132812  4.626953  -4.666992  -4.692383   4.6591797\n",
      "  4.6259766 -4.6777344 -4.6640625 -4.614258   4.6708984  4.669922\n",
      "  4.671875  -4.602539   4.6591797  4.6777344 -4.6015625 -4.6552734\n",
      "  4.6679688 -4.623047  -4.671875  -4.6728516]\n"
     ]
    }
   ],
   "source": [
    "print((col[\"JetGoodFromHiggsOrdered_pt\"]))\n",
    "print(col[\"JetVBFLeadingMjjNotFromHiggs_pt\"][col[\"JetVBFLeadingMjjNotFromHiggs_pt\"]<12])\n",
    "print(col[\"JetVBFLeadingMjjNotFromHiggs_eta\"][abs(col[\"JetVBFLeadingMjjNotFromHiggs_eta\"])>4.6])\n"
   ]
  },
  {
   "cell_type": "code",
   "execution_count": null,
   "metadata": {},
   "outputs": [],
   "source": []
  }
 ],
 "metadata": {
  "kernelspec": {
   "display_name": "Python 3",
   "language": "python",
   "name": "python3"
  },
  "language_info": {
   "codemirror_mode": {
    "name": "ipython",
    "version": 3
   },
   "file_extension": ".py",
   "mimetype": "text/x-python",
   "name": "python",
   "nbconvert_exporter": "python",
   "pygments_lexer": "ipython3",
   "version": "3.9.18"
  }
 },
 "nbformat": 4,
 "nbformat_minor": 2
}
