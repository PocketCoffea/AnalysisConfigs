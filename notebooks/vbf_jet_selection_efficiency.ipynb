{
 "cells": [
  {
   "cell_type": "code",
   "execution_count": 1,
   "metadata": {},
   "outputs": [],
   "source": [
    "# load a coffea file\n",
    "from coffea.util import load\n",
    "import os\n",
    "import awkward as ak\n",
    "import numpy as np\n",
    "import matplotlib.pyplot as plt\n",
    "import mplhep as hep\n",
    "import matplotlib\n",
    "matplotlib.rcParams[\"figure.dpi\"] = 300\n"
   ]
  },
  {
   "cell_type": "code",
   "execution_count": 109,
   "metadata": {},
   "outputs": [],
   "source": [
    "input = \"/work/mmalucch/out_hh4b/out_vbf_jets_candidates_higgs_truth_matching/output_all.coffea\"\n",
    "\n",
    "o = load(f\"{input}\")"
   ]
  },
  {
   "cell_type": "code",
   "execution_count": 110,
   "metadata": {},
   "outputs": [
    {
     "name": "stdout",
     "output_type": "stream",
     "text": [
      "dict_keys(['4b_region'])\n",
      "weight\n",
      "events_etaProduct\n",
      "Jet_N\n",
      "Jet_index\n",
      "Jet_pt\n",
      "Jet_btagPNetQvG\n",
      "Jet_eta\n",
      "Jet_btagPNetB\n",
      "Jet_phi\n",
      "Jet_mass\n",
      "JetVBFNotFromHiggs_N\n",
      "JetVBFNotFromHiggs_index\n",
      "JetVBFNotFromHiggs_pt\n",
      "JetVBFNotFromHiggs_btagPNetQvG\n",
      "JetVBFNotFromHiggs_eta\n",
      "JetVBFNotFromHiggs_btagPNetB\n",
      "JetVBFNotFromHiggs_phi\n",
      "JetVBFNotFromHiggs_mass\n",
      "JetGoodFromHiggsOrdered_N\n",
      "JetGoodFromHiggsOrdered_index\n",
      "JetGoodFromHiggsOrdered_pt\n",
      "JetGoodFromHiggsOrdered_btagPNetQvG\n",
      "JetGoodFromHiggsOrdered_eta\n",
      "JetGoodFromHiggsOrdered_btagPNetB\n",
      "JetGoodFromHiggsOrdered_phi\n",
      "JetGoodFromHiggsOrdered_mass\n",
      "JetVBF_matching_N\n",
      "JetVBF_matching_index\n",
      "JetVBF_matching_pt\n",
      "JetVBF_matching_btagPNetQvG\n",
      "JetVBF_matching_eta\n",
      "JetVBF_matching_btagPNetB\n",
      "JetVBF_matching_phi\n",
      "JetVBF_matching_mass\n",
      "JetVBFLeadingPtNotFromHiggs_N\n",
      "JetVBFLeadingPtNotFromHiggs_index\n",
      "JetVBFLeadingPtNotFromHiggs_pt\n",
      "JetVBFLeadingPtNotFromHiggs_btagPNetQvG\n",
      "JetVBFLeadingPtNotFromHiggs_eta\n",
      "JetVBFLeadingPtNotFromHiggs_btagPNetB\n",
      "JetVBFLeadingPtNotFromHiggs_phi\n",
      "JetVBFLeadingPtNotFromHiggs_mass\n",
      "JetVBFLeadingMjjNotFromHiggs_N\n",
      "JetVBFLeadingMjjNotFromHiggs_index\n",
      "JetVBFLeadingMjjNotFromHiggs_pt\n",
      "JetVBFLeadingMjjNotFromHiggs_btagPNetQvG\n",
      "JetVBFLeadingMjjNotFromHiggs_eta\n",
      "JetVBFLeadingMjjNotFromHiggs_btagPNetB\n",
      "JetVBFLeadingMjjNotFromHiggs_phi\n",
      "JetVBFLeadingMjjNotFromHiggs_mass\n",
      "HH_pt\n",
      "HH_eta\n",
      "HH_phi\n",
      "HH_mass\n",
      "quarkVBF_matched_N\n",
      "quarkVBF_matched_index\n",
      "quarkVBF_matched_pt\n",
      "quarkVBF_matched_eta\n",
      "quarkVBF_matched_phi\n",
      "quarkVBF_N\n",
      "quarkVBF_index\n",
      "quarkVBF_pt\n",
      "quarkVBF_eta\n",
      "quarkVBF_phi\n",
      "quarkVBF_generalSelection_matched_N\n",
      "quarkVBF_generalSelection_matched_index\n",
      "quarkVBF_generalSelection_matched_pt\n",
      "quarkVBF_generalSelection_matched_eta\n",
      "quarkVBF_generalSelection_matched_phi\n",
      "JetVBF_matched_N\n",
      "JetVBF_matched_index\n",
      "JetVBF_matched_pt\n",
      "JetVBF_matched_btagPNetQvG\n",
      "JetVBF_matched_eta\n",
      "JetVBF_matched_btagPNetB\n",
      "JetVBF_matched_phi\n",
      "JetVBF_matched_mass\n",
      "JetVBF_generalSelection_matched_N\n",
      "JetVBF_generalSelection_matched_index\n",
      "JetVBF_generalSelection_matched_pt\n",
      "JetVBF_generalSelection_matched_btagPNetQvG\n",
      "JetVBF_generalSelection_matched_eta\n",
      "JetVBF_generalSelection_matched_btagPNetB\n",
      "JetVBF_generalSelection_matched_phi\n",
      "JetVBF_generalSelection_matched_mass\n",
      "events_deltaEta_matched\n",
      "events_jj_mass_matched\n",
      "events_nJetVBF_matched\n"
     ]
    }
   ],
   "source": [
    "sample=list(o[\"columns\"].keys())[0]\n",
    "dataset=list(o[\"columns\"][sample].keys())[0]\n",
    "category=list(o[\"columns\"][sample][dataset].keys())[0]\n",
    "print(o[\"columns\"][sample][dataset].keys())\n",
    "col=o[\"columns\"][sample][dataset][category]\n",
    "for k in col.keys():\n",
    "    print(k)\n",
    "    col[k]=col[k].value#[col[k].value!=-999]\n"
   ]
  },
  {
   "cell_type": "code",
   "execution_count": 111,
   "metadata": {},
   "outputs": [
    {
     "name": "stdout",
     "output_type": "stream",
     "text": [
      "506532\n",
      "126633\n",
      "126633\n",
      "215683\n",
      "253266\n",
      "253266\n"
     ]
    }
   ],
   "source": [
    "print(len(col[\"JetGoodFromHiggsOrdered_pt\"]))\n",
    "print(len(col[\"weight\"]))\n",
    "print(len(col[\"HH_pt\"]))\n",
    "print(len(col[\"quarkVBF_generalSelection_matched_pt\"]))\n",
    "print(len(col[\"quarkVBF_pt\"]))\n",
    "print(len(col[\"JetVBFLeadingMjjNotFromHiggs_pt\"]))"
   ]
  },
  {
   "cell_type": "code",
   "execution_count": 112,
   "metadata": {},
   "outputs": [
    {
     "name": "stdout",
     "output_type": "stream",
     "text": [
      "[165.77818298  92.30207062 135.76829529 ...  61.99485016 145.74041748\n",
      "  56.84095001]\n",
      "[0.3984375  0.93701172 0.98925781 ... 0.99169922 0.99951172 0.93408203]\n",
      "[11.737123  11.826293  11.565462  11.300092  11.429815  10.910296\n",
      " 11.9671545 11.712889  11.873603  11.759012  11.670672  10.578894\n",
      " 11.889448  10.695646  10.974298  11.776171  11.976385  11.219344\n",
      " 11.819262  11.940555  11.410787  10.7810545 11.258519  11.961823\n",
      " 10.900977  10.629938  10.307658  11.754808  11.500215  11.8968315\n",
      " 10.82496   11.986144  11.5845995 11.949119  10.747278  11.948731\n",
      " 11.940731  11.596834  10.502538  11.82421   11.780614  10.81139\n",
      " 11.670484  11.839262  11.075723  11.955151  11.31952   10.006118\n",
      " 11.931752  10.9591    10.333414  11.614139  11.807064  11.483182\n",
      " 10.2302065 11.276348  11.259983  10.40663   11.597872  11.032271\n",
      " 11.838162  11.739218  11.405398  11.51838   11.938477  11.866393\n",
      " 11.174409  11.031673  11.875772  11.825726  10.544704  11.682138\n",
      " 11.578254  11.545924  11.639648  10.991778  11.804392  11.673977\n",
      " 11.021116  10.947607  11.285797  11.801466  11.799744  11.981802\n",
      " 11.229572  10.24592   11.387056  11.826862  11.960532  11.795732\n",
      " 10.83085   11.513432  11.97625   11.732599  11.465689  10.982968\n",
      " 11.397031  11.397232  11.095409  11.914065  11.528903  10.918976\n",
      " 11.762006  11.985387  11.61288   10.413445  10.623187  11.994492\n",
      " 11.902274  10.984025  11.628994  11.811763  11.993306  11.832806\n",
      " 11.641795  11.836604  11.235186  11.053296  11.939699  10.6531315\n",
      " 10.181292  10.3308115 11.203308  11.009416  11.203362 ]\n",
      "[-4.682617  -4.6152344  4.600586  ... -4.629883  -4.625      4.6884766]\n"
     ]
    }
   ],
   "source": [
    "print((col[\"JetGoodFromHiggsOrdered_pt\"]))\n",
    "print((col[\"JetGoodFromHiggsOrdered_btagPNetB\"]))\n",
    "print(col[\"JetVBFLeadingMjjNotFromHiggs_pt\"][col[\"JetVBFLeadingMjjNotFromHiggs_pt\"]<12])\n",
    "print(col[\"JetVBFLeadingMjjNotFromHiggs_eta\"][abs(col[\"JetVBFLeadingMjjNotFromHiggs_eta\"])>4.6])\n"
   ]
  },
  {
   "cell_type": "code",
   "execution_count": 113,
   "metadata": {},
   "outputs": [
    {
     "name": "stdout",
     "output_type": "stream",
     "text": [
      "[]\n",
      "[9.495975  9.287603  9.468472  9.251244  9.816298  9.617882  9.162336\n",
      " 9.5407505 9.815741  9.633562  9.100815  9.6307535 9.544858  9.621708\n",
      " 8.763456  9.717641  9.623498  9.812996  9.648908  9.206483  9.876218\n",
      " 9.310089  9.307728  9.984811  9.32144   9.850776  9.306069  8.89011\n",
      " 9.820849  9.71618   9.647824 ]\n",
      "[]\n",
      "[5.080078  4.833008  5.071289  ... 4.7851562 4.7470703 4.944336 ]\n"
     ]
    }
   ],
   "source": [
    "idx_vbf_mjj_unflatten=ak.unflatten(col[\"JetVBFLeadingMjjNotFromHiggs_index\"], col[\"JetVBFLeadingMjjNotFromHiggs_N\"])\n",
    "idx_vbf_pt_unflatten=ak.unflatten(col[\"JetVBFLeadingPtNotFromHiggs_index\"], col[\"JetVBFLeadingPtNotFromHiggs_N\"])\n",
    "idx_vbf_matched_unflatten=ak.unflatten(col[\"JetVBF_generalSelection_matched_index\"], col[\"JetVBF_generalSelection_matched_N\"])\n",
    "idx_vbf_matched_unflatten_fullyMatched=idx_vbf_matched_unflatten[col[\"JetVBF_generalSelection_matched_N\"]==2]\n",
    "idx_vbf_mjj_unflatten_fullyMatched=idx_vbf_mjj_unflatten[col[\"JetVBF_generalSelection_matched_N\"]==2]\n",
    "idx_vbf_pt_unflatten_fullyMatched=idx_vbf_pt_unflatten[col[\"JetVBF_generalSelection_matched_N\"]==2]\n",
    "\n",
    "\n",
    "\n",
    "\n",
    "print(col[\"JetVBFNotFromHiggs_pt\"][col[\"JetVBFNotFromHiggs_pt\"]<10])\n",
    "print(col[\"Jet_pt\"][col[\"Jet_pt\"]<10])\n",
    "print(col[\"JetVBFNotFromHiggs_eta\"][col[\"JetVBFNotFromHiggs_eta\"]>4.7])\n",
    "print(col[\"Jet_eta\"][col[\"Jet_eta\"]>4.7])"
   ]
  },
  {
   "cell_type": "code",
   "execution_count": 114,
   "metadata": {},
   "outputs": [
    {
     "name": "stdout",
     "output_type": "stream",
     "text": [
      "higgs [1. 3. 2. ... 3. 1. 2.]\n",
      "mjj [[0, 4], [1, 5], [0, 3], [0, 5], [1, 5], ... [0, 5], [6, 9], [3, 6], [4, 7], [4, 5]]\n",
      "pt [[0, 4], [1, 3], [0, 3], [0, 5], [1, 5], ... [0, 2], [4, 7], [0, 3], [2, 4], [4, 5]]\n",
      "matched [[0, 4], [1, 5], [0, 3], [0, 5], [1, 5], ... 1], [2], [4], [0, 6], [2, 4], [4, 5]]\n"
     ]
    }
   ],
   "source": [
    "print(\"higgs\", (col[\"JetGoodFromHiggsOrdered_index\"]))\n",
    "print(\"mjj\", idx_vbf_mjj_unflatten)\n",
    "print(\"pt\", idx_vbf_pt_unflatten)\n",
    "print(\"matched\", idx_vbf_matched_unflatten)\n"
   ]
  },
  {
   "cell_type": "code",
   "execution_count": 115,
   "metadata": {},
   "outputs": [
    {
     "name": "stdout",
     "output_type": "stream",
     "text": [
      "mjj fully matched [[0, 4], [1, 5], [0, 3], [0, 5], [1, 5], ... [0, 6], [0, 1], [3, 6], [4, 7], [4, 5]]\n",
      "pt fully matched [[0, 4], [1, 3], [0, 3], [0, 5], [1, 5], ... [0, 2], [0, 1], [0, 3], [2, 4], [4, 5]]\n",
      "fully matched [[0, 4], [1, 5], [0, 3], [0, 5], [1, 5], ... [0, 2], [0, 1], [0, 6], [2, 4], [4, 5]]\n"
     ]
    }
   ],
   "source": [
    "print(\"mjj fully matched\", idx_vbf_mjj_unflatten_fullyMatched)\n",
    "print(\"pt fully matched\", idx_vbf_pt_unflatten_fullyMatched)\n",
    "print(\"fully matched\", idx_vbf_matched_unflatten_fullyMatched)"
   ]
  },
  {
   "cell_type": "code",
   "execution_count": 116,
   "metadata": {},
   "outputs": [
    {
     "name": "stdout",
     "output_type": "stream",
     "text": [
      "[True, True, True, True, True, False, ... False, False, True, False, False, True]\n",
      "frac fully macthed 0.720017688912053\n",
      "eff mjj 0.7359560420276822\n"
     ]
    }
   ],
   "source": [
    "# correct_mjj=ak.where(idx_vbf_mjj_unflatten_fullyMatched==idx_vbf_matched_unflatten_fullyMatched or idx_vbf_mjj_unflatten_fullyMatched==idx_vbf_matched_unflatten_fullyMatched[:,::-1], True, False)\n",
    "correct_mjj = ak.all(\n",
    "        idx_vbf_mjj_unflatten_fullyMatched == idx_vbf_matched_unflatten_fullyMatched,\n",
    "        axis=-1,\n",
    "    )    + ak.all(\n",
    "        idx_vbf_mjj_unflatten_fullyMatched\n",
    "        == idx_vbf_matched_unflatten_fullyMatched[:, ::-1],\n",
    "        axis=-1,\n",
    "    )\n",
    "\n",
    "print(correct_mjj)\n",
    "num_correct_mjj = ak.sum(correct_mjj)\n",
    "\n",
    "print(\"frac fully macthed\", len(idx_vbf_matched_unflatten_fullyMatched)/len(idx_vbf_matched_unflatten))\n",
    "print(\"eff mjj\", num_correct_mjj/len(idx_vbf_matched_unflatten_fullyMatched))"
   ]
  },
  {
   "cell_type": "code",
   "execution_count": 117,
   "metadata": {},
   "outputs": [
    {
     "name": "stdout",
     "output_type": "stream",
     "text": [
      "[True, False, True, True, True, False, True, ... True, True, True, False, True, True]\n",
      "frac fully macthed 0.720017688912053\n",
      "eff pt 0.7711180328588036\n"
     ]
    }
   ],
   "source": [
    "correct_pt=ak.all(\n",
    "        idx_vbf_pt_unflatten_fullyMatched == idx_vbf_matched_unflatten_fullyMatched,\n",
    "        axis=-1,\n",
    "    )    + ak.all(\n",
    "        idx_vbf_pt_unflatten_fullyMatched\n",
    "        == idx_vbf_matched_unflatten_fullyMatched[:, ::-1],\n",
    "        axis=-1,\n",
    "    )\n",
    "\n",
    "print(correct_pt)\n",
    "num_correct_pt = ak.sum(correct_pt)\n",
    "\n",
    "print(\"frac fully macthed\", len(idx_vbf_matched_unflatten_fullyMatched)/len(idx_vbf_matched_unflatten))\n",
    "print(\"eff pt\", num_correct_pt/len(idx_vbf_matched_unflatten_fullyMatched))"
   ]
  },
  {
   "cell_type": "code",
   "execution_count": 118,
   "metadata": {},
   "outputs": [],
   "source": [
    "correct_mjj_all_jets=0\n",
    "correct_pt_all_jets=0\n",
    "for iev in range(len(idx_vbf_matched_unflatten)):\n",
    "    for i in range(len(idx_vbf_matched_unflatten[iev])):\n",
    "        if idx_vbf_matched_unflatten[iev][i] in idx_vbf_mjj_unflatten[iev]:\n",
    "            correct_mjj_all_jets+=1\n",
    "        if idx_vbf_matched_unflatten[iev][i] in idx_vbf_pt_unflatten[iev]:\n",
    "            correct_pt_all_jets+=1\n",
    "        # print(iev, idx_vbf_matched_unflatten[iev][i], idx_vbf_mjj_unflatten[iev], idx_vbf_pt_unflatten[iev], correct_mjj_all_jets, correct_pt_all_jets)\n",
    "    # if iev>10:\n",
    "    #     break"
   ]
  },
  {
   "cell_type": "code",
   "execution_count": 119,
   "metadata": {},
   "outputs": [
    {
     "name": "stdout",
     "output_type": "stream",
     "text": [
      "eff mjj all jets 0.8618759939355443\n",
      "eff pt all jets 0.8921426352563716\n"
     ]
    }
   ],
   "source": [
    "\n",
    "print(\"eff mjj all jets\", correct_mjj_all_jets/len(col[\"JetVBF_generalSelection_matched_index\"]))\n",
    "print(\"eff pt all jets\", correct_pt_all_jets/len(col[\"JetVBF_generalSelection_matched_index\"]))\n"
   ]
  },
  {
   "cell_type": "code",
   "execution_count": null,
   "metadata": {},
   "outputs": [],
   "source": []
  }
 ],
 "metadata": {
  "kernelspec": {
   "display_name": "Python 3",
   "language": "python",
   "name": "python3"
  },
  "language_info": {
   "codemirror_mode": {
    "name": "ipython",
    "version": 3
   },
   "file_extension": ".py",
   "mimetype": "text/x-python",
   "name": "python",
   "nbconvert_exporter": "python",
   "pygments_lexer": "ipython3",
   "version": "3.9.18"
  }
 },
 "nbformat": 4,
 "nbformat_minor": 2
}
