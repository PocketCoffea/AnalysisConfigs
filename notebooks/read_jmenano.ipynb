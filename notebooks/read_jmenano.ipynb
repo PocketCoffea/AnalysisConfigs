{
 "cells": [
  {
   "cell_type": "code",
   "execution_count": 1,
   "metadata": {},
   "outputs": [
    {
     "name": "stdout",
     "output_type": "stream",
     "text": [
      "0.7.22\n",
      "1.10.3\n"
     ]
    }
   ],
   "source": [
    "from coffea.nanoevents import NanoEventsFactory, NanoAODSchema, BaseSchema,PFNanoAODSchema\n",
    "import awkward as ak\n",
    "import uproot\n",
    "from matplotlib import pyplot as plt\n",
    "\n",
    "# print coffea version\n",
    "import coffea\n",
    "print(coffea.__version__)\n",
    "\n",
    "print(ak.__version__)\n"
   ]
  },
  {
   "cell_type": "code",
   "execution_count": 10,
   "metadata": {},
   "outputs": [
    {
     "name": "stdout",
     "output_type": "stream",
     "text": [
      "Opening file: root://xrootd-cms.infn.it//store/mc/Run3Summer22NanoAODv12/QCD_PT-15_TuneCP5_Flat2018_13p6TeV_pythia8/NANOAODSIM/JMENano12p5_132X_mcRun3_2022_realistic_v3-v2/70000/1a3d12b4-15b7-415c-a25a-df0e81f71648.root\n",
      "100\n"
     ]
    }
   ],
   "source": [
    "filename = \"root://xrootd-cms.infn.it//store/mc/Run3Summer22NanoAODv12/QCD_PT-15_TuneCP5_Flat2018_13p6TeV_pythia8/NANOAODSIM/JMENano12p5_132X_mcRun3_2022_realistic_v3-v2/70000/1a3d12b4-15b7-415c-a25a-df0e81f71648.root\"\n",
    "# filename = \"root://storage01.lcg.cscs.ch:1096//pnfs/lcg.cscs.ch/cms/trivcat//store/mc/Run3Summer22EENanoAODv12/GluGlutoHHto4B_kl-1p00_kt-1p00_c2-0p00_TuneCP5_13p6TeV_powheg-pythia8/NANOAODSIM/Poisson60KeepRAW_130X_mcRun3_2022_realistic_postEE_v6-v2/50000/fc603037-ef65-4bbf-9cef-934ecec40bbe.root\"\n",
    "# filename = \"/pnfs/psi.ch/cms/trivcat/store/user/mmalucch/hh4b_12.root\"\n",
    "print(\"Opening file:\", filename)\n",
    "# load 100 events\n",
    "events = NanoEventsFactory.from_root(\n",
    "    filename, schemaclass=NanoAODSchema, entry_stop=100\n",
    ").events()\n",
    "print(len(events))\n",
    "# open file with uproot\n",
    "# file = uproot.open(filename)\n",
    "# # get the tree\n",
    "# events = file['Events']\n",
    "# print(\"Events read:\", len(events))\n",
    "# print(events.keys())\n",
    "# print(events, type(events))\n",
    "\n",
    "# convert the tree to a awkward array\n",
    "# events = events.arrays(library=\"ak\", how=\"zip\")\n",
    "# print(events, type(events))"
   ]
  },
  {
   "cell_type": "code",
   "execution_count": 11,
   "metadata": {},
   "outputs": [
    {
     "name": "stdout",
     "output_type": "stream",
     "text": [
      "[[], [], [], [], [], [], [], ... [], [], [], [GenParticle], [GenParticle], []]\n",
      "[[], [], [], [], [], [], [], [30], [], ... [], [9], [], [], [], [58], [30], []]\n",
      "[[], [], [], [], [], [], [], [411], [], ... [511], [], [], [], [-511], [-411], []]\n"
     ]
    }
   ],
   "source": [
    "neutrinos=events.GenPart[(abs(events.GenPart.pdgId)==12) | (abs(events.GenPart.pdgId)==14) |(abs(events.GenPart.pdgId)==16)]\n",
    "print(neutrinos)\n",
    "print(neutrinos.genPartIdxMother)\n",
    "# print the neutrinos mother\n",
    "neutrino_mother=events.GenPart[neutrinos.genPartIdxMother].pdgId\n",
    "print(neutrino_mother)\n"
   ]
  },
  {
   "cell_type": "code",
   "execution_count": 12,
   "metadata": {},
   "outputs": [
    {
     "name": "stdout",
     "output_type": "stream",
     "text": [
      "0\n",
      "0\n",
      "[[], [], [], [], [], [], [], [], [], [], ... [], [], [], [], [], [], [], [], [], []] 100\n",
      "[[], [], [], [], [], [], [], [], [], [], ... [], [], [], [], [], [], [], [], [], []] 100\n"
     ]
    }
   ],
   "source": [
    "# remove empty arrays\n",
    "pi_neutrino=(neutrinos[(abs(neutrino_mother)>=100) & (abs(neutrino_mother)<=400)])\n",
    "pi_neutrino_mother=(neutrino_mother[(abs(neutrino_mother)>=100) & (abs(neutrino_mother)<=400)])\n",
    "print(ak.sum(ak.num(pi_neutrino)))\n",
    "print(ak.sum(ak.num(pi_neutrino_mother)))\n",
    "print(pi_neutrino, len(pi_neutrino))\n",
    "print(pi_neutrino_mother, len(pi_neutrino_mother))"
   ]
  },
  {
   "cell_type": "code",
   "execution_count": 13,
   "metadata": {},
   "outputs": [
    {
     "name": "stdout",
     "output_type": "stream",
     "text": [
      "child [[12], [-16, 16, -14], [-12], [12], [-12], ... [16, -16], [-12], [14], [-14], [-14]]\n",
      "mother [[411], [-511, 15, -411], [-411], [411], ... -15], [-421], [511], [-511], [-411]]\n",
      "granma [-11]\n",
      "child of granma [[]]\n",
      "great granma [2]\n",
      "child of great granma [[2, 21, 21, 11, -11]]\n",
      "great great granma [2]\n",
      "child of great great granma [[2]]\n"
     ]
    }
   ],
   "source": [
    "# print only the arrays with at least one element\n",
    "idx=2\n",
    "# print(pi_neutrino[ak.num(pi_neutrino)>0])\n",
    "print(\"child\",neutrinos[ak.num(neutrinos)>0].pdgId)\n",
    "# print(neutrinos[ak.num(neutrinos)>0].status)\n",
    "print(\"mother\",neutrino_mother[ak.num(neutrino_mother)>0])\n",
    "neutrino_mother_mother=events.GenPart[events.GenPart[neutrinos.genPartIdxMother].genPartIdxMother]\n",
    "print(\"granma\", neutrino_mother_mother[ak.num(neutrino_mother_mother)>0].pdgId[idx])\n",
    "print(\"child of granma\", neutrino_mother_mother[ak.num(neutrino_mother_mother)>0].children.pdgId[idx])\n",
    "neutrinomother_mother_mother=events.GenPart[events.GenPart[events.GenPart[neutrinos.genPartIdxMother].genPartIdxMother].genPartIdxMother]\n",
    "print(\"great granma\", neutrinomother_mother_mother[ak.num(neutrinomother_mother_mother)>0].pdgId[idx])\n",
    "print(\"child of great granma\", neutrinomother_mother_mother[ak.num(neutrinomother_mother_mother)>0].children.pdgId[idx])\n",
    "neutrinomother_mother_mother_mother=events.GenPart[events.GenPart[events.GenPart[events.GenPart[neutrinos.genPartIdxMother].genPartIdxMother].genPartIdxMother].genPartIdxMother]\n",
    "print(\"great great granma\", neutrinomother_mother_mother_mother[ak.num(neutrinomother_mother_mother_mother)>0].pdgId[idx])\n",
    "print(\"child of great great granma\", neutrinomother_mother_mother_mother[ak.num(neutrinomother_mother_mother_mother)>0].children.pdgId[idx])\n"
   ]
  },
  {
   "cell_type": "code",
   "execution_count": 14,
   "metadata": {},
   "outputs": [
    {
     "name": "stdout",
     "output_type": "stream",
     "text": [
      "[[11, -11, 11, -11, 11, -11], [11, -11], ... -11, 13, 11, -11, 11, -11], [11, -11]]\n",
      "[[2, 2, 1, 1, 1, 1], [111, 111], [2, 2, ... [4, 4, -411, 4, 4, 4, 4], [111, 111]]\n",
      "23\n",
      "23\n",
      "7\n",
      "brion [[-4122]]\n",
      "0\n",
      "[]\n"
     ]
    }
   ],
   "source": [
    "\n",
    "leptons=events.GenPart[(abs(events.GenPart.pdgId)==11) | (abs(events.GenPart.pdgId)==13) |(abs(events.GenPart.pdgId)==15)]\n",
    "print(leptons.pdgId)\n",
    "lepton_mother=events.GenPart[leptons.genPartIdxMother].pdgId\n",
    "print(lepton_mother)\n",
    "\n",
    "non_meson_neutrinos=neutrino_mother\n",
    "print(len(non_meson_neutrinos[ak.num(non_meson_neutrinos)>0]))\n",
    "non_meson_neutrinos=neutrino_mother[(abs(neutrino_mother)>400)]\n",
    "print(len(non_meson_neutrinos[ak.num(non_meson_neutrinos)>0]))\n",
    "non_meson_neutrinos=neutrino_mother[(abs(neutrino_mother)>500)]\n",
    "print(len(non_meson_neutrinos[ak.num(non_meson_neutrinos)>0]))\n",
    "non_meson_neutrinos=neutrino_mother[(abs(neutrino_mother)>1000)]\n",
    "print(\"brion\",(non_meson_neutrinos[ak.num(non_meson_neutrinos)>0]))\n",
    "\n",
    "non_meson_neutrinos=neutrinos[(abs(neutrino_mother)<100) & (abs(neutrino_mother)>20)]\n",
    "print(len(non_meson_neutrinos[ak.num(non_meson_neutrinos)>0].pdgId))\n",
    "print((neutrino_mother[ak.num(non_meson_neutrinos)>0]))"
   ]
  },
  {
   "cell_type": "code",
   "execution_count": 15,
   "metadata": {},
   "outputs": [
    {
     "name": "stdout",
     "output_type": "stream",
     "text": [
      "[411, -511, 15, -411, -411, 411, -421, 421, ... 421, 511, -15, -421, 511, -511, -411]\n"
     ]
    }
   ],
   "source": [
    "n_mother_flatten=ak.flatten(neutrino_mother)\n",
    "print(n_mother_flatten)\n",
    "# plt.hist(n_mother_flatten, bins=12000, range=(-6000,6000))"
   ]
  },
  {
   "cell_type": "code",
   "execution_count": 31,
   "metadata": {},
   "outputs": [
    {
     "name": "stdout",
     "output_type": "stream",
     "text": [
      "[[[], [], [], [], [], []], [[], [], ... [3.04], [8.03], [5.27]], [[], [], [], []]]\n",
      "[[], [], [], ... 0.136, 0.508, 2.75, 2.99, 0.427, 3.76, 3.02, 2.1, 2.86], [], []]\n",
      "[[], [], [], [], [0.136], [], []]\n",
      "[0, 0, 0, 0, 0, 0, 0, 1, 0, 0, 0, 0, 0, 0, ... 0, 0, 0, 0, 0, 0, 0, 0, 0, 0, 0, 0, 0]\n",
      "[1, 3, 2, 1, 1, 1, 1, 1, 1, 3, 1, 2, 3]\n",
      "[[0.136], [0.221, 0.246, 0.281], [0.399, ... [0.0949, 0.38], [0.343, 0.339, 0.352]]\n",
      "[0, 0, 0, 0, 0, 0, 0, 1, 0, 0, 0, 0, 0, 0, ... 0, 0, 0, 0, 0, 0, 0, 0, 0, 0, 0, 0, 0]\n",
      "[]\n"
     ]
    }
   ],
   "source": [
    "gen_jet=events.GenJet\n",
    "\n",
    "deltaR_unflatten=gen_jet.metric_table(neutrinos)\n",
    "print(deltaR_unflatten)\n",
    "deltaR=ak.flatten(deltaR_unflatten, axis=2)\n",
    "print(deltaR[3:10])\n",
    "mask_04=deltaR<0.4\n",
    "print(deltaR[mask_04][3:10])\n",
    "num_04=ak.num(deltaR[mask_04])\n",
    "print(num_04)\n",
    "print(num_04[num_04>0])\n",
    "deltaR_04=deltaR[mask_04][num_04>0]\n",
    "print(deltaR_04)\n",
    "\n",
    "print(ak.count(deltaR[mask_04], axis=1))\n",
    "\n",
    "print(deltaR[-2][mask_04[-2]])"
   ]
  },
  {
   "cell_type": "code",
   "execution_count": null,
   "metadata": {},
   "outputs": [],
   "source": []
  }
 ],
 "metadata": {
  "kernelspec": {
   "display_name": "Python 3",
   "language": "python",
   "name": "python3"
  },
  "language_info": {
   "codemirror_mode": {
    "name": "ipython",
    "version": 3
   },
   "file_extension": ".py",
   "mimetype": "text/x-python",
   "name": "python",
   "nbconvert_exporter": "python",
   "pygments_lexer": "ipython3",
   "version": "3.9.18"
  }
 },
 "nbformat": 4,
 "nbformat_minor": 2
}
