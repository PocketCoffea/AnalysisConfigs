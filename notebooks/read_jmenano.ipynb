{
 "cells": [
  {
   "cell_type": "code",
   "execution_count": 1,
   "metadata": {},
   "outputs": [
    {
     "name": "stdout",
     "output_type": "stream",
     "text": [
      "0.7.22\n",
      "1.10.3\n"
     ]
    }
   ],
   "source": [
    "from coffea.nanoevents import NanoEventsFactory, NanoAODSchema, BaseSchema,PFNanoAODSchema\n",
    "import awkward as ak\n",
    "import uproot\n",
    "from matplotlib import pyplot as plt\n",
    "\n",
    "# print coffea version\n",
    "import coffea\n",
    "print(coffea.__version__)\n",
    "\n",
    "print(ak.__version__)\n"
   ]
  },
  {
   "cell_type": "code",
   "execution_count": 2,
   "metadata": {},
   "outputs": [
    {
     "name": "stdout",
     "output_type": "stream",
     "text": [
      "Opening file: root://xrootd-cms.infn.it//store/mc/Run3Summer22NanoAODv12/QCD_PT-15_TuneCP5_Flat2018_13p6TeV_pythia8/NANOAODSIM/JMENano12p5_132X_mcRun3_2022_realistic_v3-v2/70000/1a3d12b4-15b7-415c-a25a-df0e81f71648.root\n",
      "84101\n"
     ]
    }
   ],
   "source": [
    "filename = \"root://xrootd-cms.infn.it//store/mc/Run3Summer22NanoAODv12/QCD_PT-15_TuneCP5_Flat2018_13p6TeV_pythia8/NANOAODSIM/JMENano12p5_132X_mcRun3_2022_realistic_v3-v2/70000/1a3d12b4-15b7-415c-a25a-df0e81f71648.root\"\n",
    "# filename = \"root://storage01.lcg.cscs.ch:1096//pnfs/lcg.cscs.ch/cms/trivcat//store/mc/Run3Summer22EENanoAODv12/GluGlutoHHto4B_kl-1p00_kt-1p00_c2-0p00_TuneCP5_13p6TeV_powheg-pythia8/NANOAODSIM/Poisson60KeepRAW_130X_mcRun3_2022_realistic_postEE_v6-v2/50000/fc603037-ef65-4bbf-9cef-934ecec40bbe.root\"\n",
    "# filename = \"/pnfs/psi.ch/cms/trivcat/store/user/mmalucch/hh4b_12.root\"\n",
    "print(\"Opening file:\", filename)\n",
    "events = NanoEventsFactory.from_root(\n",
    "    filename, schemaclass=NanoAODSchema,\n",
    ").events()\n",
    "print(len(events))\n",
    "# open file with uproot\n",
    "# file = uproot.open(filename)\n",
    "# # get the tree\n",
    "# events = file['Events']\n",
    "# print(\"Events read:\", len(events))\n",
    "# print(events.keys())\n",
    "# print(events, type(events))\n",
    "\n",
    "# convert the tree to a awkward array\n",
    "# events = events.arrays(library=\"ak\", how=\"zip\")\n",
    "# print(events, type(events))"
   ]
  },
  {
   "cell_type": "code",
   "execution_count": 3,
   "metadata": {},
   "outputs": [
    {
     "name": "stdout",
     "output_type": "stream",
     "text": [
      "[[], [], [], [], [], [], [], ... [GenParticle], [], [], [], [], [GenParticle]]\n",
      "[[], [], [], [], [], [], [], [30], [], ... [47, 49], [38], [], [], [], [], [76]]\n",
      "[[], [], [], [], [], [], [], [411], ... [411, 421], [-421], [], [], [], [], [411]]\n"
     ]
    }
   ],
   "source": [
    "neutrinos=events.GenPart[(abs(events.GenPart.pdgId)==12) | (abs(events.GenPart.pdgId)==14) |(abs(events.GenPart.pdgId)==16)]\n",
    "print(neutrinos)\n",
    "print(neutrinos.genPartIdxMother)\n",
    "# print the neutrinos mother\n",
    "neutrino_mother=events.GenPart[neutrinos.genPartIdxMother].pdgId\n",
    "print(neutrino_mother)\n"
   ]
  },
  {
   "cell_type": "code",
   "execution_count": 4,
   "metadata": {},
   "outputs": [],
   "source": [
    "# remove empty arrays\n",
    "pi_neutrino=(neutrinos[neutrino_mother==411])"
   ]
  },
  {
   "cell_type": "code",
   "execution_count": 5,
   "metadata": {},
   "outputs": [
    {
     "name": "stdout",
     "output_type": "stream",
     "text": [
      "[[GenParticle], [GenParticle], [GenParticle, ... [GenParticle], [GenParticle]]\n",
      "[[GenParticle], [GenParticle, GenParticle, ... [GenParticle], [GenParticle]]\n",
      "[[411], [-511, 15, -411], [-411], [411], ... [-411], [411, 421], [-421], [411]]\n",
      "21346\n",
      "21341\n",
      "4912\n",
      "1579\n",
      "1579\n"
     ]
    }
   ],
   "source": [
    "# print only the arrays with at least one element\n",
    "print(pi_neutrino[ak.num(pi_neutrino)>0])\n",
    "print(neutrinos[ak.num(neutrinos)>0])\n",
    "print(neutrino_mother[ak.num(neutrino_mother)>0])\n",
    "\n",
    "non_meson_neutrinos=neutrino_mother\n",
    "print(len(non_meson_neutrinos[ak.num(non_meson_neutrinos)>0]))\n",
    "non_meson_neutrinos=neutrino_mother[(abs(neutrino_mother)>400)]\n",
    "print(len(non_meson_neutrinos[ak.num(non_meson_neutrinos)>0]))\n",
    "non_meson_neutrinos=neutrino_mother[(abs(neutrino_mother)>500)]\n",
    "print(len(non_meson_neutrinos[ak.num(non_meson_neutrinos)>0]))\n",
    "non_meson_neutrinos=neutrino_mother[(abs(neutrino_mother)<100)]\n",
    "print(len(non_meson_neutrinos[ak.num(non_meson_neutrinos)>0]))\n",
    "\n",
    "non_meson_neutrinos=neutrinos[(abs(neutrino_mother)<100) & (abs(neutrino_mother)>0)]\n",
    "print(len(non_meson_neutrinos[ak.num(non_meson_neutrinos)>0].pdgId))"
   ]
  },
  {
   "cell_type": "code",
   "execution_count": 6,
   "metadata": {},
   "outputs": [
    {
     "data": {
      "text/plain": [
       "(array([0., 0., 0., ..., 0., 0., 0.]),\n",
       " array([-6000., -5999., -5998., ...,  5998.,  5999.,  6000.]),\n",
       " <BarContainer object of 12000 artists>)"
      ]
     },
     "execution_count": 6,
     "metadata": {},
     "output_type": "execute_result"
    },
    {
     "data": {
      "image/png": "[encoded data removed]",
      "text/plain": [
       "<Figure size 640x480 with 1 Axes>"
      ]
     },
     "metadata": {},
     "output_type": "display_data"
    }
   ],
   "source": [
    "n_mother_flatten=ak.flatten(neutrino_mother)\n",
    "plt.hist(n_mother_flatten, bins=12000, range=(-6000,6000))"
   ]
  },
  {
   "cell_type": "code",
   "execution_count": null,
   "metadata": {},
   "outputs": [],
   "source": []
  }
 ],
 "metadata": {
  "kernelspec": {
   "display_name": "Python 3",
   "language": "python",
   "name": "python3"
  },
  "language_info": {
   "codemirror_mode": {
    "name": "ipython",
    "version": 3
   },
   "file_extension": ".py",
   "mimetype": "text/x-python",
   "name": "python",
   "nbconvert_exporter": "python",
   "pygments_lexer": "ipython3",
   "version": "3.9.18"
  }
 },
 "nbformat": 4,
 "nbformat_minor": 2
}
