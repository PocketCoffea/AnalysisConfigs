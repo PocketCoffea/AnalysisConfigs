{
 "cells": [
  {
   "cell_type": "code",
   "execution_count": 11,
   "metadata": {},
   "outputs": [],
   "source": [
    "from coffea.nanoevents import NanoEventsFactory, NanoAODSchema\n",
    "import awkward as ak\n",
    "import matplotlib.pyplot as plt\n"
   ]
  },
  {
   "cell_type": "code",
   "execution_count": 12,
   "metadata": {},
   "outputs": [
    {
     "name": "stdout",
     "output_type": "stream",
     "text": [
      "Events read: 2\n",
      "[[25, 25, 25, 25, 25, 25, 25, 25], [25, 25, 25, 25, 25, 25, 25, 25, 25, 25]]\n"
     ]
    }
   ],
   "source": [
    "filename =\"/pnfs/psi.ch/cms/trivcat/store/mc/Run3Summer22EENanoAODv12/VBFHHto4B_CV_1_C2V_1_C3_1_TuneCP5_13p6TeV_madgraph-pythia8/NANOAODSIM/130X_mcRun3_2022_realistic_postEE_v6-v3/80000/a897cbbf-ea0b-40d5-b850-f9f24a7906a5.root\"\n",
    "events = NanoEventsFactory.from_root(filename, schemaclass=NanoAODSchema, entry_stop=2).events()\n",
    "print(\"Events read:\", len(events))\n"
   ]
  },
  {
   "cell_type": "markdown",
   "metadata": {},
   "source": [
    "# Use the last b quark for the matching of the b-quarks from higgs decay"
   ]
  },
  {
   "cell_type": "code",
   "execution_count": 13,
   "metadata": {},
   "outputs": [
    {
     "name": "stdout",
     "output_type": "stream",
     "text": [
      "[0, 1, 2, 3, 4, 5, 6, 7, 8, 9, 10, ... 42, 43, 44, 45, 46, 47, 48, 49, 50, 51, 52]\n",
      "\n",
      "loop\n",
      "old:  pdg [[5, -5, 5, -5], [-5, 5, 5, -5]] mother_idx [[14, 15, 17, 13], [15, 14, 16, 17]] pt [[26.9, 28.1, 50.4, 76.2], [27.2, 60.6, 31.9, 58.6]] index [[18, 24, 26, 29], [18, 20, 25, 26]]\n",
      "mother:  pdg [[5, -5, 5, -5], [-5, 5, 5, -5]] mother_idx [[11, 11, 12, 10], [12, 12, 13, 13]] pt [[41.5, 101, 50.4, 91.5], [55.8, 66.5, 71, 60.4]]\n",
      "new:  pdg [[5, -5, 5, -5], [-5, 5, 5, -5]] mother_idx [[11, 11, 12, 10], [12, 12, 13, 13]] pt [[41.5, 101, 50.4, 91.5], [55.8, 66.5, 71, 60.4]]\n",
      "[True, True]\n",
      "\n",
      "loop\n",
      "old:  pdg [[5, -5, 5, -5], [-5, 5, 5, -5]] mother_idx [[11, 11, 12, 10], [12, 12, 13, 13]] pt [[41.5, 101, 50.4, 91.5], [55.8, 66.5, 71, 60.4]] index [[14, 15, 17, 13], [15, 14, 16, 17]]\n",
      "mother:  pdg [[25, 25, 5, 25], [25, 25, 25, 25]] mother_idx [[9, 9, 10, 8], [10, 10, 11, 11]] pt [[71.8, 71.8, 132, 195], [66, 66, 43.4, 43.4]]\n",
      "new:  pdg [[5, -5, 5, -5], [-5, 5, 5, -5]] mother_idx [[11, 11, 10, 10], [12, 12, 13, 13]] pt [[41.5, 101, 132, 91.5], [55.8, 66.5, 71, 60.4]]\n",
      "[True, False]\n",
      "\n",
      "loop\n",
      "old:  pdg [[5, -5, 5, -5], [-5, 5, 5, -5]] mother_idx [[11, 11, 10, 10], [12, 12, 13, 13]] pt [[41.5, 101, 132, 91.5], [55.8, 66.5, 71, 60.4]] index [[14, 15, 12, 13], [15, 14, 16, 17]]\n",
      "mother:  pdg [[25, 25, 25, 25], [25, 25, 25, 25]] mother_idx [[9, 9, 8, 8], [10, 10, 11, 11]] pt [[71.8, 71.8, 195, 195], [66, 66, 43.4, 43.4]]\n",
      "new:  pdg [[5, -5, 5, -5], [-5, 5, 5, -5]] mother_idx [[11, 11, 10, 10], [12, 12, 13, 13]] pt [[41.5, 101, 132, 91.5], [55.8, 66.5, 71, 60.4]]\n",
      "[False, False]\n",
      "[[5, -5, 5, -5], [-5, 5, 5, -5]] [[11, 11, 10, 10], [12, 12, 13, 13]] [[41.5, 101, 132, 91.5], [55.8, 66.5, 71, 60.4]]\n",
      "[[11, 11, 10, 10], [12, 12, 13, 13]] 2\n"
     ]
    }
   ],
   "source": [
    "# add column with the index\n",
    "events.GenPart=ak.with_field(events.GenPart, ak.local_index(events.GenPart, axis=1), \"index\")\n",
    "print(events.GenPart.index[0])\n",
    "# get last bquark copy\n",
    "isB = abs(events.GenPart.pdgId) == 5\n",
    "isLast = events.GenPart.hasFlags([\"isLastCopy\"])\n",
    "isHard = events.GenPart.hasFlags([\"fromHardProcess\"])\n",
    "bquarks_last = events.GenPart[isB & isLast & isHard]\n",
    "# print(bquarks_last.pdgId, bquarks_last.genPartIdxMother)\n",
    "b_quarks = bquarks_last\n",
    "while True:\n",
    "    print(\"\\nloop\")\n",
    "    b_mother = events.GenPart[b_quarks.genPartIdxMother]\n",
    "    print(\"old: \", \"pdg\", b_quarks.pdgId, \"mother_idx\",b_quarks.genPartIdxMother, \"pt\", b_quarks.pt, \"index\", b_quarks.index)\n",
    "    print(\"mother: \", \"pdg\", b_mother.pdgId, \"mother_idx\",b_mother.genPartIdxMother, \"pt\", b_mother.pt)\n",
    "    # break\n",
    "    b_quarks = ak.where(abs(b_mother.pdgId) == 5, b_mother, b_quarks)\n",
    "    print(\"new: \", \"pdg\", b_quarks.pdgId, \"mother_idx\",b_quarks.genPartIdxMother, \"pt\", b_quarks.pt)\n",
    "\n",
    "    print(ak.any(abs(b_mother.pdgId) != 25, axis=1))\n",
    "    if ak.all(abs(b_mother.pdgId) == 25):\n",
    "        break\n",
    "\n",
    "print(b_quarks.pdgId, b_quarks.genPartIdxMother, b_quarks.pt)\n",
    "print(b_quarks.genPartIdxMother, len(b_quarks.genPartIdxMother))\n"
   ]
  },
  {
   "cell_type": "code",
   "execution_count": 14,
   "metadata": {},
   "outputs": [
    {
     "name": "stdout",
     "output_type": "stream",
     "text": [
      "[[195, 71.8], [66, 43.4]] [[[12, 13], [14, 15]], [[67, 68], [69, 70]]] [[[5, -5], [5, -5]], [[5, -5], [5, -5]]] [[[132, 91.5], [41.5, 101]], [[66.5, 55.8], [71, 60.4]]]\n",
      "[[0, 1], [0, 1]]\n",
      "[[10, 11], [12, 13]]\n",
      "[[195, 71.8], [66, 43.4]] [[[12, 13], [14, 15]], [[67, 68], [69, 70]]] [[[5, -5], [5, -5]], [[5, -5], [5, -5]]] [[[132, 91.5], [41.5, 101]], [[66.5, 55.8], [71, 60.4]]]\n",
      "[[10, 11], [12, 13]]\n",
      "[[2, 2, 1, 1], [1, 1, 2, 2]]\n"
     ]
    }
   ],
   "source": [
    "# order higgs pt\n",
    "higgs = events.GenPart[\n",
    "            (events.GenPart.pdgId == 25)\n",
    "            & events.GenPart.hasFlags([\"fromHardProcess\"])\n",
    "            & events.GenPart.hasFlags([\"isLastCopy\"])\n",
    "        ]\n",
    "higgs = higgs[ak.num(higgs.childrenIdxG, axis=2) == 2]\n",
    "print(higgs.pt, higgs.childrenIdxG, higgs.children.pdgId, higgs.children.pt)\n",
    "print(ak.argsort(higgs.pt,ascending=False))\n",
    "print(higgs.index)\n",
    "higgs=higgs[ak.argsort(higgs.pt,ascending=False)]\n",
    "print(higgs.pt, higgs.childrenIdxG, higgs.children.pdgId, higgs.children.pt)\n",
    "print(higgs.index)\n",
    "\n",
    "provenance = ak.where(b_quarks.genPartIdxMother == higgs.index[:,0], 1, 2)\n",
    "print(provenance)\n"
   ]
  },
  {
   "cell_type": "markdown",
   "metadata": {},
   "source": [
    "# VBF partons"
   ]
  },
  {
   "cell_type": "code",
   "execution_count": 15,
   "metadata": {},
   "outputs": [
    {
     "name": "stdout",
     "output_type": "stream",
     "text": [
      "[[2, 2], [1, 1]]\n"
     ]
    }
   ],
   "source": [
    "# get mother of higgs\n",
    "higgs_first_copy=events.GenPart[\n",
    "            (events.GenPart.pdgId == 25)\n",
    "            & events.GenPart.hasFlags([\"fromHardProcess\"])\n",
    "            & events.GenPart.hasFlags([\"isFirstCopy\"])]\n",
    "higgs_mother = events.GenPart[higgs_first_copy.genPartIdxMother]\n",
    "print(higgs_mother.pdgId)"
   ]
  },
  {
   "cell_type": "code",
   "execution_count": 16,
   "metadata": {},
   "outputs": [
    {
     "name": "stdout",
     "output_type": "stream",
     "text": [
      "[[GenParticle, GenParticle, GenParticle, ... GenParticle, GenParticle, GenParticle]]\n",
      "[[5, 2, 2, -5, 5, -5], [-5, 5, 1, 5, -5, 2]]\n"
     ]
    }
   ],
   "source": [
    "print(events.GenPart)\n",
    "events.GenPart=ak.with_field(events.GenPart, ak.local_index(events.GenPart, axis=1), \"index\")\n",
    "\n",
    "isQuark = abs(events.GenPart.pdgId) < 7\n",
    "isLast = events.GenPart.hasFlags([\"isLastCopy\"])\n",
    "isHard = events.GenPart.hasFlags([\"fromHardProcess\"])\n",
    "quarks_last = events.GenPart[isQuark & isLast & isHard]\n",
    "print(quarks_last.pdgId)"
   ]
  },
  {
   "cell_type": "code",
   "execution_count": 25,
   "metadata": {},
   "outputs": [
    {
     "name": "stdout",
     "output_type": "stream",
     "text": [
      "\n",
      "loop\n",
      "quark:  pdg [[5, 2, 2, -5, 5, -5], [-5, 5, 1, 5, -5, 2]] mother_idx [[14, 5, 4, 15, 17, 13], [15, 14, 5, 16, 17, 4]] index [[18, 20, 21, 24, 26, 29], [18, 20, 22, 25, 26, 29]]\n",
      "mother:  pdg [[5, 2, 2, -5, 5, -5], [-5, 5, 1, 5, -5, 2]] mother_idx [[11, 0, 0, 11, 12, 10], [12, 12, 0, 13, 13, 0]] index [[14, 5, 4, 15, 17, 13], [15, 14, 5, 16, 17, 4]]\n",
      "quark1:  pdg [[5, 2, 2, -5, 5, -5], [-5, 5, 1, 5, -5, 2]] mother_idx [[14, 5, 4, 15, 17, 13], [15, 14, 5, 16, 17, 4]] index [[18, 20, 21, 24, 26, 29], [18, 20, 22, 25, 26, 29]]\n",
      "mother1:  pdg [[5, 2, 2, -5, 5, -5], [-5, 5, 1, 5, -5, 2]] mother_idx [[11, 0, 0, 11, 12, 10], [12, 12, 0, 13, 13, 0]] index [[14, 5, 4, 15, 17, 13], [15, 14, 5, 16, 17, 4]]\n",
      "children:  pdg [[[5, -523, 21, 21, 521], [2], [2], [-5], ... -513], [1], [5, -513, 513], [-5], [2]]] mother_idx [[[14, 14, 14, 14, 14], [5], [4], [15], ... 14], [5], [16, 16, 16], [17], [4]]] index [[[18, 19, 22, 23, 25], [20], [21], [24], ... 21], [22], [25, 27, 28], [26], [29]]]\n",
      "mother_children_isH [[False, False, False, False, False, False, ... False, False, False, False, False]]\n",
      "\n",
      "loop\n",
      "quark:  pdg [[5, 2, 2, -5, 5, -5], [-5, 5, 1, 5, -5, 2]] mother_idx [[11, 0, 0, 11, 12, 10], [12, 12, 0, 13, 13, 0]] index [[14, 5, 4, 15, 17, 13], [15, 14, 5, 16, 17, 4]]\n",
      "mother:  pdg [[25, 2, 2, 25, 5, 25], [25, 25, 1, 25, 25, 1]] mother_idx [[9, -1, -1, 9, 10, 8], [10, 10, -1, 11, 11, -1]] index [[11, 0, 0, 11, 12, 10], [12, 12, 0, 13, 13, 0]]\n",
      "quark1:  pdg [[2, 2, 5], [1, 2]] mother_idx [[0, 0, 12], [0, 0]] index [[5, 4, 17], [5, 4]]\n",
      "mother1:  pdg [[2, 2, 5], [1, 1]] mother_idx [[-1, -1, 10], [-1, -1]] index [[0, 0, 12], [0, 0]]\n",
      "children:  pdg [[[25, 25, 2, 2], [25, 25, 2, 2], [21, 5, 21, ... [[25, 25, 2, 1], [25, 25, 2, 1]]] mother_idx [[[0, 0, 0, 0], [0, 0, 0, 0], [12, 12, 12, 12, 12], ... [[0, 0, 0, 0], [0, 0, 0, 0]]] index [[[2, 3, 4, 5], [2, 3, 4, 5], [16, 17, 28, 30, 31], ... [[2, 3, 4, 5], [2, 3, 4, 5]]]\n",
      "mother_children_isH [[True, True, False], [True, True]]\n",
      "\n",
      "loop\n",
      "quark:  pdg [[2, 2, 5], [1, 2]] mother_idx [[0, 0, 10], [0, 0]] index [[5, 4, 12], [5, 4]]\n",
      "mother:  pdg [[2, 2, 25], [1, 1]] mother_idx [[-1, -1, 8], [-1, -1]] index [[0, 0, 10], [0, 0]]\n",
      "quark1:  pdg [[2, 2], [1, 2]] mother_idx [[0, 0], [0, 0]] index [[5, 4], [5, 4]]\n",
      "mother1:  pdg [[2, 2], [1, 1]] mother_idx [[-1, -1], [-1, -1]] index [[0, 0], [0, 0]]\n",
      "children:  pdg [[[25, 25, 2, 2], [25, 25, 2, 2]], [[25, 25, 2, 1], [25, 25, 2, 1]]] mother_idx [[[0, 0, 0, 0], [0, 0, 0, 0]], [[0, 0, 0, 0], [0, 0, 0, 0]]] index [[[2, 3, 4, 5], [2, 3, 4, 5]], [[2, 3, 4, 5], [2, 3, 4, 5]]]\n",
      "mother_children_isH [[True, True], [True, True]]\n"
     ]
    }
   ],
   "source": [
    "vbf_quarks = quarks_last\n",
    "while True:\n",
    "    print(\"\\nloop\")\n",
    "    vbf_quark_mother = events.GenPart[vbf_quarks.genPartIdxMother]\n",
    "    # mother can't be higgs to avoid getting the quarks from higgs decay\n",
    "    print(\"quark: \", \"pdg\", vbf_quarks.pdgId, \"mother_idx\",vbf_quarks.genPartIdxMother,\"index\", vbf_quarks.index)\n",
    "    print(\"mother: \", \"pdg\", vbf_quark_mother.pdgId, \"mother_idx\",vbf_quark_mother.genPartIdxMother,  \"index\", vbf_quark_mother.index)\n",
    "    vbf_quarks= vbf_quarks[abs(vbf_quark_mother.pdgId) != 25]\n",
    "    vbf_quark_mother = vbf_quark_mother[abs(vbf_quark_mother.pdgId) != 25]\n",
    "    print(\"quark1: \", \"pdg\", vbf_quarks.pdgId, \"mother_idx\",vbf_quarks.genPartIdxMother,\"index\", vbf_quarks.index)\n",
    "    print(\"mother1: \", \"pdg\", vbf_quark_mother.pdgId, \"mother_idx\",vbf_quark_mother.genPartIdxMother,  \"index\", vbf_quark_mother.index)\n",
    "\n",
    "    #check if any of the children of mother is a higgs\n",
    "    mother_children = vbf_quark_mother.children\n",
    "    print(\"children: \", \"pdg\", mother_children.pdgId, \"mother_idx\",mother_children.genPartIdxMother,  \"index\", mother_children.index)\n",
    "    #cnotain two higgs in the children\n",
    "    mother_children_isH = ak.sum((mother_children.pdgId == 25), axis=2)==2\n",
    "    print(\"mother_children_isH\", mother_children_isH)\n",
    "\n",
    "    if ak.all(mother_children_isH):\n",
    "        break\n",
    "    vbf_quarks = ak.where(mother_children_isH, vbf_quarks, vbf_quark_mother)\n"
   ]
  },
  {
   "cell_type": "code",
   "execution_count": 26,
   "metadata": {},
   "outputs": [
    {
     "name": "stdout",
     "output_type": "stream",
     "text": [
      "[[3.78, -3.41], [-3.66, 4.12]]\n",
      "[7.2, 7.79]\n"
     ]
    }
   ],
   "source": [
    "# check if vbf quark: eta > 2.5 and delta eta >5\n",
    "print(vbf_quarks.eta)\n",
    "print(abs(vbf_quarks.eta[:,0] - vbf_quarks.eta[:,1]))"
   ]
  }
 ],
 "metadata": {
  "kernelspec": {
   "display_name": "Python 3",
   "language": "python",
   "name": "python3"
  },
  "language_info": {
   "codemirror_mode": {
    "name": "ipython",
    "version": 3
   },
   "file_extension": ".py",
   "mimetype": "text/x-python",
   "name": "python",
   "nbconvert_exporter": "python",
   "pygments_lexer": "ipython3",
   "version": "3.9.18"
  }
 },
 "nbformat": 4,
 "nbformat_minor": 2
}
