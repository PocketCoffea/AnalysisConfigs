{
 "cells": [
  {
   "cell_type": "code",
   "execution_count": 1,
   "metadata": {},
   "outputs": [],
   "source": [
    "from coffea.nanoevents import NanoEventsFactory, NanoAODSchema\n",
    "import awkward as ak\n",
    "import matplotlib.pyplot as plt\n",
    "import numba\n",
    "from numba import njit\n",
    "import numpy as np"
   ]
  },
  {
   "cell_type": "code",
   "execution_count": 2,
   "metadata": {},
   "outputs": [
    {
     "name": "stdout",
     "output_type": "stream",
     "text": [
      "Events read: 10\n"
     ]
    }
   ],
   "source": [
    "filename =\"/pnfs/psi.ch/cms/trivcat/store/mc/Run3Summer22EENanoAODv12/VBFHHto4B_CV_1_C2V_1_C3_1_TuneCP5_13p6TeV_madgraph-pythia8/NANOAODSIM/130X_mcRun3_2022_realistic_postEE_v6-v3/80000/a897cbbf-ea0b-40d5-b850-f9f24a7906a5.root\"\n",
    "events = NanoEventsFactory.from_root(filename, schemaclass=NanoAODSchema, entry_stop=10).events()\n",
    "print(\"Events read:\", len(events))\n"
   ]
  },
  {
   "cell_type": "markdown",
   "metadata": {},
   "source": [
    "# Use the last b quark for the matching of the b-quarks from higgs decay"
   ]
  },
  {
   "cell_type": "code",
   "execution_count": 3,
   "metadata": {},
   "outputs": [
    {
     "name": "stdout",
     "output_type": "stream",
     "text": [
      "[0, 1, 2, 3, 4, 5, 6, 7, 8, 9, 10, ... 42, 43, 44, 45, 46, 47, 48, 49, 50, 51, 52]\n",
      "\n",
      "loop\n",
      "old:  pdg [[5, -5, 5, -5], [-5, 5, 5, -5], [5, -5, ... 5, -5], [5, -5, 5, -5], [5, -5, 5, -5]] mother_idx [[14, 15, 17, 13], [15, 14, 16, 17], [20, ... [12, 14, 15, 16], [12, 13, 14, 15]] pt [[26.9, 28.1, 50.4, 76.2], [27.2, 60.6, 31.9, ... 59.8, 78.5], [219, 60.6, 83.2, 28]] index [[18, 24, 26, 29], [18, 20, 25, 26], [25, ... [21, 27, 29, 30], [19, 20, 23, 24]]\n",
      "mother:  pdg [[5, -5, 5, -5], [-5, 5, 5, -5], [5, -5, ... 5, -5], [5, -5, 5, -5], [5, -5, 5, -5]] mother_idx [[11, 11, 12, 10], [12, 12, 13, 13], [16, ... [10, 13, 11, 11], [10, 10, 11, 11]] pt [[41.5, 101, 50.4, 91.5], [55.8, 66.5, 71, ... 142, 66.2, 86.8], [223, 67.5, 88, 36]]\n"
     ]
    },
    {
     "name": "stdout",
     "output_type": "stream",
     "text": [
      "new:  pdg [[5, -5, 5, -5], [-5, 5, 5, -5], [5, -5, ... 5, -5], [5, -5, 5, -5], [5, -5, 5, -5]] mother_idx [[11, 11, 12, 10], [12, 12, 13, 13], [16, ... [10, 13, 11, 11], [10, 10, 11, 11]] pt [[41.5, 101, 50.4, 91.5], [55.8, 66.5, 71, ... 142, 66.2, 86.8], [223, 67.5, 88, 36]]\n",
      "[True, True, True, True, True, True, True, True, True, True]\n",
      "\n",
      "loop\n",
      "old:  pdg [[5, -5, 5, -5], [-5, 5, 5, -5], [5, -5, ... 5, -5], [5, -5, 5, -5], [5, -5, 5, -5]] mother_idx [[11, 11, 12, 10], [12, 12, 13, 13], [16, ... [10, 13, 11, 11], [10, 10, 11, 11]] pt [[41.5, 101, 50.4, 91.5], [55.8, 66.5, 71, ... 142, 66.2, 86.8], [223, 67.5, 88, 36]] index [[14, 15, 17, 13], [15, 14, 16, 17], [20, ... [12, 14, 15, 16], [12, 13, 14, 15]]\n",
      "mother:  pdg [[25, 25, 5, 25], [25, 25, 25, 25], [5, ... 25], [25, -5, 25, 25], [25, 25, 25, 25]] mother_idx [[9, 9, 10, 8], [10, 10, 11, 11], [14, 12, ... 10, 10], [8, 10, 9, 9], [8, 8, 9, 9]] pt [[71.8, 71.8, 132, 195], [66, 66, 43.4, ... 156, 109, 109], [274, 274, 59.6, 59.6]]\n",
      "new:  pdg [[5, -5, 5, -5], [-5, 5, 5, -5], [5, -5, ... 5, -5], [5, -5, 5, -5], [5, -5, 5, -5]] mother_idx [[11, 11, 10, 10], [12, 12, 13, 13], [14, ... [10, 10, 11, 11], [10, 10, 11, 11]] pt [[41.5, 101, 132, 91.5], [55.8, 66.5, 71, ... 156, 66.2, 86.8], [223, 67.5, 88, 36]]\n",
      "[True, False, True, False, False, True, False, False, True, False]\n",
      "\n",
      "loop\n",
      "old:  pdg [[5, -5, 5, -5], [-5, 5, 5, -5], [5, -5, ... 5, -5], [5, -5, 5, -5], [5, -5, 5, -5]] mother_idx [[11, 11, 10, 10], [12, 12, 13, 13], [14, ... [10, 10, 11, 11], [10, 10, 11, 11]] pt [[41.5, 101, 132, 91.5], [55.8, 66.5, 71, ... 156, 66.2, 86.8], [223, 67.5, 88, 36]] index [[14, 15, 12, 13], [15, 14, 16, 17], [16, ... [12, 13, 15, 16], [12, 13, 14, 15]]\n",
      "mother:  pdg [[25, 25, 25, 25], [25, 25, 25, 25], [25, ... [25, 25, 25, 25], [25, 25, 25, 25]] mother_idx [[9, 9, 8, 8], [10, 10, 11, 11], [12, 12, ... 10, 10], [8, 8, 9, 9], [8, 8, 9, 9]] pt [[71.8, 71.8, 195, 195], [66, 66, 43.4, ... 150, 109, 109], [274, 274, 59.6, 59.6]]\n",
      "new:  pdg [[5, -5, 5, -5], [-5, 5, 5, -5], [5, -5, ... 5, -5], [5, -5, 5, -5], [5, -5, 5, -5]] mother_idx [[11, 11, 10, 10], [12, 12, 13, 13], [14, ... [10, 10, 11, 11], [10, 10, 11, 11]] pt [[41.5, 101, 132, 91.5], [55.8, 66.5, 71, ... 156, 66.2, 86.8], [223, 67.5, 88, 36]]\n",
      "[False, False, False, False, False, False, False, False, False, False]\n",
      "[[5, -5, 5, -5], [-5, 5, 5, -5], [5, -5, ... 5, -5], [5, -5, 5, -5], [5, -5, 5, -5]] [[11, 11, 10, 10], [12, 12, 13, 13], [14, ... [10, 10, 11, 11], [10, 10, 11, 11]] [[41.5, 101, 132, 91.5], [55.8, 66.5, 71, ... 156, 66.2, 86.8], [223, 67.5, 88, 36]]\n",
      "[[11, 11, 10, 10], [12, 12, 13, 13], [14, ... [10, 10, 11, 11], [10, 10, 11, 11]] 10\n"
     ]
    }
   ],
   "source": [
    "# add column with the index\n",
    "events.GenPart=ak.with_field(events.GenPart, ak.local_index(events.GenPart, axis=1), \"index\")\n",
    "print(events.GenPart.index[0])\n",
    "# get last bquark copy\n",
    "isB = abs(events.GenPart.pdgId) == 5\n",
    "isLast = events.GenPart.hasFlags([\"isLastCopy\"])\n",
    "isHard = events.GenPart.hasFlags([\"fromHardProcess\"])\n",
    "bquarks_last = events.GenPart[isB & isLast & isHard]\n",
    "# print(bquarks_last.pdgId, bquarks_last.genPartIdxMother)\n",
    "b_quarks = bquarks_last\n",
    "while True:\n",
    "    print(\"\\nloop\")\n",
    "    b_mother = events.GenPart[b_quarks.genPartIdxMother]\n",
    "    print(\"old: \", \"pdg\", b_quarks.pdgId, \"mother_idx\",b_quarks.genPartIdxMother, \"pt\", b_quarks.pt, \"index\", b_quarks.index)\n",
    "    print(\"mother: \", \"pdg\", b_mother.pdgId, \"mother_idx\",b_mother.genPartIdxMother, \"pt\", b_mother.pt)\n",
    "    # break\n",
    "    b_quarks = ak.where(abs(b_mother.pdgId) == 5, b_mother, b_quarks)\n",
    "    print(\"new: \", \"pdg\", b_quarks.pdgId, \"mother_idx\",b_quarks.genPartIdxMother, \"pt\", b_quarks.pt)\n",
    "\n",
    "    print(ak.any(abs(b_mother.pdgId) != 25, axis=1))\n",
    "    if ak.all(abs(b_mother.pdgId) == 25):\n",
    "        break\n",
    "\n",
    "print(b_quarks.pdgId, b_quarks.genPartIdxMother, b_quarks.pt)\n",
    "print(b_quarks.genPartIdxMother, len(b_quarks.genPartIdxMother))\n"
   ]
  },
  {
   "cell_type": "code",
   "execution_count": 4,
   "metadata": {},
   "outputs": [
    {
     "name": "stdout",
     "output_type": "stream",
     "text": [
      "[[195, 71.8], [66, 43.4], [28.7, 14.2], ... [110, 67.8], [150, 109], [274, 59.6]] [[[12, 13], [14, 15]], [[67, 68], [69, ... [452, 453]], [[518, 519], [520, 521]]] [[[5, -5], [5, -5]], [[5, -5], [5, -5]], ... [[5, -5], [5, -5]], [[5, -5], [5, -5]]] [[[132, 91.5], [41.5, 101]], [[66.5, 55.8, ... 66.2, 86.8]], [[223, 67.5], [88, 36]]]\n",
      "[[0, 1], [0, 1], [0, 1], [0, 1], [0, 1], [0, 1], [0, 1], [0, 1], [0, 1], [0, 1]]\n",
      "[[10, 11], [12, 13], [14, 15], [10, 11], ... [6, 7], [11, 12], [10, 11], [10, 11]]\n",
      "[[195, 71.8], [66, 43.4], [28.7, 14.2], ... [110, 67.8], [150, 109], [274, 59.6]] [[[12, 13], [14, 15]], [[67, 68], [69, ... [452, 453]], [[518, 519], [520, 521]]] [[[5, -5], [5, -5]], [[5, -5], [5, -5]], ... [[5, -5], [5, -5]], [[5, -5], [5, -5]]] [[[132, 91.5], [41.5, 101]], [[66.5, 55.8, ... 66.2, 86.8]], [[223, 67.5], [88, 36]]]\n",
      "[[10, 11], [12, 13], [14, 15], [10, 11], ... [6, 7], [11, 12], [10, 11], [10, 11]]\n",
      "[[2, 2, 1, 1], [1, 1, 2, 2], [1, 1, 2, 2, ... 1, 2, 2], [1, 1, 2, 2], [1, 1, 2, 2]]\n"
     ]
    }
   ],
   "source": [
    "# order higgs pt\n",
    "higgs = events.GenPart[\n",
    "            (events.GenPart.pdgId == 25)\n",
    "            & events.GenPart.hasFlags([\"fromHardProcess\"])\n",
    "            & events.GenPart.hasFlags([\"isLastCopy\"])\n",
    "        ]\n",
    "higgs = higgs[ak.num(higgs.childrenIdxG, axis=2) == 2]\n",
    "print(higgs.pt, higgs.childrenIdxG, higgs.children.pdgId, higgs.children.pt)\n",
    "print(ak.argsort(higgs.pt,ascending=False))\n",
    "print(higgs.index)\n",
    "higgs=higgs[ak.argsort(higgs.pt,ascending=False)]\n",
    "print(higgs.pt, higgs.childrenIdxG, higgs.children.pdgId, higgs.children.pt)\n",
    "print(higgs.index)\n",
    "\n",
    "provenance = ak.where(b_quarks.genPartIdxMother == higgs.index[:,0], 1, 2)\n",
    "print(provenance)\n"
   ]
  },
  {
   "cell_type": "markdown",
   "metadata": {},
   "source": [
    "# VBF partons"
   ]
  },
  {
   "cell_type": "code",
   "execution_count": 5,
   "metadata": {},
   "outputs": [
    {
     "name": "stdout",
     "output_type": "stream",
     "text": [
      "[[2, 2], [1, 1], [2, 2], [2, 2], [-2, -2], ... 2, 2], [2, 2], [2, 2], [3, 3], [1, 1]]\n"
     ]
    }
   ],
   "source": [
    "# get mother of higgs\n",
    "higgs_first_copy=events.GenPart[\n",
    "            (events.GenPart.pdgId == 25)\n",
    "            & events.GenPart.hasFlags([\"fromHardProcess\"])\n",
    "            & events.GenPart.hasFlags([\"isFirstCopy\"])]\n",
    "higgs_mother = events.GenPart[higgs_first_copy.genPartIdxMother]\n",
    "print(higgs_mother.pdgId)"
   ]
  },
  {
   "cell_type": "code",
   "execution_count": 6,
   "metadata": {},
   "outputs": [
    {
     "name": "stdout",
     "output_type": "stream",
     "text": [
      "[[GenParticle, GenParticle, GenParticle, ... GenParticle, GenParticle, GenParticle]]\n"
     ]
    }
   ],
   "source": [
    "print(events.GenPart)\n",
    "events.GenPart=ak.with_field(events.GenPart, ak.local_index(events.GenPart, axis=1), \"index\")\n",
    "genpart= events.GenPart\n",
    "single_event=-1\n",
    "if (single_event!=-1):\n",
    "    genpart= events.GenPart[single_event]\n",
    "\n",
    "\n",
    "isQuark = abs(genpart.pdgId) < 7\n",
    "isLast = genpart.hasFlags([\"isLastCopy\"])\n",
    "isHard = genpart.hasFlags([\"fromHardProcess\"])\n"
   ]
  },
  {
   "cell_type": "code",
   "execution_count": 17,
   "metadata": {},
   "outputs": [
    {
     "name": "stdout",
     "output_type": "stream",
     "text": [
      "vbf_quarks_last:  [[5, 2, 2, -5, 5, -5], [-5, 5, 1, 5, -5, ... 5, -5, 5, -5, 1], [2, 1, 5, -5, 5, -5]] [[14, 5, 4, 15, 17, 13], [15, 14, 5, 16, ... 14, 15, 16, 5], [4, 5, 12, 13, 14, 15]] [[18, 20, 21, 24, 26, 29], [18, 20, 22, ... 29, 30, 36], [16, 17, 19, 20, 23, 24]] [6, 6, 6, 6, 6, 6, 6, 6, 6, 6]\n",
      "\n",
      "#############################loop\n",
      "quark_last:  pdg [[5, 2, 2, -5, 5, -5], [-5, 5, 1, 5, -5, ... 5, -5, 5, -5, 1], [2, 1, 5, -5, 5, -5]] mother_idx [[14, 5, 4, 15, 17, 13], [15, 14, 5, 16, ... 14, 15, 16, 5], [4, 5, 12, 13, 14, 15]] index [[18, 20, 21, 24, 26, 29], [18, 20, 22, ... 29, 30, 36], [16, 17, 19, 20, 23, 24]]\n",
      "quark:  pdg [[5, 2, 2, -5, 5, -5], [-5, 5, 1, 5, -5, ... 5, -5, 5, -5, 1], [2, 1, 5, -5, 5, -5]] mother_idx [[14, 5, 4, 15, 17, 13], [15, 14, 5, 16, ... 14, 15, 16, 5], [4, 5, 12, 13, 14, 15]] index [[18, 20, 21, 24, 26, 29], [18, 20, 22, ... 29, 30, 36], [16, 17, 19, 20, 23, 24]]\n",
      "mother:  pdg [[5, 2, 2, -5, 5, -5], [-5, 5, 1, 5, -5, ... 5, -5, 5, -5, 1], [2, 1, 5, -5, 5, -5]] mother_idx [[11, 0, 0, 11, 12, 10], [12, 12, 0, 13, ... 13, 11, 11, 0], [0, 0, 10, 10, 11, 11]] index [[14, 5, 4, 15, 17, 13], [15, 14, 5, 16, ... 14, 15, 16, 5], [4, 5, 12, 13, 14, 15]]\n",
      "\n",
      "quark_last1:  pdg [[5, 2, 2, -5, 5, -5], [-5, 5, 1, 5, -5, ... 5, -5, 5, -5, 1], [2, 1, 5, -5, 5, -5]] mother_idx [[14, 5, 4, 15, 17, 13], [15, 14, 5, 16, ... 14, 15, 16, 5], [4, 5, 12, 13, 14, 15]] index [[18, 20, 21, 24, 26, 29], [18, 20, 22, ... 29, 30, 36], [16, 17, 19, 20, 23, 24]]\n",
      "quark1:  pdg [[5, 2, 2, -5, 5, -5], [-5, 5, 1, 5, -5, ... 5, -5, 5, -5, 1], [2, 1, 5, -5, 5, -5]] mother_idx [[14, 5, 4, 15, 17, 13], [15, 14, 5, 16, ... 14, 15, 16, 5], [4, 5, 12, 13, 14, 15]] index [[18, 20, 21, 24, 26, 29], [18, 20, 22, ... 29, 30, 36], [16, 17, 19, 20, 23, 24]]\n",
      "mother1:  pdg [[5, 2, 2, -5, 5, -5], [-5, 5, 1, 5, -5, ... 5, -5, 5, -5, 1], [2, 1, 5, -5, 5, -5]] mother_idx [[11, 0, 0, 11, 12, 10], [12, 12, 0, 13, ... 13, 11, 11, 0], [0, 0, 10, 10, 11, 11]] index [[14, 5, 4, 15, 17, 13], [15, 14, 5, 16, ... 14, 15, 16, 5], [4, 5, 12, 13, 14, 15]]\n",
      "\n",
      "children of mother:  pdg [[[5, -523, 21, 21, 521], [2], [2], ... [-5, -513, 513], [5, -511, 523], [-5]]] mother_idx [[[14, 14, 14, 14, 14], [5], [4], [15], ... [12], [13, 13, 13], [14, 14, 14], [15]]] index [[[18, 19, 22, 23, 25], [20], [21], [24], ... 19], [20, 21, 22], [23, 25, 26], [24]]]\n",
      "mother_children_isH [[False, False, False, False, False, False, ... False, False, False, False, False]]\n",
      "\n",
      "#############################loop\n",
      "quark_last:  pdg [[5, 2, 2, -5, 5, -5], [-5, 5, 1, 5, -5, ... 5, -5, 5, -5, 1], [2, 1, 5, -5, 5, -5]] mother_idx [[14, 5, 4, 15, 17, 13], [15, 14, 5, 16, ... 14, 15, 16, 5], [4, 5, 12, 13, 14, 15]] index [[18, 20, 21, 24, 26, 29], [18, 20, 22, ... 29, 30, 36], [16, 17, 19, 20, 23, 24]]\n",
      "quark:  pdg [[5, 2, 2, -5, 5, -5], [-5, 5, 1, 5, -5, ... 5, -5, 5, -5, 1], [2, 1, 5, -5, 5, -5]] mother_idx [[11, 0, 0, 11, 12, 10], [12, 12, 0, 13, ... 13, 11, 11, 0], [0, 0, 10, 10, 11, 11]] index [[14, 5, 4, 15, 17, 13], [15, 14, 5, 16, ... 14, 15, 16, 5], [4, 5, 12, 13, 14, 15]]\n",
      "mother:  pdg [[25, 2, 2, 25, 5, 25], [25, 25, 1, 25, ... -5, 25, 25, 3], [1, 1, 25, 25, 25, 25]] mother_idx [[9, -1, -1, 9, 10, 8], [10, 10, -1, 11, 11, ... 10, 9, 9, -1], [-1, -1, 8, 8, 9, 9]] index [[11, 0, 0, 11, 12, 10], [12, 12, 0, 13, ... 13, 11, 11, 0], [0, 0, 10, 10, 11, 11]]\n",
      "\n",
      "quark_last1:  pdg [[2, 2, 5], [1, 2], [4, 5, 1], [4, 1], ... 2], [2, 1], [2, 1], [4, -5, 1], [2, 1]] mother_idx [[5, 4, 17], [5, 4], [4, 20, 5], [4, 5], ... [4, 5], [4, 5], [4, 14, 5], [4, 5]] index [[20, 21, 26], [22, 29], [23, 25, 33], ... 15], [18, 35], [17, 27, 36], [16, 17]]\n",
      "quark1:  pdg [[2, 2, 5], [1, 2], [4, 5, 1], [4, 1], ... 2], [2, 1], [2, 1], [4, -5, 1], [2, 1]] mother_idx [[0, 0, 12], [0, 0], [0, 16, 0], [0, 0], ... [0, 0], [0, 0], [0, 13, 0], [0, 0]] index [[5, 4, 17], [5, 4], [4, 20, 5], [4, 5], ... [4, 5], [4, 5], [4, 14, 5], [4, 5]]\n",
      "mother1:  pdg [[2, 2, 5], [1, 1], [2, 5, 2], [2, 2], ... 2], [2, 2], [2, 2], [3, -5, 3], [1, 1]] mother_idx [[-1, -1, 10], [-1, -1], [-1, 14, -1], ... -1], [-1, -1], [-1, 10, -1], [-1, -1]] index [[0, 0, 12], [0, 0], [0, 16, 0], [0, 0], ... [0, 0], [0, 0], [0, 13, 0], [0, 0]]\n",
      "\n",
      "children of mother:  pdg [[[25, 25, 2, 2], [25, 25, 2, 2], [21, 5, ... [[25, 25, 2, 1], [25, 25, 2, 1]]] mother_idx [[[0, 0, 0, 0], [0, 0, 0, 0], [12, 12, 12, 12, ... 0]], [[0, 0, 0, 0], [0, 0, 0, 0]]] index [[[2, 3, 4, 5], [2, 3, 4, 5], [16, 17, 28, 30, ... 5]], [[2, 3, 4, 5], [2, 3, 4, 5]]]\n",
      "mother_children_isH [[True, True, False], [True, True], [True, ... [True, False, True], [True, True]]\n",
      "\n",
      "#############################loop\n",
      "quark_last:  pdg [[2, 2, 5], [1, 2], [4, 5, 1], [4, 1], ... 2], [2, 1], [2, 1], [4, -5, 1], [2, 1]] mother_idx [[5, 4, 17], [5, 4], [4, 20, 5], [4, 5], ... [4, 5], [4, 5], [4, 14, 5], [4, 5]] index [[20, 21, 26], [22, 29], [23, 25, 33], ... 15], [18, 35], [17, 27, 36], [16, 17]]\n",
      "quark:  pdg [[2, 2, 5], [1, 2], [4, 5, 1], [4, 1], ... 2], [2, 1], [2, 1], [4, -5, 1], [2, 1]] mother_idx [[0, 0, 10], [0, 0], [0, 14, 0], [0, 0], ... [0, 0], [0, 0], [0, 10, 0], [0, 0]] index [[5, 4, 12], [5, 4], [4, 16, 5], [4, 5], ... [4, 5], [4, 5], [4, 13, 5], [4, 5]]\n",
      "mother:  pdg [[2, 2, 25], [1, 1], [2, 25, 2], [2, 2], ... [2, 2], [2, 2], [3, 25, 3], [1, 1]] mother_idx [[-1, -1, 8], [-1, -1], [-1, 12, -1], [-1, ... -1], [-1, -1], [-1, 8, -1], [-1, -1]] index [[0, 0, 10], [0, 0], [0, 14, 0], [0, 0], ... [0, 0], [0, 0], [0, 10, 0], [0, 0]]\n",
      "\n",
      "quark_last1:  pdg [[2, 2], [1, 2], [4, 1], [4, 1], [-1, 1], [1, 2], [2, 1], [2, 1], [4, 1], [2, 1]] mother_idx [[5, 4], [5, 4], [4, 5], [4, 5], [5, 4], [5, 4], [4, 5], [4, 5], [4, 5], [4, 5]] index [[20, 21], [22, 29], [23, 33], [19, 24], ... [14, 15], [18, 35], [17, 36], [16, 17]]\n",
      "quark1:  pdg [[2, 2], [1, 2], [4, 1], [4, 1], [-1, 1], [1, 2], [2, 1], [2, 1], [4, 1], [2, 1]] mother_idx [[0, 0], [0, 0], [0, 0], [0, 0], [0, 0], [0, 0], [0, 0], [0, 0], [0, 0], [0, 0]] index [[5, 4], [5, 4], [4, 5], [4, 5], [5, 4], [5, 4], [4, 5], [4, 5], [4, 5], [4, 5]]\n",
      "mother1:  pdg [[2, 2], [1, 1], [2, 2], [2, 2], [-2, -2], ... 2, 2], [2, 2], [2, 2], [3, 3], [1, 1]] mother_idx [[-1, -1], [-1, -1], [-1, -1], [-1, -1], ... [-1, -1], [-1, -1], [-1, -1], [-1, -1]] index [[0, 0], [0, 0], [0, 0], [0, 0], [0, 0], [0, 0], [0, 0], [0, 0], [0, 0], [0, 0]]\n",
      "\n",
      "children of mother:  pdg [[[25, 25, 2, 2], [25, 25, 2, 2]], [[25, ... 1]], [[25, 25, 2, 1], [25, 25, 2, 1]]] mother_idx [[[0, 0, 0, 0], [0, 0, 0, 0]], [[0, 0, 0, ... 0, 0]], [[0, 0, 0, 0], [0, 0, 0, 0]]] index [[[2, 3, 4, 5], [2, 3, 4, 5]], [[2, 3, 4, ... 4, 5]], [[2, 3, 4, 5], [2, 3, 4, 5]]]\n",
      "mother_children_isH [[True, True], [True, True], [True, True, ... True], [True, True], [True, True]]\n",
      "[[20, 21], [22, 29], [23, 33], [19, 24], ... [14, 15], [18, 35], [17, 36], [16, 17]]\n",
      "\n",
      "\n",
      "num of loops 2\n"
     ]
    }
   ],
   "source": [
    "\n",
    "vbf_quarks_last = genpart[isQuark & isLast & isHard]\n",
    "vbf_quarks_last = vbf_quarks_last[vbf_quarks_last.genPartIdxMother!=-1]\n",
    "vbf_quarks = vbf_quarks_last\n",
    "print(\"vbf_quarks_last: \", vbf_quarks_last.pdgId, vbf_quarks_last.genPartIdxMother, vbf_quarks_last.index, ak.num(vbf_quarks_last.pt))\n",
    "\n",
    "i=0\n",
    "while True:\n",
    "    print(\"\\n#############################loop\")\n",
    "    # vbf_quarks=vbf_quarks[vbf_quarks.genPartIdxMother!=-1]\n",
    "    vbf_quark_mother = genpart[vbf_quarks.genPartIdxMother]\n",
    "    # mother can't be higgs to avoid getting the quarks from higgs decay\n",
    "    print(\"quark_last: \", \"pdg\", vbf_quarks_last.pdgId, \"mother_idx\",vbf_quarks_last.genPartIdxMother,\"index\", vbf_quarks_last.index)\n",
    "    print(\"quark: \", \"pdg\", vbf_quarks.pdgId, \"mother_idx\",vbf_quarks.genPartIdxMother,\"index\", vbf_quarks.index)\n",
    "    print(\"mother: \", \"pdg\", vbf_quark_mother.pdgId, \"mother_idx\",vbf_quark_mother.genPartIdxMother,  \"index\", vbf_quark_mother.index)\n",
    "    mother_isnotH = abs(vbf_quark_mother.pdgId) != 25\n",
    "    vbf_quarks= vbf_quarks[mother_isnotH]\n",
    "    vbf_quark_mother = vbf_quark_mother[mother_isnotH]\n",
    "    vbf_quarks_last = vbf_quarks_last[mother_isnotH]\n",
    "    print(\"\\nquark_last1: \", \"pdg\", vbf_quarks_last.pdgId, \"mother_idx\",vbf_quarks_last.genPartIdxMother,\"index\", vbf_quarks_last.index)\n",
    "    print(\"quark1: \", \"pdg\", vbf_quarks.pdgId, \"mother_idx\",vbf_quarks.genPartIdxMother,\"index\", vbf_quarks.index)\n",
    "    print(\"mother1: \", \"pdg\", vbf_quark_mother.pdgId, \"mother_idx\",vbf_quark_mother.genPartIdxMother,  \"index\", vbf_quark_mother.index)\n",
    "\n",
    "    #check if any of the children of mother is a higgs\n",
    "    mother_children = vbf_quark_mother.children\n",
    "    print(\"\\nchildren of mother: \", \"pdg\", mother_children.pdgId, \"mother_idx\",mother_children.genPartIdxMother,  \"index\", mother_children.index)\n",
    "    #cnotain two higgs in the children\n",
    "    mother_children_isH = ak.sum((mother_children.pdgId == 25), axis=-1)==2\n",
    "    #NOTE: do we need to check the children of the children as well to see if there are the Higgs?\n",
    "    print(\"mother_children_isH\", mother_children_isH)\n",
    "\n",
    "    if ak.all(mother_children_isH):\n",
    "        break\n",
    "    vbf_quarks = ak.where(mother_children_isH, vbf_quarks, vbf_quark_mother)\n",
    "    i+=1\n",
    "\n",
    "\n",
    "print(vbf_quarks_last.index)\n",
    "\n",
    "\n",
    "print(\"\\n\\nnum of loops\", i)\n",
    "if single_event==-1:\n",
    "    #check if for each event there are two vbf quarks\n",
    "    if(ak.any(ak.num(vbf_quarks.pt, axis=-1)!=2)):\n",
    "        print(\"\\n\\nERROR: not two vbf quarks\")\n",
    "        for i in range(len(vbf_quarks)):\n",
    "            if len(vbf_quarks.pt[i])!=2:\n",
    "                print(\"\\nevent\", i, \"number of vbf quarks\", len(vbf_quarks.pt[i]))\n",
    "                print(\"vbf quark_last : \", \"pdg\", vbf_quarks_last.pdgId[i], \"mother_idx\",vbf_quarks_last.genPartIdxMother[i],\"index\", vbf_quarks_last.index[i])\n",
    "                print(\"vbf quark: \", \"pdg\", vbf_quarks.pdgId[i], \"mother_idx\",vbf_quarks.genPartIdxMother[i],\"index\", vbf_quarks.index[i])\n",
    "                print(\"mother: \", \"pdg\", vbf_quark_mother.pdgId[i], \"mother_idx\",vbf_quark_mother.genPartIdxMother[i],  \"index\", vbf_quark_mother.index[i])\n",
    "                print(\"children: \", \"pdg\", mother_children.pdgId[i], \"mother_idx\",mother_children.genPartIdxMother[i],  \"index\", mother_children.index[i])\n",
    "        exit(1)"
   ]
  },
  {
   "cell_type": "code",
   "execution_count": 8,
   "metadata": {},
   "outputs": [
    {
     "name": "stdout",
     "output_type": "stream",
     "text": [
      "[[3.78, -3.41], [-3.66, 4.12], [-2.79, 3.44, ... 2.41], [2.29, -5.47], [3.04, -2.8]]\n",
      "[7.2, 7.79, 6.23, 6.38, 7.84, 5.05, 4.49, 6.39, 7.76, 5.84]\n",
      "[[3.9, -3.42], [-3.48, 3.49], [-2.8, 4.11, ... 2.84], [2.43, -5.27], [3.04, -3.03]]\n",
      "[7.32, 6.98, 6.91, 6.45, 7.97, 5.14, 4.54, 6.83, 7.7, 6.07]\n"
     ]
    }
   ],
   "source": [
    "if single_event==-1:\n",
    "    # check if vbf quark: eta > 2.5 and delta eta >5\n",
    "    print(vbf_quarks.eta)\n",
    "    print(abs(vbf_quarks.eta[:,0] - vbf_quarks.eta[:,1]))\n",
    "    print(vbf_quarks_last.eta)\n",
    "    print(abs(vbf_quarks_last.eta[:,0] - vbf_quarks_last.eta[:,1]))"
   ]
  },
  {
   "cell_type": "markdown",
   "metadata": {},
   "source": [
    "# the quarkVBF which weneed to match to the reco jets are vbf_quarks_last"
   ]
  },
  {
   "cell_type": "code",
   "execution_count": 9,
   "metadata": {},
   "outputs": [
    {
     "data": {
      "image/png": "[encoded data removed]",
      "text/plain": [
       "<Figure size 640x480 with 1 Axes>"
      ]
     },
     "metadata": {},
     "output_type": "display_data"
    }
   ],
   "source": [
    "import matplotlib.pyplot as plt\n",
    "\n",
    "plt.figure()\n",
    "plt.hist(vbf_quarks_last.eta[:,0], bins=50, range=(-10,10), histtype='step', label='quark1')\n",
    "plt.hist(vbf_quarks_last.eta[:,1], bins=50, range=(-10,10), histtype='step', label='quark2')\n",
    "plt.legend(loc='upper right')\n",
    "plt.show()"
   ]
  },
  {
   "cell_type": "code",
   "execution_count": 10,
   "metadata": {},
   "outputs": [
    {
     "data": {
      "image/png": "[encoded data removed]",
      "text/plain": [
       "<Figure size 640x480 with 1 Axes>"
      ]
     },
     "metadata": {},
     "output_type": "display_data"
    }
   ],
   "source": [
    "# plot delta eta\n",
    "plt.figure()\n",
    "plt.hist(abs(vbf_quarks_last.eta[:,0] - vbf_quarks_last.eta[:,1]), bins=50, range=(0,10), histtype='step', label='delta eta')\n",
    "plt.legend(loc='upper right')\n",
    "plt.show()"
   ]
  },
  {
   "cell_type": "code",
   "execution_count": 11,
   "metadata": {},
   "outputs": [
    {
     "name": "stdout",
     "output_type": "stream",
     "text": [
      "len vbf_quarks_last_opposite_eta 10\n",
      "len vbf_quarks_last 10\n",
      "ratio opposite eta 1.0\n"
     ]
    }
   ],
   "source": [
    "vbf_quarks_last_opposite_eta=vbf_quarks_last[vbf_quarks_last.eta[:,0]*vbf_quarks_last.eta[:,1]<0]\n",
    "\n",
    "print(\"len vbf_quarks_last_opposite_eta\", len(vbf_quarks_last_opposite_eta))\n",
    "print(\"len vbf_quarks_last\", len(vbf_quarks_last))\n",
    "print(\"ratio opposite eta\", len(vbf_quarks_last_opposite_eta)/len(vbf_quarks_last))\n"
   ]
  },
  {
   "cell_type": "code",
   "execution_count": 12,
   "metadata": {},
   "outputs": [
    {
     "data": {
      "image/png": "[encoded data removed]",
      "text/plain": [
       "<Figure size 640x480 with 1 Axes>"
      ]
     },
     "metadata": {},
     "output_type": "display_data"
    },
    {
     "data": {
      "image/png": "[encoded data removed]",
      "text/plain": [
       "<Figure size 640x480 with 1 Axes>"
      ]
     },
     "metadata": {},
     "output_type": "display_data"
    }
   ],
   "source": [
    "\n",
    "#plot delta eta for opposite eta\n",
    "plt.figure()\n",
    "plt.hist(abs(vbf_quarks_last_opposite_eta.eta[:,0] - vbf_quarks_last_opposite_eta.eta[:,1]), bins=50, range=(0,10), histtype='step', label='delta eta')\n",
    "plt.legend(loc='upper right')\n",
    "plt.show()\n",
    "\n",
    "#plot eta for opposite eta\n",
    "plt.figure()\n",
    "plt.hist(vbf_quarks_last_opposite_eta.eta[:,0], bins=50, range=(-10,10), histtype='step', label='quark1')\n",
    "plt.hist(vbf_quarks_last_opposite_eta.eta[:,1], bins=50, range=(-10,10), histtype='step', label='quark2')\n",
    "plt.legend(loc='upper right')\n",
    "plt.show()"
   ]
  },
  {
   "cell_type": "markdown",
   "metadata": {},
   "source": [
    "# VBF parton matching with numba"
   ]
  },
  {
   "cell_type": "code",
   "execution_count": 13,
   "metadata": {},
   "outputs": [
    {
     "name": "stdout",
     "output_type": "stream",
     "text": [
      "[[True, True, False, False, False, False, ... False, False, False, False, False]] [True, True, False, False, False, False, ... False, False, False, False, False]\n",
      "[[2, 2, 5, -5, 5, -5, 5, 5, 2, 2, -5, 5, ... 2, 1, 5, -5, 5, -5, 2, 1, 5, -5, 5, -5]] [[0, 0, 10, 10, 11, 11, 12, 14, 5, 4, 15, ... 10, 10, 11, 11, 4, 5, 12, 13, 14, 15]] [[4, 5, 12, 13, 14, 15, 17, 18, 20, 21, ... 12, 13, 14, 15, 16, 17, 19, 20, 23, 24]]\n",
      "[[2, 2], [2, 1], [4, 1], [4, 1], [1, -1], [2, 1], [2, 1], [2, 1], [4, 1], [2, 1]] [[0, 0], [0, 0], [0, 0], [0, 0], [0, 0], [0, 0], [0, 0], [0, 0], [0, 0], [0, 0]] [[4, 5], [4, 5], [4, 5], [4, 5], [4, 5], [4, 5], [4, 5], [4, 5], [4, 5], [4, 5]] [[2, 2], [1, 1], [2, 2], [2, 2], [-2, -2], ... 2, 2], [2, 2], [2, 2], [3, 3], [1, 1]]\n",
      "[[False, False], [False, False], [True, ... False], [True, True], [False, False]]\n"
     ]
    }
   ],
   "source": [
    "events.GenPart=ak.with_field(events.GenPart, ak.local_index(events.GenPart, axis=1), \"index\")\n",
    "genpart= events.GenPart\n",
    "single_event=-1\n",
    "if (single_event!=-1):\n",
    "    genpart= events.GenPart[single_event]\n",
    "\n",
    "\n",
    "isQuark = abs(genpart.pdgId) < 7\n",
    "isLast = genpart.hasFlags([\"isLastCopy\"])\n",
    "isFirst = genpart.hasFlags([\"isFirstCopy\"])\n",
    "isHard = genpart.hasFlags([\"fromHardProcess\"])\n",
    "\n",
    "quarks = genpart[isQuark & isHard]\n",
    "quarks = quarks[quarks.genPartIdxMother!=-1]\n",
    "\n",
    "quarks_mother = genpart[quarks.genPartIdxMother]\n",
    "quarks_mother_children = quarks_mother.children\n",
    "quarks_mother_children_isH = ak.sum((quarks_mother_children.pdgId == 25), axis=-1)==2\n",
    "print(quarks_mother_children_isH, quarks_mother_children_isH[0])\n",
    "print(quarks.pdgId, quarks.genPartIdxMother, quarks.index)\n",
    "vbf_quarks = quarks[quarks_mother_children_isH]\n",
    "print(vbf_quarks.pdgId, vbf_quarks.genPartIdxMother, vbf_quarks.index, genpart[vbf_quarks.genPartIdxMother].pdgId)\n",
    "print(vbf_quarks.hasFlags([\"isFirstCopy\"]))\n",
    "\n",
    "\n",
    "\n",
    "# plt.hist(ak.flatten(vbf_quarks.hasFlags([\"isFirstCopy\"])), bins=50, range=(0,10), histtype='step', label='delta eta')\n",
    "vbf_quarks_first= genpart[isQuark & isFirst & isHard]\n",
    "vbf_quarks_first= vbf_quarks_first[vbf_quarks_first.genPartIdxMother!=-1]\n"
   ]
  },
  {
   "cell_type": "code",
   "execution_count": 14,
   "metadata": {},
   "outputs": [],
   "source": [
    "@njit\n",
    "def analyze_parton_from_vbf_quarks(vbf_quarks_array, genpart_array):\n",
    "    # find the last copy of the vbf quarks\n",
    "    for i in range(len(vbf_quarks_array)):\n",
    "        vbf_quarks = vbf_quarks_array[i]\n",
    "        print(\"vbf_quarks\", vbf_quarks.pdgId, vbf_quarks.genPartIdxMother, vbf_quarks.index)\n",
    "        vbf_quarks_last = vbf_quarks\n",
    "        while True:\n",
    "            vbf_quarks_children = genpart_array[vbf_quarks_last.childrenIdx]\n",
    "            print(\"vbf_quarks_last\", vbf_quarks_last.pdgId, vbf_quarks_last.genPartIdxMother, vbf_quarks_last.index)\n",
    "            print(\"vbf_quarks_children\", vbf_quarks_children.pdgId, vbf_quarks_children.genPartIdxMother, vbf_quarks_children.index)\n",
    "            break\n"
   ]
  },
  {
   "cell_type": "code",
   "execution_count": 15,
   "metadata": {},
   "outputs": [
    {
     "ename": "TypingError",
     "evalue": "Failed in nopython mode pipeline (step: nopython frontend)\nInternal error at resolving type of attribute \"childrenIdx\" of \"vbf_quarks_last\".\narray does not have a field with key 'childrenIdx'\n\n(https://github.com/scikit-hep/awkward-1.0/blob/1.10.3/src/awkward/_connect/_numba/layout.py#L339)\nDuring: typing of get attribute at /tmp/ipykernel_65981/1949024060.py (9)\nEnable logging at debug level for details.\n\nFile \"../../../../tmp/ipykernel_65981/1949024060.py\", line 9:\n<source missing, REPL/exec in use?>\n",
     "output_type": "error",
     "traceback": [
      "\u001b[0;31m---------------------------------------------------------------------------\u001b[0m",
      "\u001b[0;31mTypingError\u001b[0m                               Traceback (most recent call last)",
      "Cell \u001b[0;32mIn[15], line 1\u001b[0m\n\u001b[0;32m----> 1\u001b[0m \u001b[43manalyze_parton_from_vbf_quarks\u001b[49m\u001b[43m(\u001b[49m\u001b[43mvbf_quarks\u001b[49m\u001b[43m,\u001b[49m\u001b[43m \u001b[49m\u001b[43mgenpart\u001b[49m\u001b[43m)\u001b[49m\n",
      "File \u001b[0;32m/work/mmalucch/micromamba/envs/pocket-coffea/lib/python3.9/site-packages/numba/core/dispatcher.py:468\u001b[0m, in \u001b[0;36m_DispatcherBase._compile_for_args\u001b[0;34m(self, *args, **kws)\u001b[0m\n\u001b[1;32m    464\u001b[0m         msg \u001b[38;5;241m=\u001b[39m (\u001b[38;5;124mf\u001b[39m\u001b[38;5;124m\"\u001b[39m\u001b[38;5;132;01m{\u001b[39;00m\u001b[38;5;28mstr\u001b[39m(e)\u001b[38;5;241m.\u001b[39mrstrip()\u001b[38;5;132;01m}\u001b[39;00m\u001b[38;5;124m \u001b[39m\u001b[38;5;130;01m\\n\u001b[39;00m\u001b[38;5;130;01m\\n\u001b[39;00m\u001b[38;5;124mThis error may have been caused \u001b[39m\u001b[38;5;124m\"\u001b[39m\n\u001b[1;32m    465\u001b[0m                \u001b[38;5;124mf\u001b[39m\u001b[38;5;124m\"\u001b[39m\u001b[38;5;124mby the following argument(s):\u001b[39m\u001b[38;5;130;01m\\n\u001b[39;00m\u001b[38;5;132;01m{\u001b[39;00margs_str\u001b[38;5;132;01m}\u001b[39;00m\u001b[38;5;130;01m\\n\u001b[39;00m\u001b[38;5;124m\"\u001b[39m)\n\u001b[1;32m    466\u001b[0m         e\u001b[38;5;241m.\u001b[39mpatch_message(msg)\n\u001b[0;32m--> 468\u001b[0m     \u001b[43merror_rewrite\u001b[49m\u001b[43m(\u001b[49m\u001b[43me\u001b[49m\u001b[43m,\u001b[49m\u001b[43m \u001b[49m\u001b[38;5;124;43m'\u001b[39;49m\u001b[38;5;124;43mtyping\u001b[39;49m\u001b[38;5;124;43m'\u001b[39;49m\u001b[43m)\u001b[49m\n\u001b[1;32m    469\u001b[0m \u001b[38;5;28;01mexcept\u001b[39;00m errors\u001b[38;5;241m.\u001b[39mUnsupportedError \u001b[38;5;28;01mas\u001b[39;00m e:\n\u001b[1;32m    470\u001b[0m     \u001b[38;5;66;03m# Something unsupported is present in the user code, add help info\u001b[39;00m\n\u001b[1;32m    471\u001b[0m     error_rewrite(e, \u001b[38;5;124m'\u001b[39m\u001b[38;5;124munsupported_error\u001b[39m\u001b[38;5;124m'\u001b[39m)\n",
      "File \u001b[0;32m/work/mmalucch/micromamba/envs/pocket-coffea/lib/python3.9/site-packages/numba/core/dispatcher.py:409\u001b[0m, in \u001b[0;36m_DispatcherBase._compile_for_args.<locals>.error_rewrite\u001b[0;34m(e, issue_type)\u001b[0m\n\u001b[1;32m    407\u001b[0m     \u001b[38;5;28;01mraise\u001b[39;00m e\n\u001b[1;32m    408\u001b[0m \u001b[38;5;28;01melse\u001b[39;00m:\n\u001b[0;32m--> 409\u001b[0m     \u001b[38;5;28;01mraise\u001b[39;00m e\u001b[38;5;241m.\u001b[39mwith_traceback(\u001b[38;5;28;01mNone\u001b[39;00m)\n",
      "\u001b[0;31mTypingError\u001b[0m: Failed in nopython mode pipeline (step: nopython frontend)\nInternal error at resolving type of attribute \"childrenIdx\" of \"vbf_quarks_last\".\narray does not have a field with key 'childrenIdx'\n\n(https://github.com/scikit-hep/awkward-1.0/blob/1.10.3/src/awkward/_connect/_numba/layout.py#L339)\nDuring: typing of get attribute at /tmp/ipykernel_65981/1949024060.py (9)\nEnable logging at debug level for details.\n\nFile \"../../../../tmp/ipykernel_65981/1949024060.py\", line 9:\n<source missing, REPL/exec in use?>\n"
     ]
    }
   ],
   "source": [
    "analyze_parton_from_vbf_quarks(vbf_quarks, genpart)"
   ]
  },
  {
   "cell_type": "markdown",
   "metadata": {},
   "source": [
    "# Alternative approach"
   ]
  },
  {
   "cell_type": "code",
   "execution_count": null,
   "metadata": {},
   "outputs": [],
   "source": [
    "@njit\n",
    "def get_last_copy_vbf_quarks(\n",
    "    vbf_quarks_first_pdgId,\n",
    "    vbf_quarks_first_children_idx,\n",
    "    genpart_pdgId,\n",
    "    genpart_index,\n",
    "    genpart_isLastCopy,\n",
    "    genpart_children_idx,\n",
    "):\n",
    "    out = np.zeros((len(vbf_quarks_first_pdgId), 2), dtype=\"int64\")\n",
    "    for i in range(len(vbf_quarks_first_pdgId)):\n",
    "        vbf_quarks_first_pdgId_i = vbf_quarks_first_pdgId[i]\n",
    "        vbf_quarks_first_children_idx_i = vbf_quarks_first_children_idx[i]\n",
    "        genpart_pdgId_i = genpart_pdgId[i]\n",
    "        genpart_index_i = genpart_index[i]\n",
    "        genpart_isLastCopy_i = genpart_isLastCopy[i]\n",
    "        genpart_children_idx_i = genpart_children_idx[i]\n",
    "\n",
    "        for j in range(len(vbf_quarks_first_pdgId_i)):\n",
    "            vbf_quark_first_pdgId_j = vbf_quarks_first_pdgId_i[j]\n",
    "            vbf_quark_first_children_idx_j = vbf_quarks_first_children_idx_i[j]\n",
    "            genpart_pdgId_j = genpart_pdgId_i[vbf_quark_first_children_idx_j]\n",
    "            genpart_index_j = genpart_index_i[vbf_quark_first_children_idx_j]\n",
    "            genpart_isLastCopy_j = genpart_isLastCopy_i[vbf_quark_first_children_idx_j]\n",
    "            genpart_children_idx_j = genpart_children_idx_i[vbf_quark_first_children_idx_j]\n",
    "\n",
    "            while True:\n",
    "                print(genpart_pdgId_j, genpart_index_j, genpart_isLastCopy_j, genpart_children_idx_j)\n",
    "                if genpart_isLastCopy_j:\n",
    "                    break\n",
    "                genpart_pdgId_j = genpart_pdgId_i[genpart_children_idx_j]\n",
    "                genpart_index_j = genpart_index_i[genpart_children_idx_j]\n",
    "                genpart_isLastCopy_j = genpart_isLastCopy_i[genpart_children_idx_j]\n",
    "                genpart_children_idx_j = genpart_children_idx_i[genpart_children_idx_j]"
   ]
  },
  {
   "cell_type": "code",
   "execution_count": null,
   "metadata": {},
   "outputs": [
    {
     "name": "stdout",
     "output_type": "stream",
     "text": [
      "Events read: 10\n"
     ]
    }
   ],
   "source": [
    "filename =\"/pnfs/psi.ch/cms/trivcat/store/mc/Run3Summer22EENanoAODv12/VBFHHto4B_CV_1_C2V_1_C3_1_TuneCP5_13p6TeV_madgraph-pythia8/NANOAODSIM/130X_mcRun3_2022_realistic_postEE_v6-v3/80000/a897cbbf-ea0b-40d5-b850-f9f24a7906a5.root\"\n",
    "events = NanoEventsFactory.from_root(filename, schemaclass=NanoAODSchema, entry_stop=10).events()\n",
    "print(\"Events read:\", len(events))\n"
   ]
  },
  {
   "cell_type": "code",
   "execution_count": null,
   "metadata": {},
   "outputs": [
    {
     "name": "stdout",
     "output_type": "stream",
     "text": [
      "[[25, 25], [25, 25], [25, 25], [25, 25], ... [25, 25], [25, 25], [25, 25], [25, 25]] [[0, 0], [0, 0], [0, 0], [0, 0], [0, 0], [0, 0], [0, 0], [0, 0], [0, 0], [0, 0]]\n",
      "ak.local_index(events.GenPart, axis=1) [0, 1, 2, 3, 4, 5, 6, 7, 8, 9]\n"
     ]
    },
    {
     "ename": "ValueError",
     "evalue": "cannot mix jagged slice with NumPy-style advanced indexing\n\n(https://github.com/scikit-hep/awkward-1.0/blob/1.10.3/src/libawkward/array/ListArray.cpp#L1785)",
     "output_type": "error",
     "traceback": [
      "\u001b[0;31m---------------------------------------------------------------------------\u001b[0m",
      "\u001b[0;31mValueError\u001b[0m                                Traceback (most recent call last)",
      "Cell \u001b[0;32mIn[22], line 11\u001b[0m\n\u001b[1;32m      9\u001b[0m \u001b[38;5;28mprint\u001b[39m(\u001b[38;5;124m\"\u001b[39m\u001b[38;5;124mak.local_index(events.GenPart, axis=1)\u001b[39m\u001b[38;5;124m\"\u001b[39m, ak\u001b[38;5;241m.\u001b[39mlocal_index(events\u001b[38;5;241m.\u001b[39mGenPart, axis\u001b[38;5;241m=\u001b[39m\u001b[38;5;241m0\u001b[39m))\n\u001b[1;32m     10\u001b[0m events\u001b[38;5;241m.\u001b[39mGenPart\u001b[38;5;241m=\u001b[39mak\u001b[38;5;241m.\u001b[39mwith_field(events\u001b[38;5;241m.\u001b[39mGenPart, ak\u001b[38;5;241m.\u001b[39mlocal_index(events\u001b[38;5;241m.\u001b[39mGenPart, axis\u001b[38;5;241m=\u001b[39m\u001b[38;5;241m1\u001b[39m), \u001b[38;5;124m\"\u001b[39m\u001b[38;5;124mindex\u001b[39m\u001b[38;5;124m\"\u001b[39m)\n\u001b[0;32m---> 11\u001b[0m higgs_mother\u001b[38;5;241m=\u001b[39m\u001b[43mgenpart\u001b[49m\u001b[43m[\u001b[49m\u001b[43mak\u001b[49m\u001b[38;5;241;43m.\u001b[39;49m\u001b[43mlocal_index\u001b[49m\u001b[43m(\u001b[49m\u001b[43mevents\u001b[49m\u001b[38;5;241;43m.\u001b[39;49m\u001b[43mGenPart\u001b[49m\u001b[38;5;241;43m.\u001b[39;49m\u001b[43mpt\u001b[49m\u001b[43m,\u001b[49m\u001b[43m \u001b[49m\u001b[43maxis\u001b[49m\u001b[38;5;241;43m=\u001b[39;49m\u001b[38;5;241;43m0\u001b[39;49m\u001b[43m)\u001b[49m\u001b[43m,\u001b[49m\u001b[43m \u001b[49m\u001b[43mhiggs\u001b[49m\u001b[38;5;241;43m.\u001b[39;49m\u001b[43mgenPartIdxMother\u001b[49m\u001b[43m]\u001b[49m\n\u001b[1;32m     12\u001b[0m \u001b[38;5;28mprint\u001b[39m(higgs_mother\u001b[38;5;241m.\u001b[39mpdgId)\n\u001b[1;32m     13\u001b[0m higgs_mother_children\u001b[38;5;241m=\u001b[39mhiggs_mother\u001b[38;5;241m.\u001b[39mchildren\n",
      "File \u001b[0;32m/work/mmalucch/micromamba/envs/pocket-coffea/lib/python3.9/site-packages/awkward/highlevel.py:991\u001b[0m, in \u001b[0;36mArray.__getitem__\u001b[0;34m(self, where)\u001b[0m\n\u001b[1;32m    579\u001b[0m \u001b[38;5;250m\u001b[39m\u001b[38;5;124;03m\"\"\"\u001b[39;00m\n\u001b[1;32m    580\u001b[0m \u001b[38;5;124;03mArgs:\u001b[39;00m\n\u001b[1;32m    581\u001b[0m \u001b[38;5;124;03m    where (many types supported; see below): Index of positions to\u001b[39;00m\n\u001b[0;32m   (...)\u001b[0m\n\u001b[1;32m    988\u001b[0m \u001b[38;5;124;03mhave the same dimension as the array being indexed.\u001b[39;00m\n\u001b[1;32m    989\u001b[0m \u001b[38;5;124;03m\"\"\"\u001b[39;00m\n\u001b[1;32m    990\u001b[0m \u001b[38;5;28;01mif\u001b[39;00m \u001b[38;5;129;01mnot\u001b[39;00m \u001b[38;5;28mhasattr\u001b[39m(\u001b[38;5;28mself\u001b[39m, \u001b[38;5;124m\"\u001b[39m\u001b[38;5;124m_tracers\u001b[39m\u001b[38;5;124m\"\u001b[39m):\n\u001b[0;32m--> 991\u001b[0m     tmp \u001b[38;5;241m=\u001b[39m ak\u001b[38;5;241m.\u001b[39m_util\u001b[38;5;241m.\u001b[39mwrap(\u001b[38;5;28;43mself\u001b[39;49m\u001b[38;5;241;43m.\u001b[39;49m\u001b[43mlayout\u001b[49m\u001b[43m[\u001b[49m\u001b[43mwhere\u001b[49m\u001b[43m]\u001b[49m, \u001b[38;5;28mself\u001b[39m\u001b[38;5;241m.\u001b[39m_behavior)\n\u001b[1;32m    992\u001b[0m \u001b[38;5;28;01melse\u001b[39;00m:\n\u001b[1;32m    993\u001b[0m     tmp \u001b[38;5;241m=\u001b[39m ak\u001b[38;5;241m.\u001b[39m_connect\u001b[38;5;241m.\u001b[39m_jax\u001b[38;5;241m.\u001b[39mjax_utils\u001b[38;5;241m.\u001b[39m_jaxtracers_getitem(\u001b[38;5;28mself\u001b[39m, where)\n",
      "\u001b[0;31mValueError\u001b[0m: cannot mix jagged slice with NumPy-style advanced indexing\n\n(https://github.com/scikit-hep/awkward-1.0/blob/1.10.3/src/libawkward/array/ListArray.cpp#L1785)"
     ]
    }
   ],
   "source": [
    "events.GenPart=ak.with_field(events.GenPart, ak.local_index(events.GenPart, axis=1), \"index\")\n",
    "genpart= events.GenPart\n",
    "isFirst = genpart.hasFlags([\"isFirstCopy\"])\n",
    "isHard = genpart.hasFlags([\"fromHardProcess\"])\n",
    "isHiggs = genpart.pdgId == 25\n",
    "\n",
    "higgs=(genpart[isHiggs & isHard & isFirst])#[:,0]\n",
    "print(higgs.pdgId, higgs.genPartIdxMother)\n",
    "print(\"ak.local_index(events.GenPart, axis=1)\", ak.local_index(events.GenPart, axis=0))\n",
    "events.GenPart=ak.with_field(events.GenPart, ak.local_index(events.GenPart, axis=1), \"index\")\n",
    "higgs_mother=genpart[ak.local_index(events.GenPart.pt, axis=0), higgs.genPartIdxMother]\n",
    "print(higgs_mother.pdgId)\n",
    "higgs_mother_children=higgs_mother.children\n",
    "print(higgs_mother_children.pdgId)\n",
    "higgs_mother_children_isQuark = abs(higgs_mother_children.pdgId) < 7\n",
    "print(higgs_mother_children_isQuark)\n",
    "vbf_quarks_first=higgs_mother_children[higgs_mother_children_isQuark]\n",
    "print(vbf_quarks_first.pdgId)\n",
    "print(vbf_quarks_first.children.index, len(vbf_quarks_first.children.pdgId))\n",
    "\n",
    "\n",
    "genparts_offsets = ak.concatenate([[0],np.cumsum(ak.to_numpy(ak.num(genpart, axis=1), allow_missing=True))])\n",
    "print(genparts_offsets)\n",
    "print(vbf_quarks_first.childrenIdxG)\n",
    "vbf_quarks_first_children_idx_flat=ak.flatten(vbf_quarks_first.childrenIdxG, axis=-1)+genparts_offsets[:-1]\n",
    "print(vbf_quarks_first_children_idx_flat)\n",
    "\n",
    "\n",
    "\n",
    "\n",
    "\n",
    "# genparts_flat = ak.flatten(genpart)\n",
    "\n",
    "\n",
    "# print(\"genparts_flat\", genparts_flat)\n",
    "# print(genparts_offsets)\n",
    "\n",
    "# print(vbf_quarks_first_children_idx_flat)\n",
    "\n",
    "# vbf_quarks_first_pdgId = ak.without_parameters(vbf_quarks_first.pdgId, behavior={})\n",
    "# vbf_quarks_first_children_idx = ak.without_parameters(\n",
    "#     vbf_quarks_first.children.index, behavior={}\n",
    "# )\n",
    "# genpart_pdgId = ak.without_parameters(genpart.pdgId, behavior={})\n",
    "# genpart_index = ak.without_parameters(genpart.index, behavior={})\n",
    "# genpart_isLastCopy = ak.without_parameters(\n",
    "#     genpart.hasFlags([\"isLastCopy\"]), behavior={}\n",
    "# )\n",
    "# genpart_children_idx = ak.without_parameters(genpart.children.index, behavior={})\n",
    "\n",
    "# get_last_copy_vbf_quarks(\n",
    "#     vbf_quarks_first_pdgId,\n",
    "#     vbf_quarks_first_children_idx,\n",
    "#     genpart_pdgId,\n",
    "#     genpart_index,\n",
    "#     genpart_isLastCopy,\n",
    "#     genpart_children_idx,\n",
    "# )"
   ]
  },
  {
   "cell_type": "markdown",
   "metadata": {},
   "source": [
    "number of quarks in the event"
   ]
  },
  {
   "cell_type": "code",
   "execution_count": null,
   "metadata": {},
   "outputs": [
    {
     "name": "stdout",
     "output_type": "stream",
     "text": [
      "[[GenParticle, GenParticle, GenParticle, ... GenParticle, GenParticle, GenParticle]]\n"
     ]
    },
    {
     "data": {
      "text/plain": [
       "(array([ 0.,  0.,  0.,  0.,  0., 20.,  0.,  0.,  1.,  1.,  0.,  9., 11.,\n",
       "         3.,  3., 20.,  0.,  0.,  0.,  0.]),\n",
       " array([-10.,  -9.,  -8.,  -7.,  -6.,  -5.,  -4.,  -3.,  -2.,  -1.,   0.,\n",
       "          1.,   2.,   3.,   4.,   5.,   6.,   7.,   8.,   9.,  10.]),\n",
       " [<matplotlib.patches.Polygon at 0x7f89a10e4a00>])"
      ]
     },
     "execution_count": 21,
     "metadata": {},
     "output_type": "execute_result"
    },
    {
     "data": {
      "image/png": "[encoded data removed]",
      "text/plain": [
       "<Figure size 640x480 with 1 Axes>"
      ]
     },
     "metadata": {},
     "output_type": "display_data"
    },
    {
     "data": {
      "image/png": "[encoded data removed]",
      "text/plain": [
       "<Figure size 640x480 with 1 Axes>"
      ]
     },
     "metadata": {},
     "output_type": "display_data"
    }
   ],
   "source": [
    "quarks = events.GenPart[(abs(events.GenPart.pdgId) < 7) & (events.GenPart.hasFlags([\"isLastCopy\"])) & (events.GenPart.hasFlags([\"fromHardProcess\"]))]\n",
    "print(quarks)\n",
    "num_quarks = ak.num(quarks, axis=1)\n",
    "plt.hist(num_quarks, bins=10, range=(0, 10))\n",
    "#plot pdgId of the quarks\n",
    "plt.figure()\n",
    "plt.hist(ak.flatten(quarks.pdgId), bins=20, range=(-10,10), histtype='step', label='quark')"
   ]
  },
  {
   "cell_type": "code",
   "execution_count": null,
   "metadata": {},
   "outputs": [],
   "source": []
  }
 ],
 "metadata": {
  "kernelspec": {
   "display_name": "Python 3",
   "language": "python",
   "name": "python3"
  },
  "language_info": {
   "codemirror_mode": {
    "name": "ipython",
    "version": 3
   },
   "file_extension": ".py",
   "mimetype": "text/x-python",
   "name": "python",
   "nbconvert_exporter": "python",
   "pygments_lexer": "ipython3",
   "version": "3.9.18"
  }
 },
 "nbformat": 4,
 "nbformat_minor": 2
}
