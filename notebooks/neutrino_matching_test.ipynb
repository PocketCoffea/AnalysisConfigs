{
 "cells": [
  {
   "cell_type": "code",
   "execution_count": 1,
   "metadata": {},
   "outputs": [],
   "source": [
    "from coffea.nanoevents import NanoEventsFactory, NanoAODSchema\n",
    "import awkward as ak\n",
    "import matplotlib.pyplot as plt\n",
    "from pocket_coffea.lib.deltaR_matching import object_matching, deltaR_matching_nonunique\n",
    "import vector\n",
    "import math\n",
    "import numpy as np\n",
    "vector.register_awkward()"
   ]
  },
  {
   "cell_type": "code",
   "execution_count": 33,
   "metadata": {},
   "outputs": [
    {
     "name": "stdout",
     "output_type": "stream",
     "text": [
      "Events read: 84101\n"
     ]
    }
   ],
   "source": [
    "filename = \"root://xrootd-cms.infn.it//store/mc/Run3Summer22NanoAODv12/QCD_PT-15_TuneCP5_Flat2018_13p6TeV_pythia8/NANOAODSIM/JMENano12p5_132X_mcRun3_2022_realistic_v3-v2/70000/1a3d12b4-15b7-415c-a25a-df0e81f71648.root\"\n",
    "events = NanoEventsFactory.from_root(filename, schemaclass=NanoAODSchema, entry_stop=2000000).events()\n",
    "print(\"Events read:\", len(events))"
   ]
  },
  {
   "cell_type": "code",
   "execution_count": 34,
   "metadata": {},
   "outputs": [
    {
     "name": "stdout",
     "output_type": "stream",
     "text": [
      "[[], [], [], [], [], [], [], [1.62], ... -1.72], [1.09], [], [], [], [], [2.32]] [[], [], [], [], [], [], [], [-0.181, ... -2.72], [-0.143], [], [], [], [], [-0.213]] [[], [], [], [], [], [], [], [1.63], ... 5.86, 1.26], [86.5], [], [], [], [], [9.09]]\n",
      "[298, 126, -408, -18.3, -2.79, -10.9, 10.8]\n"
     ]
    }
   ],
   "source": [
    "neutrinos=events.GenPart[(abs(events.GenPart.pdgId)==12) | (abs(events.GenPart.pdgId)==14) |(abs(events.GenPart.pdgId)==16)]\n",
    "gen_jet=events.GenJet\n",
    "print(neutrinos.phi, neutrinos.eta, neutrinos.pt)\n",
    "print(gen_jet.px[-3])"
   ]
  },
  {
   "cell_type": "code",
   "execution_count": 35,
   "metadata": {},
   "outputs": [],
   "source": [
    "neutrinos_matched = deltaR_matching_nonunique(\n",
    "                    gen_jet, neutrinos, 0.4 # 0.4\n",
    "                )"
   ]
  },
  {
   "cell_type": "code",
   "execution_count": 36,
   "metadata": {},
   "outputs": [
    {
     "name": "stdout",
     "output_type": "stream",
     "text": [
      "[[], [], [], [], [], [], []] [[], [], [], [], [], [], []]\n",
      "[1.52, -1.55, -2.42, -2.22, -1.8, -2.84, 0.113] [0.0827, -0.0371, -0.245, 0.217, 0.814, 0.389, -1.78]\n"
     ]
    }
   ],
   "source": [
    "print(neutrinos_matched[-3].phi, neutrinos_matched[-3].eta)\n",
    "print(gen_jet[-3].phi, gen_jet[-3].eta)"
   ]
  },
  {
   "cell_type": "code",
   "execution_count": 37,
   "metadata": {},
   "outputs": [
    {
     "name": "stdout",
     "output_type": "stream",
     "text": [
      "[]\n",
      "[[], [], [], [], [], [], []]\n",
      "0\n",
      "[]\n",
      "0 -3 -1\n",
      "1 1 -1\n",
      "2 -3 0\n",
      "3 1 0\n",
      "4 3 2\n",
      "5 21 2\n",
      "6 21 2\n",
      "7 21 2\n",
      "8 21 2\n",
      "9 -3 2\n",
      "10 2 -1\n",
      "11 21 -1\n",
      "12 -2 -1\n",
      "13 1 3\n",
      "14 21 3\n",
      "15 21 3\n",
      "16 21 3\n",
      "17 21 3\n",
      "18 21 3\n",
      "19 21 3\n",
      "20 21 3\n",
      "21 21 3\n",
      "22 -1 3\n",
      "23 331 3\n",
      "24 111 3\n",
      "25 221 3\n",
      "26 111 3\n",
      "27 111 3\n",
      "28 111 3\n",
      "29 221 3\n",
      "30 1 3\n",
      "31 21 3\n",
      "32 21 2\n",
      "33 21 2\n",
      "34 21 2\n",
      "35 21 2\n",
      "36 21 2\n",
      "37 21 2\n",
      "38 21 2\n",
      "39 21 2\n",
      "40 21 2\n",
      "41 21 2\n",
      "42 -3 2\n",
      "43 111 2\n",
      "44 111 2\n",
      "45 111 4\n",
      "46 111 3\n",
      "47 111 3\n",
      "48 22 23\n",
      "49 22 24\n",
      "50 22 24\n",
      "51 111 3\n",
      "52 22 25\n",
      "53 22 26\n",
      "54 22 26\n",
      "55 22 27\n",
      "56 22 27\n",
      "57 22 28\n",
      "58 22 29\n",
      "59 22 29\n",
      "60 22 43\n",
      "61 22 44\n",
      "62 22 45\n",
      "63 22 45\n",
      "64 11 10\n",
      "65 -11 10\n",
      "66 22 46\n",
      "67 22 46\n",
      "68 22 47\n",
      "69 22 51\n"
     ]
    }
   ],
   "source": [
    "print(gen_jet.metric_table(neutrinos)[-3][2])\n",
    "print(gen_jet.metric_table(neutrinos)[-3])\n",
    "print(gen_jet[-3][2].hadronFlavour)\n",
    "neutrino_mother=events.GenPart[neutrinos.genPartIdxMother].pdgId\n",
    "print(neutrino_mother[-3])\n",
    "for num, gen_part in enumerate(events.GenPart[-3]):\n",
    "    print(num, gen_part.pdgId, gen_part.genPartIdxMother)"
   ]
  },
  {
   "cell_type": "markdown",
   "metadata": {},
   "source": [
    "sum the quadrivector of the neutrinos"
   ]
  },
  {
   "cell_type": "code",
   "execution_count": 38,
   "metadata": {},
   "outputs": [
    {
     "name": "stdout",
     "output_type": "stream",
     "text": [
      "[0, 0, 0, 0, 0, 0, 0, -0.0757, 0, 0, 0, ... 0, 0, 0, 0, -0.595, 40, 0, 0, 0, 0, -6.2]\n",
      "[-0.0757]\n",
      "[]\n"
     ]
    }
   ],
   "source": [
    "print(ak.sum(neutrinos.px, axis=-1))\n",
    "print(neutrinos[7].px)\n",
    "print(neutrinos[-3].px)\n",
    "# print(ak.sum(neutrinos, axis=-2))\n",
    "# print(neutrinos[:,0]+neutrinos[:,1])"
   ]
  },
  {
   "cell_type": "code",
   "execution_count": 39,
   "metadata": {},
   "outputs": [
    {
     "name": "stdout",
     "output_type": "stream",
     "text": [
      "[[0, 0, 0, 0, 0, 0], [0, 0, 0, 0, 0, ... 0, 0, -6.2, 0, 0, 0, 0, 0, 0, 0, 0, 0, 0]] 84101 6 7\n",
      "[[0, 0, 0, 0, 0, 0], [0, 0, 0, 0, 0, ... 0, 0, 9.09, 0, 0, 0, 0, 0, 0, 0, 0, 0, 0]] 84101 6 7\n",
      "84101 6\n",
      "[0, 0, 0, 0, 0, 0, 0]\n",
      "[0, 0, 0, 0, 0, 0, 0]\n",
      "\n",
      "neutrino_sum\n",
      "[0, 0, 0, 0, 0, 0, 0]\n",
      "[0, 0, 0, 0, 0, 0, 0]\n",
      "[0, 0, 0, 0, 0, 0, 0]\n",
      "[0, 0, 0, 0, 0, 0, 0]\n",
      "[0, 0, 0, 0, 0, 0, 0]\n",
      "[0, 0, 0, 0, 0, 0, 0]\n",
      "{px: 0, py: 0, pz: 0, E: 0}\n",
      "\n",
      "neutrino_sum_4vec\n",
      "[0, 0, 0, 0, 0, 0, 0]\n",
      "[0, 0, 0, 0, 0, 0, 0]\n",
      "[0, 0, 0, 0, 0, 0, 0]\n",
      "[0, 0, 0, 0, 0, 0, 0]\n",
      "[0, 0, 0, 0, 0, 0, 0]\n",
      "[0, 0, 0, 0, 0, 0, 0]\n",
      "{pt: 0, eta: 0, phi: 0, mass: 0}\n"
     ]
    },
    {
     "name": "stderr",
     "output_type": "stream",
     "text": [
      "/work/mmalucch/micromamba/envs/pocket-coffea/lib/python3.9/site-packages/awkward/_connect/_numpy.py:195: RuntimeWarning: invalid value encountered in divide\n",
      "  result = getattr(ufunc, method)(\n",
      "/work/mmalucch/micromamba/envs/pocket-coffea/lib/python3.9/site-packages/awkward/_connect/_numpy.py:195: RuntimeWarning: invalid value encountered in sqrt\n",
      "  result = getattr(ufunc, method)(\n"
     ]
    }
   ],
   "source": [
    "neutrinos_px = ak.sum(neutrinos_matched.px, axis=-1)\n",
    "neutrinos_py = ak.sum(neutrinos_matched.py, axis=-1)\n",
    "neutrinos_pz = ak.sum(neutrinos_matched.pz, axis=-1)\n",
    "neutrinos_e = ak.sum(neutrinos_matched.energy, axis=-1)\n",
    "print(neutrinos_px, len(neutrinos_px), len(neutrinos_px[0]), len(neutrinos_px[1]))\n",
    "\n",
    "# COMPUTE PT, ETA, PHI, MASS\n",
    "neutrinos_pt = np.sqrt(neutrinos_px**2 + neutrinos_py**2)\n",
    "print(neutrinos_pt, len(neutrinos_pt), len(neutrinos_pt[0]), len(neutrinos_pt[1]))\n",
    "# neutrinos_eta = np.arcsinh(neutrinos_pz/neutrinos_pt)\n",
    "neutrinos_eta = np.arctanh(neutrinos_pz/np.sqrt(neutrinos_pt**2 + neutrinos_pz**2))\n",
    "neutrinos_phi = np.arctan2(neutrinos_py, neutrinos_px)\n",
    "neutrinos_mass = np.sqrt(neutrinos_e**2 - neutrinos_px**2 - neutrinos_py**2 - neutrinos_pz**2)\n",
    "\n",
    "neutrinos_pt=ak.nan_to_num(neutrinos_pt, nan=0)\n",
    "neutrinos_eta=ak.nan_to_num(neutrinos_eta, nan=0)\n",
    "neutrinos_phi=ak.nan_to_num(neutrinos_phi, nan=0)\n",
    "neutrinos_mass=ak.nan_to_num(neutrinos_mass, nan=0)\n",
    "\n",
    "print(len(neutrinos_px), len(neutrinos_px[0]))\n",
    "print(neutrinos_e[-3])\n",
    "print(neutrinos_e[-3])\n",
    "\n",
    "neutrino_sum = ak.zip(\n",
    "    {\"px\": neutrinos_px, \"py\": neutrinos_py, \"pz\": neutrinos_pz, \"E\": neutrinos_e},\n",
    "    with_name=\"Momentum4D\",\n",
    ")\n",
    "neutrino_sum_4vec=ak.zip(\n",
    "    {\"pt\": neutrinos_pt, \"eta\": neutrinos_eta, \"phi\": neutrinos_phi, \"mass\": neutrinos_mass},\n",
    "    with_name=\"PtEtaPhiMLorentzVector\",\n",
    ")\n",
    "print(\"\\nneutrino_sum\")\n",
    "print(neutrino_sum[-3].mass)\n",
    "print(neutrino_sum[-3].E)\n",
    "print(neutrino_sum[-3].pt)\n",
    "print(neutrino_sum[-3].phi)\n",
    "print(neutrino_sum[-3].eta)\n",
    "print(neutrino_sum[-3].px)\n",
    "print(neutrino_sum[-3][2])\n",
    "\n",
    "print(\"\\nneutrino_sum_4vec\")\n",
    "print(neutrino_sum_4vec[-3].mass)\n",
    "print(neutrino_sum_4vec[-3].E)\n",
    "print(neutrino_sum_4vec[-3].pt)\n",
    "print(neutrino_sum_4vec[-3].phi)\n",
    "print(neutrino_sum_4vec[-3].eta)\n",
    "print(neutrino_sum_4vec[-3].px)\n",
    "print(neutrino_sum_4vec[-3][2])"
   ]
  },
  {
   "cell_type": "code",
   "execution_count": 40,
   "metadata": {},
   "outputs": [
    {
     "name": "stdout",
     "output_type": "stream",
     "text": [
      "[{px: 0, py: 0, pz: 0, E: 0}, {px: 0, py: 0, pz: 0, ... {px: 0, py: 0, pz: 0, E: 0}] 7 2943188\n",
      "[[], [], [], [], [], [], []] 7 184137\n",
      "[{nConstituents: 41, eta: 0.0827, mass: 161, ... hadronFlavour: 0, partonFlavour: 2}] 84101 5150579\n"
     ]
    }
   ],
   "source": [
    "print(neutrino_sum[-3], len(neutrino_sum[-3]), ak.count(neutrino_sum))\n",
    "print(neutrinos_matched[-3], len(neutrinos_matched[-3]), ak.count(neutrinos_matched))\n",
    "print(gen_jet[-3], len(gen_jet), ak.count(gen_jet))"
   ]
  },
  {
   "cell_type": "markdown",
   "metadata": {},
   "source": [
    "sum four vectors of the neutrinos and the gen jet matched to them"
   ]
  },
  {
   "cell_type": "code",
   "execution_count": 41,
   "metadata": {},
   "outputs": [
    {
     "name": "stdout",
     "output_type": "stream",
     "text": [
      "[298, 126, -408, -18.3, -2.79, -10.9, 10.8]\n",
      "[6.49e+03, -6.09e+03, -357, -24.2, -12.2, -3.36, 1.23]\n",
      "[6.5e+03, 6.09e+03, 543, 30.4, 12.5, 11.4, 10.9]\n",
      "gen_jet.pt 542.7500610351562\n",
      "gen_jet.px -408.4928283691406\n",
      "gen_jet.py -357.36712646484375\n",
      "[0, 0, 0, 0, 0, 0, 0]\n",
      "[0, 0, 0, 0, 0, 0, 0]\n",
      "gen_jet_neutrino.pt [6.5e+03, 6.09e+03, 543, 30.4, 12.5, 11.4, 10.9] 542.7500610351562\n",
      "gen_jet_neutrino.px [298, 126, -408, -18.3, -2.79, -10.9, 10.8] -408.4928283691406\n"
     ]
    }
   ],
   "source": [
    "gen_jet_neutrino_px =gen_jet.px + neutrino_sum.px\n",
    "gen_jet_neutrino_py =gen_jet.py + neutrino_sum.py\n",
    "gen_jet_neutrino_pz =gen_jet.pz + neutrino_sum.pz\n",
    "gen_jet_neutrino_e =gen_jet.energy + neutrino_sum.E\n",
    "gen_jet_neutrino_pt=np.sqrt(gen_jet_neutrino_px**2+gen_jet_neutrino_py**2)\n",
    "print(gen_jet_neutrino_px[-3])\n",
    "print(gen_jet_neutrino_py[-3])\n",
    "print(gen_jet_neutrino_pt[-3])\n",
    "\n",
    "# neutrino_sum_4vec=ak.with_name(neutrino_sum, \"PtEtaPhiMCollection\")\n",
    "# print(neutrino_sum_4vec)\n",
    "# print(neutrino_sum)\n",
    "\n",
    "\n",
    "# gen_jet_neutrino = ak.zip(\n",
    "#     {\"px\": gen_jet_neutrino_px, \"py\": gen_jet_neutrino_py, \"pz\": gen_jet_neutrino_pz, \"E\": gen_jet_neutrino_e},\n",
    "#     with_name=\"Momentum4D\",\n",
    "# )\n",
    "gen_jet_neutrino = ak.with_field(gen_jet, gen_jet_neutrino_px, \"px\")\n",
    "gen_jet_neutrino = ak.with_field(gen_jet_neutrino, gen_jet_neutrino_py, \"py\")\n",
    "gen_jet_neutrino = ak.with_field(gen_jet_neutrino, gen_jet_neutrino_pz, \"pz\")\n",
    "gen_jet_neutrino = ak.with_field(gen_jet_neutrino, gen_jet_neutrino_e, \"E\")\n",
    "gen_jet_neutrino = ak.with_field(gen_jet_neutrino, np.sqrt(gen_jet_neutrino_px**2+gen_jet_neutrino_py**2), \"pt\")\n",
    "\n",
    "\n",
    "\n",
    "print(\"gen_jet.pt\",gen_jet.pt[-3][2])\n",
    "print(\"gen_jet.px\",gen_jet.px[-3][2])\n",
    "print(\"gen_jet.py\",gen_jet.py[-3][2])\n",
    "print(neutrino_sum.px[-3])\n",
    "print(neutrino_sum.pt[-3])\n",
    "# print(gen_jet_neutrino_px[-3], len(gen_jet_neutrino_px), ak.count(gen_jet_neutrino_px))\n",
    "# print(gen_jet.px[7], gen_jet.px[7][1])\n",
    "# print(neutrino_sum.px[7])\n",
    "# print(gen_jet_neutrino_px[7], len(gen_jet_neutrino_px), ak.count(gen_jet_neutrino_px))\n",
    "# print(gen_jet_neutrino_px[7][1])\n",
    "# print(gen_jet_neutrino[-3][2], len(gen_jet_neutrino[-3]), ak.count(gen_jet_neutrino))\n",
    "print(\"gen_jet_neutrino.pt\",gen_jet_neutrino.pt[-3], gen_jet_neutrino.pt[-3][2])\n",
    "print(\"gen_jet_neutrino.px\",gen_jet_neutrino.px[-3], gen_jet_neutrino.px[-3][2])"
   ]
  },
  {
   "cell_type": "code",
   "execution_count": 42,
   "metadata": {},
   "outputs": [
    {
     "name": "stdout",
     "output_type": "stream",
     "text": [
      "929.5332161897175\n",
      "1174.872333489899\n",
      "1158.426519033469\n",
      "6261.830083929139\n"
     ]
    }
   ],
   "source": [
    "print(math.sqrt(1119**2-623**2))\n",
    "print(math.sqrt(974**2+657**2))\n",
    "print(math.sqrt(976**2+624**2))\n",
    "print(math.sqrt(804**2+6210**2))\n"
   ]
  },
  {
   "cell_type": "code",
   "execution_count": 43,
   "metadata": {},
   "outputs": [
    {
     "name": "stdout",
     "output_type": "stream",
     "text": [
      "gen_jet[-3].pt [6.5e+03, 6.09e+03, 543, 30.4, 12.5, 11.4, 10.9] 542.7500610351562\n",
      "gen_jet[-3].px [298, 126, -408, -18.3, -2.79, -10.9, 10.8] -408.49282158436375\n",
      "gen_jet[-3].py [6.49e+03, -6.09e+03, -357, -24.2, -12.2, -3.36, 1.23] -357.36709902803165\n",
      "neutrino_sum_4vec[-3].pt [0, 0, 0, 0, 0, 0, 0] 0.0\n",
      "neutrino_sum_4vec[-3].px [0, 0, 0, 0, 0, 0, 0] 0.0\n",
      "neutrino_sum_4vec[-3].py [0, 0, 0, 0, 0, 0, 0] 0.0\n",
      "gen_jet_neutrino_4vec[-3].pt [6.5e+03, 6.09e+03, 543, 30.4, 12.5, 11.4, 10.9] 542.7500842070499\n",
      "gen_jet_neutrino_4vec[-3].px [298, 126, -408, -18.3, -2.79, -10.9, 10.8] -408.4928283691406\n",
      "gen_jet_neutrino_4vec[-3].py [6.49e+03, -6.09e+03, -357, -24.2, -12.2, -3.36, 1.23] -357.36712646484375\n",
      "[[0, 3.08, 2.36, 2.54, 3.05, 1.94, 2.34], ... 2.34, 2.41, 2.97, 3.07, 3.22, 3.67, 0]]\n"
     ]
    }
   ],
   "source": [
    "gen_jet_neutrino_4vec=gen_jet+neutrino_sum_4vec\n",
    "print(\"gen_jet[-3].pt\", gen_jet[-3].pt, gen_jet[-3][2].pt)\n",
    "print(\"gen_jet[-3].px\", gen_jet[-3].px, gen_jet[-3][2].px)\n",
    "print(\"gen_jet[-3].py\", gen_jet[-3].py, gen_jet[-3][2].py)\n",
    "print(\"neutrino_sum_4vec[-3].pt\", neutrino_sum_4vec[-3].pt, neutrino_sum_4vec[-3][2].pt)\n",
    "print(\"neutrino_sum_4vec[-3].px\", neutrino_sum_4vec[-3].px, neutrino_sum_4vec[-3][2].px)\n",
    "print(\"neutrino_sum_4vec[-3].py\", neutrino_sum_4vec[-3].py, neutrino_sum_4vec[-3][2].py)\n",
    "print(\"gen_jet_neutrino_4vec[-3].pt\", gen_jet_neutrino_4vec[-3].pt, gen_jet_neutrino_4vec[-3][2].pt)\n",
    "print(\"gen_jet_neutrino_4vec[-3].px\", gen_jet_neutrino_4vec[-3].px, gen_jet_neutrino_4vec[-3][2].px)\n",
    "print(\"gen_jet_neutrino_4vec[-3].py\", gen_jet_neutrino_4vec[-3].py, gen_jet_neutrino_4vec[-3][2].py)\n",
    "print(gen_jet_neutrino_4vec.metric_table(gen_jet_neutrino_4vec)[-3])\n"
   ]
  },
  {
   "cell_type": "code",
   "execution_count": 44,
   "metadata": {},
   "outputs": [
    {
     "name": "stdout",
     "output_type": "stream",
     "text": [
      "[[4, 0, 4, 0, 0, 0], [0, 0, 0, 0, 0, 0, ... 0, 0, 4, 0, 0, 5, 0, 0, 0, 0, 0, 0, 0]]\n",
      "[6.5e+03, 6.09e+03, 543, 30.4, 12.5, 11.4, 10.9] 542.7500610351562\n",
      "[298, 126, -408, -18.3, -2.79, -10.9, 10.8] -408.4928283691406\n",
      "[[4, 0, 4, 0, 0, 0], [0, 0, 0, 0, 0, 0, ... 0, 0, 4, 0, 0, 5, 0, 0, 0, 0, 0, 0, 0]]\n",
      "[298, 126, -408, -18.3, -2.79, -10.9, 10.8] -408.4928283691406\n",
      "[6.49e+03, -6.09e+03, -357, -24.2, -12.2, -3.36, 1.23] -357.36712646484375\n",
      "[6.5e+03, 6.09e+03, 543, 30.4, 12.5, 11.4, 10.9] 542.7500610351562\n",
      "[6.63e+03, 5.88e+03, 569, 22.5, 10.8, 9.17, 2.77] 569.0\n"
     ]
    }
   ],
   "source": [
    "print(gen_jet.hadronFlavour)\n",
    "print(gen_jet.pt[-3], gen_jet.pt[-3][2])\n",
    "print(gen_jet.px[-3], gen_jet.px[-3][2])\n",
    "\n",
    "\n",
    "gen_jet_neutrino_4vec_tot=ak.with_field(gen_jet, gen_jet_neutrino_4vec.pt, \"pt\")\n",
    "gen_jet_neutrino_4vec_tot=ak.with_field(gen_jet_neutrino_4vec_tot, gen_jet_neutrino_4vec.eta, \"eta\")\n",
    "gen_jet_neutrino_4vec_tot=ak.with_field(gen_jet_neutrino_4vec_tot, gen_jet_neutrino_4vec.phi, \"phi\")\n",
    "gen_jet_neutrino_4vec_tot=ak.with_field(gen_jet_neutrino_4vec_tot, gen_jet_neutrino_4vec.mass, \"mass\")\n",
    "\n",
    "print(gen_jet_neutrino_4vec_tot.hadronFlavour   )\n",
    "print(gen_jet_neutrino_4vec_tot.px[-3], gen_jet_neutrino_4vec_tot.px[-3][2])\n",
    "print(gen_jet_neutrino_4vec_tot.py[-3], gen_jet_neutrino_4vec_tot.py[-3][2])\n",
    "print(gen_jet_neutrino_4vec_tot.pt[-3], gen_jet_neutrino_4vec_tot.pt[-3][2])\n",
    "print(events.Jet.pt[-3], events.Jet.pt[-3][2])"
   ]
  },
  {
   "cell_type": "code",
   "execution_count": 45,
   "metadata": {},
   "outputs": [],
   "source": [
    "GenJetMatched,JetMatched,deltaR_matched=object_matching(gen_jet_neutrino_4vec_tot, events.Jet, 0.2)"
   ]
  },
  {
   "cell_type": "code",
   "execution_count": 46,
   "metadata": {},
   "outputs": [
    {
     "name": "stdout",
     "output_type": "stream",
     "text": [
      "[6.5e+03, 6.09e+03, 543, 30.4, 10.9, 12.5, None] 542.7500610351562\n",
      "[6.63e+03, 5.88e+03, 569, 22.5, 10.8, 9.17, None] 569.0\n",
      "[0.0038, 0.00256, 0.00862, 0.0249, 0.0811, 0.101, None] 0.008618717081844807\n"
     ]
    }
   ],
   "source": [
    "print(GenJetMatched.pt[-3], GenJetMatched.pt[-3][2])\n",
    "print(JetMatched.pt[-3], JetMatched.pt[-3][2])\n",
    "print(deltaR_matched[-3], deltaR_matched[-3][2])"
   ]
  },
  {
   "cell_type": "code",
   "execution_count": 47,
   "metadata": {},
   "outputs": [],
   "source": [
    "JetMatched=ak.with_field(JetMatched,JetMatched.pt*(1-JetMatched.rawFactor)*JetMatched.PNetRegPtRawCorr, \"ptPNet\")\n",
    "JetMatched=ak.with_field(JetMatched,JetMatched.pt*(1-JetMatched.rawFactor)*JetMatched.PNetRegPtRawCorr*JetMatched.PNetRegPtRawCorrNeutrino, \"ptPNetNeutrino\")"
   ]
  },
  {
   "cell_type": "code",
   "execution_count": 48,
   "metadata": {},
   "outputs": [
    {
     "name": "stdout",
     "output_type": "stream",
     "text": [
      "[6.63e+03, 5.88e+03, 569, 22.5, 10.8, 9.17, None] 569.0\n",
      "[6.62e+03, 5.93e+03, 583, 25.3, 0, 0, None] 582.7716674804688\n",
      "[6.7e+03, 5.86e+03, 582, 25.5, 0, 0, None] 581.91796875\n"
     ]
    }
   ],
   "source": [
    "print(JetMatched.pt[-3], JetMatched.pt[-3][2])\n",
    "print(JetMatched.ptPNet[-3], JetMatched.ptPNet[-3][2])\n",
    "print(JetMatched.ptPNetNeutrino[-3], JetMatched.ptPNetNeutrino[-3][2])"
   ]
  },
  {
   "cell_type": "code",
   "execution_count": 50,
   "metadata": {},
   "outputs": [
    {
     "data": {
      "text/plain": [
       "<matplotlib.legend.Legend at 0x7f384b40a7f0>"
      ]
     },
     "execution_count": 50,
     "metadata": {},
     "output_type": "execute_result"
    },
    {
     "data": {
      "image/png": "[encoded data removed]",
      "text/plain": [
       "<Figure size 640x480 with 1 Axes>"
      ]
     },
     "metadata": {},
     "output_type": "display_data"
    }
   ],
   "source": [
    "fig, ax = plt.subplots()\n",
    "plt.hist(ak.flatten(JetMatched.pt), bins=50, range=(1, 50), histtype='step', label='Jet', density=True)\n",
    "plt.hist(ak.flatten(JetMatched.ptPNet), bins=50, range=(1, 50), histtype='step', label='Jet PNet', density=True)\n",
    "plt.hist(ak.flatten(JetMatched.ptPNetNeutrino), bins=50, range=(1, 50), histtype='step', label='Jet PNet Neutrino', density=True)\n",
    "\n",
    "fig.legend()"
   ]
  },
  {
   "cell_type": "code",
   "execution_count": 56,
   "metadata": {},
   "outputs": [
    {
     "name": "stderr",
     "output_type": "stream",
     "text": [
      "/tmp/ipykernel_23975/1163215754.py:11: RuntimeWarning: invalid value encountered in divide\n",
      "  ax2.plot(pt_reg_neutrino[1][:-1], pt_reg_neutrino[0]/pt_reg[0], 'o', label='Jet PNet Neutrino/Jet PNet')\n"
     ]
    },
    {
     "data": {
      "text/plain": [
       "<matplotlib.legend.Legend at 0x7f384a631eb0>"
      ]
     },
     "execution_count": 56,
     "metadata": {},
     "output_type": "execute_result"
    },
    {
     "data": {
      "image/png": "[encoded data removed]",
      "text/plain": [
       "<Figure size 1200x600 with 2 Axes>"
      ]
     },
     "metadata": {},
     "output_type": "display_data"
    }
   ],
   "source": [
    "mask_bin=(GenJetMatched.pt>17) & (GenJetMatched.pt<20) &(GenJetMatched.eta>-3.5) & (GenJetMatched.eta<-3)\n",
    "\n",
    "fig, (ax1, ax2) = plt.subplots(1, 2, figsize=(12, 6))\n",
    "ax1.hist(ak.flatten(JetMatched.pt[mask_bin]), bins=50, range=(1, 50), histtype='step', label='Jet', density=True)\n",
    "ax1.hist(ak.flatten(JetMatched.ptPNet[mask_bin]), bins=50, range=(1, 50), histtype='step', label='Jet PNet', density=True)\n",
    "ax1.hist(ak.flatten(JetMatched.ptPNetNeutrino[mask_bin]), bins=50, range=(1, 50), histtype='step', label='Jet PNet Neutrino', density=True)\n",
    "\n",
    "pt_reg_neutrino=np.histogram(ak.to_numpy(ak.flatten(JetMatched.ptPNetNeutrino[mask_bin]), allow_missing=True),   bins=50, range=(1, 50))\n",
    "pt_reg=np.histogram(ak.to_numpy(ak.flatten(JetMatched.ptPNet[mask_bin]), allow_missing=True),   bins=50, range=(1, 50))\n",
    "# plot ratio\n",
    "ax2.plot(pt_reg_neutrino[1][:-1], pt_reg_neutrino[0]/pt_reg[0], 'o', label='Jet PNet Neutrino/Jet PNet')\n",
    "fig.legend()\n"
   ]
  },
  {
   "cell_type": "code",
   "execution_count": null,
   "metadata": {},
   "outputs": [],
   "source": []
  }
 ],
 "metadata": {
  "kernelspec": {
   "display_name": "Python 3",
   "language": "python",
   "name": "python3"
  },
  "language_info": {
   "codemirror_mode": {
    "name": "ipython",
    "version": 3
   },
   "file_extension": ".py",
   "mimetype": "text/x-python",
   "name": "python",
   "nbconvert_exporter": "python",
   "pygments_lexer": "ipython3",
   "version": "3.9.18"
  }
 },
 "nbformat": 4,
 "nbformat_minor": 2
}
