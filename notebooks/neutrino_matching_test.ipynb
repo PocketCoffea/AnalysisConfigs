{
 "cells": [
  {
   "cell_type": "code",
   "execution_count": 19,
   "metadata": {},
   "outputs": [],
   "source": [
    "from coffea.nanoevents import NanoEventsFactory, NanoAODSchema\n",
    "import awkward as ak\n",
    "import matplotlib.pyplot as plt\n",
    "from pocket_coffea.lib.deltaR_matching import object_matching, deltaR_matching_nonunique\n",
    "import vector\n",
    "import math\n",
    "import numpy as np\n",
    "vector.register_awkward()"
   ]
  },
  {
   "cell_type": "code",
   "execution_count": 2,
   "metadata": {},
   "outputs": [
    {
     "name": "stdout",
     "output_type": "stream",
     "text": [
      "Events read: 20\n"
     ]
    }
   ],
   "source": [
    "filename = \"root://xrootd-cms.infn.it//store/mc/Run3Summer22NanoAODv12/QCD_PT-15_TuneCP5_Flat2018_13p6TeV_pythia8/NANOAODSIM/JMENano12p5_132X_mcRun3_2022_realistic_v3-v2/70000/1a3d12b4-15b7-415c-a25a-df0e81f71648.root\"\n",
    "events = NanoEventsFactory.from_root(filename, schemaclass=NanoAODSchema, entry_stop=20).events()\n",
    "print(\"Events read:\", len(events))"
   ]
  },
  {
   "cell_type": "code",
   "execution_count": 3,
   "metadata": {},
   "outputs": [
    {
     "name": "stdout",
     "output_type": "stream",
     "text": [
      "[[], [], [], [], [], [], [], [1.62, ... [], [], [], [-0.607, -0.643, -0.758], [], []] [[], [], [], [], [], [], [], [-0.181, ... [], [], [], [-0.235, -0.256, 0.21], [], []] [[], [], [], [], [], [], [], [1.63], ... [], [], [], [], [38.9, 7.27, 9.03], [], []]\n",
      "[-804, -272, 930, 95.6, -7.48]\n"
     ]
    }
   ],
   "source": [
    "neutrinos=events.GenPart[(abs(events.GenPart.pdgId)==12) | (abs(events.GenPart.pdgId)==14) |(abs(events.GenPart.pdgId)==16)]\n",
    "gen_jet=events.GenJet\n",
    "print(neutrinos.phi, neutrinos.eta, neutrinos.pt)\n",
    "print(gen_jet.px[-3])"
   ]
  },
  {
   "cell_type": "code",
   "execution_count": 4,
   "metadata": {},
   "outputs": [],
   "source": [
    "neutrinos_matched = deltaR_matching_nonunique(\n",
    "                    gen_jet, neutrinos, 0.4 # 0.4\n",
    "                )"
   ]
  },
  {
   "cell_type": "code",
   "execution_count": 5,
   "metadata": {},
   "outputs": [
    {
     "name": "stdout",
     "output_type": "stream",
     "text": [
      "[[], [], [-0.607, -0.643, -0.758], [], []] [[], [], [-0.235, -0.256, 0.21], [], []]\n",
      "[1.7, -1.62, -0.591, 0.259, 1.92] [0.0171, -0.0247, -0.0151, 0.578, 2.06]\n"
     ]
    }
   ],
   "source": [
    "print(neutrinos_matched[-3].phi, neutrinos_matched[-3].eta)\n",
    "print(gen_jet[-3].phi, gen_jet[-3].eta)"
   ]
  },
  {
   "cell_type": "code",
   "execution_count": 6,
   "metadata": {},
   "outputs": [
    {
     "name": "stdout",
     "output_type": "stream",
     "text": [
      "[0.221, 0.246, 0.281]\n",
      "[[2.32, 2.36, 2.46], [1.03, 1, 0.893], ... [1.19, 1.23, 1.08], [3.41, 3.45, 3.25]]\n",
      "5\n",
      "[-511, 15, -411]\n",
      "0 1 -1\n",
      "1 -3 -1\n",
      "2 1 0\n",
      "3 -3 0\n",
      "4 22 2\n",
      "5 5 2\n",
      "6 -1 2\n",
      "7 -511 5\n",
      "8 1 2\n",
      "9 21 2\n",
      "10 -2 2\n",
      "11 111 8\n",
      "12 2 2\n",
      "13 111 2\n",
      "14 2 2\n",
      "15 21 2\n",
      "16 21 2\n",
      "17 21 2\n",
      "18 21 2\n",
      "19 21 2\n",
      "20 21 2\n",
      "21 21 2\n",
      "22 -5 2\n",
      "23 111 2\n",
      "24 -5122 2\n",
      "25 21 2\n",
      "26 21 3\n",
      "27 21 3\n",
      "28 21 3\n",
      "29 21 3\n",
      "30 21 3\n",
      "31 21 3\n",
      "32 21 3\n",
      "33 21 3\n",
      "34 21 3\n",
      "35 21 3\n",
      "36 21 3\n",
      "37 21 3\n",
      "38 21 3\n",
      "39 21 3\n",
      "40 21 3\n",
      "41 -3 3\n",
      "42 221 2\n",
      "43 111 2\n",
      "44 111 8\n",
      "45 111 8\n",
      "46 111 2\n",
      "47 111 2\n",
      "48 111 2\n",
      "49 111 2\n",
      "50 111 2\n",
      "51 111 2\n",
      "52 111 2\n",
      "53 111 2\n",
      "54 -16 7\n",
      "55 15 7\n",
      "56 22 11\n",
      "57 22 13\n",
      "58 111 2\n",
      "59 22 23\n",
      "60 111 2\n",
      "61 413 24\n",
      "62 -411 24\n",
      "63 22 42\n",
      "64 22 42\n",
      "65 111 2\n",
      "66 22 43\n",
      "67 22 43\n",
      "68 22 44\n",
      "69 22 44\n",
      "70 22 45\n",
      "71 22 45\n",
      "72 22 46\n",
      "73 22 46\n",
      "74 22 47\n",
      "75 22 47\n",
      "76 22 48\n",
      "77 22 49\n",
      "78 22 49\n",
      "79 22 50\n",
      "80 22 50\n",
      "81 22 51\n",
      "82 22 51\n",
      "83 22 52\n",
      "84 22 52\n",
      "85 22 53\n",
      "86 22 53\n",
      "87 16 55\n",
      "88 111 55\n",
      "89 -211 55\n",
      "90 423 7\n",
      "91 22 58\n",
      "92 22 60\n",
      "93 22 60\n",
      "94 421 61\n",
      "95 13 62\n",
      "96 -14 62\n",
      "97 22 65\n",
      "98 22 88\n",
      "99 22 88\n",
      "100 421 90\n",
      "101 22 90\n"
     ]
    }
   ],
   "source": [
    "print(gen_jet.metric_table(neutrinos)[-3][2])\n",
    "print(gen_jet.metric_table(neutrinos)[-3])\n",
    "print(gen_jet[-3][2].hadronFlavour)\n",
    "neutrino_mother=events.GenPart[neutrinos.genPartIdxMother].pdgId\n",
    "print(neutrino_mother[-3])\n",
    "for num, gen_part in enumerate(events.GenPart[-3]):\n",
    "    print(num, gen_part.pdgId, gen_part.genPartIdxMother)"
   ]
  },
  {
   "cell_type": "markdown",
   "metadata": {},
   "source": [
    "sum the quadrivector of the neutrinos"
   ]
  },
  {
   "cell_type": "code",
   "execution_count": 7,
   "metadata": {},
   "outputs": [
    {
     "name": "stdout",
     "output_type": "stream",
     "text": [
      "[0, 0, 0, 0, 0, 0, 0, -0.0757, 0, 0, 0, 0, 0, 0, 0, 0, 0, 44.3, 0, 0]\n",
      "[-0.0757]\n",
      "[31.9, 5.82, 6.56]\n"
     ]
    }
   ],
   "source": [
    "print(ak.sum(neutrinos.px, axis=-1))\n",
    "print(neutrinos[7].px)\n",
    "print(neutrinos[-3].px)\n",
    "# print(ak.sum(neutrinos, axis=-2))\n",
    "# print(neutrinos[:,0]+neutrinos[:,1])"
   ]
  },
  {
   "cell_type": "code",
   "execution_count": 55,
   "metadata": {},
   "outputs": [
    {
     "name": "stdout",
     "output_type": "stream",
     "text": [
      "[nan, nan, -0.166, nan, nan]\n",
      "[nan, nan, -0.164, nan, nan]\n",
      "[nan, nan, -0.166, nan, nan]\n",
      "20 6\n",
      "[0, 0, 56.7, 0, 0]\n",
      "[0, 0, 56.7, 0, 0]\n",
      "\n",
      "neutrino_sum\n",
      "[0, 0, 9.73, 0, 0]\n",
      "[0, 0, 56.7, 0, 0]\n",
      "[0, 0, 55.1, 0, 0]\n",
      "[0, 0, -0.637, 0, 0]\n",
      "[0, 0, -0.166, 0, 0]\n",
      "[0, 0, 44.3, 0, 0]\n",
      "{px: 44.3, py: -32.7, pz: -9.2, E: 56.7}\n",
      "\n",
      "neutrino_sum_4vec\n",
      "[0, 0, 9.73, 0, 0]\n",
      "[0, 0, 56.7, 0, 0]\n",
      "[0, 0, 55.1, 0, 0]\n",
      "[0, 0, -0.637, 0, 0]\n",
      "[0, 0, -0.166, 0, 0]\n",
      "[0, 0, 44.3, 0, 0]\n",
      "{pt: 55.1, eta: -0.166, phi: -0.637, mass: 9.73}\n"
     ]
    },
    {
     "name": "stderr",
     "output_type": "stream",
     "text": [
      "/work/mmalucch/micromamba/envs/pocket-coffea/lib/python3.9/site-packages/awkward/_connect/_numpy.py:195: RuntimeWarning: invalid value encountered in divide\n",
      "  result = getattr(ufunc, method)(\n",
      "/work/mmalucch/micromamba/envs/pocket-coffea/lib/python3.9/site-packages/awkward/_connect/_numpy.py:195: RuntimeWarning: invalid value encountered in sqrt\n",
      "  result = getattr(ufunc, method)(\n"
     ]
    }
   ],
   "source": [
    "neutrinos_px = ak.sum(neutrinos_matched.px, axis=-1)\n",
    "neutrinos_py = ak.sum(neutrinos_matched.py, axis=-1)\n",
    "neutrinos_pz = ak.sum(neutrinos_matched.pz, axis=-1)\n",
    "neutrinos_e = ak.sum(neutrinos_matched.energy, axis=-1)\n",
    "# COMPUTE PT, ETA, PHI, MASS\n",
    "neutrinos_pt = np.sqrt(neutrinos_px**2 + neutrinos_py**2)\n",
    "neutrinos_eta = np.arcsinh(neutrinos_pz/neutrinos_pt)\n",
    "neutrinos_eta_1 = np.arctanh(neutrinos_pz/np.sqrt(neutrinos_pt**2 + neutrinos_pz**2))\n",
    "neutrinos_eta_2 = np.arctanh(neutrinos_pz/neutrinos_e)\n",
    "print(neutrinos_eta_1[-3])\n",
    "print(neutrinos_eta_2[-3])\n",
    "print(neutrinos_eta[-3])\n",
    "neutrinos_phi = np.arctan2(neutrinos_py, neutrinos_px)\n",
    "neutrinos_mass = np.sqrt(neutrinos_e**2 - neutrinos_px**2 - neutrinos_py**2 - neutrinos_pz**2)\n",
    "\n",
    "neutrinos_pt=ak.nan_to_num(neutrinos_pt, nan=0)\n",
    "neutrinos_eta=ak.nan_to_num(neutrinos_eta, nan=0)\n",
    "neutrinos_phi=ak.nan_to_num(neutrinos_phi, nan=0)\n",
    "neutrinos_mass=ak.nan_to_num(neutrinos_mass, nan=0)\n",
    "\n",
    "print(len(neutrinos_px), len(neutrinos_px[0]))\n",
    "print(neutrinos_e[-3])\n",
    "print(neutrinos_e[-3])\n",
    "\n",
    "neutrino_sum = ak.zip(\n",
    "    {\"px\": neutrinos_px, \"py\": neutrinos_py, \"pz\": neutrinos_pz, \"E\": neutrinos_e},\n",
    "    with_name=\"Momentum4D\",\n",
    ")\n",
    "neutrino_sum_4vec=ak.zip(\n",
    "    {\"pt\": neutrinos_pt, \"eta\": neutrinos_eta, \"phi\": neutrinos_phi, \"mass\": neutrinos_mass},\n",
    "    with_name=\"PtEtaPhiMLorentzVector\",\n",
    ")\n",
    "print(\"\\nneutrino_sum\")\n",
    "print(neutrino_sum[-3].mass)\n",
    "print(neutrino_sum[-3].E)\n",
    "print(neutrino_sum[-3].pt)\n",
    "print(neutrino_sum[-3].phi)\n",
    "print(neutrino_sum[-3].eta)\n",
    "print(neutrino_sum[-3].px)\n",
    "print(neutrino_sum[-3][2])\n",
    "\n",
    "print(\"\\nneutrino_sum_4vec\")\n",
    "print(neutrino_sum_4vec[-3].mass)\n",
    "print(neutrino_sum_4vec[-3].E)\n",
    "print(neutrino_sum_4vec[-3].pt)\n",
    "print(neutrino_sum_4vec[-3].phi)\n",
    "print(neutrino_sum_4vec[-3].eta)\n",
    "print(neutrino_sum_4vec[-3].px)\n",
    "print(neutrino_sum_4vec[-3][2])"
   ]
  },
  {
   "cell_type": "code",
   "execution_count": 9,
   "metadata": {},
   "outputs": [
    {
     "name": "stdout",
     "output_type": "stream",
     "text": [
      "[{px: 0, py: 0, pz: 0, E: 0}, {px: 0, py: 0, pz: 0, ... {px: 0, py: 0, pz: 0, E: 0}] 5 664\n",
      "[[], [], [GenParticle, GenParticle, GenParticle], [], []] 5 44\n",
      "[{nConstituents: 75, eta: 0.0171, mass: 223, ... partonFlavour: 21}] 20 1162\n"
     ]
    }
   ],
   "source": [
    "print(neutrino_sum[-3], len(neutrino_sum[-3]), ak.count(neutrino_sum))\n",
    "print(neutrinos_matched[-3], len(neutrinos_matched[-3]), ak.count(neutrinos_matched))\n",
    "print(gen_jet[-3], len(gen_jet), ak.count(gen_jet))"
   ]
  },
  {
   "cell_type": "markdown",
   "metadata": {},
   "source": [
    "sum four vectors of the neutrinos and the gen jet matched to them"
   ]
  },
  {
   "cell_type": "code",
   "execution_count": 47,
   "metadata": {},
   "outputs": [
    {
     "name": "stdout",
     "output_type": "stream",
     "text": [
      "[-804, -272, 974, 95.6, -7.48]\n",
      "[6.21e+03, -5.61e+03, -657, 25.4, 20.4]\n",
      "[6.26e+03, 5.62e+03, 1.17e+03, 98.9, 21.7]\n",
      "gen_jet_neutrino_4vec[-3].px [-804, -272, 974, 95.6, -7.48]\n",
      "gen_jet_neutrino_4vec[-3].pt [6.26e+03, 5.62e+03, 1.17e+03, 98.9, 21.7]\n",
      "gen_jet.pt 1119.9530029296875\n",
      "gen_jet.px 930.1030883789062\n",
      "gen_jet.py -623.8613891601562\n",
      "[0, 0, 44.3, 0, 0]\n",
      "[0, 0, 55.1, 0, 0]\n",
      "gen_jet_neutrino.pt [6.26e+03, 5.62e+03, 1.17e+03, 98.9, 21.7] 1174.9869384765625\n",
      "gen_jet_neutrino.px [-804, -272, 976, 95.6, -7.48] 975.807861328125\n"
     ]
    }
   ],
   "source": [
    "gen_jet_neutrino_px =gen_jet.px + neutrino_sum.px\n",
    "gen_jet_neutrino_py =gen_jet.py + neutrino_sum.py\n",
    "gen_jet_neutrino_pz =gen_jet.pz + neutrino_sum.pz\n",
    "gen_jet_neutrino_e =gen_jet.energy + neutrino_sum.E\n",
    "gen_jet_neutrino_pt=np.sqrt(gen_jet_neutrino_px**2+gen_jet_neutrino_py**2)\n",
    "print(gen_jet_neutrino_px[-3])\n",
    "print(gen_jet_neutrino_py[-3])\n",
    "print(gen_jet_neutrino_pt[-3])\n",
    "\n",
    "# neutrino_sum_4vec=ak.with_name(neutrino_sum, \"PtEtaPhiMCollection\")\n",
    "# print(neutrino_sum_4vec)\n",
    "# print(neutrino_sum)\n",
    "\n",
    "\n",
    "# gen_jet_neutrino = ak.zip(\n",
    "#     {\"px\": gen_jet_neutrino_px, \"py\": gen_jet_neutrino_py, \"pz\": gen_jet_neutrino_pz, \"E\": gen_jet_neutrino_e},\n",
    "#     with_name=\"Momentum4D\",\n",
    "# )\n",
    "gen_jet_neutrino = ak.with_field(gen_jet, gen_jet_neutrino_px, \"px\")\n",
    "gen_jet_neutrino = ak.with_field(gen_jet_neutrino, gen_jet_neutrino_py, \"py\")\n",
    "gen_jet_neutrino = ak.with_field(gen_jet_neutrino, gen_jet_neutrino_pz, \"pz\")\n",
    "gen_jet_neutrino = ak.with_field(gen_jet_neutrino, gen_jet_neutrino_e, \"E\")\n",
    "gen_jet_neutrino = ak.with_field(gen_jet_neutrino, np.sqrt(gen_jet_neutrino_px**2+gen_jet_neutrino_py**2), \"pt\")\n",
    "\n",
    "gen_jet_neutrino_4vec=gen_jet+neutrino_sum_4vec\n",
    "print(\"gen_jet_neutrino_4vec[-3].px\", gen_jet_neutrino_4vec[-3].px)\n",
    "print(\"gen_jet_neutrino_4vec[-3].pt\", gen_jet_neutrino_4vec[-3].pt)\n",
    "\n",
    "print(\"gen_jet.pt\",gen_jet.pt[-3][2])\n",
    "print(\"gen_jet.px\",gen_jet.px[-3][2])\n",
    "print(\"gen_jet.py\",gen_jet.py[-3][2])\n",
    "print(neutrino_sum.px[-3])\n",
    "print(neutrino_sum.pt[-3])\n",
    "# print(gen_jet_neutrino_px[-3], len(gen_jet_neutrino_px), ak.count(gen_jet_neutrino_px))\n",
    "# print(gen_jet.px[7], gen_jet.px[7][1])\n",
    "# print(neutrino_sum.px[7])\n",
    "# print(gen_jet_neutrino_px[7], len(gen_jet_neutrino_px), ak.count(gen_jet_neutrino_px))\n",
    "# print(gen_jet_neutrino_px[7][1])\n",
    "# print(gen_jet_neutrino[-3][2], len(gen_jet_neutrino[-3]), ak.count(gen_jet_neutrino))\n",
    "print(\"gen_jet_neutrino.pt\",gen_jet_neutrino.pt[-3], gen_jet_neutrino.pt[-3][2])\n",
    "print(\"gen_jet_neutrino.px\",gen_jet_neutrino.px[-3], gen_jet_neutrino.px[-3][2])"
   ]
  },
  {
   "cell_type": "code",
   "execution_count": 35,
   "metadata": {},
   "outputs": [
    {
     "name": "stdout",
     "output_type": "stream",
     "text": [
      "929.5332161897175\n",
      "1174.872333489899\n",
      "1158.426519033469\n",
      "6261.830083929139\n"
     ]
    }
   ],
   "source": [
    "print(math.sqrt(1119**2-623**2))\n",
    "print(math.sqrt(974**2+657**2))\n",
    "print(math.sqrt(976**2+624**2))\n",
    "print(math.sqrt(804**2+6210**2))\n"
   ]
  },
  {
   "cell_type": "code",
   "execution_count": null,
   "metadata": {},
   "outputs": [],
   "source": []
  }
 ],
 "metadata": {
  "kernelspec": {
   "display_name": "Python 3",
   "language": "python",
   "name": "python3"
  },
  "language_info": {
   "codemirror_mode": {
    "name": "ipython",
    "version": 3
   },
   "file_extension": ".py",
   "mimetype": "text/x-python",
   "name": "python",
   "nbconvert_exporter": "python",
   "pygments_lexer": "ipython3",
   "version": "3.9.18"
  }
 },
 "nbformat": 4,
 "nbformat_minor": 2
}
