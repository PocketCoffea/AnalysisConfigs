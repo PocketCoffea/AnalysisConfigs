{
 "cells": [
  {
   "cell_type": "code",
   "execution_count": 3,
   "metadata": {},
   "outputs": [],
   "source": [
    "import os\n",
    "import sys\n",
    "import re\n",
    "from matplotlib import pyplot as plt\n",
    "from coffea.util import load\n",
    "from omegaconf import OmegaConf\n",
    "\n",
    "from pocket_coffea.utils.plot_utils import PlotManager\n"
   ]
  },
  {
   "cell_type": "code",
   "execution_count": 4,
   "metadata": {},
   "outputs": [],
   "source": [
    "# input_dir=\"/work/mmalucch/out_hh4b/out_JMENanoData_comparison_all_variables/\"\n",
    "input_dir=\"/work/mmalucch/out_hh4b/out_test_common_dataweights/\"\n",
    "input_dir=\"/work/mmalucch/out_hh4b/out_JMENanoData_comparison_all_variables/\"\n",
    "only_cat=None\n",
    "workers=8\n",
    "log=False\n",
    "density=True\n",
    "verbose=1\n",
    "index_file=None\n",
    "year=\"2022_postEE\""
   ]
  },
  {
   "cell_type": "code",
   "execution_count": 19,
   "metadata": {},
   "outputs": [],
   "source": [
    "# Using the `input_dir` argument, read the default config and coffea files (if not set with argparse):\n",
    "cfg = os.path.join(input_dir, \"parameters_dump.yaml\")\n",
    "inputfile = os.path.join(input_dir, \"output_all.coffea\")\n",
    "outputdir = os.path.join(input_dir, \"plots\")\n",
    "\n",
    "# Load yaml file with OmegaConf\n",
    "if cfg[-5:] == \".yaml\":\n",
    "    parameters_dump = OmegaConf.load(cfg)\n",
    "else:\n",
    "    raise Exception(\"The input file format is not valid. The config file should be a in .yaml format.\")\n",
    "\n",
    "parameters = parameters_dump\n",
    "\n",
    "# Resolving the OmegaConf\n",
    "try:\n",
    "    OmegaConf.resolve(parameters)\n",
    "except Exception as e:\n",
    "    print(\"Error during resolution of OmegaConf parameters magic, please check your parameters files.\")\n",
    "    raise(e)\n",
    "\n",
    "style_cfg = parameters['plotting_style']\n",
    "\n",
    "if os.path.isfile( inputfile ): accumulator = load(inputfile)\n",
    "else: sys.exit(f\"Input file '{inputfile}' does not exist\")\n",
    "\n",
    "\n",
    "if not os.path.exists(outputdir):\n",
    "    os.makedirs(outputdir)\n",
    "\n",
    "variables = accumulator['variables'].keys()\n",
    "\n",
    "# if exclude_hist:\n",
    "#     variables_to_exclude = [s for s in variables if any([re.search(p, s) for p in exclude_hist])]\n",
    "#     variables = [s for s in variables if s not in variables_to_exclude]\n",
    "# if only_hist:\n",
    "#     variables = [s for s in variables if any([re.search(p, s) for p in only_hist])]\n",
    "hist_objs = { v : accumulator['variables'][v] for v in variables }\n"
   ]
  },
  {
   "cell_type": "code",
   "execution_count": 20,
   "metadata": {},
   "outputs": [
    {
     "name": "stdout",
     "output_type": "stream",
     "text": [
      "DATA_JetMET_JMENano_skimmed DATA_JetMET_JMENano_2022_postEE_EraE 2b_region\n",
      "weight\n",
      "HiggsLeading_pt\n",
      "HiggsLeading_mass\n",
      "HiggsLeading_dR\n",
      "HiggsSubLeading_pt\n",
      "HiggsSubLeading_mass\n",
      "HiggsSubLeading_dR\n",
      "HH_mass\n",
      "events_dR_min\n",
      "events_dR_max\n",
      "events_bkg_morphing_dnn_weight\n",
      "[0.42789093 0.54197884 0.25339168 ... 3.0775018  0.65086865 0.37368652]\n",
      "[0.42789093 0.54197884 0.25339168 ... 3.07750177 0.65086865 0.37368652]\n"
     ]
    }
   ],
   "source": [
    "# print(accumulator['variables'])\n",
    "\n",
    "\n",
    "sample=list(accumulator[\"columns\"].keys())[0]\n",
    "dataset=list(accumulator[\"columns\"][sample].keys())[0]\n",
    "category=list(accumulator[\"columns\"][sample][dataset].keys())[1]\n",
    "print(sample,dataset, category)\n",
    "col=accumulator[\"columns\"][sample][dataset][category]\n",
    "for k in col.keys():\n",
    "    print(k)\n",
    "    col[k]=col[k].value#[col[k].value!=-999]\n",
    "\n",
    "print(col['events_bkg_morphing_dnn_weight'])\n",
    "print(col['weight'])"
   ]
  },
  {
   "cell_type": "code",
   "execution_count": 31,
   "metadata": {},
   "outputs": [
    {
     "name": "stdout",
     "output_type": "stream",
     "text": [
      "[2.08469500e+06 2.22797375e+06 1.19797390e+07 2.21871067e+20\n",
      " 8.83589600e+07 2.77463270e+09]\n"
     ]
    },
    {
     "name": "stderr",
     "output_type": "stream",
     "text": [
      "/tmp/ipykernel_3156/1541932704.py:4: UserWarning: FigureCanvasAgg is non-interactive, and thus cannot be shown\n",
      "  fig.show()\n"
     ]
    },
    {
     "data": {
      "image/png": "[encoded data removed]",
      "text/plain": [
       "<Figure size 640x480 with 1 Axes>"
      ]
     },
     "metadata": {},
     "output_type": "display_data"
    }
   ],
   "source": [
    "# plot histo of the weights\n",
    "fig, ax = plt.subplots()\n",
    "ax.hist(col['weight'], bins=100, histtype='step', label='weight')\n",
    "fig.show()\n"
   ]
  },
  {
   "cell_type": "code",
   "execution_count": 34,
   "metadata": {},
   "outputs": [
    {
     "name": "stdout",
     "output_type": "stream",
     "text": [
      "weight\n",
      "[2.21871067e+20]\n",
      "HiggsLeading_pt\n",
      "[543.7534]\n",
      "HiggsLeading_mass\n",
      "[6802.146]\n",
      "HiggsLeading_dR\n",
      "[4.747139]\n",
      "HiggsSubLeading_pt\n",
      "[476.80316]\n",
      "HiggsSubLeading_mass\n",
      "[1500.0573]\n",
      "HiggsSubLeading_dR\n",
      "[3.0981348]\n",
      "HH_mass\n",
      "[8472.742]\n",
      "events_dR_min\n",
      "[2.40309095]\n",
      "events_dR_max\n",
      "[4.74713898]\n",
      "events_bkg_morphing_dnn_weight\n",
      "[2.2187107e+20]\n"
     ]
    }
   ],
   "source": [
    "mask_w=col['weight']>10e+10\n",
    "for c in col.keys():\n",
    "    print(c)\n",
    "    print(col[c][mask_w])\n"
   ]
  },
  {
   "cell_type": "code",
   "execution_count": 21,
   "metadata": {},
   "outputs": [
    {
     "name": "stdout",
     "output_type": "stream",
     "text": [
      "Normalization factor: 0.02174632582022647\n"
     ]
    }
   ],
   "source": [
    "norm_factor=accumulator[\"cutflow\"][\"4b_region\"][\"DATA_JetMET_JMENano_2022_postEE_EraE\"][\"DATA_JetMET_JMENano_skimmed\"]/accumulator[\"cutflow\"][\"2b_region\"][\"DATA_JetMET_JMENano_2022_postEE_EraE\"][\"DATA_JetMET_JMENano_skimmed\"]\n",
    "print(f\"Normalization factor: {norm_factor}\")"
   ]
  },
  {
   "cell_type": "code",
   "execution_count": 25,
   "metadata": {},
   "outputs": [
    {
     "name": "stdout",
     "output_type": "stream",
     "text": [
      "Plotting JetGoodFromHiggsOrdered_eta_1 for 4b_region\n",
      "Plotting JetGoodFromHiggsOrdered_eta_1 for 2b_region\n",
      "Plotting JetGoodFromHiggsOrdered_eta_1 for 2b_region_noWeights\n"
     ]
    },
    {
     "data": {
      "image/png": "[encoded data removed]",
      "text/plain": [
       "<Figure size 600x600 with 2 Axes>"
      ]
     },
     "metadata": {},
     "output_type": "display_data"
    }
   ],
   "source": [
    "plotter = PlotManager(\n",
    "        variables=variables,\n",
    "        hist_objs=hist_objs,\n",
    "        datasets_metadata=accumulator['datasets_metadata'],\n",
    "        plot_dir=outputdir,\n",
    "        style_cfg=style_cfg,\n",
    "        only_cat=only_cat,\n",
    "        only_year=year,\n",
    "        workers=workers,\n",
    "        log=log,\n",
    "        density=density,\n",
    "        verbose=verbose,\n",
    "        save=False,\n",
    "        index_file=index_file\n",
    "    )\n",
    "\n",
    "for var in variables:\n",
    "    fig, (ax, ax_ratio) = plt.subplots(2,1,figsize=[6,6],sharex=True, gridspec_kw={\"height_ratios\": [2.5, 1]})\n",
    "    for i, cat in enumerate([\"4b_region\", \"2b_region\", \"2b_region_noWeights\"]):\n",
    "        shape = plotter.shape_objects[f\"{var}_{year}\"]\n",
    "        # stacks = shape._get_stacks(cat)\n",
    "        # shape.syst_manager.update(cat, stacks)\n",
    "        print(f\"Plotting {var} for {cat}\")\n",
    "        sample = \"DATA_JetMET_JMENano_skimmed\"\n",
    "        h = shape.h_dict[sample][{'cat':cat}].plot(ax=ax, label=cat, density=density)\n",
    "    h\n",
    "    ax.legend()\n",
    "    break"
   ]
  },
  {
   "cell_type": "code",
   "execution_count": null,
   "metadata": {},
   "outputs": [],
   "source": []
  }
 ],
 "metadata": {
  "kernelspec": {
   "display_name": "Python 3",
   "language": "python",
   "name": "python3"
  },
  "language_info": {
   "codemirror_mode": {
    "name": "ipython",
    "version": 3
   },
   "file_extension": ".py",
   "mimetype": "text/x-python",
   "name": "python",
   "nbconvert_exporter": "python",
   "pygments_lexer": "ipython3",
   "version": "3.9.18"
  }
 },
 "nbformat": 4,
 "nbformat_minor": 2
}
