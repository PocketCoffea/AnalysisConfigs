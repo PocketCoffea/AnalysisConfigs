{
 "cells": [
  {
   "cell_type": "code",
   "execution_count": 1,
   "metadata": {},
   "outputs": [
    {
     "name": "stderr",
     "output_type": "stream",
     "text": [
      "/t3home/mmalucch/micromamba/envs/pocket-coffea/lib/python3.9/site-packages/coffea/util.py:154: FutureWarning: In coffea version v2023.3.0 (target date: 31 Mar 2023), this will be an error.\n",
      "(Set coffea.deprecations_as_errors = True to get a stack trace now.)\n",
      "ImportError: coffea.hist is deprecated\n",
      "  warnings.warn(message, FutureWarning)\n"
     ]
    }
   ],
   "source": [
    "from coffea.util import load\n",
    "import os\n",
    "import awkward as ak\n",
    "import numpy as np\n",
    "import matplotlib.pyplot as plt\n",
    "import mplhep as hep\n",
    "import matplotlib\n",
    "from coffea.nanoevents import NanoEventsFactory, NanoAODSchema\n",
    "from coffea import hist, processor\n",
    "from pocket_coffea.parameters import defaults\n",
    "\n",
    "from hist import Hist\n",
    "\n",
    "import sys\n",
    "\n",
    "\n",
    "matplotlib.rcParams[\"figure.dpi\"] = 300\n"
   ]
  },
  {
   "cell_type": "code",
   "execution_count": 46,
   "metadata": {},
   "outputs": [
    {
     "name": "stdout",
     "output_type": "stream",
     "text": [
      "{'initial': {'GluGlutoHHto4B_kl-1p00_kt-1p00_c2-0p00_kl-1p00_kt-1p00_c2-0p00_2018': 7391383}, 'skim': {'GluGlutoHHto4B_kl-1p00_kt-1p00_c2-0p00_kl-1p00_kt-1p00_c2-0p00_2018': 2935336}, 'presel': {'GluGlutoHHto4B_kl-1p00_kt-1p00_c2-0p00_kl-1p00_kt-1p00_c2-0p00_2018': 648550}, 'baseline': {'GluGlutoHHto4B_kl-1p00_kt-1p00_c2-0p00_kl-1p00_kt-1p00_c2-0p00_2018': {'GluGlutoHHto4B': 648550}}}\n"
     ]
    }
   ],
   "source": [
    "\n",
    "new=True\n",
    "\n",
    "local = \"\"  # \"/run/user/1000/gvfs/sftp:host=t3ui02.psi.ch,user=mmalucch/\"\n",
    "prefix = local + str(\n",
    "    os.environ.get(\"HH\", \"/pnfs/psi.ch/cms/trivcat/store/user/mmalucch/out_HH4b/\")\n",
    ")\n",
    "\n",
    "if new:\n",
    "    # prefix=\"../configs/HH4b/\"\n",
    "    input = prefix + \"out_parton_matching_lastB_fulldataset/output_all.coffea\"\n",
    "    o = load(f\"{input}\")\n",
    "    col = o[\"columns\"][\"GluGlutoHHto4B\"][\n",
    "        \"GluGlutoHHto4B_kl-1p00_kt-1p00_c2-0p00_kl-1p00_kt-1p00_c2-0p00_2018\"\n",
    "    ][\"baseline\"]\n",
    "    print(o[\"cutflow\"])\n",
    "else:\n",
    "    prefix=\"../configs/HH4b/\"\n",
    "    input = prefix + \"/out_parton_matching_firstB_fulldataset/output_all.coffea\"\n",
    "    o = load(f\"{input}\")\n",
    "    col = o[\"columns\"][\"GluGlutoHHto4B\"][\n",
    "        \"GluGlutoHHto4B_kl-1p00_kt-1p00_c2-0p00_kl-1p00_kt-1p00_c2-0p00_2018\"\n",
    "    ][\"jet_btag_medium\"]\n",
    "    print(o[\"cutflow\"])\n",
    "\n",
    "for k in col.keys():\n",
    "    col[k] = col[k].value[col[k].value != -999][:1000]"
   ]
  },
  {
   "cell_type": "code",
   "execution_count": 47,
   "metadata": {},
   "outputs": [
    {
     "name": "stdout",
     "output_type": "stream",
     "text": [
      "dict_keys(['weight', 'bQuarkHiggsMatched_N', 'bQuarkHiggsMatched_provenance', 'bQuarkHiggsMatched_pdgId', 'bQuarkHiggsMatched_dRMatchedJet', 'bQuarkHiggsMatched_genPartIdxMother', 'bQuarkHiggsMatched_pt', 'bQuarkHiggsMatched_eta', 'bQuarkHiggsMatched_phi', 'bQuarkMatched_N', 'bQuarkMatched_provenance', 'bQuarkMatched_pdgId', 'bQuarkMatched_dRMatchedJet', 'bQuarkMatched_genPartIdxMother', 'bQuarkMatched_pt', 'bQuarkMatched_eta', 'bQuarkMatched_phi', 'bQuark_N', 'bQuark_provenance', 'bQuark_pdgId', 'bQuark_genPartIdxMother', 'bQuark_pt', 'bQuark_eta', 'bQuark_phi', 'JetGoodHiggsMatched_N', 'JetGoodHiggsMatched_provenance', 'JetGoodHiggsMatched_pdgId', 'JetGoodHiggsMatched_dRMatchedJet', 'JetGoodHiggsMatched_pt', 'JetGoodHiggsMatched_eta', 'JetGoodHiggsMatched_phi', 'JetGoodHiggsMatched_btagPNetB', 'JetGoodHiggsMatched_ptPnetRegNeutrino', 'JetGoodHiggsMatched_hadronFlavour', 'JetGoodMatched_N', 'JetGoodMatched_provenance', 'JetGoodMatched_pdgId', 'JetGoodMatched_dRMatchedJet', 'JetGoodMatched_pt', 'JetGoodMatched_eta', 'JetGoodMatched_phi', 'JetGoodMatched_btagPNetB', 'JetGoodMatched_ptPnetRegNeutrino', 'JetGoodMatched_hadronFlavour', 'JetGoodHiggs_N', 'JetGoodHiggs_pt', 'JetGoodHiggs_eta', 'JetGoodHiggs_phi', 'JetGoodHiggs_btagPNetB', 'JetGoodHiggs_ptPnetRegNeutrino', 'JetGoodHiggs_hadronFlavour', 'JetGood_N', 'JetGood_pt', 'JetGood_eta', 'JetGood_phi', 'JetGood_btagPNetB', 'JetGood_ptPnetRegNeutrino', 'JetGood_hadronFlavour'])\n"
     ]
    },
    {
     "ename": "KeyError",
     "evalue": "'PartonMatched_N'",
     "output_type": "error",
     "traceback": [
      "\u001b[0;31m---------------------------------------------------------------------------\u001b[0m",
      "\u001b[0;31mKeyError\u001b[0m                                  Traceback (most recent call last)",
      "Cell \u001b[0;32mIn[47], line 2\u001b[0m\n\u001b[1;32m      1\u001b[0m \u001b[38;5;28mprint\u001b[39m(col\u001b[38;5;241m.\u001b[39mkeys())\n\u001b[0;32m----> 2\u001b[0m \u001b[38;5;28mprint\u001b[39m(\u001b[38;5;28mlen\u001b[39m(\u001b[43mcol\u001b[49m\u001b[43m[\u001b[49m\u001b[38;5;124;43m\"\u001b[39;49m\u001b[38;5;124;43mPartonMatched_N\u001b[39;49m\u001b[38;5;124;43m\"\u001b[39;49m\u001b[43m]\u001b[49m))\n\u001b[1;32m      3\u001b[0m \u001b[38;5;28mprint\u001b[39m((col[\u001b[38;5;124m\"\u001b[39m\u001b[38;5;124mPartonMatched_N\u001b[39m\u001b[38;5;124m\"\u001b[39m]))\n\u001b[1;32m      4\u001b[0m \u001b[38;5;28mprint\u001b[39m(ak\u001b[38;5;241m.\u001b[39msum(col[\u001b[38;5;124m\"\u001b[39m\u001b[38;5;124mPartonMatched_N\u001b[39m\u001b[38;5;124m\"\u001b[39m]))\n",
      "\u001b[0;31mKeyError\u001b[0m: 'PartonMatched_N'"
     ]
    }
   ],
   "source": [
    "print(col.keys())\n",
    "print(len(col[\"PartonMatched_N\"]))\n",
    "print((col[\"PartonMatched_N\"]))\n",
    "print(ak.sum(col[\"PartonMatched_N\"]))\n",
    "print(len(col[\"PartonMatched_pt\"]))\n",
    "print(col[\"PartonMatched_pt\"])\n",
    "parton_matched_pt_unflat = ak.unflatten(col[\"PartonMatched_pt\"], col[\"PartonMatched_N\"])\n",
    "print(parton_matched_pt_unflat)\n",
    "\n",
    "parton_matched_prov_unflat = ak.unflatten(col[\"PartonMatched_provenance\"], col[\"PartonMatched_N\"])\n",
    "print(parton_matched_prov_unflat)\n",
    "\n",
    "jet_matched_prov_unflat = ak.unflatten(col[\"JetGoodBTagOrderMatched_provenance\"], col[\"JetGoodBTagOrderMatched_N\"])\n",
    "print(jet_matched_prov_unflat)\n",
    "\n",
    "jet_good_pt_unflat = ak.unflatten(col[\"JetGood_pt\"], col[\"JetGood_N\"])\n",
    "print(jet_good_pt_unflat[col[\"JetGood_N\"]>4])\n",
    "\n",
    "jet_good_btag_unflat= ak.unflatten(col[\"JetGood_btagPNetB\"], col[\"JetGood_N\"])\n",
    "print(jet_good_btag_unflat[col[\"JetGood_N\"]>4])\n",
    "\n",
    "jet_good_btag_unflat_maked=jet_good_btag_unflat[col[\"JetGood_N\"]>4]\n",
    "\n",
    "jet_good_hadronflav_unflat_maked=ak.unflatten(col[\"JetGood_hadronFlavour\"], col[\"JetGood_N\"])[col[\"JetGood_N\"]>4]\n",
    "\n",
    "# plot histograms\n",
    "# fig, ax = plt.subplots()\n",
    "# plt.hist(\n",
    "#     jet_good_btag_unflat_maked[:,4]\n",
    "# )\n",
    "jet_good_hadronflav_unflat_highbtag=jet_good_hadronflav_unflat_maked[jet_good_btag_unflat_maked[:,4]>0.9]\n",
    "\n",
    "# plt.hist(\n",
    "#     jet_good_hadronflav_unflat_maked[:,4]\n",
    "# )\n",
    "\n",
    "\n",
    "jet_good_matched_hadronflav_unflat_masked=ak.unflatten(col[\"JetGoodBTagOrderMatched_hadronFlavour\"], col[\"JetGoodBTagOrderMatched_N\"])[col[\"JetGoodBTagOrderMatched_N\"]>4]\n",
    "print(jet_good_matched_hadronflav_unflat_masked)\n",
    "plt.hist(\n",
    "    # col[\"JetGoodBTagOrderMatched_hadronFlavour\"]\n",
    "    # jet_good_matched_hadronflav_unflat_masked[:,4]\n",
    "    # jet_good_hadronflav_unflat_maked[:,4]\n",
    "    jet_good_hadronflav_unflat_highbtag[:,4]\n",
    "\n",
    ")"
   ]
  },
  {
   "cell_type": "code",
   "execution_count": null,
   "metadata": {},
   "outputs": [
    {
     "name": "stdout",
     "output_type": "stream",
     "text": [
      "\n",
      "parton\n",
      "32704\n",
      "73\n",
      "8176\n",
      "\n",
      "parton matched\n",
      "31775\n",
      "10\n",
      "\n",
      "jet\n",
      "32704\n",
      "508\n",
      "\n",
      "jet macthed\n",
      "31775\n",
      "14\n",
      "\n",
      "out acceptance\n",
      "24\n",
      "[4. 4. 5. 5. 5. 4. 4. 0. 4. 5. 0. 0. 4. 0. 5. 4. 0. 5. 5. 5. 5. 0. 4. 5.]\n",
      "[-1.30859375 -1.72827148 -2.4765625  -2.45458984  2.47949219  0.94946289\n",
      " -1.84204102  0.28967285  0.7557373   2.43505859 -0.02117538 -0.04892731\n",
      " -1.94165039 -1.33740234  2.20507812  0.31951904 -0.37780762 -2.48681641\n",
      " -2.49609375 -2.49511719  2.47460938  0.24578857 -0.79455566 -2.48925781]\n",
      "[-1.34765625 -1.78515625 -2.515625   -2.515625    2.515625    0.90625\n",
      " -1.46484375 -0.03137207  0.66992188  2.5703125   0.15185547 -0.30957031\n",
      " -1.89453125 -1.23046875  2.5234375   0.15722656 -0.19042969 -2.5078125\n",
      " -2.5390625  -2.5390625   2.5625      0.31738281 -0.59765625 -2.5078125 ]\n",
      "0.9740359266752499\n"
     ]
    }
   ],
   "source": [
    "if new:\n",
    "    print(\"\\nparton\")\n",
    "    parton_eta=col[\"bQuark_eta\"]\n",
    "    print(len(parton_eta))\n",
    "    print(len(parton_eta[abs(parton_eta)>2.5]))\n",
    "print(len(col[\"bQuarkHiggsMatched_N\"]))\n",
    "print(\"\\nparton matched\")\n",
    "parton_matched_eta = col[\"bQuarkHiggsMatched_eta\"]\n",
    "print(len(parton_matched_eta))\n",
    "print(len(parton_matched_eta[abs(parton_matched_eta) > 2.5]))\n",
    "\n",
    "if new:\n",
    "    print(\"\\njet\")\n",
    "    jet_flav = col[\"JetGoodHiggs_hadronFlavour\"]\n",
    "    # plt.hist(jet_flav)\n",
    "    print(len(jet_flav))\n",
    "    print(len(jet_flav[jet_flav != 5]))\n",
    "\n",
    "    print(\"\\njet macthed\")\n",
    "    jet_matched_flav = col[\"JetGoodHiggsMatched_hadronFlavour\"]\n",
    "    jet_matched_eta = col[\"JetGoodHiggsMatched_eta\"]\n",
    "    print(len(jet_matched_flav))\n",
    "    print(len(jet_matched_flav[(jet_matched_flav != 5)]))\n",
    "\n",
    "    print(\"\\nout acceptance\")\n",
    "    print(len(jet_matched_flav[(abs(parton_matched_eta) > 2.5) | (jet_matched_flav != 5)]))\n",
    "    print((jet_matched_flav[(abs(parton_matched_eta) > 2.5) | (jet_matched_flav != 5)]))\n",
    "    print((jet_matched_eta[(abs(parton_matched_eta) > 2.5) | (jet_matched_flav != 5)]))\n",
    "    print((parton_matched_eta[(abs(parton_matched_eta) > 2.5) | (jet_matched_flav != 5)]))\n",
    "\n",
    "\n",
    "    match_eff=len(parton_matched_eta)/len(parton_eta[abs(parton_eta)<2.5])\n",
    "    print(match_eff)\n"
   ]
  },
  {
   "cell_type": "markdown",
   "metadata": {},
   "source": [
    "root dataset"
   ]
  },
  {
   "cell_type": "code",
   "execution_count": null,
   "metadata": {},
   "outputs": [
    {
     "name": "stdout",
     "output_type": "stream",
     "text": [
      "Events read: 57232\n"
     ]
    }
   ],
   "source": [
    "filename =\"root://storage01.lcg.cscs.ch:1096//pnfs/lcg.cscs.ch/cms/trivcat//store/mc/Run3Summer22EENanoAODv12/GluGlutoHHto4B_kl-1p00_kt-1p00_c2-0p00_TuneCP5_13p6TeV_powheg-pythia8/NANOAODSIM/Poisson60KeepRAW_130X_mcRun3_2022_realistic_postEE_v6-v2/50000/fc603037-ef65-4bbf-9cef-934ecec40bbe.root\"\n",
    "filename =\"~/hh4b_12.root\"\n",
    "events = NanoEventsFactory.from_root(filename, schemaclass=NanoAODSchema).events()\n",
    "print(\"Events read:\", len(events))"
   ]
  },
  {
   "cell_type": "code",
   "execution_count": null,
   "metadata": {},
   "outputs": [
    {
     "name": "stdout",
     "output_type": "stream",
     "text": [
      "[0, 1, 2, 3, 4, 5, 6, 7, 8, 9, 10, ... 60, 61, 62, 63, 64, 65, 66, 67, 68, 69, 70]\n",
      "[0, 1, 2, 3, 4, 5, 6, 7, 8, 9, 10, ... 55, 56, 57, 58, 59, 60, 61, 62, 63, 64, 65]\n",
      "\n",
      "loop\n",
      "\n",
      "loop\n",
      "\n",
      "loop\n",
      "\n",
      "loop\n",
      "\n",
      "loop\n",
      "[[5, -5, 5, -5], [-5, 5, 5, -5], [-5, 5, ... 5, -5], [-5, 5, 5, -5], [5, 5, -5, -5]] [[15, 15, 16, 16], [14, 14, 15, 15], [16, ... [21, 21, 20, 20], [15, 14, 14, 15]] [[128, 164, 218, 21.7], [93, 44, 105, 31.5, ... 41.1, 57, 101], [168, 59.2, 200, 43]]\n",
      "[[15, 15, 16, 16], [14, 14, 15, 15], [16, ... [21, 21, 20, 20], [15, 14, 14, 15]] 57232\n",
      "[[265, 209], [87.2, 108], [162, 72.8], ... [128, 45.6], [114, 100], [254, 178]] [[[17, 18], [19, 20]], [[87, ... 3692789]], [[3692846, 3692847], [3692848, 3692849]]] [[[5, -5], [5, -5]], [[5, -5], [5, -5]], ... [[5, -5], [5, -5]], [[5, -5], [5, -5]]] [[[128, 164], [218, 21.7]], [[44, 93], ... [41.1, 94.8]], [[59.2, 200], [168, 43]]]\n",
      "[[0, 1], [1, 0], [0, 1], [1, 0], [0, 1], ... [1, 0], [0, 1], [0, 1], [0, 1], [0, 1]]\n",
      "[[15, 16], [14, 15], [15, 16], [13, 14], ... [14, 15], [17, 18], [20, 21], [14, 15]]\n",
      "[[265, 209], [108, 87.2], [162, 72.8], ... [128, 45.6], [114, 100], [254, 178]] [[[17, 18], [19, 20]], [[89, ... 3692789]], [[3692846, 3692847], [3692848, 3692849]]] [[[5, -5], [5, -5]], [[5, -5], [5, -5]], ... [[5, -5], [5, -5]], [[5, -5], [5, -5]]] [[[128, 164], [218, 21.7]], [[105, 31.5], ... 41.1, 94.8]], [[59.2, 200], [168, 43]]]\n",
      "[[15, 16], [15, 14], [15, 16], [14, 13], ... [14, 15], [17, 18], [20, 21], [14, 15]]\n",
      "[[1, 1, 2, 2], [2, 2, 1, 1], [2, 2, 1, 1, ... 2, 1, 1], [2, 2, 1, 1], [2, 1, 1, 2]]\n"
     ]
    }
   ],
   "source": [
    "# add column with the index\n",
    "events.GenPart=ak.with_field(events.GenPart, ak.local_index(events.GenPart, axis=1), \"index\")\n",
    "print(events.GenPart.index[0])\n",
    "print(events.GenPart.index[1])\n",
    "# get last bquark copy\n",
    "isB = abs(events.GenPart.pdgId) == 5\n",
    "isLast = events.GenPart.hasFlags([\"isLastCopy\"])\n",
    "isHard = events.GenPart.hasFlags([\"fromHardProcess\"])\n",
    "bquarks_last = events.GenPart[isB & isLast & isHard]\n",
    "# print(bquarks_last.pdgId, bquarks_last.genPartIdxMother)\n",
    "b_quarks = bquarks_last\n",
    "while True:\n",
    "    print(\"\\nloop\")\n",
    "    b_mother = events.GenPart[b_quarks.genPartIdxMother]\n",
    "    mask_mother=(abs(b_mother.pdgId) == 5) | (abs(b_mother.pdgId) == 25)\n",
    "    b_quarks=b_quarks[mask_mother]\n",
    "    bquarks_last=bquarks_last[mask_mother]\n",
    "    b_mother = b_mother[mask_mother]\n",
    "    # print(\"old: \", \"pdg\", b_quarks.pdgId, \"mother_idx\",b_quarks.genPartIdxMother, \"pt\", b_quarks.pt, \"index\", b_quarks.index)\n",
    "    # print(\"mother: \", \"pdg\", b_mother.pdgId, \"mother_idx\",b_mother.genPartIdxMother, \"pt\", b_mother.pt)\n",
    "    # break\n",
    "    if ak.all(abs(b_mother.pdgId) == 25):\n",
    "        break\n",
    "    b_quarks = ak.where(abs(b_mother.pdgId) == 5, b_mother, b_quarks)\n",
    "    # print(\"new: \", \"pdg\", b_quarks.pdgId, \"mother_idx\",b_quarks.genPartIdxMother, \"pt\", b_quarks.pt)\n",
    "\n",
    "    # print(ak.any(abs(b_mother.pdgId) != 25, axis=1))\n",
    "\n",
    "print(b_quarks.pdgId, b_quarks.genPartIdxMother, b_quarks.pt)\n",
    "print(b_quarks.genPartIdxMother, len(b_quarks.genPartIdxMother))\n",
    "\n",
    "# order higgs pt\n",
    "higgs = events.GenPart[\n",
    "            (events.GenPart.pdgId == 25)\n",
    "            & events.GenPart.hasFlags([\"fromHardProcess\"])\n",
    "            & events.GenPart.hasFlags([\"isLastCopy\"])\n",
    "        ]\n",
    "higgs = higgs[ak.num(higgs.childrenIdxG, axis=2) == 2]\n",
    "print(higgs.pt, higgs.childrenIdxG, higgs.children.pdgId, higgs.children.pt)\n",
    "print(ak.argsort(higgs.pt,ascending=False))\n",
    "print(higgs.index)\n",
    "higgs=higgs[ak.argsort(higgs.pt,ascending=False)]\n",
    "print(higgs.pt, higgs.childrenIdxG, higgs.children.pdgId, higgs.children.pt)\n",
    "print(higgs.index)\n",
    "\n",
    "provenance = ak.where(b_quarks.genPartIdxMother == higgs.index[:,0], 1, 2)\n",
    "print(provenance)"
   ]
  },
  {
   "cell_type": "code",
   "execution_count": null,
   "metadata": {},
   "outputs": [
    {
     "name": "stdout",
     "output_type": "stream",
     "text": [
      "[[1, 1, 2, 2], [2, 2, 1, 1], [2, 2, 1, 1, ... 2, 1, 1], [2, 2, 1, 1], [2, 1, 1, 2]]\n",
      "57232\n",
      "57232\n"
     ]
    }
   ],
   "source": [
    "# provenance=ak.flatten(provenance)\n",
    "b_quarks=ak.with_field(b_quarks, provenance, \"provenance\")\n",
    "print(b_quarks.provenance)\n",
    "# plt.hist(b_quarks.eta)\n",
    "# b_quarks=ak.flatten(b_quarks)\n",
    "eta=b_quarks.eta[abs(b_quarks.eta)>2.5]\n",
    "print(len(b_quarks))\n",
    "print(len(eta))\n",
    "# plt.hist(eta, bins=50)"
   ]
  },
  {
   "cell_type": "code",
   "execution_count": null,
   "metadata": {},
   "outputs": [],
   "source": []
  }
 ],
 "metadata": {
  "kernelspec": {
   "display_name": "Python 3",
   "language": "python",
   "name": "python3"
  },
  "language_info": {
   "codemirror_mode": {
    "name": "ipython",
    "version": 3
   },
   "file_extension": ".py",
   "mimetype": "text/x-python",
   "name": "python",
   "nbconvert_exporter": "python",
   "pygments_lexer": "ipython3",
   "version": "3.9.18"
  }
 },
 "nbformat": 4,
 "nbformat_minor": 2
}
