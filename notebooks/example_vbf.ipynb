{
 "cells": [
  {
   "cell_type": "code",
   "execution_count": 7,
   "metadata": {},
   "outputs": [],
   "source": [
    "from coffea.util import load\n",
    "import os\n",
    "import awkward as ak\n",
    "import numpy as np\n",
    "import matplotlib.pyplot as plt\n",
    "import mplhep as hep\n",
    "import matplotlib\n",
    "from coffea.nanoevents import NanoEventsFactory, NanoAODSchema\n",
    "from coffea import hist, processor\n",
    "from pocket_coffea.parameters import defaults\n",
    "\n",
    "from hist import Hist\n",
    "\n",
    "import sys\n",
    "\n",
    "\n",
    "matplotlib.rcParams[\"figure.dpi\"] = 300\n"
   ]
  },
  {
   "cell_type": "code",
   "execution_count": 8,
   "metadata": {},
   "outputs": [],
   "source": [
    "input = \"/work/mmalucch/out_vbfhh4b/out_test/output_all.coffea\"\n",
    "o = load(f\"{input}\")"
   ]
  },
  {
   "cell_type": "code",
   "execution_count": 9,
   "metadata": {},
   "outputs": [
    {
     "data": {
      "text/plain": [
       "{'sum_genweights': {'VBFHHto4B_CV_1_C2V_1_C3_1_2022_postEE': 3460727.0},\n",
       " 'sum_signOf_genweights': {'VBFHHto4B_CV_1_C2V_1_C3_1_2022_postEE': 3460727.0},\n",
       " 'sumw': {'4b_region': {'VBFHHto4B_CV_1_C2V_1_C3_1_2022_postEE': {'VBF_HHto4B': 2.146308357172368}}},\n",
       " 'sumw2': {'4b_region': {'VBFHHto4B_CV_1_C2V_1_C3_1_2022_postEE': {'VBF_HHto4B': 3.152813981102135e-05}}},\n",
       " 'cutflow': {'initial': {'VBFHHto4B_CV_1_C2V_1_C3_1_2022_postEE': 3460727},\n",
       "  'skim': {'VBFHHto4B_CV_1_C2V_1_C3_1_2022_postEE': 761360},\n",
       "  'presel': {'VBFHHto4B_CV_1_C2V_1_C3_1_2022_postEE': 536318},\n",
       "  '4b_region': {'VBFHHto4B_CV_1_C2V_1_C3_1_2022_postEE': {'VBF_HHto4B': 146112}}},\n",
       " 'variables': {'nJetGood': defaultdict(dict,\n",
       "              {'VBF_HHto4B': {'VBFHHto4B_CV_1_C2V_1_C3_1_2022_postEE': Hist(\n",
       "                  StrCategory(['4b_region'], name='cat', label='Category'),\n",
       "                  StrCategory(['nominal'], name='variation', label='Variation'),\n",
       "                  Regular(10, 0, 10, name='events.nJetGood', label='$N_{JetGood}$'),\n",
       "                  storage=Weight()) # Sum: WeightedSum(value=2.14556, variance=3.15171e-05) (WeightedSum(value=2.14631, variance=3.15281e-05) with flow)}}),\n",
       "  'JetGood_eta_1': defaultdict(dict,\n",
       "              {'VBF_HHto4B': {'VBFHHto4B_CV_1_C2V_1_C3_1_2022_postEE': Hist(\n",
       "                  StrCategory(['4b_region'], name='cat', label='Category'),\n",
       "                  StrCategory(['nominal'], name='variation', label='Variation'),\n",
       "                  Regular(50, -2.5, 2.5, name='JetGood.eta', label='$\\\\eta_{j}$ for Obj. #1'),\n",
       "                  storage=Weight()) # Sum: WeightedSum(value=2.14631, variance=3.15281e-05)}}),\n",
       "  'JetGood_pt_1': defaultdict(dict,\n",
       "              {'VBF_HHto4B': {'VBFHHto4B_CV_1_C2V_1_C3_1_2022_postEE': Hist(\n",
       "                  StrCategory(['4b_region'], name='cat', label='Category'),\n",
       "                  StrCategory(['nominal'], name='variation', label='Variation'),\n",
       "                  Regular(50, 0, 300, name='JetGood.pt', label='$p_{T}^{j}$ [GeV] for Obj. #1'),\n",
       "                  storage=Weight()) # Sum: WeightedSum(value=2.10384, variance=3.09043e-05) (WeightedSum(value=2.14631, variance=3.15281e-05) with flow)}}),\n",
       "  'JetGood_phi_1': defaultdict(dict,\n",
       "              {'VBF_HHto4B': {'VBFHHto4B_CV_1_C2V_1_C3_1_2022_postEE': Hist(\n",
       "                  StrCategory(['4b_region'], name='cat', label='Category'),\n",
       "                  StrCategory(['nominal'], name='variation', label='Variation'),\n",
       "                  Regular(64, -3.14159, 3.14159, name='JetGood.phi', label='$\\\\phi_{j}$ for Obj. #1'),\n",
       "                  storage=Weight()) # Sum: WeightedSum(value=2.14613, variance=3.15256e-05) (WeightedSum(value=2.14631, variance=3.15281e-05) with flow)}}),\n",
       "  'JetGood_btagDeepFlavB_1': defaultdict(dict,\n",
       "              {'VBF_HHto4B': {'VBFHHto4B_CV_1_C2V_1_C3_1_2022_postEE': Hist(\n",
       "                  StrCategory(['4b_region'], name='cat', label='Category'),\n",
       "                  StrCategory(['nominal'], name='variation', label='Variation'),\n",
       "                  Regular(50, 0, 1, name='JetGood.btagDeepFlavB', label='AK4 DeepJet b-tag score for Obj. #1'),\n",
       "                  storage=Weight()) # Sum: WeightedSum(value=2.14631, variance=3.15281e-05)}}),\n",
       "  'JetGood_btagDeepFlavCvL_1': defaultdict(dict,\n",
       "              {'VBF_HHto4B': {'VBFHHto4B_CV_1_C2V_1_C3_1_2022_postEE': Hist(\n",
       "                  StrCategory(['4b_region'], name='cat', label='Category'),\n",
       "                  StrCategory(['nominal'], name='variation', label='Variation'),\n",
       "                  Regular(50, 0, 1, name='JetGood.btagDeepFlavCvL', label='AK4 DeepJet CvsL score for Obj. #1'),\n",
       "                  storage=Weight()) # Sum: WeightedSum(value=2.14631, variance=3.15281e-05)}}),\n",
       "  'JetGood_btagDeepFlavCvB_1': defaultdict(dict,\n",
       "              {'VBF_HHto4B': {'VBFHHto4B_CV_1_C2V_1_C3_1_2022_postEE': Hist(\n",
       "                  StrCategory(['4b_region'], name='cat', label='Category'),\n",
       "                  StrCategory(['nominal'], name='variation', label='Variation'),\n",
       "                  Regular(50, 0, 1, name='JetGood.btagDeepFlavCvB', label='AK4 DeepJet CvsB score for Obj. #1'),\n",
       "                  storage=Weight()) # Sum: WeightedSum(value=2.14631, variance=3.15281e-05)}}),\n",
       "  'JetGood_eta_2': defaultdict(dict,\n",
       "              {'VBF_HHto4B': {'VBFHHto4B_CV_1_C2V_1_C3_1_2022_postEE': Hist(\n",
       "                  StrCategory(['4b_region'], name='cat', label='Category'),\n",
       "                  StrCategory(['nominal'], name='variation', label='Variation'),\n",
       "                  Regular(50, -2.5, 2.5, name='JetGood.eta', label='$\\\\eta_{j}$ for Obj. #2'),\n",
       "                  storage=Weight()) # Sum: WeightedSum(value=2.14631, variance=3.15281e-05)}}),\n",
       "  'JetGood_pt_2': defaultdict(dict,\n",
       "              {'VBF_HHto4B': {'VBFHHto4B_CV_1_C2V_1_C3_1_2022_postEE': Hist(\n",
       "                  StrCategory(['4b_region'], name='cat', label='Category'),\n",
       "                  StrCategory(['nominal'], name='variation', label='Variation'),\n",
       "                  Regular(50, 0, 300, name='JetGood.pt', label='$p_{T}^{j}$ [GeV] for Obj. #2'),\n",
       "                  storage=Weight()) # Sum: WeightedSum(value=2.11052, variance=3.10025e-05) (WeightedSum(value=2.14631, variance=3.15281e-05) with flow)}}),\n",
       "  'JetGood_phi_2': defaultdict(dict,\n",
       "              {'VBF_HHto4B': {'VBFHHto4B_CV_1_C2V_1_C3_1_2022_postEE': Hist(\n",
       "                  StrCategory(['4b_region'], name='cat', label='Category'),\n",
       "                  StrCategory(['nominal'], name='variation', label='Variation'),\n",
       "                  Regular(64, -3.14159, 3.14159, name='JetGood.phi', label='$\\\\phi_{j}$ for Obj. #2'),\n",
       "                  storage=Weight()) # Sum: WeightedSum(value=2.14618, variance=3.15262e-05) (WeightedSum(value=2.14631, variance=3.15281e-05) with flow)}}),\n",
       "  'JetGood_btagDeepFlavB_2': defaultdict(dict,\n",
       "              {'VBF_HHto4B': {'VBFHHto4B_CV_1_C2V_1_C3_1_2022_postEE': Hist(\n",
       "                  StrCategory(['4b_region'], name='cat', label='Category'),\n",
       "                  StrCategory(['nominal'], name='variation', label='Variation'),\n",
       "                  Regular(50, 0, 1, name='JetGood.btagDeepFlavB', label='AK4 DeepJet b-tag score for Obj. #2'),\n",
       "                  storage=Weight()) # Sum: WeightedSum(value=2.14631, variance=3.15281e-05)}}),\n",
       "  'JetGood_btagDeepFlavCvL_2': defaultdict(dict,\n",
       "              {'VBF_HHto4B': {'VBFHHto4B_CV_1_C2V_1_C3_1_2022_postEE': Hist(\n",
       "                  StrCategory(['4b_region'], name='cat', label='Category'),\n",
       "                  StrCategory(['nominal'], name='variation', label='Variation'),\n",
       "                  Regular(50, 0, 1, name='JetGood.btagDeepFlavCvL', label='AK4 DeepJet CvsL score for Obj. #2'),\n",
       "                  storage=Weight()) # Sum: WeightedSum(value=2.14631, variance=3.15281e-05)}}),\n",
       "  'JetGood_btagDeepFlavCvB_2': defaultdict(dict,\n",
       "              {'VBF_HHto4B': {'VBFHHto4B_CV_1_C2V_1_C3_1_2022_postEE': Hist(\n",
       "                  StrCategory(['4b_region'], name='cat', label='Category'),\n",
       "                  StrCategory(['nominal'], name='variation', label='Variation'),\n",
       "                  Regular(50, 0, 1, name='JetGood.btagDeepFlavCvB', label='AK4 DeepJet CvsB score for Obj. #2'),\n",
       "                  storage=Weight()) # Sum: WeightedSum(value=2.14631, variance=3.15281e-05)}}),\n",
       "  'JetGood_eta_3': defaultdict(dict,\n",
       "              {'VBF_HHto4B': {'VBFHHto4B_CV_1_C2V_1_C3_1_2022_postEE': Hist(\n",
       "                  StrCategory(['4b_region'], name='cat', label='Category'),\n",
       "                  StrCategory(['nominal'], name='variation', label='Variation'),\n",
       "                  Regular(50, -2.5, 2.5, name='JetGood.eta', label='$\\\\eta_{j}$ for Obj. #3'),\n",
       "                  storage=Weight()) # Sum: WeightedSum(value=2.14631, variance=3.15281e-05)}}),\n",
       "  'JetGood_pt_3': defaultdict(dict,\n",
       "              {'VBF_HHto4B': {'VBFHHto4B_CV_1_C2V_1_C3_1_2022_postEE': Hist(\n",
       "                  StrCategory(['4b_region'], name='cat', label='Category'),\n",
       "                  StrCategory(['nominal'], name='variation', label='Variation'),\n",
       "                  Regular(50, 0, 300, name='JetGood.pt', label='$p_{T}^{j}$ [GeV] for Obj. #3'),\n",
       "                  storage=Weight()) # Sum: WeightedSum(value=2.10579, variance=3.0933e-05) (WeightedSum(value=2.14631, variance=3.15281e-05) with flow)}}),\n",
       "  'JetGood_phi_3': defaultdict(dict,\n",
       "              {'VBF_HHto4B': {'VBFHHto4B_CV_1_C2V_1_C3_1_2022_postEE': Hist(\n",
       "                  StrCategory(['4b_region'], name='cat', label='Category'),\n",
       "                  StrCategory(['nominal'], name='variation', label='Variation'),\n",
       "                  Regular(64, -3.14159, 3.14159, name='JetGood.phi', label='$\\\\phi_{j}$ for Obj. #3'),\n",
       "                  storage=Weight()) # Sum: WeightedSum(value=2.14613, variance=3.15256e-05) (WeightedSum(value=2.14631, variance=3.15281e-05) with flow)}}),\n",
       "  'JetGood_btagDeepFlavB_3': defaultdict(dict,\n",
       "              {'VBF_HHto4B': {'VBFHHto4B_CV_1_C2V_1_C3_1_2022_postEE': Hist(\n",
       "                  StrCategory(['4b_region'], name='cat', label='Category'),\n",
       "                  StrCategory(['nominal'], name='variation', label='Variation'),\n",
       "                  Regular(50, 0, 1, name='JetGood.btagDeepFlavB', label='AK4 DeepJet b-tag score for Obj. #3'),\n",
       "                  storage=Weight()) # Sum: WeightedSum(value=2.14631, variance=3.15281e-05)}}),\n",
       "  'JetGood_btagDeepFlavCvL_3': defaultdict(dict,\n",
       "              {'VBF_HHto4B': {'VBFHHto4B_CV_1_C2V_1_C3_1_2022_postEE': Hist(\n",
       "                  StrCategory(['4b_region'], name='cat', label='Category'),\n",
       "                  StrCategory(['nominal'], name='variation', label='Variation'),\n",
       "                  Regular(50, 0, 1, name='JetGood.btagDeepFlavCvL', label='AK4 DeepJet CvsL score for Obj. #3'),\n",
       "                  storage=Weight()) # Sum: WeightedSum(value=2.14631, variance=3.15281e-05)}}),\n",
       "  'JetGood_btagDeepFlavCvB_3': defaultdict(dict,\n",
       "              {'VBF_HHto4B': {'VBFHHto4B_CV_1_C2V_1_C3_1_2022_postEE': Hist(\n",
       "                  StrCategory(['4b_region'], name='cat', label='Category'),\n",
       "                  StrCategory(['nominal'], name='variation', label='Variation'),\n",
       "                  Regular(50, 0, 1, name='JetGood.btagDeepFlavCvB', label='AK4 DeepJet CvsB score for Obj. #3'),\n",
       "                  storage=Weight()) # Sum: WeightedSum(value=2.14631, variance=3.15281e-05)}}),\n",
       "  'JetGood_eta_4': defaultdict(dict,\n",
       "              {'VBF_HHto4B': {'VBFHHto4B_CV_1_C2V_1_C3_1_2022_postEE': Hist(\n",
       "                  StrCategory(['4b_region'], name='cat', label='Category'),\n",
       "                  StrCategory(['nominal'], name='variation', label='Variation'),\n",
       "                  Regular(50, -2.5, 2.5, name='JetGood.eta', label='$\\\\eta_{j}$ for Obj. #4'),\n",
       "                  storage=Weight()) # Sum: WeightedSum(value=2.14631, variance=3.15281e-05)}}),\n",
       "  'JetGood_pt_4': defaultdict(dict,\n",
       "              {'VBF_HHto4B': {'VBFHHto4B_CV_1_C2V_1_C3_1_2022_postEE': Hist(\n",
       "                  StrCategory(['4b_region'], name='cat', label='Category'),\n",
       "                  StrCategory(['nominal'], name='variation', label='Variation'),\n",
       "                  Regular(50, 0, 300, name='JetGood.pt', label='$p_{T}^{j}$ [GeV] for Obj. #4'),\n",
       "                  storage=Weight()) # Sum: WeightedSum(value=2.10159, variance=3.08713e-05) (WeightedSum(value=2.14631, variance=3.15281e-05) with flow)}}),\n",
       "  'JetGood_phi_4': defaultdict(dict,\n",
       "              {'VBF_HHto4B': {'VBFHHto4B_CV_1_C2V_1_C3_1_2022_postEE': Hist(\n",
       "                  StrCategory(['4b_region'], name='cat', label='Category'),\n",
       "                  StrCategory(['nominal'], name='variation', label='Variation'),\n",
       "                  Regular(64, -3.14159, 3.14159, name='JetGood.phi', label='$\\\\phi_{j}$ for Obj. #4'),\n",
       "                  storage=Weight()) # Sum: WeightedSum(value=2.14612, variance=3.15253e-05) (WeightedSum(value=2.14631, variance=3.15281e-05) with flow)}}),\n",
       "  'JetGood_btagDeepFlavB_4': defaultdict(dict,\n",
       "              {'VBF_HHto4B': {'VBFHHto4B_CV_1_C2V_1_C3_1_2022_postEE': Hist(\n",
       "                  StrCategory(['4b_region'], name='cat', label='Category'),\n",
       "                  StrCategory(['nominal'], name='variation', label='Variation'),\n",
       "                  Regular(50, 0, 1, name='JetGood.btagDeepFlavB', label='AK4 DeepJet b-tag score for Obj. #4'),\n",
       "                  storage=Weight()) # Sum: WeightedSum(value=2.14631, variance=3.15281e-05)}}),\n",
       "  'JetGood_btagDeepFlavCvL_4': defaultdict(dict,\n",
       "              {'VBF_HHto4B': {'VBFHHto4B_CV_1_C2V_1_C3_1_2022_postEE': Hist(\n",
       "                  StrCategory(['4b_region'], name='cat', label='Category'),\n",
       "                  StrCategory(['nominal'], name='variation', label='Variation'),\n",
       "                  Regular(50, 0, 1, name='JetGood.btagDeepFlavCvL', label='AK4 DeepJet CvsL score for Obj. #4'),\n",
       "                  storage=Weight()) # Sum: WeightedSum(value=2.14631, variance=3.15281e-05)}}),\n",
       "  'JetGood_btagDeepFlavCvB_4': defaultdict(dict,\n",
       "              {'VBF_HHto4B': {'VBFHHto4B_CV_1_C2V_1_C3_1_2022_postEE': Hist(\n",
       "                  StrCategory(['4b_region'], name='cat', label='Category'),\n",
       "                  StrCategory(['nominal'], name='variation', label='Variation'),\n",
       "                  Regular(50, 0, 1, name='JetGood.btagDeepFlavCvB', label='AK4 DeepJet CvsB score for Obj. #4'),\n",
       "                  storage=Weight()) # Sum: WeightedSum(value=2.14631, variance=3.15281e-05)}}),\n",
       "  'JetGood_eta_5': defaultdict(dict,\n",
       "              {'VBF_HHto4B': {'VBFHHto4B_CV_1_C2V_1_C3_1_2022_postEE': Hist(\n",
       "                  StrCategory(['4b_region'], name='cat', label='Category'),\n",
       "                  StrCategory(['nominal'], name='variation', label='Variation'),\n",
       "                  Regular(50, -2.5, 2.5, name='JetGood.eta', label='$\\\\eta_{j}$ for Obj. #5'),\n",
       "                  storage=Weight()) # Sum: WeightedSum(value=1.62902, variance=2.39294e-05)}}),\n",
       "  'JetGood_pt_5': defaultdict(dict,\n",
       "              {'VBF_HHto4B': {'VBFHHto4B_CV_1_C2V_1_C3_1_2022_postEE': Hist(\n",
       "                  StrCategory(['4b_region'], name='cat', label='Category'),\n",
       "                  StrCategory(['nominal'], name='variation', label='Variation'),\n",
       "                  Regular(50, 0, 300, name='JetGood.pt', label='$p_{T}^{j}$ [GeV] for Obj. #5'),\n",
       "                  storage=Weight()) # Sum: WeightedSum(value=1.55534, variance=2.28471e-05) (WeightedSum(value=1.62902, variance=2.39294e-05) with flow)}}),\n",
       "  'JetGood_phi_5': defaultdict(dict,\n",
       "              {'VBF_HHto4B': {'VBFHHto4B_CV_1_C2V_1_C3_1_2022_postEE': Hist(\n",
       "                  StrCategory(['4b_region'], name='cat', label='Category'),\n",
       "                  StrCategory(['nominal'], name='variation', label='Variation'),\n",
       "                  Regular(64, -3.14159, 3.14159, name='JetGood.phi', label='$\\\\phi_{j}$ for Obj. #5'),\n",
       "                  storage=Weight()) # Sum: WeightedSum(value=1.62887, variance=2.39273e-05) (WeightedSum(value=1.62902, variance=2.39294e-05) with flow)}}),\n",
       "  'JetGood_btagDeepFlavB_5': defaultdict(dict,\n",
       "              {'VBF_HHto4B': {'VBFHHto4B_CV_1_C2V_1_C3_1_2022_postEE': Hist(\n",
       "                  StrCategory(['4b_region'], name='cat', label='Category'),\n",
       "                  StrCategory(['nominal'], name='variation', label='Variation'),\n",
       "                  Regular(50, 0, 1, name='JetGood.btagDeepFlavB', label='AK4 DeepJet b-tag score for Obj. #5'),\n",
       "                  storage=Weight()) # Sum: WeightedSum(value=1.62902, variance=2.39294e-05)}}),\n",
       "  'JetGood_btagDeepFlavCvL_5': defaultdict(dict,\n",
       "              {'VBF_HHto4B': {'VBFHHto4B_CV_1_C2V_1_C3_1_2022_postEE': Hist(\n",
       "                  StrCategory(['4b_region'], name='cat', label='Category'),\n",
       "                  StrCategory(['nominal'], name='variation', label='Variation'),\n",
       "                  Regular(50, 0, 1, name='JetGood.btagDeepFlavCvL', label='AK4 DeepJet CvsL score for Obj. #5'),\n",
       "                  storage=Weight()) # Sum: WeightedSum(value=1.62902, variance=2.39294e-05)}}),\n",
       "  'JetGood_btagDeepFlavCvB_5': defaultdict(dict,\n",
       "              {'VBF_HHto4B': {'VBFHHto4B_CV_1_C2V_1_C3_1_2022_postEE': Hist(\n",
       "                  StrCategory(['4b_region'], name='cat', label='Category'),\n",
       "                  StrCategory(['nominal'], name='variation', label='Variation'),\n",
       "                  Regular(50, 0, 1, name='JetGood.btagDeepFlavCvB', label='AK4 DeepJet CvsB score for Obj. #5'),\n",
       "                  storage=Weight()) # Sum: WeightedSum(value=1.62902, variance=2.39294e-05)}}),\n",
       "  'JetGood_eta_6': defaultdict(dict,\n",
       "              {'VBF_HHto4B': {'VBFHHto4B_CV_1_C2V_1_C3_1_2022_postEE': Hist(\n",
       "                  StrCategory(['4b_region'], name='cat', label='Category'),\n",
       "                  StrCategory(['nominal'], name='variation', label='Variation'),\n",
       "                  Regular(50, -2.5, 2.5, name='JetGood.eta', label='$\\\\eta_{j}$ for Obj. #6'),\n",
       "                  storage=Weight()) # Sum: WeightedSum(value=0.641827, variance=9.4281e-06)}}),\n",
       "  'JetGood_pt_6': defaultdict(dict,\n",
       "              {'VBF_HHto4B': {'VBFHHto4B_CV_1_C2V_1_C3_1_2022_postEE': Hist(\n",
       "                  StrCategory(['4b_region'], name='cat', label='Category'),\n",
       "                  StrCategory(['nominal'], name='variation', label='Variation'),\n",
       "                  Regular(50, 0, 300, name='JetGood.pt', label='$p_{T}^{j}$ [GeV] for Obj. #6'),\n",
       "                  storage=Weight()) # Sum: WeightedSum(value=0.605853, variance=8.89966e-06) (WeightedSum(value=0.641827, variance=9.4281e-06) with flow)}}),\n",
       "  'JetGood_phi_6': defaultdict(dict,\n",
       "              {'VBF_HHto4B': {'VBFHHto4B_CV_1_C2V_1_C3_1_2022_postEE': Hist(\n",
       "                  StrCategory(['4b_region'], name='cat', label='Category'),\n",
       "                  StrCategory(['nominal'], name='variation', label='Variation'),\n",
       "                  Regular(64, -3.14159, 3.14159, name='JetGood.phi', label='$\\\\phi_{j}$ for Obj. #6'),\n",
       "                  storage=Weight()) # Sum: WeightedSum(value=0.641798, variance=9.42767e-06) (WeightedSum(value=0.641827, variance=9.4281e-06) with flow)}}),\n",
       "  'JetGood_btagDeepFlavB_6': defaultdict(dict,\n",
       "              {'VBF_HHto4B': {'VBFHHto4B_CV_1_C2V_1_C3_1_2022_postEE': Hist(\n",
       "                  StrCategory(['4b_region'], name='cat', label='Category'),\n",
       "                  StrCategory(['nominal'], name='variation', label='Variation'),\n",
       "                  Regular(50, 0, 1, name='JetGood.btagDeepFlavB', label='AK4 DeepJet b-tag score for Obj. #6'),\n",
       "                  storage=Weight()) # Sum: WeightedSum(value=0.641827, variance=9.4281e-06)}}),\n",
       "  'JetGood_btagDeepFlavCvL_6': defaultdict(dict,\n",
       "              {'VBF_HHto4B': {'VBFHHto4B_CV_1_C2V_1_C3_1_2022_postEE': Hist(\n",
       "                  StrCategory(['4b_region'], name='cat', label='Category'),\n",
       "                  StrCategory(['nominal'], name='variation', label='Variation'),\n",
       "                  Regular(50, 0, 1, name='JetGood.btagDeepFlavCvL', label='AK4 DeepJet CvsL score for Obj. #6'),\n",
       "                  storage=Weight()) # Sum: WeightedSum(value=0.641827, variance=9.4281e-06)}}),\n",
       "  'JetGood_btagDeepFlavCvB_6': defaultdict(dict,\n",
       "              {'VBF_HHto4B': {'VBFHHto4B_CV_1_C2V_1_C3_1_2022_postEE': Hist(\n",
       "                  StrCategory(['4b_region'], name='cat', label='Category'),\n",
       "                  StrCategory(['nominal'], name='variation', label='Variation'),\n",
       "                  Regular(50, 0, 1, name='JetGood.btagDeepFlavCvB', label='AK4 DeepJet CvsB score for Obj. #6'),\n",
       "                  storage=Weight()) # Sum: WeightedSum(value=0.641827, variance=9.4281e-06)}})},\n",
       " 'columns': {'VBF_HHto4B': {'VBFHHto4B_CV_1_C2V_1_C3_1_2022_postEE': {'4b_region': {'weight': column_accumulator(array([50.83625768, 50.83625768, 50.83625768, ..., 50.83625768,\n",
       "            50.83625768, 50.83625768])),\n",
       "     'JetGood_N': column_accumulator(array([5, 6, 4, ..., 4, 5, 5])),\n",
       "     'JetGood_pt': column_accumulator(array([ 90.09551 ,  66.952835,  50.39922 , ...,  56.84095 , 146.20296 ,\n",
       "             47.467266], dtype=float32)),\n",
       "     'JetGood_eta': column_accumulator(array([ 0.25915527, -0.06855774, -1.1745605 , ...,  0.07191467,\n",
       "            -1.1135254 , -2.458496  ], dtype=float32)),\n",
       "     'JetGood_phi': column_accumulator(array([-0.47698975, -2.0112305 , -2.6166992 , ...,  0.05157471,\n",
       "             2.3867188 , -0.23294067], dtype=float32)),\n",
       "     'JetGood_mass': column_accumulator(array([11.234375 ,  7.328125 ,  5.5546875, ...,  8.0703125, 14.5859375,\n",
       "             6.03125  ], dtype=float32)),\n",
       "     'JetGood_btagPNetB': column_accumulator(array([0.99902344, 0.99902344, 0.99902344, ..., 0.93408203, 0.9082031 ,\n",
       "            0.03027344], dtype=float32)),\n",
       "     'JetGood_hadronFlavour': column_accumulator(array([5, 5, 5, ..., 5, 5, 0], dtype=uint8))}}}},\n",
       " 'processing_metadata': {},\n",
       " 'datasets_metadata': {'by_datataking_period': {'2022_postEE': defaultdict(set,\n",
       "               {'VBF_HHto4B': {'VBFHHto4B_CV_1_C2V_1_C3_1_2022_postEE'}})},\n",
       "  'by_dataset': defaultdict(dict,\n",
       "              {'VBFHHto4B_CV_1_C2V_1_C3_1_2022_postEE': {'das_names': \"['/VBFHHto4B_CV_1_C2V_1_C3_1_TuneCP5_13p6TeV_madgraph-pythia8/Run3Summer22EENanoAODv12-130X_mcRun3_2022_realistic_postEE_v6-v3/NANOAODSIM']\",\n",
       "                'sample': 'VBF_HHto4B',\n",
       "                'year': '2022_postEE',\n",
       "                'isMC': 'True',\n",
       "                'xsec': '0.001906',\n",
       "                'part': 'CV_1_C2V_1_C3_1',\n",
       "                'nevents': '3460727',\n",
       "                'size': '7245324150'}})}}"
      ]
     },
     "execution_count": 9,
     "metadata": {},
     "output_type": "execute_result"
    }
   ],
   "source": [
    "o"
   ]
  },
  {
   "cell_type": "code",
   "execution_count": 10,
   "metadata": {},
   "outputs": [
    {
     "name": "stdout",
     "output_type": "stream",
     "text": [
      "{'initial': {'VBFHHto4B_CV_1_C2V_1_C3_1_2022_postEE': 3460727}, 'skim': {'VBFHHto4B_CV_1_C2V_1_C3_1_2022_postEE': 761360}, 'presel': {'VBFHHto4B_CV_1_C2V_1_C3_1_2022_postEE': 536318}, '4b_region': {'VBFHHto4B_CV_1_C2V_1_C3_1_2022_postEE': {'VBF_HHto4B': 146112}}}\n",
      "<class 'coffea.processor.accumulator.column_accumulator'>\n",
      "<class 'coffea.processor.accumulator.column_accumulator'>\n",
      "<class 'coffea.processor.accumulator.column_accumulator'>\n",
      "<class 'coffea.processor.accumulator.column_accumulator'>\n",
      "<class 'coffea.processor.accumulator.column_accumulator'>\n",
      "<class 'coffea.processor.accumulator.column_accumulator'>\n",
      "<class 'coffea.processor.accumulator.column_accumulator'>\n",
      "<class 'coffea.processor.accumulator.column_accumulator'>\n"
     ]
    }
   ],
   "source": [
    "\n",
    "col = o[\"columns\"][\"VBF_HHto4B\"][\n",
    "    \"VBFHHto4B_CV_1_C2V_1_C3_1_2022_postEE\"\n",
    "][\"4b_region\"]\n",
    "print(o[\"cutflow\"])\n",
    "for k in col.keys():\n",
    "    print(type(col[k]))\n",
    "    col[k] = col[k].value #[col[k].value != -999]"
   ]
  },
  {
   "cell_type": "code",
   "execution_count": 13,
   "metadata": {},
   "outputs": [
    {
     "name": "stdout",
     "output_type": "stream",
     "text": [
      "dict_keys(['weight', 'JetGood_N', 'JetGood_pt', 'JetGood_eta', 'JetGood_phi', 'JetGood_mass', 'JetGood_btagPNetB', 'JetGood_hadronFlavour'])\n",
      "weight <class 'numpy.ndarray'>\n",
      "JetGood_N <class 'numpy.ndarray'>\n",
      "JetGood_pt <class 'numpy.ndarray'>\n",
      "JetGood_eta <class 'numpy.ndarray'>\n",
      "JetGood_phi <class 'numpy.ndarray'>\n",
      "JetGood_mass <class 'numpy.ndarray'>\n",
      "JetGood_btagPNetB <class 'numpy.ndarray'>\n",
      "JetGood_hadronFlavour <class 'numpy.ndarray'>\n"
     ]
    }
   ],
   "source": [
    "print(col.keys())\n",
    "for k in col.keys():\n",
    "    print(k, type(col[k]))\n"
   ]
  },
  {
   "cell_type": "markdown",
   "metadata": {},
   "source": [
    "1) bQuark -> all b-quark (4 quark per event)\n",
    "2) bQuark matched -> b-quark matched with jet-good (4quark/events), when there’s no matching a padding is present in the array\n",
    "3) bQuark matched Higgs ->  b-quark matched with jet-good Higgs\n",
    "4) Jet good -> all jets passing pre-selection (irregular array of at least for jets per event since we require N_jet_good>=4 in the event preselection)\n",
    "5) Jet good Higgs -> similar as 4) but only 4 leading jets in b-tag (i.e. as in the analysis selection)\n",
    "6) Jet good matched -> similar as 4) but with parton matching switched on ( when there’s no matching a padding is present in the array)\n",
    "7) Jet good matched Higgs -> similar as 6) but only 4 leading jets in b-tag  (i.e. as in the analysis selection)"
   ]
  },
  {
   "cell_type": "code",
   "execution_count": 16,
   "metadata": {},
   "outputs": [
    {
     "name": "stdout",
     "output_type": "stream",
     "text": [
      "[[90.1, 67, 50.4, 84.2, 38.5], [136, 39.6, ... 64.2], [146, 62, 56.8, 146, 47.5]]\n"
     ]
    }
   ],
   "source": [
    "\n",
    "jet_good_matched_provenance_unflat = ak.unflatten(\n",
    "    col[\"JetGood_pt\"], col[\"JetGood_N\"]\n",
    ")\n",
    "\n",
    "print(jet_good_matched_provenance_unflat)"
   ]
  },
  {
   "cell_type": "code",
   "execution_count": 8,
   "metadata": {},
   "outputs": [
    {
     "name": "stdout",
     "output_type": "stream",
     "text": [
      "24524\n",
      "29424\n",
      "29424\n",
      "[   1.    2.    1.    2. -999.    1.]\n"
     ]
    }
   ],
   "source": [
    "print(ak.sum(col[\"JetGoodHiggsMatched_N\"]))\n",
    "print(ak.sum(col[\"JetGoodMatched_N\"]))\n",
    "print(ak.sum(col[\"JetGood_N\"]))\n",
    "print((col[\"JetGoodMatched_provenance\"][:6]))"
   ]
  },
  {
   "cell_type": "code",
   "execution_count": 9,
   "metadata": {},
   "outputs": [
    {
     "name": "stdout",
     "output_type": "stream",
     "text": [
      "[[1, 2, 1, 2, -999], [1, 2, 2, 1], ... -999, -999], [1, 2, -999, 2, 1, -999, -999]]\n",
      "3345\n",
      "0.056203288490284005\n",
      "0.030663839504159192\n",
      "[[1, -999, 2, 1, 2, -999], [1, 2, 2, ... -999, -999], [1, 2, -999, 2, 1, -999, -999]]\n",
      "[[1, -999, 0.854, 0.81, 0.441, -999], ... 1, 0.976, -999, 0.887, 0.859, -999, -999]]\n",
      "percentage 0.01565813081063448\n",
      "[[1, 0.917, 0.854, 0.81, 0.441, 0.00462, ... 0.909, 0.887, 0.859, 0.0679, 0.0151]]\n",
      "[0.441, 0.25, 0.363, 0.249, 0.84, 0.129, ... 0.145, 0.384, 0.238, 0.807, 0.859]\n"
     ]
    },
    {
     "data": {
      "text/plain": [
       "<Array [[1, 0.99, 0.857, ... -999, -999]] type='6131 * var * float64'>"
      ]
     },
     "execution_count": 9,
     "metadata": {},
     "output_type": "execute_result"
    },
    {
     "data": {
      "image/png": "[encoded data removed]",
      "text/plain": [
       "<Figure size 1920x1440 with 1 Axes>"
      ]
     },
     "metadata": {},
     "output_type": "display_data"
    }
   ],
   "source": [
    "jet_good_matched_provenance_unflat = ak.unflatten(\n",
    "    col[\"JetGoodMatched_provenance\"], col[\"JetGoodMatched_N\"]\n",
    ")\n",
    "\n",
    "\n",
    "print(jet_good_matched_provenance_unflat)\n",
    "five_jets = col[\"JetGoodMatched_N\"]>=5\n",
    "print(ak.sum(five_jets))\n",
    "mask_5_matched =jet_good_matched_provenance_unflat[five_jets][:,4] != -999.\n",
    "mask_5_matched_btag=jet_good_matched_provenance_unflat\n",
    "print(ak.sum(mask_5_matched)/ak.sum(five_jets))\n",
    "print(ak.sum(mask_5_matched)/len(col[\"JetGoodMatched_N\"]))\n",
    "print(jet_good_matched_provenance_unflat[five_jets][mask_5_matched])\n",
    "\n",
    "\n",
    "jet_good_matched_btag_unflat=ak.unflatten(col[\"JetGoodMatched_btagPNetB\"], col[\"JetGoodMatched_N\"])\n",
    "jet_good_btag_unflat=ak.unflatten(col[\"JetGood_btagPNetB\"], col[\"JetGoodMatched_N\"])\n",
    "print(jet_good_matched_btag_unflat[five_jets][mask_5_matched])\n",
    "mask_5jet_btag = jet_good_matched_btag_unflat[five_jets][mask_5_matched][:,4] > 0.2605\n",
    "print(\"percentage\", ak.sum(mask_5jet_btag)/len(col[\"JetGoodMatched_N\"]))\n",
    "print(jet_good_btag_unflat[five_jets][mask_5_matched])\n",
    "plt.hist(jet_good_matched_btag_unflat[five_jets][mask_5_matched][:,4], bins=np.linspace(0,1,100), histtype=\"step\", label=\"matched\")\n",
    "\n",
    "print(jet_good_matched_btag_unflat[five_jets][mask_5_matched][:,4])\n",
    "jet_good_matched_btag_unflat"
   ]
  },
  {
   "cell_type": "code",
   "execution_count": 10,
   "metadata": {},
   "outputs": [
    {
     "name": "stdout",
     "output_type": "stream",
     "text": [
      "[1, 1]\n",
      "[2, 2]\n"
     ]
    }
   ],
   "source": [
    "a=ak.Array([[1, None], [1, None]])\n",
    "print(ak.count(a, axis=1))\n",
    "print(ak.num(a))"
   ]
  },
  {
   "cell_type": "code",
   "execution_count": 11,
   "metadata": {},
   "outputs": [
    {
     "name": "stdout",
     "output_type": "stream",
     "text": [
      "3345\n",
      "2786\n",
      "0.4948093748583345\n",
      "0.5051906251416656\n"
     ]
    }
   ],
   "source": [
    "print(ak.sum(col[\"JetGoodMatched_N\"]>=5))\n",
    "print(ak.sum(col[\"JetGoodMatched_N\"]==4))\n",
    "tot=ak.sum(col[\"JetGoodMatched_N\"]==5)*5+ak.sum(col[\"JetGoodMatched_N\"]==4)*4\n",
    "print(ak.sum(col[\"JetGoodMatched_N\"]==5)*5/tot)\n",
    "print(ak.sum(col[\"JetGoodMatched_N\"]==4)*4/tot)"
   ]
  },
  {
   "cell_type": "code",
   "execution_count": null,
   "metadata": {},
   "outputs": [],
   "source": []
  }
 ],
 "metadata": {
  "kernelspec": {
   "display_name": "Python 3",
   "language": "python",
   "name": "python3"
  },
  "language_info": {
   "codemirror_mode": {
    "name": "ipython",
    "version": 3
   },
   "file_extension": ".py",
   "mimetype": "text/x-python",
   "name": "python",
   "nbconvert_exporter": "python",
   "pygments_lexer": "ipython3",
   "version": "3.9.18"
  }
 },
 "nbformat": 4,
 "nbformat_minor": 2
}
