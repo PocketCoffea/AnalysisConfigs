{
 "cells": [
  {
   "cell_type": "code",
   "execution_count": 31,
   "metadata": {},
   "outputs": [],
   "source": [
    "from coffea.nanoevents import NanoEventsFactory, NanoAODSchema\n",
    "import awkward as ak\n",
    "import matplotlib.pyplot as plt\n",
    "import numba\n",
    "from numba import njit\n",
    "import numpy as np\n",
    "from pocket_coffea.lib.parton_provenance import reverse_index_array"
   ]
  },
  {
   "cell_type": "markdown",
   "metadata": {},
   "source": [
    "# use the last b quark for the matching"
   ]
  },
  {
   "cell_type": "code",
   "execution_count": 32,
   "metadata": {},
   "outputs": [
    {
     "name": "stdout",
     "output_type": "stream",
     "text": [
      "Events read: 57232\n"
     ]
    }
   ],
   "source": [
    "j=0\n",
    "filename =\"root://storage01.lcg.cscs.ch:1096//pnfs/lcg.cscs.ch/cms/trivcat//store/mc/Run3Summer22EENanoAODv12/GluGlutoHHto4B_kl-1p00_kt-1p00_c2-0p00_TuneCP5_13p6TeV_powheg-pythia8/NANOAODSIM/Poisson60KeepRAW_130X_mcRun3_2022_realistic_postEE_v6-v2/50000/fc603037-ef65-4bbf-9cef-934ecec40bbe.root\"\n",
    "filename =\"/pnfs/psi.ch/cms/trivcat/store/user/mmalucch/hh4b_12.root\"\n",
    "events = NanoEventsFactory.from_root(filename, schemaclass=NanoAODSchema, entry_start=j, entry_stop=j+100000).events()\n",
    "print(\"Events read:\", len(events))"
   ]
  },
  {
   "cell_type": "code",
   "execution_count": 33,
   "metadata": {},
   "outputs": [
    {
     "name": "stdout",
     "output_type": "stream",
     "text": [
      "[0, 1, 2, 3, 4, 5, 6, 7, 8, 9, 10, ... 60, 61, 62, 63, 64, 65, 66, 67, 68, 69, 70]\n",
      "[0, 1, 2, 3, 4, 5, 6, 7, 8, 9, 10, ... 55, 56, 57, 58, 59, 60, 61, 62, 63, 64, 65]\n",
      "[[5, -5, 5, -5], [-5, 5, 5, -5], [-5, 5, ... 5, -5], [-5, 5, 5, -5], [5, 5, -5, -5]] [[17, 18, 19, 20], [17, 16, 20, 19], [20, ... [26, 25, 23, 24], [18, 16, 17, 19]] [[[38, 39, 59, 60], [], [], []], [[], [], [], ... [[], [], [], []], [[], [], [], []]] [[True, True, True, True], [True, True, ... True, True], [True, True, True, True]]\n",
      "[[[-513, 523, 11, -11], [], [], []], [[], [], ... [], [], [], []], [[], [], [], []]] [[[33, 33, 33, 33], [], [], []], [[], [], [], ... [[], [], [], []], [[], [], [], []]] [[[True, True, True, True], [], [], []], [[], ... [], [], []], [[], [], [], []]]\n",
      "\n",
      "loop\n",
      "old:  pdg [[5, -5, 5, -5], [-5, 5, 5, -5], [-5, 5, ... 5, -5], [-5, 5, 5, -5], [5, 5, -5, -5]] mother_idx [[17, 18, 19, 20], [17, 16, 20, 19], [20, ... [26, 25, 23, 24], [18, 16, 17, 19]] pt [[116, 124, 186, 13.8], [87.2, 35.4, 103, ... 27.4, 44.4], [106, 50.1, 174, 39.6]] index [[33, 37, 40, 42], [21, 27, 32, 33], [21, ... [27, 33, 38, 40], [20, 22, 37, 40]] fromHardProcess [[True, True, True, True], [True, True, ... True, True], [True, True, True, True]]\n",
      "mother:  pdg [[5, -5, 5, -5], [-5, 5, 5, -5], [-5, 5, ... 5, -5], [-5, 5, 5, -5], [5, 5, -5, -5]] mother_idx [[15, 15, 16, 16], [14, 14, 18, 15], [16, ... [21, 21, 20, 20], [15, 14, 14, 15]] pt [[128, 164, 218, 21.7], [93, 44, 103, 31.5, ... 41.1, 57, 101], [168, 59.2, 200, 43]]\n",
      "new:  pdg [[5, -5, 5, -5], [-5, 5, 5, -5], [-5, 5, ... 5, -5], [-5, 5, 5, -5], [5, 5, -5, -5]] mother_idx [[15, 15, 16, 16], [14, 14, 18, 15], [16, ... [21, 21, 20, 20], [15, 14, 14, 15]] pt [[128, 164, 218, 21.7], [93, 44, 103, 31.5, ... 41.1, 57, 101], [168, 59.2, 200, 43]]\n",
      "[True, True, True, True, True, True, True, ... True, True, True, True, True, True]\n",
      "\n",
      "loop\n",
      "old:  pdg [[5, -5, 5, -5], [-5, 5, 5, -5], [-5, 5, ... 5, -5], [-5, 5, 5, -5], [5, 5, -5, -5]] mother_idx [[15, 15, 16, 16], [14, 14, 18, 15], [16, ... [21, 21, 20, 20], [15, 14, 14, 15]] pt [[128, 164, 218, 21.7], [93, 44, 103, 31.5, ... 41.1, 57, 101], [168, 59.2, 200, 43]] index [[17, 18, 19, 20], [17, 16, 20, 19], [20, ... [26, 25, 23, 24], [18, 16, 17, 19]] fromHardProcess [[True, True, True, True], [True, True, ... True, True], [True, True, True, True]]\n",
      "mother:  pdg [[25, 25, 25, 25], [25, 25, 5, 25], [25, ... 25], [25, 25, 25, 25], [25, 25, 25, 25]] mother_idx [[13, 13, 14, 14], [9, 9, 15, 10], [12, ... 15], [18, 18, 17, 17], [12, 11, 11, 12]] pt [[265, 265, 209, 209], [87.2, 87.2, 105, ... 100, 114, 114], [178, 254, 254, 178]]\n",
      "new:  pdg [[5, -5, 5, -5], [-5, 5, 5, -5], [-5, 5, ... 5, -5], [-5, 5, 5, -5], [5, 5, -5, -5]] mother_idx [[15, 15, 16, 16], [14, 14, 15, 15], [16, ... [21, 21, 20, 20], [15, 14, 14, 15]] pt [[128, 164, 218, 21.7], [93, 44, 105, 31.5, ... 41.1, 57, 101], [168, 59.2, 200, 43]]\n",
      "[False, True, False, True, False, True, ... False, False, False, False, False, False]\n",
      "\n",
      "loop\n",
      "old:  pdg [[5, -5, 5, -5], [-5, 5, 5, -5], [-5, 5, ... 5, -5], [-5, 5, 5, -5], [5, 5, -5, -5]] mother_idx [[15, 15, 16, 16], [14, 14, 15, 15], [16, ... [21, 21, 20, 20], [15, 14, 14, 15]] pt [[128, 164, 218, 21.7], [93, 44, 105, 31.5, ... 41.1, 57, 101], [168, 59.2, 200, 43]] index [[17, 18, 19, 20], [17, 16, 18, 19], [20, ... [26, 25, 23, 24], [18, 16, 17, 19]] fromHardProcess [[True, True, True, True], [True, True, ... True, True], [True, True, True, True]]\n",
      "mother:  pdg [[25, 25, 25, 25], [25, 25, 25, 25], [25, ... [25, 25, 25, 25], [25, 25, 25, 25]] mother_idx [[13, 13, 14, 14], [9, 9, 10, 10], [12, ... 15], [18, 18, 17, 17], [12, 11, 11, 12]] pt [[265, 265, 209, 209], [87.2, 87.2, 108, ... 100, 114, 114], [178, 254, 254, 178]]\n",
      "new:  pdg [[5, -5, 5, -5], [-5, 5, 5, -5], [-5, 5, ... 5, -5], [-5, 5, 5, -5], [5, 5, -5, -5]] mother_idx [[15, 15, 16, 16], [14, 14, 15, 15], [16, ... [21, 21, 20, 20], [15, 14, 14, 15]] pt [[128, 164, 218, 21.7], [93, 44, 105, 31.5, ... 41.1, 57, 101], [168, 59.2, 200, 43]]\n",
      "[False, False, False, False, False, False, ... False, False, False, False, False]\n",
      "\n",
      "loop\n",
      "old:  pdg [[5, -5, 5, -5], [-5, 5, 5, -5], [-5, 5, ... 5, -5], [-5, 5, 5, -5], [5, 5, -5, -5]] mother_idx [[15, 15, 16, 16], [14, 14, 15, 15], [16, ... [21, 21, 20, 20], [15, 14, 14, 15]] pt [[128, 164, 218, 21.7], [93, 44, 105, 31.5, ... 41.1, 57, 101], [168, 59.2, 200, 43]] index [[17, 18, 19, 20], [17, 16, 18, 19], [20, ... [26, 25, 23, 24], [18, 16, 17, 19]] fromHardProcess [[True, True, True, True], [True, True, ... True, True], [True, True, True, True]]\n",
      "mother:  pdg [[25, 25, 25, 25], [25, 25, 25, 25], [25, ... [25, 25, 25, 25], [25, 25, 25, 25]] mother_idx [[13, 13, 14, 14], [9, 9, 10, 10], [12, ... 15], [18, 18, 17, 17], [12, 11, 11, 12]] pt [[265, 265, 209, 209], [87.2, 87.2, 108, ... 100, 114, 114], [178, 254, 254, 178]]\n",
      "new:  pdg [[5, -5, 5, -5], [-5, 5, 5, -5], [-5, 5, ... 5, -5], [-5, 5, 5, -5], [5, 5, -5, -5]] mother_idx [[15, 15, 16, 16], [14, 14, 15, 15], [16, ... [21, 21, 20, 20], [15, 14, 14, 15]] pt [[128, 164, 218, 21.7], [93, 44, 105, 31.5, ... 41.1, 57, 101], [168, 59.2, 200, 43]]\n",
      "[False, False, False, False, False, False, ... False, False, False, False, False]\n",
      "\n",
      "loop\n",
      "old:  pdg [[5, -5, 5, -5], [-5, 5, 5, -5], [-5, 5, ... 5, -5], [-5, 5, 5, -5], [5, 5, -5, -5]] mother_idx [[15, 15, 16, 16], [14, 14, 15, 15], [16, ... [21, 21, 20, 20], [15, 14, 14, 15]] pt [[128, 164, 218, 21.7], [93, 44, 105, 31.5, ... 41.1, 57, 101], [168, 59.2, 200, 43]] index [[17, 18, 19, 20], [17, 16, 18, 19], [20, ... [26, 25, 23, 24], [18, 16, 17, 19]] fromHardProcess [[True, True, True, True], [True, True, ... True, True], [True, True, True, True]]\n",
      "mother:  pdg [[25, 25, 25, 25], [25, 25, 25, 25], [25, ... [25, 25, 25, 25], [25, 25, 25, 25]] mother_idx [[13, 13, 14, 14], [9, 9, 10, 10], [12, ... 15], [18, 18, 17, 17], [12, 11, 11, 12]] pt [[265, 265, 209, 209], [87.2, 87.2, 108, ... 100, 114, 114], [178, 254, 254, 178]]\n",
      "new:  pdg [[5, -5, 5, -5], [-5, 5, 5, -5], [-5, 5, ... 5, -5], [-5, 5, 5, -5], [5, 5, -5, -5]] mother_idx [[15, 15, 16, 16], [14, 14, 15, 15], [16, ... [21, 21, 20, 20], [15, 14, 14, 15]] pt [[128, 164, 218, 21.7], [93, 44, 105, 31.5, ... 41.1, 57, 101], [168, 59.2, 200, 43]]\n",
      "[False, False, False, False, False, False, ... False, False, False, False, False]\n",
      "[[5, -5, 5, -5], [-5, 5, 5, -5], [-5, 5, ... 5, -5], [-5, 5, 5, -5], [5, 5, -5, -5]] [[15, 15, 16, 16], [14, 14, 15, 15], [16, ... [21, 21, 20, 20], [15, 14, 14, 15]] [[128, 164, 218, 21.7], [93, 44, 105, 31.5, ... 41.1, 57, 101], [168, 59.2, 200, 43]]\n",
      "[[15, 15, 16, 16], [14, 14, 15, 15], [16, ... [21, 21, 20, 20], [15, 14, 14, 15]] 57232\n",
      "[[17, 18, 19, 20], [17, 16, 18, 19], [20, ... [26, 25, 23, 24], [18, 16, 17, 19]] 57232\n",
      "[[5, -5, 5, -5], [-5, 5, 5, -5], [-5, 5, ... 5, -5], [-5, 5, 5, -5], [5, 5, -5, -5]] [[33, 37, 40, 42], [21, 27, 32, 33], [21, ... [27, 33, 38, 40], [20, 22, 37, 40]] [[116, 124, 186, 13.8], [87.2, 35.4, 103, ... 27.4, 44.4], [106, 50.1, 174, 39.6]] 57232 [[True, True, True, True], [True, True, ... True, True], [True, True, True, True]]\n"
     ]
    }
   ],
   "source": [
    "# add column with the index\n",
    "events.GenPart = ak.with_field(\n",
    "    events.GenPart, ak.local_index(events.GenPart, axis=1), \"index\"\n",
    ")\n",
    "print(events.GenPart.index[0])\n",
    "print(events.GenPart.index[1])\n",
    "# get last bquark copy\n",
    "isB = abs(events.GenPart.pdgId) == 5\n",
    "isLast = events.GenPart.hasFlags([\"isLastCopy\"])\n",
    "isHard = events.GenPart.hasFlags([\"fromHardProcess\"])\n",
    "bquarks_last = events.GenPart[isB & isLast & isHard]\n",
    "\n",
    "print(bquarks_last.pdgId, bquarks_last.genPartIdxMother, bquarks_last.childrenIdxG, bquarks_last.hasFlags([\"isLastCopy\"]))\n",
    "bquark_last_children=bquarks_last.children\n",
    "print(bquark_last_children.pdgId, bquark_last_children.genPartIdxMother, bquark_last_children.hasFlags([\"isLastCopy\"]))\n",
    "\n",
    "b_quarks = bquarks_last\n",
    "while True:\n",
    "    print(\"\\nloop\")\n",
    "    b_mother = events.GenPart[b_quarks.genPartIdxMother]\n",
    "    mask_mother = (abs(b_mother.pdgId) == 5) | ((b_mother.pdgId) == 25)\n",
    "\n",
    "    bquarks_last = bquarks_last[mask_mother]\n",
    "    b_quarks = b_quarks[mask_mother]\n",
    "    b_mother = b_mother[mask_mother]\n",
    "    print(\n",
    "        \"old: \",\n",
    "        \"pdg\",\n",
    "        b_quarks.pdgId,\n",
    "        \"mother_idx\",\n",
    "        b_quarks.genPartIdxMother,\n",
    "        \"pt\",\n",
    "        b_quarks.pt,\n",
    "        \"index\",\n",
    "        b_quarks.index,\n",
    "        \"fromHardProcess\",\n",
    "        b_quarks.hasFlags([\"fromHardProcess\"]),\n",
    "    )\n",
    "    print(\n",
    "        \"mother: \",\n",
    "        \"pdg\",\n",
    "        b_mother.pdgId,\n",
    "        \"mother_idx\",\n",
    "        b_mother.genPartIdxMother,\n",
    "        \"pt\",\n",
    "        b_mother.pt,\n",
    "    )\n",
    "    # break\n",
    "    b_quarks = ak.where(abs(b_mother.pdgId) == 5, b_mother, b_quarks)\n",
    "    print(\n",
    "        \"new: \",\n",
    "        \"pdg\",\n",
    "        b_quarks.pdgId,\n",
    "        \"mother_idx\",\n",
    "        b_quarks.genPartIdxMother,\n",
    "        \"pt\",\n",
    "        b_quarks.pt,\n",
    "    )\n",
    "\n",
    "    print(ak.any(abs(b_mother.pdgId) != 25, axis=1))\n",
    "    if ak.all(abs(b_mother.pdgId) == 25):\n",
    "        break\n",
    "\n",
    "print(b_quarks.pdgId, b_quarks.genPartIdxMother, b_quarks.pt)\n",
    "print(b_quarks.genPartIdxMother, len(b_quarks.genPartIdxMother))\n",
    "print(b_quarks.index, len(b_quarks.index))\n",
    "print(bquarks_last.pdgId, bquarks_last.index,  bquarks_last.pt, len(bquarks_last.index), bquarks_last.hasFlags([\"fromHardProcess\"]))"
   ]
  },
  {
   "cell_type": "code",
   "execution_count": 34,
   "metadata": {},
   "outputs": [
    {
     "name": "stdout",
     "output_type": "stream",
     "text": [
      "[[33, 37, 40, 42], [21, 27, 32, 33], [21, ... [27, 33, 38, 40], [20, 22, 37, 40]] 57232\n"
     ]
    }
   ],
   "source": [
    "print(bquarks_last.index, len(bquarks_last.index))\n"
   ]
  },
  {
   "cell_type": "markdown",
   "metadata": {},
   "source": [
    "# NUMBA"
   ]
  },
  {
   "cell_type": "code",
   "execution_count": 35,
   "metadata": {},
   "outputs": [],
   "source": [
    "genpart =events.GenPart\n",
    "\n",
    "# get last bquark copy\n",
    "isB = abs(genpart.pdgId) == 5\n",
    "isLast = genpart.hasFlags([\"isLastCopy\"])\n",
    "isFirst = genpart.hasFlags([\"isFirstCopy\"])\n",
    "isHard = genpart.hasFlags([\"fromHardProcess\"])\n",
    "\n",
    "isHiggs = genpart.pdgId == 25\n",
    "higgs = genpart[isHiggs & isLast & isHard]\n",
    "higgs = higgs[ak.num(higgs.childrenIdxG, axis=2) == 2]\n",
    "\n",
    "higgs = higgs[ak.argsort(higgs.pt, ascending=False)]\n"
   ]
  },
  {
   "cell_type": "code",
   "execution_count": 36,
   "metadata": {},
   "outputs": [
    {
     "name": "stdout",
     "output_type": "stream",
     "text": [
      "[[17, 18, 19, 20, 33, 37, 40, 42], [16, ... 40], [16, 17, 18, 19, 20, 22, 37, 40]] [[15, 15, 16, 16, 17, 18, 19, 20], [14, ... 24], [14, 14, 15, 15, 18, 16, 17, 19]] [[[17, 18], [17, 18], [19, 20, ... 3692853, 3692868], [3692866, 3692867], [3692870]]] [[25, 25, 25, 25, 5, -5, 5, -5], [25, 25, ... 5, -5], [25, 25, 25, 25, 5, 5, -5, -5]]\n",
      "[[True, True, True, True, False, False, ... True, True, False, False, False, False]]\n",
      "[[17, 18, 19, 20], [16, 17, 18, 19], [17, ... [23, 24, 25, 26], [16, 17, 18, 19]] [[15, 15, 16, 16], [14, 14, 15, 15], [15, ... [20, 20, 21, 21], [14, 14, 15, 15]]\n",
      "bquarks_from_higgs [[17, 18, 19, 20], [16, 17, 18, 19], [17, ... [23, 24, 25, 26], [16, 17, 18, 19]] [[5, -5, 5, -5], [5, -5, 5, -5], [5, -5, ... 5, -5], [5, -5, 5, -5], [5, -5, 5, -5]]\n"
     ]
    }
   ],
   "source": [
    "# bquarks = genpart[isB & isHard & isFirst]\n",
    "bquarks = genpart[isB & isHard]\n",
    "mother_bquarks = genpart[bquarks.genPartIdxMother]\n",
    "print(bquarks.index, mother_bquarks.index,mother_bquarks.childrenIdxG, mother_bquarks.pdgId)\n",
    "print(mother_bquarks.pdgId == 25)\n",
    "bquarks_from_higgs = bquarks[mother_bquarks.pdgId == 25]\n",
    "\n",
    "print(bquarks_from_higgs.index, bquarks_from_higgs.genPartIdxMother)\n",
    "print(\"bquarks_from_higgs\", bquarks_from_higgs.index, bquarks_from_higgs.pdgId)"
   ]
  },
  {
   "cell_type": "code",
   "execution_count": 48,
   "metadata": {},
   "outputs": [
    {
     "data": {
      "text/plain": [
       "False"
      ]
     },
     "execution_count": 48,
     "metadata": {},
     "output_type": "execute_result"
    }
   ],
   "source": [
    "# check that bquarks_from_higgs are -5 and 5\n",
    "ak.any(ak.sum(higgs.children.pdgId, axis=2)!=0)\n"
   ]
  },
  {
   "cell_type": "code",
   "execution_count": 37,
   "metadata": {},
   "outputs": [],
   "source": [
    "children_idxG = ak.without_parameters(genpart.childrenIdxG, behavior={})\n",
    "children_idxG_flat = ak.flatten(children_idxG, axis=1)\n",
    "genpart_pdgId_flat = ak.flatten(\n",
    "    ak.without_parameters(genpart.pdgId, behavior={}), axis=1\n",
    ")\n",
    "genpart_LastCopy_flat = ak.flatten(\n",
    "    ak.without_parameters(genpart.hasFlags([\"isLastCopy\"]), behavior={}), axis=1\n",
    ")\n",
    "genpart_pt_flat = ak.flatten(ak.without_parameters(genpart.pt, behavior={}), axis=1)\n",
    "genparts_flat = ak.flatten(genpart)\n",
    "genpart_offsets = np.concatenate(\n",
    "    [[0], np.cumsum(ak.to_numpy(ak.num(genpart, axis=1), allow_missing=True))]\n",
    ")\n",
    "local_index_all = ak.local_index(genpart, axis=1)\n",
    "local_index_b = ak.local_index(bquarks_from_higgs, axis=1)\n",
    "b_quark_idx = ak.to_numpy(bquarks_from_higgs.index + genpart_offsets[:-1], allow_missing=False)\n",
    "b_quarks_pdgId = ak.to_numpy(bquarks_from_higgs.pdgId, allow_missing=False)\n",
    "nevents = b_quark_idx.shape[0]\n",
    "firstgenpart_idxG = ak.firsts(genpart[:, 0].children).genPartIdxMotherG\n",
    "firstgenpart_idxG_numpy = ak.to_numpy(firstgenpart_idxG, allow_missing=False)"
   ]
  },
  {
   "cell_type": "code",
   "execution_count": 38,
   "metadata": {},
   "outputs": [],
   "source": [
    "@njit\n",
    "def get_quark_last_copy(\n",
    "    b_quarks_idx,\n",
    "    b_quarks_pdgId,\n",
    "    children_idxG_flat,\n",
    "    genpart_pdgId_flat,\n",
    "    genpart_offsets,\n",
    "    genpart_LastCopy_flat,\n",
    "    genpart_pt_flat,\n",
    "    nevents,\n",
    "    firstgenpart_idxG_numpy,\n",
    "):\n",
    "    prints = True\n",
    "    # print input array\n",
    "    if prints:\n",
    "        print(\"b_quarks_idx\", b_quarks_idx)\n",
    "        print(\"b_quarks_pdgId\", b_quarks_pdgId)\n",
    "        print(\"children_idxG_flat\", children_idxG_flat)\n",
    "        print(\"genpart_pdgId_flat\", genpart_pdgId_flat)\n",
    "        print(\"genpart_offsets\", genpart_offsets)\n",
    "        print(\"genpart_LastCopy_flat\", genpart_LastCopy_flat)\n",
    "        print(\"nevents\", nevents)\n",
    "\n",
    "    # get the children ofthe b_quarks which have the same pdgId of the mother iteratively until we reach the last copy\n",
    "\n",
    "    out = np.zeros(b_quarks_idx.shape, dtype=\"int64\") - 1\n",
    "\n",
    "    for iev in range(b_quarks_idx.shape[0]):\n",
    "\n",
    "        prints=True if iev==700 else False\n",
    "        if prints:\n",
    "            print(\"\\nEvent\", iev)\n",
    "        for ipart in range(b_quarks_idx.shape[1]):\n",
    "            p_id = b_quarks_idx[iev][ipart]\n",
    "            if prints:\n",
    "                print(\"Parton\", ipart, genpart_LastCopy_flat[p_id], len(children_idxG_flat[p_id]), p_id)\n",
    "            i = 0\n",
    "            if genpart_LastCopy_flat[p_id] or len(children_idxG_flat[p_id]) == 0:\n",
    "                out[iev][ipart] = p_id\n",
    "                if prints:\n",
    "                    print(\"out\", out[iev][ipart], out[iev][ipart]-genpart_offsets[iev])\n",
    "                continue\n",
    "            while (not genpart_LastCopy_flat[p_id]) and (not len(children_idxG_flat[p_id]) == 0) and i<5:\n",
    "                i += 1\n",
    "                children_idxs = reverse_index_array(\n",
    "                    children_idxG_flat[p_id],\n",
    "                    firstgenpart_idxG_numpy,\n",
    "                    genpart_offsets,\n",
    "                    nevents,\n",
    "                )\n",
    "                # children_idxs = children_idxG_flat[p_id]\n",
    "                if prints:\n",
    "                    print(children_idxs)\n",
    "\n",
    "                # get the children with the same pdgId as the mother with highest pt\n",
    "                max_pt = -1\n",
    "                max_pt_idx = p_id\n",
    "\n",
    "                # num_pdg_equal=0\n",
    "                # for child_idx in children_idxs:\n",
    "                #     if genpart_pdgId_flat[child_idx] == b_quarks_pdgId[iev][ipart]:\n",
    "                #         num_pdg_equal+=1\n",
    "                # if num_pdg_equal==1:\n",
    "                #     p_id = children_idxs[0]\n",
    "                #     break\n",
    "                # if prints: print(\"\\n\\n###################\\n\\n\")\n",
    "\n",
    "                for child_idx in children_idxs:\n",
    "                    if prints:\n",
    "                        print(\"Child\", child_idx)\n",
    "                    if prints:\n",
    "                        print(b_quarks_pdgId[iev][ipart])\n",
    "                    if prints:\n",
    "                        print(genpart_pdgId_flat[child_idx])\n",
    "                    if genpart_pdgId_flat[child_idx] != b_quarks_pdgId[iev][ipart]:\n",
    "                        continue\n",
    "                    child_pt = genpart_pt_flat[child_idx]\n",
    "                    if prints:\n",
    "                        print(child_pt)\n",
    "                    if child_pt > max_pt:\n",
    "                        max_pt_idx = child_idx\n",
    "                        max_pt = child_pt\n",
    "\n",
    "                if prints:\n",
    "                    print(\"genpart_LastCopy_flat\", genpart_LastCopy_flat[max_pt_idx])\n",
    "                    print(\"len(children_idxG_flat[p_id])\", len(children_idxG_flat[p_id]))\n",
    "                if genpart_LastCopy_flat[max_pt_idx] or len(children_idxG_flat[max_pt_idx]) == 0 or max_pt==-1:\n",
    "                    if prints:\n",
    "                        print(\"Found child\")\n",
    "                    out[iev][ipart] = max_pt_idx\n",
    "                if prints:\n",
    "                    print(p_id, max_pt_idx)\n",
    "                p_id = max_pt_idx\n",
    "                if prints:\n",
    "                    print(p_id, max_pt_idx)\n",
    "                # break\n",
    "                # if max_pt == -1:\n",
    "                #     max_pt_idx = p_id\n",
    "                if out[iev][ipart] != -1:\n",
    "                    if prints:\n",
    "                        print(\"break\")\n",
    "                    break\n",
    "            if prints:\n",
    "                print(\"out\", out[iev][ipart], out[iev][ipart]-genpart_offsets[iev])\n",
    "\n",
    "    return out"
   ]
  },
  {
   "cell_type": "code",
   "execution_count": 39,
   "metadata": {},
   "outputs": [
    {
     "name": "stdout",
     "output_type": "stream",
     "text": [
      "b_quarks_idx [[     17      18      19      20]\n",
      " [     87      88      89      90]\n",
      " [    154     155     156     157]\n",
      " ...\n",
      " [3692722 3692723 3692724 3692725]\n",
      " [3692786 3692787 3692788 3692789]\n",
      " [3692846 3692847 3692848 3692849]]\n",
      "b_quarks_pdgId [[ 5 -5  5 -5]\n",
      " [ 5 -5  5 -5]\n",
      " [ 5 -5  5 -5]\n",
      " ...\n",
      " [ 5 -5  5 -5]\n",
      " [ 5 -5  5 -5]\n",
      " [ 5 -5  5 -5]]\n",
      "children_idxG_flat [[2, 3, 4], [], [5], [6], [11, 12, 22, ... [], [3692885], [], [], [3692886], [], []]\n",
      "genpart_pdgId_flat [21, 21, 25, 25, 21, 25, 25, 25, 25, ... -411, 411, 423, 14, -13, -423, 421, -421]\n",
      "genpart_offsets [      0      71     137 ... 3692763 3692830 3692887]\n",
      "genpart_LastCopy_flat [False, False, False, False, False, False, ... True, True, True, True, True, True]\n",
      "nevents 57232\n",
      "\n",
      "Event 700\n",
      "Parton 0 False 9 45641\n",
      "[45648 45650 45651 45655 45665 45667 45669 45686 45687]\n",
      "Child 45648\n",
      "5\n",
      "21\n",
      "Child 45650\n",
      "5\n",
      "5\n",
      "13.84375\n",
      "Child 45651\n",
      "5\n",
      "-523\n",
      "Child 45655\n",
      "5\n",
      "-2\n",
      "Child 45665\n",
      "5\n",
      "2\n",
      "Child 45667\n",
      "5\n",
      "21\n",
      "Child 45669\n",
      "5\n",
      "511\n",
      "Child 45686\n",
      "5\n",
      "11\n",
      "Child 45687\n",
      "5\n",
      "-11\n",
      "genpart_LastCopy_flat True\n",
      "len(children_idxG_flat[p_id]) 9\n",
      "Found child\n",
      "45641 45650\n",
      "45650 45650\n",
      "break\n",
      "out 45650 33\n",
      "Parton 1 False 1 45642\n",
      "[45668]\n",
      "Child 45668\n",
      "-5\n",
      "-5\n",
      "93.25\n",
      "genpart_LastCopy_flat True\n",
      "len(children_idxG_flat[p_id]) 1\n",
      "Found child\n",
      "45642 45668\n",
      "45668 45668\n",
      "break\n",
      "out 45668 51\n",
      "Parton 2 False 1 45643\n",
      "[45645]\n",
      "Child 45645\n",
      "5\n",
      "5\n",
      "37.375\n",
      "genpart_LastCopy_flat False\n",
      "len(children_idxG_flat[p_id]) 1\n",
      "45643 45645\n",
      "45645 45645\n",
      "[45646]\n",
      "Child 45646\n",
      "5\n",
      "22\n",
      "genpart_LastCopy_flat False\n",
      "len(children_idxG_flat[p_id]) 1\n",
      "Found child\n",
      "45645 45645\n",
      "45645 45645\n",
      "break\n",
      "out 45645 28\n",
      "Parton 3 False 5 45644\n",
      "[45647 45657 45662 45663 45664]\n",
      "Child 45647\n",
      "-5\n",
      "5\n",
      "Child 45657\n",
      "-5\n",
      "-533\n",
      "Child 45662\n",
      "-5\n",
      "21\n",
      "Child 45663\n",
      "-5\n",
      "-5\n",
      "34.625\n",
      "Child 45664\n",
      "-5\n",
      "523\n",
      "genpart_LastCopy_flat True\n",
      "len(children_idxG_flat[p_id]) 5\n",
      "Found child\n",
      "45644 45663\n",
      "45663 45663\n",
      "break\n",
      "out 45663 46\n",
      "[[     33      37      40      42]\n",
      " [     98      92     103     104]\n",
      " [    168     170     166     158]\n",
      " ...\n",
      " [3692731 3692734 3692724 3692725]\n",
      " [3692801 3692803 3692796 3692790]\n",
      " [3692852 3692867 3692850 3692870]]\n",
      "[      0      71     137 ... 3692703 3692763 3692830]\n",
      "False\n"
     ]
    }
   ],
   "source": [
    "b_quark_last_idx = get_quark_last_copy(\n",
    "    b_quark_idx,\n",
    "    b_quarks_pdgId,\n",
    "    children_idxG_flat,\n",
    "    genpart_pdgId_flat,\n",
    "    genpart_offsets,\n",
    "    genpart_LastCopy_flat,\n",
    "    genpart_pt_flat,\n",
    "    nevents,\n",
    "    firstgenpart_idxG_numpy,\n",
    ")\n",
    "print(b_quark_last_idx)\n",
    "print(genpart_offsets[:-1])\n",
    "print(ak.any(b_quark_last_idx==-1))\n"
   ]
  },
  {
   "cell_type": "code",
   "execution_count": 40,
   "metadata": {},
   "outputs": [],
   "source": [
    "for i in range(len(b_quark_last_idx)):\n",
    "    for j in range(len(b_quark_last_idx[i])):\n",
    "        if b_quark_last_idx[i][j] == -1:\n",
    "            print(b_quark_last_idx[i][j], b_quark_last_idx[i][j]-genpart_offsets[i], b_quarks_pdgId[i][j], genpart_pdgId_flat[b_quark_last_idx[i][j]])\n",
    "            print(i, j)"
   ]
  },
  {
   "cell_type": "code",
   "execution_count": null,
   "metadata": {},
   "outputs": [],
   "source": []
  },
  {
   "cell_type": "code",
   "execution_count": null,
   "metadata": {},
   "outputs": [],
   "source": [
    "bq=genparts_flat[b_quark_last_idx]\n",
    "print(bq.index, bq.pdgId, bq.genPartIdxMother, bq.pt)\n",
    "print(bquarks_last.index, bquarks_last.pdgId, bquarks_last.genPartIdxMother, bquarks_last.pt, bquarks_last.hasFlags([\"fromHardProcess\"]))"
   ]
  },
  {
   "cell_type": "code",
   "execution_count": null,
   "metadata": {},
   "outputs": [],
   "source": [
    "print(\"same index\", ak.all(ak.sum(bq.index, axis=1)==ak.sum(bquarks_last.index, axis=1)))\n",
    "bq_sum=ak.sum(bq.index, axis=1)\n",
    "bquarks_last_sum=ak.sum(bquarks_last.index, axis=1)\n",
    "num_gen_part=ak.num(genpart, axis=1)"
   ]
  },
  {
   "cell_type": "code",
   "execution_count": null,
   "metadata": {},
   "outputs": [],
   "source": [
    "for i in range (len(bq_sum)):\n",
    "    print(bq_sum[i], bquarks_last_sum[i],bq.index[i], bquarks_last.index[i], num_gen_part[i],genpart_offsets[i])"
   ]
  },
  {
   "cell_type": "code",
   "execution_count": null,
   "metadata": {},
   "outputs": [],
   "source": [
    "genp=genparts_flat[218]\n",
    "print(genp.index, genp.pdgId, genp.genPartIdxMother, genp.pt, genp.childrenIdxG, genp.children, genp.hasFlags([\"isLastCopy\"]), genp.hasFlags([\"fromHardProcess\"]))"
   ]
  },
  {
   "cell_type": "code",
   "execution_count": null,
   "metadata": {},
   "outputs": [],
   "source": [
    "gen_old=genparts_flat[225]\n",
    "print(gen_old.index, gen_old.pdgId, gen_old.genPartIdxMother, gen_old.pt, gen_old.childrenIdxG, gen_old.children, gen_old.hasFlags([\"isLastCopy\"]), gen_old.hasFlags([\"fromHardProcess\"]))"
   ]
  },
  {
   "cell_type": "code",
   "execution_count": null,
   "metadata": {},
   "outputs": [],
   "source": [
    "# higgs_children=genparts_flat[higgs.childrenIdxG]\n",
    "print(higgs.childrenIdxG)\n",
    "print(ak.flatten(higgs.childrenIdxG))\n",
    "higgs_children_flat2=ak.flatten(higgs.childrenIdxG, axis=None)\n",
    "print(higgs_children_flat2)\n",
    "print(genparts_flat)\n",
    "higgs_children=genparts_flat[higgs_children_flat2]\n",
    "print(higgs_children.index, higgs_children.pdgId, higgs_children.genPartIdxMother, higgs_children.pt, higgs_children.childrenIdxG, higgs_children.children, higgs_children.hasFlags([\"isLastCopy\"]), higgs_children.hasFlags([\"fromHardProcess\"]))"
   ]
  },
  {
   "cell_type": "code",
   "execution_count": null,
   "metadata": {},
   "outputs": [],
   "source": [
    "print(b_quarks.index, b_quarks.pdgId, b_quarks.genPartIdxMother, b_quarks.pt)\n",
    "print(bquarks_from_higgs.index, bquarks_from_higgs.pdgId, bquarks_from_higgs.genPartIdxMother, bquarks_from_higgs.pt)\n"
   ]
  },
  {
   "cell_type": "code",
   "execution_count": null,
   "metadata": {},
   "outputs": [],
   "source": [
    "bquarks_from_higgs.statusFlags"
   ]
  },
  {
   "cell_type": "code",
   "execution_count": null,
   "metadata": {},
   "outputs": [],
   "source": [
    "print(genpart.childrenIdxG)\n",
    "print(~genpart.hasFlags([\"isLastCopy\"]), genpart.hasFlags([\"isLastCopy\"]))\n",
    "condition=(~genpart.hasFlags([\"isLastCopy\"])) & ak.num(genpart.childrenIdxG, axis=2)==0\n",
    "print(condition)\n",
    "genpart_condition=genpart[condition]\n",
    "print(genpart_condition.index, genpart_condition.pdgId, genpart_condition.genPartIdxMother, genpart_condition.pt, genpart_condition.childrenIdxG, genpart_condition.children, genpart_condition.hasFlags([\"isLastCopy\"]), genpart_condition.hasFlags([\"fromHardProcess\"]))"
   ]
  },
  {
   "cell_type": "code",
   "execution_count": null,
   "metadata": {},
   "outputs": [],
   "source": []
  }
 ],
 "metadata": {
  "kernelspec": {
   "display_name": "Python 3",
   "language": "python",
   "name": "python3"
  },
  "language_info": {
   "codemirror_mode": {
    "name": "ipython",
    "version": 3
   },
   "file_extension": ".py",
   "mimetype": "text/x-python",
   "name": "python",
   "nbconvert_exporter": "python",
   "pygments_lexer": "ipython3",
   "version": "3.9.18"
  }
 },
 "nbformat": 4,
 "nbformat_minor": 2
}
