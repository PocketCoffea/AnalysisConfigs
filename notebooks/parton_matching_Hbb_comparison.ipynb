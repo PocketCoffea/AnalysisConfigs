{
 "cells": [
  {
   "cell_type": "code",
   "execution_count": 2,
   "metadata": {},
   "outputs": [],
   "source": [
    "from coffea.nanoevents import NanoEventsFactory, NanoAODSchema\n",
    "import awkward as ak\n",
    "import matplotlib.pyplot as plt\n",
    "import numba\n",
    "from numba import njit\n",
    "import numpy as np\n",
    "from pocket_coffea.lib.parton_provenance import reverse_index_array\n",
    "from pocket_coffea.lib.deltaR_matching import object_matching\n"
   ]
  },
  {
   "cell_type": "markdown",
   "metadata": {},
   "source": [
    "# use the last b quark for the matching"
   ]
  },
  {
   "cell_type": "code",
   "execution_count": 3,
   "metadata": {},
   "outputs": [
    {
     "name": "stdout",
     "output_type": "stream",
     "text": [
      "Events read: 10\n"
     ]
    }
   ],
   "source": [
    "j=0\n",
    "filename =\"/pnfs/psi.ch/cms/trivcat/store/user/mmalucch/hh4b_12.root\"\n",
    "# filename =\"/pnfs/psi.ch/cms/trivcat/store/mc/Run3Summer22EENanoAODv12/VBFHHto4B_CV_1_C2V_1_C3_1_TuneCP5_13p6TeV_madgraph-pythia8/NANOAODSIM/130X_mcRun3_2022_realistic_postEE_v6-v3/80000/508f1313-c598-48b5-984e-86cd0f02a820.root\"\n",
    "events = NanoEventsFactory.from_root(filename, schemaclass=NanoAODSchema, entry_start=j, entry_stop=j+10).events()\n",
    "print(\"Events read:\", len(events))"
   ]
  },
  {
   "cell_type": "code",
   "execution_count": 4,
   "metadata": {},
   "outputs": [
    {
     "name": "stdout",
     "output_type": "stream",
     "text": [
      "[0, 1, 2, 3, 4, 5, 6, 7, 8, 9, 10, ... 60, 61, 62, 63, 64, 65, 66, 67, 68, 69, 70]\n",
      "[0, 1, 2, 3, 4, 5, 6, 7, 8, 9, 10, ... 55, 56, 57, 58, 59, 60, 61, 62, 63, 64, 65]\n",
      "[[5, -5, 5, -5], [-5, 5, 5, -5], [-5, 5, ... 5, -5], [5, -5, 5, -5], [-5, 5, 5, -5]] [[17, 18, 19, 20], [17, 16, 20, 19], [20, ... [16, 20, 18, 19], [28, 27, 25, 26]] [[[38, 39, 59, 60], [], [], []], [[], [], [], ... [[], [], [], []], [[], [], [], []]] [[True, True, True, True], [True, True, ... True, True], [True, True, True, True]]\n",
      "[[[-513, 523, 11, -11], [], [], []], [[], [], ... [], [], [], []], [[], [], [], []]] [[[33, 33, 33, 33], [], [], []], [[], [], [], ... [[], [], [], []], [[], [], [], []]] [[[True, True, True, True], [], [], []], [[], ... [], [], []], [[], [], [], []]]\n",
      "\n",
      "loop\n",
      "old:  pdg [[5, -5, 5, -5], [-5, 5, 5, -5], [-5, 5, ... 5, -5], [5, -5, 5, -5], [-5, 5, 5, -5]] mother_idx [[17, 18, 19, 20], [17, 16, 20, 19], [20, ... [16, 20, 18, 19], [28, 27, 25, 26]] pt [[116, 124, 186, 13.8], [87.2, 35.4, 103, ... 75.5, 40.6], [27.6, 132, 49.4, 60.5]] index [[33, 37, 40, 42], [21, 27, 32, 33], [21, ... [23, 24, 27, 29], [29, 31, 33, 34]] fromHardProcess [[True, True, True, True], [True, True, ... True, True], [True, True, True, True]]\n",
      "mother:  pdg [[5, -5, 5, -5], [-5, 5, 5, -5], [-5, 5, ... 5, -5], [5, -5, 5, -5], [-5, 5, 5, -5]] mother_idx [[15, 15, 16, 16], [14, 14, 18, 15], [16, ... [14, 17, 15, 15], [24, 24, 23, 23]] pt [[128, 164, 218, 21.7], [93, 44, 103, ... 116, 92.8, 99.8], [37.1, 144, 55.2, 57.6]]\n",
      "new:  pdg [[5, -5, 5, -5], [-5, 5, 5, -5], [-5, 5, ... 5, -5], [5, -5, 5, -5], [-5, 5, 5, -5]] mother_idx [[15, 15, 16, 16], [14, 14, 18, 15], [16, ... [14, 17, 15, 15], [24, 24, 23, 23]] pt [[128, 164, 218, 21.7], [93, 44, 103, ... 116, 92.8, 99.8], [37.1, 144, 55.2, 57.6]]\n",
      "[True, True, True, True, True, True, True, True, True, True]\n",
      "\n",
      "loop\n",
      "old:  pdg [[5, -5, 5, -5], [-5, 5, 5, -5], [-5, 5, ... 5, -5], [5, -5, 5, -5], [-5, 5, 5, -5]] mother_idx [[15, 15, 16, 16], [14, 14, 18, 15], [16, ... [14, 17, 15, 15], [24, 24, 23, 23]] pt [[128, 164, 218, 21.7], [93, 44, 103, ... 116, 92.8, 99.8], [37.1, 144, 55.2, 57.6]] index [[17, 18, 19, 20], [17, 16, 20, 19], [20, ... [16, 20, 18, 19], [28, 27, 25, 26]] fromHardProcess [[True, True, True, True], [True, True, ... True, True], [True, True, True, True]]\n",
      "mother:  pdg [[25, 25, 25, 25], [25, 25, 5, 25], [25, ... 25], [25, -5, 25, 25], [25, 25, 25, 25]] mother_idx [[13, 13, 14, 14], [9, 9, 15, 10], [12, ... 15], [11, 14, 12, 12], [22, 22, 21, 21]] pt [[265, 265, 209, 209], [87.2, 87.2, 105, 108, ... 123, 184, 184], [133, 133, 98, 98]]\n",
      "new:  pdg [[5, -5, 5, -5], [-5, 5, 5, -5], [-5, 5, ... 5, -5], [5, -5, 5, -5], [-5, 5, 5, -5]] mother_idx [[15, 15, 16, 16], [14, 14, 15, 15], [16, ... [14, 14, 15, 15], [24, 24, 23, 23]] pt [[128, 164, 218, 21.7], [93, 44, 105, ... 123, 92.8, 99.8], [37.1, 144, 55.2, 57.6]]\n",
      "[False, True, False, True, False, True, True, False, True, False]\n",
      "\n",
      "loop\n",
      "old:  pdg [[5, -5, 5, -5], [-5, 5, 5, -5], [-5, 5, ... 5, -5], [5, -5, 5, -5], [-5, 5, 5, -5]] mother_idx [[15, 15, 16, 16], [14, 14, 15, 15], [16, ... [14, 14, 15, 15], [24, 24, 23, 23]] pt [[128, 164, 218, 21.7], [93, 44, 105, ... 123, 92.8, 99.8], [37.1, 144, 55.2, 57.6]] index [[17, 18, 19, 20], [17, 16, 18, 19], [20, ... [16, 17, 18, 19], [28, 27, 25, 26]] fromHardProcess [[True, True, True, True], [True, True, ... True, True], [True, True, True, True]]\n",
      "mother:  pdg [[25, 25, 25, 25], [25, 25, 25, 25], [25, ... [25, 25, 25, 25], [25, 25, 25, 25]] mother_idx [[13, 13, 14, 14], [9, 9, 10, 10], [12, ... 15], [11, 11, 12, 12], [22, 22, 21, 21]] pt [[265, 265, 209, 209], [87.2, 87.2, 108, 108, ... 226, 184, 184], [133, 133, 98, 98]]\n",
      "new:  pdg [[5, -5, 5, -5], [-5, 5, 5, -5], [-5, 5, ... 5, -5], [5, -5, 5, -5], [-5, 5, 5, -5]] mother_idx [[15, 15, 16, 16], [14, 14, 15, 15], [16, ... [14, 14, 15, 15], [24, 24, 23, 23]] pt [[128, 164, 218, 21.7], [93, 44, 105, ... 123, 92.8, 99.8], [37.1, 144, 55.2, 57.6]]\n",
      "[False, False, False, False, False, False, False, False, False, False]\n",
      "[[5, -5, 5, -5], [-5, 5, 5, -5], [-5, 5, ... 5, -5], [5, -5, 5, -5], [-5, 5, 5, -5]] [[15, 15, 16, 16], [14, 14, 15, 15], [16, ... [14, 14, 15, 15], [24, 24, 23, 23]] [[128, 164, 218, 21.7], [93, 44, 105, ... 123, 92.8, 99.8], [37.1, 144, 55.2, 57.6]]\n",
      "[[15, 15, 16, 16], [14, 14, 15, 15], [16, ... [14, 14, 15, 15], [24, 24, 23, 23]] 10\n",
      "[[17, 18, 19, 20], [17, 16, 18, 19], [20, ... [16, 17, 18, 19], [28, 27, 25, 26]] 10\n",
      "[[5, -5, 5, -5], [-5, 5, 5, -5], [-5, 5, ... 5, -5], [5, -5, 5, -5], [-5, 5, 5, -5]] [[33, 37, 40, 42], [21, 27, 32, 33], [21, ... [23, 24, 27, 29], [29, 31, 33, 34]] [[116, 124, 186, 13.8], [87.2, 35.4, 103, ... 75.5, 40.6], [27.6, 132, 49.4, 60.5]] 10 [[True, True, True, True], [True, True, ... True, True], [True, True, True, True]]\n"
     ]
    }
   ],
   "source": [
    "# add column with the index\n",
    "events.GenPart = ak.with_field(\n",
    "    events.GenPart, ak.local_index(events.GenPart, axis=1), \"index\"\n",
    ")\n",
    "print(events.GenPart.index[0])\n",
    "print(events.GenPart.index[1])\n",
    "# get last bquark copy\n",
    "isB = abs(events.GenPart.pdgId) == 5\n",
    "isLast = events.GenPart.hasFlags([\"isLastCopy\"])\n",
    "isHard = events.GenPart.hasFlags([\"fromHardProcess\"])\n",
    "bquarks_last = events.GenPart[isB & isLast & isHard]\n",
    "\n",
    "print(bquarks_last.pdgId, bquarks_last.genPartIdxMother, bquarks_last.childrenIdxG, bquarks_last.hasFlags([\"isLastCopy\"]))\n",
    "bquark_last_children=bquarks_last.children\n",
    "print(bquark_last_children.pdgId, bquark_last_children.genPartIdxMother, bquark_last_children.hasFlags([\"isLastCopy\"]))\n",
    "\n",
    "b_quarks = bquarks_last\n",
    "while True:\n",
    "    print(\"\\nloop\")\n",
    "    b_mother = events.GenPart[b_quarks.genPartIdxMother]\n",
    "    mask_mother = (abs(b_mother.pdgId) == 5) | ((b_mother.pdgId) == 25)\n",
    "\n",
    "    bquarks_last = bquarks_last[mask_mother]\n",
    "    b_quarks = b_quarks[mask_mother]\n",
    "    b_mother = b_mother[mask_mother]\n",
    "    print(\n",
    "        \"old: \",\n",
    "        \"pdg\",\n",
    "        b_quarks.pdgId,\n",
    "        \"mother_idx\",\n",
    "        b_quarks.genPartIdxMother,\n",
    "        \"pt\",\n",
    "        b_quarks.pt,\n",
    "        \"index\",\n",
    "        b_quarks.index,\n",
    "        \"fromHardProcess\",\n",
    "        b_quarks.hasFlags([\"fromHardProcess\"]),\n",
    "    )\n",
    "    print(\n",
    "        \"mother: \",\n",
    "        \"pdg\",\n",
    "        b_mother.pdgId,\n",
    "        \"mother_idx\",\n",
    "        b_mother.genPartIdxMother,\n",
    "        \"pt\",\n",
    "        b_mother.pt,\n",
    "    )\n",
    "    # break\n",
    "    b_quarks = ak.where(abs(b_mother.pdgId) == 5, b_mother, b_quarks)\n",
    "    print(\n",
    "        \"new: \",\n",
    "        \"pdg\",\n",
    "        b_quarks.pdgId,\n",
    "        \"mother_idx\",\n",
    "        b_quarks.genPartIdxMother,\n",
    "        \"pt\",\n",
    "        b_quarks.pt,\n",
    "    )\n",
    "\n",
    "    print(ak.any(abs(b_mother.pdgId) != 25, axis=1))\n",
    "    if ak.all(abs(b_mother.pdgId) == 25):\n",
    "        break\n",
    "\n",
    "print(b_quarks.pdgId, b_quarks.genPartIdxMother, b_quarks.pt)\n",
    "print(b_quarks.genPartIdxMother, len(b_quarks.genPartIdxMother))\n",
    "print(b_quarks.index, len(b_quarks.index))\n",
    "print(bquarks_last.pdgId, bquarks_last.index,  bquarks_last.pt, len(bquarks_last.index), bquarks_last.hasFlags([\"fromHardProcess\"]))"
   ]
  },
  {
   "cell_type": "code",
   "execution_count": 32,
   "metadata": {},
   "outputs": [
    {
     "name": "stdout",
     "output_type": "stream",
     "text": [
      "[[33, 37, 40, 42], [21, 27, 32, 33], [21, ... [23, 24, 27, 29], [29, 31, 33, 34]] 10\n"
     ]
    }
   ],
   "source": [
    "print(bquarks_last.index, len(bquarks_last.index))\n"
   ]
  },
  {
   "cell_type": "markdown",
   "metadata": {},
   "source": [
    "# NUMBA"
   ]
  },
  {
   "cell_type": "code",
   "execution_count": 33,
   "metadata": {},
   "outputs": [],
   "source": [
    "genpart =events.GenPart\n",
    "\n",
    "# get last bquark copy\n",
    "isB = abs(genpart.pdgId) == 5\n",
    "isLast = genpart.hasFlags([\"isLastCopy\"])\n",
    "isFirst = genpart.hasFlags([\"isFirstCopy\"])\n",
    "isHard = genpart.hasFlags([\"fromHardProcess\"])\n",
    "\n",
    "isHiggs = genpart.pdgId == 25\n",
    "higgs = genpart[isHiggs & isLast & isHard]\n",
    "higgs = higgs[ak.num(higgs.childrenIdxG, axis=2) == 2]\n",
    "\n",
    "higgs = higgs[ak.argsort(higgs.pt, ascending=False)]\n"
   ]
  },
  {
   "cell_type": "code",
   "execution_count": 34,
   "metadata": {},
   "outputs": [
    {
     "name": "stdout",
     "output_type": "stream",
     "text": [
      "[[17, 18, 19, 20, 33, 37, 40, 42], [16, ... 29], [25, 26, 27, 28, 29, 31, 33, 34]] [[15, 15, 16, 16, 17, 18, 19, 20], [14, ... 19], [23, 23, 24, 24, 28, 27, 25, 26]] [[[17, 18], [17, 18], [19, 20], [19, ... 639], [640, 641], [642], [643, 644, 645]]] [[25, 25, 25, 25, 5, -5, 5, -5], [25, 25, ... 5, -5], [25, 25, 25, 25, -5, 5, 5, -5]]\n",
      "[[True, True, True, True, False, False, ... True, True, False, False, False, False]]\n",
      "[[17, 18, 19, 20], [16, 17, 18, 19], [17, ... [16, 17, 18, 19], [25, 26, 27, 28]] [[15, 15, 16, 16], [14, 14, 15, 15], [15, ... [14, 14, 15, 15], [23, 23, 24, 24]]\n",
      "bquarks_from_higgs [[17, 18, 19, 20], [16, 17, 18, 19], [17, ... [16, 17, 18, 19], [25, 26, 27, 28]] [[5, -5, 5, -5], [5, -5, 5, -5], [5, -5, ... 5, -5], [5, -5, 5, -5], [5, -5, 5, -5]]\n"
     ]
    }
   ],
   "source": [
    "# bquarks = genpart[isB & isHard & isFirst]\n",
    "bquarks = genpart[isB & isHard]\n",
    "mother_bquarks = genpart[bquarks.genPartIdxMother]\n",
    "print(bquarks.index, mother_bquarks.index,mother_bquarks.childrenIdxG, mother_bquarks.pdgId)\n",
    "print(mother_bquarks.pdgId == 25)\n",
    "bquarks_from_higgs = bquarks[mother_bquarks.pdgId == 25]\n",
    "\n",
    "print(bquarks_from_higgs.index, bquarks_from_higgs.genPartIdxMother)\n",
    "print(\"bquarks_from_higgs\", bquarks_from_higgs.index, bquarks_from_higgs.pdgId)"
   ]
  },
  {
   "cell_type": "code",
   "execution_count": 35,
   "metadata": {},
   "outputs": [
    {
     "data": {
      "text/plain": [
       "False"
      ]
     },
     "execution_count": 35,
     "metadata": {},
     "output_type": "execute_result"
    }
   ],
   "source": [
    "# check that bquarks_from_higgs are -5 and 5\n",
    "ak.any(ak.sum(higgs.children.pdgId, axis=2)!=0)\n"
   ]
  },
  {
   "cell_type": "code",
   "execution_count": 36,
   "metadata": {},
   "outputs": [],
   "source": [
    "children_idxG = ak.without_parameters(genpart.childrenIdxG, behavior={})\n",
    "children_idxG_flat = ak.flatten(children_idxG, axis=1)\n",
    "genpart_pdgId_flat = ak.flatten(\n",
    "    ak.without_parameters(genpart.pdgId, behavior={}), axis=1\n",
    ")\n",
    "genpart_LastCopy_flat = ak.flatten(\n",
    "    ak.without_parameters(genpart.hasFlags([\"isLastCopy\"]), behavior={}), axis=1\n",
    ")\n",
    "genpart_pt_flat = ak.flatten(ak.without_parameters(genpart.pt, behavior={}), axis=1)\n",
    "genparts_flat = ak.flatten(genpart)\n",
    "genpart_offsets = np.concatenate(\n",
    "    [[0], np.cumsum(ak.to_numpy(ak.num(genpart, axis=1), allow_missing=True))]\n",
    ")\n",
    "local_index_all = ak.local_index(genpart, axis=1)\n",
    "local_index_b = ak.local_index(bquarks_from_higgs, axis=1)\n",
    "b_quark_idx = ak.to_numpy(bquarks_from_higgs.index + genpart_offsets[:-1], allow_missing=False)\n",
    "b_quarks_pdgId = ak.to_numpy(bquarks_from_higgs.pdgId, allow_missing=False)\n",
    "nevents = b_quark_idx.shape[0]\n",
    "firstgenpart_idxG = ak.firsts(genpart[:, 0].children).genPartIdxMotherG\n",
    "firstgenpart_idxG_numpy = ak.to_numpy(firstgenpart_idxG, allow_missing=False)"
   ]
  },
  {
   "cell_type": "code",
   "execution_count": 37,
   "metadata": {},
   "outputs": [],
   "source": [
    "@njit\n",
    "def get_quark_last_copy(\n",
    "    b_quarks_idx,\n",
    "    b_quarks_pdgId,\n",
    "    children_idxG_flat,\n",
    "    genpart_pdgId_flat,\n",
    "    genpart_offsets,\n",
    "    genpart_LastCopy_flat,\n",
    "    genpart_pt_flat,\n",
    "    nevents,\n",
    "    firstgenpart_idxG_numpy,\n",
    "):\n",
    "    prints = True\n",
    "    # print input array\n",
    "    if prints:\n",
    "        print(\"b_quarks_idx\", b_quarks_idx)\n",
    "        print(\"b_quarks_pdgId\", b_quarks_pdgId)\n",
    "        print(\"children_idxG_flat\", children_idxG_flat)\n",
    "        print(\"genpart_pdgId_flat\", genpart_pdgId_flat)\n",
    "        print(\"genpart_offsets\", genpart_offsets)\n",
    "        print(\"genpart_LastCopy_flat\", genpart_LastCopy_flat)\n",
    "        print(\"nevents\", nevents)\n",
    "\n",
    "    # get the children ofthe b_quarks which have the same pdgId of the mother iteratively until we reach the last copy\n",
    "\n",
    "    out = np.zeros(b_quarks_idx.shape, dtype=\"int64\") - 1\n",
    "\n",
    "    for iev in range(b_quarks_idx.shape[0]):\n",
    "\n",
    "        prints=True if iev==700 else False\n",
    "        if prints:\n",
    "            print(\"\\nEvent\", iev)\n",
    "        for ipart in range(b_quarks_idx.shape[1]):\n",
    "            p_id = b_quarks_idx[iev][ipart]\n",
    "            if prints:\n",
    "                print(\"Parton\", ipart, genpart_LastCopy_flat[p_id], len(children_idxG_flat[p_id]), p_id)\n",
    "            i = 0\n",
    "            if genpart_LastCopy_flat[p_id] or len(children_idxG_flat[p_id]) == 0:\n",
    "                out[iev][ipart] = p_id\n",
    "                if prints:\n",
    "                    print(\"out\", out[iev][ipart], out[iev][ipart]-genpart_offsets[iev])\n",
    "                continue\n",
    "            while (not genpart_LastCopy_flat[p_id]) and (not len(children_idxG_flat[p_id]) == 0) and i<5:\n",
    "                i += 1\n",
    "                children_idxs = reverse_index_array(\n",
    "                    children_idxG_flat[p_id],\n",
    "                    firstgenpart_idxG_numpy,\n",
    "                    genpart_offsets,\n",
    "                    nevents,\n",
    "                )\n",
    "                # children_idxs = children_idxG_flat[p_id]\n",
    "                if prints:\n",
    "                    print(children_idxs)\n",
    "\n",
    "                # get the children with the same pdgId as the mother with highest pt\n",
    "                max_pt = -1\n",
    "                max_pt_idx = p_id\n",
    "\n",
    "                # num_pdg_equal=0\n",
    "                # for child_idx in children_idxs:\n",
    "                #     if genpart_pdgId_flat[child_idx] == b_quarks_pdgId[iev][ipart]:\n",
    "                #         num_pdg_equal+=1\n",
    "                # if num_pdg_equal==1:\n",
    "                #     p_id = children_idxs[0]\n",
    "                #     break\n",
    "                # if prints: print(\"\\n\\n###################\\n\\n\")\n",
    "\n",
    "                for child_idx in children_idxs:\n",
    "                    if prints:\n",
    "                        print(\"Child\", child_idx)\n",
    "                    if prints:\n",
    "                        print(b_quarks_pdgId[iev][ipart])\n",
    "                    if prints:\n",
    "                        print(genpart_pdgId_flat[child_idx])\n",
    "                    if genpart_pdgId_flat[child_idx] != b_quarks_pdgId[iev][ipart]:\n",
    "                        continue\n",
    "                    child_pt = genpart_pt_flat[child_idx]\n",
    "                    if prints:\n",
    "                        print(child_pt)\n",
    "                    if child_pt > max_pt:\n",
    "                        max_pt_idx = child_idx\n",
    "                        max_pt = child_pt\n",
    "\n",
    "                if prints:\n",
    "                    print(\"genpart_LastCopy_flat\", genpart_LastCopy_flat[max_pt_idx])\n",
    "                    print(\"len(children_idxG_flat[p_id])\", len(children_idxG_flat[p_id]))\n",
    "                if genpart_LastCopy_flat[max_pt_idx] or len(children_idxG_flat[max_pt_idx]) == 0 or max_pt==-1:\n",
    "                    if prints:\n",
    "                        print(\"Found child\")\n",
    "                    out[iev][ipart] = max_pt_idx\n",
    "                if prints:\n",
    "                    print(p_id, max_pt_idx)\n",
    "                p_id = max_pt_idx\n",
    "                if prints:\n",
    "                    print(p_id, max_pt_idx)\n",
    "                # break\n",
    "                # if max_pt == -1:\n",
    "                #     max_pt_idx = p_id\n",
    "                if out[iev][ipart] != -1:\n",
    "                    if prints:\n",
    "                        print(\"break\")\n",
    "                    break\n",
    "            if prints:\n",
    "                print(\"out\", out[iev][ipart], out[iev][ipart]-genpart_offsets[iev])\n",
    "\n",
    "    return out"
   ]
  },
  {
   "cell_type": "code",
   "execution_count": 38,
   "metadata": {},
   "outputs": [
    {
     "name": "stdout",
     "output_type": "stream",
     "text": [
      "b_quarks_idx [[ 17  18  19  20]\n",
      " [ 87  88  89  90]\n",
      " [154 155 156 157]\n",
      " [217 218 219 220]\n",
      " [293 294 295 296]\n",
      " [346 347 348 349]\n",
      " [409 410 411 412]\n",
      " [501 502 503 504]\n",
      " [557 558 559 560]\n",
      " [634 635 636 637]]\n",
      "b_quarks_pdgId [[ 5 -5  5 -5]\n",
      " [ 5 -5  5 -5]\n",
      " [ 5 -5  5 -5]\n",
      " [ 5 -5  5 -5]\n",
      " [ 5 -5  5 -5]\n",
      " [ 5 -5  5 -5]\n",
      " [ 5 -5  5 -5]\n",
      " [ 5 -5  5 -5]\n",
      " [ 5 -5  5 -5]\n",
      " [ 5 -5  5 -5]]\n",
      "children_idxG_flat [[2, 3, 4], [], [5], [6], [11, 12, 22, 23, ... [661, 662], [], [], [], [], [], []]\n",
      "genpart_pdgId_flat [21, 21, 25, 25, 21, 25, 25, 25, 25, ... 11, 411, -431, 411, -421, -4122, -13, 14]\n",
      "genpart_offsets [  0  71 137 202 277 327 391 483 541 609 663]\n",
      "genpart_LastCopy_flat [False, False, False, False, False, False, ... True, True, True, True, True, True]\n",
      "nevents 10\n",
      "[[ 33  37  40  42]\n",
      " [ 98  92 103 104]\n",
      " [168 170 166 158]\n",
      " [222 218 228 232]\n",
      " [297 299 302 303]\n",
      " [356 347 354 350]\n",
      " [430 432 420 415]\n",
      " [514 505 518 521]\n",
      " [564 565 568 570]\n",
      " [642 643 640 638]]\n",
      "[  0  71 137 202 277 327 391 483 541 609]\n",
      "False\n"
     ]
    }
   ],
   "source": [
    "b_quark_last_idx = get_quark_last_copy(\n",
    "    b_quark_idx,\n",
    "    b_quarks_pdgId,\n",
    "    children_idxG_flat,\n",
    "    genpart_pdgId_flat,\n",
    "    genpart_offsets,\n",
    "    genpart_LastCopy_flat,\n",
    "    genpart_pt_flat,\n",
    "    nevents,\n",
    "    firstgenpart_idxG_numpy,\n",
    ")\n",
    "print(b_quark_last_idx)\n",
    "print(genpart_offsets[:-1])\n",
    "print(ak.any(b_quark_last_idx==-1))\n"
   ]
  },
  {
   "cell_type": "code",
   "execution_count": 39,
   "metadata": {},
   "outputs": [],
   "source": [
    "for i in range(len(b_quark_last_idx)):\n",
    "    for j in range(len(b_quark_last_idx[i])):\n",
    "        if b_quark_last_idx[i][j] == -1:\n",
    "            print(b_quark_last_idx[i][j], b_quark_last_idx[i][j]-genpart_offsets[i], b_quarks_pdgId[i][j], genpart_pdgId_flat[b_quark_last_idx[i][j]])\n",
    "            print(i, j)"
   ]
  },
  {
   "cell_type": "code",
   "execution_count": null,
   "metadata": {},
   "outputs": [],
   "source": []
  },
  {
   "cell_type": "code",
   "execution_count": 40,
   "metadata": {},
   "outputs": [
    {
     "name": "stdout",
     "output_type": "stream",
     "text": [
      "[[33, 37, 40, 42], [27, 21, 32, 33], [31, ... [23, 24, 27, 29], [33, 34, 31, 29]] [[5, -5, 5, -5], [5, -5, 5, -5], [5, -5, ... 5, -5], [5, -5, 5, -5], [5, -5, 5, -5]] [[17, 18, 19, 20], [16, 17, 20, 19], [17, ... [16, 20, 18, 19], [25, 26, 27, 28]] [[116, 124, 186, 13.8], [35.4, 87.2, 103, ... 75.5, 40.6], [49.4, 60.5, 132, 27.6]]\n",
      "[[33, 37, 40, 42], [21, 27, 32, 33], [21, ... [23, 24, 27, 29], [29, 31, 33, 34]] [[5, -5, 5, -5], [-5, 5, 5, -5], [-5, 5, ... 5, -5], [5, -5, 5, -5], [-5, 5, 5, -5]] [[17, 18, 19, 20], [17, 16, 20, 19], [20, ... [16, 20, 18, 19], [28, 27, 25, 26]] [[116, 124, 186, 13.8], [87.2, 35.4, 103, ... 75.5, 40.6], [27.6, 132, 49.4, 60.5]] [[True, True, True, True], [True, True, ... True, True], [True, True, True, True]]\n"
     ]
    }
   ],
   "source": [
    "bq=genparts_flat[b_quark_last_idx]\n",
    "print(bq.index, bq.pdgId, bq.genPartIdxMother, bq.pt)\n",
    "print(bquarks_last.index, bquarks_last.pdgId, bquarks_last.genPartIdxMother, bquarks_last.pt, bquarks_last.hasFlags([\"fromHardProcess\"]))"
   ]
  },
  {
   "cell_type": "code",
   "execution_count": 41,
   "metadata": {},
   "outputs": [
    {
     "name": "stdout",
     "output_type": "stream",
     "text": [
      "same index False\n"
     ]
    }
   ],
   "source": [
    "print(\"same index\", ak.all(ak.sum(bq.index, axis=1)==ak.sum(bquarks_last.index, axis=1)))\n",
    "bq_sum=ak.sum(bq.index, axis=1)\n",
    "bquarks_last_sum=ak.sum(bquarks_last.index, axis=1)\n",
    "num_gen_part=ak.num(genpart, axis=1)"
   ]
  },
  {
   "cell_type": "code",
   "execution_count": 42,
   "metadata": {},
   "outputs": [
    {
     "name": "stdout",
     "output_type": "stream",
     "text": [
      "152 152 [33, 37, 40, 42] [33, 37, 40, 42] 71 0\n",
      "113 113 [27, 21, 32, 33] [21, 27, 32, 33] 66 71\n",
      "114 114 [31, 33, 29, 21] [21, 29, 31, 33] 65 137\n",
      "92 99 [20, 16, 26, 30] [20, 23, 26, 30] 75 202\n",
      "93 93 [20, 22, 25, 26] [20, 22, 25, 26] 50 277\n",
      "99 109 [29, 20, 27, 23] [23, 27, 29, 30] 64 327\n",
      "133 133 [39, 41, 29, 24] [24, 29, 39, 41] 92 391\n",
      "126 126 [31, 22, 35, 38] [22, 31, 35, 38] 58 483\n",
      "103 103 [23, 24, 27, 29] [23, 24, 27, 29] 68 541\n",
      "127 127 [33, 34, 31, 29] [29, 31, 33, 34] 54 609\n"
     ]
    }
   ],
   "source": [
    "for i in range (len(bq_sum)):\n",
    "    print(bq_sum[i], bquarks_last_sum[i],bq.index[i], bquarks_last.index[i], num_gen_part[i],genpart_offsets[i])"
   ]
  },
  {
   "cell_type": "code",
   "execution_count": 43,
   "metadata": {},
   "outputs": [
    {
     "name": "stdout",
     "output_type": "stream",
     "text": [
      "16 -5 13 149.0 [] [] False True\n"
     ]
    }
   ],
   "source": [
    "genp=genparts_flat[218]\n",
    "print(genp.index, genp.pdgId, genp.genPartIdxMother, genp.pt, genp.childrenIdxG, genp.children, genp.hasFlags([\"isLastCopy\"]), genp.hasFlags([\"fromHardProcess\"]))"
   ]
  },
  {
   "cell_type": "code",
   "execution_count": 44,
   "metadata": {},
   "outputs": [
    {
     "name": "stdout",
     "output_type": "stream",
     "text": [
      "23 -5 19 148.5 [] [] True True\n"
     ]
    }
   ],
   "source": [
    "gen_old=genparts_flat[225]\n",
    "print(gen_old.index, gen_old.pdgId, gen_old.genPartIdxMother, gen_old.pt, gen_old.childrenIdxG, gen_old.children, gen_old.hasFlags([\"isLastCopy\"]), gen_old.hasFlags([\"fromHardProcess\"]))"
   ]
  },
  {
   "cell_type": "code",
   "execution_count": 45,
   "metadata": {},
   "outputs": [
    {
     "name": "stdout",
     "output_type": "stream",
     "text": [
      "[[[17, 18], [19, 20]], [[89, 90], [87, ... [559, 560]], [[636, 637], [634, 635]]]\n",
      "[[17, 18], [19, 20], [89, 90], [87, 88, ... 558], [559, 560], [636, 637], [634, 635]]\n",
      "[17, 18, 19, 20, 89, 90, 87, 88, 154, ... 557, 558, 559, 560, 636, 637, 634, 635]\n",
      "[GenParticle, GenParticle, GenParticle, ... GenParticle, GenParticle, GenParticle]\n",
      "[17, 18, 19, 20, 18, 19, 16, 17, 17, 18, ... 20, 21, 16, 17, 18, 19, 27, 28, 25, 26] [5, -5, 5, -5, 5, -5, 5, -5, 5, -5, 5, -5, ... -5, 5, -5, 5, -5, 5, -5, 5, -5, 5, -5] [15, 15, 16, 16, 15, 15, 14, 14, 15, 15, ... 17, 17, 14, 14, 15, 15, 24, 24, 23, 23] [128, 164, 218, 21.7, 105, 31.5, 44, 93, ... 123, 92.8, 99.8, 144, 37.1, 55.2, 57.6] [[33, 34, 35, 36], [37], [40, 41, 43, 44, ... [638, 639], [642], [643, 644, 645]] [[GenParticle, GenParticle, GenParticle, ... GenParticle, GenParticle, GenParticle]] [False, False, False, False, False, False, ... False, False, False, False, False] [True, True, True, True, True, True, True, ... True, True, True, True, True, True]\n"
     ]
    }
   ],
   "source": [
    "# higgs_children=genparts_flat[higgs.childrenIdxG]\n",
    "print(higgs.childrenIdxG)\n",
    "print(ak.flatten(higgs.childrenIdxG))\n",
    "higgs_children_flat2=ak.flatten(higgs.childrenIdxG, axis=None)\n",
    "print(higgs_children_flat2)\n",
    "print(genparts_flat)\n",
    "higgs_children=genparts_flat[higgs_children_flat2]\n",
    "print(higgs_children.index, higgs_children.pdgId, higgs_children.genPartIdxMother, higgs_children.pt, higgs_children.childrenIdxG, higgs_children.children, higgs_children.hasFlags([\"isLastCopy\"]), higgs_children.hasFlags([\"fromHardProcess\"]))"
   ]
  },
  {
   "cell_type": "code",
   "execution_count": 46,
   "metadata": {},
   "outputs": [
    {
     "name": "stdout",
     "output_type": "stream",
     "text": [
      "[[17, 18, 19, 20], [17, 16, 18, 19], [20, ... [16, 17, 18, 19], [28, 27, 25, 26]] [[5, -5, 5, -5], [-5, 5, 5, -5], [-5, 5, ... 5, -5], [5, -5, 5, -5], [-5, 5, 5, -5]] [[15, 15, 16, 16], [14, 14, 15, 15], [16, ... [14, 14, 15, 15], [24, 24, 23, 23]] [[128, 164, 218, 21.7], [93, 44, 105, ... 123, 92.8, 99.8], [37.1, 144, 55.2, 57.6]]\n",
      "[[17, 18, 19, 20], [16, 17, 18, 19], [17, ... [16, 17, 18, 19], [25, 26, 27, 28]] [[5, -5, 5, -5], [5, -5, 5, -5], [5, -5, ... 5, -5], [5, -5, 5, -5], [5, -5, 5, -5]] [[15, 15, 16, 16], [14, 14, 15, 15], [15, ... [14, 14, 15, 15], [23, 23, 24, 24]] [[128, 164, 218, 21.7], [44, 93, 105, ... 123, 92.8, 99.8], [55.2, 57.6, 144, 37.1]]\n"
     ]
    }
   ],
   "source": [
    "print(b_quarks.index, b_quarks.pdgId, b_quarks.genPartIdxMother, b_quarks.pt)\n",
    "print(bquarks_from_higgs.index, bquarks_from_higgs.pdgId, bquarks_from_higgs.genPartIdxMother, bquarks_from_higgs.pt)\n"
   ]
  },
  {
   "cell_type": "code",
   "execution_count": 47,
   "metadata": {},
   "outputs": [
    {
     "data": {
      "text/plain": [
       "<Array [[22913, 4481, 22913, ... 4481, 22913]] type='10 * var * uint16[parameter...'>"
      ]
     },
     "execution_count": 47,
     "metadata": {},
     "output_type": "execute_result"
    }
   ],
   "source": [
    "bquarks_from_higgs.statusFlags"
   ]
  },
  {
   "cell_type": "code",
   "execution_count": 48,
   "metadata": {},
   "outputs": [
    {
     "name": "stdout",
     "output_type": "stream",
     "text": [
      "[[[2, 3, 4], [], [5], [6], [11, 12, 22, ... [661, 662], [], [], [], [], [], []]]\n",
      "[[True, True, True, True, True, True, ... False, False, False, False, False, False]] [[False, False, False, False, False, False, ... True, True, True, True, True, True]]\n",
      "[[False, True, False, False, False, False, ... True, True, True, True, True, True]]\n",
      "[[1, 11, 12, 15, 16, 17, 19, 21, 22, 23, ... 44, 45, 46, 47, 48, 49, 50, 51, 52, 53]] [[21, 21, 21, 25, 25, 5, 5, 3, 21, ... 11, 411, -431, 411, -421, -4122, -13, 14]] [[-1, 4, 4, 13, 14, 15, 16, 11, 4, 4, 4, ... 39, 40, 40, 40, 41, 41, 43, 44, 47, 47]] [[0, 24.4, 14.6, 265, 209, 128, 218, ... 49.8, 32.8, 14.9, 25.2, 11.6, 7.58, 10.9]] [[[], [21], [29], [17, 18], [19, 20], ... [661, 662], [], [], [], [], [], []]] [[[], [GenParticle], [GenParticle], [GenParticle, ... [], [], [], [], []]] [[False, True, True, True, True, False, ... True, True, True, True, True, True]] [[True, True, True, True, True, True, ... False, False, False, False, False, False]]\n"
     ]
    }
   ],
   "source": [
    "print(genpart.childrenIdxG)\n",
    "print(~genpart.hasFlags([\"isLastCopy\"]), genpart.hasFlags([\"isLastCopy\"]))\n",
    "condition=(~genpart.hasFlags([\"isLastCopy\"])) & ak.num(genpart.childrenIdxG, axis=2)==0\n",
    "print(condition)\n",
    "genpart_condition=genpart[condition]\n",
    "print(genpart_condition.index, genpart_condition.pdgId, genpart_condition.genPartIdxMother, genpart_condition.pt, genpart_condition.childrenIdxG, genpart_condition.children, genpart_condition.hasFlags([\"isLastCopy\"]), genpart_condition.hasFlags([\"fromHardProcess\"]))"
   ]
  },
  {
   "cell_type": "code",
   "execution_count": 49,
   "metadata": {},
   "outputs": [
    {
     "name": "stdout",
     "output_type": "stream",
     "text": [
      "[[116, 124, 186, 13.8], [35.4, 87.2, 103, ... 75.5, 40.6], [49.4, 60.5, 132, 27.6]] [[0.963, 0.908, 0.928, 1.57], [-0.65, -1.61, ... -0.721], [-0.468, 1.21, 1.74, 2.09]] [[-0.98, -1.84, 1.77, -2.54], [-2.76, -0.873, ... -2.36], [2.1, 1.08, -2.36, -0.451]] [[0, 0, 0, 0], [0, 0, 0, 0], [0, 0, 0, 0, ... 0, 0, 0], [0, 0, 0, 0], [0, 0, 0, 0]]\n",
      "[[201, 141, 140, 26.8, 17, 16.7, 15.6], ... [100, 58.2, 36.1, 30, 24.3, 23.2]] [[0.941, 0.891, 0.944, 0.44, -1.06, -2.76, ... -0.472, -0.0853, 2.08, -1.41, 1.21]] [[1.76, -1.83, -0.973, -1.57, 0.947, 1.68, ... 2.08, -0.37, -0.344, -0.746, 1.11]] [[16, 17.5, 15.3, 4.78, 3.88, 2.18, 3.5], ... [8.21, 6.76, 6.37, 5.69, 4.6, 3.75]]\n",
      "[[GenParticle, GenParticle, GenParticle, None, ... GenParticle, None, GenParticle]]\n",
      "[[Jet, Jet, Jet, None, None, None, None], ... [Jet, Jet, None, Jet, None, Jet]]\n",
      "\n",
      " quark [116, 124, 186, 13.8] [0.963, 0.908, 0.928, 1.57] [-0.98, -1.84, 1.77, -2.54] [0, 0, 0, 0]\n",
      "matched quark [186, 124, 116, None, None, None, None] [0.928, 0.908, 0.963, None, None, None, None] [1.77, -1.84, -0.98, None, None, None, None] [0, 0, 0, None, None, None, None]\n",
      "jet [201, 141, 140, 26.8, 17, 16.7, 15.6] [0.941, 0.891, 0.944, 0.44, -1.06, -2.76, 2.39] [1.76, -1.83, -0.973, -1.57, 0.947, 1.68, 2.22] [16, 17.5, 15.3, 4.78, 3.88, 2.18, 3.5]\n",
      "matched jet [201, 141, 140, None, None, None, None] [0.941, 0.891, 0.944, None, None, None, None] [1.76, -1.83, -0.973, None, None, None, None] [16, 17.5, 15.3, None, None, None, None]\n",
      "\n",
      " quark [35.4, 87.2, 103, 26.1] [-0.65, -1.61, 1.55, 0.126] [-2.76, -0.873, 2.02, 0.305] [0, 0, 0, 0]\n",
      "matched quark [87.2, 103, 26.1, None, 35.4, None] [-1.61, 1.55, 0.126, None, -0.65, None] [-0.873, 2.02, 0.305, None, -2.76, None] [0, 0, 0, None, 0, None]\n",
      "jet [74.7, 50.7, 44, 31.4, 27.4, 20.4] [-1.61, 1.57, 0.182, -1.62, -0.631, -0.837] [-0.873, 2.09, 0.243, -2.11, -2.79, 0.662] [7.36, 9.35, 9.6, 7.64, 5.12, 4.75]\n",
      "matched jet [74.7, 50.7, 44, None, 27.4, None] [-1.61, 1.57, 0.182, None, -0.631, None] [-0.873, 2.09, 0.243, None, -2.79, None] [7.36, 9.35, 9.6, None, 5.12, None]\n",
      "\n",
      " quark [28.1, 127, 71, 18.7] [2.06, 0.939, 1.64, 0.678] [-2.67, 2.53, -0.178, 2.7] [0, 0, 0, 0]\n",
      "matched quark [127, 71, None, 28.1, None, None, None, None, None] [0.939, 1.64, None, 2.06, None, None, None, None, None] [2.53, -0.178, None, -2.67, None, None, None, None, None] [0, 0, None, 0, None, None, None, None, None]\n",
      "jet [137, 96.9, 72, 45.3, 20.3, 20.1, 17.7, 17.1, 17] [0.917, 1.57, -1.2, 2.14, -0.862, -3.72, -1.82, 2.69, -0.705] [2.54, -0.205, -0.67, -2.72, -0.31, -3.05, 0.499, -0.992, 2.15] [14.3, 16.2, 7.81, 8.4, 2.6, 1.74, 3.17, 3.11, 4.55]\n",
      "matched jet [137, 96.9, None, 45.3, None, None, None, None, None] [0.917, 1.57, None, 2.14, None, None, None, None, None] [2.54, -0.205, None, -2.72, None, None, None, None, None] [14.3, 16.2, None, 8.4, None, None, None, None, None]\n",
      "\n",
      " quark [104, 149, 110, 42.2] [-1.09, -0.994, -0.0764, 0.364] [0.187, 1.16, -2.16, 3.02] [0, 0, 0, 0]\n",
      "matched quark [149, 110, 104, None, None] [-0.994, -0.0764, -1.09, None, None] [1.16, -2.16, 0.187, None, None] [0, 0, 0, None, None]\n",
      "jet [132, 112, 95.4, 43.1, 38.5] [-1.02, -0.168, -1.11, 0.25, -1.66] [1.16, -2.2, 0.189, -2.5, 1.15] [14.6, 18.4, 12.5, 7.02, 7.79]\n",
      "matched jet [132, 112, 95.4, None, None] [-1.02, -0.168, -1.11, None, None] [1.16, -2.2, 0.189, None, None] [14.6, 18.4, 12.5, None, None]\n",
      "\n",
      " quark [34, 138, 154, 29.8] [-1.3, -0.547, -0.918, -2.35] [-1.06, -2.3, 0.996, 0.372] [0, 0, 0, 0]\n",
      "matched quark [138, 154, 29.8, None] [-0.547, -0.918, -2.35, None] [-2.3, 0.996, 0.372, None] [0, 0, 0, None]\n",
      "jet [206, 150, 23.4, 17.1] [-0.506, -0.922, -2.38, -2.8] [-2.37, 0.98, 0.361, -2.67] [31.5, 19.2, 2.47, 4.27e-06]\n",
      "matched jet [206, 150, 23.4, None] [-0.506, -0.922, -2.38, None] [-2.37, 0.98, 0.361, None] [31.5, 19.2, 2.47, None]\n",
      "\n",
      " quark [102, 60.2, 14, 79] [1.45, 0.656, 1.38, 3.19] [0.235, -1.13, 1.3, 3.11] [0, 0, 0, 0]\n",
      "matched quark [79, 102, None, None, None] [3.19, 1.45, None, None, None] [3.11, 0.235, None, None, None] [0, 0, None, None, None]\n",
      "jet [87.1, 41.3, 30.4, 16.2, 15.8] [3.19, 1.49, 4.14, 2.79, -4.05] [3.05, 0.224, -2.83, 3.14, -2.62] [7.48, 1.87, 2.33, -1.91e-06, 1.95]\n",
      "matched jet [87.1, 41.3, None, None, None] [3.19, 1.49, None, None, None] [3.05, 0.224, None, None, None] [7.48, 1.87, None, None, None]\n",
      "\n",
      " quark [11.9, 62.5, 96, 67.5] [1.58, -0.961, -1.13, -0.243] [-1.24, -2.4, 0.0691, 1.07] [0, 0, 0, 0]\n",
      "matched quark [96, 67.5, 62.5, None, None, None, None, None] [-1.13, -0.243, -0.961, None, None, None, None, None] [0.0691, 1.07, -2.4, None, None, None, None, None] [0, 0, 0, None, None, None, None, None]\n",
      "jet [106, 101, 66.9, 40.2, 32.4, 31.8, 28.5, 16.1] [-1.16, -0.25, -1, 1.79, -2.94, 0.0535, 1.48, 1.06] [0.0666, 1.06, -2.38, -1.61, -2.06, -3.12, -2.96, 2.71] [10.5, 13.1, 10.4, 6.24, 4.82, 4.8, 6.66, 2.29]\n",
      "matched jet [106, 101, 66.9, None, None, None, None, None] [-1.16, -0.25, -1, None, None, None, None, None] [0.0666, 1.06, -2.38, None, None, None, None, None] [10.5, 13.1, 10.4, None, None, None, None, None]\n",
      "\n",
      " quark [32.9, 82.5, 53.8, 19.5] [-0.00734, -1.5, -0.828, 0.988] [0.346, 0.506, -2.76, -1.56] [0, 0, 0, 0]\n",
      "matched quark [53.8, None, 82.5, None, 32.9, 19.5, None, None] [-0.828, None, -1.5, None, -0.00734, 0.988, None, None] [-2.76, None, 0.506, None, 0.346, -1.56, None, None] [0, None, 0, None, 0, 0, None, None]\n",
      "jet [122, 98.6, 82.9, 27, 23.5, 21.5, 18.9, 17.4] [-0.746, -0.879, -1.52, 1.06, -0.0855, 0.982, -2.76, -2.36] [-2.62, 0.754, 0.517, -2.83, 0.368, -1.57, 1.77, -2.4] [26.4, 6.97, 9.98, 4.87, 3.55, 4.5, 2.82, 3.42]\n",
      "matched jet [122, None, 82.9, None, 23.5, 21.5, None, None] [-0.746, None, -1.52, None, -0.0855, 0.982, None, None] [-2.62, None, 0.517, None, 0.368, -1.57, None, None] [26.4, None, 9.98, None, 3.55, 4.5, None, None]\n",
      "\n",
      " quark [122, 116, 75.5, 40.6] [-0.252, -0.645, 0.332, -0.721] [1.42, 0.491, -1.79, -2.36] [0, 0, 0, 0]\n",
      "matched quark [40.6, 122, 116, 75.5, None] [-0.721, -0.252, -0.645, 0.332, None] [-2.36, 1.42, 0.491, -1.79, None] [0, 0, 0, 0, None]\n",
      "jet [152, 141, 121, 76.4, 37.8] [-0.79, -0.262, -0.646, 0.279, -3.04] [-2.5, 1.41, 0.496, -1.81, 0.507] [27.7, 12.4, 8.34, 12.6, 6.43]\n",
      "matched jet [152, 141, 121, 76.4, None] [-0.79, -0.262, -0.646, 0.279, None] [-2.5, 1.41, 0.496, -1.81, None] [27.7, 12.4, 8.34, 12.6, None]\n",
      "\n",
      " quark [49.4, 60.5, 132, 27.6] [-0.468, 1.21, 1.74, 2.09] [2.1, 1.08, -2.36, -0.451] [0, 0, 0, 0]\n",
      "matched quark [132, 49.4, None, 27.6, None, 60.5] [1.74, -0.468, None, 2.09, None, 1.21] [-2.36, 2.1, None, -0.451, None, 1.08] [0, 0, None, 0, None, 0]\n",
      "jet [100, 58.2, 36.1, 30, 24.3, 23.2] [1.74, -0.472, -0.0853, 2.08, -1.41, 1.21] [-2.35, 2.08, -0.37, -0.344, -0.746, 1.11] [8.21, 6.76, 6.37, 5.69, 4.6, 3.75]\n",
      "matched jet [100, 58.2, None, 30, None, 23.2] [1.74, -0.472, None, 2.08, None, 1.21] [-2.35, 2.08, None, -0.344, None, 1.11] [8.21, 6.76, None, 5.69, None, 3.75]\n"
     ]
    }
   ],
   "source": [
    "#match bq and Jet\n",
    "\n",
    "matched_bquarks_higgs, matched_jets_higgs, deltaR_matched_higgs = (\n",
    "    object_matching(\n",
    "        bq,\n",
    "        events.Jet,\n",
    "        dr_min=0.4,\n",
    "    )\n",
    ")\n",
    "print(bq.pt, bq.eta, bq.phi, bq.mass)\n",
    "print(events.Jet.pt, events.Jet.eta, events.Jet.phi, events.Jet.mass)\n",
    "print(matched_bquarks_higgs)\n",
    "print(matched_jets_higgs)\n",
    "\n",
    "for i in range(len(matched_bquarks_higgs)):\n",
    "    print(\"\\n quark\", bq[i].pt, bq[i].eta, bq[i].phi, bq[i].mass)\n",
    "    print(\"matched quark\", matched_bquarks_higgs[i].pt, matched_bquarks_higgs[i].eta, matched_bquarks_higgs[i].phi, matched_bquarks_higgs[i].mass)\n",
    "    print(\"jet\", events.Jet[i].pt, events.Jet[i].eta, events.Jet[i].phi, events.Jet[i].mass)\n",
    "    print(\"matched jet\", matched_jets_higgs[i].pt, matched_jets_higgs[i].eta, matched_jets_higgs[i].phi, matched_jets_higgs[i].mass)\n"
   ]
  },
  {
   "cell_type": "code",
   "execution_count": 50,
   "metadata": {},
   "outputs": [
    {
     "name": "stdout",
     "output_type": "stream",
     "text": [
      "[[116, 124, 186, 13.8], [87.2, 35.4, 103, ... 75.5, 40.6], [27.6, 132, 49.4, 60.5]] [[0.963, 0.908, 0.928, 1.57], [-1.61, -0.65, ... -0.721], [2.09, 1.74, -0.468, 1.21]] [[-0.98, -1.84, 1.77, -2.54], [-0.873, -2.76, ... -2.36], [-0.451, -2.36, 2.1, 1.08]] [[0, 0, 0, 0], [0, 0, 0, 0], [0, 0, 0, 0, ... 0, 0, 0], [0, 0, 0, 0], [0, 0, 0, 0]]\n",
      "[[201, 141, 140, 26.8, 17, 16.7, 15.6], ... [100, 58.2, 36.1, 30, 24.3, 23.2]] [[0.941, 0.891, 0.944, 0.44, -1.06, -2.76, ... -0.472, -0.0853, 2.08, -1.41, 1.21]] [[1.76, -1.83, -0.973, -1.57, 0.947, 1.68, ... 2.08, -0.37, -0.344, -0.746, 1.11]] [[16, 17.5, 15.3, 4.78, 3.88, 2.18, 3.5], ... [8.21, 6.76, 6.37, 5.69, 4.6, 3.75]]\n",
      "[[GenParticle, GenParticle, GenParticle, None, ... GenParticle, None, GenParticle]]\n",
      "[[Jet, Jet, Jet, None, None, None, None], ... [Jet, Jet, None, Jet, None, Jet]]\n",
      "\n",
      " quark [116, 124, 186, 13.8] [0.963, 0.908, 0.928, 1.57] [-0.98, -1.84, 1.77, -2.54] [0, 0, 0, 0]\n",
      "matched quark [186, 124, 116, None, None, None, None] [0.928, 0.908, 0.963, None, None, None, None] [1.77, -1.84, -0.98, None, None, None, None] [0, 0, 0, None, None, None, None]\n",
      "jet [201, 141, 140, 26.8, 17, 16.7, 15.6] [0.941, 0.891, 0.944, 0.44, -1.06, -2.76, 2.39] [1.76, -1.83, -0.973, -1.57, 0.947, 1.68, 2.22] [16, 17.5, 15.3, 4.78, 3.88, 2.18, 3.5]\n",
      "matched jet [201, 141, 140, None, None, None, None] [0.941, 0.891, 0.944, None, None, None, None] [1.76, -1.83, -0.973, None, None, None, None] [16, 17.5, 15.3, None, None, None, None]\n",
      "\n",
      " quark [87.2, 35.4, 103, 26.1] [-1.61, -0.65, 1.55, 0.126] [-0.873, -2.76, 2.02, 0.305] [0, 0, 0, 0]\n",
      "matched quark [87.2, 103, 26.1, None, 35.4, None] [-1.61, 1.55, 0.126, None, -0.65, None] [-0.873, 2.02, 0.305, None, -2.76, None] [0, 0, 0, None, 0, None]\n",
      "jet [74.7, 50.7, 44, 31.4, 27.4, 20.4] [-1.61, 1.57, 0.182, -1.62, -0.631, -0.837] [-0.873, 2.09, 0.243, -2.11, -2.79, 0.662] [7.36, 9.35, 9.6, 7.64, 5.12, 4.75]\n",
      "matched jet [74.7, 50.7, 44, None, 27.4, None] [-1.61, 1.57, 0.182, None, -0.631, None] [-0.873, 2.09, 0.243, None, -2.79, None] [7.36, 9.35, 9.6, None, 5.12, None]\n",
      "\n",
      " quark [18.7, 71, 28.1, 127] [0.678, 1.64, 2.06, 0.939] [2.7, -0.178, -2.67, 2.53] [0, 0, 0, 0]\n",
      "matched quark [127, 71, None, 28.1, None, None, None, None, None] [0.939, 1.64, None, 2.06, None, None, None, None, None] [2.53, -0.178, None, -2.67, None, None, None, None, None] [0, 0, None, 0, None, None, None, None, None]\n",
      "jet [137, 96.9, 72, 45.3, 20.3, 20.1, 17.7, 17.1, 17] [0.917, 1.57, -1.2, 2.14, -0.862, -3.72, -1.82, 2.69, -0.705] [2.54, -0.205, -0.67, -2.72, -0.31, -3.05, 0.499, -0.992, 2.15] [14.3, 16.2, 7.81, 8.4, 2.6, 1.74, 3.17, 3.11, 4.55]\n",
      "matched jet [137, 96.9, None, 45.3, None, None, None, None, None] [0.917, 1.57, None, 2.14, None, None, None, None, None] [2.54, -0.205, None, -2.72, None, None, None, None, None] [14.3, 16.2, None, 8.4, None, None, None, None, None]\n",
      "\n",
      " quark [104, 148, 110, 42.2] [-1.09, -0.996, -0.0764, 0.364] [0.187, 1.16, -2.16, 3.02] [0, 0, 0, 0]\n",
      "matched quark [148, 110, 104, None, None] [-0.996, -0.0764, -1.09, None, None] [1.16, -2.16, 0.187, None, None] [0, 0, 0, None, None]\n",
      "jet [132, 112, 95.4, 43.1, 38.5] [-1.02, -0.168, -1.11, 0.25, -1.66] [1.16, -2.2, 0.189, -2.5, 1.15] [14.6, 18.4, 12.5, 7.02, 7.79]\n",
      "matched jet [132, 112, 95.4, None, None] [-1.02, -0.168, -1.11, None, None] [1.16, -2.2, 0.189, None, None] [14.6, 18.4, 12.5, None, None]\n",
      "\n",
      " quark [34, 138, 154, 29.8] [-1.3, -0.547, -0.918, -2.35] [-1.06, -2.3, 0.996, 0.372] [0, 0, 0, 0]\n",
      "matched quark [138, 154, 29.8, None] [-0.547, -0.918, -2.35, None] [-2.3, 0.996, 0.372, None] [0, 0, 0, None]\n",
      "jet [206, 150, 23.4, 17.1] [-0.506, -0.922, -2.38, -2.8] [-2.37, 0.98, 0.361, -2.67] [31.5, 19.2, 2.47, 4.27e-06]\n",
      "matched jet [206, 150, 23.4, None] [-0.506, -0.922, -2.38, None] [-2.37, 0.98, 0.361, None] [31.5, 19.2, 2.47, None]\n",
      "\n",
      " quark [79, 14, 102, 53.1] [3.19, 1.38, 1.45, 0.662] [3.11, 1.3, 0.235, -1.12] [0, 0, 0, 0]\n",
      "matched quark [79, 102, None, None, None] [3.19, 1.45, None, None, None] [3.11, 0.235, None, None, None] [0, 0, None, None, None]\n",
      "jet [87.1, 41.3, 30.4, 16.2, 15.8] [3.19, 1.49, 4.14, 2.79, -4.05] [3.05, 0.224, -2.83, 3.14, -2.62] [7.48, 1.87, 2.33, -1.91e-06, 1.95]\n",
      "matched jet [87.1, 41.3, None, None, None] [3.19, 1.49, None, None, None] [3.05, 0.224, None, None, None] [7.48, 1.87, None, None, None]\n",
      "\n",
      " quark [67.5, 96, 11.9, 62.5] [-0.243, -1.13, 1.58, -0.961] [1.07, 0.0691, -1.24, -2.4] [0, 0, 0, 0]\n",
      "matched quark [96, 67.5, 62.5, None, None, None, None, None] [-1.13, -0.243, -0.961, None, None, None, None, None] [0.0691, 1.07, -2.4, None, None, None, None, None] [0, 0, 0, None, None, None, None, None]\n",
      "jet [106, 101, 66.9, 40.2, 32.4, 31.8, 28.5, 16.1] [-1.16, -0.25, -1, 1.79, -2.94, 0.0535, 1.48, 1.06] [0.0666, 1.06, -2.38, -1.61, -2.06, -3.12, -2.96, 2.71] [10.5, 13.1, 10.4, 6.24, 4.82, 4.8, 6.66, 2.29]\n",
      "matched jet [106, 101, 66.9, None, None, None, None, None] [-1.16, -0.25, -1, None, None, None, None, None] [0.0666, 1.06, -2.38, None, None, None, None, None] [10.5, 13.1, 10.4, None, None, None, None, None]\n",
      "\n",
      " quark [82.5, 32.9, 53.8, 19.5] [-1.5, -0.00734, -0.828, 0.988] [0.506, 0.346, -2.76, -1.56] [0, 0, 0, 0]\n",
      "matched quark [53.8, None, 82.5, None, 32.9, 19.5, None, None] [-0.828, None, -1.5, None, -0.00734, 0.988, None, None] [-2.76, None, 0.506, None, 0.346, -1.56, None, None] [0, None, 0, None, 0, 0, None, None]\n",
      "jet [122, 98.6, 82.9, 27, 23.5, 21.5, 18.9, 17.4] [-0.746, -0.879, -1.52, 1.06, -0.0855, 0.982, -2.76, -2.36] [-2.62, 0.754, 0.517, -2.83, 0.368, -1.57, 1.77, -2.4] [26.4, 6.97, 9.98, 4.87, 3.55, 4.5, 2.82, 3.42]\n",
      "matched jet [122, None, 82.9, None, 23.5, 21.5, None, None] [-0.746, None, -1.52, None, -0.0855, 0.982, None, None] [-2.62, None, 0.517, None, 0.368, -1.57, None, None] [26.4, None, 9.98, None, 3.55, 4.5, None, None]\n",
      "\n",
      " quark [122, 116, 75.5, 40.6] [-0.252, -0.645, 0.332, -0.721] [1.42, 0.491, -1.79, -2.36] [0, 0, 0, 0]\n",
      "matched quark [40.6, 122, 116, 75.5, None] [-0.721, -0.252, -0.645, 0.332, None] [-2.36, 1.42, 0.491, -1.79, None] [0, 0, 0, 0, None]\n",
      "jet [152, 141, 121, 76.4, 37.8] [-0.79, -0.262, -0.646, 0.279, -3.04] [-2.5, 1.41, 0.496, -1.81, 0.507] [27.7, 12.4, 8.34, 12.6, 6.43]\n",
      "matched jet [152, 141, 121, 76.4, None] [-0.79, -0.262, -0.646, 0.279, None] [-2.5, 1.41, 0.496, -1.81, None] [27.7, 12.4, 8.34, 12.6, None]\n",
      "\n",
      " quark [27.6, 132, 49.4, 60.5] [2.09, 1.74, -0.468, 1.21] [-0.451, -2.36, 2.1, 1.08] [0, 0, 0, 0]\n",
      "matched quark [132, 49.4, None, 27.6, None, 60.5] [1.74, -0.468, None, 2.09, None, 1.21] [-2.36, 2.1, None, -0.451, None, 1.08] [0, 0, None, 0, None, 0]\n",
      "jet [100, 58.2, 36.1, 30, 24.3, 23.2] [1.74, -0.472, -0.0853, 2.08, -1.41, 1.21] [-2.35, 2.08, -0.37, -0.344, -0.746, 1.11] [8.21, 6.76, 6.37, 5.69, 4.6, 3.75]\n",
      "matched jet [100, 58.2, None, 30, None, 23.2] [1.74, -0.472, None, 2.08, None, 1.21] [-2.35, 2.08, None, -0.344, None, 1.11] [8.21, 6.76, None, 5.69, None, 3.75]\n"
     ]
    }
   ],
   "source": [
    "#match bquarks_last and Jet\n",
    "\n",
    "matched_bquarks_lastuarks_higgs, matched_jets_higgs, deltaR_matched_higgs = (\n",
    "    object_matching(\n",
    "        bquarks_last,\n",
    "        events.Jet,\n",
    "        dr_min=0.4,\n",
    "    )\n",
    ")\n",
    "print(bquarks_last.pt, bquarks_last.eta, bquarks_last.phi, bquarks_last.mass)\n",
    "print(events.Jet.pt, events.Jet.eta, events.Jet.phi, events.Jet.mass)\n",
    "print(matched_bquarks_lastuarks_higgs)\n",
    "print(matched_jets_higgs)\n",
    "\n",
    "for i in range(len(matched_bquarks_lastuarks_higgs)):\n",
    "    print(\"\\n quark\", bquarks_last[i].pt, bquarks_last[i].eta, bquarks_last[i].phi, bquarks_last[i].mass)\n",
    "    print(\"matched quark\", matched_bquarks_lastuarks_higgs[i].pt, matched_bquarks_lastuarks_higgs[i].eta, matched_bquarks_lastuarks_higgs[i].phi, matched_bquarks_lastuarks_higgs[i].mass)\n",
    "    print(\"jet\", events.Jet[i].pt, events.Jet[i].eta, events.Jet[i].phi, events.Jet[i].mass)\n",
    "    print(\"matched jet\", matched_jets_higgs[i].pt, matched_jets_higgs[i].eta, matched_jets_higgs[i].phi, matched_jets_higgs[i].mass)\n"
   ]
  },
  {
   "cell_type": "code",
   "execution_count": 9,
   "metadata": {},
   "outputs": [
    {
     "name": "stdout",
     "output_type": "stream",
     "text": [
      "[0, 1, 2, 3, 4, 5, 6, 7, 8, 9, 10, ... 60, 61, 62, 63, 64, 65, 66, 67, 68, 69, 70]\n",
      "[[False, False, False, False, False, False, ... True, True, True, True, True, True]]\n",
      "[11, 12, 15, 16, 21, 22, 23, 24, 25, 26, ... 61, 62, 63, 64, 65, 66, 67, 68, 69, 70]\n"
     ]
    }
   ],
   "source": [
    "print(events.GenPart.index[0])\n",
    "events.genpart_mask=events.GenPart.hasFlags([\"isLastCopy\"])\n",
    "print(events.genpart_mask)\n",
    "events.genpart_masked=events.GenPart[events.genpart_mask]\n",
    "print(events.genpart_masked.index[0])"
   ]
  },
  {
   "cell_type": "code",
   "execution_count": null,
   "metadata": {},
   "outputs": [],
   "source": []
  }
 ],
 "metadata": {
  "kernelspec": {
   "display_name": "Python 3",
   "language": "python",
   "name": "python3"
  },
  "language_info": {
   "codemirror_mode": {
    "name": "ipython",
    "version": 3
   },
   "file_extension": ".py",
   "mimetype": "text/x-python",
   "name": "python",
   "nbconvert_exporter": "python",
   "pygments_lexer": "ipython3",
   "version": "3.9.18"
  }
 },
 "nbformat": 4,
 "nbformat_minor": 2
}
