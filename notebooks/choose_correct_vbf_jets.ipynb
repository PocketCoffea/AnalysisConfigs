{
 "cells": [
  {
   "cell_type": "code",
   "execution_count": 1,
   "metadata": {},
   "outputs": [],
   "source": [
    "from coffea.nanoevents import NanoEventsFactory, NanoAODSchema\n",
    "import awkward as ak\n",
    "import matplotlib.pyplot as plt\n",
    "import numba\n",
    "from numba import njit\n",
    "import numpy as np\n",
    "from pocket_coffea.lib.parton_provenance import reverse_index_array\n",
    "from pocket_coffea.lib.deltaR_matching import object_matching\n"
   ]
  },
  {
   "cell_type": "code",
   "execution_count": 201,
   "metadata": {},
   "outputs": [
    {
     "name": "stdout",
     "output_type": "stream",
     "text": [
      "Events read: 10\n"
     ]
    }
   ],
   "source": [
    "j=0\n",
    "filename =\"/pnfs/psi.ch/cms/trivcat/store/mc/Run3Summer22EENanoAODv12/VBFHHto4B_CV_1_C2V_1_C3_1_TuneCP5_13p6TeV_madgraph-pythia8/NANOAODSIM/130X_mcRun3_2022_realistic_postEE_v6-v3/80000/508f1313-c598-48b5-984e-86cd0f02a820.root\"\n",
    "events = NanoEventsFactory.from_root(filename, schemaclass=NanoAODSchema, entry_start=j, entry_stop=j+10).events()\n",
    "print(\"Events read:\", len(events))"
   ]
  },
  {
   "cell_type": "code",
   "execution_count": 202,
   "metadata": {},
   "outputs": [],
   "source": [
    "jet=ak.with_field(\n",
    "    events.Jet, ak.local_index(events.Jet, axis=1), \"index\"\n",
    ")"
   ]
  },
  {
   "cell_type": "code",
   "execution_count": 203,
   "metadata": {},
   "outputs": [
    {
     "name": "stdout",
     "output_type": "stream",
     "text": [
      "[0, 1, 2, 3, 4, 5, 6, 7, 8, 9, 10, ... 35, 36, 37, 38, 39, 40, 41, 42, 43, 44, 45]\n",
      "[0, 1, 2, 3, 4, 5, 6, 7, 8, 9, 10, ... 36, 37, 38, 39, 40, 41, 42, 43, 44, 45, 46]\n",
      "[[5, -5, 5, -5], [5, 5, -5, -5], [5, -5, ... 5, -5], [5, -5, 5, -5], [5, -5, 5, -5]] [[12, 13, 15, 16], [14, 16, 15, 17], [18, ... [14, 16, 12, 13], [14, 15, 16, 17]] [[[], [], [], []], [[], [], [], []], [[], ... [[], [], [], []], [[], [], [], []]] [[True, True, True, True], [True, True, ... True, True], [True, True, True, True]]\n",
      "[[[], [], [], []], [[], [], [], []], [[], ... [[], [], [], []], [[], [], [], []]] [[[], [], [], []], [[], [], [], []], [[], ... [[], [], [], []], [[], [], [], []]] [[[], [], [], []], [[], [], [], []], [[], ... [[], [], [], []], [[], [], [], []]]\n",
      "\n",
      "loop\n",
      "old:  pdg [[5, -5, 5, -5], [5, 5, -5, -5], [5, -5, ... 5, -5], [5, -5, 5, -5], [5, -5, 5, -5]] mother_idx [[12, 13, 15, 16], [14, 16, 15, 17], [18, ... [14, 16, 12, 13], [14, 15, 16, 17]] pt [[16.9, 132, 55, 39.6], [51.2, 101, 102, ... 12.6, 103, 13.7], [261, 65, 217, 13.9]] index [[14, 18, 20, 21], [18, 20, 23, 25], [25, ... [22, 26, 28, 30], [24, 29, 31, 32]] fromHardProcess [[True, True, True, True], [True, True, ... True, True], [True, True, True, True]]\n",
      "mother:  pdg [[5, -5, 5, -5], [5, 5, -5, -5], [5, -5, ... 5, -5], [5, -5, 5, -5], [5, -5, 5, -5]] mother_idx [[10, 10, 11, 11], [12, 13, 12, 13], [15, ... [11, 15, 10, 10], [12, 12, 13, 13]] pt [[23, 148, 89.5, 52.4], [67.8, 134, 107, ... 20.1, 137, 24.4], [303, 77, 217, 15.9]]\n",
      "new:  pdg [[5, -5, 5, -5], [5, 5, -5, -5], [5, -5, ... 5, -5], [5, -5, 5, -5], [5, -5, 5, -5]] mother_idx [[10, 10, 11, 11], [12, 13, 12, 13], [15, ... [11, 15, 10, 10], [12, 12, 13, 13]] pt [[23, 148, 89.5, 52.4], [67.8, 134, 107, ... 20.1, 137, 24.4], [303, 77, 217, 15.9]]\n",
      "[True, True, True, True, True, True, True, True, True, True]\n",
      "\n",
      "loop\n",
      "old:  pdg [[5, -5, 5, -5], [5, 5, -5, -5], [5, -5, ... 5, -5], [5, -5, 5, -5], [5, -5, 5, -5]] mother_idx [[10, 10, 11, 11], [12, 13, 12, 13], [15, ... [11, 15, 10, 10], [12, 12, 13, 13]] pt [[23, 148, 89.5, 52.4], [67.8, 134, 107, ... 20.1, 137, 24.4], [303, 77, 217, 15.9]] index [[12, 13, 15, 16], [14, 16, 15, 17], [18, ... [14, 16, 12, 13], [14, 15, 16, 17]] fromHardProcess [[True, True, True, True], [True, True, ... True, True], [True, True, True, True]]\n",
      "mother:  pdg [[25, 25, 25, 25], [25, 25, 25, 25], [25, ... [25, -5, 25, 25], [25, 25, 25, 25]] mother_idx [[8, 8, 9, 9], [10, 11, 10, 11], [13, 13, ... 15], [9, 11, 8, 8], [10, 10, 11, 11]] pt [[128, 128, 67.8, 67.8], [128, 144, 128, ... 21.8, 130, 130], [364, 364, 230, 230]]\n",
      "new:  pdg [[5, -5, 5, -5], [5, 5, -5, -5], [5, -5, ... 5, -5], [5, -5, 5, -5], [5, -5, 5, -5]] mother_idx [[10, 10, 11, 11], [12, 13, 12, 13], [15, ... [11, 11, 10, 10], [12, 12, 13, 13]] pt [[23, 148, 89.5, 52.4], [67.8, 134, 107, ... 21.8, 137, 24.4], [303, 77, 217, 15.9]]\n",
      "[False, False, False, True, False, False, False, False, True, False]\n",
      "\n",
      "loop\n",
      "old:  pdg [[5, -5, 5, -5], [5, 5, -5, -5], [5, -5, ... 5, -5], [5, -5, 5, -5], [5, -5, 5, -5]] mother_idx [[10, 10, 11, 11], [12, 13, 12, 13], [15, ... [11, 11, 10, 10], [12, 12, 13, 13]] pt [[23, 148, 89.5, 52.4], [67.8, 134, 107, ... 21.8, 137, 24.4], [303, 77, 217, 15.9]] index [[12, 13, 15, 16], [14, 16, 15, 17], [18, ... [14, 15, 12, 13], [14, 15, 16, 17]] fromHardProcess [[True, True, True, True], [True, True, ... True, True], [True, True, True, True]]\n",
      "mother:  pdg [[25, 25, 25, 25], [25, 25, 25, 25], [25, ... [25, 25, 25, 25], [25, 25, 25, 25]] mother_idx [[8, 8, 9, 9], [10, 11, 10, 11], [13, 13, ... 15], [9, 9, 8, 8], [10, 10, 11, 11]] pt [[128, 128, 67.8, 67.8], [128, 144, 128, ... 90.5, 130, 130], [364, 364, 230, 230]]\n",
      "new:  pdg [[5, -5, 5, -5], [5, 5, -5, -5], [5, -5, ... 5, -5], [5, -5, 5, -5], [5, -5, 5, -5]] mother_idx [[10, 10, 11, 11], [12, 13, 12, 13], [15, ... [11, 11, 10, 10], [12, 12, 13, 13]] pt [[23, 148, 89.5, 52.4], [67.8, 134, 107, ... 21.8, 137, 24.4], [303, 77, 217, 15.9]]\n",
      "[False, False, False, False, False, False, False, False, False, False]\n",
      "[[5, -5, 5, -5], [5, 5, -5, -5], [5, -5, ... 5, -5], [5, -5, 5, -5], [5, -5, 5, -5]] [[10, 10, 11, 11], [12, 13, 12, 13], [15, ... [11, 11, 10, 10], [12, 12, 13, 13]] [[23, 148, 89.5, 52.4], [67.8, 134, 107, ... 21.8, 137, 24.4], [303, 77, 217, 15.9]]\n",
      "[[10, 10, 11, 11], [12, 13, 12, 13], [15, ... [11, 11, 10, 10], [12, 12, 13, 13]] 10\n",
      "[[12, 13, 15, 16], [14, 16, 15, 17], [18, ... [14, 15, 12, 13], [14, 15, 16, 17]] 10\n",
      "[[5, -5, 5, -5], [5, 5, -5, -5], [5, -5, ... 5, -5], [5, -5, 5, -5], [5, -5, 5, -5]] [[14, 18, 20, 21], [18, 20, 23, 25], [25, ... [22, 26, 28, 30], [24, 29, 31, 32]] [[16.9, 132, 55, 39.6], [51.2, 101, 102, ... 12.6, 103, 13.7], [261, 65, 217, 13.9]] 10 [[True, True, True, True], [True, True, ... True, True], [True, True, True, True]]\n"
     ]
    }
   ],
   "source": [
    "# add column with the index\n",
    "events.GenPart = ak.with_field(\n",
    "    events.GenPart, ak.local_index(events.GenPart, axis=1), \"index\"\n",
    ")\n",
    "print(events.GenPart.index[0])\n",
    "print(events.GenPart.index[1])\n",
    "# get last bquark copy\n",
    "isB = abs(events.GenPart.pdgId) == 5\n",
    "isLast = events.GenPart.hasFlags([\"isLastCopy\"])\n",
    "isHard = events.GenPart.hasFlags([\"fromHardProcess\"])\n",
    "bquarks_last = events.GenPart[isB & isLast & isHard]\n",
    "\n",
    "print(bquarks_last.pdgId, bquarks_last.genPartIdxMother, bquarks_last.childrenIdxG, bquarks_last.hasFlags([\"isLastCopy\"]))\n",
    "bquark_last_children=bquarks_last.children\n",
    "print(bquark_last_children.pdgId, bquark_last_children.genPartIdxMother, bquark_last_children.hasFlags([\"isLastCopy\"]))\n",
    "\n",
    "b_quarks = bquarks_last\n",
    "while True:\n",
    "    print(\"\\nloop\")\n",
    "    b_mother = events.GenPart[b_quarks.genPartIdxMother]\n",
    "    mask_mother = (abs(b_mother.pdgId) == 5) | ((b_mother.pdgId) == 25)\n",
    "\n",
    "    bquarks_last = bquarks_last[mask_mother]\n",
    "    b_quarks = b_quarks[mask_mother]\n",
    "    b_mother = b_mother[mask_mother]\n",
    "    print(\n",
    "        \"old: \",\n",
    "        \"pdg\",\n",
    "        b_quarks.pdgId,\n",
    "        \"mother_idx\",\n",
    "        b_quarks.genPartIdxMother,\n",
    "        \"pt\",\n",
    "        b_quarks.pt,\n",
    "        \"index\",\n",
    "        b_quarks.index,\n",
    "        \"fromHardProcess\",\n",
    "        b_quarks.hasFlags([\"fromHardProcess\"]),\n",
    "    )\n",
    "    print(\n",
    "        \"mother: \",\n",
    "        \"pdg\",\n",
    "        b_mother.pdgId,\n",
    "        \"mother_idx\",\n",
    "        b_mother.genPartIdxMother,\n",
    "        \"pt\",\n",
    "        b_mother.pt,\n",
    "    )\n",
    "    # break\n",
    "    b_quarks = ak.where(abs(b_mother.pdgId) == 5, b_mother, b_quarks)\n",
    "    print(\n",
    "        \"new: \",\n",
    "        \"pdg\",\n",
    "        b_quarks.pdgId,\n",
    "        \"mother_idx\",\n",
    "        b_quarks.genPartIdxMother,\n",
    "        \"pt\",\n",
    "        b_quarks.pt,\n",
    "    )\n",
    "\n",
    "    print(ak.any(abs(b_mother.pdgId) != 25, axis=1))\n",
    "    if ak.all(abs(b_mother.pdgId) == 25):\n",
    "        break\n",
    "\n",
    "print(b_quarks.pdgId, b_quarks.genPartIdxMother, b_quarks.pt)\n",
    "print(b_quarks.genPartIdxMother, len(b_quarks.genPartIdxMother))\n",
    "print(b_quarks.index, len(b_quarks.index))\n",
    "print(bquarks_last.pdgId, bquarks_last.index,  bquarks_last.pt, len(bquarks_last.index), bquarks_last.hasFlags([\"fromHardProcess\"]))"
   ]
  },
  {
   "cell_type": "code",
   "execution_count": 204,
   "metadata": {},
   "outputs": [],
   "source": [
    "matched_bquarks_higgs, matched_jets_higgs, deltaR_matched_higgs = (\n",
    "    object_matching(\n",
    "        bquarks_last,\n",
    "        jet,\n",
    "        dr_min=0.4,\n",
    "    )\n",
    ")"
   ]
  },
  {
   "cell_type": "code",
   "execution_count": 205,
   "metadata": {},
   "outputs": [
    {
     "name": "stdout",
     "output_type": "stream",
     "text": [
      "[[None, None, 20, None, 21, None], [20, ... [24, None, 31, None, 29, None, None]] [[None, None, 55, None, 39.6, None], ... [261, None, 217, None, 65, None, None]] [[None, None, 5, None, -5, None], [5, -5, ... [5, None, 5, None, -5, None, None]]\n",
      "[[None, None, 2, None, 4, None], [0, 1, ... None], [0, None, 2, None, 4, None, None]] [[None, None, 37.3, None, 28.4, None], ... 270, None, 193, None, 62.8, None, None]]\n",
      "[[None, None, 0.0962, None, 0.0598, None, ... 0.00319, None, 0.0236, None, None]]\n"
     ]
    }
   ],
   "source": [
    "print(matched_bquarks_higgs.index, matched_bquarks_higgs.pt, matched_bquarks_higgs.pdgId)\n",
    "print(matched_jets_higgs.index, matched_jets_higgs.pt)\n",
    "print(deltaR_matched_higgs)"
   ]
  },
  {
   "cell_type": "code",
   "execution_count": 206,
   "metadata": {},
   "outputs": [
    {
     "name": "stdout",
     "output_type": "stream",
     "text": [
      "[[None, None, 2, None, 4, None], [0, 1, ... None], [0, None, 2, None, 4, None, None]]\n",
      "[[False, False, True, False, True, False, ... True, False, True, False, False]]\n",
      "[[0, 1, 3, 5], [3, 4], [1, 4], [0, 2], ... 5, 6, 7], [0, 2, 5, 6, 7], [1, 3, 5, 6]] [[73.5, 66.4, 28.5, 15.5], [41.2, 19.8], ... 17.5, 17.1], [210, 138, 49.2, 26.4]]\n"
     ]
    }
   ],
   "source": [
    "print(matched_jets_higgs.index)\n",
    "print(~ak.is_none(matched_jets_higgs.index, axis=1))\n",
    "\n",
    "\n",
    "jets_no_higgs = jet[ak.is_none(matched_jets_higgs.index, axis=1)]\n",
    "jets_no_higgs=ak.pad_none(jets_no_higgs, 2, axis=1)\n",
    "print(jets_no_higgs.index, jets_no_higgs.pt)\n"
   ]
  },
  {
   "cell_type": "markdown",
   "metadata": {},
   "source": [
    "# get the jets not from higgs using numba"
   ]
  },
  {
   "cell_type": "code",
   "execution_count": 207,
   "metadata": {},
   "outputs": [],
   "source": [
    "@njit\n",
    "def get_jets_no_higgs(jets_index_all, jets_from_higgs_idx):\n",
    "    # jets_no_higgs_idx = np.zeros(jet_offset_no_higgs[-1], dtype=\"int64\")-1\n",
    "    jets_no_higgs_idx = jets_index_all\n",
    "    print(len(jets_no_higgs_idx), jets_no_higgs_idx)\n",
    "\n",
    "    # if jets_from_higgs_idx put -1\n",
    "    for ijet_higgs in jets_from_higgs_idx:\n",
    "        jets_no_higgs_idx[ijet_higgs] = -1\n",
    "\n",
    "    return jets_no_higgs_idx"
   ]
  },
  {
   "cell_type": "code",
   "execution_count": 208,
   "metadata": {},
   "outputs": [
    {
     "name": "stdout",
     "output_type": "stream",
     "text": [
      "[[2, 4], [0, 1], [0, 2], [1, 3], [0, 3], [0, 1], [0, 2], [0, 1], [1, 3], [0, 2]]\n",
      "[ 0  6 11 16 21 27 33 36 44 52 59]\n",
      "[-2  4  9 14 19 25 31 34 42 50 57]\n",
      "[[0, 1, 2, 3, 4, 5], [0, 1, 2, 3, 4], ... 3, 4, 5, 6, 7], [0, 1, 2, 3, 4, 5, 6]]\n",
      "[ 0  1  2  3  4  5  6  7  8  9 10 11 12 13 14 15 16 17 18 19 20 21 22 23\n",
      " 24 25 26 27 28 29 30 31 32 33 34 35 36 37 38 39 40 41 42 43 44 45 46 47\n",
      " 48 49 50 51 52 53 54 55 56 57 58]\n",
      "[ 2  4  6  7 11 13 17 19 21 24 27 28 33 35 36 37 45 47 52 54]\n",
      "59 [ 0  1  2  3  4  5  6  7  8  9 10 11 12 13 14 15 16 17 18 19 20 21 22 23\n",
      " 24 25 26 27 28 29 30 31 32 33 34 35 36 37 38 39 40 41 42 43 44 45 46 47\n",
      " 48 49 50 51 52 53 54 55 56 57 58]\n",
      "[ 0  1 -1  3 -1  5 -1 -1  8  9 10 -1 12 -1 14 15 16 -1 18 -1 20 -1 22 23\n",
      " -1 25 26 -1 -1 29 30 31 32 -1 34 -1 -1 -1 38 39 40 41 42 43 44 -1 46 -1\n",
      " 48 49 50 51 -1 53 -1 55 56 57 58]\n",
      "[ 6 11 16 21 27 33 36 44 52 59]\n",
      "[[0, 1, -1, 3, -1, 5], [-7, -7, 2, 3, 4], ... 4, 5, 6, 7], [-53, 1, -53, 3, 4, 5, 6]]\n",
      "[[0, 1, 3, 5], [2, 3, 4], [1, 3, 4], [0, ... 7], [0, 2, 4, 5, 6, 7], [1, 3, 4, 5, 6]] [[73.5, 66.4, 28.5, 15.5], [53.5, 41.2, ... 17.1], [210, 138, 62.8, 49.2, 26.4]]\n"
     ]
    }
   ],
   "source": [
    "num=2\n",
    "matched_jet_higgs_idx_not_none = matched_jets_higgs.index[~ak.is_none(matched_jets_higgs.index, axis=1)][:,:num]\n",
    "\n",
    "jet_flat=ak.flatten(jet)\n",
    "jet_offsets = np.concatenate([[0],np.cumsum(ak.to_numpy(ak.num(jet, axis=1), allow_missing=True))])\n",
    "jet_offset_no_higgs = jet_offsets-num\n",
    "num_jets=ak.num(jet, axis=1)\n",
    "\n",
    "local_index_all = ak.local_index(jet, axis=1)\n",
    "jets_index_all = ak.to_numpy(ak.flatten(local_index_all+jet_offsets[:-1]), allow_missing=True)\n",
    "jets_from_higgs_idx=ak.to_numpy(ak.flatten(matched_jet_higgs_idx_not_none+jet_offsets[:-1]), allow_missing=False)\n",
    "\n",
    "nevents=len(jet)\n",
    "\n",
    "print(matched_jet_higgs_idx_not_none)\n",
    "print(jet_offsets)\n",
    "print(jet_offset_no_higgs)\n",
    "print(local_index_all)\n",
    "print(jets_index_all)\n",
    "print(jets_from_higgs_idx)\n",
    "\n",
    "jets_no_higgs_idx = get_jets_no_higgs(jets_index_all, jets_from_higgs_idx)\n",
    "print(jets_no_higgs_idx)\n",
    "print(jet_offsets[1:])\n",
    "jets_no_higgs_idx_unflat = ak.unflatten(jets_no_higgs_idx, num_jets)-jet_offsets[:-1]\n",
    "print(jets_no_higgs_idx_unflat)\n",
    "\n",
    "jet_no_higgs_numba=jet[jets_no_higgs_idx_unflat>=0]\n",
    "print(jet_no_higgs_numba.index, jet_no_higgs_numba.pt)"
   ]
  },
  {
   "cell_type": "code",
   "execution_count": 209,
   "metadata": {},
   "outputs": [],
   "source": [
    "# raise SystemExit\n",
    "# matched_jet_higgs_idx_not_none = matched_jets_higgs.index[~ak.is_none(matched_jets_higgs.index, axis=1)]\n",
    "# print(matched_jet_higgs_idx_not_none[:,0], type(matched_jet_higgs_idx_not_none[:,0]))\n",
    "# print( len(jet), ak.local_index(jet, axis=0))\n",
    "# a=np.array([[0,1],[1,0], [0,1], [1,0], [0,1], [0,1], [1,0], [0,1], [1,0], [0,1]])\n",
    "# print(type(a), a)\n",
    "# b=ak.to_numpy( matched_jet_higgs_idx_not_none[:,:2])\n",
    "# print(b, type(b))\n",
    "# # b=( matched_jet_higgs_idx_not_none[:,0])\n",
    "# idx_none=ak.where(ak.ones_like(jet.pt, dtype=np.int32)==1, None, None)\n",
    "# print(idx_none)\n",
    "# #where the index matched_jet_higgs_idx_not_none put the index of the jet otherwise put None\n",
    "# print(idx_none[matched_jet_higgs_idx_not_none])\n",
    "\n",
    "# #set\n",
    "# jets_from_higgs_to_none = jet\n",
    "# jets_from_higgs_to_none[matched_jet_higgs_idx_not_none] = None\n",
    "\n",
    "\n",
    "# # jets_no_higgs=jet[b]\n",
    "# print(jets_no_higgs.index, jets_no_higgs.pt)"
   ]
  },
  {
   "cell_type": "markdown",
   "metadata": {},
   "source": [
    "choose vbf jets as the two jets with the highest pt that are not from higgs decay"
   ]
  },
  {
   "cell_type": "code",
   "execution_count": 210,
   "metadata": {},
   "outputs": [
    {
     "name": "stdout",
     "output_type": "stream",
     "text": [
      "[[0, 1], [3, 4], [1, 4], [0, 2], [1, 2, ... 3, 4], [1, None], [2, 3], [0, 2], [1, 3]] [[73.5, 66.4], [41.2, 19.8], [250, 39.8], ... [60.7, 48.1], [114, 67.8], [210, 138]]\n"
     ]
    }
   ],
   "source": [
    "vbf_jets_pt =jets_no_higgs[:,:2]\n",
    "print(vbf_jets_pt.index, vbf_jets_pt.pt)"
   ]
  },
  {
   "cell_type": "markdown",
   "metadata": {},
   "source": [
    "choose higgs jets as the two jets with the highest mjj that are not from higgs decay"
   ]
  },
  {
   "cell_type": "code",
   "execution_count": 211,
   "metadata": {},
   "outputs": [
    {
     "name": "stdout",
     "output_type": "stream",
     "text": [
      "[[(0, 1), (0, 2), (0, 3), (1, 2), (1, 3), (2, ... ), (0, 3), (1, 2), (1, 3), (2, 3)]]\n",
      "[[(Jet, Jet), (Jet, Jet), (Jet, Jet), (Jet, ... Jet, Jet), (Jet, Jet), (Jet, Jet)]]\n",
      "(Jet, Jet)\n",
      "0 1\n"
     ]
    }
   ],
   "source": [
    "jet_combinations_idx = ak.argcombinations(jets_no_higgs, 2)\n",
    "print(jet_combinations_idx)\n",
    "jet_combinations=ak.combinations(jets_no_higgs, 2)\n",
    "print(jet_combinations)\n",
    "print(jet_combinations[0][0])\n",
    "print(jet_combinations[0,0][\"0\"].index, jet_combinations[0,0][\"1\"].index)"
   ]
  },
  {
   "cell_type": "code",
   "execution_count": 212,
   "metadata": {},
   "outputs": [
    {
     "name": "stdout",
     "output_type": "stream",
     "text": [
      "[[681, 228, 1.63e+03, 78.8, 168, 212], ... [987, 1.34e+03, 82.2, 162, 561, 758]]\n"
     ]
    }
   ],
   "source": [
    "jet_combinations_mass = (jet_combinations[\"0\"] + jet_combinations[\"1\"]).mass\n",
    "print(jet_combinations_mass)"
   ]
  },
  {
   "cell_type": "code",
   "execution_count": 213,
   "metadata": {},
   "outputs": [
    {
     "name": "stdout",
     "output_type": "stream",
     "text": [
      "[[1.63e+03, 681, 228, 212, 168, 78.8], ... [1.34e+03, 987, 758, 561, 162, 82.2]]\n",
      "[[2, 0, 1, 5, 4, 3], [0], [0], [0], ... 4, 2, 5, 9, 7, 3, 1, 8], [1, 0, 5, 4, 3, 2]]\n"
     ]
    }
   ],
   "source": [
    "jet_combinations_mass_ordered = jet_combinations_mass[ak.argsort(jet_combinations_mass, axis=1, ascending=False)]\n",
    "print(jet_combinations_mass_ordered)\n",
    "jet_combinations_mass_ordered_idx = ak.argsort(jet_combinations_mass, axis=1, ascending=False)\n",
    "print(jet_combinations_mass_ordered_idx)"
   ]
  },
  {
   "cell_type": "code",
   "execution_count": 214,
   "metadata": {},
   "outputs": [
    {
     "name": "stdout",
     "output_type": "stream",
     "text": [
      "[2 0 0 0 0 0 0 0 0 1]\n",
      "[[(Jet, Jet), (Jet, Jet), (Jet, Jet), (Jet, ... Jet, Jet), (Jet, Jet), (Jet, Jet)]]\n",
      "[0, 1, 2, 3, 4, 5, 6, 7, 8, 9]\n",
      "[0, 3, 1, 0, 1, 3, 1, 2, 0, 1] [5, 4, 4, 2, 2, 4, None, 3, 2, 5]\n",
      "[73.5, 41.2, 250, 72.4, 95.2, 48.5, 41.8, 60.7, 114, 210] [15.5, 19.8, 39.8, 39.5, 61.3, 20.9, None, 48.1, 67.8, 49.2]\n"
     ]
    }
   ],
   "source": [
    "jet_combinations_mass_max_idx = ak.to_numpy(jet_combinations_mass_ordered_idx[:,0])\n",
    "print(jet_combinations_mass_max_idx)\n",
    "print(jet_combinations)\n",
    "print(ak.local_index(jet_combinations, axis=0))\n",
    "jets_max_mass=jet_combinations[ak.local_index(jet_combinations, axis=0), jet_combinations_mass_max_idx]\n",
    "print(jets_max_mass[\"0\"].index, jets_max_mass[\"1\"].index)\n",
    "print(jets_max_mass[\"0\"].pt, jets_max_mass[\"1\"].pt)"
   ]
  },
  {
   "cell_type": "code",
   "execution_count": 220,
   "metadata": {},
   "outputs": [
    {
     "name": "stdout",
     "output_type": "stream",
     "text": [
      "[[0, 1, 3, 5], [3, 4], [1, 4], [0, 2], ... 5, 6, 7], [0, 2, 5, 6, 7], [1, 3, 5, 6]]\n",
      "[[0, 0, 0, 1, 1, 3], [3], [1], [0], ... 0, 0, 2, 2, 2, 5, 5, 6], [1, 1, 1, 3, 3, 5]]\n",
      "[[1, 3, 5, 3, 5, 5], [4], [4], [2], ... 6, 7, 5, 6, 7, 6, 7, 7], [3, 5, 6, 5, 6, 6]]\n",
      "[2 0 0 0 0 0 0 0 0 1]\n",
      "[0, 3, 1, 0, 1, 3, 1, 2, 0, 1]\n",
      "[5, 4, 4, 2, 2, 4, None, 3, 2, 5]\n"
     ]
    }
   ],
   "source": [
    "print(jets_no_higgs.index)\n",
    "print(jet_combinations[\"0\"].index)\n",
    "print(jet_combinations[\"1\"].index)\n",
    "print(jet_combinations_mass_max_idx)\n",
    "print(jets_max_mass[\"0\"].index)\n",
    "print(jets_max_mass[\"1\"].index)"
   ]
  },
  {
   "cell_type": "code",
   "execution_count": 224,
   "metadata": {},
   "outputs": [
    {
     "name": "stdout",
     "output_type": "stream",
     "text": [
      "[0 3 1 0 1 3 1 2 0 1] [5 4 4 2 2 4 -- 3 2 5]\n",
      "[5, 4, 4, 2, 2, 4, None, 3, 2, 5]\n"
     ]
    },
    {
     "ename": "ValueError",
     "evalue": "cannot mix missing values in slice with NumPy-style advanced indexing\n\n(https://github.com/scikit-hep/awkward-1.0/blob/1.10.3/src/libawkward/Content.cpp#L1662)",
     "output_type": "error",
     "traceback": [
      "\u001b[0;31m---------------------------------------------------------------------------\u001b[0m",
      "\u001b[0;31mValueError\u001b[0m                                Traceback (most recent call last)",
      "Cell \u001b[0;32mIn[224], line 6\u001b[0m\n\u001b[1;32m      4\u001b[0m \u001b[38;5;28mprint\u001b[39m(jets_max_mass[\u001b[38;5;124m\"\u001b[39m\u001b[38;5;124m1\u001b[39m\u001b[38;5;124m\"\u001b[39m]\u001b[38;5;241m.\u001b[39mindex)\n\u001b[1;32m      5\u001b[0m vbf_jets_mass_max_0 \u001b[38;5;241m=\u001b[39m ak\u001b[38;5;241m.\u001b[39munflatten(jet[ak\u001b[38;5;241m.\u001b[39mlocal_index(jets_no_higgs, axis\u001b[38;5;241m=\u001b[39m\u001b[38;5;241m0\u001b[39m), idx_0], ak\u001b[38;5;241m.\u001b[39mones_like(jets_max_mass[\u001b[38;5;124m\"\u001b[39m\u001b[38;5;124m0\u001b[39m\u001b[38;5;124m\"\u001b[39m]\u001b[38;5;241m.\u001b[39mindex))\n\u001b[0;32m----> 6\u001b[0m vbf_jets_mass_max_1 \u001b[38;5;241m=\u001b[39m ak\u001b[38;5;241m.\u001b[39munflatten(\u001b[43mjet\u001b[49m\u001b[43m[\u001b[49m\u001b[43mak\u001b[49m\u001b[38;5;241;43m.\u001b[39;49m\u001b[43mlocal_index\u001b[49m\u001b[43m(\u001b[49m\u001b[43mjets_no_higgs\u001b[49m\u001b[43m,\u001b[49m\u001b[43m \u001b[49m\u001b[43maxis\u001b[49m\u001b[38;5;241;43m=\u001b[39;49m\u001b[38;5;241;43m0\u001b[39;49m\u001b[43m)\u001b[49m\u001b[43m,\u001b[49m\u001b[43m \u001b[49m\u001b[43midx_1\u001b[49m\u001b[43m]\u001b[49m, ak\u001b[38;5;241m.\u001b[39mones_like(jets_max_mass[\u001b[38;5;124m\"\u001b[39m\u001b[38;5;124m1\u001b[39m\u001b[38;5;124m\"\u001b[39m]\u001b[38;5;241m.\u001b[39mindex))\n\u001b[1;32m      7\u001b[0m \u001b[38;5;28mprint\u001b[39m(vbf_jets_mass_max_0\u001b[38;5;241m.\u001b[39mindex, vbf_jets_mass_max_0\u001b[38;5;241m.\u001b[39mpt, vbf_jets_mass_max_0)\n\u001b[1;32m      8\u001b[0m \u001b[38;5;28mprint\u001b[39m(vbf_jets_mass_max_1\u001b[38;5;241m.\u001b[39mindex, vbf_jets_mass_max_1\u001b[38;5;241m.\u001b[39mpt, vbf_jets_mass_max_1)\n",
      "File \u001b[0;32m/work/mmalucch/micromamba/envs/pocket-coffea/lib/python3.9/site-packages/awkward/highlevel.py:991\u001b[0m, in \u001b[0;36mArray.__getitem__\u001b[0;34m(self, where)\u001b[0m\n\u001b[1;32m    579\u001b[0m \u001b[38;5;250m\u001b[39m\u001b[38;5;124;03m\"\"\"\u001b[39;00m\n\u001b[1;32m    580\u001b[0m \u001b[38;5;124;03mArgs:\u001b[39;00m\n\u001b[1;32m    581\u001b[0m \u001b[38;5;124;03m    where (many types supported; see below): Index of positions to\u001b[39;00m\n\u001b[0;32m   (...)\u001b[0m\n\u001b[1;32m    988\u001b[0m \u001b[38;5;124;03mhave the same dimension as the array being indexed.\u001b[39;00m\n\u001b[1;32m    989\u001b[0m \u001b[38;5;124;03m\"\"\"\u001b[39;00m\n\u001b[1;32m    990\u001b[0m \u001b[38;5;28;01mif\u001b[39;00m \u001b[38;5;129;01mnot\u001b[39;00m \u001b[38;5;28mhasattr\u001b[39m(\u001b[38;5;28mself\u001b[39m, \u001b[38;5;124m\"\u001b[39m\u001b[38;5;124m_tracers\u001b[39m\u001b[38;5;124m\"\u001b[39m):\n\u001b[0;32m--> 991\u001b[0m     tmp \u001b[38;5;241m=\u001b[39m ak\u001b[38;5;241m.\u001b[39m_util\u001b[38;5;241m.\u001b[39mwrap(\u001b[38;5;28;43mself\u001b[39;49m\u001b[38;5;241;43m.\u001b[39;49m\u001b[43mlayout\u001b[49m\u001b[43m[\u001b[49m\u001b[43mwhere\u001b[49m\u001b[43m]\u001b[49m, \u001b[38;5;28mself\u001b[39m\u001b[38;5;241m.\u001b[39m_behavior)\n\u001b[1;32m    992\u001b[0m \u001b[38;5;28;01melse\u001b[39;00m:\n\u001b[1;32m    993\u001b[0m     tmp \u001b[38;5;241m=\u001b[39m ak\u001b[38;5;241m.\u001b[39m_connect\u001b[38;5;241m.\u001b[39m_jax\u001b[38;5;241m.\u001b[39mjax_utils\u001b[38;5;241m.\u001b[39m_jaxtracers_getitem(\u001b[38;5;28mself\u001b[39m, where)\n",
      "\u001b[0;31mValueError\u001b[0m: cannot mix missing values in slice with NumPy-style advanced indexing\n\n(https://github.com/scikit-hep/awkward-1.0/blob/1.10.3/src/libawkward/Content.cpp#L1662)"
     ]
    }
   ],
   "source": [
    "idx_0=ak.to_numpy(jets_max_mass[\"0\"].index)\n",
    "idx_1=ak.to_numpy(jets_max_mass[\"1\"].index)\n",
    "print(idx_0, idx_1)\n",
    "print(jets_max_mass[\"1\"].index)\n",
    "vbf_jets_mass_max_0 = ak.unflatten(jet[ak.local_index(jets_no_higgs, axis=0), idx_0], ak.ones_like(jets_max_mass[\"0\"].index))\n",
    "vbf_jets_mass_max_1 = ak.unflatten(jet[ak.local_index(jets_no_higgs, axis=0), idx_1], ak.ones_like(jets_max_mass[\"1\"].index))\n",
    "print(vbf_jets_mass_max_0.index, vbf_jets_mass_max_0.pt, vbf_jets_mass_max_0)\n",
    "print(vbf_jets_mass_max_1.index, vbf_jets_mass_max_1.pt, vbf_jets_mass_max_1)\n",
    "vbf_jets_mass_max = ak.concatenate([vbf_jets_mass_max_0, vbf_jets_mass_max_1], axis=1)\n",
    "print(vbf_jets_mass_max.index, vbf_jets_mass_max.pt)"
   ]
  },
  {
   "cell_type": "markdown",
   "metadata": {},
   "source": []
  },
  {
   "cell_type": "code",
   "execution_count": null,
   "metadata": {},
   "outputs": [
    {
     "name": "stdout",
     "output_type": "stream",
     "text": [
      "[[1, 4], [2, 5], [3, 6]]\n"
     ]
    }
   ],
   "source": [
    "a=ak.Array([1,2,3])\n",
    "b=ak.Array([4,5,6])\n",
    "a_unflatten=ak.singletons(a)\n",
    "b_unflatten=ak.singletons(b)\n",
    "c_list=[a_unflatten, b_unflatten]\n",
    "c_concat=ak.concatenate(c_list, axis=1)\n",
    "print(c_concat)"
   ]
  },
  {
   "cell_type": "code",
   "execution_count": null,
   "metadata": {},
   "outputs": [],
   "source": []
  }
 ],
 "metadata": {
  "kernelspec": {
   "display_name": "Python 3",
   "language": "python",
   "name": "python3"
  },
  "language_info": {
   "codemirror_mode": {
    "name": "ipython",
    "version": 3
   },
   "file_extension": ".py",
   "mimetype": "text/x-python",
   "name": "python",
   "nbconvert_exporter": "python",
   "pygments_lexer": "ipython3",
   "version": "3.9.18"
  }
 },
 "nbformat": 4,
 "nbformat_minor": 2
}
